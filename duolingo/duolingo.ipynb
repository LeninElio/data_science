{
 "cells": [
  {
   "cell_type": "code",
   "execution_count": null,
   "id": "initial_id",
   "metadata": {
    "collapsed": true
   },
   "outputs": [],
   "source": [
    "import pandas as pd\n",
    "import ast"
   ]
  },
  {
   "cell_type": "code",
   "execution_count": null,
   "outputs": [],
   "source": [
    "df = pd.read_csv('./data/duo_info.csv')\n",
    "df"
   ],
   "metadata": {
    "collapsed": false
   },
   "id": "26e461e481fd542f"
  },
  {
   "cell_type": "code",
   "execution_count": null,
   "outputs": [],
   "source": [
    "df['courses'] = df['courses'].apply(ast.literal_eval)\n",
    "df2 = df.explode('courses')\n",
    "df2"
   ],
   "metadata": {
    "collapsed": false
   },
   "id": "3d76f51500790ce8"
  },
  {
   "cell_type": "code",
   "execution_count": null,
   "outputs": [],
   "source": [
    "df3 = pd.concat([df2.drop(['courses'], axis=1), df2['courses'].apply(pd.Series).add_prefix('course_')], axis=1).reset_index(drop=True)\n",
    "df3"
   ],
   "metadata": {
    "collapsed": false
   },
   "id": "66ed8be28c0f7bc0"
  },
  {
   "cell_type": "code",
   "execution_count": null,
   "outputs": [],
   "source": [
    "df3['course_id']"
   ],
   "metadata": {
    "collapsed": false
   },
   "id": "ff81dee13727b99c"
  },
  {
   "cell_type": "code",
   "execution_count": null,
   "outputs": [],
   "source": [
    "df3['course_id'].value_counts()"
   ],
   "metadata": {
    "collapsed": false
   },
   "id": "5c36f1bc2977a02f"
  },
  {
   "cell_type": "code",
   "execution_count": null,
   "outputs": [],
   "source": [],
   "metadata": {
    "collapsed": false
   },
   "id": "8f52537ddcf43478"
  }
 ],
 "metadata": {
  "kernelspec": {
   "display_name": "Python 3",
   "language": "python",
   "name": "python3"
  },
  "language_info": {
   "codemirror_mode": {
    "name": "ipython",
    "version": 2
   },
   "file_extension": ".py",
   "mimetype": "text/x-python",
   "name": "python",
   "nbconvert_exporter": "python",
   "pygments_lexer": "ipython2",
   "version": "2.7.6"
  }
 },
 "nbformat": 4,
 "nbformat_minor": 5
}
