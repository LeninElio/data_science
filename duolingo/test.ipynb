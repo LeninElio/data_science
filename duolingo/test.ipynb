{
 "cells": [
  {
   "cell_type": "code",
   "execution_count": 2,
   "outputs": [],
   "source": [
    "import pandas as pd"
   ],
   "metadata": {
    "collapsed": false,
    "ExecuteTime": {
     "end_time": "2023-08-27T13:50:20.954268700Z",
     "start_time": "2023-08-27T13:50:20.892349500Z"
    }
   },
   "id": "c713db49e496d543"
  },
  {
   "cell_type": "code",
   "execution_count": 12,
   "id": "initial_id",
   "metadata": {
    "collapsed": true,
    "ExecuteTime": {
     "end_time": "2023-08-27T13:57:39.481130800Z",
     "start_time": "2023-08-27T13:57:39.445893900Z"
    }
   },
   "outputs": [],
   "source": [
    "diccionario = [\n",
    "    {'nombre': 'Carlos', 'edad': 22, 'cursos': [{'nombre': 'Python', 'promedio': 10}, {'nombre':'Django', 'promedio': 9}, {'nombre':'JavaScript', 'promedio': 9.5}], 'id': 10},\n",
    "    {'nombre': 'Juan', 'edad': 21, 'cursos': [{'nombre': 'Python', 'promedio': 8}, {'nombre':'Django', 'promedio': 7}, {'nombre':'JavaScript', 'promedio': 6.5}], 'id': 11},\n",
    "]"
   ]
  },
  {
   "cell_type": "code",
   "execution_count": 13,
   "outputs": [
    {
     "data": {
      "text/plain": "   nombre  edad                                             cursos  id\n0  Carlos    22  [{'nombre': 'Python', 'promedio': 10}, {'nombr...  10\n1    Juan    21  [{'nombre': 'Python', 'promedio': 8}, {'nombre...  11",
      "text/html": "<div>\n<style scoped>\n    .dataframe tbody tr th:only-of-type {\n        vertical-align: middle;\n    }\n\n    .dataframe tbody tr th {\n        vertical-align: top;\n    }\n\n    .dataframe thead th {\n        text-align: right;\n    }\n</style>\n<table border=\"1\" class=\"dataframe\">\n  <thead>\n    <tr style=\"text-align: right;\">\n      <th></th>\n      <th>nombre</th>\n      <th>edad</th>\n      <th>cursos</th>\n      <th>id</th>\n    </tr>\n  </thead>\n  <tbody>\n    <tr>\n      <th>0</th>\n      <td>Carlos</td>\n      <td>22</td>\n      <td>[{'nombre': 'Python', 'promedio': 10}, {'nombr...</td>\n      <td>10</td>\n    </tr>\n    <tr>\n      <th>1</th>\n      <td>Juan</td>\n      <td>21</td>\n      <td>[{'nombre': 'Python', 'promedio': 8}, {'nombre...</td>\n      <td>11</td>\n    </tr>\n  </tbody>\n</table>\n</div>"
     },
     "execution_count": 13,
     "metadata": {},
     "output_type": "execute_result"
    }
   ],
   "source": [
    "df = pd.DataFrame(diccionario)\n",
    "df"
   ],
   "metadata": {
    "collapsed": false,
    "ExecuteTime": {
     "end_time": "2023-08-27T13:57:39.937457Z",
     "start_time": "2023-08-27T13:57:39.905376400Z"
    }
   },
   "id": "6b844ad28906898f"
  },
  {
   "cell_type": "code",
   "execution_count": 14,
   "outputs": [
    {
     "data": {
      "text/plain": "   nombre  edad                                     cursos  id\n0  Carlos    22       {'nombre': 'Python', 'promedio': 10}  10\n0  Carlos    22        {'nombre': 'Django', 'promedio': 9}  10\n0  Carlos    22  {'nombre': 'JavaScript', 'promedio': 9.5}  10\n1    Juan    21        {'nombre': 'Python', 'promedio': 8}  11\n1    Juan    21        {'nombre': 'Django', 'promedio': 7}  11\n1    Juan    21  {'nombre': 'JavaScript', 'promedio': 6.5}  11",
      "text/html": "<div>\n<style scoped>\n    .dataframe tbody tr th:only-of-type {\n        vertical-align: middle;\n    }\n\n    .dataframe tbody tr th {\n        vertical-align: top;\n    }\n\n    .dataframe thead th {\n        text-align: right;\n    }\n</style>\n<table border=\"1\" class=\"dataframe\">\n  <thead>\n    <tr style=\"text-align: right;\">\n      <th></th>\n      <th>nombre</th>\n      <th>edad</th>\n      <th>cursos</th>\n      <th>id</th>\n    </tr>\n  </thead>\n  <tbody>\n    <tr>\n      <th>0</th>\n      <td>Carlos</td>\n      <td>22</td>\n      <td>{'nombre': 'Python', 'promedio': 10}</td>\n      <td>10</td>\n    </tr>\n    <tr>\n      <th>0</th>\n      <td>Carlos</td>\n      <td>22</td>\n      <td>{'nombre': 'Django', 'promedio': 9}</td>\n      <td>10</td>\n    </tr>\n    <tr>\n      <th>0</th>\n      <td>Carlos</td>\n      <td>22</td>\n      <td>{'nombre': 'JavaScript', 'promedio': 9.5}</td>\n      <td>10</td>\n    </tr>\n    <tr>\n      <th>1</th>\n      <td>Juan</td>\n      <td>21</td>\n      <td>{'nombre': 'Python', 'promedio': 8}</td>\n      <td>11</td>\n    </tr>\n    <tr>\n      <th>1</th>\n      <td>Juan</td>\n      <td>21</td>\n      <td>{'nombre': 'Django', 'promedio': 7}</td>\n      <td>11</td>\n    </tr>\n    <tr>\n      <th>1</th>\n      <td>Juan</td>\n      <td>21</td>\n      <td>{'nombre': 'JavaScript', 'promedio': 6.5}</td>\n      <td>11</td>\n    </tr>\n  </tbody>\n</table>\n</div>"
     },
     "execution_count": 14,
     "metadata": {},
     "output_type": "execute_result"
    }
   ],
   "source": [
    "# df = df.explode('cursos').reset_index(drop=True)\n",
    "# df\n",
    "df2 = df.explode('cursos')\n",
    "df2"
   ],
   "metadata": {
    "collapsed": false,
    "ExecuteTime": {
     "end_time": "2023-08-27T13:57:40.859734900Z",
     "start_time": "2023-08-27T13:57:40.833662900Z"
    }
   },
   "id": "68ce7fca45ec5fd1"
  },
  {
   "cell_type": "code",
   "execution_count": 15,
   "outputs": [
    {
     "data": {
      "text/plain": "   nombre  edad  id       curso  promedio\n0  Carlos    22  10      Python      10.0\n1  Carlos    22  10      Django       9.0\n2  Carlos    22  10  JavaScript       9.5\n3    Juan    21  11      Python       8.0\n4    Juan    21  11      Django       7.0\n5    Juan    21  11  JavaScript       6.5",
      "text/html": "<div>\n<style scoped>\n    .dataframe tbody tr th:only-of-type {\n        vertical-align: middle;\n    }\n\n    .dataframe tbody tr th {\n        vertical-align: top;\n    }\n\n    .dataframe thead th {\n        text-align: right;\n    }\n</style>\n<table border=\"1\" class=\"dataframe\">\n  <thead>\n    <tr style=\"text-align: right;\">\n      <th></th>\n      <th>nombre</th>\n      <th>edad</th>\n      <th>id</th>\n      <th>curso</th>\n      <th>promedio</th>\n    </tr>\n  </thead>\n  <tbody>\n    <tr>\n      <th>0</th>\n      <td>Carlos</td>\n      <td>22</td>\n      <td>10</td>\n      <td>Python</td>\n      <td>10.0</td>\n    </tr>\n    <tr>\n      <th>1</th>\n      <td>Carlos</td>\n      <td>22</td>\n      <td>10</td>\n      <td>Django</td>\n      <td>9.0</td>\n    </tr>\n    <tr>\n      <th>2</th>\n      <td>Carlos</td>\n      <td>22</td>\n      <td>10</td>\n      <td>JavaScript</td>\n      <td>9.5</td>\n    </tr>\n    <tr>\n      <th>3</th>\n      <td>Juan</td>\n      <td>21</td>\n      <td>11</td>\n      <td>Python</td>\n      <td>8.0</td>\n    </tr>\n    <tr>\n      <th>4</th>\n      <td>Juan</td>\n      <td>21</td>\n      <td>11</td>\n      <td>Django</td>\n      <td>7.0</td>\n    </tr>\n    <tr>\n      <th>5</th>\n      <td>Juan</td>\n      <td>21</td>\n      <td>11</td>\n      <td>JavaScript</td>\n      <td>6.5</td>\n    </tr>\n  </tbody>\n</table>\n</div>"
     },
     "execution_count": 15,
     "metadata": {},
     "output_type": "execute_result"
    }
   ],
   "source": [
    "df3 = pd.concat([df2.drop(['cursos'], axis=1), df2['cursos'].apply(pd.Series).rename(columns={'nombre': 'curso'})], axis=1).reset_index(drop=True)\n",
    "df3"
   ],
   "metadata": {
    "collapsed": false,
    "ExecuteTime": {
     "end_time": "2023-08-27T13:57:41.760119Z",
     "start_time": "2023-08-27T13:57:41.731429Z"
    }
   },
   "id": "2b8458c180616ef2"
  },
  {
   "cell_type": "code",
   "execution_count": 13,
   "outputs": [
    {
     "data": {
      "text/plain": "   id      nombre  promedio\n0  10      Python      10.0\n1  10      Django       9.0\n2  10  JavaScript       9.5\n3  11      Python       8.0\n4  11      Django       7.0\n5  11  JavaScript       6.5",
      "text/html": "<div>\n<style scoped>\n    .dataframe tbody tr th:only-of-type {\n        vertical-align: middle;\n    }\n\n    .dataframe tbody tr th {\n        vertical-align: top;\n    }\n\n    .dataframe thead th {\n        text-align: right;\n    }\n</style>\n<table border=\"1\" class=\"dataframe\">\n  <thead>\n    <tr style=\"text-align: right;\">\n      <th></th>\n      <th>id</th>\n      <th>nombre</th>\n      <th>promedio</th>\n    </tr>\n  </thead>\n  <tbody>\n    <tr>\n      <th>0</th>\n      <td>10</td>\n      <td>Python</td>\n      <td>10.0</td>\n    </tr>\n    <tr>\n      <th>1</th>\n      <td>10</td>\n      <td>Django</td>\n      <td>9.0</td>\n    </tr>\n    <tr>\n      <th>2</th>\n      <td>10</td>\n      <td>JavaScript</td>\n      <td>9.5</td>\n    </tr>\n    <tr>\n      <th>3</th>\n      <td>11</td>\n      <td>Python</td>\n      <td>8.0</td>\n    </tr>\n    <tr>\n      <th>4</th>\n      <td>11</td>\n      <td>Django</td>\n      <td>7.0</td>\n    </tr>\n    <tr>\n      <th>5</th>\n      <td>11</td>\n      <td>JavaScript</td>\n      <td>6.5</td>\n    </tr>\n  </tbody>\n</table>\n</div>"
     },
     "execution_count": 13,
     "metadata": {},
     "output_type": "execute_result"
    }
   ],
   "source": [
    "# Desempaquetamos la columna 'cursos' y la convertimos en un nuevo DataFrame\n",
    "df2 = pd.concat([pd.DataFrame(x) for x in df['cursos']], keys=df['id']).reset_index(level=1, drop=True).reset_index()\n",
    "\n",
    "# Renombramos la columna 'index' a 'id'\n",
    "df2 = df2.rename(columns={'index': 'id'})\n",
    "df2"
   ],
   "metadata": {
    "collapsed": false,
    "ExecuteTime": {
     "end_time": "2023-08-27T12:38:07.436771200Z",
     "start_time": "2023-08-27T12:38:07.407039300Z"
    }
   },
   "id": "464bb7902d56de2f"
  },
  {
   "cell_type": "code",
   "execution_count": 124,
   "outputs": [
    {
     "data": {
      "text/plain": "  nombre_x  edad  id    nombre_y  promedio\n0   Carlos    22  10      Python      10.0\n1   Carlos    22  10      Django       9.0\n2   Carlos    22  10  JavaScript       9.5\n3     Juan    21  11      Python       8.0\n4     Juan    21  11      Django       7.0\n5     Juan    21  11  JavaScript       6.5",
      "text/html": "<div>\n<style scoped>\n    .dataframe tbody tr th:only-of-type {\n        vertical-align: middle;\n    }\n\n    .dataframe tbody tr th {\n        vertical-align: top;\n    }\n\n    .dataframe thead th {\n        text-align: right;\n    }\n</style>\n<table border=\"1\" class=\"dataframe\">\n  <thead>\n    <tr style=\"text-align: right;\">\n      <th></th>\n      <th>nombre_x</th>\n      <th>edad</th>\n      <th>id</th>\n      <th>nombre_y</th>\n      <th>promedio</th>\n    </tr>\n  </thead>\n  <tbody>\n    <tr>\n      <th>0</th>\n      <td>Carlos</td>\n      <td>22</td>\n      <td>10</td>\n      <td>Python</td>\n      <td>10.0</td>\n    </tr>\n    <tr>\n      <th>1</th>\n      <td>Carlos</td>\n      <td>22</td>\n      <td>10</td>\n      <td>Django</td>\n      <td>9.0</td>\n    </tr>\n    <tr>\n      <th>2</th>\n      <td>Carlos</td>\n      <td>22</td>\n      <td>10</td>\n      <td>JavaScript</td>\n      <td>9.5</td>\n    </tr>\n    <tr>\n      <th>3</th>\n      <td>Juan</td>\n      <td>21</td>\n      <td>11</td>\n      <td>Python</td>\n      <td>8.0</td>\n    </tr>\n    <tr>\n      <th>4</th>\n      <td>Juan</td>\n      <td>21</td>\n      <td>11</td>\n      <td>Django</td>\n      <td>7.0</td>\n    </tr>\n    <tr>\n      <th>5</th>\n      <td>Juan</td>\n      <td>21</td>\n      <td>11</td>\n      <td>JavaScript</td>\n      <td>6.5</td>\n    </tr>\n  </tbody>\n</table>\n</div>"
     },
     "execution_count": 124,
     "metadata": {},
     "output_type": "execute_result"
    }
   ],
   "source": [
    "result = pd.merge(df, df2, on='id').drop('cursos', axis=1)\n",
    "result"
   ],
   "metadata": {
    "collapsed": false,
    "ExecuteTime": {
     "end_time": "2023-08-23T21:14:53.611007Z",
     "start_time": "2023-08-23T21:14:53.594673300Z"
    }
   },
   "id": "ab0ceb896b4c9b7"
  },
  {
   "cell_type": "code",
   "execution_count": null,
   "outputs": [],
   "source": [],
   "metadata": {
    "collapsed": false
   },
   "id": "b5e5927734f4182c"
  },
  {
   "cell_type": "markdown",
   "source": [
    "# TEST DATA LEAKED"
   ],
   "metadata": {
    "collapsed": false
   },
   "id": "19f3694ecdd508cd"
  },
  {
   "cell_type": "code",
   "execution_count": 66,
   "outputs": [],
   "source": [
    "datos = {'users': [{'joinedClassroomIds': [], 'streak': 34, 'motivation': 'none', 'acquisitionSurveyReason': 'none', 'shouldForceConnectPhoneNumber': False, 'picture': '//simg-ssl.duolingo.com/avatars/45468290/kVJnSRH-ZS', 'learningLanguage': 'en', 'hasFacebookId': True, 'shakeToReportEnabled': None, 'liveOpsFeatures': [], 'canUseModerationTools': False, 'id': 45468290, 'betaStatus': 'INELIGIBLE', 'hasGoogleId': False, 'privacySettings': ['DISABLE_THIRD_PARTY_TRACKING', 'DISABLE_PERSONALIZED_ADS'], 'fromLanguage': 'es', 'hasRecentActivity15': False, '_achievements': [], 'location': 'Huaraz - Perú', 'observedClassroomIds': [], 'username': 'LeninElio', 'bio': 'Estudiante de Ing. de Sistemas e Informática ', 'profileCountry': 'PE', 'chinaUserModerationRecords': [], 'globalAmbassadorStatus': {}, 'currentCourseId': 'DUOLINGO_EN_ES', 'hasPhoneNumber': False, 'creationDate': 1410018944, 'achievements': [], 'hasPlus': False, 'name': 'Lenin Elio', 'roles': ['users'], 'classroomLeaderboardsEnabled': False, 'emailVerified': True, 'courses': [{'preload': False, 'placementTestAvailable': False, 'authorId': 'duolingo', 'title': 'English', 'learningLanguage': 'en', 'xp': 12609, 'healthEnabled': True, 'fromLanguage': 'es', 'crowns': 76, 'id': 'DUOLINGO_EN_ES'}, {'preload': False, 'placementTestAvailable': False, 'authorId': 'duolingo', 'title': 'Catalan', 'learningLanguage': 'ca', 'xp': 233, 'healthEnabled': True, 'fromLanguage': 'es', 'crowns': 7, 'id': 'DUOLINGO_CA_ES'}, {'preload': False, 'placementTestAvailable': False, 'authorId': 'duolingo', 'title': 'French', 'learningLanguage': 'fr', 'xp': 24, 'healthEnabled': True, 'fromLanguage': 'es', 'crowns': 0, 'id': 'DUOLINGO_FR_ES'}], 'totalXp': 12866, 'streakData': {'currentStreak': {'startDate': '2023-07-20', 'length': 34, 'endDate': '2023-08-22'}}}]}\n"
   ],
   "metadata": {
    "collapsed": false,
    "ExecuteTime": {
     "end_time": "2023-08-23T20:54:09.279821Z",
     "start_time": "2023-08-23T20:54:09.249724800Z"
    }
   },
   "id": "153876a63df72c27"
  },
  {
   "cell_type": "code",
   "execution_count": 67,
   "outputs": [
    {
     "data": {
      "text/plain": "  joinedClassroomIds  streak motivation acquisitionSurveyReason  \\\n0                 []      34       none                    none   \n\n   shouldForceConnectPhoneNumber  \\\n0                          False   \n\n                                             picture learningLanguage  \\\n0  //simg-ssl.duolingo.com/avatars/45468290/kVJnS...               en   \n\n   hasFacebookId shakeToReportEnabled liveOpsFeatures  ...  creationDate  \\\n0           True                 None              []  ...    1410018944   \n\n   achievements hasPlus        name    roles classroomLeaderboardsEnabled  \\\n0            []   False  Lenin Elio  [users]                        False   \n\n   emailVerified                                            courses totalXp  \\\n0           True  [{'preload': False, 'placementTestAvailable': ...   12866   \n\n                                          streakData  \n0  {'currentStreak': {'startDate': '2023-07-20', ...  \n\n[1 rows x 37 columns]",
      "text/html": "<div>\n<style scoped>\n    .dataframe tbody tr th:only-of-type {\n        vertical-align: middle;\n    }\n\n    .dataframe tbody tr th {\n        vertical-align: top;\n    }\n\n    .dataframe thead th {\n        text-align: right;\n    }\n</style>\n<table border=\"1\" class=\"dataframe\">\n  <thead>\n    <tr style=\"text-align: right;\">\n      <th></th>\n      <th>joinedClassroomIds</th>\n      <th>streak</th>\n      <th>motivation</th>\n      <th>acquisitionSurveyReason</th>\n      <th>shouldForceConnectPhoneNumber</th>\n      <th>picture</th>\n      <th>learningLanguage</th>\n      <th>hasFacebookId</th>\n      <th>shakeToReportEnabled</th>\n      <th>liveOpsFeatures</th>\n      <th>...</th>\n      <th>creationDate</th>\n      <th>achievements</th>\n      <th>hasPlus</th>\n      <th>name</th>\n      <th>roles</th>\n      <th>classroomLeaderboardsEnabled</th>\n      <th>emailVerified</th>\n      <th>courses</th>\n      <th>totalXp</th>\n      <th>streakData</th>\n    </tr>\n  </thead>\n  <tbody>\n    <tr>\n      <th>0</th>\n      <td>[]</td>\n      <td>34</td>\n      <td>none</td>\n      <td>none</td>\n      <td>False</td>\n      <td>//simg-ssl.duolingo.com/avatars/45468290/kVJnS...</td>\n      <td>en</td>\n      <td>True</td>\n      <td>None</td>\n      <td>[]</td>\n      <td>...</td>\n      <td>1410018944</td>\n      <td>[]</td>\n      <td>False</td>\n      <td>Lenin Elio</td>\n      <td>[users]</td>\n      <td>False</td>\n      <td>True</td>\n      <td>[{'preload': False, 'placementTestAvailable': ...</td>\n      <td>12866</td>\n      <td>{'currentStreak': {'startDate': '2023-07-20', ...</td>\n    </tr>\n  </tbody>\n</table>\n<p>1 rows × 37 columns</p>\n</div>"
     },
     "execution_count": 67,
     "metadata": {},
     "output_type": "execute_result"
    }
   ],
   "source": [
    "df = pd.DataFrame(datos['users'])\n",
    "df"
   ],
   "metadata": {
    "collapsed": false,
    "ExecuteTime": {
     "end_time": "2023-08-23T20:54:09.857863500Z",
     "start_time": "2023-08-23T20:54:09.821345900Z"
    }
   },
   "id": "92e6285828d58adb"
  },
  {
   "cell_type": "code",
   "execution_count": 68,
   "outputs": [
    {
     "data": {
      "text/plain": "0    [{'preload': False, 'placementTestAvailable': ...\nName: courses, dtype: object"
     },
     "execution_count": 68,
     "metadata": {},
     "output_type": "execute_result"
    }
   ],
   "source": [
    "df['courses']"
   ],
   "metadata": {
    "collapsed": false,
    "ExecuteTime": {
     "end_time": "2023-08-23T20:54:23.695579800Z",
     "start_time": "2023-08-23T20:54:23.665511700Z"
    }
   },
   "id": "2afb3a8c924c9155"
  },
  {
   "cell_type": "code",
   "execution_count": 64,
   "outputs": [],
   "source": [
    "df2 = pd.DataFrame(df['courses'][0])"
   ],
   "metadata": {
    "collapsed": false,
    "ExecuteTime": {
     "end_time": "2023-08-23T20:53:31.157394300Z",
     "start_time": "2023-08-23T20:53:31.131658200Z"
    }
   },
   "id": "34fe2455283ea7c0"
  },
  {
   "cell_type": "code",
   "execution_count": 44,
   "outputs": [],
   "source": [
    "df2['id'] = df['id'][0]"
   ],
   "metadata": {
    "collapsed": false,
    "ExecuteTime": {
     "end_time": "2023-08-23T20:44:30.138816200Z",
     "start_time": "2023-08-23T20:44:30.106424200Z"
    }
   },
   "id": "baa41800571d065d"
  },
  {
   "cell_type": "code",
   "execution_count": 65,
   "outputs": [
    {
     "data": {
      "text/plain": "         id                                            courses\n0  45468290  [{'preload': False, 'placementTestAvailable': ...",
      "text/html": "<div>\n<style scoped>\n    .dataframe tbody tr th:only-of-type {\n        vertical-align: middle;\n    }\n\n    .dataframe tbody tr th {\n        vertical-align: top;\n    }\n\n    .dataframe thead th {\n        text-align: right;\n    }\n</style>\n<table border=\"1\" class=\"dataframe\">\n  <thead>\n    <tr style=\"text-align: right;\">\n      <th></th>\n      <th>id</th>\n      <th>courses</th>\n    </tr>\n  </thead>\n  <tbody>\n    <tr>\n      <th>0</th>\n      <td>45468290</td>\n      <td>[{'preload': False, 'placementTestAvailable': ...</td>\n    </tr>\n  </tbody>\n</table>\n</div>"
     },
     "execution_count": 65,
     "metadata": {},
     "output_type": "execute_result"
    }
   ],
   "source": [
    "df2"
   ],
   "metadata": {
    "collapsed": false,
    "ExecuteTime": {
     "end_time": "2023-08-23T20:53:34.591105700Z",
     "start_time": "2023-08-23T20:53:34.571391100Z"
    }
   },
   "id": "16b51dc737c9b226"
  },
  {
   "cell_type": "code",
   "execution_count": 49,
   "outputs": [
    {
     "data": {
      "text/plain": "  joinedClassroomIds  streak motivation acquisitionSurveyReason  \\\n0                 []      34       none                    none   \n1                 []      34       none                    none   \n2                 []      34       none                    none   \n\n   shouldForceConnectPhoneNumber  \\\n0                          False   \n1                          False   \n2                          False   \n\n                                             picture learningLanguage_x  \\\n0  //simg-ssl.duolingo.com/avatars/45468290/kVJnS...                 en   \n1  //simg-ssl.duolingo.com/avatars/45468290/kVJnS...                 en   \n2  //simg-ssl.duolingo.com/avatars/45468290/kVJnS...                 en   \n\n   hasFacebookId shakeToReportEnabled liveOpsFeatures  ...  \\\n0           True                 None              []  ...   \n1           True                 None              []  ...   \n2           True                 None              []  ...   \n\n                                          streakData  preload  \\\n0  {'currentStreak': {'startDate': '2023-07-20', ...    False   \n1  {'currentStreak': {'startDate': '2023-07-20', ...    False   \n2  {'currentStreak': {'startDate': '2023-07-20', ...    False   \n\n  placementTestAvailable  authorId    title learningLanguage_y     xp  \\\n0                  False  duolingo  English                 en  12609   \n1                  False  duolingo  Catalan                 ca    233   \n2                  False  duolingo   French                 fr     24   \n\n  healthEnabled fromLanguage_y crowns  \n0          True             es     76  \n1          True             es      7  \n2          True             es      0  \n\n[3 rows x 45 columns]",
      "text/html": "<div>\n<style scoped>\n    .dataframe tbody tr th:only-of-type {\n        vertical-align: middle;\n    }\n\n    .dataframe tbody tr th {\n        vertical-align: top;\n    }\n\n    .dataframe thead th {\n        text-align: right;\n    }\n</style>\n<table border=\"1\" class=\"dataframe\">\n  <thead>\n    <tr style=\"text-align: right;\">\n      <th></th>\n      <th>joinedClassroomIds</th>\n      <th>streak</th>\n      <th>motivation</th>\n      <th>acquisitionSurveyReason</th>\n      <th>shouldForceConnectPhoneNumber</th>\n      <th>picture</th>\n      <th>learningLanguage_x</th>\n      <th>hasFacebookId</th>\n      <th>shakeToReportEnabled</th>\n      <th>liveOpsFeatures</th>\n      <th>...</th>\n      <th>streakData</th>\n      <th>preload</th>\n      <th>placementTestAvailable</th>\n      <th>authorId</th>\n      <th>title</th>\n      <th>learningLanguage_y</th>\n      <th>xp</th>\n      <th>healthEnabled</th>\n      <th>fromLanguage_y</th>\n      <th>crowns</th>\n    </tr>\n  </thead>\n  <tbody>\n    <tr>\n      <th>0</th>\n      <td>[]</td>\n      <td>34</td>\n      <td>none</td>\n      <td>none</td>\n      <td>False</td>\n      <td>//simg-ssl.duolingo.com/avatars/45468290/kVJnS...</td>\n      <td>en</td>\n      <td>True</td>\n      <td>None</td>\n      <td>[]</td>\n      <td>...</td>\n      <td>{'currentStreak': {'startDate': '2023-07-20', ...</td>\n      <td>False</td>\n      <td>False</td>\n      <td>duolingo</td>\n      <td>English</td>\n      <td>en</td>\n      <td>12609</td>\n      <td>True</td>\n      <td>es</td>\n      <td>76</td>\n    </tr>\n    <tr>\n      <th>1</th>\n      <td>[]</td>\n      <td>34</td>\n      <td>none</td>\n      <td>none</td>\n      <td>False</td>\n      <td>//simg-ssl.duolingo.com/avatars/45468290/kVJnS...</td>\n      <td>en</td>\n      <td>True</td>\n      <td>None</td>\n      <td>[]</td>\n      <td>...</td>\n      <td>{'currentStreak': {'startDate': '2023-07-20', ...</td>\n      <td>False</td>\n      <td>False</td>\n      <td>duolingo</td>\n      <td>Catalan</td>\n      <td>ca</td>\n      <td>233</td>\n      <td>True</td>\n      <td>es</td>\n      <td>7</td>\n    </tr>\n    <tr>\n      <th>2</th>\n      <td>[]</td>\n      <td>34</td>\n      <td>none</td>\n      <td>none</td>\n      <td>False</td>\n      <td>//simg-ssl.duolingo.com/avatars/45468290/kVJnS...</td>\n      <td>en</td>\n      <td>True</td>\n      <td>None</td>\n      <td>[]</td>\n      <td>...</td>\n      <td>{'currentStreak': {'startDate': '2023-07-20', ...</td>\n      <td>False</td>\n      <td>False</td>\n      <td>duolingo</td>\n      <td>French</td>\n      <td>fr</td>\n      <td>24</td>\n      <td>True</td>\n      <td>es</td>\n      <td>0</td>\n    </tr>\n  </tbody>\n</table>\n<p>3 rows × 45 columns</p>\n</div>"
     },
     "execution_count": 49,
     "metadata": {},
     "output_type": "execute_result"
    }
   ],
   "source": [
    "result = pd.merge(df, df2, on='id').drop('courses', axis=1)\n",
    "result"
   ],
   "metadata": {
    "collapsed": false,
    "ExecuteTime": {
     "end_time": "2023-08-23T20:46:04.615023Z",
     "start_time": "2023-08-23T20:46:04.582581800Z"
    }
   },
   "id": "cd077232c9d80108"
  },
  {
   "cell_type": "markdown",
   "source": [
    "# TEST DATA LEAKED MULTIPLE"
   ],
   "metadata": {
    "collapsed": false
   },
   "id": "5167e87b22f8514d"
  },
  {
   "cell_type": "code",
   "execution_count": 23,
   "outputs": [],
   "source": [
    "response = [[{'joinedClassroomIds': [], 'streak': 0, 'motivation': 'none', 'acquisitionSurveyReason': 'none', 'shouldForceConnectPhoneNumber': False, 'picture': '//simg-ssl.duolingo.com/avatars/70/I1InO9QVw_', 'learningLanguage': 'it', 'hasFacebookId': True, 'shakeToReportEnabled': None, 'liveOpsFeatures': [{'startTimestamp': 1693007940, 'type': 'TIMED_PRACTICE', 'endTimestamp': 1693180740}], 'canUseModerationTools': False, 'id': 70, 'betaStatus': 'INELIGIBLE', 'hasGoogleId': True, 'privacySettings': [], 'fromLanguage': 'en', 'hasRecentActivity15': False, '_achievements': [], 'location': 'Zug Suiza', 'observedClassroomIds': [], 'username': 'Juan', 'bio': 'Alaska and Chicago/Frank Lloyd Wright- Fan.\\nSailing + Snowboard Father-Fellow of Severin CTO ', 'profileCountry': 'CH', 'chinaUserModerationRecords': [], 'globalAmbassadorStatus': {}, 'currentCourseId': 'DUOLINGO_IT_EN', 'hasPhoneNumber': False, 'creationDate': 1322725185, 'achievements': [], 'hasPlus': True, 'name': 'Juan', 'roles': ['users'], 'classroomLeaderboardsEnabled': False, 'emailVerified': True, 'courses': [{'preload': False, 'placementTestAvailable': False, 'authorId': 'duolingo', 'title': 'Italian', 'learningLanguage': 'it', 'xp': 39601, 'healthEnabled': True, 'fromLanguage': 'en', 'crowns': 332, 'id': 'DUOLINGO_IT_EN'}, {'preload': False, 'placementTestAvailable': False, 'authorId': 'duolingo', 'title': 'French', 'learningLanguage': 'fr', 'xp': 5872, 'healthEnabled': True, 'fromLanguage': 'en', 'crowns': 163, 'id': 'DUOLINGO_FR_EN'}, {'preload': False, 'placementTestAvailable': False, 'authorId': 'duolingo', 'title': 'French', 'learningLanguage': 'fr', 'xp': 1333, 'healthEnabled': True, 'fromLanguage': 'de', 'crowns': 20, 'id': 'DUOLINGO_FR_DE'}, {'preload': False, 'placementTestAvailable': False, 'authorId': 'duolingo', 'title': 'English', 'learningLanguage': 'en', 'xp': 11702, 'healthEnabled': True, 'fromLanguage': 'de', 'crowns': 112, 'id': 'DUOLINGO_EN_DE'}, {'preload': False, 'placementTestAvailable': False, 'authorId': 'duolingo', 'title': 'Japanese', 'learningLanguage': 'ja', 'xp': 15, 'healthEnabled': True, 'fromLanguage': 'en', 'crowns': 0, 'id': 'DUOLINGO_JA_EN'}, {'preload': False, 'placementTestAvailable': False, 'authorId': 'duolingo', 'title': 'Spanish', 'learningLanguage': 'es', 'xp': 4098, 'healthEnabled': True, 'fromLanguage': 'en', 'crowns': 6, 'id': 'DUOLINGO_ES_EN'}, {'preload': False, 'placementTestAvailable': False, 'authorId': 'duolingo', 'title': 'German', 'learningLanguage': 'de', 'xp': 4409, 'healthEnabled': True, 'fromLanguage': 'en', 'crowns': 46, 'id': 'DUOLINGO_DE_EN'}], 'totalXp': 67030, 'streakData': {'currentStreak': None}}], [{'joinedClassroomIds': [], 'streak': 0, 'motivation': 'none', 'acquisitionSurveyReason': 'none', 'shouldForceConnectPhoneNumber': False, 'picture': '//simg-ssl.duolingo.com/avatar/default_2', 'learningLanguage': 'en', 'hasFacebookId': False, 'shakeToReportEnabled': None, 'liveOpsFeatures': [{'startTimestamp': 1693007940, 'type': 'TIMED_PRACTICE', 'endTimestamp': 1693180740}], 'canUseModerationTools': False, 'id': 207762109, 'betaStatus': 'INELIGIBLE', 'hasGoogleId': False, 'privacySettings': [], 'fromLanguage': 'es', 'hasRecentActivity15': False, '_achievements': [], 'observedClassroomIds': [], 'username': 'Maria', 'bio': '', 'profileCountry': None, 'chinaUserModerationRecords': [], 'globalAmbassadorStatus': {}, 'currentCourseId': 'DUOLINGO_EN_ES', 'hasPhoneNumber': False, 'creationDate': 1471627031, 'achievements': [], 'hasPlus': False, 'name': 'Maria', 'roles': ['users'], 'classroomLeaderboardsEnabled': False, 'emailVerified': False, 'courses': [{'preload': False, 'placementTestAvailable': False, 'authorId': 'duolingo', 'title': 'English', 'learningLanguage': 'en', 'xp': 610, 'healthEnabled': True, 'fromLanguage': 'es', 'crowns': 4, 'id': 'DUOLINGO_EN_ES'}, {'preload': False, 'placementTestAvailable': False, 'authorId': 'duolingo', 'title': 'French', 'learningLanguage': 'fr', 'xp': 40, 'healthEnabled': True, 'fromLanguage': 'es', 'crowns': 1, 'id': 'DUOLINGO_FR_ES'}], 'totalXp': 650, 'streakData': {'currentStreak': None}}], [{'joinedClassroomIds': [], 'streak': 0, 'motivation': 'none', 'acquisitionSurveyReason': 'none', 'shouldForceConnectPhoneNumber': False, 'picture': '//simg-ssl.duolingo.com/avatar/default_2', 'learningLanguage': 'de', 'hasFacebookId': False, 'shakeToReportEnabled': None, 'liveOpsFeatures': [{'startTimestamp': 1693007940, 'type': 'TIMED_PRACTICE', 'endTimestamp': 1693180740}], 'canUseModerationTools': False, 'id': 1957, 'betaStatus': 'INELIGIBLE', 'hasGoogleId': False, 'privacySettings': [], 'fromLanguage': 'en', 'hasRecentActivity15': False, '_achievements': [], 'location': 'madrid', 'observedClassroomIds': [], 'username': 'pepe', 'bio': '', 'profileCountry': None, 'chinaUserModerationRecords': [], 'globalAmbassadorStatus': {}, 'currentCourseId': 'DUOLINGO_DE_EN', 'hasPhoneNumber': False, 'creationDate': 1323800050, 'achievements': [], 'hasPlus': False, 'name': 'pepe', 'roles': ['users'], 'classroomLeaderboardsEnabled': False, 'emailVerified': False, 'courses': [{'preload': False, 'placementTestAvailable': False, 'authorId': 'duolingo', 'title': 'German', 'learningLanguage': 'de', 'xp': 500, 'healthEnabled': True, 'fromLanguage': 'en', 'crowns': 2, 'id': 'DUOLINGO_DE_EN'}, {'preload': False, 'placementTestAvailable': False, 'authorId': 'duolingo', 'title': 'Spanish', 'learningLanguage': 'es', 'xp': 10, 'healthEnabled': True, 'fromLanguage': 'en', 'crowns': 0, 'id': 'DUOLINGO_ES_EN'}], 'totalXp': 510, 'streakData': {'currentStreak': None}}]]"
   ],
   "metadata": {
    "collapsed": false,
    "ExecuteTime": {
     "end_time": "2023-08-27T14:07:28.273586800Z",
     "start_time": "2023-08-27T14:07:28.238256Z"
    }
   },
   "id": "b1af52c2fbc9b117"
  },
  {
   "cell_type": "code",
   "execution_count": 24,
   "outputs": [],
   "source": [
    "respuestas = [resp[0] for resp in response]"
   ],
   "metadata": {
    "collapsed": false,
    "ExecuteTime": {
     "end_time": "2023-08-27T14:07:28.795393Z",
     "start_time": "2023-08-27T14:07:28.781070Z"
    }
   },
   "id": "15d847e12be966f7"
  },
  {
   "cell_type": "code",
   "execution_count": 25,
   "outputs": [
    {
     "data": {
      "text/plain": "  joinedClassroomIds  streak motivation acquisitionSurveyReason  \\\n0                 []       0       none                    none   \n1                 []       0       none                    none   \n2                 []       0       none                    none   \n\n   shouldForceConnectPhoneNumber  \\\n0                          False   \n1                          False   \n2                          False   \n\n                                         picture learningLanguage  \\\n0  //simg-ssl.duolingo.com/avatars/70/I1InO9QVw_               it   \n1       //simg-ssl.duolingo.com/avatar/default_2               en   \n2       //simg-ssl.duolingo.com/avatar/default_2               de   \n\n   hasFacebookId shakeToReportEnabled  \\\n0           True                 None   \n1          False                 None   \n2          False                 None   \n\n                                     liveOpsFeatures  ...  creationDate  \\\n0  [{'startTimestamp': 1693007940, 'type': 'TIMED...  ...    1322725185   \n1  [{'startTimestamp': 1693007940, 'type': 'TIMED...  ...    1471627031   \n2  [{'startTimestamp': 1693007940, 'type': 'TIMED...  ...    1323800050   \n\n   achievements hasPlus   name    roles classroomLeaderboardsEnabled  \\\n0            []    True   Juan  [users]                        False   \n1            []   False  Maria  [users]                        False   \n2            []   False   pepe  [users]                        False   \n\n   emailVerified                                            courses totalXp  \\\n0           True  [{'preload': False, 'placementTestAvailable': ...   67030   \n1          False  [{'preload': False, 'placementTestAvailable': ...     650   \n2          False  [{'preload': False, 'placementTestAvailable': ...     510   \n\n                streakData  \n0  {'currentStreak': None}  \n1  {'currentStreak': None}  \n2  {'currentStreak': None}  \n\n[3 rows x 37 columns]",
      "text/html": "<div>\n<style scoped>\n    .dataframe tbody tr th:only-of-type {\n        vertical-align: middle;\n    }\n\n    .dataframe tbody tr th {\n        vertical-align: top;\n    }\n\n    .dataframe thead th {\n        text-align: right;\n    }\n</style>\n<table border=\"1\" class=\"dataframe\">\n  <thead>\n    <tr style=\"text-align: right;\">\n      <th></th>\n      <th>joinedClassroomIds</th>\n      <th>streak</th>\n      <th>motivation</th>\n      <th>acquisitionSurveyReason</th>\n      <th>shouldForceConnectPhoneNumber</th>\n      <th>picture</th>\n      <th>learningLanguage</th>\n      <th>hasFacebookId</th>\n      <th>shakeToReportEnabled</th>\n      <th>liveOpsFeatures</th>\n      <th>...</th>\n      <th>creationDate</th>\n      <th>achievements</th>\n      <th>hasPlus</th>\n      <th>name</th>\n      <th>roles</th>\n      <th>classroomLeaderboardsEnabled</th>\n      <th>emailVerified</th>\n      <th>courses</th>\n      <th>totalXp</th>\n      <th>streakData</th>\n    </tr>\n  </thead>\n  <tbody>\n    <tr>\n      <th>0</th>\n      <td>[]</td>\n      <td>0</td>\n      <td>none</td>\n      <td>none</td>\n      <td>False</td>\n      <td>//simg-ssl.duolingo.com/avatars/70/I1InO9QVw_</td>\n      <td>it</td>\n      <td>True</td>\n      <td>None</td>\n      <td>[{'startTimestamp': 1693007940, 'type': 'TIMED...</td>\n      <td>...</td>\n      <td>1322725185</td>\n      <td>[]</td>\n      <td>True</td>\n      <td>Juan</td>\n      <td>[users]</td>\n      <td>False</td>\n      <td>True</td>\n      <td>[{'preload': False, 'placementTestAvailable': ...</td>\n      <td>67030</td>\n      <td>{'currentStreak': None}</td>\n    </tr>\n    <tr>\n      <th>1</th>\n      <td>[]</td>\n      <td>0</td>\n      <td>none</td>\n      <td>none</td>\n      <td>False</td>\n      <td>//simg-ssl.duolingo.com/avatar/default_2</td>\n      <td>en</td>\n      <td>False</td>\n      <td>None</td>\n      <td>[{'startTimestamp': 1693007940, 'type': 'TIMED...</td>\n      <td>...</td>\n      <td>1471627031</td>\n      <td>[]</td>\n      <td>False</td>\n      <td>Maria</td>\n      <td>[users]</td>\n      <td>False</td>\n      <td>False</td>\n      <td>[{'preload': False, 'placementTestAvailable': ...</td>\n      <td>650</td>\n      <td>{'currentStreak': None}</td>\n    </tr>\n    <tr>\n      <th>2</th>\n      <td>[]</td>\n      <td>0</td>\n      <td>none</td>\n      <td>none</td>\n      <td>False</td>\n      <td>//simg-ssl.duolingo.com/avatar/default_2</td>\n      <td>de</td>\n      <td>False</td>\n      <td>None</td>\n      <td>[{'startTimestamp': 1693007940, 'type': 'TIMED...</td>\n      <td>...</td>\n      <td>1323800050</td>\n      <td>[]</td>\n      <td>False</td>\n      <td>pepe</td>\n      <td>[users]</td>\n      <td>False</td>\n      <td>False</td>\n      <td>[{'preload': False, 'placementTestAvailable': ...</td>\n      <td>510</td>\n      <td>{'currentStreak': None}</td>\n    </tr>\n  </tbody>\n</table>\n<p>3 rows × 37 columns</p>\n</div>"
     },
     "execution_count": 25,
     "metadata": {},
     "output_type": "execute_result"
    }
   ],
   "source": [
    "df = pd.DataFrame(respuestas)\n",
    "df"
   ],
   "metadata": {
    "collapsed": false,
    "ExecuteTime": {
     "end_time": "2023-08-27T14:07:29.450864600Z",
     "start_time": "2023-08-27T14:07:29.421677200Z"
    }
   },
   "id": "d51a24745d540cd3"
  },
  {
   "cell_type": "code",
   "execution_count": 26,
   "outputs": [
    {
     "data": {
      "text/plain": "  joinedClassroomIds  streak motivation acquisitionSurveyReason  \\\n0                 []       0       none                    none   \n0                 []       0       none                    none   \n0                 []       0       none                    none   \n0                 []       0       none                    none   \n0                 []       0       none                    none   \n0                 []       0       none                    none   \n0                 []       0       none                    none   \n1                 []       0       none                    none   \n1                 []       0       none                    none   \n2                 []       0       none                    none   \n2                 []       0       none                    none   \n\n   shouldForceConnectPhoneNumber  \\\n0                          False   \n0                          False   \n0                          False   \n0                          False   \n0                          False   \n0                          False   \n0                          False   \n1                          False   \n1                          False   \n2                          False   \n2                          False   \n\n                                         picture learningLanguage  \\\n0  //simg-ssl.duolingo.com/avatars/70/I1InO9QVw_               it   \n0  //simg-ssl.duolingo.com/avatars/70/I1InO9QVw_               it   \n0  //simg-ssl.duolingo.com/avatars/70/I1InO9QVw_               it   \n0  //simg-ssl.duolingo.com/avatars/70/I1InO9QVw_               it   \n0  //simg-ssl.duolingo.com/avatars/70/I1InO9QVw_               it   \n0  //simg-ssl.duolingo.com/avatars/70/I1InO9QVw_               it   \n0  //simg-ssl.duolingo.com/avatars/70/I1InO9QVw_               it   \n1       //simg-ssl.duolingo.com/avatar/default_2               en   \n1       //simg-ssl.duolingo.com/avatar/default_2               en   \n2       //simg-ssl.duolingo.com/avatar/default_2               de   \n2       //simg-ssl.duolingo.com/avatar/default_2               de   \n\n   hasFacebookId shakeToReportEnabled  \\\n0           True                 None   \n0           True                 None   \n0           True                 None   \n0           True                 None   \n0           True                 None   \n0           True                 None   \n0           True                 None   \n1          False                 None   \n1          False                 None   \n2          False                 None   \n2          False                 None   \n\n                                     liveOpsFeatures  ...  creationDate  \\\n0  [{'startTimestamp': 1693007940, 'type': 'TIMED...  ...    1322725185   \n0  [{'startTimestamp': 1693007940, 'type': 'TIMED...  ...    1322725185   \n0  [{'startTimestamp': 1693007940, 'type': 'TIMED...  ...    1322725185   \n0  [{'startTimestamp': 1693007940, 'type': 'TIMED...  ...    1322725185   \n0  [{'startTimestamp': 1693007940, 'type': 'TIMED...  ...    1322725185   \n0  [{'startTimestamp': 1693007940, 'type': 'TIMED...  ...    1322725185   \n0  [{'startTimestamp': 1693007940, 'type': 'TIMED...  ...    1322725185   \n1  [{'startTimestamp': 1693007940, 'type': 'TIMED...  ...    1471627031   \n1  [{'startTimestamp': 1693007940, 'type': 'TIMED...  ...    1471627031   \n2  [{'startTimestamp': 1693007940, 'type': 'TIMED...  ...    1323800050   \n2  [{'startTimestamp': 1693007940, 'type': 'TIMED...  ...    1323800050   \n\n   achievements hasPlus   name    roles classroomLeaderboardsEnabled  \\\n0            []    True   Juan  [users]                        False   \n0            []    True   Juan  [users]                        False   \n0            []    True   Juan  [users]                        False   \n0            []    True   Juan  [users]                        False   \n0            []    True   Juan  [users]                        False   \n0            []    True   Juan  [users]                        False   \n0            []    True   Juan  [users]                        False   \n1            []   False  Maria  [users]                        False   \n1            []   False  Maria  [users]                        False   \n2            []   False   pepe  [users]                        False   \n2            []   False   pepe  [users]                        False   \n\n   emailVerified                                            courses totalXp  \\\n0           True  {'preload': False, 'placementTestAvailable': F...   67030   \n0           True  {'preload': False, 'placementTestAvailable': F...   67030   \n0           True  {'preload': False, 'placementTestAvailable': F...   67030   \n0           True  {'preload': False, 'placementTestAvailable': F...   67030   \n0           True  {'preload': False, 'placementTestAvailable': F...   67030   \n0           True  {'preload': False, 'placementTestAvailable': F...   67030   \n0           True  {'preload': False, 'placementTestAvailable': F...   67030   \n1          False  {'preload': False, 'placementTestAvailable': F...     650   \n1          False  {'preload': False, 'placementTestAvailable': F...     650   \n2          False  {'preload': False, 'placementTestAvailable': F...     510   \n2          False  {'preload': False, 'placementTestAvailable': F...     510   \n\n                streakData  \n0  {'currentStreak': None}  \n0  {'currentStreak': None}  \n0  {'currentStreak': None}  \n0  {'currentStreak': None}  \n0  {'currentStreak': None}  \n0  {'currentStreak': None}  \n0  {'currentStreak': None}  \n1  {'currentStreak': None}  \n1  {'currentStreak': None}  \n2  {'currentStreak': None}  \n2  {'currentStreak': None}  \n\n[11 rows x 37 columns]",
      "text/html": "<div>\n<style scoped>\n    .dataframe tbody tr th:only-of-type {\n        vertical-align: middle;\n    }\n\n    .dataframe tbody tr th {\n        vertical-align: top;\n    }\n\n    .dataframe thead th {\n        text-align: right;\n    }\n</style>\n<table border=\"1\" class=\"dataframe\">\n  <thead>\n    <tr style=\"text-align: right;\">\n      <th></th>\n      <th>joinedClassroomIds</th>\n      <th>streak</th>\n      <th>motivation</th>\n      <th>acquisitionSurveyReason</th>\n      <th>shouldForceConnectPhoneNumber</th>\n      <th>picture</th>\n      <th>learningLanguage</th>\n      <th>hasFacebookId</th>\n      <th>shakeToReportEnabled</th>\n      <th>liveOpsFeatures</th>\n      <th>...</th>\n      <th>creationDate</th>\n      <th>achievements</th>\n      <th>hasPlus</th>\n      <th>name</th>\n      <th>roles</th>\n      <th>classroomLeaderboardsEnabled</th>\n      <th>emailVerified</th>\n      <th>courses</th>\n      <th>totalXp</th>\n      <th>streakData</th>\n    </tr>\n  </thead>\n  <tbody>\n    <tr>\n      <th>0</th>\n      <td>[]</td>\n      <td>0</td>\n      <td>none</td>\n      <td>none</td>\n      <td>False</td>\n      <td>//simg-ssl.duolingo.com/avatars/70/I1InO9QVw_</td>\n      <td>it</td>\n      <td>True</td>\n      <td>None</td>\n      <td>[{'startTimestamp': 1693007940, 'type': 'TIMED...</td>\n      <td>...</td>\n      <td>1322725185</td>\n      <td>[]</td>\n      <td>True</td>\n      <td>Juan</td>\n      <td>[users]</td>\n      <td>False</td>\n      <td>True</td>\n      <td>{'preload': False, 'placementTestAvailable': F...</td>\n      <td>67030</td>\n      <td>{'currentStreak': None}</td>\n    </tr>\n    <tr>\n      <th>0</th>\n      <td>[]</td>\n      <td>0</td>\n      <td>none</td>\n      <td>none</td>\n      <td>False</td>\n      <td>//simg-ssl.duolingo.com/avatars/70/I1InO9QVw_</td>\n      <td>it</td>\n      <td>True</td>\n      <td>None</td>\n      <td>[{'startTimestamp': 1693007940, 'type': 'TIMED...</td>\n      <td>...</td>\n      <td>1322725185</td>\n      <td>[]</td>\n      <td>True</td>\n      <td>Juan</td>\n      <td>[users]</td>\n      <td>False</td>\n      <td>True</td>\n      <td>{'preload': False, 'placementTestAvailable': F...</td>\n      <td>67030</td>\n      <td>{'currentStreak': None}</td>\n    </tr>\n    <tr>\n      <th>0</th>\n      <td>[]</td>\n      <td>0</td>\n      <td>none</td>\n      <td>none</td>\n      <td>False</td>\n      <td>//simg-ssl.duolingo.com/avatars/70/I1InO9QVw_</td>\n      <td>it</td>\n      <td>True</td>\n      <td>None</td>\n      <td>[{'startTimestamp': 1693007940, 'type': 'TIMED...</td>\n      <td>...</td>\n      <td>1322725185</td>\n      <td>[]</td>\n      <td>True</td>\n      <td>Juan</td>\n      <td>[users]</td>\n      <td>False</td>\n      <td>True</td>\n      <td>{'preload': False, 'placementTestAvailable': F...</td>\n      <td>67030</td>\n      <td>{'currentStreak': None}</td>\n    </tr>\n    <tr>\n      <th>0</th>\n      <td>[]</td>\n      <td>0</td>\n      <td>none</td>\n      <td>none</td>\n      <td>False</td>\n      <td>//simg-ssl.duolingo.com/avatars/70/I1InO9QVw_</td>\n      <td>it</td>\n      <td>True</td>\n      <td>None</td>\n      <td>[{'startTimestamp': 1693007940, 'type': 'TIMED...</td>\n      <td>...</td>\n      <td>1322725185</td>\n      <td>[]</td>\n      <td>True</td>\n      <td>Juan</td>\n      <td>[users]</td>\n      <td>False</td>\n      <td>True</td>\n      <td>{'preload': False, 'placementTestAvailable': F...</td>\n      <td>67030</td>\n      <td>{'currentStreak': None}</td>\n    </tr>\n    <tr>\n      <th>0</th>\n      <td>[]</td>\n      <td>0</td>\n      <td>none</td>\n      <td>none</td>\n      <td>False</td>\n      <td>//simg-ssl.duolingo.com/avatars/70/I1InO9QVw_</td>\n      <td>it</td>\n      <td>True</td>\n      <td>None</td>\n      <td>[{'startTimestamp': 1693007940, 'type': 'TIMED...</td>\n      <td>...</td>\n      <td>1322725185</td>\n      <td>[]</td>\n      <td>True</td>\n      <td>Juan</td>\n      <td>[users]</td>\n      <td>False</td>\n      <td>True</td>\n      <td>{'preload': False, 'placementTestAvailable': F...</td>\n      <td>67030</td>\n      <td>{'currentStreak': None}</td>\n    </tr>\n    <tr>\n      <th>0</th>\n      <td>[]</td>\n      <td>0</td>\n      <td>none</td>\n      <td>none</td>\n      <td>False</td>\n      <td>//simg-ssl.duolingo.com/avatars/70/I1InO9QVw_</td>\n      <td>it</td>\n      <td>True</td>\n      <td>None</td>\n      <td>[{'startTimestamp': 1693007940, 'type': 'TIMED...</td>\n      <td>...</td>\n      <td>1322725185</td>\n      <td>[]</td>\n      <td>True</td>\n      <td>Juan</td>\n      <td>[users]</td>\n      <td>False</td>\n      <td>True</td>\n      <td>{'preload': False, 'placementTestAvailable': F...</td>\n      <td>67030</td>\n      <td>{'currentStreak': None}</td>\n    </tr>\n    <tr>\n      <th>0</th>\n      <td>[]</td>\n      <td>0</td>\n      <td>none</td>\n      <td>none</td>\n      <td>False</td>\n      <td>//simg-ssl.duolingo.com/avatars/70/I1InO9QVw_</td>\n      <td>it</td>\n      <td>True</td>\n      <td>None</td>\n      <td>[{'startTimestamp': 1693007940, 'type': 'TIMED...</td>\n      <td>...</td>\n      <td>1322725185</td>\n      <td>[]</td>\n      <td>True</td>\n      <td>Juan</td>\n      <td>[users]</td>\n      <td>False</td>\n      <td>True</td>\n      <td>{'preload': False, 'placementTestAvailable': F...</td>\n      <td>67030</td>\n      <td>{'currentStreak': None}</td>\n    </tr>\n    <tr>\n      <th>1</th>\n      <td>[]</td>\n      <td>0</td>\n      <td>none</td>\n      <td>none</td>\n      <td>False</td>\n      <td>//simg-ssl.duolingo.com/avatar/default_2</td>\n      <td>en</td>\n      <td>False</td>\n      <td>None</td>\n      <td>[{'startTimestamp': 1693007940, 'type': 'TIMED...</td>\n      <td>...</td>\n      <td>1471627031</td>\n      <td>[]</td>\n      <td>False</td>\n      <td>Maria</td>\n      <td>[users]</td>\n      <td>False</td>\n      <td>False</td>\n      <td>{'preload': False, 'placementTestAvailable': F...</td>\n      <td>650</td>\n      <td>{'currentStreak': None}</td>\n    </tr>\n    <tr>\n      <th>1</th>\n      <td>[]</td>\n      <td>0</td>\n      <td>none</td>\n      <td>none</td>\n      <td>False</td>\n      <td>//simg-ssl.duolingo.com/avatar/default_2</td>\n      <td>en</td>\n      <td>False</td>\n      <td>None</td>\n      <td>[{'startTimestamp': 1693007940, 'type': 'TIMED...</td>\n      <td>...</td>\n      <td>1471627031</td>\n      <td>[]</td>\n      <td>False</td>\n      <td>Maria</td>\n      <td>[users]</td>\n      <td>False</td>\n      <td>False</td>\n      <td>{'preload': False, 'placementTestAvailable': F...</td>\n      <td>650</td>\n      <td>{'currentStreak': None}</td>\n    </tr>\n    <tr>\n      <th>2</th>\n      <td>[]</td>\n      <td>0</td>\n      <td>none</td>\n      <td>none</td>\n      <td>False</td>\n      <td>//simg-ssl.duolingo.com/avatar/default_2</td>\n      <td>de</td>\n      <td>False</td>\n      <td>None</td>\n      <td>[{'startTimestamp': 1693007940, 'type': 'TIMED...</td>\n      <td>...</td>\n      <td>1323800050</td>\n      <td>[]</td>\n      <td>False</td>\n      <td>pepe</td>\n      <td>[users]</td>\n      <td>False</td>\n      <td>False</td>\n      <td>{'preload': False, 'placementTestAvailable': F...</td>\n      <td>510</td>\n      <td>{'currentStreak': None}</td>\n    </tr>\n    <tr>\n      <th>2</th>\n      <td>[]</td>\n      <td>0</td>\n      <td>none</td>\n      <td>none</td>\n      <td>False</td>\n      <td>//simg-ssl.duolingo.com/avatar/default_2</td>\n      <td>de</td>\n      <td>False</td>\n      <td>None</td>\n      <td>[{'startTimestamp': 1693007940, 'type': 'TIMED...</td>\n      <td>...</td>\n      <td>1323800050</td>\n      <td>[]</td>\n      <td>False</td>\n      <td>pepe</td>\n      <td>[users]</td>\n      <td>False</td>\n      <td>False</td>\n      <td>{'preload': False, 'placementTestAvailable': F...</td>\n      <td>510</td>\n      <td>{'currentStreak': None}</td>\n    </tr>\n  </tbody>\n</table>\n<p>11 rows × 37 columns</p>\n</div>"
     },
     "execution_count": 26,
     "metadata": {},
     "output_type": "execute_result"
    }
   ],
   "source": [
    "df2 = df.explode('courses')\n",
    "df2"
   ],
   "metadata": {
    "collapsed": false,
    "ExecuteTime": {
     "end_time": "2023-08-27T14:07:30.323467300Z",
     "start_time": "2023-08-27T14:07:30.247023600Z"
    }
   },
   "id": "82c2a520e359f431"
  },
  {
   "cell_type": "code",
   "execution_count": 27,
   "outputs": [
    {
     "data": {
      "text/plain": "   joinedClassroomIds  streak motivation acquisitionSurveyReason  \\\n0                  []       0       none                    none   \n1                  []       0       none                    none   \n2                  []       0       none                    none   \n3                  []       0       none                    none   \n4                  []       0       none                    none   \n5                  []       0       none                    none   \n6                  []       0       none                    none   \n7                  []       0       none                    none   \n8                  []       0       none                    none   \n9                  []       0       none                    none   \n10                 []       0       none                    none   \n\n    shouldForceConnectPhoneNumber  \\\n0                           False   \n1                           False   \n2                           False   \n3                           False   \n4                           False   \n5                           False   \n6                           False   \n7                           False   \n8                           False   \n9                           False   \n10                          False   \n\n                                          picture learningLanguage  \\\n0   //simg-ssl.duolingo.com/avatars/70/I1InO9QVw_               it   \n1   //simg-ssl.duolingo.com/avatars/70/I1InO9QVw_               it   \n2   //simg-ssl.duolingo.com/avatars/70/I1InO9QVw_               it   \n3   //simg-ssl.duolingo.com/avatars/70/I1InO9QVw_               it   \n4   //simg-ssl.duolingo.com/avatars/70/I1InO9QVw_               it   \n5   //simg-ssl.duolingo.com/avatars/70/I1InO9QVw_               it   \n6   //simg-ssl.duolingo.com/avatars/70/I1InO9QVw_               it   \n7        //simg-ssl.duolingo.com/avatar/default_2               en   \n8        //simg-ssl.duolingo.com/avatar/default_2               en   \n9        //simg-ssl.duolingo.com/avatar/default_2               de   \n10       //simg-ssl.duolingo.com/avatar/default_2               de   \n\n    hasFacebookId shakeToReportEnabled  \\\n0            True                 None   \n1            True                 None   \n2            True                 None   \n3            True                 None   \n4            True                 None   \n5            True                 None   \n6            True                 None   \n7           False                 None   \n8           False                 None   \n9           False                 None   \n10          False                 None   \n\n                                      liveOpsFeatures  ...  course_preload  \\\n0   [{'startTimestamp': 1693007940, 'type': 'TIMED...  ...           False   \n1   [{'startTimestamp': 1693007940, 'type': 'TIMED...  ...           False   \n2   [{'startTimestamp': 1693007940, 'type': 'TIMED...  ...           False   \n3   [{'startTimestamp': 1693007940, 'type': 'TIMED...  ...           False   \n4   [{'startTimestamp': 1693007940, 'type': 'TIMED...  ...           False   \n5   [{'startTimestamp': 1693007940, 'type': 'TIMED...  ...           False   \n6   [{'startTimestamp': 1693007940, 'type': 'TIMED...  ...           False   \n7   [{'startTimestamp': 1693007940, 'type': 'TIMED...  ...           False   \n8   [{'startTimestamp': 1693007940, 'type': 'TIMED...  ...           False   \n9   [{'startTimestamp': 1693007940, 'type': 'TIMED...  ...           False   \n10  [{'startTimestamp': 1693007940, 'type': 'TIMED...  ...           False   \n\n    course_placementTestAvailable course_authorId  course_title  \\\n0                           False        duolingo       Italian   \n1                           False        duolingo        French   \n2                           False        duolingo        French   \n3                           False        duolingo       English   \n4                           False        duolingo      Japanese   \n5                           False        duolingo       Spanish   \n6                           False        duolingo        German   \n7                           False        duolingo       English   \n8                           False        duolingo        French   \n9                           False        duolingo        German   \n10                          False        duolingo       Spanish   \n\n   course_learningLanguage course_xp  course_healthEnabled  \\\n0                       it     39601                  True   \n1                       fr      5872                  True   \n2                       fr      1333                  True   \n3                       en     11702                  True   \n4                       ja        15                  True   \n5                       es      4098                  True   \n6                       de      4409                  True   \n7                       en       610                  True   \n8                       fr        40                  True   \n9                       de       500                  True   \n10                      es        10                  True   \n\n   course_fromLanguage course_crowns       course_id  \n0                   en           332  DUOLINGO_IT_EN  \n1                   en           163  DUOLINGO_FR_EN  \n2                   de            20  DUOLINGO_FR_DE  \n3                   de           112  DUOLINGO_EN_DE  \n4                   en             0  DUOLINGO_JA_EN  \n5                   en             6  DUOLINGO_ES_EN  \n6                   en            46  DUOLINGO_DE_EN  \n7                   es             4  DUOLINGO_EN_ES  \n8                   es             1  DUOLINGO_FR_ES  \n9                   en             2  DUOLINGO_DE_EN  \n10                  en             0  DUOLINGO_ES_EN  \n\n[11 rows x 46 columns]",
      "text/html": "<div>\n<style scoped>\n    .dataframe tbody tr th:only-of-type {\n        vertical-align: middle;\n    }\n\n    .dataframe tbody tr th {\n        vertical-align: top;\n    }\n\n    .dataframe thead th {\n        text-align: right;\n    }\n</style>\n<table border=\"1\" class=\"dataframe\">\n  <thead>\n    <tr style=\"text-align: right;\">\n      <th></th>\n      <th>joinedClassroomIds</th>\n      <th>streak</th>\n      <th>motivation</th>\n      <th>acquisitionSurveyReason</th>\n      <th>shouldForceConnectPhoneNumber</th>\n      <th>picture</th>\n      <th>learningLanguage</th>\n      <th>hasFacebookId</th>\n      <th>shakeToReportEnabled</th>\n      <th>liveOpsFeatures</th>\n      <th>...</th>\n      <th>course_preload</th>\n      <th>course_placementTestAvailable</th>\n      <th>course_authorId</th>\n      <th>course_title</th>\n      <th>course_learningLanguage</th>\n      <th>course_xp</th>\n      <th>course_healthEnabled</th>\n      <th>course_fromLanguage</th>\n      <th>course_crowns</th>\n      <th>course_id</th>\n    </tr>\n  </thead>\n  <tbody>\n    <tr>\n      <th>0</th>\n      <td>[]</td>\n      <td>0</td>\n      <td>none</td>\n      <td>none</td>\n      <td>False</td>\n      <td>//simg-ssl.duolingo.com/avatars/70/I1InO9QVw_</td>\n      <td>it</td>\n      <td>True</td>\n      <td>None</td>\n      <td>[{'startTimestamp': 1693007940, 'type': 'TIMED...</td>\n      <td>...</td>\n      <td>False</td>\n      <td>False</td>\n      <td>duolingo</td>\n      <td>Italian</td>\n      <td>it</td>\n      <td>39601</td>\n      <td>True</td>\n      <td>en</td>\n      <td>332</td>\n      <td>DUOLINGO_IT_EN</td>\n    </tr>\n    <tr>\n      <th>1</th>\n      <td>[]</td>\n      <td>0</td>\n      <td>none</td>\n      <td>none</td>\n      <td>False</td>\n      <td>//simg-ssl.duolingo.com/avatars/70/I1InO9QVw_</td>\n      <td>it</td>\n      <td>True</td>\n      <td>None</td>\n      <td>[{'startTimestamp': 1693007940, 'type': 'TIMED...</td>\n      <td>...</td>\n      <td>False</td>\n      <td>False</td>\n      <td>duolingo</td>\n      <td>French</td>\n      <td>fr</td>\n      <td>5872</td>\n      <td>True</td>\n      <td>en</td>\n      <td>163</td>\n      <td>DUOLINGO_FR_EN</td>\n    </tr>\n    <tr>\n      <th>2</th>\n      <td>[]</td>\n      <td>0</td>\n      <td>none</td>\n      <td>none</td>\n      <td>False</td>\n      <td>//simg-ssl.duolingo.com/avatars/70/I1InO9QVw_</td>\n      <td>it</td>\n      <td>True</td>\n      <td>None</td>\n      <td>[{'startTimestamp': 1693007940, 'type': 'TIMED...</td>\n      <td>...</td>\n      <td>False</td>\n      <td>False</td>\n      <td>duolingo</td>\n      <td>French</td>\n      <td>fr</td>\n      <td>1333</td>\n      <td>True</td>\n      <td>de</td>\n      <td>20</td>\n      <td>DUOLINGO_FR_DE</td>\n    </tr>\n    <tr>\n      <th>3</th>\n      <td>[]</td>\n      <td>0</td>\n      <td>none</td>\n      <td>none</td>\n      <td>False</td>\n      <td>//simg-ssl.duolingo.com/avatars/70/I1InO9QVw_</td>\n      <td>it</td>\n      <td>True</td>\n      <td>None</td>\n      <td>[{'startTimestamp': 1693007940, 'type': 'TIMED...</td>\n      <td>...</td>\n      <td>False</td>\n      <td>False</td>\n      <td>duolingo</td>\n      <td>English</td>\n      <td>en</td>\n      <td>11702</td>\n      <td>True</td>\n      <td>de</td>\n      <td>112</td>\n      <td>DUOLINGO_EN_DE</td>\n    </tr>\n    <tr>\n      <th>4</th>\n      <td>[]</td>\n      <td>0</td>\n      <td>none</td>\n      <td>none</td>\n      <td>False</td>\n      <td>//simg-ssl.duolingo.com/avatars/70/I1InO9QVw_</td>\n      <td>it</td>\n      <td>True</td>\n      <td>None</td>\n      <td>[{'startTimestamp': 1693007940, 'type': 'TIMED...</td>\n      <td>...</td>\n      <td>False</td>\n      <td>False</td>\n      <td>duolingo</td>\n      <td>Japanese</td>\n      <td>ja</td>\n      <td>15</td>\n      <td>True</td>\n      <td>en</td>\n      <td>0</td>\n      <td>DUOLINGO_JA_EN</td>\n    </tr>\n    <tr>\n      <th>5</th>\n      <td>[]</td>\n      <td>0</td>\n      <td>none</td>\n      <td>none</td>\n      <td>False</td>\n      <td>//simg-ssl.duolingo.com/avatars/70/I1InO9QVw_</td>\n      <td>it</td>\n      <td>True</td>\n      <td>None</td>\n      <td>[{'startTimestamp': 1693007940, 'type': 'TIMED...</td>\n      <td>...</td>\n      <td>False</td>\n      <td>False</td>\n      <td>duolingo</td>\n      <td>Spanish</td>\n      <td>es</td>\n      <td>4098</td>\n      <td>True</td>\n      <td>en</td>\n      <td>6</td>\n      <td>DUOLINGO_ES_EN</td>\n    </tr>\n    <tr>\n      <th>6</th>\n      <td>[]</td>\n      <td>0</td>\n      <td>none</td>\n      <td>none</td>\n      <td>False</td>\n      <td>//simg-ssl.duolingo.com/avatars/70/I1InO9QVw_</td>\n      <td>it</td>\n      <td>True</td>\n      <td>None</td>\n      <td>[{'startTimestamp': 1693007940, 'type': 'TIMED...</td>\n      <td>...</td>\n      <td>False</td>\n      <td>False</td>\n      <td>duolingo</td>\n      <td>German</td>\n      <td>de</td>\n      <td>4409</td>\n      <td>True</td>\n      <td>en</td>\n      <td>46</td>\n      <td>DUOLINGO_DE_EN</td>\n    </tr>\n    <tr>\n      <th>7</th>\n      <td>[]</td>\n      <td>0</td>\n      <td>none</td>\n      <td>none</td>\n      <td>False</td>\n      <td>//simg-ssl.duolingo.com/avatar/default_2</td>\n      <td>en</td>\n      <td>False</td>\n      <td>None</td>\n      <td>[{'startTimestamp': 1693007940, 'type': 'TIMED...</td>\n      <td>...</td>\n      <td>False</td>\n      <td>False</td>\n      <td>duolingo</td>\n      <td>English</td>\n      <td>en</td>\n      <td>610</td>\n      <td>True</td>\n      <td>es</td>\n      <td>4</td>\n      <td>DUOLINGO_EN_ES</td>\n    </tr>\n    <tr>\n      <th>8</th>\n      <td>[]</td>\n      <td>0</td>\n      <td>none</td>\n      <td>none</td>\n      <td>False</td>\n      <td>//simg-ssl.duolingo.com/avatar/default_2</td>\n      <td>en</td>\n      <td>False</td>\n      <td>None</td>\n      <td>[{'startTimestamp': 1693007940, 'type': 'TIMED...</td>\n      <td>...</td>\n      <td>False</td>\n      <td>False</td>\n      <td>duolingo</td>\n      <td>French</td>\n      <td>fr</td>\n      <td>40</td>\n      <td>True</td>\n      <td>es</td>\n      <td>1</td>\n      <td>DUOLINGO_FR_ES</td>\n    </tr>\n    <tr>\n      <th>9</th>\n      <td>[]</td>\n      <td>0</td>\n      <td>none</td>\n      <td>none</td>\n      <td>False</td>\n      <td>//simg-ssl.duolingo.com/avatar/default_2</td>\n      <td>de</td>\n      <td>False</td>\n      <td>None</td>\n      <td>[{'startTimestamp': 1693007940, 'type': 'TIMED...</td>\n      <td>...</td>\n      <td>False</td>\n      <td>False</td>\n      <td>duolingo</td>\n      <td>German</td>\n      <td>de</td>\n      <td>500</td>\n      <td>True</td>\n      <td>en</td>\n      <td>2</td>\n      <td>DUOLINGO_DE_EN</td>\n    </tr>\n    <tr>\n      <th>10</th>\n      <td>[]</td>\n      <td>0</td>\n      <td>none</td>\n      <td>none</td>\n      <td>False</td>\n      <td>//simg-ssl.duolingo.com/avatar/default_2</td>\n      <td>de</td>\n      <td>False</td>\n      <td>None</td>\n      <td>[{'startTimestamp': 1693007940, 'type': 'TIMED...</td>\n      <td>...</td>\n      <td>False</td>\n      <td>False</td>\n      <td>duolingo</td>\n      <td>Spanish</td>\n      <td>es</td>\n      <td>10</td>\n      <td>True</td>\n      <td>en</td>\n      <td>0</td>\n      <td>DUOLINGO_ES_EN</td>\n    </tr>\n  </tbody>\n</table>\n<p>11 rows × 46 columns</p>\n</div>"
     },
     "execution_count": 27,
     "metadata": {},
     "output_type": "execute_result"
    }
   ],
   "source": [
    "df3 = pd.concat([df2.drop(['courses'], axis=1), df2['courses'].apply(pd.Series).add_prefix('course_')], axis=1).reset_index(drop=True)\n",
    "df3"
   ],
   "metadata": {
    "collapsed": false,
    "ExecuteTime": {
     "end_time": "2023-08-27T14:07:31.452732Z",
     "start_time": "2023-08-27T14:07:31.416805100Z"
    }
   },
   "id": "3ed5371d11eb6d6e"
  },
  {
   "cell_type": "code",
   "execution_count": null,
   "outputs": [],
   "source": [],
   "metadata": {
    "collapsed": false
   },
   "id": "9f3099defb6a05a6"
  },
  {
   "cell_type": "code",
   "execution_count": 37,
   "outputs": [],
   "source": [
    "diccionario = [\n",
    "    {'nombre': 'Carlos', 'edad': 22, 'cursos': [{'nombre': 'Python', 'promedio': 10, 'streak': 'random'}, {'nombre':'Django', 'promedio': 9}, {'nombre':'JavaScript', 'promedio': 9.5}], 'id': 10},\n",
    "    {'nombre': 'Juan', 'edad': 21, 'cursos': [{'nombre': 'Python', 'promedio': 8}, {'nombre':'Django', 'promedio': 7}, {'nombre':'JavaScript', 'promedio': 6.5}], 'id': 11},\n",
    "]"
   ],
   "metadata": {
    "collapsed": false,
    "ExecuteTime": {
     "end_time": "2023-08-27T14:43:52.617940100Z",
     "start_time": "2023-08-27T14:43:52.591940600Z"
    }
   },
   "id": "a7a0e81b44cfcdc7"
  },
  {
   "cell_type": "code",
   "execution_count": 38,
   "outputs": [
    {
     "data": {
      "text/plain": "   nombre  edad                                             cursos  id\n0  Carlos    22  [{'nombre': 'Python', 'promedio': 10, 'streak'...  10\n1    Juan    21  [{'nombre': 'Python', 'promedio': 8}, {'nombre...  11",
      "text/html": "<div>\n<style scoped>\n    .dataframe tbody tr th:only-of-type {\n        vertical-align: middle;\n    }\n\n    .dataframe tbody tr th {\n        vertical-align: top;\n    }\n\n    .dataframe thead th {\n        text-align: right;\n    }\n</style>\n<table border=\"1\" class=\"dataframe\">\n  <thead>\n    <tr style=\"text-align: right;\">\n      <th></th>\n      <th>nombre</th>\n      <th>edad</th>\n      <th>cursos</th>\n      <th>id</th>\n    </tr>\n  </thead>\n  <tbody>\n    <tr>\n      <th>0</th>\n      <td>Carlos</td>\n      <td>22</td>\n      <td>[{'nombre': 'Python', 'promedio': 10, 'streak'...</td>\n      <td>10</td>\n    </tr>\n    <tr>\n      <th>1</th>\n      <td>Juan</td>\n      <td>21</td>\n      <td>[{'nombre': 'Python', 'promedio': 8}, {'nombre...</td>\n      <td>11</td>\n    </tr>\n  </tbody>\n</table>\n</div>"
     },
     "execution_count": 38,
     "metadata": {},
     "output_type": "execute_result"
    }
   ],
   "source": [
    "df = pd.DataFrame(diccionario)\n",
    "df"
   ],
   "metadata": {
    "collapsed": false,
    "ExecuteTime": {
     "end_time": "2023-08-27T14:43:53.398618200Z",
     "start_time": "2023-08-27T14:43:53.378042700Z"
    }
   },
   "id": "1d180b2033cb7436"
  },
  {
   "cell_type": "code",
   "execution_count": 39,
   "outputs": [
    {
     "data": {
      "text/plain": "   nombre  edad                                             cursos  id\n0  Carlos    22  {'nombre': 'Python', 'promedio': 10, 'streak':...  10\n0  Carlos    22                {'nombre': 'Django', 'promedio': 9}  10\n0  Carlos    22          {'nombre': 'JavaScript', 'promedio': 9.5}  10\n1    Juan    21                {'nombre': 'Python', 'promedio': 8}  11\n1    Juan    21                {'nombre': 'Django', 'promedio': 7}  11\n1    Juan    21          {'nombre': 'JavaScript', 'promedio': 6.5}  11",
      "text/html": "<div>\n<style scoped>\n    .dataframe tbody tr th:only-of-type {\n        vertical-align: middle;\n    }\n\n    .dataframe tbody tr th {\n        vertical-align: top;\n    }\n\n    .dataframe thead th {\n        text-align: right;\n    }\n</style>\n<table border=\"1\" class=\"dataframe\">\n  <thead>\n    <tr style=\"text-align: right;\">\n      <th></th>\n      <th>nombre</th>\n      <th>edad</th>\n      <th>cursos</th>\n      <th>id</th>\n    </tr>\n  </thead>\n  <tbody>\n    <tr>\n      <th>0</th>\n      <td>Carlos</td>\n      <td>22</td>\n      <td>{'nombre': 'Python', 'promedio': 10, 'streak':...</td>\n      <td>10</td>\n    </tr>\n    <tr>\n      <th>0</th>\n      <td>Carlos</td>\n      <td>22</td>\n      <td>{'nombre': 'Django', 'promedio': 9}</td>\n      <td>10</td>\n    </tr>\n    <tr>\n      <th>0</th>\n      <td>Carlos</td>\n      <td>22</td>\n      <td>{'nombre': 'JavaScript', 'promedio': 9.5}</td>\n      <td>10</td>\n    </tr>\n    <tr>\n      <th>1</th>\n      <td>Juan</td>\n      <td>21</td>\n      <td>{'nombre': 'Python', 'promedio': 8}</td>\n      <td>11</td>\n    </tr>\n    <tr>\n      <th>1</th>\n      <td>Juan</td>\n      <td>21</td>\n      <td>{'nombre': 'Django', 'promedio': 7}</td>\n      <td>11</td>\n    </tr>\n    <tr>\n      <th>1</th>\n      <td>Juan</td>\n      <td>21</td>\n      <td>{'nombre': 'JavaScript', 'promedio': 6.5}</td>\n      <td>11</td>\n    </tr>\n  </tbody>\n</table>\n</div>"
     },
     "execution_count": 39,
     "metadata": {},
     "output_type": "execute_result"
    }
   ],
   "source": [
    "df2 = df.explode('cursos')\n",
    "df2"
   ],
   "metadata": {
    "collapsed": false,
    "ExecuteTime": {
     "end_time": "2023-08-27T14:43:55.095073400Z",
     "start_time": "2023-08-27T14:43:55.067839500Z"
    }
   },
   "id": "6441c99123f712bf"
  },
  {
   "cell_type": "code",
   "execution_count": 41,
   "outputs": [
    {
     "data": {
      "text/plain": "   nombre  edad  id curso_nombre  curso_promedio curso_streak\n0  Carlos    22  10       Python            10.0       random\n0  Carlos    22  10       Django             9.0          NaN\n0  Carlos    22  10   JavaScript             9.5          NaN\n1    Juan    21  11       Python             8.0          NaN\n1    Juan    21  11       Django             7.0          NaN\n1    Juan    21  11   JavaScript             6.5          NaN",
      "text/html": "<div>\n<style scoped>\n    .dataframe tbody tr th:only-of-type {\n        vertical-align: middle;\n    }\n\n    .dataframe tbody tr th {\n        vertical-align: top;\n    }\n\n    .dataframe thead th {\n        text-align: right;\n    }\n</style>\n<table border=\"1\" class=\"dataframe\">\n  <thead>\n    <tr style=\"text-align: right;\">\n      <th></th>\n      <th>nombre</th>\n      <th>edad</th>\n      <th>id</th>\n      <th>curso_nombre</th>\n      <th>curso_promedio</th>\n      <th>curso_streak</th>\n    </tr>\n  </thead>\n  <tbody>\n    <tr>\n      <th>0</th>\n      <td>Carlos</td>\n      <td>22</td>\n      <td>10</td>\n      <td>Python</td>\n      <td>10.0</td>\n      <td>random</td>\n    </tr>\n    <tr>\n      <th>0</th>\n      <td>Carlos</td>\n      <td>22</td>\n      <td>10</td>\n      <td>Django</td>\n      <td>9.0</td>\n      <td>NaN</td>\n    </tr>\n    <tr>\n      <th>0</th>\n      <td>Carlos</td>\n      <td>22</td>\n      <td>10</td>\n      <td>JavaScript</td>\n      <td>9.5</td>\n      <td>NaN</td>\n    </tr>\n    <tr>\n      <th>1</th>\n      <td>Juan</td>\n      <td>21</td>\n      <td>11</td>\n      <td>Python</td>\n      <td>8.0</td>\n      <td>NaN</td>\n    </tr>\n    <tr>\n      <th>1</th>\n      <td>Juan</td>\n      <td>21</td>\n      <td>11</td>\n      <td>Django</td>\n      <td>7.0</td>\n      <td>NaN</td>\n    </tr>\n    <tr>\n      <th>1</th>\n      <td>Juan</td>\n      <td>21</td>\n      <td>11</td>\n      <td>JavaScript</td>\n      <td>6.5</td>\n      <td>NaN</td>\n    </tr>\n  </tbody>\n</table>\n</div>"
     },
     "execution_count": 41,
     "metadata": {},
     "output_type": "execute_result"
    }
   ],
   "source": [
    "df3 = pd.concat([df2.drop('cursos', axis=1), df2['cursos'].apply(pd.Series).add_prefix('curso_')], axis=1)\n",
    "df3"
   ],
   "metadata": {
    "collapsed": false,
    "ExecuteTime": {
     "end_time": "2023-08-27T14:44:31.457869100Z",
     "start_time": "2023-08-27T14:44:31.372544300Z"
    }
   },
   "id": "41fdfdfdfac8a3d5"
  },
  {
   "cell_type": "code",
   "execution_count": null,
   "outputs": [],
   "source": [],
   "metadata": {
    "collapsed": false
   },
   "id": "2ec4ba8c66f94105"
  }
 ],
 "metadata": {
  "kernelspec": {
   "display_name": "Python 3",
   "language": "python",
   "name": "python3"
  },
  "language_info": {
   "codemirror_mode": {
    "name": "ipython",
    "version": 2
   },
   "file_extension": ".py",
   "mimetype": "text/x-python",
   "name": "python",
   "nbconvert_exporter": "python",
   "pygments_lexer": "ipython2",
   "version": "2.7.6"
  }
 },
 "nbformat": 4,
 "nbformat_minor": 5
}
