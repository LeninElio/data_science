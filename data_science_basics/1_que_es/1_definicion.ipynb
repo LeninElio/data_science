{
 "cells": [
  {
   "cell_type": "markdown",
   "source": [
    "## Científico de datos\n",
    "\n",
    "### ¿Qué es un científico de datos?\n",
    "#### Un científico de datos es un profesional que aplica técnicas de análisis de datos para resolver problemas de negocio. El científico de datos debe ser capaz de extraer conocimiento de los datos, y comunicar los resultados de forma clara y concisa a los responsables de la toma de decisiones.\n",
    "\n",
    "### ¿Qué hace un científico de datos?\n",
    "#### Un científico de datos debe ser capaz de:\n",
    "* Extraer conocimiento de los datos.\n",
    "* Comunicar los resultados de forma clara y concisa a los responsables de la toma de decisiones.\n",
    "* Resolver problemas de negocio.\n",
    "* Aplicar técnicas de análisis de datos.\n",
    "* Utilizar herramientas de análisis de datos.\n",
    "* Utilizar herramientas de visualización de datos.\n",
    "* Utilizar herramientas de programación.\n",
    "* Utilizar herramientas de bases de datos.\n",
    "* Utilizar herramientas de Big Data.\n",
    "* Utilizar herramientas de Machine Learning.\n",
    "* Utilizar herramientas de Deep Learning.\n",
    "* Utilizar herramientas de NLP.\n",
    "* Utilizar herramientas de IoT.\n",
    "* Utilizar herramientas de Cloud Computing.\n",
    "\n",
    "### ¿Qué no hace un científico de datos?\n",
    "\n",
    "#### Un científico de datos no es un programador, ni un administrador de bases de datos, ni un administrador de sistemas, ni un experto en Big Data, ni un experto en Machine Learning, ni un experto en Deep Learning, ni un experto en NLP, ni un experto en IoT, ni un experto en Cloud Computing.\n",
    "\n",
    "#### Un científico de datos no es un experto en Big Data, pero debe ser capaz de utilizar herramientas de Big Data.\n",
    "\n",
    "#### Un científico de datos no es un experto en Machine Learning, pero debe ser capaz de utilizar herramientas de Machine Learning.\n",
    "\n",
    "![Ciencia de datos](../img/Screenshot_42.png)\n"
   ],
   "metadata": {
    "collapsed": false
   },
   "id": "7b1c14ac14e5fbcd"
  },
  {
   "cell_type": "markdown",
   "source": [
    "#### Los primeros cientificos de datos fueron matemáticos e ingenieros informaticos."
   ],
   "metadata": {
    "collapsed": false
   },
   "id": "33a1f180b84a2eb7"
  },
  {
   "cell_type": "code",
   "execution_count": null,
   "outputs": [],
   "source": [],
   "metadata": {
    "collapsed": false
   },
   "id": "734166b7eae693ac"
  }
 ],
 "metadata": {
  "kernelspec": {
   "display_name": "Python 3",
   "language": "python",
   "name": "python3"
  },
  "language_info": {
   "codemirror_mode": {
    "name": "ipython",
    "version": 2
   },
   "file_extension": ".py",
   "mimetype": "text/x-python",
   "name": "python",
   "nbconvert_exporter": "python",
   "pygments_lexer": "ipython2",
   "version": "2.7.6"
  }
 },
 "nbformat": 4,
 "nbformat_minor": 5
}
