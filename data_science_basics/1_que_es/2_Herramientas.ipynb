{
 "cells": [
  {
   "cell_type": "markdown",
   "source": [
    "* Es el metodo cientifico que hace a un cientifico de datos no las Herramientas.\n",
    "* Es un proceso iterativo y no lineal.\n",
    "* Es un proceso de prueba y error.\n",
    "* Es un proceso de aprendizaje.\n",
    "\n",
    "## Las herramientas caben en 3 categorias basicas:\n",
    "* Herramientas de almacenamiento\n",
    "* Herramientas de depuración\n",
    "* Herramientas de análisis\n",
    "\n",
    "## Para almacenar datos se puede usar:\n",
    "* Archivos de texto\n",
    "* Archivos binarios\n",
    "* Bases de datos relacionales\n",
    "* Bases de datos no relacionales\n",
    "\n",
    "## Para depurar datos se puede usar:\n",
    "* Herramientas de limpieza de datos\n",
    "* Herramientas de transformación de datos\n",
    "* Herramientas de visualización de datos\n",
    "* Herramientas de análisis de datos\n",
    "* Herramientas de aprendizaje automático\n",
    "* Herramientas de aprendizaje profundo\n",
    "\n",
    "## Para analizar datos se puede usar:\n",
    "* Estadística descriptiva\n",
    "* Estadística inferencial\n",
    "* Estadística predictiva\n",
    "* Estadística prescriptiva\n",
    "* Estadística bayesiana\n",
    "* Estadística frecuentista\n",
    "\n"
   ],
   "metadata": {
    "collapsed": false
   },
   "id": "c83cdaed6b6be5ee"
  },
  {
   "cell_type": "code",
   "execution_count": null,
   "id": "initial_id",
   "metadata": {
    "collapsed": true
   },
   "outputs": [],
   "source": []
  }
 ],
 "metadata": {
  "kernelspec": {
   "display_name": "Python 3",
   "language": "python",
   "name": "python3"
  },
  "language_info": {
   "codemirror_mode": {
    "name": "ipython",
    "version": 2
   },
   "file_extension": ".py",
   "mimetype": "text/x-python",
   "name": "python",
   "nbconvert_exporter": "python",
   "pygments_lexer": "ipython2",
   "version": "2.7.6"
  }
 },
 "nbformat": 4,
 "nbformat_minor": 5
}
