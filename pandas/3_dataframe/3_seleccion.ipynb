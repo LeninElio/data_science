{
 "cells": [
  {
   "cell_type": "code",
   "execution_count": 1,
   "id": "initial_id",
   "metadata": {
    "collapsed": true,
    "ExecuteTime": {
     "end_time": "2023-08-08T14:13:08.689442Z",
     "start_time": "2023-08-08T14:13:07.988238900Z"
    }
   },
   "outputs": [],
   "source": [
    "import pandas as pd"
   ]
  },
  {
   "cell_type": "code",
   "execution_count": 3,
   "outputs": [
    {
     "data": {
      "text/plain": "       id first_name   last_name                      email  gender  languaje\n0       1      Pavel     Roberts        proberts0@hexun.com    Male       NaN\n1       2    Heywood    Delgardo    hdelgardo1@examiner.com    Male   Burmese\n2       3    Gaspard       Keher            gkeher2@icq.com    Male   Amharic\n3       4     Edgard      Kesten       ekesten3@pcworld.com    Male       NaN\n4       5    Padraig         Wey          pwey4@arizona.edu    Male  Croatian\n..    ...        ...         ...                        ...     ...       ...\n995   996      Lanie  McIlherran    lmcilherranrn@alexa.com    Male    Korean\n996   997       Wash    Frossell  wfrossellro@cafepress.com    Male   Dhivehi\n997   998     Marijn     O'Gavin     mogavinrp@linkedin.com    Male     Azeri\n998   999   Quintina   Sherbrook       qsherbrookrq@last.fm  Female   Finnish\n999  1000  Francklyn    Jacobsen        fjacobsenrr@php.net    Male     Swati\n\n[1000 rows x 6 columns]",
      "text/html": "<div>\n<style scoped>\n    .dataframe tbody tr th:only-of-type {\n        vertical-align: middle;\n    }\n\n    .dataframe tbody tr th {\n        vertical-align: top;\n    }\n\n    .dataframe thead th {\n        text-align: right;\n    }\n</style>\n<table border=\"1\" class=\"dataframe\">\n  <thead>\n    <tr style=\"text-align: right;\">\n      <th></th>\n      <th>id</th>\n      <th>first_name</th>\n      <th>last_name</th>\n      <th>email</th>\n      <th>gender</th>\n      <th>languaje</th>\n    </tr>\n  </thead>\n  <tbody>\n    <tr>\n      <th>0</th>\n      <td>1</td>\n      <td>Pavel</td>\n      <td>Roberts</td>\n      <td>proberts0@hexun.com</td>\n      <td>Male</td>\n      <td>NaN</td>\n    </tr>\n    <tr>\n      <th>1</th>\n      <td>2</td>\n      <td>Heywood</td>\n      <td>Delgardo</td>\n      <td>hdelgardo1@examiner.com</td>\n      <td>Male</td>\n      <td>Burmese</td>\n    </tr>\n    <tr>\n      <th>2</th>\n      <td>3</td>\n      <td>Gaspard</td>\n      <td>Keher</td>\n      <td>gkeher2@icq.com</td>\n      <td>Male</td>\n      <td>Amharic</td>\n    </tr>\n    <tr>\n      <th>3</th>\n      <td>4</td>\n      <td>Edgard</td>\n      <td>Kesten</td>\n      <td>ekesten3@pcworld.com</td>\n      <td>Male</td>\n      <td>NaN</td>\n    </tr>\n    <tr>\n      <th>4</th>\n      <td>5</td>\n      <td>Padraig</td>\n      <td>Wey</td>\n      <td>pwey4@arizona.edu</td>\n      <td>Male</td>\n      <td>Croatian</td>\n    </tr>\n    <tr>\n      <th>...</th>\n      <td>...</td>\n      <td>...</td>\n      <td>...</td>\n      <td>...</td>\n      <td>...</td>\n      <td>...</td>\n    </tr>\n    <tr>\n      <th>995</th>\n      <td>996</td>\n      <td>Lanie</td>\n      <td>McIlherran</td>\n      <td>lmcilherranrn@alexa.com</td>\n      <td>Male</td>\n      <td>Korean</td>\n    </tr>\n    <tr>\n      <th>996</th>\n      <td>997</td>\n      <td>Wash</td>\n      <td>Frossell</td>\n      <td>wfrossellro@cafepress.com</td>\n      <td>Male</td>\n      <td>Dhivehi</td>\n    </tr>\n    <tr>\n      <th>997</th>\n      <td>998</td>\n      <td>Marijn</td>\n      <td>O'Gavin</td>\n      <td>mogavinrp@linkedin.com</td>\n      <td>Male</td>\n      <td>Azeri</td>\n    </tr>\n    <tr>\n      <th>998</th>\n      <td>999</td>\n      <td>Quintina</td>\n      <td>Sherbrook</td>\n      <td>qsherbrookrq@last.fm</td>\n      <td>Female</td>\n      <td>Finnish</td>\n    </tr>\n    <tr>\n      <th>999</th>\n      <td>1000</td>\n      <td>Francklyn</td>\n      <td>Jacobsen</td>\n      <td>fjacobsenrr@php.net</td>\n      <td>Male</td>\n      <td>Swati</td>\n    </tr>\n  </tbody>\n</table>\n<p>1000 rows × 6 columns</p>\n</div>"
     },
     "execution_count": 3,
     "metadata": {},
     "output_type": "execute_result"
    }
   ],
   "source": [
    "df = pd.read_csv('../data/personal_data.csv')\n",
    "df"
   ],
   "metadata": {
    "collapsed": false,
    "ExecuteTime": {
     "end_time": "2023-08-08T14:19:31.842548300Z",
     "start_time": "2023-08-08T14:19:31.813200900Z"
    }
   },
   "id": "ddd600f3a766e64"
  },
  {
   "cell_type": "markdown",
   "source": [
    "### Seleccion por indice"
   ],
   "metadata": {
    "collapsed": false
   },
   "id": "652df432b0b558f0"
  },
  {
   "cell_type": "code",
   "execution_count": 4,
   "outputs": [
    {
     "data": {
      "text/plain": "       id first_name   last_name                      email  gender  languaje\n2       3    Gaspard       Keher            gkeher2@icq.com    Male   Amharic\n3       4     Edgard      Kesten       ekesten3@pcworld.com    Male       NaN\n4       5    Padraig         Wey          pwey4@arizona.edu    Male  Croatian\n5       6   Matthias    Dechelle       mdechelle5@google.ru    Male  Estonian\n6       7     Marice     Swiffin     mswiffin6@examiner.com  Female     Azeri\n..    ...        ...         ...                        ...     ...       ...\n995   996      Lanie  McIlherran    lmcilherranrn@alexa.com    Male    Korean\n996   997       Wash    Frossell  wfrossellro@cafepress.com    Male   Dhivehi\n997   998     Marijn     O'Gavin     mogavinrp@linkedin.com    Male     Azeri\n998   999   Quintina   Sherbrook       qsherbrookrq@last.fm  Female   Finnish\n999  1000  Francklyn    Jacobsen        fjacobsenrr@php.net    Male     Swati\n\n[998 rows x 6 columns]",
      "text/html": "<div>\n<style scoped>\n    .dataframe tbody tr th:only-of-type {\n        vertical-align: middle;\n    }\n\n    .dataframe tbody tr th {\n        vertical-align: top;\n    }\n\n    .dataframe thead th {\n        text-align: right;\n    }\n</style>\n<table border=\"1\" class=\"dataframe\">\n  <thead>\n    <tr style=\"text-align: right;\">\n      <th></th>\n      <th>id</th>\n      <th>first_name</th>\n      <th>last_name</th>\n      <th>email</th>\n      <th>gender</th>\n      <th>languaje</th>\n    </tr>\n  </thead>\n  <tbody>\n    <tr>\n      <th>2</th>\n      <td>3</td>\n      <td>Gaspard</td>\n      <td>Keher</td>\n      <td>gkeher2@icq.com</td>\n      <td>Male</td>\n      <td>Amharic</td>\n    </tr>\n    <tr>\n      <th>3</th>\n      <td>4</td>\n      <td>Edgard</td>\n      <td>Kesten</td>\n      <td>ekesten3@pcworld.com</td>\n      <td>Male</td>\n      <td>NaN</td>\n    </tr>\n    <tr>\n      <th>4</th>\n      <td>5</td>\n      <td>Padraig</td>\n      <td>Wey</td>\n      <td>pwey4@arizona.edu</td>\n      <td>Male</td>\n      <td>Croatian</td>\n    </tr>\n    <tr>\n      <th>5</th>\n      <td>6</td>\n      <td>Matthias</td>\n      <td>Dechelle</td>\n      <td>mdechelle5@google.ru</td>\n      <td>Male</td>\n      <td>Estonian</td>\n    </tr>\n    <tr>\n      <th>6</th>\n      <td>7</td>\n      <td>Marice</td>\n      <td>Swiffin</td>\n      <td>mswiffin6@examiner.com</td>\n      <td>Female</td>\n      <td>Azeri</td>\n    </tr>\n    <tr>\n      <th>...</th>\n      <td>...</td>\n      <td>...</td>\n      <td>...</td>\n      <td>...</td>\n      <td>...</td>\n      <td>...</td>\n    </tr>\n    <tr>\n      <th>995</th>\n      <td>996</td>\n      <td>Lanie</td>\n      <td>McIlherran</td>\n      <td>lmcilherranrn@alexa.com</td>\n      <td>Male</td>\n      <td>Korean</td>\n    </tr>\n    <tr>\n      <th>996</th>\n      <td>997</td>\n      <td>Wash</td>\n      <td>Frossell</td>\n      <td>wfrossellro@cafepress.com</td>\n      <td>Male</td>\n      <td>Dhivehi</td>\n    </tr>\n    <tr>\n      <th>997</th>\n      <td>998</td>\n      <td>Marijn</td>\n      <td>O'Gavin</td>\n      <td>mogavinrp@linkedin.com</td>\n      <td>Male</td>\n      <td>Azeri</td>\n    </tr>\n    <tr>\n      <th>998</th>\n      <td>999</td>\n      <td>Quintina</td>\n      <td>Sherbrook</td>\n      <td>qsherbrookrq@last.fm</td>\n      <td>Female</td>\n      <td>Finnish</td>\n    </tr>\n    <tr>\n      <th>999</th>\n      <td>1000</td>\n      <td>Francklyn</td>\n      <td>Jacobsen</td>\n      <td>fjacobsenrr@php.net</td>\n      <td>Male</td>\n      <td>Swati</td>\n    </tr>\n  </tbody>\n</table>\n<p>998 rows × 6 columns</p>\n</div>"
     },
     "execution_count": 4,
     "metadata": {},
     "output_type": "execute_result"
    }
   ],
   "source": [
    "df[2:]"
   ],
   "metadata": {
    "collapsed": false,
    "ExecuteTime": {
     "end_time": "2023-08-08T14:32:07.488629Z",
     "start_time": "2023-08-08T14:32:07.469868200Z"
    }
   },
   "id": "e8c3fbbb07bbda4f"
  },
  {
   "cell_type": "code",
   "execution_count": 5,
   "outputs": [
    {
     "data": {
      "text/plain": "   id first_name last_name                 email gender  languaje\n2   3    Gaspard     Keher       gkeher2@icq.com   Male   Amharic\n3   4     Edgard    Kesten  ekesten3@pcworld.com   Male       NaN\n4   5    Padraig       Wey     pwey4@arizona.edu   Male  Croatian",
      "text/html": "<div>\n<style scoped>\n    .dataframe tbody tr th:only-of-type {\n        vertical-align: middle;\n    }\n\n    .dataframe tbody tr th {\n        vertical-align: top;\n    }\n\n    .dataframe thead th {\n        text-align: right;\n    }\n</style>\n<table border=\"1\" class=\"dataframe\">\n  <thead>\n    <tr style=\"text-align: right;\">\n      <th></th>\n      <th>id</th>\n      <th>first_name</th>\n      <th>last_name</th>\n      <th>email</th>\n      <th>gender</th>\n      <th>languaje</th>\n    </tr>\n  </thead>\n  <tbody>\n    <tr>\n      <th>2</th>\n      <td>3</td>\n      <td>Gaspard</td>\n      <td>Keher</td>\n      <td>gkeher2@icq.com</td>\n      <td>Male</td>\n      <td>Amharic</td>\n    </tr>\n    <tr>\n      <th>3</th>\n      <td>4</td>\n      <td>Edgard</td>\n      <td>Kesten</td>\n      <td>ekesten3@pcworld.com</td>\n      <td>Male</td>\n      <td>NaN</td>\n    </tr>\n    <tr>\n      <th>4</th>\n      <td>5</td>\n      <td>Padraig</td>\n      <td>Wey</td>\n      <td>pwey4@arizona.edu</td>\n      <td>Male</td>\n      <td>Croatian</td>\n    </tr>\n  </tbody>\n</table>\n</div>"
     },
     "execution_count": 5,
     "metadata": {},
     "output_type": "execute_result"
    }
   ],
   "source": [
    "df[2:5]"
   ],
   "metadata": {
    "collapsed": false,
    "ExecuteTime": {
     "end_time": "2023-08-08T14:32:12.476313600Z",
     "start_time": "2023-08-08T14:32:12.448461200Z"
    }
   },
   "id": "9d2e7789b7057303"
  },
  {
   "cell_type": "code",
   "execution_count": 10,
   "outputs": [
    {
     "data": {
      "text/plain": "  first_name gender\n2    Gaspard   Male\n3     Edgard   Male\n4    Padraig   Male",
      "text/html": "<div>\n<style scoped>\n    .dataframe tbody tr th:only-of-type {\n        vertical-align: middle;\n    }\n\n    .dataframe tbody tr th {\n        vertical-align: top;\n    }\n\n    .dataframe thead th {\n        text-align: right;\n    }\n</style>\n<table border=\"1\" class=\"dataframe\">\n  <thead>\n    <tr style=\"text-align: right;\">\n      <th></th>\n      <th>first_name</th>\n      <th>gender</th>\n    </tr>\n  </thead>\n  <tbody>\n    <tr>\n      <th>2</th>\n      <td>Gaspard</td>\n      <td>Male</td>\n    </tr>\n    <tr>\n      <th>3</th>\n      <td>Edgard</td>\n      <td>Male</td>\n    </tr>\n    <tr>\n      <th>4</th>\n      <td>Padraig</td>\n      <td>Male</td>\n    </tr>\n  </tbody>\n</table>\n</div>"
     },
     "execution_count": 10,
     "metadata": {},
     "output_type": "execute_result"
    }
   ],
   "source": [
    "df[['first_name', 'gender']][2:5]"
   ],
   "metadata": {
    "collapsed": false,
    "ExecuteTime": {
     "end_time": "2023-08-08T14:33:05.009078100Z",
     "start_time": "2023-08-08T14:33:04.993630700Z"
    }
   },
   "id": "c6742254abcd5ce2"
  },
  {
   "cell_type": "markdown",
   "source": [
    "### Por posición fila columna"
   ],
   "metadata": {
    "collapsed": false
   },
   "id": "fca9649e41dbc166"
  },
  {
   "cell_type": "code",
   "execution_count": 11,
   "outputs": [
    {
     "data": {
      "text/plain": "   id first_name\n2   3    Gaspard\n3   4     Edgard\n4   5    Padraig",
      "text/html": "<div>\n<style scoped>\n    .dataframe tbody tr th:only-of-type {\n        vertical-align: middle;\n    }\n\n    .dataframe tbody tr th {\n        vertical-align: top;\n    }\n\n    .dataframe thead th {\n        text-align: right;\n    }\n</style>\n<table border=\"1\" class=\"dataframe\">\n  <thead>\n    <tr style=\"text-align: right;\">\n      <th></th>\n      <th>id</th>\n      <th>first_name</th>\n    </tr>\n  </thead>\n  <tbody>\n    <tr>\n      <th>2</th>\n      <td>3</td>\n      <td>Gaspard</td>\n    </tr>\n    <tr>\n      <th>3</th>\n      <td>4</td>\n      <td>Edgard</td>\n    </tr>\n    <tr>\n      <th>4</th>\n      <td>5</td>\n      <td>Padraig</td>\n    </tr>\n  </tbody>\n</table>\n</div>"
     },
     "execution_count": 11,
     "metadata": {},
     "output_type": "execute_result"
    }
   ],
   "source": [
    "# df.iloc[filas, columnas]\n",
    "df.iloc[2:5, 0:2]"
   ],
   "metadata": {
    "collapsed": false,
    "ExecuteTime": {
     "end_time": "2023-08-08T14:34:37.921783600Z",
     "start_time": "2023-08-08T14:34:37.906529400Z"
    }
   },
   "id": "53c15dd260898801"
  },
  {
   "cell_type": "code",
   "execution_count": 12,
   "outputs": [
    {
     "data": {
      "text/plain": "   id last_name\n2   3     Keher\n3   4    Kesten\n4   5       Wey",
      "text/html": "<div>\n<style scoped>\n    .dataframe tbody tr th:only-of-type {\n        vertical-align: middle;\n    }\n\n    .dataframe tbody tr th {\n        vertical-align: top;\n    }\n\n    .dataframe thead th {\n        text-align: right;\n    }\n</style>\n<table border=\"1\" class=\"dataframe\">\n  <thead>\n    <tr style=\"text-align: right;\">\n      <th></th>\n      <th>id</th>\n      <th>last_name</th>\n    </tr>\n  </thead>\n  <tbody>\n    <tr>\n      <th>2</th>\n      <td>3</td>\n      <td>Keher</td>\n    </tr>\n    <tr>\n      <th>3</th>\n      <td>4</td>\n      <td>Kesten</td>\n    </tr>\n    <tr>\n      <th>4</th>\n      <td>5</td>\n      <td>Wey</td>\n    </tr>\n  </tbody>\n</table>\n</div>"
     },
     "execution_count": 12,
     "metadata": {},
     "output_type": "execute_result"
    }
   ],
   "source": [
    "df.iloc[2:5, [0, 2]]"
   ],
   "metadata": {
    "collapsed": false,
    "ExecuteTime": {
     "end_time": "2023-08-08T14:38:43.062491900Z",
     "start_time": "2023-08-08T14:38:43.040711300Z"
    }
   },
   "id": "b17b0d1d4e512cd7"
  },
  {
   "cell_type": "code",
   "execution_count": 13,
   "outputs": [
    {
     "data": {
      "text/plain": "   id last_name gender\n2   3     Keher   Male\n3   4    Kesten   Male\n4   5       Wey   Male",
      "text/html": "<div>\n<style scoped>\n    .dataframe tbody tr th:only-of-type {\n        vertical-align: middle;\n    }\n\n    .dataframe tbody tr th {\n        vertical-align: top;\n    }\n\n    .dataframe thead th {\n        text-align: right;\n    }\n</style>\n<table border=\"1\" class=\"dataframe\">\n  <thead>\n    <tr style=\"text-align: right;\">\n      <th></th>\n      <th>id</th>\n      <th>last_name</th>\n      <th>gender</th>\n    </tr>\n  </thead>\n  <tbody>\n    <tr>\n      <th>2</th>\n      <td>3</td>\n      <td>Keher</td>\n      <td>Male</td>\n    </tr>\n    <tr>\n      <th>3</th>\n      <td>4</td>\n      <td>Kesten</td>\n      <td>Male</td>\n    </tr>\n    <tr>\n      <th>4</th>\n      <td>5</td>\n      <td>Wey</td>\n      <td>Male</td>\n    </tr>\n  </tbody>\n</table>\n</div>"
     },
     "execution_count": 13,
     "metadata": {},
     "output_type": "execute_result"
    }
   ],
   "source": [
    "df.iloc[2:5, [0, 2, 4]]"
   ],
   "metadata": {
    "collapsed": false,
    "ExecuteTime": {
     "end_time": "2023-08-08T14:39:13.153821700Z",
     "start_time": "2023-08-08T14:39:13.131860100Z"
    }
   },
   "id": "379b71bb10f83add"
  },
  {
   "cell_type": "markdown",
   "source": [
    "### Por etiqueta, fila por indice y columna por valor"
   ],
   "metadata": {
    "collapsed": false
   },
   "id": "950d22bb9d27f707"
  },
  {
   "cell_type": "code",
   "execution_count": 16,
   "outputs": [
    {
     "data": {
      "text/plain": "  first_name\n1    Heywood",
      "text/html": "<div>\n<style scoped>\n    .dataframe tbody tr th:only-of-type {\n        vertical-align: middle;\n    }\n\n    .dataframe tbody tr th {\n        vertical-align: top;\n    }\n\n    .dataframe thead th {\n        text-align: right;\n    }\n</style>\n<table border=\"1\" class=\"dataframe\">\n  <thead>\n    <tr style=\"text-align: right;\">\n      <th></th>\n      <th>first_name</th>\n    </tr>\n  </thead>\n  <tbody>\n    <tr>\n      <th>1</th>\n      <td>Heywood</td>\n    </tr>\n  </tbody>\n</table>\n</div>"
     },
     "execution_count": 16,
     "metadata": {},
     "output_type": "execute_result"
    }
   ],
   "source": [
    "df.loc[[1], ['first_name']]"
   ],
   "metadata": {
    "collapsed": false,
    "ExecuteTime": {
     "end_time": "2023-08-08T14:41:23.888341800Z",
     "start_time": "2023-08-08T14:41:23.856128500Z"
    }
   },
   "id": "d058a8871362e98a"
  },
  {
   "cell_type": "markdown",
   "source": [
    "### Filtros"
   ],
   "metadata": {
    "collapsed": false
   },
   "id": "697afc11c1c65d45"
  },
  {
   "cell_type": "code",
   "execution_count": 18,
   "outputs": [
    {
     "data": {
      "text/plain": "       id first_name   last_name                      email gender  languaje\n0       1      Pavel     Roberts        proberts0@hexun.com   Male       NaN\n1       2    Heywood    Delgardo    hdelgardo1@examiner.com   Male   Burmese\n2       3    Gaspard       Keher            gkeher2@icq.com   Male   Amharic\n3       4     Edgard      Kesten       ekesten3@pcworld.com   Male       NaN\n4       5    Padraig         Wey          pwey4@arizona.edu   Male  Croatian\n..    ...        ...         ...                        ...    ...       ...\n994   995     Holden    Freeland           hfreelandrm@g.co   Male  Estonian\n995   996      Lanie  McIlherran    lmcilherranrn@alexa.com   Male    Korean\n996   997       Wash    Frossell  wfrossellro@cafepress.com   Male   Dhivehi\n997   998     Marijn     O'Gavin     mogavinrp@linkedin.com   Male     Azeri\n999  1000  Francklyn    Jacobsen        fjacobsenrr@php.net   Male     Swati\n\n[388 rows x 6 columns]",
      "text/html": "<div>\n<style scoped>\n    .dataframe tbody tr th:only-of-type {\n        vertical-align: middle;\n    }\n\n    .dataframe tbody tr th {\n        vertical-align: top;\n    }\n\n    .dataframe thead th {\n        text-align: right;\n    }\n</style>\n<table border=\"1\" class=\"dataframe\">\n  <thead>\n    <tr style=\"text-align: right;\">\n      <th></th>\n      <th>id</th>\n      <th>first_name</th>\n      <th>last_name</th>\n      <th>email</th>\n      <th>gender</th>\n      <th>languaje</th>\n    </tr>\n  </thead>\n  <tbody>\n    <tr>\n      <th>0</th>\n      <td>1</td>\n      <td>Pavel</td>\n      <td>Roberts</td>\n      <td>proberts0@hexun.com</td>\n      <td>Male</td>\n      <td>NaN</td>\n    </tr>\n    <tr>\n      <th>1</th>\n      <td>2</td>\n      <td>Heywood</td>\n      <td>Delgardo</td>\n      <td>hdelgardo1@examiner.com</td>\n      <td>Male</td>\n      <td>Burmese</td>\n    </tr>\n    <tr>\n      <th>2</th>\n      <td>3</td>\n      <td>Gaspard</td>\n      <td>Keher</td>\n      <td>gkeher2@icq.com</td>\n      <td>Male</td>\n      <td>Amharic</td>\n    </tr>\n    <tr>\n      <th>3</th>\n      <td>4</td>\n      <td>Edgard</td>\n      <td>Kesten</td>\n      <td>ekesten3@pcworld.com</td>\n      <td>Male</td>\n      <td>NaN</td>\n    </tr>\n    <tr>\n      <th>4</th>\n      <td>5</td>\n      <td>Padraig</td>\n      <td>Wey</td>\n      <td>pwey4@arizona.edu</td>\n      <td>Male</td>\n      <td>Croatian</td>\n    </tr>\n    <tr>\n      <th>...</th>\n      <td>...</td>\n      <td>...</td>\n      <td>...</td>\n      <td>...</td>\n      <td>...</td>\n      <td>...</td>\n    </tr>\n    <tr>\n      <th>994</th>\n      <td>995</td>\n      <td>Holden</td>\n      <td>Freeland</td>\n      <td>hfreelandrm@g.co</td>\n      <td>Male</td>\n      <td>Estonian</td>\n    </tr>\n    <tr>\n      <th>995</th>\n      <td>996</td>\n      <td>Lanie</td>\n      <td>McIlherran</td>\n      <td>lmcilherranrn@alexa.com</td>\n      <td>Male</td>\n      <td>Korean</td>\n    </tr>\n    <tr>\n      <th>996</th>\n      <td>997</td>\n      <td>Wash</td>\n      <td>Frossell</td>\n      <td>wfrossellro@cafepress.com</td>\n      <td>Male</td>\n      <td>Dhivehi</td>\n    </tr>\n    <tr>\n      <th>997</th>\n      <td>998</td>\n      <td>Marijn</td>\n      <td>O'Gavin</td>\n      <td>mogavinrp@linkedin.com</td>\n      <td>Male</td>\n      <td>Azeri</td>\n    </tr>\n    <tr>\n      <th>999</th>\n      <td>1000</td>\n      <td>Francklyn</td>\n      <td>Jacobsen</td>\n      <td>fjacobsenrr@php.net</td>\n      <td>Male</td>\n      <td>Swati</td>\n    </tr>\n  </tbody>\n</table>\n<p>388 rows × 6 columns</p>\n</div>"
     },
     "execution_count": 18,
     "metadata": {},
     "output_type": "execute_result"
    }
   ],
   "source": [
    "df[df['gender'] == 'Male']"
   ],
   "metadata": {
    "collapsed": false,
    "ExecuteTime": {
     "end_time": "2023-08-08T14:46:15.173129200Z",
     "start_time": "2023-08-08T14:46:15.156997500Z"
    }
   },
   "id": "b8a1a364b3a515fc"
  },
  {
   "cell_type": "code",
   "execution_count": 22,
   "outputs": [],
   "source": [
    "df_nan = df[df['gender'].isna() & df['languaje'].isna()]"
   ],
   "metadata": {
    "collapsed": false,
    "ExecuteTime": {
     "end_time": "2023-08-08T14:49:12.797484800Z",
     "start_time": "2023-08-08T14:49:12.776727200Z"
    }
   },
   "id": "3a9281938866d492"
  },
  {
   "cell_type": "code",
   "execution_count": 23,
   "outputs": [
    {
     "data": {
      "text/plain": "      id first_name   last_name                          email gender languaje\n44    45     Rustie     Winspur              rwinspur18@ed.gov    NaN      NaN\n53    54      Wylma   Davidovic       wdavidovic1h@dedecms.com    NaN      NaN\n82    83   Reynolds       Baird         rbaird2a@quantcast.com    NaN      NaN\n120  121     Catlee  Penlington  cpenlington3c@dailymotion.com    NaN      NaN\n299  300       Joey      Daltry            jdaltry8b@google.cn    NaN      NaN\n468  469     Dorrie  Farquarson        dfarquarsond0@google.fr    NaN      NaN\n499  500      Sonny     Servant        sservantdv@omniture.com    NaN      NaN\n583  584      Torre     Duiguid     tduiguidg7@livejournal.com    NaN      NaN\n601  602     Nathan    Enticott        nenticottgp@cbsnews.com    NaN      NaN",
      "text/html": "<div>\n<style scoped>\n    .dataframe tbody tr th:only-of-type {\n        vertical-align: middle;\n    }\n\n    .dataframe tbody tr th {\n        vertical-align: top;\n    }\n\n    .dataframe thead th {\n        text-align: right;\n    }\n</style>\n<table border=\"1\" class=\"dataframe\">\n  <thead>\n    <tr style=\"text-align: right;\">\n      <th></th>\n      <th>id</th>\n      <th>first_name</th>\n      <th>last_name</th>\n      <th>email</th>\n      <th>gender</th>\n      <th>languaje</th>\n    </tr>\n  </thead>\n  <tbody>\n    <tr>\n      <th>44</th>\n      <td>45</td>\n      <td>Rustie</td>\n      <td>Winspur</td>\n      <td>rwinspur18@ed.gov</td>\n      <td>NaN</td>\n      <td>NaN</td>\n    </tr>\n    <tr>\n      <th>53</th>\n      <td>54</td>\n      <td>Wylma</td>\n      <td>Davidovic</td>\n      <td>wdavidovic1h@dedecms.com</td>\n      <td>NaN</td>\n      <td>NaN</td>\n    </tr>\n    <tr>\n      <th>82</th>\n      <td>83</td>\n      <td>Reynolds</td>\n      <td>Baird</td>\n      <td>rbaird2a@quantcast.com</td>\n      <td>NaN</td>\n      <td>NaN</td>\n    </tr>\n    <tr>\n      <th>120</th>\n      <td>121</td>\n      <td>Catlee</td>\n      <td>Penlington</td>\n      <td>cpenlington3c@dailymotion.com</td>\n      <td>NaN</td>\n      <td>NaN</td>\n    </tr>\n    <tr>\n      <th>299</th>\n      <td>300</td>\n      <td>Joey</td>\n      <td>Daltry</td>\n      <td>jdaltry8b@google.cn</td>\n      <td>NaN</td>\n      <td>NaN</td>\n    </tr>\n    <tr>\n      <th>468</th>\n      <td>469</td>\n      <td>Dorrie</td>\n      <td>Farquarson</td>\n      <td>dfarquarsond0@google.fr</td>\n      <td>NaN</td>\n      <td>NaN</td>\n    </tr>\n    <tr>\n      <th>499</th>\n      <td>500</td>\n      <td>Sonny</td>\n      <td>Servant</td>\n      <td>sservantdv@omniture.com</td>\n      <td>NaN</td>\n      <td>NaN</td>\n    </tr>\n    <tr>\n      <th>583</th>\n      <td>584</td>\n      <td>Torre</td>\n      <td>Duiguid</td>\n      <td>tduiguidg7@livejournal.com</td>\n      <td>NaN</td>\n      <td>NaN</td>\n    </tr>\n    <tr>\n      <th>601</th>\n      <td>602</td>\n      <td>Nathan</td>\n      <td>Enticott</td>\n      <td>nenticottgp@cbsnews.com</td>\n      <td>NaN</td>\n      <td>NaN</td>\n    </tr>\n  </tbody>\n</table>\n</div>"
     },
     "execution_count": 23,
     "metadata": {},
     "output_type": "execute_result"
    }
   ],
   "source": [
    "df_nan"
   ],
   "metadata": {
    "collapsed": false,
    "ExecuteTime": {
     "end_time": "2023-08-08T14:49:17.491260300Z",
     "start_time": "2023-08-08T14:49:17.469584100Z"
    }
   },
   "id": "d16f4256ced81ac7"
  },
  {
   "cell_type": "code",
   "execution_count": null,
   "outputs": [],
   "source": [],
   "metadata": {
    "collapsed": false
   },
   "id": "6837cbf0a6f7e462"
  }
 ],
 "metadata": {
  "kernelspec": {
   "display_name": "Python 3",
   "language": "python",
   "name": "python3"
  },
  "language_info": {
   "codemirror_mode": {
    "name": "ipython",
    "version": 2
   },
   "file_extension": ".py",
   "mimetype": "text/x-python",
   "name": "python",
   "nbconvert_exporter": "python",
   "pygments_lexer": "ipython2",
   "version": "2.7.6"
  }
 },
 "nbformat": 4,
 "nbformat_minor": 5
}
