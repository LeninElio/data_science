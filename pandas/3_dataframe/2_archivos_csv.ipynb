{
 "cells": [
  {
   "cell_type": "code",
   "execution_count": 1,
   "id": "initial_id",
   "metadata": {
    "collapsed": true,
    "ExecuteTime": {
     "end_time": "2023-08-08T13:43:42.661971600Z",
     "start_time": "2023-08-08T13:43:42.074286100Z"
    }
   },
   "outputs": [],
   "source": [
    "import pandas as pd"
   ]
  },
  {
   "cell_type": "code",
   "execution_count": 2,
   "outputs": [
    {
     "data": {
      "text/plain": "   nombre  edad     ciudad\n0    Juan    25     Madrid\n1     Ana    18  Barcelona\n2    Jose    23    Sevilla\n3  Arturo    27   Valencia\n4   Maria    18   Zaragoza\n5   Julio    24     Bilbao",
      "text/html": "<div>\n<style scoped>\n    .dataframe tbody tr th:only-of-type {\n        vertical-align: middle;\n    }\n\n    .dataframe tbody tr th {\n        vertical-align: top;\n    }\n\n    .dataframe thead th {\n        text-align: right;\n    }\n</style>\n<table border=\"1\" class=\"dataframe\">\n  <thead>\n    <tr style=\"text-align: right;\">\n      <th></th>\n      <th>nombre</th>\n      <th>edad</th>\n      <th>ciudad</th>\n    </tr>\n  </thead>\n  <tbody>\n    <tr>\n      <th>0</th>\n      <td>Juan</td>\n      <td>25</td>\n      <td>Madrid</td>\n    </tr>\n    <tr>\n      <th>1</th>\n      <td>Ana</td>\n      <td>18</td>\n      <td>Barcelona</td>\n    </tr>\n    <tr>\n      <th>2</th>\n      <td>Jose</td>\n      <td>23</td>\n      <td>Sevilla</td>\n    </tr>\n    <tr>\n      <th>3</th>\n      <td>Arturo</td>\n      <td>27</td>\n      <td>Valencia</td>\n    </tr>\n    <tr>\n      <th>4</th>\n      <td>Maria</td>\n      <td>18</td>\n      <td>Zaragoza</td>\n    </tr>\n    <tr>\n      <th>5</th>\n      <td>Julio</td>\n      <td>24</td>\n      <td>Bilbao</td>\n    </tr>\n  </tbody>\n</table>\n</div>"
     },
     "execution_count": 2,
     "metadata": {},
     "output_type": "execute_result"
    }
   ],
   "source": [
    "diccionario = {\n",
    "    'nombre': ['Juan', 'Ana', 'Jose', 'Arturo', 'Maria', 'Julio'],\n",
    "    'edad': [25, 18, 23, 27, 18, 24],\n",
    "    'ciudad': ['Madrid', 'Barcelona', 'Sevilla', 'Valencia', 'Zaragoza', 'Bilbao']\n",
    "}\n",
    "\n",
    "df = pd.DataFrame(diccionario)\n",
    "df"
   ],
   "metadata": {
    "collapsed": false,
    "ExecuteTime": {
     "end_time": "2023-08-08T13:43:50.493536800Z",
     "start_time": "2023-08-08T13:43:50.423767400Z"
    }
   },
   "id": "3cd7d2674e4e0ebe"
  },
  {
   "cell_type": "markdown",
   "source": [
    "### Guardar en CSV"
   ],
   "metadata": {
    "collapsed": false
   },
   "id": "5085dc0449f62ed2"
  },
  {
   "cell_type": "code",
   "execution_count": 4,
   "outputs": [],
   "source": [
    "df.to_csv('../data/datos.csv', index=False)"
   ],
   "metadata": {
    "collapsed": false,
    "ExecuteTime": {
     "end_time": "2023-08-08T13:45:01.386877400Z",
     "start_time": "2023-08-08T13:45:01.364990100Z"
    }
   },
   "id": "5e47d45783d560a9"
  },
  {
   "cell_type": "markdown",
   "source": [
    "### Leer CSV"
   ],
   "metadata": {
    "collapsed": false
   },
   "id": "afccc37bffadd22d"
  },
  {
   "cell_type": "code",
   "execution_count": 5,
   "outputs": [
    {
     "data": {
      "text/plain": "   nombre  edad     ciudad\n0    Juan    25     Madrid\n1     Ana    18  Barcelona\n2    Jose    23    Sevilla\n3  Arturo    27   Valencia\n4   Maria    18   Zaragoza\n5   Julio    24     Bilbao",
      "text/html": "<div>\n<style scoped>\n    .dataframe tbody tr th:only-of-type {\n        vertical-align: middle;\n    }\n\n    .dataframe tbody tr th {\n        vertical-align: top;\n    }\n\n    .dataframe thead th {\n        text-align: right;\n    }\n</style>\n<table border=\"1\" class=\"dataframe\">\n  <thead>\n    <tr style=\"text-align: right;\">\n      <th></th>\n      <th>nombre</th>\n      <th>edad</th>\n      <th>ciudad</th>\n    </tr>\n  </thead>\n  <tbody>\n    <tr>\n      <th>0</th>\n      <td>Juan</td>\n      <td>25</td>\n      <td>Madrid</td>\n    </tr>\n    <tr>\n      <th>1</th>\n      <td>Ana</td>\n      <td>18</td>\n      <td>Barcelona</td>\n    </tr>\n    <tr>\n      <th>2</th>\n      <td>Jose</td>\n      <td>23</td>\n      <td>Sevilla</td>\n    </tr>\n    <tr>\n      <th>3</th>\n      <td>Arturo</td>\n      <td>27</td>\n      <td>Valencia</td>\n    </tr>\n    <tr>\n      <th>4</th>\n      <td>Maria</td>\n      <td>18</td>\n      <td>Zaragoza</td>\n    </tr>\n    <tr>\n      <th>5</th>\n      <td>Julio</td>\n      <td>24</td>\n      <td>Bilbao</td>\n    </tr>\n  </tbody>\n</table>\n</div>"
     },
     "execution_count": 5,
     "metadata": {},
     "output_type": "execute_result"
    }
   ],
   "source": [
    "df_datos = pd.read_csv('../data/datos.csv')\n",
    "df_datos"
   ],
   "metadata": {
    "collapsed": false,
    "ExecuteTime": {
     "end_time": "2023-08-08T13:46:30.701428300Z",
     "start_time": "2023-08-08T13:46:30.640141900Z"
    }
   },
   "id": "60645656638a6e0"
  },
  {
   "cell_type": "markdown",
   "source": [
    "### Guardar en Excel"
   ],
   "metadata": {
    "collapsed": false
   },
   "id": "212594cd4e3ecf4a"
  },
  {
   "cell_type": "code",
   "execution_count": 6,
   "outputs": [],
   "source": [
    "df_datos.to_excel('../data/datos.xlsx', index=False)"
   ],
   "metadata": {
    "collapsed": false,
    "ExecuteTime": {
     "end_time": "2023-08-08T13:48:59.809285800Z",
     "start_time": "2023-08-08T13:48:57.468489700Z"
    }
   },
   "id": "71d5fd41eae048de"
  },
  {
   "cell_type": "code",
   "execution_count": 7,
   "outputs": [],
   "source": [
    "df_datos.to_excel('../data/datos_hoja.xlsx', index=False, sheet_name='hoja_datos')"
   ],
   "metadata": {
    "collapsed": false,
    "ExecuteTime": {
     "end_time": "2023-08-08T13:49:52.095742700Z",
     "start_time": "2023-08-08T13:49:52.019542400Z"
    }
   },
   "id": "7c2068288d10ddcf"
  },
  {
   "cell_type": "code",
   "execution_count": null,
   "outputs": [],
   "source": [],
   "metadata": {
    "collapsed": false
   },
   "id": "1e6eda1a72bd2642"
  }
 ],
 "metadata": {
  "kernelspec": {
   "display_name": "Python 3",
   "language": "python",
   "name": "python3"
  },
  "language_info": {
   "codemirror_mode": {
    "name": "ipython",
    "version": 2
   },
   "file_extension": ".py",
   "mimetype": "text/x-python",
   "name": "python",
   "nbconvert_exporter": "python",
   "pygments_lexer": "ipython2",
   "version": "2.7.6"
  }
 },
 "nbformat": 4,
 "nbformat_minor": 5
}
