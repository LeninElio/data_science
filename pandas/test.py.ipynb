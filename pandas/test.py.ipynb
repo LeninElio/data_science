{
 "cells": [
  {
   "cell_type": "code",
   "execution_count": 5,
   "outputs": [],
   "source": [
    "import pandas as pd\n",
    "import numpy as np"
   ],
   "metadata": {
    "collapsed": false,
    "ExecuteTime": {
     "end_time": "2023-08-08T15:40:18.263544800Z",
     "start_time": "2023-08-08T15:40:17.843702400Z"
    }
   },
   "id": "6c485418296699f1"
  },
  {
   "cell_type": "code",
   "execution_count": 6,
   "outputs": [],
   "source": [
    "diccionario = {'a': [1, 2, 4], 'b': [2, 5, 1], 'c': [5, 7, 8]}\n",
    "df = pd.DataFrame(diccionario)\n"
   ],
   "metadata": {
    "collapsed": false,
    "ExecuteTime": {
     "end_time": "2023-08-08T15:40:18.272633900Z",
     "start_time": "2023-08-08T15:40:18.265552100Z"
    }
   },
   "id": "5bce65021b3abfd4"
  },
  {
   "cell_type": "code",
   "execution_count": 7,
   "outputs": [
    {
     "data": {
      "text/plain": "   a  b  c\n0  1  2  5\n1  2  5  7\n2  4  1  8",
      "text/html": "<div>\n<style scoped>\n    .dataframe tbody tr th:only-of-type {\n        vertical-align: middle;\n    }\n\n    .dataframe tbody tr th {\n        vertical-align: top;\n    }\n\n    .dataframe thead th {\n        text-align: right;\n    }\n</style>\n<table border=\"1\" class=\"dataframe\">\n  <thead>\n    <tr style=\"text-align: right;\">\n      <th></th>\n      <th>a</th>\n      <th>b</th>\n      <th>c</th>\n    </tr>\n  </thead>\n  <tbody>\n    <tr>\n      <th>0</th>\n      <td>1</td>\n      <td>2</td>\n      <td>5</td>\n    </tr>\n    <tr>\n      <th>1</th>\n      <td>2</td>\n      <td>5</td>\n      <td>7</td>\n    </tr>\n    <tr>\n      <th>2</th>\n      <td>4</td>\n      <td>1</td>\n      <td>8</td>\n    </tr>\n  </tbody>\n</table>\n</div>"
     },
     "execution_count": 7,
     "metadata": {},
     "output_type": "execute_result"
    }
   ],
   "source": [
    "df"
   ],
   "metadata": {
    "collapsed": false,
    "ExecuteTime": {
     "end_time": "2023-08-08T15:40:18.302212100Z",
     "start_time": "2023-08-08T15:40:18.271123600Z"
    }
   },
   "id": "b0f85beb1ecda611"
  },
  {
   "cell_type": "code",
   "execution_count": 8,
   "outputs": [],
   "source": [
    "df['random'] = np.random.randint(0, 10)"
   ],
   "metadata": {
    "collapsed": false,
    "ExecuteTime": {
     "end_time": "2023-08-08T15:40:18.320062Z",
     "start_time": "2023-08-08T15:40:18.295542700Z"
    }
   },
   "id": "5247d113d3904c3b"
  },
  {
   "cell_type": "code",
   "execution_count": 9,
   "outputs": [
    {
     "data": {
      "text/plain": "   a  b  c  random\n0  1  2  5       4\n1  2  5  7       4\n2  4  1  8       4",
      "text/html": "<div>\n<style scoped>\n    .dataframe tbody tr th:only-of-type {\n        vertical-align: middle;\n    }\n\n    .dataframe tbody tr th {\n        vertical-align: top;\n    }\n\n    .dataframe thead th {\n        text-align: right;\n    }\n</style>\n<table border=\"1\" class=\"dataframe\">\n  <thead>\n    <tr style=\"text-align: right;\">\n      <th></th>\n      <th>a</th>\n      <th>b</th>\n      <th>c</th>\n      <th>random</th>\n    </tr>\n  </thead>\n  <tbody>\n    <tr>\n      <th>0</th>\n      <td>1</td>\n      <td>2</td>\n      <td>5</td>\n      <td>4</td>\n    </tr>\n    <tr>\n      <th>1</th>\n      <td>2</td>\n      <td>5</td>\n      <td>7</td>\n      <td>4</td>\n    </tr>\n    <tr>\n      <th>2</th>\n      <td>4</td>\n      <td>1</td>\n      <td>8</td>\n      <td>4</td>\n    </tr>\n  </tbody>\n</table>\n</div>"
     },
     "execution_count": 9,
     "metadata": {},
     "output_type": "execute_result"
    }
   ],
   "source": [
    "df"
   ],
   "metadata": {
    "collapsed": false,
    "ExecuteTime": {
     "end_time": "2023-08-08T15:40:18.345525500Z",
     "start_time": "2023-08-08T15:40:18.304211Z"
    }
   },
   "id": "9145907726607cc5"
  },
  {
   "cell_type": "code",
   "execution_count": 10,
   "outputs": [],
   "source": [
    "df['random2'] = np.random.randint(0, 10, 3)"
   ],
   "metadata": {
    "collapsed": false,
    "ExecuteTime": {
     "end_time": "2023-08-08T15:40:18.346528500Z",
     "start_time": "2023-08-08T15:40:18.316284900Z"
    }
   },
   "id": "e12ae1ae8ef15aaf"
  },
  {
   "cell_type": "code",
   "execution_count": 11,
   "outputs": [
    {
     "data": {
      "text/plain": "   a  b  c  random  random2\n0  1  2  5       4        8\n1  2  5  7       4        9\n2  4  1  8       4        3",
      "text/html": "<div>\n<style scoped>\n    .dataframe tbody tr th:only-of-type {\n        vertical-align: middle;\n    }\n\n    .dataframe tbody tr th {\n        vertical-align: top;\n    }\n\n    .dataframe thead th {\n        text-align: right;\n    }\n</style>\n<table border=\"1\" class=\"dataframe\">\n  <thead>\n    <tr style=\"text-align: right;\">\n      <th></th>\n      <th>a</th>\n      <th>b</th>\n      <th>c</th>\n      <th>random</th>\n      <th>random2</th>\n    </tr>\n  </thead>\n  <tbody>\n    <tr>\n      <th>0</th>\n      <td>1</td>\n      <td>2</td>\n      <td>5</td>\n      <td>4</td>\n      <td>8</td>\n    </tr>\n    <tr>\n      <th>1</th>\n      <td>2</td>\n      <td>5</td>\n      <td>7</td>\n      <td>4</td>\n      <td>9</td>\n    </tr>\n    <tr>\n      <th>2</th>\n      <td>4</td>\n      <td>1</td>\n      <td>8</td>\n      <td>4</td>\n      <td>3</td>\n    </tr>\n  </tbody>\n</table>\n</div>"
     },
     "execution_count": 11,
     "metadata": {},
     "output_type": "execute_result"
    }
   ],
   "source": [
    "df"
   ],
   "metadata": {
    "collapsed": false,
    "ExecuteTime": {
     "end_time": "2023-08-08T15:40:18.385419300Z",
     "start_time": "2023-08-08T15:40:18.325235200Z"
    }
   },
   "id": "44cf680be0ccf29d"
  },
  {
   "cell_type": "code",
   "execution_count": 12,
   "outputs": [],
   "source": [
    "df['random3'] = np.random.randint(0, 10, size=len(df))"
   ],
   "metadata": {
    "collapsed": false,
    "ExecuteTime": {
     "end_time": "2023-08-08T15:40:18.425547200Z",
     "start_time": "2023-08-08T15:40:18.336528100Z"
    }
   },
   "id": "6d2a7b42b28ed09e"
  },
  {
   "cell_type": "code",
   "execution_count": 13,
   "outputs": [
    {
     "data": {
      "text/plain": "   a  b  c  random  random2  random3\n0  1  2  5       4        8        0\n1  2  5  7       4        9        5\n2  4  1  8       4        3        2",
      "text/html": "<div>\n<style scoped>\n    .dataframe tbody tr th:only-of-type {\n        vertical-align: middle;\n    }\n\n    .dataframe tbody tr th {\n        vertical-align: top;\n    }\n\n    .dataframe thead th {\n        text-align: right;\n    }\n</style>\n<table border=\"1\" class=\"dataframe\">\n  <thead>\n    <tr style=\"text-align: right;\">\n      <th></th>\n      <th>a</th>\n      <th>b</th>\n      <th>c</th>\n      <th>random</th>\n      <th>random2</th>\n      <th>random3</th>\n    </tr>\n  </thead>\n  <tbody>\n    <tr>\n      <th>0</th>\n      <td>1</td>\n      <td>2</td>\n      <td>5</td>\n      <td>4</td>\n      <td>8</td>\n      <td>0</td>\n    </tr>\n    <tr>\n      <th>1</th>\n      <td>2</td>\n      <td>5</td>\n      <td>7</td>\n      <td>4</td>\n      <td>9</td>\n      <td>5</td>\n    </tr>\n    <tr>\n      <th>2</th>\n      <td>4</td>\n      <td>1</td>\n      <td>8</td>\n      <td>4</td>\n      <td>3</td>\n      <td>2</td>\n    </tr>\n  </tbody>\n</table>\n</div>"
     },
     "execution_count": 13,
     "metadata": {},
     "output_type": "execute_result"
    }
   ],
   "source": [
    "df"
   ],
   "metadata": {
    "collapsed": false,
    "ExecuteTime": {
     "end_time": "2023-08-08T15:40:18.426054700Z",
     "start_time": "2023-08-08T15:40:18.354469300Z"
    }
   },
   "id": "b54111660d4f0c94"
  },
  {
   "cell_type": "code",
   "execution_count": 14,
   "outputs": [
    {
     "data": {
      "text/plain": "   a  b  c  random  random2  random3   random4\n0  1  2  5       4        8        0  0.487872\n1  2  5  7       4        9        5  0.472991\n2  4  1  8       4        3        2  0.133085",
      "text/html": "<div>\n<style scoped>\n    .dataframe tbody tr th:only-of-type {\n        vertical-align: middle;\n    }\n\n    .dataframe tbody tr th {\n        vertical-align: top;\n    }\n\n    .dataframe thead th {\n        text-align: right;\n    }\n</style>\n<table border=\"1\" class=\"dataframe\">\n  <thead>\n    <tr style=\"text-align: right;\">\n      <th></th>\n      <th>a</th>\n      <th>b</th>\n      <th>c</th>\n      <th>random</th>\n      <th>random2</th>\n      <th>random3</th>\n      <th>random4</th>\n    </tr>\n  </thead>\n  <tbody>\n    <tr>\n      <th>0</th>\n      <td>1</td>\n      <td>2</td>\n      <td>5</td>\n      <td>4</td>\n      <td>8</td>\n      <td>0</td>\n      <td>0.487872</td>\n    </tr>\n    <tr>\n      <th>1</th>\n      <td>2</td>\n      <td>5</td>\n      <td>7</td>\n      <td>4</td>\n      <td>9</td>\n      <td>5</td>\n      <td>0.472991</td>\n    </tr>\n    <tr>\n      <th>2</th>\n      <td>4</td>\n      <td>1</td>\n      <td>8</td>\n      <td>4</td>\n      <td>3</td>\n      <td>2</td>\n      <td>0.133085</td>\n    </tr>\n  </tbody>\n</table>\n</div>"
     },
     "execution_count": 14,
     "metadata": {},
     "output_type": "execute_result"
    }
   ],
   "source": [
    "df['random4'] = np.random.rand(len(df))\n",
    "df"
   ],
   "metadata": {
    "collapsed": false,
    "ExecuteTime": {
     "end_time": "2023-08-08T15:40:18.427064400Z",
     "start_time": "2023-08-08T15:40:18.366160500Z"
    }
   },
   "id": "f13f26ad728e187a"
  },
  {
   "cell_type": "code",
   "execution_count": 15,
   "outputs": [],
   "source": [
    "df['random5'] = np.random.uniform(3.5, 5, len(df))"
   ],
   "metadata": {
    "collapsed": false,
    "ExecuteTime": {
     "end_time": "2023-08-08T15:40:18.428060800Z",
     "start_time": "2023-08-08T15:40:18.384417800Z"
    }
   },
   "id": "ca9173ce3c65484c"
  },
  {
   "cell_type": "code",
   "execution_count": 16,
   "outputs": [
    {
     "data": {
      "text/plain": "   a  b  c  random  random2  random3   random4   random5\n0  1  2  5       4        8        0  0.487872  4.176108\n1  2  5  7       4        9        5  0.472991  4.286554\n2  4  1  8       4        3        2  0.133085  4.455036",
      "text/html": "<div>\n<style scoped>\n    .dataframe tbody tr th:only-of-type {\n        vertical-align: middle;\n    }\n\n    .dataframe tbody tr th {\n        vertical-align: top;\n    }\n\n    .dataframe thead th {\n        text-align: right;\n    }\n</style>\n<table border=\"1\" class=\"dataframe\">\n  <thead>\n    <tr style=\"text-align: right;\">\n      <th></th>\n      <th>a</th>\n      <th>b</th>\n      <th>c</th>\n      <th>random</th>\n      <th>random2</th>\n      <th>random3</th>\n      <th>random4</th>\n      <th>random5</th>\n    </tr>\n  </thead>\n  <tbody>\n    <tr>\n      <th>0</th>\n      <td>1</td>\n      <td>2</td>\n      <td>5</td>\n      <td>4</td>\n      <td>8</td>\n      <td>0</td>\n      <td>0.487872</td>\n      <td>4.176108</td>\n    </tr>\n    <tr>\n      <th>1</th>\n      <td>2</td>\n      <td>5</td>\n      <td>7</td>\n      <td>4</td>\n      <td>9</td>\n      <td>5</td>\n      <td>0.472991</td>\n      <td>4.286554</td>\n    </tr>\n    <tr>\n      <th>2</th>\n      <td>4</td>\n      <td>1</td>\n      <td>8</td>\n      <td>4</td>\n      <td>3</td>\n      <td>2</td>\n      <td>0.133085</td>\n      <td>4.455036</td>\n    </tr>\n  </tbody>\n</table>\n</div>"
     },
     "execution_count": 16,
     "metadata": {},
     "output_type": "execute_result"
    }
   ],
   "source": [
    "df"
   ],
   "metadata": {
    "collapsed": false,
    "ExecuteTime": {
     "end_time": "2023-08-08T15:40:18.512558400Z",
     "start_time": "2023-08-08T15:40:18.390475500Z"
    }
   },
   "id": "ffab1f58ea0e68e3"
  },
  {
   "cell_type": "code",
   "execution_count": 17,
   "outputs": [],
   "source": [
    "suma = lambda x, y: x + y"
   ],
   "metadata": {
    "collapsed": false,
    "ExecuteTime": {
     "end_time": "2023-08-08T15:40:18.512558400Z",
     "start_time": "2023-08-08T15:40:18.408205800Z"
    }
   },
   "id": "1b07a1d28a25d7e4"
  },
  {
   "cell_type": "code",
   "execution_count": 18,
   "outputs": [
    {
     "data": {
      "text/plain": "5"
     },
     "execution_count": 18,
     "metadata": {},
     "output_type": "execute_result"
    }
   ],
   "source": [
    "suma(2, 3)"
   ],
   "metadata": {
    "collapsed": false,
    "ExecuteTime": {
     "end_time": "2023-08-08T15:40:18.517633100Z",
     "start_time": "2023-08-08T15:40:18.419120800Z"
    }
   },
   "id": "1dbf71d3e1578897"
  },
  {
   "cell_type": "code",
   "execution_count": 19,
   "outputs": [],
   "source": [
    "df['suma'] = df.apply(lambda x: suma(x['a'], x['b']), axis=1)"
   ],
   "metadata": {
    "collapsed": false,
    "ExecuteTime": {
     "end_time": "2023-08-08T15:40:18.530640700Z",
     "start_time": "2023-08-08T15:40:18.429093400Z"
    }
   },
   "id": "9afa942a747bcb70"
  },
  {
   "cell_type": "code",
   "execution_count": 20,
   "outputs": [
    {
     "data": {
      "text/plain": "   a  b  c  random  random2  random3   random4   random5  suma\n0  1  2  5       4        8        0  0.487872  4.176108   3.0\n1  2  5  7       4        9        5  0.472991  4.286554   7.0\n2  4  1  8       4        3        2  0.133085  4.455036   5.0",
      "text/html": "<div>\n<style scoped>\n    .dataframe tbody tr th:only-of-type {\n        vertical-align: middle;\n    }\n\n    .dataframe tbody tr th {\n        vertical-align: top;\n    }\n\n    .dataframe thead th {\n        text-align: right;\n    }\n</style>\n<table border=\"1\" class=\"dataframe\">\n  <thead>\n    <tr style=\"text-align: right;\">\n      <th></th>\n      <th>a</th>\n      <th>b</th>\n      <th>c</th>\n      <th>random</th>\n      <th>random2</th>\n      <th>random3</th>\n      <th>random4</th>\n      <th>random5</th>\n      <th>suma</th>\n    </tr>\n  </thead>\n  <tbody>\n    <tr>\n      <th>0</th>\n      <td>1</td>\n      <td>2</td>\n      <td>5</td>\n      <td>4</td>\n      <td>8</td>\n      <td>0</td>\n      <td>0.487872</td>\n      <td>4.176108</td>\n      <td>3.0</td>\n    </tr>\n    <tr>\n      <th>1</th>\n      <td>2</td>\n      <td>5</td>\n      <td>7</td>\n      <td>4</td>\n      <td>9</td>\n      <td>5</td>\n      <td>0.472991</td>\n      <td>4.286554</td>\n      <td>7.0</td>\n    </tr>\n    <tr>\n      <th>2</th>\n      <td>4</td>\n      <td>1</td>\n      <td>8</td>\n      <td>4</td>\n      <td>3</td>\n      <td>2</td>\n      <td>0.133085</td>\n      <td>4.455036</td>\n      <td>5.0</td>\n    </tr>\n  </tbody>\n</table>\n</div>"
     },
     "execution_count": 20,
     "metadata": {},
     "output_type": "execute_result"
    }
   ],
   "source": [
    "df"
   ],
   "metadata": {
    "collapsed": false,
    "ExecuteTime": {
     "end_time": "2023-08-08T15:40:18.540093500Z",
     "start_time": "2023-08-08T15:40:18.438743300Z"
    }
   },
   "id": "7d4b6a3fd9c32681"
  },
  {
   "cell_type": "code",
   "execution_count": 25,
   "outputs": [],
   "source": [
    "df['tamano'] = df.apply(lambda x: 'grande' if x['suma'] > 5 else 'pequeño', axis=1)"
   ],
   "metadata": {
    "collapsed": false,
    "ExecuteTime": {
     "end_time": "2023-08-08T16:05:29.148891800Z",
     "start_time": "2023-08-08T16:05:29.126569100Z"
    }
   },
   "id": "7800c20d534125c3"
  },
  {
   "cell_type": "code",
   "execution_count": 26,
   "outputs": [
    {
     "data": {
      "text/plain": "   a  b  c  random  random2  random3   random4   random5  suma   tamano\n0  1  2  5       4        8        0  0.487872  4.176108   3.0  pequeño\n1  2  5  7       4        9        5  0.472991  4.286554   7.0   grande\n2  4  1  8       4        3        2  0.133085  4.455036   5.0  pequeño",
      "text/html": "<div>\n<style scoped>\n    .dataframe tbody tr th:only-of-type {\n        vertical-align: middle;\n    }\n\n    .dataframe tbody tr th {\n        vertical-align: top;\n    }\n\n    .dataframe thead th {\n        text-align: right;\n    }\n</style>\n<table border=\"1\" class=\"dataframe\">\n  <thead>\n    <tr style=\"text-align: right;\">\n      <th></th>\n      <th>a</th>\n      <th>b</th>\n      <th>c</th>\n      <th>random</th>\n      <th>random2</th>\n      <th>random3</th>\n      <th>random4</th>\n      <th>random5</th>\n      <th>suma</th>\n      <th>tamano</th>\n    </tr>\n  </thead>\n  <tbody>\n    <tr>\n      <th>0</th>\n      <td>1</td>\n      <td>2</td>\n      <td>5</td>\n      <td>4</td>\n      <td>8</td>\n      <td>0</td>\n      <td>0.487872</td>\n      <td>4.176108</td>\n      <td>3.0</td>\n      <td>pequeño</td>\n    </tr>\n    <tr>\n      <th>1</th>\n      <td>2</td>\n      <td>5</td>\n      <td>7</td>\n      <td>4</td>\n      <td>9</td>\n      <td>5</td>\n      <td>0.472991</td>\n      <td>4.286554</td>\n      <td>7.0</td>\n      <td>grande</td>\n    </tr>\n    <tr>\n      <th>2</th>\n      <td>4</td>\n      <td>1</td>\n      <td>8</td>\n      <td>4</td>\n      <td>3</td>\n      <td>2</td>\n      <td>0.133085</td>\n      <td>4.455036</td>\n      <td>5.0</td>\n      <td>pequeño</td>\n    </tr>\n  </tbody>\n</table>\n</div>"
     },
     "execution_count": 26,
     "metadata": {},
     "output_type": "execute_result"
    }
   ],
   "source": [
    "df"
   ],
   "metadata": {
    "collapsed": false,
    "ExecuteTime": {
     "end_time": "2023-08-08T16:05:32.058272600Z",
     "start_time": "2023-08-08T16:05:32.035950600Z"
    }
   },
   "id": "9d47a6f922f7ace7"
  },
  {
   "cell_type": "code",
   "execution_count": 29,
   "outputs": [],
   "source": [
    "df['tamano2'] = df.apply(lambda x: len(x['tamano']), axis=1)"
   ],
   "metadata": {
    "collapsed": false,
    "ExecuteTime": {
     "end_time": "2023-08-08T16:06:50.887379900Z",
     "start_time": "2023-08-08T16:06:50.875637200Z"
    }
   },
   "id": "a4daa3d083baf624"
  },
  {
   "cell_type": "code",
   "execution_count": 30,
   "outputs": [
    {
     "data": {
      "text/plain": "   a  b  c  random  random2  random3   random4   random5  suma   tamano  \\\n0  1  2  5       4        8        0  0.487872  4.176108   3.0  pequeño   \n1  2  5  7       4        9        5  0.472991  4.286554   7.0   grande   \n2  4  1  8       4        3        2  0.133085  4.455036   5.0  pequeño   \n\n   tamano2  \n0        7  \n1        6  \n2        7  ",
      "text/html": "<div>\n<style scoped>\n    .dataframe tbody tr th:only-of-type {\n        vertical-align: middle;\n    }\n\n    .dataframe tbody tr th {\n        vertical-align: top;\n    }\n\n    .dataframe thead th {\n        text-align: right;\n    }\n</style>\n<table border=\"1\" class=\"dataframe\">\n  <thead>\n    <tr style=\"text-align: right;\">\n      <th></th>\n      <th>a</th>\n      <th>b</th>\n      <th>c</th>\n      <th>random</th>\n      <th>random2</th>\n      <th>random3</th>\n      <th>random4</th>\n      <th>random5</th>\n      <th>suma</th>\n      <th>tamano</th>\n      <th>tamano2</th>\n    </tr>\n  </thead>\n  <tbody>\n    <tr>\n      <th>0</th>\n      <td>1</td>\n      <td>2</td>\n      <td>5</td>\n      <td>4</td>\n      <td>8</td>\n      <td>0</td>\n      <td>0.487872</td>\n      <td>4.176108</td>\n      <td>3.0</td>\n      <td>pequeño</td>\n      <td>7</td>\n    </tr>\n    <tr>\n      <th>1</th>\n      <td>2</td>\n      <td>5</td>\n      <td>7</td>\n      <td>4</td>\n      <td>9</td>\n      <td>5</td>\n      <td>0.472991</td>\n      <td>4.286554</td>\n      <td>7.0</td>\n      <td>grande</td>\n      <td>6</td>\n    </tr>\n    <tr>\n      <th>2</th>\n      <td>4</td>\n      <td>1</td>\n      <td>8</td>\n      <td>4</td>\n      <td>3</td>\n      <td>2</td>\n      <td>0.133085</td>\n      <td>4.455036</td>\n      <td>5.0</td>\n      <td>pequeño</td>\n      <td>7</td>\n    </tr>\n  </tbody>\n</table>\n</div>"
     },
     "execution_count": 30,
     "metadata": {},
     "output_type": "execute_result"
    }
   ],
   "source": [
    "df"
   ],
   "metadata": {
    "collapsed": false,
    "ExecuteTime": {
     "end_time": "2023-08-08T16:06:53.213258100Z",
     "start_time": "2023-08-08T16:06:53.186942700Z"
    }
   },
   "id": "8e7e358083b1d39d"
  },
  {
   "cell_type": "code",
   "execution_count": 32,
   "outputs": [],
   "source": [
    "letras = lambda x: len(x)"
   ],
   "metadata": {
    "collapsed": false,
    "ExecuteTime": {
     "end_time": "2023-08-08T16:08:36.569263200Z",
     "start_time": "2023-08-08T16:08:36.551933100Z"
    }
   },
   "id": "a1d9f26e8b8c53c4"
  },
  {
   "cell_type": "code",
   "execution_count": 34,
   "outputs": [],
   "source": [
    "df['tamano3'] = df['tamano'].apply(letras)"
   ],
   "metadata": {
    "collapsed": false,
    "ExecuteTime": {
     "end_time": "2023-08-08T16:08:50.075437700Z",
     "start_time": "2023-08-08T16:08:50.042224600Z"
    }
   },
   "id": "17c2c5dfb285a4d4"
  },
  {
   "cell_type": "code",
   "execution_count": 35,
   "outputs": [
    {
     "data": {
      "text/plain": "   a  b  c  random  random2  random3   random4   random5  suma   tamano  \\\n0  1  2  5       4        8        0  0.487872  4.176108   3.0  pequeño   \n1  2  5  7       4        9        5  0.472991  4.286554   7.0   grande   \n2  4  1  8       4        3        2  0.133085  4.455036   5.0  pequeño   \n\n   tamano2  tamano3  \n0        7        7  \n1        6        6  \n2        7        7  ",
      "text/html": "<div>\n<style scoped>\n    .dataframe tbody tr th:only-of-type {\n        vertical-align: middle;\n    }\n\n    .dataframe tbody tr th {\n        vertical-align: top;\n    }\n\n    .dataframe thead th {\n        text-align: right;\n    }\n</style>\n<table border=\"1\" class=\"dataframe\">\n  <thead>\n    <tr style=\"text-align: right;\">\n      <th></th>\n      <th>a</th>\n      <th>b</th>\n      <th>c</th>\n      <th>random</th>\n      <th>random2</th>\n      <th>random3</th>\n      <th>random4</th>\n      <th>random5</th>\n      <th>suma</th>\n      <th>tamano</th>\n      <th>tamano2</th>\n      <th>tamano3</th>\n    </tr>\n  </thead>\n  <tbody>\n    <tr>\n      <th>0</th>\n      <td>1</td>\n      <td>2</td>\n      <td>5</td>\n      <td>4</td>\n      <td>8</td>\n      <td>0</td>\n      <td>0.487872</td>\n      <td>4.176108</td>\n      <td>3.0</td>\n      <td>pequeño</td>\n      <td>7</td>\n      <td>7</td>\n    </tr>\n    <tr>\n      <th>1</th>\n      <td>2</td>\n      <td>5</td>\n      <td>7</td>\n      <td>4</td>\n      <td>9</td>\n      <td>5</td>\n      <td>0.472991</td>\n      <td>4.286554</td>\n      <td>7.0</td>\n      <td>grande</td>\n      <td>6</td>\n      <td>6</td>\n    </tr>\n    <tr>\n      <th>2</th>\n      <td>4</td>\n      <td>1</td>\n      <td>8</td>\n      <td>4</td>\n      <td>3</td>\n      <td>2</td>\n      <td>0.133085</td>\n      <td>4.455036</td>\n      <td>5.0</td>\n      <td>pequeño</td>\n      <td>7</td>\n      <td>7</td>\n    </tr>\n  </tbody>\n</table>\n</div>"
     },
     "execution_count": 35,
     "metadata": {},
     "output_type": "execute_result"
    }
   ],
   "source": [
    "df"
   ],
   "metadata": {
    "collapsed": false,
    "ExecuteTime": {
     "end_time": "2023-08-08T16:08:53.247495200Z",
     "start_time": "2023-08-08T16:08:53.221899200Z"
    }
   },
   "id": "8b954a841ba29797"
  },
  {
   "cell_type": "code",
   "execution_count": 36,
   "outputs": [],
   "source": [
    "df['tamano4'] = df['tamano'].apply(lambda x: len(x))"
   ],
   "metadata": {
    "collapsed": false,
    "ExecuteTime": {
     "end_time": "2023-08-08T16:09:01.791684800Z",
     "start_time": "2023-08-08T16:09:01.768053500Z"
    }
   },
   "id": "bf4b400275f5fd1d"
  },
  {
   "cell_type": "code",
   "execution_count": 37,
   "outputs": [
    {
     "data": {
      "text/plain": "   a  b  c  random  random2  random3   random4   random5  suma   tamano  \\\n0  1  2  5       4        8        0  0.487872  4.176108   3.0  pequeño   \n1  2  5  7       4        9        5  0.472991  4.286554   7.0   grande   \n2  4  1  8       4        3        2  0.133085  4.455036   5.0  pequeño   \n\n   tamano2  tamano3  tamano4  \n0        7        7        7  \n1        6        6        6  \n2        7        7        7  ",
      "text/html": "<div>\n<style scoped>\n    .dataframe tbody tr th:only-of-type {\n        vertical-align: middle;\n    }\n\n    .dataframe tbody tr th {\n        vertical-align: top;\n    }\n\n    .dataframe thead th {\n        text-align: right;\n    }\n</style>\n<table border=\"1\" class=\"dataframe\">\n  <thead>\n    <tr style=\"text-align: right;\">\n      <th></th>\n      <th>a</th>\n      <th>b</th>\n      <th>c</th>\n      <th>random</th>\n      <th>random2</th>\n      <th>random3</th>\n      <th>random4</th>\n      <th>random5</th>\n      <th>suma</th>\n      <th>tamano</th>\n      <th>tamano2</th>\n      <th>tamano3</th>\n      <th>tamano4</th>\n    </tr>\n  </thead>\n  <tbody>\n    <tr>\n      <th>0</th>\n      <td>1</td>\n      <td>2</td>\n      <td>5</td>\n      <td>4</td>\n      <td>8</td>\n      <td>0</td>\n      <td>0.487872</td>\n      <td>4.176108</td>\n      <td>3.0</td>\n      <td>pequeño</td>\n      <td>7</td>\n      <td>7</td>\n      <td>7</td>\n    </tr>\n    <tr>\n      <th>1</th>\n      <td>2</td>\n      <td>5</td>\n      <td>7</td>\n      <td>4</td>\n      <td>9</td>\n      <td>5</td>\n      <td>0.472991</td>\n      <td>4.286554</td>\n      <td>7.0</td>\n      <td>grande</td>\n      <td>6</td>\n      <td>6</td>\n      <td>6</td>\n    </tr>\n    <tr>\n      <th>2</th>\n      <td>4</td>\n      <td>1</td>\n      <td>8</td>\n      <td>4</td>\n      <td>3</td>\n      <td>2</td>\n      <td>0.133085</td>\n      <td>4.455036</td>\n      <td>5.0</td>\n      <td>pequeño</td>\n      <td>7</td>\n      <td>7</td>\n      <td>7</td>\n    </tr>\n  </tbody>\n</table>\n</div>"
     },
     "execution_count": 37,
     "metadata": {},
     "output_type": "execute_result"
    }
   ],
   "source": [
    "df"
   ],
   "metadata": {
    "collapsed": false,
    "ExecuteTime": {
     "end_time": "2023-08-08T16:09:03.865116800Z",
     "start_time": "2023-08-08T16:09:03.844113400Z"
    }
   },
   "id": "6601093500068ca5"
  },
  {
   "cell_type": "code",
   "execution_count": null,
   "outputs": [],
   "source": [],
   "metadata": {
    "collapsed": false
   },
   "id": "303a0532244d73db"
  }
 ],
 "metadata": {
  "kernelspec": {
   "display_name": "Python 3",
   "language": "python",
   "name": "python3"
  },
  "language_info": {
   "codemirror_mode": {
    "name": "ipython",
    "version": 2
   },
   "file_extension": ".py",
   "mimetype": "text/x-python",
   "name": "python",
   "nbconvert_exporter": "python",
   "pygments_lexer": "ipython2",
   "version": "2.7.6"
  }
 },
 "nbformat": 4,
 "nbformat_minor": 5
}
