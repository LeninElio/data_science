{
 "cells": [
  {
   "cell_type": "code",
   "execution_count": 2,
   "id": "initial_id",
   "metadata": {
    "collapsed": true,
    "ExecuteTime": {
     "end_time": "2023-08-27T21:25:45.417533700Z",
     "start_time": "2023-08-27T21:25:45.403426600Z"
    }
   },
   "outputs": [],
   "source": [
    "import pandas as pd\n",
    "import numpy as np"
   ]
  },
  {
   "cell_type": "code",
   "execution_count": 3,
   "outputs": [],
   "source": [
    "diccionario = {'A': [[0, 1, 2], 'foo', [], [3, 4]],\n",
    "               'B': 1,\n",
    "               'C': [['a', 'b', 'c'], np.nan, [], ['d', 'e']]\n",
    "               }"
   ],
   "metadata": {
    "collapsed": false,
    "ExecuteTime": {
     "end_time": "2023-08-27T21:25:46.227130200Z",
     "start_time": "2023-08-27T21:25:46.193847Z"
    }
   },
   "id": "d3ca988dccf4c4c"
  },
  {
   "cell_type": "code",
   "execution_count": 4,
   "outputs": [
    {
     "data": {
      "text/plain": "           A  B          C\n0  [0, 1, 2]  1  [a, b, c]\n1        foo  1        NaN\n2         []  1         []\n3     [3, 4]  1     [d, e]",
      "text/html": "<div>\n<style scoped>\n    .dataframe tbody tr th:only-of-type {\n        vertical-align: middle;\n    }\n\n    .dataframe tbody tr th {\n        vertical-align: top;\n    }\n\n    .dataframe thead th {\n        text-align: right;\n    }\n</style>\n<table border=\"1\" class=\"dataframe\">\n  <thead>\n    <tr style=\"text-align: right;\">\n      <th></th>\n      <th>A</th>\n      <th>B</th>\n      <th>C</th>\n    </tr>\n  </thead>\n  <tbody>\n    <tr>\n      <th>0</th>\n      <td>[0, 1, 2]</td>\n      <td>1</td>\n      <td>[a, b, c]</td>\n    </tr>\n    <tr>\n      <th>1</th>\n      <td>foo</td>\n      <td>1</td>\n      <td>NaN</td>\n    </tr>\n    <tr>\n      <th>2</th>\n      <td>[]</td>\n      <td>1</td>\n      <td>[]</td>\n    </tr>\n    <tr>\n      <th>3</th>\n      <td>[3, 4]</td>\n      <td>1</td>\n      <td>[d, e]</td>\n    </tr>\n  </tbody>\n</table>\n</div>"
     },
     "execution_count": 4,
     "metadata": {},
     "output_type": "execute_result"
    }
   ],
   "source": [
    "df = pd.DataFrame(diccionario)\n",
    "df"
   ],
   "metadata": {
    "collapsed": false,
    "ExecuteTime": {
     "end_time": "2023-08-27T21:25:51.900809500Z",
     "start_time": "2023-08-27T21:25:51.878164100Z"
    }
   },
   "id": "9542c7795fcbce4b"
  },
  {
   "cell_type": "code",
   "execution_count": 6,
   "outputs": [
    {
     "data": {
      "text/plain": "     A  B          C\n0    0  1  [a, b, c]\n0    1  1  [a, b, c]\n0    2  1  [a, b, c]\n1  foo  1        NaN\n2  NaN  1         []\n3    3  1     [d, e]\n3    4  1     [d, e]",
      "text/html": "<div>\n<style scoped>\n    .dataframe tbody tr th:only-of-type {\n        vertical-align: middle;\n    }\n\n    .dataframe tbody tr th {\n        vertical-align: top;\n    }\n\n    .dataframe thead th {\n        text-align: right;\n    }\n</style>\n<table border=\"1\" class=\"dataframe\">\n  <thead>\n    <tr style=\"text-align: right;\">\n      <th></th>\n      <th>A</th>\n      <th>B</th>\n      <th>C</th>\n    </tr>\n  </thead>\n  <tbody>\n    <tr>\n      <th>0</th>\n      <td>0</td>\n      <td>1</td>\n      <td>[a, b, c]</td>\n    </tr>\n    <tr>\n      <th>0</th>\n      <td>1</td>\n      <td>1</td>\n      <td>[a, b, c]</td>\n    </tr>\n    <tr>\n      <th>0</th>\n      <td>2</td>\n      <td>1</td>\n      <td>[a, b, c]</td>\n    </tr>\n    <tr>\n      <th>1</th>\n      <td>foo</td>\n      <td>1</td>\n      <td>NaN</td>\n    </tr>\n    <tr>\n      <th>2</th>\n      <td>NaN</td>\n      <td>1</td>\n      <td>[]</td>\n    </tr>\n    <tr>\n      <th>3</th>\n      <td>3</td>\n      <td>1</td>\n      <td>[d, e]</td>\n    </tr>\n    <tr>\n      <th>3</th>\n      <td>4</td>\n      <td>1</td>\n      <td>[d, e]</td>\n    </tr>\n  </tbody>\n</table>\n</div>"
     },
     "execution_count": 6,
     "metadata": {},
     "output_type": "execute_result"
    }
   ],
   "source": [
    "df.explode('A')"
   ],
   "metadata": {
    "collapsed": false,
    "ExecuteTime": {
     "end_time": "2023-08-27T21:26:25.554340800Z",
     "start_time": "2023-08-27T21:26:25.495759700Z"
    }
   },
   "id": "7b0a48d92b154713"
  },
  {
   "cell_type": "code",
   "execution_count": 9,
   "outputs": [
    {
     "data": {
      "text/plain": "     A  B    C\n0    0  1    a\n1    1  1    b\n2    2  1    c\n3  foo  1  NaN\n4  NaN  1  NaN\n5    3  1    d\n6    4  1    e",
      "text/html": "<div>\n<style scoped>\n    .dataframe tbody tr th:only-of-type {\n        vertical-align: middle;\n    }\n\n    .dataframe tbody tr th {\n        vertical-align: top;\n    }\n\n    .dataframe thead th {\n        text-align: right;\n    }\n</style>\n<table border=\"1\" class=\"dataframe\">\n  <thead>\n    <tr style=\"text-align: right;\">\n      <th></th>\n      <th>A</th>\n      <th>B</th>\n      <th>C</th>\n    </tr>\n  </thead>\n  <tbody>\n    <tr>\n      <th>0</th>\n      <td>0</td>\n      <td>1</td>\n      <td>a</td>\n    </tr>\n    <tr>\n      <th>1</th>\n      <td>1</td>\n      <td>1</td>\n      <td>b</td>\n    </tr>\n    <tr>\n      <th>2</th>\n      <td>2</td>\n      <td>1</td>\n      <td>c</td>\n    </tr>\n    <tr>\n      <th>3</th>\n      <td>foo</td>\n      <td>1</td>\n      <td>NaN</td>\n    </tr>\n    <tr>\n      <th>4</th>\n      <td>NaN</td>\n      <td>1</td>\n      <td>NaN</td>\n    </tr>\n    <tr>\n      <th>5</th>\n      <td>3</td>\n      <td>1</td>\n      <td>d</td>\n    </tr>\n    <tr>\n      <th>6</th>\n      <td>4</td>\n      <td>1</td>\n      <td>e</td>\n    </tr>\n  </tbody>\n</table>\n</div>"
     },
     "execution_count": 9,
     "metadata": {},
     "output_type": "execute_result"
    }
   ],
   "source": [
    "df.explode(['A', 'C']).reset_index(drop=True)"
   ],
   "metadata": {
    "collapsed": false,
    "ExecuteTime": {
     "end_time": "2023-08-27T21:28:24.028401800Z",
     "start_time": "2023-08-27T21:28:23.964051700Z"
    }
   },
   "id": "fd008e757af96339"
  },
  {
   "cell_type": "code",
   "execution_count": 10,
   "outputs": [
    {
     "data": {
      "text/plain": "           A  B          C\n0  [0, 1, 2]  1  [a, b, c]\n1        foo  1        NaN\n2         []  1         []\n3     [3, 4]  1     [d, e]",
      "text/html": "<div>\n<style scoped>\n    .dataframe tbody tr th:only-of-type {\n        vertical-align: middle;\n    }\n\n    .dataframe tbody tr th {\n        vertical-align: top;\n    }\n\n    .dataframe thead th {\n        text-align: right;\n    }\n</style>\n<table border=\"1\" class=\"dataframe\">\n  <thead>\n    <tr style=\"text-align: right;\">\n      <th></th>\n      <th>A</th>\n      <th>B</th>\n      <th>C</th>\n    </tr>\n  </thead>\n  <tbody>\n    <tr>\n      <th>0</th>\n      <td>[0, 1, 2]</td>\n      <td>1</td>\n      <td>[a, b, c]</td>\n    </tr>\n    <tr>\n      <th>1</th>\n      <td>foo</td>\n      <td>1</td>\n      <td>NaN</td>\n    </tr>\n    <tr>\n      <th>2</th>\n      <td>[]</td>\n      <td>1</td>\n      <td>[]</td>\n    </tr>\n    <tr>\n      <th>3</th>\n      <td>[3, 4]</td>\n      <td>1</td>\n      <td>[d, e]</td>\n    </tr>\n  </tbody>\n</table>\n</div>"
     },
     "execution_count": 10,
     "metadata": {},
     "output_type": "execute_result"
    }
   ],
   "source": [
    "df"
   ],
   "metadata": {
    "collapsed": false,
    "ExecuteTime": {
     "end_time": "2023-08-27T21:28:58.705255800Z",
     "start_time": "2023-08-27T21:28:58.655878100Z"
    }
   },
   "id": "d63778e629e71439"
  },
  {
   "cell_type": "code",
   "execution_count": 11,
   "outputs": [
    {
     "data": {
      "text/plain": "     A  B          C\n0    0  1  [a, b, c]\n0    1  1  [a, b, c]\n0    2  1  [a, b, c]\n1  foo  1        NaN\n2  NaN  1         []\n3    3  1     [d, e]\n3    4  1     [d, e]",
      "text/html": "<div>\n<style scoped>\n    .dataframe tbody tr th:only-of-type {\n        vertical-align: middle;\n    }\n\n    .dataframe tbody tr th {\n        vertical-align: top;\n    }\n\n    .dataframe thead th {\n        text-align: right;\n    }\n</style>\n<table border=\"1\" class=\"dataframe\">\n  <thead>\n    <tr style=\"text-align: right;\">\n      <th></th>\n      <th>A</th>\n      <th>B</th>\n      <th>C</th>\n    </tr>\n  </thead>\n  <tbody>\n    <tr>\n      <th>0</th>\n      <td>0</td>\n      <td>1</td>\n      <td>[a, b, c]</td>\n    </tr>\n    <tr>\n      <th>0</th>\n      <td>1</td>\n      <td>1</td>\n      <td>[a, b, c]</td>\n    </tr>\n    <tr>\n      <th>0</th>\n      <td>2</td>\n      <td>1</td>\n      <td>[a, b, c]</td>\n    </tr>\n    <tr>\n      <th>1</th>\n      <td>foo</td>\n      <td>1</td>\n      <td>NaN</td>\n    </tr>\n    <tr>\n      <th>2</th>\n      <td>NaN</td>\n      <td>1</td>\n      <td>[]</td>\n    </tr>\n    <tr>\n      <th>3</th>\n      <td>3</td>\n      <td>1</td>\n      <td>[d, e]</td>\n    </tr>\n    <tr>\n      <th>3</th>\n      <td>4</td>\n      <td>1</td>\n      <td>[d, e]</td>\n    </tr>\n  </tbody>\n</table>\n</div>"
     },
     "execution_count": 11,
     "metadata": {},
     "output_type": "execute_result"
    }
   ],
   "source": [
    "df = df.explode('A')\n",
    "df"
   ],
   "metadata": {
    "collapsed": false,
    "ExecuteTime": {
     "end_time": "2023-08-27T21:29:10.233293Z",
     "start_time": "2023-08-27T21:29:10.172130200Z"
    }
   },
   "id": "c46f61b2f5c118be"
  },
  {
   "cell_type": "code",
   "execution_count": 12,
   "outputs": [],
   "source": [
    "df = df.explode('C')"
   ],
   "metadata": {
    "collapsed": false,
    "ExecuteTime": {
     "end_time": "2023-08-27T21:29:26.611515200Z",
     "start_time": "2023-08-27T21:29:26.578136Z"
    }
   },
   "id": "1ea3ff3122c4e583"
  },
  {
   "cell_type": "code",
   "execution_count": 13,
   "outputs": [
    {
     "data": {
      "text/plain": "     A  B    C\n0    0  1    a\n0    0  1    b\n0    0  1    c\n0    1  1    a\n0    1  1    b\n0    1  1    c\n0    2  1    a\n0    2  1    b\n0    2  1    c\n1  foo  1  NaN\n2  NaN  1  NaN\n3    3  1    d\n3    3  1    e\n3    4  1    d\n3    4  1    e",
      "text/html": "<div>\n<style scoped>\n    .dataframe tbody tr th:only-of-type {\n        vertical-align: middle;\n    }\n\n    .dataframe tbody tr th {\n        vertical-align: top;\n    }\n\n    .dataframe thead th {\n        text-align: right;\n    }\n</style>\n<table border=\"1\" class=\"dataframe\">\n  <thead>\n    <tr style=\"text-align: right;\">\n      <th></th>\n      <th>A</th>\n      <th>B</th>\n      <th>C</th>\n    </tr>\n  </thead>\n  <tbody>\n    <tr>\n      <th>0</th>\n      <td>0</td>\n      <td>1</td>\n      <td>a</td>\n    </tr>\n    <tr>\n      <th>0</th>\n      <td>0</td>\n      <td>1</td>\n      <td>b</td>\n    </tr>\n    <tr>\n      <th>0</th>\n      <td>0</td>\n      <td>1</td>\n      <td>c</td>\n    </tr>\n    <tr>\n      <th>0</th>\n      <td>1</td>\n      <td>1</td>\n      <td>a</td>\n    </tr>\n    <tr>\n      <th>0</th>\n      <td>1</td>\n      <td>1</td>\n      <td>b</td>\n    </tr>\n    <tr>\n      <th>0</th>\n      <td>1</td>\n      <td>1</td>\n      <td>c</td>\n    </tr>\n    <tr>\n      <th>0</th>\n      <td>2</td>\n      <td>1</td>\n      <td>a</td>\n    </tr>\n    <tr>\n      <th>0</th>\n      <td>2</td>\n      <td>1</td>\n      <td>b</td>\n    </tr>\n    <tr>\n      <th>0</th>\n      <td>2</td>\n      <td>1</td>\n      <td>c</td>\n    </tr>\n    <tr>\n      <th>1</th>\n      <td>foo</td>\n      <td>1</td>\n      <td>NaN</td>\n    </tr>\n    <tr>\n      <th>2</th>\n      <td>NaN</td>\n      <td>1</td>\n      <td>NaN</td>\n    </tr>\n    <tr>\n      <th>3</th>\n      <td>3</td>\n      <td>1</td>\n      <td>d</td>\n    </tr>\n    <tr>\n      <th>3</th>\n      <td>3</td>\n      <td>1</td>\n      <td>e</td>\n    </tr>\n    <tr>\n      <th>3</th>\n      <td>4</td>\n      <td>1</td>\n      <td>d</td>\n    </tr>\n    <tr>\n      <th>3</th>\n      <td>4</td>\n      <td>1</td>\n      <td>e</td>\n    </tr>\n  </tbody>\n</table>\n</div>"
     },
     "execution_count": 13,
     "metadata": {},
     "output_type": "execute_result"
    }
   ],
   "source": [
    "df"
   ],
   "metadata": {
    "collapsed": false,
    "ExecuteTime": {
     "end_time": "2023-08-27T21:29:29.283663300Z",
     "start_time": "2023-08-27T21:29:29.239125Z"
    }
   },
   "id": "eba798ff5e224688"
  },
  {
   "cell_type": "code",
   "execution_count": 20,
   "outputs": [],
   "source": [
    "estudiantes = [\n",
    "    {'nombre': 'Juan', 'id': 123, 'materias': ['Historia', 'Lenguaje', 'Matemática', 'Economía'], 'calificaciones': [9, 10, 8, 7]},\n",
    "    {'nombre': 'María', 'id': 456, 'materias': ['Historia', 'Lenguaje', 'Matemática', 'Economía'], 'calificaciones': [10, 9, 8, 7]},\n",
    "    {'nombre': 'Pedro', 'id': 789, 'materias': ['Historia', 'Lenguaje', 'Matemática', 'Economía'], 'calificaciones': [8, 9, 10, 7]},\n",
    "    {'nombre': 'Ana', 'id': 101, 'materias': ['Historia', 'Lenguaje', 'Matemática', 'Economía'], 'calificaciones': [9, 10, 8, 7]},\n",
    "    {'nombre': 'Luis', 'id': 112, 'materias': ['Historia', 'Lenguaje', 'Matemática', 'Economía'], 'calificaciones': [10, 9, 8, 7]},\n",
    "    {'nombre': 'Carlos', 'id': 131, 'materias': ['Historia', 'Lenguaje', 'Matemática', 'Economía'], 'calificaciones': [8, 9, 10, 7]},\n",
    "    {'nombre': 'Andrea', 'id': 415, 'materias': ['Historia', 'Lenguaje', 'Matemática', 'Economía'], 'calificaciones': [9, 10, 8, 7]},\n",
    "    {'nombre': 'Jorge', 'id': 161, 'materias': ['Historia', 'Lenguaje', 'Matemática', 'Economía'], 'calificaciones': [10, 9, 8, 7]},\n",
    "    {'nombre': 'Sandra', 'id': 171, 'materias': ['Historia', 'Lenguaje', 'Matemática', 'Economía'], 'calificaciones': [8, 9, 10, 7]},\n",
    "    {'nombre': 'Mónica', 'id': 181, 'materias': ['Historia', 'Lenguaje', 'Matemática', 'Economía'], 'calificaciones': [9, 10, 8, 7]}\n",
    "]"
   ],
   "metadata": {
    "collapsed": false,
    "ExecuteTime": {
     "end_time": "2023-08-27T21:35:46.545935900Z",
     "start_time": "2023-08-27T21:35:46.529330Z"
    }
   },
   "id": "2c055a719f4eaa36"
  },
  {
   "cell_type": "code",
   "execution_count": 21,
   "outputs": [
    {
     "data": {
      "text/plain": "   nombre   id                                    materias calificaciones\n0    Juan  123  [Historia, Lenguaje, Matemática, Economía]  [9, 10, 8, 7]\n1   María  456  [Historia, Lenguaje, Matemática, Economía]  [10, 9, 8, 7]\n2   Pedro  789  [Historia, Lenguaje, Matemática, Economía]  [8, 9, 10, 7]\n3     Ana  101  [Historia, Lenguaje, Matemática, Economía]  [9, 10, 8, 7]\n4    Luis  112  [Historia, Lenguaje, Matemática, Economía]  [10, 9, 8, 7]\n5  Carlos  131  [Historia, Lenguaje, Matemática, Economía]  [8, 9, 10, 7]\n6  Andrea  415  [Historia, Lenguaje, Matemática, Economía]  [9, 10, 8, 7]\n7   Jorge  161  [Historia, Lenguaje, Matemática, Economía]  [10, 9, 8, 7]\n8  Sandra  171  [Historia, Lenguaje, Matemática, Economía]  [8, 9, 10, 7]\n9  Mónica  181  [Historia, Lenguaje, Matemática, Economía]  [9, 10, 8, 7]",
      "text/html": "<div>\n<style scoped>\n    .dataframe tbody tr th:only-of-type {\n        vertical-align: middle;\n    }\n\n    .dataframe tbody tr th {\n        vertical-align: top;\n    }\n\n    .dataframe thead th {\n        text-align: right;\n    }\n</style>\n<table border=\"1\" class=\"dataframe\">\n  <thead>\n    <tr style=\"text-align: right;\">\n      <th></th>\n      <th>nombre</th>\n      <th>id</th>\n      <th>materias</th>\n      <th>calificaciones</th>\n    </tr>\n  </thead>\n  <tbody>\n    <tr>\n      <th>0</th>\n      <td>Juan</td>\n      <td>123</td>\n      <td>[Historia, Lenguaje, Matemática, Economía]</td>\n      <td>[9, 10, 8, 7]</td>\n    </tr>\n    <tr>\n      <th>1</th>\n      <td>María</td>\n      <td>456</td>\n      <td>[Historia, Lenguaje, Matemática, Economía]</td>\n      <td>[10, 9, 8, 7]</td>\n    </tr>\n    <tr>\n      <th>2</th>\n      <td>Pedro</td>\n      <td>789</td>\n      <td>[Historia, Lenguaje, Matemática, Economía]</td>\n      <td>[8, 9, 10, 7]</td>\n    </tr>\n    <tr>\n      <th>3</th>\n      <td>Ana</td>\n      <td>101</td>\n      <td>[Historia, Lenguaje, Matemática, Economía]</td>\n      <td>[9, 10, 8, 7]</td>\n    </tr>\n    <tr>\n      <th>4</th>\n      <td>Luis</td>\n      <td>112</td>\n      <td>[Historia, Lenguaje, Matemática, Economía]</td>\n      <td>[10, 9, 8, 7]</td>\n    </tr>\n    <tr>\n      <th>5</th>\n      <td>Carlos</td>\n      <td>131</td>\n      <td>[Historia, Lenguaje, Matemática, Economía]</td>\n      <td>[8, 9, 10, 7]</td>\n    </tr>\n    <tr>\n      <th>6</th>\n      <td>Andrea</td>\n      <td>415</td>\n      <td>[Historia, Lenguaje, Matemática, Economía]</td>\n      <td>[9, 10, 8, 7]</td>\n    </tr>\n    <tr>\n      <th>7</th>\n      <td>Jorge</td>\n      <td>161</td>\n      <td>[Historia, Lenguaje, Matemática, Economía]</td>\n      <td>[10, 9, 8, 7]</td>\n    </tr>\n    <tr>\n      <th>8</th>\n      <td>Sandra</td>\n      <td>171</td>\n      <td>[Historia, Lenguaje, Matemática, Economía]</td>\n      <td>[8, 9, 10, 7]</td>\n    </tr>\n    <tr>\n      <th>9</th>\n      <td>Mónica</td>\n      <td>181</td>\n      <td>[Historia, Lenguaje, Matemática, Economía]</td>\n      <td>[9, 10, 8, 7]</td>\n    </tr>\n  </tbody>\n</table>\n</div>"
     },
     "execution_count": 21,
     "metadata": {},
     "output_type": "execute_result"
    }
   ],
   "source": [
    "df = pd.DataFrame(estudiantes)\n",
    "df"
   ],
   "metadata": {
    "collapsed": false,
    "ExecuteTime": {
     "end_time": "2023-08-27T21:35:47.217464600Z",
     "start_time": "2023-08-27T21:35:47.184852Z"
    }
   },
   "id": "958db55c32ed42de"
  },
  {
   "cell_type": "code",
   "execution_count": 18,
   "outputs": [
    {
     "data": {
      "text/plain": "   nombre   id    materias calificaciones\n0    Juan  123    Historia  [9, 10, 8, 7]\n0    Juan  123    Lenguaje  [9, 10, 8, 7]\n0    Juan  123  Matemática  [9, 10, 8, 7]\n0    Juan  123    Economía  [9, 10, 8, 7]\n1   María  456    Historia  [10, 9, 8, 7]\n1   María  456    Lenguaje  [10, 9, 8, 7]\n1   María  456  Matemática  [10, 9, 8, 7]\n1   María  456    Economía  [10, 9, 8, 7]\n2   Pedro  789    Historia  [8, 9, 10, 7]\n2   Pedro  789    Lenguaje  [8, 9, 10, 7]\n2   Pedro  789  Matemática  [8, 9, 10, 7]\n2   Pedro  789    Economía  [8, 9, 10, 7]\n3     Ana  101    Historia  [9, 10, 8, 7]\n3     Ana  101    Lenguaje  [9, 10, 8, 7]\n3     Ana  101  Matemática  [9, 10, 8, 7]\n3     Ana  101    Economía  [9, 10, 8, 7]\n4    Luis  112    Historia  [10, 9, 8, 7]\n4    Luis  112    Lenguaje  [10, 9, 8, 7]\n4    Luis  112  Matemática  [10, 9, 8, 7]\n4    Luis  112    Economía  [10, 9, 8, 7]\n5  Carlos  131    Historia  [8, 9, 10, 7]\n5  Carlos  131    Lenguaje  [8, 9, 10, 7]\n5  Carlos  131  Matemática  [8, 9, 10, 7]\n5  Carlos  131    Economía  [8, 9, 10, 7]\n6  Andrea  415    Historia  [9, 10, 8, 7]\n6  Andrea  415    Lenguaje  [9, 10, 8, 7]\n6  Andrea  415  Matemática  [9, 10, 8, 7]\n6  Andrea  415    Economía  [9, 10, 8, 7]\n7   Jorge  161    Historia  [10, 9, 8, 7]\n7   Jorge  161    Lenguaje  [10, 9, 8, 7]\n7   Jorge  161  Matemática  [10, 9, 8, 7]\n7   Jorge  161    Economía  [10, 9, 8, 7]\n8  Sandra  171    Historia  [8, 9, 10, 7]\n8  Sandra  171    Lenguaje  [8, 9, 10, 7]\n8  Sandra  171  Matemática  [8, 9, 10, 7]\n8  Sandra  171    Economía  [8, 9, 10, 7]\n9  Mónica  181    Historia  [9, 10, 8, 7]\n9  Mónica  181    Lenguaje  [9, 10, 8, 7]\n9  Mónica  181  Matemática  [9, 10, 8, 7]\n9  Mónica  181    Economía  [9, 10, 8, 7]",
      "text/html": "<div>\n<style scoped>\n    .dataframe tbody tr th:only-of-type {\n        vertical-align: middle;\n    }\n\n    .dataframe tbody tr th {\n        vertical-align: top;\n    }\n\n    .dataframe thead th {\n        text-align: right;\n    }\n</style>\n<table border=\"1\" class=\"dataframe\">\n  <thead>\n    <tr style=\"text-align: right;\">\n      <th></th>\n      <th>nombre</th>\n      <th>id</th>\n      <th>materias</th>\n      <th>calificaciones</th>\n    </tr>\n  </thead>\n  <tbody>\n    <tr>\n      <th>0</th>\n      <td>Juan</td>\n      <td>123</td>\n      <td>Historia</td>\n      <td>[9, 10, 8, 7]</td>\n    </tr>\n    <tr>\n      <th>0</th>\n      <td>Juan</td>\n      <td>123</td>\n      <td>Lenguaje</td>\n      <td>[9, 10, 8, 7]</td>\n    </tr>\n    <tr>\n      <th>0</th>\n      <td>Juan</td>\n      <td>123</td>\n      <td>Matemática</td>\n      <td>[9, 10, 8, 7]</td>\n    </tr>\n    <tr>\n      <th>0</th>\n      <td>Juan</td>\n      <td>123</td>\n      <td>Economía</td>\n      <td>[9, 10, 8, 7]</td>\n    </tr>\n    <tr>\n      <th>1</th>\n      <td>María</td>\n      <td>456</td>\n      <td>Historia</td>\n      <td>[10, 9, 8, 7]</td>\n    </tr>\n    <tr>\n      <th>1</th>\n      <td>María</td>\n      <td>456</td>\n      <td>Lenguaje</td>\n      <td>[10, 9, 8, 7]</td>\n    </tr>\n    <tr>\n      <th>1</th>\n      <td>María</td>\n      <td>456</td>\n      <td>Matemática</td>\n      <td>[10, 9, 8, 7]</td>\n    </tr>\n    <tr>\n      <th>1</th>\n      <td>María</td>\n      <td>456</td>\n      <td>Economía</td>\n      <td>[10, 9, 8, 7]</td>\n    </tr>\n    <tr>\n      <th>2</th>\n      <td>Pedro</td>\n      <td>789</td>\n      <td>Historia</td>\n      <td>[8, 9, 10, 7]</td>\n    </tr>\n    <tr>\n      <th>2</th>\n      <td>Pedro</td>\n      <td>789</td>\n      <td>Lenguaje</td>\n      <td>[8, 9, 10, 7]</td>\n    </tr>\n    <tr>\n      <th>2</th>\n      <td>Pedro</td>\n      <td>789</td>\n      <td>Matemática</td>\n      <td>[8, 9, 10, 7]</td>\n    </tr>\n    <tr>\n      <th>2</th>\n      <td>Pedro</td>\n      <td>789</td>\n      <td>Economía</td>\n      <td>[8, 9, 10, 7]</td>\n    </tr>\n    <tr>\n      <th>3</th>\n      <td>Ana</td>\n      <td>101</td>\n      <td>Historia</td>\n      <td>[9, 10, 8, 7]</td>\n    </tr>\n    <tr>\n      <th>3</th>\n      <td>Ana</td>\n      <td>101</td>\n      <td>Lenguaje</td>\n      <td>[9, 10, 8, 7]</td>\n    </tr>\n    <tr>\n      <th>3</th>\n      <td>Ana</td>\n      <td>101</td>\n      <td>Matemática</td>\n      <td>[9, 10, 8, 7]</td>\n    </tr>\n    <tr>\n      <th>3</th>\n      <td>Ana</td>\n      <td>101</td>\n      <td>Economía</td>\n      <td>[9, 10, 8, 7]</td>\n    </tr>\n    <tr>\n      <th>4</th>\n      <td>Luis</td>\n      <td>112</td>\n      <td>Historia</td>\n      <td>[10, 9, 8, 7]</td>\n    </tr>\n    <tr>\n      <th>4</th>\n      <td>Luis</td>\n      <td>112</td>\n      <td>Lenguaje</td>\n      <td>[10, 9, 8, 7]</td>\n    </tr>\n    <tr>\n      <th>4</th>\n      <td>Luis</td>\n      <td>112</td>\n      <td>Matemática</td>\n      <td>[10, 9, 8, 7]</td>\n    </tr>\n    <tr>\n      <th>4</th>\n      <td>Luis</td>\n      <td>112</td>\n      <td>Economía</td>\n      <td>[10, 9, 8, 7]</td>\n    </tr>\n    <tr>\n      <th>5</th>\n      <td>Carlos</td>\n      <td>131</td>\n      <td>Historia</td>\n      <td>[8, 9, 10, 7]</td>\n    </tr>\n    <tr>\n      <th>5</th>\n      <td>Carlos</td>\n      <td>131</td>\n      <td>Lenguaje</td>\n      <td>[8, 9, 10, 7]</td>\n    </tr>\n    <tr>\n      <th>5</th>\n      <td>Carlos</td>\n      <td>131</td>\n      <td>Matemática</td>\n      <td>[8, 9, 10, 7]</td>\n    </tr>\n    <tr>\n      <th>5</th>\n      <td>Carlos</td>\n      <td>131</td>\n      <td>Economía</td>\n      <td>[8, 9, 10, 7]</td>\n    </tr>\n    <tr>\n      <th>6</th>\n      <td>Andrea</td>\n      <td>415</td>\n      <td>Historia</td>\n      <td>[9, 10, 8, 7]</td>\n    </tr>\n    <tr>\n      <th>6</th>\n      <td>Andrea</td>\n      <td>415</td>\n      <td>Lenguaje</td>\n      <td>[9, 10, 8, 7]</td>\n    </tr>\n    <tr>\n      <th>6</th>\n      <td>Andrea</td>\n      <td>415</td>\n      <td>Matemática</td>\n      <td>[9, 10, 8, 7]</td>\n    </tr>\n    <tr>\n      <th>6</th>\n      <td>Andrea</td>\n      <td>415</td>\n      <td>Economía</td>\n      <td>[9, 10, 8, 7]</td>\n    </tr>\n    <tr>\n      <th>7</th>\n      <td>Jorge</td>\n      <td>161</td>\n      <td>Historia</td>\n      <td>[10, 9, 8, 7]</td>\n    </tr>\n    <tr>\n      <th>7</th>\n      <td>Jorge</td>\n      <td>161</td>\n      <td>Lenguaje</td>\n      <td>[10, 9, 8, 7]</td>\n    </tr>\n    <tr>\n      <th>7</th>\n      <td>Jorge</td>\n      <td>161</td>\n      <td>Matemática</td>\n      <td>[10, 9, 8, 7]</td>\n    </tr>\n    <tr>\n      <th>7</th>\n      <td>Jorge</td>\n      <td>161</td>\n      <td>Economía</td>\n      <td>[10, 9, 8, 7]</td>\n    </tr>\n    <tr>\n      <th>8</th>\n      <td>Sandra</td>\n      <td>171</td>\n      <td>Historia</td>\n      <td>[8, 9, 10, 7]</td>\n    </tr>\n    <tr>\n      <th>8</th>\n      <td>Sandra</td>\n      <td>171</td>\n      <td>Lenguaje</td>\n      <td>[8, 9, 10, 7]</td>\n    </tr>\n    <tr>\n      <th>8</th>\n      <td>Sandra</td>\n      <td>171</td>\n      <td>Matemática</td>\n      <td>[8, 9, 10, 7]</td>\n    </tr>\n    <tr>\n      <th>8</th>\n      <td>Sandra</td>\n      <td>171</td>\n      <td>Economía</td>\n      <td>[8, 9, 10, 7]</td>\n    </tr>\n    <tr>\n      <th>9</th>\n      <td>Mónica</td>\n      <td>181</td>\n      <td>Historia</td>\n      <td>[9, 10, 8, 7]</td>\n    </tr>\n    <tr>\n      <th>9</th>\n      <td>Mónica</td>\n      <td>181</td>\n      <td>Lenguaje</td>\n      <td>[9, 10, 8, 7]</td>\n    </tr>\n    <tr>\n      <th>9</th>\n      <td>Mónica</td>\n      <td>181</td>\n      <td>Matemática</td>\n      <td>[9, 10, 8, 7]</td>\n    </tr>\n    <tr>\n      <th>9</th>\n      <td>Mónica</td>\n      <td>181</td>\n      <td>Economía</td>\n      <td>[9, 10, 8, 7]</td>\n    </tr>\n  </tbody>\n</table>\n</div>"
     },
     "execution_count": 18,
     "metadata": {},
     "output_type": "execute_result"
    }
   ],
   "source": [
    "df = df.explode('materias')\n",
    "df"
   ],
   "metadata": {
    "collapsed": false,
    "ExecuteTime": {
     "end_time": "2023-08-27T21:35:20.751463Z",
     "start_time": "2023-08-27T21:35:20.726874100Z"
    }
   },
   "id": "3c4dd950122a93e6"
  },
  {
   "cell_type": "code",
   "execution_count": 19,
   "outputs": [
    {
     "data": {
      "text/plain": "    nombre   id    materias calificaciones\n0     Juan  123    Historia              9\n0     Juan  123    Historia             10\n0     Juan  123    Historia              8\n0     Juan  123    Historia              7\n0     Juan  123    Lenguaje              9\n..     ...  ...         ...            ...\n9   Mónica  181  Matemática              7\n9   Mónica  181    Economía              9\n9   Mónica  181    Economía             10\n9   Mónica  181    Economía              8\n9   Mónica  181    Economía              7\n\n[160 rows x 4 columns]",
      "text/html": "<div>\n<style scoped>\n    .dataframe tbody tr th:only-of-type {\n        vertical-align: middle;\n    }\n\n    .dataframe tbody tr th {\n        vertical-align: top;\n    }\n\n    .dataframe thead th {\n        text-align: right;\n    }\n</style>\n<table border=\"1\" class=\"dataframe\">\n  <thead>\n    <tr style=\"text-align: right;\">\n      <th></th>\n      <th>nombre</th>\n      <th>id</th>\n      <th>materias</th>\n      <th>calificaciones</th>\n    </tr>\n  </thead>\n  <tbody>\n    <tr>\n      <th>0</th>\n      <td>Juan</td>\n      <td>123</td>\n      <td>Historia</td>\n      <td>9</td>\n    </tr>\n    <tr>\n      <th>0</th>\n      <td>Juan</td>\n      <td>123</td>\n      <td>Historia</td>\n      <td>10</td>\n    </tr>\n    <tr>\n      <th>0</th>\n      <td>Juan</td>\n      <td>123</td>\n      <td>Historia</td>\n      <td>8</td>\n    </tr>\n    <tr>\n      <th>0</th>\n      <td>Juan</td>\n      <td>123</td>\n      <td>Historia</td>\n      <td>7</td>\n    </tr>\n    <tr>\n      <th>0</th>\n      <td>Juan</td>\n      <td>123</td>\n      <td>Lenguaje</td>\n      <td>9</td>\n    </tr>\n    <tr>\n      <th>...</th>\n      <td>...</td>\n      <td>...</td>\n      <td>...</td>\n      <td>...</td>\n    </tr>\n    <tr>\n      <th>9</th>\n      <td>Mónica</td>\n      <td>181</td>\n      <td>Matemática</td>\n      <td>7</td>\n    </tr>\n    <tr>\n      <th>9</th>\n      <td>Mónica</td>\n      <td>181</td>\n      <td>Economía</td>\n      <td>9</td>\n    </tr>\n    <tr>\n      <th>9</th>\n      <td>Mónica</td>\n      <td>181</td>\n      <td>Economía</td>\n      <td>10</td>\n    </tr>\n    <tr>\n      <th>9</th>\n      <td>Mónica</td>\n      <td>181</td>\n      <td>Economía</td>\n      <td>8</td>\n    </tr>\n    <tr>\n      <th>9</th>\n      <td>Mónica</td>\n      <td>181</td>\n      <td>Economía</td>\n      <td>7</td>\n    </tr>\n  </tbody>\n</table>\n<p>160 rows × 4 columns</p>\n</div>"
     },
     "execution_count": 19,
     "metadata": {},
     "output_type": "execute_result"
    }
   ],
   "source": [
    "df = df.explode('calificaciones')\n",
    "df"
   ],
   "metadata": {
    "collapsed": false,
    "ExecuteTime": {
     "end_time": "2023-08-27T21:35:32.557554500Z",
     "start_time": "2023-08-27T21:35:32.527336500Z"
    }
   },
   "id": "ee1011d095f04b3c"
  },
  {
   "cell_type": "code",
   "execution_count": 23,
   "outputs": [
    {
     "data": {
      "text/plain": "    nombre   id    materias calificaciones\n0     Juan  123    Historia              9\n1     Juan  123    Lenguaje             10\n2     Juan  123  Matemática              8\n3     Juan  123    Economía              7\n4    María  456    Historia             10\n5    María  456    Lenguaje              9\n6    María  456  Matemática              8\n7    María  456    Economía              7\n8    Pedro  789    Historia              8\n9    Pedro  789    Lenguaje              9\n10   Pedro  789  Matemática             10\n11   Pedro  789    Economía              7\n12     Ana  101    Historia              9\n13     Ana  101    Lenguaje             10\n14     Ana  101  Matemática              8\n15     Ana  101    Economía              7\n16    Luis  112    Historia             10\n17    Luis  112    Lenguaje              9\n18    Luis  112  Matemática              8\n19    Luis  112    Economía              7\n20  Carlos  131    Historia              8\n21  Carlos  131    Lenguaje              9\n22  Carlos  131  Matemática             10\n23  Carlos  131    Economía              7\n24  Andrea  415    Historia              9\n25  Andrea  415    Lenguaje             10\n26  Andrea  415  Matemática              8\n27  Andrea  415    Economía              7\n28   Jorge  161    Historia             10\n29   Jorge  161    Lenguaje              9\n30   Jorge  161  Matemática              8\n31   Jorge  161    Economía              7\n32  Sandra  171    Historia              8\n33  Sandra  171    Lenguaje              9\n34  Sandra  171  Matemática             10\n35  Sandra  171    Economía              7\n36  Mónica  181    Historia              9\n37  Mónica  181    Lenguaje             10\n38  Mónica  181  Matemática              8\n39  Mónica  181    Economía              7",
      "text/html": "<div>\n<style scoped>\n    .dataframe tbody tr th:only-of-type {\n        vertical-align: middle;\n    }\n\n    .dataframe tbody tr th {\n        vertical-align: top;\n    }\n\n    .dataframe thead th {\n        text-align: right;\n    }\n</style>\n<table border=\"1\" class=\"dataframe\">\n  <thead>\n    <tr style=\"text-align: right;\">\n      <th></th>\n      <th>nombre</th>\n      <th>id</th>\n      <th>materias</th>\n      <th>calificaciones</th>\n    </tr>\n  </thead>\n  <tbody>\n    <tr>\n      <th>0</th>\n      <td>Juan</td>\n      <td>123</td>\n      <td>Historia</td>\n      <td>9</td>\n    </tr>\n    <tr>\n      <th>1</th>\n      <td>Juan</td>\n      <td>123</td>\n      <td>Lenguaje</td>\n      <td>10</td>\n    </tr>\n    <tr>\n      <th>2</th>\n      <td>Juan</td>\n      <td>123</td>\n      <td>Matemática</td>\n      <td>8</td>\n    </tr>\n    <tr>\n      <th>3</th>\n      <td>Juan</td>\n      <td>123</td>\n      <td>Economía</td>\n      <td>7</td>\n    </tr>\n    <tr>\n      <th>4</th>\n      <td>María</td>\n      <td>456</td>\n      <td>Historia</td>\n      <td>10</td>\n    </tr>\n    <tr>\n      <th>5</th>\n      <td>María</td>\n      <td>456</td>\n      <td>Lenguaje</td>\n      <td>9</td>\n    </tr>\n    <tr>\n      <th>6</th>\n      <td>María</td>\n      <td>456</td>\n      <td>Matemática</td>\n      <td>8</td>\n    </tr>\n    <tr>\n      <th>7</th>\n      <td>María</td>\n      <td>456</td>\n      <td>Economía</td>\n      <td>7</td>\n    </tr>\n    <tr>\n      <th>8</th>\n      <td>Pedro</td>\n      <td>789</td>\n      <td>Historia</td>\n      <td>8</td>\n    </tr>\n    <tr>\n      <th>9</th>\n      <td>Pedro</td>\n      <td>789</td>\n      <td>Lenguaje</td>\n      <td>9</td>\n    </tr>\n    <tr>\n      <th>10</th>\n      <td>Pedro</td>\n      <td>789</td>\n      <td>Matemática</td>\n      <td>10</td>\n    </tr>\n    <tr>\n      <th>11</th>\n      <td>Pedro</td>\n      <td>789</td>\n      <td>Economía</td>\n      <td>7</td>\n    </tr>\n    <tr>\n      <th>12</th>\n      <td>Ana</td>\n      <td>101</td>\n      <td>Historia</td>\n      <td>9</td>\n    </tr>\n    <tr>\n      <th>13</th>\n      <td>Ana</td>\n      <td>101</td>\n      <td>Lenguaje</td>\n      <td>10</td>\n    </tr>\n    <tr>\n      <th>14</th>\n      <td>Ana</td>\n      <td>101</td>\n      <td>Matemática</td>\n      <td>8</td>\n    </tr>\n    <tr>\n      <th>15</th>\n      <td>Ana</td>\n      <td>101</td>\n      <td>Economía</td>\n      <td>7</td>\n    </tr>\n    <tr>\n      <th>16</th>\n      <td>Luis</td>\n      <td>112</td>\n      <td>Historia</td>\n      <td>10</td>\n    </tr>\n    <tr>\n      <th>17</th>\n      <td>Luis</td>\n      <td>112</td>\n      <td>Lenguaje</td>\n      <td>9</td>\n    </tr>\n    <tr>\n      <th>18</th>\n      <td>Luis</td>\n      <td>112</td>\n      <td>Matemática</td>\n      <td>8</td>\n    </tr>\n    <tr>\n      <th>19</th>\n      <td>Luis</td>\n      <td>112</td>\n      <td>Economía</td>\n      <td>7</td>\n    </tr>\n    <tr>\n      <th>20</th>\n      <td>Carlos</td>\n      <td>131</td>\n      <td>Historia</td>\n      <td>8</td>\n    </tr>\n    <tr>\n      <th>21</th>\n      <td>Carlos</td>\n      <td>131</td>\n      <td>Lenguaje</td>\n      <td>9</td>\n    </tr>\n    <tr>\n      <th>22</th>\n      <td>Carlos</td>\n      <td>131</td>\n      <td>Matemática</td>\n      <td>10</td>\n    </tr>\n    <tr>\n      <th>23</th>\n      <td>Carlos</td>\n      <td>131</td>\n      <td>Economía</td>\n      <td>7</td>\n    </tr>\n    <tr>\n      <th>24</th>\n      <td>Andrea</td>\n      <td>415</td>\n      <td>Historia</td>\n      <td>9</td>\n    </tr>\n    <tr>\n      <th>25</th>\n      <td>Andrea</td>\n      <td>415</td>\n      <td>Lenguaje</td>\n      <td>10</td>\n    </tr>\n    <tr>\n      <th>26</th>\n      <td>Andrea</td>\n      <td>415</td>\n      <td>Matemática</td>\n      <td>8</td>\n    </tr>\n    <tr>\n      <th>27</th>\n      <td>Andrea</td>\n      <td>415</td>\n      <td>Economía</td>\n      <td>7</td>\n    </tr>\n    <tr>\n      <th>28</th>\n      <td>Jorge</td>\n      <td>161</td>\n      <td>Historia</td>\n      <td>10</td>\n    </tr>\n    <tr>\n      <th>29</th>\n      <td>Jorge</td>\n      <td>161</td>\n      <td>Lenguaje</td>\n      <td>9</td>\n    </tr>\n    <tr>\n      <th>30</th>\n      <td>Jorge</td>\n      <td>161</td>\n      <td>Matemática</td>\n      <td>8</td>\n    </tr>\n    <tr>\n      <th>31</th>\n      <td>Jorge</td>\n      <td>161</td>\n      <td>Economía</td>\n      <td>7</td>\n    </tr>\n    <tr>\n      <th>32</th>\n      <td>Sandra</td>\n      <td>171</td>\n      <td>Historia</td>\n      <td>8</td>\n    </tr>\n    <tr>\n      <th>33</th>\n      <td>Sandra</td>\n      <td>171</td>\n      <td>Lenguaje</td>\n      <td>9</td>\n    </tr>\n    <tr>\n      <th>34</th>\n      <td>Sandra</td>\n      <td>171</td>\n      <td>Matemática</td>\n      <td>10</td>\n    </tr>\n    <tr>\n      <th>35</th>\n      <td>Sandra</td>\n      <td>171</td>\n      <td>Economía</td>\n      <td>7</td>\n    </tr>\n    <tr>\n      <th>36</th>\n      <td>Mónica</td>\n      <td>181</td>\n      <td>Historia</td>\n      <td>9</td>\n    </tr>\n    <tr>\n      <th>37</th>\n      <td>Mónica</td>\n      <td>181</td>\n      <td>Lenguaje</td>\n      <td>10</td>\n    </tr>\n    <tr>\n      <th>38</th>\n      <td>Mónica</td>\n      <td>181</td>\n      <td>Matemática</td>\n      <td>8</td>\n    </tr>\n    <tr>\n      <th>39</th>\n      <td>Mónica</td>\n      <td>181</td>\n      <td>Economía</td>\n      <td>7</td>\n    </tr>\n  </tbody>\n</table>\n</div>"
     },
     "execution_count": 23,
     "metadata": {},
     "output_type": "execute_result"
    }
   ],
   "source": [
    "df = df.explode(['materias', 'calificaciones']).reset_index(drop=True)\n",
    "df"
   ],
   "metadata": {
    "collapsed": false,
    "ExecuteTime": {
     "end_time": "2023-08-27T21:36:25.902946600Z",
     "start_time": "2023-08-27T21:36:25.862182600Z"
    }
   },
   "id": "6466e2c369d805b4"
  },
  {
   "cell_type": "code",
   "execution_count": null,
   "outputs": [],
   "source": [],
   "metadata": {
    "collapsed": false
   },
   "id": "70c06be911557a6e"
  }
 ],
 "metadata": {
  "kernelspec": {
   "display_name": "Python 3",
   "language": "python",
   "name": "python3"
  },
  "language_info": {
   "codemirror_mode": {
    "name": "ipython",
    "version": 2
   },
   "file_extension": ".py",
   "mimetype": "text/x-python",
   "name": "python",
   "nbconvert_exporter": "python",
   "pygments_lexer": "ipython2",
   "version": "2.7.6"
  }
 },
 "nbformat": 4,
 "nbformat_minor": 5
}
