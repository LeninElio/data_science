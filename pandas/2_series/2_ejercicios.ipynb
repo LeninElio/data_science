{
 "nbformat": 4,
 "nbformat_minor": 0,
 "metadata": {
  "colab": {
   "provenance": [],
   "collapsed_sections": []
  },
  "kernelspec": {
   "name": "python3",
   "language": "python",
   "display_name": "Python 3 (ipykernel)"
  },
  "language_info": {
   "name": "python"
  }
 },
 "cells": [
  {
   "cell_type": "code",
   "execution_count": 23,
   "metadata": {
    "id": "ZyZ273xU_1_H",
    "ExecuteTime": {
     "end_time": "2023-07-31T21:52:35.916723900Z",
     "start_time": "2023-07-31T21:52:35.908101200Z"
    }
   },
   "outputs": [],
   "source": [
    "import pandas as pd\n",
    "import numpy as np"
   ]
  },
  {
   "cell_type": "markdown",
   "source": [
    "Escribe una funcion a la que le podamos pasar un diccionario con notas de alumnos y nos devuelva la nota minima, la maxima y la media."
   ],
   "metadata": {
    "id": "R4Af36SWAJDf"
   }
  },
  {
   "cell_type": "code",
   "source": [
    "# Mi solucion\n",
    "def estadisticas_alumnos(diccionario):\n",
    "    for alumno, notas in diccionario.items():\n",
    "        print(f'Estudiante: {alumno}, Nota minima: {min(notas)}, Nota maxima: {max(notas)}, Promedio: {sum(notas)/len(notas)}')\n"
   ],
   "metadata": {
    "id": "gxL8R7xc_9bS",
    "ExecuteTime": {
     "end_time": "2023-07-31T21:29:02.422725400Z",
     "start_time": "2023-07-31T21:29:02.414802800Z"
    }
   },
   "execution_count": 11,
   "outputs": []
  },
  {
   "cell_type": "code",
   "execution_count": 12,
   "outputs": [
    {
     "name": "stdout",
     "output_type": "stream",
     "text": [
      "Estudiante: Juan, Nota minima: 12, Nota maxima: 18, Promedio: 14.75\n",
      "Estudiante: Pedro, Nota minima: 11, Nota maxima: 18, Promedio: 13.75\n",
      "Estudiante: Pablo, Nota minima: 12, Nota maxima: 14, Promedio: 12.5\n"
     ]
    }
   ],
   "source": [
    "datos = {'Juan': [12, 13, 16, 18], 'Pedro': [12, 11, 18, 14], 'Pablo': [12, 12, 14, 12]}\n",
    "estadisticas_alumnos(datos)"
   ],
   "metadata": {
    "collapsed": false,
    "ExecuteTime": {
     "end_time": "2023-07-31T21:29:09.817312900Z",
     "start_time": "2023-07-31T21:29:09.794770800Z"
    }
   }
  },
  {
   "cell_type": "code",
   "execution_count": null,
   "outputs": [],
   "source": [
    "# Solucion del docente\n",
    "def dame_estadisticas(notas):\n",
    "    notas = pd.Series(notas)\n",
    "    estadisticas = pd.Series([notas.min(), notas.max(), notas.mean()], index=['Min', 'Max', 'Promedio'])\n",
    "    return estadisticas\n",
    "\n",
    "notas = {'Jose': 12, 'Miguel': 13, 'Maria': 16, 'Luis': 18}\n",
    "dame_estadisticas(notas)"
   ],
   "metadata": {
    "collapsed": false
   }
  },
  {
   "cell_type": "markdown",
   "source": [
    "Crea una serie a partir de una matriz con indices\n"
   ],
   "metadata": {
    "collapsed": false
   }
  },
  {
   "cell_type": "code",
   "execution_count": 24,
   "outputs": [
    {
     "data": {
      "text/plain": "a       Seat\nb       Audi\nc       Fiat\nd    Renault\ndtype: object"
     },
     "execution_count": 24,
     "metadata": {},
     "output_type": "execute_result"
    }
   ],
   "source": [
    "matriz = np.array(['Seat', 'Audi', 'Fiat', 'Renault'])\n",
    "indices = ['a', 'b', 'c', 'd']\n",
    "serie = pd.Series(matriz, index=indices)\n",
    "serie"
   ],
   "metadata": {
    "collapsed": false,
    "ExecuteTime": {
     "end_time": "2023-07-31T21:52:39.538839700Z",
     "start_time": "2023-07-31T21:52:39.511107700Z"
    }
   }
  },
  {
   "cell_type": "markdown",
   "source": [
    "Crea una serie a partir de un diccionario"
   ],
   "metadata": {
    "collapsed": false
   }
  },
  {
   "cell_type": "code",
   "execution_count": null,
   "outputs": [],
   "source": [
    "diccionario = {'a': 1, 'b': 2, 'c': 3, 'd': 4, 'e': 5, 'f': 6}\n",
    "serie = pd.Series(matriz)\n",
    "serie"
   ],
   "metadata": {
    "collapsed": false
   }
  },
  {
   "cell_type": "markdown",
   "source": [
    "Crea una serie a partir de una lista\n",
    "\n",
    "\n",
    "\n"
   ],
   "metadata": {
    "collapsed": false
   }
  },
  {
   "cell_type": "code",
   "source": [
    "lista = [1, 2]\n",
    "indices = ['a', 'b']\n",
    "serie = pd.Series(lista, index=indices)\n",
    "serie"
   ],
   "metadata": {
    "id": "JX6wj4GBBvTB",
    "ExecuteTime": {
     "end_time": "2023-07-31T21:54:21.017296700Z",
     "start_time": "2023-07-31T21:54:21.001964800Z"
    }
   },
   "execution_count": 26,
   "outputs": [
    {
     "data": {
      "text/plain": "a    1\nb    2\ndtype: int64"
     },
     "execution_count": 26,
     "metadata": {},
     "output_type": "execute_result"
    }
   ]
  },
  {
   "cell_type": "markdown",
   "source": [
    "Busca informacion en la web para crear una serie usando la funcion linspace de numpy"
   ],
   "metadata": {
    "id": "sSVTJyodCBRd"
   }
  },
  {
   "cell_type": "code",
   "source": [
    "serie = np.linspace(1, 10, 10)\n",
    "serie = pd.Series(serie)\n",
    "serie"
   ],
   "metadata": {
    "id": "pgNBJO9NBx73",
    "ExecuteTime": {
     "end_time": "2023-07-31T21:56:05.708496800Z",
     "start_time": "2023-07-31T21:56:05.689391300Z"
    }
   },
   "execution_count": 29,
   "outputs": [
    {
     "data": {
      "text/plain": "0     1.0\n1     2.0\n2     3.0\n3     4.0\n4     5.0\n5     6.0\n6     7.0\n7     8.0\n8     9.0\n9    10.0\ndtype: float64"
     },
     "execution_count": 29,
     "metadata": {},
     "output_type": "execute_result"
    }
   ]
  },
  {
   "cell_type": "markdown",
   "source": [
    "Crea una serie con numeros al azar entre 0 y 1"
   ],
   "metadata": {
    "id": "_HJnuOGzEPGZ"
   }
  },
  {
   "cell_type": "code",
   "source": [
    "serie = pd.Series(np.random.rand(10))\n",
    "serie"
   ],
   "metadata": {
    "id": "rdt7edsFD_3U",
    "ExecuteTime": {
     "end_time": "2023-07-31T21:58:26.169225800Z",
     "start_time": "2023-07-31T21:58:25.741278500Z"
    }
   },
   "execution_count": 30,
   "outputs": [
    {
     "data": {
      "text/plain": "0    0.686093\n1    0.794613\n2    0.900079\n3    0.034179\n4    0.948062\n5    0.860434\n6    0.757845\n7    0.375222\n8    0.363077\n9    0.873743\ndtype: float64"
     },
     "execution_count": 30,
     "metadata": {},
     "output_type": "execute_result"
    }
   ]
  },
  {
   "cell_type": "markdown",
   "source": [
    "Muestra los elementos de posiciones 1, 3 y 5 de la serie anterior"
   ],
   "metadata": {
    "id": "jr3_I45GFBjR"
   }
  },
  {
   "cell_type": "code",
   "source": [
    "serie[[1, 3, 5]]"
   ],
   "metadata": {
    "id": "VjQUcYKEE_M6",
    "ExecuteTime": {
     "end_time": "2023-07-31T21:59:38.570218Z",
     "start_time": "2023-07-31T21:59:38.561757900Z"
    }
   },
   "execution_count": 34,
   "outputs": [
    {
     "data": {
      "text/plain": "1    0.794613\n3    0.034179\n5    0.860434\ndtype: float64"
     },
     "execution_count": 34,
     "metadata": {},
     "output_type": "execute_result"
    }
   ]
  },
  {
   "cell_type": "markdown",
   "source": [
    "Muestra los 2 primeros elementos de la serie anterior"
   ],
   "metadata": {
    "id": "dpMs-3iFGFYi"
   }
  },
  {
   "cell_type": "code",
   "source": [
    "# Mi solucion\n",
    "serie[:2]"
   ],
   "metadata": {
    "id": "Hr9-D--vFF7q",
    "ExecuteTime": {
     "end_time": "2023-07-31T21:59:50.525815200Z",
     "start_time": "2023-07-31T21:59:50.486351800Z"
    }
   },
   "execution_count": 35,
   "outputs": [
    {
     "data": {
      "text/plain": "0    0.686093\n1    0.794613\ndtype: float64"
     },
     "execution_count": 35,
     "metadata": {},
     "output_type": "execute_result"
    }
   ]
  },
  {
   "cell_type": "code",
   "execution_count": 38,
   "outputs": [
    {
     "data": {
      "text/plain": "0    0.686093\n1    0.794613\ndtype: float64"
     },
     "execution_count": 38,
     "metadata": {},
     "output_type": "execute_result"
    }
   ],
   "source": [
    "# Solucion del docente\n",
    "serie.head(2)"
   ],
   "metadata": {
    "collapsed": false,
    "ExecuteTime": {
     "end_time": "2023-07-31T22:01:23.832763900Z",
     "start_time": "2023-07-31T22:01:23.797856400Z"
    }
   }
  },
  {
   "cell_type": "markdown",
   "source": [
    "Muestra los 2 ultimos elementos de la serie anterior"
   ],
   "metadata": {
    "id": "EfErapyBGy6_"
   }
  },
  {
   "cell_type": "code",
   "execution_count": 36,
   "outputs": [
    {
     "data": {
      "text/plain": "8    0.363077\n9    0.873743\ndtype: float64"
     },
     "execution_count": 36,
     "metadata": {},
     "output_type": "execute_result"
    }
   ],
   "source": [
    "# Mi solucion\n",
    "serie[-2:]"
   ],
   "metadata": {
    "collapsed": false,
    "ExecuteTime": {
     "end_time": "2023-07-31T22:00:09.351482600Z",
     "start_time": "2023-07-31T22:00:09.260432200Z"
    }
   }
  },
  {
   "cell_type": "code",
   "execution_count": 37,
   "outputs": [
    {
     "data": {
      "text/plain": "8    0.363077\n9    0.873743\ndtype: float64"
     },
     "execution_count": 37,
     "metadata": {},
     "output_type": "execute_result"
    }
   ],
   "source": [
    "# Solucion del docente\n",
    "serie.tail(2)"
   ],
   "metadata": {
    "collapsed": false,
    "ExecuteTime": {
     "end_time": "2023-07-31T22:01:03.398309100Z",
     "start_time": "2023-07-31T22:01:03.359531100Z"
    }
   }
  }
 ]
}
