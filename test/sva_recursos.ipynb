{
 "cells": [
  {
   "cell_type": "code",
   "execution_count": 3,
   "id": "initial_id",
   "metadata": {
    "collapsed": true,
    "ExecuteTime": {
     "end_time": "2023-09-05T17:23:25.122956600Z",
     "start_time": "2023-09-05T17:23:23.945102800Z"
    }
   },
   "outputs": [],
   "source": [
    "import pandas as pd"
   ]
  },
  {
   "cell_type": "code",
   "execution_count": 19,
   "outputs": [
    {
     "data": {
      "text/plain": "       forum  resource  url  assign  label  folder  quiz  chat  scorm  page  \\\n12606    1.0       NaN  NaN     NaN    NaN     NaN   NaN   NaN    NaN   NaN   \n12931    1.0      10.0  2.0     1.0    NaN     NaN   NaN   NaN    NaN   NaN   \n12318    1.0       NaN  NaN     NaN    NaN     NaN   NaN   NaN    NaN   NaN   \n12273    1.0      23.0  NaN     NaN    NaN     NaN   NaN   NaN    NaN   NaN   \n13076    1.0      21.0  NaN     NaN    NaN     NaN   NaN   NaN    NaN   NaN   \n...      ...       ...  ...     ...    ...     ...   ...   ...    ...   ...   \n13909    1.0       NaN  NaN     NaN    NaN     NaN   NaN   NaN    NaN   NaN   \n14184    1.0       6.0  NaN     1.0    1.0     NaN   NaN   NaN    NaN   NaN   \n14406    1.0       NaN  NaN     NaN    NaN     NaN   NaN   NaN    NaN   NaN   \n14149    NaN      16.0  NaN     NaN    NaN     NaN   NaN   NaN    NaN   NaN   \n10678    1.0       5.0  NaN     NaN    NaN     NaN   NaN   NaN    NaN   NaN   \n\n       h5pactivity  choice  workshop  data  lesson  glossary  wiki  book  \\\n12606          NaN     NaN       NaN   NaN     NaN       NaN   NaN   NaN   \n12931          NaN     NaN       NaN   NaN     NaN       NaN   NaN   NaN   \n12318          NaN     NaN       NaN   NaN     NaN       NaN   NaN   NaN   \n12273          NaN     NaN       NaN   NaN     NaN       NaN   NaN   NaN   \n13076          NaN     NaN       NaN   NaN     NaN       NaN   NaN   NaN   \n...            ...     ...       ...   ...     ...       ...   ...   ...   \n13909          NaN     NaN       NaN   NaN     NaN       NaN   NaN   NaN   \n14184          NaN     NaN       NaN   NaN     NaN       NaN   NaN   NaN   \n14406          NaN     NaN       NaN   NaN     NaN       NaN   NaN   NaN   \n14149          NaN     NaN       NaN   NaN     NaN       NaN   NaN   NaN   \n10678          NaN     NaN       NaN   NaN     NaN       NaN   NaN   NaN   \n\n       feedback  \n12606       NaN  \n12931       NaN  \n12318       NaN  \n12273       NaN  \n13076       NaN  \n...         ...  \n13909       NaN  \n14184       NaN  \n14406       NaN  \n14149       NaN  \n10678       NaN  \n\n[1501 rows x 19 columns]",
      "text/html": "<div>\n<style scoped>\n    .dataframe tbody tr th:only-of-type {\n        vertical-align: middle;\n    }\n\n    .dataframe tbody tr th {\n        vertical-align: top;\n    }\n\n    .dataframe thead th {\n        text-align: right;\n    }\n</style>\n<table border=\"1\" class=\"dataframe\">\n  <thead>\n    <tr style=\"text-align: right;\">\n      <th></th>\n      <th>forum</th>\n      <th>resource</th>\n      <th>url</th>\n      <th>assign</th>\n      <th>label</th>\n      <th>folder</th>\n      <th>quiz</th>\n      <th>chat</th>\n      <th>scorm</th>\n      <th>page</th>\n      <th>h5pactivity</th>\n      <th>choice</th>\n      <th>workshop</th>\n      <th>data</th>\n      <th>lesson</th>\n      <th>glossary</th>\n      <th>wiki</th>\n      <th>book</th>\n      <th>feedback</th>\n    </tr>\n  </thead>\n  <tbody>\n    <tr>\n      <th>12606</th>\n      <td>1.0</td>\n      <td>NaN</td>\n      <td>NaN</td>\n      <td>NaN</td>\n      <td>NaN</td>\n      <td>NaN</td>\n      <td>NaN</td>\n      <td>NaN</td>\n      <td>NaN</td>\n      <td>NaN</td>\n      <td>NaN</td>\n      <td>NaN</td>\n      <td>NaN</td>\n      <td>NaN</td>\n      <td>NaN</td>\n      <td>NaN</td>\n      <td>NaN</td>\n      <td>NaN</td>\n      <td>NaN</td>\n    </tr>\n    <tr>\n      <th>12931</th>\n      <td>1.0</td>\n      <td>10.0</td>\n      <td>2.0</td>\n      <td>1.0</td>\n      <td>NaN</td>\n      <td>NaN</td>\n      <td>NaN</td>\n      <td>NaN</td>\n      <td>NaN</td>\n      <td>NaN</td>\n      <td>NaN</td>\n      <td>NaN</td>\n      <td>NaN</td>\n      <td>NaN</td>\n      <td>NaN</td>\n      <td>NaN</td>\n      <td>NaN</td>\n      <td>NaN</td>\n      <td>NaN</td>\n    </tr>\n    <tr>\n      <th>12318</th>\n      <td>1.0</td>\n      <td>NaN</td>\n      <td>NaN</td>\n      <td>NaN</td>\n      <td>NaN</td>\n      <td>NaN</td>\n      <td>NaN</td>\n      <td>NaN</td>\n      <td>NaN</td>\n      <td>NaN</td>\n      <td>NaN</td>\n      <td>NaN</td>\n      <td>NaN</td>\n      <td>NaN</td>\n      <td>NaN</td>\n      <td>NaN</td>\n      <td>NaN</td>\n      <td>NaN</td>\n      <td>NaN</td>\n    </tr>\n    <tr>\n      <th>12273</th>\n      <td>1.0</td>\n      <td>23.0</td>\n      <td>NaN</td>\n      <td>NaN</td>\n      <td>NaN</td>\n      <td>NaN</td>\n      <td>NaN</td>\n      <td>NaN</td>\n      <td>NaN</td>\n      <td>NaN</td>\n      <td>NaN</td>\n      <td>NaN</td>\n      <td>NaN</td>\n      <td>NaN</td>\n      <td>NaN</td>\n      <td>NaN</td>\n      <td>NaN</td>\n      <td>NaN</td>\n      <td>NaN</td>\n    </tr>\n    <tr>\n      <th>13076</th>\n      <td>1.0</td>\n      <td>21.0</td>\n      <td>NaN</td>\n      <td>NaN</td>\n      <td>NaN</td>\n      <td>NaN</td>\n      <td>NaN</td>\n      <td>NaN</td>\n      <td>NaN</td>\n      <td>NaN</td>\n      <td>NaN</td>\n      <td>NaN</td>\n      <td>NaN</td>\n      <td>NaN</td>\n      <td>NaN</td>\n      <td>NaN</td>\n      <td>NaN</td>\n      <td>NaN</td>\n      <td>NaN</td>\n    </tr>\n    <tr>\n      <th>...</th>\n      <td>...</td>\n      <td>...</td>\n      <td>...</td>\n      <td>...</td>\n      <td>...</td>\n      <td>...</td>\n      <td>...</td>\n      <td>...</td>\n      <td>...</td>\n      <td>...</td>\n      <td>...</td>\n      <td>...</td>\n      <td>...</td>\n      <td>...</td>\n      <td>...</td>\n      <td>...</td>\n      <td>...</td>\n      <td>...</td>\n      <td>...</td>\n    </tr>\n    <tr>\n      <th>13909</th>\n      <td>1.0</td>\n      <td>NaN</td>\n      <td>NaN</td>\n      <td>NaN</td>\n      <td>NaN</td>\n      <td>NaN</td>\n      <td>NaN</td>\n      <td>NaN</td>\n      <td>NaN</td>\n      <td>NaN</td>\n      <td>NaN</td>\n      <td>NaN</td>\n      <td>NaN</td>\n      <td>NaN</td>\n      <td>NaN</td>\n      <td>NaN</td>\n      <td>NaN</td>\n      <td>NaN</td>\n      <td>NaN</td>\n    </tr>\n    <tr>\n      <th>14184</th>\n      <td>1.0</td>\n      <td>6.0</td>\n      <td>NaN</td>\n      <td>1.0</td>\n      <td>1.0</td>\n      <td>NaN</td>\n      <td>NaN</td>\n      <td>NaN</td>\n      <td>NaN</td>\n      <td>NaN</td>\n      <td>NaN</td>\n      <td>NaN</td>\n      <td>NaN</td>\n      <td>NaN</td>\n      <td>NaN</td>\n      <td>NaN</td>\n      <td>NaN</td>\n      <td>NaN</td>\n      <td>NaN</td>\n    </tr>\n    <tr>\n      <th>14406</th>\n      <td>1.0</td>\n      <td>NaN</td>\n      <td>NaN</td>\n      <td>NaN</td>\n      <td>NaN</td>\n      <td>NaN</td>\n      <td>NaN</td>\n      <td>NaN</td>\n      <td>NaN</td>\n      <td>NaN</td>\n      <td>NaN</td>\n      <td>NaN</td>\n      <td>NaN</td>\n      <td>NaN</td>\n      <td>NaN</td>\n      <td>NaN</td>\n      <td>NaN</td>\n      <td>NaN</td>\n      <td>NaN</td>\n    </tr>\n    <tr>\n      <th>14149</th>\n      <td>NaN</td>\n      <td>16.0</td>\n      <td>NaN</td>\n      <td>NaN</td>\n      <td>NaN</td>\n      <td>NaN</td>\n      <td>NaN</td>\n      <td>NaN</td>\n      <td>NaN</td>\n      <td>NaN</td>\n      <td>NaN</td>\n      <td>NaN</td>\n      <td>NaN</td>\n      <td>NaN</td>\n      <td>NaN</td>\n      <td>NaN</td>\n      <td>NaN</td>\n      <td>NaN</td>\n      <td>NaN</td>\n    </tr>\n    <tr>\n      <th>10678</th>\n      <td>1.0</td>\n      <td>5.0</td>\n      <td>NaN</td>\n      <td>NaN</td>\n      <td>NaN</td>\n      <td>NaN</td>\n      <td>NaN</td>\n      <td>NaN</td>\n      <td>NaN</td>\n      <td>NaN</td>\n      <td>NaN</td>\n      <td>NaN</td>\n      <td>NaN</td>\n      <td>NaN</td>\n      <td>NaN</td>\n      <td>NaN</td>\n      <td>NaN</td>\n      <td>NaN</td>\n      <td>NaN</td>\n    </tr>\n  </tbody>\n</table>\n<p>1501 rows × 19 columns</p>\n</div>"
     },
     "execution_count": 19,
     "metadata": {},
     "output_type": "execute_result"
    }
   ],
   "source": [
    "df = pd.read_json('./data/datos_semana_8.json')\n",
    "df"
   ],
   "metadata": {
    "collapsed": false,
    "ExecuteTime": {
     "end_time": "2023-08-29T16:43:24.898655600Z",
     "start_time": "2023-08-29T16:43:24.865290800Z"
    }
   },
   "id": "d85d820b535b4ab"
  },
  {
   "cell_type": "code",
   "execution_count": 20,
   "outputs": [],
   "source": [
    "df = df.fillna(0)"
   ],
   "metadata": {
    "collapsed": false,
    "ExecuteTime": {
     "end_time": "2023-08-29T16:43:25.586182800Z",
     "start_time": "2023-08-29T16:43:25.554645700Z"
    }
   },
   "id": "807674bbbeb222df"
  },
  {
   "cell_type": "code",
   "execution_count": 21,
   "outputs": [
    {
     "data": {
      "text/plain": "       forum  resource  url  assign  label  folder  quiz  chat  scorm  page  \\\n12606    1.0       0.0  0.0     0.0    0.0     0.0   0.0   0.0    0.0   0.0   \n12931    1.0      10.0  2.0     1.0    0.0     0.0   0.0   0.0    0.0   0.0   \n12318    1.0       0.0  0.0     0.0    0.0     0.0   0.0   0.0    0.0   0.0   \n12273    1.0      23.0  0.0     0.0    0.0     0.0   0.0   0.0    0.0   0.0   \n13076    1.0      21.0  0.0     0.0    0.0     0.0   0.0   0.0    0.0   0.0   \n...      ...       ...  ...     ...    ...     ...   ...   ...    ...   ...   \n13909    1.0       0.0  0.0     0.0    0.0     0.0   0.0   0.0    0.0   0.0   \n14184    1.0       6.0  0.0     1.0    1.0     0.0   0.0   0.0    0.0   0.0   \n14406    1.0       0.0  0.0     0.0    0.0     0.0   0.0   0.0    0.0   0.0   \n14149    0.0      16.0  0.0     0.0    0.0     0.0   0.0   0.0    0.0   0.0   \n10678    1.0       5.0  0.0     0.0    0.0     0.0   0.0   0.0    0.0   0.0   \n\n       h5pactivity  choice  workshop  data  lesson  glossary  wiki  book  \\\n12606          0.0     0.0       0.0   0.0     0.0       0.0   0.0   0.0   \n12931          0.0     0.0       0.0   0.0     0.0       0.0   0.0   0.0   \n12318          0.0     0.0       0.0   0.0     0.0       0.0   0.0   0.0   \n12273          0.0     0.0       0.0   0.0     0.0       0.0   0.0   0.0   \n13076          0.0     0.0       0.0   0.0     0.0       0.0   0.0   0.0   \n...            ...     ...       ...   ...     ...       ...   ...   ...   \n13909          0.0     0.0       0.0   0.0     0.0       0.0   0.0   0.0   \n14184          0.0     0.0       0.0   0.0     0.0       0.0   0.0   0.0   \n14406          0.0     0.0       0.0   0.0     0.0       0.0   0.0   0.0   \n14149          0.0     0.0       0.0   0.0     0.0       0.0   0.0   0.0   \n10678          0.0     0.0       0.0   0.0     0.0       0.0   0.0   0.0   \n\n       feedback     id  \n12606       0.0  12606  \n12931       0.0  12931  \n12318       0.0  12318  \n12273       0.0  12273  \n13076       0.0  13076  \n...         ...    ...  \n13909       0.0  13909  \n14184       0.0  14184  \n14406       0.0  14406  \n14149       0.0  14149  \n10678       0.0  10678  \n\n[1501 rows x 20 columns]",
      "text/html": "<div>\n<style scoped>\n    .dataframe tbody tr th:only-of-type {\n        vertical-align: middle;\n    }\n\n    .dataframe tbody tr th {\n        vertical-align: top;\n    }\n\n    .dataframe thead th {\n        text-align: right;\n    }\n</style>\n<table border=\"1\" class=\"dataframe\">\n  <thead>\n    <tr style=\"text-align: right;\">\n      <th></th>\n      <th>forum</th>\n      <th>resource</th>\n      <th>url</th>\n      <th>assign</th>\n      <th>label</th>\n      <th>folder</th>\n      <th>quiz</th>\n      <th>chat</th>\n      <th>scorm</th>\n      <th>page</th>\n      <th>h5pactivity</th>\n      <th>choice</th>\n      <th>workshop</th>\n      <th>data</th>\n      <th>lesson</th>\n      <th>glossary</th>\n      <th>wiki</th>\n      <th>book</th>\n      <th>feedback</th>\n      <th>id</th>\n    </tr>\n  </thead>\n  <tbody>\n    <tr>\n      <th>12606</th>\n      <td>1.0</td>\n      <td>0.0</td>\n      <td>0.0</td>\n      <td>0.0</td>\n      <td>0.0</td>\n      <td>0.0</td>\n      <td>0.0</td>\n      <td>0.0</td>\n      <td>0.0</td>\n      <td>0.0</td>\n      <td>0.0</td>\n      <td>0.0</td>\n      <td>0.0</td>\n      <td>0.0</td>\n      <td>0.0</td>\n      <td>0.0</td>\n      <td>0.0</td>\n      <td>0.0</td>\n      <td>0.0</td>\n      <td>12606</td>\n    </tr>\n    <tr>\n      <th>12931</th>\n      <td>1.0</td>\n      <td>10.0</td>\n      <td>2.0</td>\n      <td>1.0</td>\n      <td>0.0</td>\n      <td>0.0</td>\n      <td>0.0</td>\n      <td>0.0</td>\n      <td>0.0</td>\n      <td>0.0</td>\n      <td>0.0</td>\n      <td>0.0</td>\n      <td>0.0</td>\n      <td>0.0</td>\n      <td>0.0</td>\n      <td>0.0</td>\n      <td>0.0</td>\n      <td>0.0</td>\n      <td>0.0</td>\n      <td>12931</td>\n    </tr>\n    <tr>\n      <th>12318</th>\n      <td>1.0</td>\n      <td>0.0</td>\n      <td>0.0</td>\n      <td>0.0</td>\n      <td>0.0</td>\n      <td>0.0</td>\n      <td>0.0</td>\n      <td>0.0</td>\n      <td>0.0</td>\n      <td>0.0</td>\n      <td>0.0</td>\n      <td>0.0</td>\n      <td>0.0</td>\n      <td>0.0</td>\n      <td>0.0</td>\n      <td>0.0</td>\n      <td>0.0</td>\n      <td>0.0</td>\n      <td>0.0</td>\n      <td>12318</td>\n    </tr>\n    <tr>\n      <th>12273</th>\n      <td>1.0</td>\n      <td>23.0</td>\n      <td>0.0</td>\n      <td>0.0</td>\n      <td>0.0</td>\n      <td>0.0</td>\n      <td>0.0</td>\n      <td>0.0</td>\n      <td>0.0</td>\n      <td>0.0</td>\n      <td>0.0</td>\n      <td>0.0</td>\n      <td>0.0</td>\n      <td>0.0</td>\n      <td>0.0</td>\n      <td>0.0</td>\n      <td>0.0</td>\n      <td>0.0</td>\n      <td>0.0</td>\n      <td>12273</td>\n    </tr>\n    <tr>\n      <th>13076</th>\n      <td>1.0</td>\n      <td>21.0</td>\n      <td>0.0</td>\n      <td>0.0</td>\n      <td>0.0</td>\n      <td>0.0</td>\n      <td>0.0</td>\n      <td>0.0</td>\n      <td>0.0</td>\n      <td>0.0</td>\n      <td>0.0</td>\n      <td>0.0</td>\n      <td>0.0</td>\n      <td>0.0</td>\n      <td>0.0</td>\n      <td>0.0</td>\n      <td>0.0</td>\n      <td>0.0</td>\n      <td>0.0</td>\n      <td>13076</td>\n    </tr>\n    <tr>\n      <th>...</th>\n      <td>...</td>\n      <td>...</td>\n      <td>...</td>\n      <td>...</td>\n      <td>...</td>\n      <td>...</td>\n      <td>...</td>\n      <td>...</td>\n      <td>...</td>\n      <td>...</td>\n      <td>...</td>\n      <td>...</td>\n      <td>...</td>\n      <td>...</td>\n      <td>...</td>\n      <td>...</td>\n      <td>...</td>\n      <td>...</td>\n      <td>...</td>\n      <td>...</td>\n    </tr>\n    <tr>\n      <th>13909</th>\n      <td>1.0</td>\n      <td>0.0</td>\n      <td>0.0</td>\n      <td>0.0</td>\n      <td>0.0</td>\n      <td>0.0</td>\n      <td>0.0</td>\n      <td>0.0</td>\n      <td>0.0</td>\n      <td>0.0</td>\n      <td>0.0</td>\n      <td>0.0</td>\n      <td>0.0</td>\n      <td>0.0</td>\n      <td>0.0</td>\n      <td>0.0</td>\n      <td>0.0</td>\n      <td>0.0</td>\n      <td>0.0</td>\n      <td>13909</td>\n    </tr>\n    <tr>\n      <th>14184</th>\n      <td>1.0</td>\n      <td>6.0</td>\n      <td>0.0</td>\n      <td>1.0</td>\n      <td>1.0</td>\n      <td>0.0</td>\n      <td>0.0</td>\n      <td>0.0</td>\n      <td>0.0</td>\n      <td>0.0</td>\n      <td>0.0</td>\n      <td>0.0</td>\n      <td>0.0</td>\n      <td>0.0</td>\n      <td>0.0</td>\n      <td>0.0</td>\n      <td>0.0</td>\n      <td>0.0</td>\n      <td>0.0</td>\n      <td>14184</td>\n    </tr>\n    <tr>\n      <th>14406</th>\n      <td>1.0</td>\n      <td>0.0</td>\n      <td>0.0</td>\n      <td>0.0</td>\n      <td>0.0</td>\n      <td>0.0</td>\n      <td>0.0</td>\n      <td>0.0</td>\n      <td>0.0</td>\n      <td>0.0</td>\n      <td>0.0</td>\n      <td>0.0</td>\n      <td>0.0</td>\n      <td>0.0</td>\n      <td>0.0</td>\n      <td>0.0</td>\n      <td>0.0</td>\n      <td>0.0</td>\n      <td>0.0</td>\n      <td>14406</td>\n    </tr>\n    <tr>\n      <th>14149</th>\n      <td>0.0</td>\n      <td>16.0</td>\n      <td>0.0</td>\n      <td>0.0</td>\n      <td>0.0</td>\n      <td>0.0</td>\n      <td>0.0</td>\n      <td>0.0</td>\n      <td>0.0</td>\n      <td>0.0</td>\n      <td>0.0</td>\n      <td>0.0</td>\n      <td>0.0</td>\n      <td>0.0</td>\n      <td>0.0</td>\n      <td>0.0</td>\n      <td>0.0</td>\n      <td>0.0</td>\n      <td>0.0</td>\n      <td>14149</td>\n    </tr>\n    <tr>\n      <th>10678</th>\n      <td>1.0</td>\n      <td>5.0</td>\n      <td>0.0</td>\n      <td>0.0</td>\n      <td>0.0</td>\n      <td>0.0</td>\n      <td>0.0</td>\n      <td>0.0</td>\n      <td>0.0</td>\n      <td>0.0</td>\n      <td>0.0</td>\n      <td>0.0</td>\n      <td>0.0</td>\n      <td>0.0</td>\n      <td>0.0</td>\n      <td>0.0</td>\n      <td>0.0</td>\n      <td>0.0</td>\n      <td>0.0</td>\n      <td>10678</td>\n    </tr>\n  </tbody>\n</table>\n<p>1501 rows × 20 columns</p>\n</div>"
     },
     "execution_count": 21,
     "metadata": {},
     "output_type": "execute_result"
    }
   ],
   "source": [
    "df['id'] = df.index\n",
    "df"
   ],
   "metadata": {
    "collapsed": false,
    "ExecuteTime": {
     "end_time": "2023-08-29T16:43:26.421879400Z",
     "start_time": "2023-08-29T16:43:26.406362400Z"
    }
   },
   "id": "5b47b6463a28e069"
  },
  {
   "cell_type": "code",
   "execution_count": 22,
   "outputs": [
    {
     "data": {
      "text/plain": "      forum  resource  url  assign  label  folder  quiz  chat  scorm  page  \\\n0       1.0       0.0  0.0     0.0    0.0     0.0   0.0   0.0    0.0   0.0   \n1       1.0      10.0  2.0     1.0    0.0     0.0   0.0   0.0    0.0   0.0   \n2       1.0       0.0  0.0     0.0    0.0     0.0   0.0   0.0    0.0   0.0   \n3       1.0      23.0  0.0     0.0    0.0     0.0   0.0   0.0    0.0   0.0   \n4       1.0      21.0  0.0     0.0    0.0     0.0   0.0   0.0    0.0   0.0   \n...     ...       ...  ...     ...    ...     ...   ...   ...    ...   ...   \n1496    1.0       0.0  0.0     0.0    0.0     0.0   0.0   0.0    0.0   0.0   \n1497    1.0       6.0  0.0     1.0    1.0     0.0   0.0   0.0    0.0   0.0   \n1498    1.0       0.0  0.0     0.0    0.0     0.0   0.0   0.0    0.0   0.0   \n1499    0.0      16.0  0.0     0.0    0.0     0.0   0.0   0.0    0.0   0.0   \n1500    1.0       5.0  0.0     0.0    0.0     0.0   0.0   0.0    0.0   0.0   \n\n      h5pactivity  choice  workshop  data  lesson  glossary  wiki  book  \\\n0             0.0     0.0       0.0   0.0     0.0       0.0   0.0   0.0   \n1             0.0     0.0       0.0   0.0     0.0       0.0   0.0   0.0   \n2             0.0     0.0       0.0   0.0     0.0       0.0   0.0   0.0   \n3             0.0     0.0       0.0   0.0     0.0       0.0   0.0   0.0   \n4             0.0     0.0       0.0   0.0     0.0       0.0   0.0   0.0   \n...           ...     ...       ...   ...     ...       ...   ...   ...   \n1496          0.0     0.0       0.0   0.0     0.0       0.0   0.0   0.0   \n1497          0.0     0.0       0.0   0.0     0.0       0.0   0.0   0.0   \n1498          0.0     0.0       0.0   0.0     0.0       0.0   0.0   0.0   \n1499          0.0     0.0       0.0   0.0     0.0       0.0   0.0   0.0   \n1500          0.0     0.0       0.0   0.0     0.0       0.0   0.0   0.0   \n\n      feedback     id  \n0          0.0  12606  \n1          0.0  12931  \n2          0.0  12318  \n3          0.0  12273  \n4          0.0  13076  \n...        ...    ...  \n1496       0.0  13909  \n1497       0.0  14184  \n1498       0.0  14406  \n1499       0.0  14149  \n1500       0.0  10678  \n\n[1501 rows x 20 columns]",
      "text/html": "<div>\n<style scoped>\n    .dataframe tbody tr th:only-of-type {\n        vertical-align: middle;\n    }\n\n    .dataframe tbody tr th {\n        vertical-align: top;\n    }\n\n    .dataframe thead th {\n        text-align: right;\n    }\n</style>\n<table border=\"1\" class=\"dataframe\">\n  <thead>\n    <tr style=\"text-align: right;\">\n      <th></th>\n      <th>forum</th>\n      <th>resource</th>\n      <th>url</th>\n      <th>assign</th>\n      <th>label</th>\n      <th>folder</th>\n      <th>quiz</th>\n      <th>chat</th>\n      <th>scorm</th>\n      <th>page</th>\n      <th>h5pactivity</th>\n      <th>choice</th>\n      <th>workshop</th>\n      <th>data</th>\n      <th>lesson</th>\n      <th>glossary</th>\n      <th>wiki</th>\n      <th>book</th>\n      <th>feedback</th>\n      <th>id</th>\n    </tr>\n  </thead>\n  <tbody>\n    <tr>\n      <th>0</th>\n      <td>1.0</td>\n      <td>0.0</td>\n      <td>0.0</td>\n      <td>0.0</td>\n      <td>0.0</td>\n      <td>0.0</td>\n      <td>0.0</td>\n      <td>0.0</td>\n      <td>0.0</td>\n      <td>0.0</td>\n      <td>0.0</td>\n      <td>0.0</td>\n      <td>0.0</td>\n      <td>0.0</td>\n      <td>0.0</td>\n      <td>0.0</td>\n      <td>0.0</td>\n      <td>0.0</td>\n      <td>0.0</td>\n      <td>12606</td>\n    </tr>\n    <tr>\n      <th>1</th>\n      <td>1.0</td>\n      <td>10.0</td>\n      <td>2.0</td>\n      <td>1.0</td>\n      <td>0.0</td>\n      <td>0.0</td>\n      <td>0.0</td>\n      <td>0.0</td>\n      <td>0.0</td>\n      <td>0.0</td>\n      <td>0.0</td>\n      <td>0.0</td>\n      <td>0.0</td>\n      <td>0.0</td>\n      <td>0.0</td>\n      <td>0.0</td>\n      <td>0.0</td>\n      <td>0.0</td>\n      <td>0.0</td>\n      <td>12931</td>\n    </tr>\n    <tr>\n      <th>2</th>\n      <td>1.0</td>\n      <td>0.0</td>\n      <td>0.0</td>\n      <td>0.0</td>\n      <td>0.0</td>\n      <td>0.0</td>\n      <td>0.0</td>\n      <td>0.0</td>\n      <td>0.0</td>\n      <td>0.0</td>\n      <td>0.0</td>\n      <td>0.0</td>\n      <td>0.0</td>\n      <td>0.0</td>\n      <td>0.0</td>\n      <td>0.0</td>\n      <td>0.0</td>\n      <td>0.0</td>\n      <td>0.0</td>\n      <td>12318</td>\n    </tr>\n    <tr>\n      <th>3</th>\n      <td>1.0</td>\n      <td>23.0</td>\n      <td>0.0</td>\n      <td>0.0</td>\n      <td>0.0</td>\n      <td>0.0</td>\n      <td>0.0</td>\n      <td>0.0</td>\n      <td>0.0</td>\n      <td>0.0</td>\n      <td>0.0</td>\n      <td>0.0</td>\n      <td>0.0</td>\n      <td>0.0</td>\n      <td>0.0</td>\n      <td>0.0</td>\n      <td>0.0</td>\n      <td>0.0</td>\n      <td>0.0</td>\n      <td>12273</td>\n    </tr>\n    <tr>\n      <th>4</th>\n      <td>1.0</td>\n      <td>21.0</td>\n      <td>0.0</td>\n      <td>0.0</td>\n      <td>0.0</td>\n      <td>0.0</td>\n      <td>0.0</td>\n      <td>0.0</td>\n      <td>0.0</td>\n      <td>0.0</td>\n      <td>0.0</td>\n      <td>0.0</td>\n      <td>0.0</td>\n      <td>0.0</td>\n      <td>0.0</td>\n      <td>0.0</td>\n      <td>0.0</td>\n      <td>0.0</td>\n      <td>0.0</td>\n      <td>13076</td>\n    </tr>\n    <tr>\n      <th>...</th>\n      <td>...</td>\n      <td>...</td>\n      <td>...</td>\n      <td>...</td>\n      <td>...</td>\n      <td>...</td>\n      <td>...</td>\n      <td>...</td>\n      <td>...</td>\n      <td>...</td>\n      <td>...</td>\n      <td>...</td>\n      <td>...</td>\n      <td>...</td>\n      <td>...</td>\n      <td>...</td>\n      <td>...</td>\n      <td>...</td>\n      <td>...</td>\n      <td>...</td>\n    </tr>\n    <tr>\n      <th>1496</th>\n      <td>1.0</td>\n      <td>0.0</td>\n      <td>0.0</td>\n      <td>0.0</td>\n      <td>0.0</td>\n      <td>0.0</td>\n      <td>0.0</td>\n      <td>0.0</td>\n      <td>0.0</td>\n      <td>0.0</td>\n      <td>0.0</td>\n      <td>0.0</td>\n      <td>0.0</td>\n      <td>0.0</td>\n      <td>0.0</td>\n      <td>0.0</td>\n      <td>0.0</td>\n      <td>0.0</td>\n      <td>0.0</td>\n      <td>13909</td>\n    </tr>\n    <tr>\n      <th>1497</th>\n      <td>1.0</td>\n      <td>6.0</td>\n      <td>0.0</td>\n      <td>1.0</td>\n      <td>1.0</td>\n      <td>0.0</td>\n      <td>0.0</td>\n      <td>0.0</td>\n      <td>0.0</td>\n      <td>0.0</td>\n      <td>0.0</td>\n      <td>0.0</td>\n      <td>0.0</td>\n      <td>0.0</td>\n      <td>0.0</td>\n      <td>0.0</td>\n      <td>0.0</td>\n      <td>0.0</td>\n      <td>0.0</td>\n      <td>14184</td>\n    </tr>\n    <tr>\n      <th>1498</th>\n      <td>1.0</td>\n      <td>0.0</td>\n      <td>0.0</td>\n      <td>0.0</td>\n      <td>0.0</td>\n      <td>0.0</td>\n      <td>0.0</td>\n      <td>0.0</td>\n      <td>0.0</td>\n      <td>0.0</td>\n      <td>0.0</td>\n      <td>0.0</td>\n      <td>0.0</td>\n      <td>0.0</td>\n      <td>0.0</td>\n      <td>0.0</td>\n      <td>0.0</td>\n      <td>0.0</td>\n      <td>0.0</td>\n      <td>14406</td>\n    </tr>\n    <tr>\n      <th>1499</th>\n      <td>0.0</td>\n      <td>16.0</td>\n      <td>0.0</td>\n      <td>0.0</td>\n      <td>0.0</td>\n      <td>0.0</td>\n      <td>0.0</td>\n      <td>0.0</td>\n      <td>0.0</td>\n      <td>0.0</td>\n      <td>0.0</td>\n      <td>0.0</td>\n      <td>0.0</td>\n      <td>0.0</td>\n      <td>0.0</td>\n      <td>0.0</td>\n      <td>0.0</td>\n      <td>0.0</td>\n      <td>0.0</td>\n      <td>14149</td>\n    </tr>\n    <tr>\n      <th>1500</th>\n      <td>1.0</td>\n      <td>5.0</td>\n      <td>0.0</td>\n      <td>0.0</td>\n      <td>0.0</td>\n      <td>0.0</td>\n      <td>0.0</td>\n      <td>0.0</td>\n      <td>0.0</td>\n      <td>0.0</td>\n      <td>0.0</td>\n      <td>0.0</td>\n      <td>0.0</td>\n      <td>0.0</td>\n      <td>0.0</td>\n      <td>0.0</td>\n      <td>0.0</td>\n      <td>0.0</td>\n      <td>0.0</td>\n      <td>10678</td>\n    </tr>\n  </tbody>\n</table>\n<p>1501 rows × 20 columns</p>\n</div>"
     },
     "execution_count": 22,
     "metadata": {},
     "output_type": "execute_result"
    }
   ],
   "source": [
    "df.reset_index(drop=True, inplace=True)\n",
    "df"
   ],
   "metadata": {
    "collapsed": false,
    "ExecuteTime": {
     "end_time": "2023-08-29T16:43:28.049144800Z",
     "start_time": "2023-08-29T16:43:28.035615300Z"
    }
   },
   "id": "fa6a4f92a6ac26ee"
  },
  {
   "cell_type": "code",
   "execution_count": 23,
   "outputs": [],
   "source": [
    "df.to_csv('./data/datos_cursos_sva.csv', index=False)"
   ],
   "metadata": {
    "collapsed": false,
    "ExecuteTime": {
     "end_time": "2023-08-29T16:43:46.755825400Z",
     "start_time": "2023-08-29T16:43:46.727679700Z"
    }
   },
   "id": "66f49a1029c4cee7"
  },
  {
   "cell_type": "code",
   "execution_count": 7,
   "outputs": [
    {
     "data": {
      "text/plain": "      id_curso                                       nombre_curso  \\\n0        13552  2023-1, FUNDAMENTOS DE DISEÑO, 03, ARQUI. Y UR...   \n1         9627         2023-1, TEORÍA DEL TURISMO, 08, TURISMO, 1   \n2        12725  2023-1, ORGANIZACIÓN DE CONGRESOS Y EVENTOS, 0...   \n3        11194  2023-1, TALLER DE INVESTIGACIÓN EDUCATIVA I, 0...   \n4        11009  2023-1, PSICOLOGÍA EDUCATIVA, 07, ED. PRIM. E ...   \n...        ...                                                ...   \n1499      9390  2023-1, ENFERMERÍA EN SALUD DEL ADULTO II, 07,...   \n1500     10789  2023-1, SEMINARIO DE TESIS, 07, ADMINISTRACIÓN, 2   \n1501     11204             2023-1, INGLÉS BÁSICO I, 07, INGLES, 1   \n1502     12914           2023-1, INGLÉS BÁSICO III, 05, INGLES, 1   \n1503     12921     2023-1, COMPOSICIÓN EN INGLÉS I, 05, INGLES, 1   \n\n                      nombre_docente  id_escuela  \\\n0            MORA GODINEZ LUIS RAMON          36   \n1                   BLACIDO ALVA LUZ          15   \n2                   BLACIDO ALVA LUZ          15   \n3            NIVIN VARGAS LAURA ROSA          28   \n4                  LOPEZ CRUZ BERTHA          19   \n...                              ...         ...   \n1499  ZAMBRANO GUIMARAY JULIA ISABEL          11   \n1500     ZARZOSA MARQUEZ EVA DELFINA          13   \n1501   ZANABRIA PEREZ WALTER ALFREDO          29   \n1502   ZANABRIA PEREZ WALTER ALFREDO          29   \n1503   ZANABRIA PEREZ WALTER ALFREDO          29   \n\n                                         nombre_escuela departamento_docente  \\\n0                              ARQUITECTURA Y URBANISMO     INGENIERIA CIVIL   \n1                                               TURISMO              TURISMO   \n2                                               TURISMO              TURISMO   \n3     EDUCACIÓN: COMUNICACIÓN, LINGÜÍSTICA Y LITERAT...            EDUCACION   \n4     EDUCACIÓN: PRIMARIA Y EDUCACIÓN BILINGÜE INTER...            EDUCACION   \n...                                                 ...                  ...   \n1499                                         ENFERMERÍA           ENFERMERÍA   \n1500                                     ADMINISTRACIÓN       ADMINISTRACIÓN   \n1501               EDUCACIÓN: LENGUA EXTRANJERA: INGLÉS            EDUCACION   \n1502               EDUCACIÓN: LENGUA EXTRANJERA: INGLÉS            EDUCACION   \n1503               EDUCACIÓN: LENGUA EXTRANJERA: INGLÉS            EDUCACION   \n\n     tipo_curso  \n0        Teoria  \n1        Teoria  \n2        Teoria  \n3        Teoria  \n4        Teoria  \n...         ...  \n1499     Teoria  \n1500     Teoria  \n1501     Teoria  \n1502     Teoria  \n1503     Teoria  \n\n[1504 rows x 7 columns]",
      "text/html": "<div>\n<style scoped>\n    .dataframe tbody tr th:only-of-type {\n        vertical-align: middle;\n    }\n\n    .dataframe tbody tr th {\n        vertical-align: top;\n    }\n\n    .dataframe thead th {\n        text-align: right;\n    }\n</style>\n<table border=\"1\" class=\"dataframe\">\n  <thead>\n    <tr style=\"text-align: right;\">\n      <th></th>\n      <th>id_curso</th>\n      <th>nombre_curso</th>\n      <th>nombre_docente</th>\n      <th>id_escuela</th>\n      <th>nombre_escuela</th>\n      <th>departamento_docente</th>\n      <th>tipo_curso</th>\n    </tr>\n  </thead>\n  <tbody>\n    <tr>\n      <th>0</th>\n      <td>13552</td>\n      <td>2023-1, FUNDAMENTOS DE DISEÑO, 03, ARQUI. Y UR...</td>\n      <td>MORA GODINEZ LUIS RAMON</td>\n      <td>36</td>\n      <td>ARQUITECTURA Y URBANISMO</td>\n      <td>INGENIERIA CIVIL</td>\n      <td>Teoria</td>\n    </tr>\n    <tr>\n      <th>1</th>\n      <td>9627</td>\n      <td>2023-1, TEORÍA DEL TURISMO, 08, TURISMO, 1</td>\n      <td>BLACIDO ALVA LUZ</td>\n      <td>15</td>\n      <td>TURISMO</td>\n      <td>TURISMO</td>\n      <td>Teoria</td>\n    </tr>\n    <tr>\n      <th>2</th>\n      <td>12725</td>\n      <td>2023-1, ORGANIZACIÓN DE CONGRESOS Y EVENTOS, 0...</td>\n      <td>BLACIDO ALVA LUZ</td>\n      <td>15</td>\n      <td>TURISMO</td>\n      <td>TURISMO</td>\n      <td>Teoria</td>\n    </tr>\n    <tr>\n      <th>3</th>\n      <td>11194</td>\n      <td>2023-1, TALLER DE INVESTIGACIÓN EDUCATIVA I, 0...</td>\n      <td>NIVIN VARGAS LAURA ROSA</td>\n      <td>28</td>\n      <td>EDUCACIÓN: COMUNICACIÓN, LINGÜÍSTICA Y LITERAT...</td>\n      <td>EDUCACION</td>\n      <td>Teoria</td>\n    </tr>\n    <tr>\n      <th>4</th>\n      <td>11009</td>\n      <td>2023-1, PSICOLOGÍA EDUCATIVA, 07, ED. PRIM. E ...</td>\n      <td>LOPEZ CRUZ BERTHA</td>\n      <td>19</td>\n      <td>EDUCACIÓN: PRIMARIA Y EDUCACIÓN BILINGÜE INTER...</td>\n      <td>EDUCACION</td>\n      <td>Teoria</td>\n    </tr>\n    <tr>\n      <th>...</th>\n      <td>...</td>\n      <td>...</td>\n      <td>...</td>\n      <td>...</td>\n      <td>...</td>\n      <td>...</td>\n      <td>...</td>\n    </tr>\n    <tr>\n      <th>1499</th>\n      <td>9390</td>\n      <td>2023-1, ENFERMERÍA EN SALUD DEL ADULTO II, 07,...</td>\n      <td>ZAMBRANO GUIMARAY JULIA ISABEL</td>\n      <td>11</td>\n      <td>ENFERMERÍA</td>\n      <td>ENFERMERÍA</td>\n      <td>Teoria</td>\n    </tr>\n    <tr>\n      <th>1500</th>\n      <td>10789</td>\n      <td>2023-1, SEMINARIO DE TESIS, 07, ADMINISTRACIÓN, 2</td>\n      <td>ZARZOSA MARQUEZ EVA DELFINA</td>\n      <td>13</td>\n      <td>ADMINISTRACIÓN</td>\n      <td>ADMINISTRACIÓN</td>\n      <td>Teoria</td>\n    </tr>\n    <tr>\n      <th>1501</th>\n      <td>11204</td>\n      <td>2023-1, INGLÉS BÁSICO I, 07, INGLES, 1</td>\n      <td>ZANABRIA PEREZ WALTER ALFREDO</td>\n      <td>29</td>\n      <td>EDUCACIÓN: LENGUA EXTRANJERA: INGLÉS</td>\n      <td>EDUCACION</td>\n      <td>Teoria</td>\n    </tr>\n    <tr>\n      <th>1502</th>\n      <td>12914</td>\n      <td>2023-1, INGLÉS BÁSICO III, 05, INGLES, 1</td>\n      <td>ZANABRIA PEREZ WALTER ALFREDO</td>\n      <td>29</td>\n      <td>EDUCACIÓN: LENGUA EXTRANJERA: INGLÉS</td>\n      <td>EDUCACION</td>\n      <td>Teoria</td>\n    </tr>\n    <tr>\n      <th>1503</th>\n      <td>12921</td>\n      <td>2023-1, COMPOSICIÓN EN INGLÉS I, 05, INGLES, 1</td>\n      <td>ZANABRIA PEREZ WALTER ALFREDO</td>\n      <td>29</td>\n      <td>EDUCACIÓN: LENGUA EXTRANJERA: INGLÉS</td>\n      <td>EDUCACION</td>\n      <td>Teoria</td>\n    </tr>\n  </tbody>\n</table>\n<p>1504 rows × 7 columns</p>\n</div>"
     },
     "execution_count": 7,
     "metadata": {},
     "output_type": "execute_result"
    }
   ],
   "source": [
    "df_datos = pd.read_csv('./data/datos_cursos.csv')\n",
    "df_datos"
   ],
   "metadata": {
    "collapsed": false,
    "ExecuteTime": {
     "end_time": "2023-08-29T16:34:47.529823200Z",
     "start_time": "2023-08-29T16:34:47.341893100Z"
    }
   },
   "id": "c7afdb0a3577da15"
  },
  {
   "cell_type": "code",
   "execution_count": 8,
   "outputs": [
    {
     "data": {
      "text/plain": "      forum  resource  url  assign  label  folder  quiz  chat  scorm  page  \\\n0       1.0       0.0  0.0     0.0    0.0     0.0   0.0   0.0    0.0   0.0   \n1       1.0      10.0  2.0     1.0    0.0     0.0   0.0   0.0    0.0   0.0   \n2       1.0       0.0  0.0     0.0    0.0     0.0   0.0   0.0    0.0   0.0   \n3       1.0      23.0  0.0     0.0    0.0     0.0   0.0   0.0    0.0   0.0   \n4       1.0      21.0  0.0     0.0    0.0     0.0   0.0   0.0    0.0   0.0   \n...     ...       ...  ...     ...    ...     ...   ...   ...    ...   ...   \n1498    1.0       0.0  0.0     0.0    0.0     0.0   0.0   0.0    0.0   0.0   \n1499    1.0       6.0  0.0     1.0    1.0     0.0   0.0   0.0    0.0   0.0   \n1500    1.0       0.0  0.0     0.0    0.0     0.0   0.0   0.0    0.0   0.0   \n1501    0.0      16.0  0.0     0.0    0.0     0.0   0.0   0.0    0.0   0.0   \n1502    1.0       5.0  0.0     0.0    0.0     0.0   0.0   0.0    0.0   0.0   \n\n      ...  book  feedback     id  id_curso  \\\n0     ...   0.0       0.0  12606     12606   \n1     ...   0.0       0.0  12931     12931   \n2     ...   0.0       0.0  12318     12318   \n3     ...   0.0       0.0  12273     12273   \n4     ...   0.0       0.0  13076     13076   \n...   ...   ...       ...    ...       ...   \n1498  ...   0.0       0.0  13909     13909   \n1499  ...   0.0       0.0  14184     14184   \n1500  ...   0.0       0.0  14406     14406   \n1501  ...   0.0       0.0  14149     14149   \n1502  ...   0.0       0.0  10678     10678   \n\n                                           nombre_curso  \\\n0           2023-1, SEMINARIO DE TESIS, 06, ECONOMÍA, 1   \n1     2023-1, TALLER DE PENSAMIENTO LÓGICO MATEMÁTIC...   \n2                2023-1, FÍSICA I, 07, ING. AGRICOLA, 1   \n3             2023-1, QUÍMICA BÁSICA, 08, AGRONÓMICA, 1   \n4          2023-1, FISICOQUÍMICA, 07, ING. AMBIENTAL, 1   \n...                                                 ...   \n1498  2023-1, TALLER DE COMUNICACIÓN ORAL Y ESCRITA,...   \n1499   2023-1, SOCIOLINGÜÍSTICA, 07, ED. PRIM. E INT, 1   \n1500        2023-1, GUIONIZACIÓN, 06, CC. COMUNICAC., 1   \n1501  2023-1, TALLER DE PENSAMIENTO LÓGICO MATEMÁTIC...   \n1502  2023-1, MICROBIOLOGÍA Y PARASITOLOGÍA MÉDICA, ...   \n\n                          nombre_docente  id_escuela  \\\n0       HUERTA BERRIOS FRANCISCO ENRIQUE          12   \n1     GONZALES  PAUCAR  GISSELA CRISTINA          34   \n2                GUTIERREZ LATOCHE ELMER           3   \n3           YUPANQUI TORRES EDSON GILMAR           1   \n4           YUPANQUI TORRES EDSON GILMAR           6   \n...                                  ...         ...   \n1498         MORALES CERNA ISAAC JONATAN          28   \n1499      MENACHO LOPEZ LEONEL ALEXANDER          19   \n1500             ARMAS CASTAÑEDA SEGUNDO          24   \n1501       ROSALES APEÑA MIGUEL DIONICIO          16   \n1502             LIÑAN HERRERA JOSE LUIS          11   \n\n                                         nombre_escuela  \\\n0                                              ECONOMÍA   \n1                                           ARQUEOLOGÍA   \n2                                   INGENIERÍA AGRÍCOLA   \n3                                 INGENIERÍA AGRONÓMICA   \n4                                  INGENIERÍA AMBIENTAL   \n...                                                 ...   \n1498  EDUCACIÓN: COMUNICACIÓN, LINGÜÍSTICA Y LITERAT...   \n1499  EDUCACIÓN: PRIMARIA Y EDUCACIÓN BILINGÜE INTER...   \n1500                        CIENCIAS DE LA COMUNICACIÓN   \n1501                       DERECHO Y CIENCIAS POLÍTICAS   \n1502                                         ENFERMERÍA   \n\n                                 departamento_docente  tipo_curso  \n0                                            ECONOMÍA      Teoria  \n1                                          MATEMÁTICA      Teoria  \n2                                    CIENCIAS BÁSICAS      Teoria  \n3                                    CIENCIAS BÁSICAS      Teoria  \n4                                    CIENCIAS BÁSICAS      Teoria  \n...                                               ...         ...  \n1498                                        EDUCACION      Teoria  \n1499                                        EDUCACION      Teoria  \n1500  CIENCIAS SOCIALES Y CIENCIAS DE LA COMUNICACION      Teoria  \n1501                                       MATEMÁTICA      Teoria  \n1502                                 CIENCIAS BÁSICAS      Teoria  \n\n[1503 rows x 27 columns]",
      "text/html": "<div>\n<style scoped>\n    .dataframe tbody tr th:only-of-type {\n        vertical-align: middle;\n    }\n\n    .dataframe tbody tr th {\n        vertical-align: top;\n    }\n\n    .dataframe thead th {\n        text-align: right;\n    }\n</style>\n<table border=\"1\" class=\"dataframe\">\n  <thead>\n    <tr style=\"text-align: right;\">\n      <th></th>\n      <th>forum</th>\n      <th>resource</th>\n      <th>url</th>\n      <th>assign</th>\n      <th>label</th>\n      <th>folder</th>\n      <th>quiz</th>\n      <th>chat</th>\n      <th>scorm</th>\n      <th>page</th>\n      <th>...</th>\n      <th>book</th>\n      <th>feedback</th>\n      <th>id</th>\n      <th>id_curso</th>\n      <th>nombre_curso</th>\n      <th>nombre_docente</th>\n      <th>id_escuela</th>\n      <th>nombre_escuela</th>\n      <th>departamento_docente</th>\n      <th>tipo_curso</th>\n    </tr>\n  </thead>\n  <tbody>\n    <tr>\n      <th>0</th>\n      <td>1.0</td>\n      <td>0.0</td>\n      <td>0.0</td>\n      <td>0.0</td>\n      <td>0.0</td>\n      <td>0.0</td>\n      <td>0.0</td>\n      <td>0.0</td>\n      <td>0.0</td>\n      <td>0.0</td>\n      <td>...</td>\n      <td>0.0</td>\n      <td>0.0</td>\n      <td>12606</td>\n      <td>12606</td>\n      <td>2023-1, SEMINARIO DE TESIS, 06, ECONOMÍA, 1</td>\n      <td>HUERTA BERRIOS FRANCISCO ENRIQUE</td>\n      <td>12</td>\n      <td>ECONOMÍA</td>\n      <td>ECONOMÍA</td>\n      <td>Teoria</td>\n    </tr>\n    <tr>\n      <th>1</th>\n      <td>1.0</td>\n      <td>10.0</td>\n      <td>2.0</td>\n      <td>1.0</td>\n      <td>0.0</td>\n      <td>0.0</td>\n      <td>0.0</td>\n      <td>0.0</td>\n      <td>0.0</td>\n      <td>0.0</td>\n      <td>...</td>\n      <td>0.0</td>\n      <td>0.0</td>\n      <td>12931</td>\n      <td>12931</td>\n      <td>2023-1, TALLER DE PENSAMIENTO LÓGICO MATEMÁTIC...</td>\n      <td>GONZALES  PAUCAR  GISSELA CRISTINA</td>\n      <td>34</td>\n      <td>ARQUEOLOGÍA</td>\n      <td>MATEMÁTICA</td>\n      <td>Teoria</td>\n    </tr>\n    <tr>\n      <th>2</th>\n      <td>1.0</td>\n      <td>0.0</td>\n      <td>0.0</td>\n      <td>0.0</td>\n      <td>0.0</td>\n      <td>0.0</td>\n      <td>0.0</td>\n      <td>0.0</td>\n      <td>0.0</td>\n      <td>0.0</td>\n      <td>...</td>\n      <td>0.0</td>\n      <td>0.0</td>\n      <td>12318</td>\n      <td>12318</td>\n      <td>2023-1, FÍSICA I, 07, ING. AGRICOLA, 1</td>\n      <td>GUTIERREZ LATOCHE ELMER</td>\n      <td>3</td>\n      <td>INGENIERÍA AGRÍCOLA</td>\n      <td>CIENCIAS BÁSICAS</td>\n      <td>Teoria</td>\n    </tr>\n    <tr>\n      <th>3</th>\n      <td>1.0</td>\n      <td>23.0</td>\n      <td>0.0</td>\n      <td>0.0</td>\n      <td>0.0</td>\n      <td>0.0</td>\n      <td>0.0</td>\n      <td>0.0</td>\n      <td>0.0</td>\n      <td>0.0</td>\n      <td>...</td>\n      <td>0.0</td>\n      <td>0.0</td>\n      <td>12273</td>\n      <td>12273</td>\n      <td>2023-1, QUÍMICA BÁSICA, 08, AGRONÓMICA, 1</td>\n      <td>YUPANQUI TORRES EDSON GILMAR</td>\n      <td>1</td>\n      <td>INGENIERÍA AGRONÓMICA</td>\n      <td>CIENCIAS BÁSICAS</td>\n      <td>Teoria</td>\n    </tr>\n    <tr>\n      <th>4</th>\n      <td>1.0</td>\n      <td>21.0</td>\n      <td>0.0</td>\n      <td>0.0</td>\n      <td>0.0</td>\n      <td>0.0</td>\n      <td>0.0</td>\n      <td>0.0</td>\n      <td>0.0</td>\n      <td>0.0</td>\n      <td>...</td>\n      <td>0.0</td>\n      <td>0.0</td>\n      <td>13076</td>\n      <td>13076</td>\n      <td>2023-1, FISICOQUÍMICA, 07, ING. AMBIENTAL, 1</td>\n      <td>YUPANQUI TORRES EDSON GILMAR</td>\n      <td>6</td>\n      <td>INGENIERÍA AMBIENTAL</td>\n      <td>CIENCIAS BÁSICAS</td>\n      <td>Teoria</td>\n    </tr>\n    <tr>\n      <th>...</th>\n      <td>...</td>\n      <td>...</td>\n      <td>...</td>\n      <td>...</td>\n      <td>...</td>\n      <td>...</td>\n      <td>...</td>\n      <td>...</td>\n      <td>...</td>\n      <td>...</td>\n      <td>...</td>\n      <td>...</td>\n      <td>...</td>\n      <td>...</td>\n      <td>...</td>\n      <td>...</td>\n      <td>...</td>\n      <td>...</td>\n      <td>...</td>\n      <td>...</td>\n      <td>...</td>\n    </tr>\n    <tr>\n      <th>1498</th>\n      <td>1.0</td>\n      <td>0.0</td>\n      <td>0.0</td>\n      <td>0.0</td>\n      <td>0.0</td>\n      <td>0.0</td>\n      <td>0.0</td>\n      <td>0.0</td>\n      <td>0.0</td>\n      <td>0.0</td>\n      <td>...</td>\n      <td>0.0</td>\n      <td>0.0</td>\n      <td>13909</td>\n      <td>13909</td>\n      <td>2023-1, TALLER DE COMUNICACIÓN ORAL Y ESCRITA,...</td>\n      <td>MORALES CERNA ISAAC JONATAN</td>\n      <td>28</td>\n      <td>EDUCACIÓN: COMUNICACIÓN, LINGÜÍSTICA Y LITERAT...</td>\n      <td>EDUCACION</td>\n      <td>Teoria</td>\n    </tr>\n    <tr>\n      <th>1499</th>\n      <td>1.0</td>\n      <td>6.0</td>\n      <td>0.0</td>\n      <td>1.0</td>\n      <td>1.0</td>\n      <td>0.0</td>\n      <td>0.0</td>\n      <td>0.0</td>\n      <td>0.0</td>\n      <td>0.0</td>\n      <td>...</td>\n      <td>0.0</td>\n      <td>0.0</td>\n      <td>14184</td>\n      <td>14184</td>\n      <td>2023-1, SOCIOLINGÜÍSTICA, 07, ED. PRIM. E INT, 1</td>\n      <td>MENACHO LOPEZ LEONEL ALEXANDER</td>\n      <td>19</td>\n      <td>EDUCACIÓN: PRIMARIA Y EDUCACIÓN BILINGÜE INTER...</td>\n      <td>EDUCACION</td>\n      <td>Teoria</td>\n    </tr>\n    <tr>\n      <th>1500</th>\n      <td>1.0</td>\n      <td>0.0</td>\n      <td>0.0</td>\n      <td>0.0</td>\n      <td>0.0</td>\n      <td>0.0</td>\n      <td>0.0</td>\n      <td>0.0</td>\n      <td>0.0</td>\n      <td>0.0</td>\n      <td>...</td>\n      <td>0.0</td>\n      <td>0.0</td>\n      <td>14406</td>\n      <td>14406</td>\n      <td>2023-1, GUIONIZACIÓN, 06, CC. COMUNICAC., 1</td>\n      <td>ARMAS CASTAÑEDA SEGUNDO</td>\n      <td>24</td>\n      <td>CIENCIAS DE LA COMUNICACIÓN</td>\n      <td>CIENCIAS SOCIALES Y CIENCIAS DE LA COMUNICACION</td>\n      <td>Teoria</td>\n    </tr>\n    <tr>\n      <th>1501</th>\n      <td>0.0</td>\n      <td>16.0</td>\n      <td>0.0</td>\n      <td>0.0</td>\n      <td>0.0</td>\n      <td>0.0</td>\n      <td>0.0</td>\n      <td>0.0</td>\n      <td>0.0</td>\n      <td>0.0</td>\n      <td>...</td>\n      <td>0.0</td>\n      <td>0.0</td>\n      <td>14149</td>\n      <td>14149</td>\n      <td>2023-1, TALLER DE PENSAMIENTO LÓGICO MATEMÁTIC...</td>\n      <td>ROSALES APEÑA MIGUEL DIONICIO</td>\n      <td>16</td>\n      <td>DERECHO Y CIENCIAS POLÍTICAS</td>\n      <td>MATEMÁTICA</td>\n      <td>Teoria</td>\n    </tr>\n    <tr>\n      <th>1502</th>\n      <td>1.0</td>\n      <td>5.0</td>\n      <td>0.0</td>\n      <td>0.0</td>\n      <td>0.0</td>\n      <td>0.0</td>\n      <td>0.0</td>\n      <td>0.0</td>\n      <td>0.0</td>\n      <td>0.0</td>\n      <td>...</td>\n      <td>0.0</td>\n      <td>0.0</td>\n      <td>10678</td>\n      <td>10678</td>\n      <td>2023-1, MICROBIOLOGÍA Y PARASITOLOGÍA MÉDICA, ...</td>\n      <td>LIÑAN HERRERA JOSE LUIS</td>\n      <td>11</td>\n      <td>ENFERMERÍA</td>\n      <td>CIENCIAS BÁSICAS</td>\n      <td>Teoria</td>\n    </tr>\n  </tbody>\n</table>\n<p>1503 rows × 27 columns</p>\n</div>"
     },
     "execution_count": 8,
     "metadata": {},
     "output_type": "execute_result"
    }
   ],
   "source": [
    "df_all = pd.merge(df, df_datos, left_on='id', right_on='id_curso')\n",
    "df_all"
   ],
   "metadata": {
    "collapsed": false,
    "ExecuteTime": {
     "end_time": "2023-08-29T16:34:47.620511300Z",
     "start_time": "2023-08-29T16:34:47.422597300Z"
    }
   },
   "id": "506ce185e37548a4"
  },
  {
   "cell_type": "code",
   "execution_count": 9,
   "outputs": [],
   "source": [
    "df_all['nombre_curso'] = df_all['nombre_curso'].str.split(',').str[1]"
   ],
   "metadata": {
    "collapsed": false,
    "ExecuteTime": {
     "end_time": "2023-08-29T16:34:47.621516400Z",
     "start_time": "2023-08-29T16:34:47.523234700Z"
    }
   },
   "id": "e701ad3a72791307"
  },
  {
   "cell_type": "code",
   "execution_count": 10,
   "outputs": [
    {
     "data": {
      "text/plain": "      forum  resource  url  assign  label  folder  quiz  chat  scorm  page  \\\n0       1.0       0.0  0.0     0.0    0.0     0.0   0.0   0.0    0.0   0.0   \n1       1.0      10.0  2.0     1.0    0.0     0.0   0.0   0.0    0.0   0.0   \n2       1.0       0.0  0.0     0.0    0.0     0.0   0.0   0.0    0.0   0.0   \n3       1.0      23.0  0.0     0.0    0.0     0.0   0.0   0.0    0.0   0.0   \n4       1.0      21.0  0.0     0.0    0.0     0.0   0.0   0.0    0.0   0.0   \n...     ...       ...  ...     ...    ...     ...   ...   ...    ...   ...   \n1498    1.0       0.0  0.0     0.0    0.0     0.0   0.0   0.0    0.0   0.0   \n1499    1.0       6.0  0.0     1.0    1.0     0.0   0.0   0.0    0.0   0.0   \n1500    1.0       0.0  0.0     0.0    0.0     0.0   0.0   0.0    0.0   0.0   \n1501    0.0      16.0  0.0     0.0    0.0     0.0   0.0   0.0    0.0   0.0   \n1502    1.0       5.0  0.0     0.0    0.0     0.0   0.0   0.0    0.0   0.0   \n\n      ...  book  feedback     id  id_curso  \\\n0     ...   0.0       0.0  12606     12606   \n1     ...   0.0       0.0  12931     12931   \n2     ...   0.0       0.0  12318     12318   \n3     ...   0.0       0.0  12273     12273   \n4     ...   0.0       0.0  13076     13076   \n...   ...   ...       ...    ...       ...   \n1498  ...   0.0       0.0  13909     13909   \n1499  ...   0.0       0.0  14184     14184   \n1500  ...   0.0       0.0  14406     14406   \n1501  ...   0.0       0.0  14149     14149   \n1502  ...   0.0       0.0  10678     10678   \n\n                                  nombre_curso  \\\n0                           SEMINARIO DE TESIS   \n1      TALLER DE PENSAMIENTO LÓGICO MATEMÁTICO   \n2                                     FÍSICA I   \n3                               QUÍMICA BÁSICA   \n4                                FISICOQUÍMICA   \n...                                        ...   \n1498     TALLER DE COMUNICACIÓN ORAL Y ESCRITA   \n1499                          SOCIOLINGÜÍSTICA   \n1500                              GUIONIZACIÓN   \n1501   TALLER DE PENSAMIENTO LÓGICO MATEMÁTICO   \n1502      MICROBIOLOGÍA Y PARASITOLOGÍA MÉDICA   \n\n                          nombre_docente  id_escuela  \\\n0       HUERTA BERRIOS FRANCISCO ENRIQUE          12   \n1     GONZALES  PAUCAR  GISSELA CRISTINA          34   \n2                GUTIERREZ LATOCHE ELMER           3   \n3           YUPANQUI TORRES EDSON GILMAR           1   \n4           YUPANQUI TORRES EDSON GILMAR           6   \n...                                  ...         ...   \n1498         MORALES CERNA ISAAC JONATAN          28   \n1499      MENACHO LOPEZ LEONEL ALEXANDER          19   \n1500             ARMAS CASTAÑEDA SEGUNDO          24   \n1501       ROSALES APEÑA MIGUEL DIONICIO          16   \n1502             LIÑAN HERRERA JOSE LUIS          11   \n\n                                         nombre_escuela  \\\n0                                              ECONOMÍA   \n1                                           ARQUEOLOGÍA   \n2                                   INGENIERÍA AGRÍCOLA   \n3                                 INGENIERÍA AGRONÓMICA   \n4                                  INGENIERÍA AMBIENTAL   \n...                                                 ...   \n1498  EDUCACIÓN: COMUNICACIÓN, LINGÜÍSTICA Y LITERAT...   \n1499  EDUCACIÓN: PRIMARIA Y EDUCACIÓN BILINGÜE INTER...   \n1500                        CIENCIAS DE LA COMUNICACIÓN   \n1501                       DERECHO Y CIENCIAS POLÍTICAS   \n1502                                         ENFERMERÍA   \n\n                                 departamento_docente  tipo_curso  \n0                                            ECONOMÍA      Teoria  \n1                                          MATEMÁTICA      Teoria  \n2                                    CIENCIAS BÁSICAS      Teoria  \n3                                    CIENCIAS BÁSICAS      Teoria  \n4                                    CIENCIAS BÁSICAS      Teoria  \n...                                               ...         ...  \n1498                                        EDUCACION      Teoria  \n1499                                        EDUCACION      Teoria  \n1500  CIENCIAS SOCIALES Y CIENCIAS DE LA COMUNICACION      Teoria  \n1501                                       MATEMÁTICA      Teoria  \n1502                                 CIENCIAS BÁSICAS      Teoria  \n\n[1503 rows x 27 columns]",
      "text/html": "<div>\n<style scoped>\n    .dataframe tbody tr th:only-of-type {\n        vertical-align: middle;\n    }\n\n    .dataframe tbody tr th {\n        vertical-align: top;\n    }\n\n    .dataframe thead th {\n        text-align: right;\n    }\n</style>\n<table border=\"1\" class=\"dataframe\">\n  <thead>\n    <tr style=\"text-align: right;\">\n      <th></th>\n      <th>forum</th>\n      <th>resource</th>\n      <th>url</th>\n      <th>assign</th>\n      <th>label</th>\n      <th>folder</th>\n      <th>quiz</th>\n      <th>chat</th>\n      <th>scorm</th>\n      <th>page</th>\n      <th>...</th>\n      <th>book</th>\n      <th>feedback</th>\n      <th>id</th>\n      <th>id_curso</th>\n      <th>nombre_curso</th>\n      <th>nombre_docente</th>\n      <th>id_escuela</th>\n      <th>nombre_escuela</th>\n      <th>departamento_docente</th>\n      <th>tipo_curso</th>\n    </tr>\n  </thead>\n  <tbody>\n    <tr>\n      <th>0</th>\n      <td>1.0</td>\n      <td>0.0</td>\n      <td>0.0</td>\n      <td>0.0</td>\n      <td>0.0</td>\n      <td>0.0</td>\n      <td>0.0</td>\n      <td>0.0</td>\n      <td>0.0</td>\n      <td>0.0</td>\n      <td>...</td>\n      <td>0.0</td>\n      <td>0.0</td>\n      <td>12606</td>\n      <td>12606</td>\n      <td>SEMINARIO DE TESIS</td>\n      <td>HUERTA BERRIOS FRANCISCO ENRIQUE</td>\n      <td>12</td>\n      <td>ECONOMÍA</td>\n      <td>ECONOMÍA</td>\n      <td>Teoria</td>\n    </tr>\n    <tr>\n      <th>1</th>\n      <td>1.0</td>\n      <td>10.0</td>\n      <td>2.0</td>\n      <td>1.0</td>\n      <td>0.0</td>\n      <td>0.0</td>\n      <td>0.0</td>\n      <td>0.0</td>\n      <td>0.0</td>\n      <td>0.0</td>\n      <td>...</td>\n      <td>0.0</td>\n      <td>0.0</td>\n      <td>12931</td>\n      <td>12931</td>\n      <td>TALLER DE PENSAMIENTO LÓGICO MATEMÁTICO</td>\n      <td>GONZALES  PAUCAR  GISSELA CRISTINA</td>\n      <td>34</td>\n      <td>ARQUEOLOGÍA</td>\n      <td>MATEMÁTICA</td>\n      <td>Teoria</td>\n    </tr>\n    <tr>\n      <th>2</th>\n      <td>1.0</td>\n      <td>0.0</td>\n      <td>0.0</td>\n      <td>0.0</td>\n      <td>0.0</td>\n      <td>0.0</td>\n      <td>0.0</td>\n      <td>0.0</td>\n      <td>0.0</td>\n      <td>0.0</td>\n      <td>...</td>\n      <td>0.0</td>\n      <td>0.0</td>\n      <td>12318</td>\n      <td>12318</td>\n      <td>FÍSICA I</td>\n      <td>GUTIERREZ LATOCHE ELMER</td>\n      <td>3</td>\n      <td>INGENIERÍA AGRÍCOLA</td>\n      <td>CIENCIAS BÁSICAS</td>\n      <td>Teoria</td>\n    </tr>\n    <tr>\n      <th>3</th>\n      <td>1.0</td>\n      <td>23.0</td>\n      <td>0.0</td>\n      <td>0.0</td>\n      <td>0.0</td>\n      <td>0.0</td>\n      <td>0.0</td>\n      <td>0.0</td>\n      <td>0.0</td>\n      <td>0.0</td>\n      <td>...</td>\n      <td>0.0</td>\n      <td>0.0</td>\n      <td>12273</td>\n      <td>12273</td>\n      <td>QUÍMICA BÁSICA</td>\n      <td>YUPANQUI TORRES EDSON GILMAR</td>\n      <td>1</td>\n      <td>INGENIERÍA AGRONÓMICA</td>\n      <td>CIENCIAS BÁSICAS</td>\n      <td>Teoria</td>\n    </tr>\n    <tr>\n      <th>4</th>\n      <td>1.0</td>\n      <td>21.0</td>\n      <td>0.0</td>\n      <td>0.0</td>\n      <td>0.0</td>\n      <td>0.0</td>\n      <td>0.0</td>\n      <td>0.0</td>\n      <td>0.0</td>\n      <td>0.0</td>\n      <td>...</td>\n      <td>0.0</td>\n      <td>0.0</td>\n      <td>13076</td>\n      <td>13076</td>\n      <td>FISICOQUÍMICA</td>\n      <td>YUPANQUI TORRES EDSON GILMAR</td>\n      <td>6</td>\n      <td>INGENIERÍA AMBIENTAL</td>\n      <td>CIENCIAS BÁSICAS</td>\n      <td>Teoria</td>\n    </tr>\n    <tr>\n      <th>...</th>\n      <td>...</td>\n      <td>...</td>\n      <td>...</td>\n      <td>...</td>\n      <td>...</td>\n      <td>...</td>\n      <td>...</td>\n      <td>...</td>\n      <td>...</td>\n      <td>...</td>\n      <td>...</td>\n      <td>...</td>\n      <td>...</td>\n      <td>...</td>\n      <td>...</td>\n      <td>...</td>\n      <td>...</td>\n      <td>...</td>\n      <td>...</td>\n      <td>...</td>\n      <td>...</td>\n    </tr>\n    <tr>\n      <th>1498</th>\n      <td>1.0</td>\n      <td>0.0</td>\n      <td>0.0</td>\n      <td>0.0</td>\n      <td>0.0</td>\n      <td>0.0</td>\n      <td>0.0</td>\n      <td>0.0</td>\n      <td>0.0</td>\n      <td>0.0</td>\n      <td>...</td>\n      <td>0.0</td>\n      <td>0.0</td>\n      <td>13909</td>\n      <td>13909</td>\n      <td>TALLER DE COMUNICACIÓN ORAL Y ESCRITA</td>\n      <td>MORALES CERNA ISAAC JONATAN</td>\n      <td>28</td>\n      <td>EDUCACIÓN: COMUNICACIÓN, LINGÜÍSTICA Y LITERAT...</td>\n      <td>EDUCACION</td>\n      <td>Teoria</td>\n    </tr>\n    <tr>\n      <th>1499</th>\n      <td>1.0</td>\n      <td>6.0</td>\n      <td>0.0</td>\n      <td>1.0</td>\n      <td>1.0</td>\n      <td>0.0</td>\n      <td>0.0</td>\n      <td>0.0</td>\n      <td>0.0</td>\n      <td>0.0</td>\n      <td>...</td>\n      <td>0.0</td>\n      <td>0.0</td>\n      <td>14184</td>\n      <td>14184</td>\n      <td>SOCIOLINGÜÍSTICA</td>\n      <td>MENACHO LOPEZ LEONEL ALEXANDER</td>\n      <td>19</td>\n      <td>EDUCACIÓN: PRIMARIA Y EDUCACIÓN BILINGÜE INTER...</td>\n      <td>EDUCACION</td>\n      <td>Teoria</td>\n    </tr>\n    <tr>\n      <th>1500</th>\n      <td>1.0</td>\n      <td>0.0</td>\n      <td>0.0</td>\n      <td>0.0</td>\n      <td>0.0</td>\n      <td>0.0</td>\n      <td>0.0</td>\n      <td>0.0</td>\n      <td>0.0</td>\n      <td>0.0</td>\n      <td>...</td>\n      <td>0.0</td>\n      <td>0.0</td>\n      <td>14406</td>\n      <td>14406</td>\n      <td>GUIONIZACIÓN</td>\n      <td>ARMAS CASTAÑEDA SEGUNDO</td>\n      <td>24</td>\n      <td>CIENCIAS DE LA COMUNICACIÓN</td>\n      <td>CIENCIAS SOCIALES Y CIENCIAS DE LA COMUNICACION</td>\n      <td>Teoria</td>\n    </tr>\n    <tr>\n      <th>1501</th>\n      <td>0.0</td>\n      <td>16.0</td>\n      <td>0.0</td>\n      <td>0.0</td>\n      <td>0.0</td>\n      <td>0.0</td>\n      <td>0.0</td>\n      <td>0.0</td>\n      <td>0.0</td>\n      <td>0.0</td>\n      <td>...</td>\n      <td>0.0</td>\n      <td>0.0</td>\n      <td>14149</td>\n      <td>14149</td>\n      <td>TALLER DE PENSAMIENTO LÓGICO MATEMÁTICO</td>\n      <td>ROSALES APEÑA MIGUEL DIONICIO</td>\n      <td>16</td>\n      <td>DERECHO Y CIENCIAS POLÍTICAS</td>\n      <td>MATEMÁTICA</td>\n      <td>Teoria</td>\n    </tr>\n    <tr>\n      <th>1502</th>\n      <td>1.0</td>\n      <td>5.0</td>\n      <td>0.0</td>\n      <td>0.0</td>\n      <td>0.0</td>\n      <td>0.0</td>\n      <td>0.0</td>\n      <td>0.0</td>\n      <td>0.0</td>\n      <td>0.0</td>\n      <td>...</td>\n      <td>0.0</td>\n      <td>0.0</td>\n      <td>10678</td>\n      <td>10678</td>\n      <td>MICROBIOLOGÍA Y PARASITOLOGÍA MÉDICA</td>\n      <td>LIÑAN HERRERA JOSE LUIS</td>\n      <td>11</td>\n      <td>ENFERMERÍA</td>\n      <td>CIENCIAS BÁSICAS</td>\n      <td>Teoria</td>\n    </tr>\n  </tbody>\n</table>\n<p>1503 rows × 27 columns</p>\n</div>"
     },
     "execution_count": 10,
     "metadata": {},
     "output_type": "execute_result"
    }
   ],
   "source": [
    "df_all"
   ],
   "metadata": {
    "collapsed": false,
    "ExecuteTime": {
     "end_time": "2023-08-29T16:34:47.713252200Z",
     "start_time": "2023-08-29T16:34:47.530805100Z"
    }
   },
   "id": "e0cbd2c538789e1b"
  },
  {
   "cell_type": "code",
   "execution_count": 11,
   "outputs": [],
   "source": [
    "df_all.to_csv('./data/datos_listos.csv', index=False)"
   ],
   "metadata": {
    "collapsed": false,
    "ExecuteTime": {
     "end_time": "2023-08-29T16:34:47.714249800Z",
     "start_time": "2023-08-29T16:34:47.562552800Z"
    }
   },
   "id": "b8dc5a50837976cf"
  },
  {
   "cell_type": "code",
   "execution_count": 12,
   "outputs": [
    {
     "data": {
      "text/plain": "     forum  resource  url  assign  label  folder  quiz  chat  scorm  page  \\\n666    1.0       9.0  0.0     6.0    0.0     0.0   0.0   0.0    0.0   0.0   \n853    1.0       8.0  1.0     7.0    0.0     0.0   0.0   0.0    0.0   0.0   \n879    1.0      13.0  0.0     5.0    0.0     0.0   0.0   0.0    0.0   0.0   \n\n     ...  book  feedback     id  id_curso  \\\n666  ...   0.0       0.0  12953     12953   \n853  ...   0.0       0.0  11117     11117   \n879  ...   0.0       0.0  12096     12096   \n\n                                          nombre_curso  \\\n666                                      BASE DE DATOS   \n853   PLANEAMIENTO ESTRATÉGICO DE LOS SISTEMAS DE I...   \n879                          INGENIERÍA DEL SOFTWARE I   \n\n                 nombre_docente  id_escuela  \\\n666  MEDINA LOPEZ WALTER JUNIOR          35   \n853  MEDINA LOPEZ WALTER JUNIOR          25   \n879  MEDINA LOPEZ WALTER JUNIOR          25   \n\n                           nombre_escuela  \\\n666                 INGENIERÍA INDUSTRIAL   \n853  INGENIERÍA DE SISTEMAS E INFORMÁTICA   \n879  INGENIERÍA DE SISTEMAS E INFORMÁTICA   \n\n                            departamento_docente  tipo_curso  \n666  INGENIERIA DE SISTEMAS Y TELECOMUNICACIONES      Teoria  \n853  INGENIERIA DE SISTEMAS Y TELECOMUNICACIONES      Teoria  \n879  INGENIERIA DE SISTEMAS Y TELECOMUNICACIONES      Teoria  \n\n[3 rows x 27 columns]",
      "text/html": "<div>\n<style scoped>\n    .dataframe tbody tr th:only-of-type {\n        vertical-align: middle;\n    }\n\n    .dataframe tbody tr th {\n        vertical-align: top;\n    }\n\n    .dataframe thead th {\n        text-align: right;\n    }\n</style>\n<table border=\"1\" class=\"dataframe\">\n  <thead>\n    <tr style=\"text-align: right;\">\n      <th></th>\n      <th>forum</th>\n      <th>resource</th>\n      <th>url</th>\n      <th>assign</th>\n      <th>label</th>\n      <th>folder</th>\n      <th>quiz</th>\n      <th>chat</th>\n      <th>scorm</th>\n      <th>page</th>\n      <th>...</th>\n      <th>book</th>\n      <th>feedback</th>\n      <th>id</th>\n      <th>id_curso</th>\n      <th>nombre_curso</th>\n      <th>nombre_docente</th>\n      <th>id_escuela</th>\n      <th>nombre_escuela</th>\n      <th>departamento_docente</th>\n      <th>tipo_curso</th>\n    </tr>\n  </thead>\n  <tbody>\n    <tr>\n      <th>666</th>\n      <td>1.0</td>\n      <td>9.0</td>\n      <td>0.0</td>\n      <td>6.0</td>\n      <td>0.0</td>\n      <td>0.0</td>\n      <td>0.0</td>\n      <td>0.0</td>\n      <td>0.0</td>\n      <td>0.0</td>\n      <td>...</td>\n      <td>0.0</td>\n      <td>0.0</td>\n      <td>12953</td>\n      <td>12953</td>\n      <td>BASE DE DATOS</td>\n      <td>MEDINA LOPEZ WALTER JUNIOR</td>\n      <td>35</td>\n      <td>INGENIERÍA INDUSTRIAL</td>\n      <td>INGENIERIA DE SISTEMAS Y TELECOMUNICACIONES</td>\n      <td>Teoria</td>\n    </tr>\n    <tr>\n      <th>853</th>\n      <td>1.0</td>\n      <td>8.0</td>\n      <td>1.0</td>\n      <td>7.0</td>\n      <td>0.0</td>\n      <td>0.0</td>\n      <td>0.0</td>\n      <td>0.0</td>\n      <td>0.0</td>\n      <td>0.0</td>\n      <td>...</td>\n      <td>0.0</td>\n      <td>0.0</td>\n      <td>11117</td>\n      <td>11117</td>\n      <td>PLANEAMIENTO ESTRATÉGICO DE LOS SISTEMAS DE I...</td>\n      <td>MEDINA LOPEZ WALTER JUNIOR</td>\n      <td>25</td>\n      <td>INGENIERÍA DE SISTEMAS E INFORMÁTICA</td>\n      <td>INGENIERIA DE SISTEMAS Y TELECOMUNICACIONES</td>\n      <td>Teoria</td>\n    </tr>\n    <tr>\n      <th>879</th>\n      <td>1.0</td>\n      <td>13.0</td>\n      <td>0.0</td>\n      <td>5.0</td>\n      <td>0.0</td>\n      <td>0.0</td>\n      <td>0.0</td>\n      <td>0.0</td>\n      <td>0.0</td>\n      <td>0.0</td>\n      <td>...</td>\n      <td>0.0</td>\n      <td>0.0</td>\n      <td>12096</td>\n      <td>12096</td>\n      <td>INGENIERÍA DEL SOFTWARE I</td>\n      <td>MEDINA LOPEZ WALTER JUNIOR</td>\n      <td>25</td>\n      <td>INGENIERÍA DE SISTEMAS E INFORMÁTICA</td>\n      <td>INGENIERIA DE SISTEMAS Y TELECOMUNICACIONES</td>\n      <td>Teoria</td>\n    </tr>\n  </tbody>\n</table>\n<p>3 rows × 27 columns</p>\n</div>"
     },
     "execution_count": 12,
     "metadata": {},
     "output_type": "execute_result"
    }
   ],
   "source": [
    "df_docente = df_all[df_all['nombre_docente'] == 'MEDINA LOPEZ WALTER JUNIOR']\n",
    "df_docente"
   ],
   "metadata": {
    "collapsed": false,
    "ExecuteTime": {
     "end_time": "2023-08-29T16:34:47.756255200Z",
     "start_time": "2023-08-29T16:34:47.589548400Z"
    }
   },
   "id": "d47ff8d3fa70118a"
  },
  {
   "cell_type": "code",
   "execution_count": 26,
   "outputs": [
    {
     "data": {
      "text/plain": "<Axes: ylabel='assign'>"
     },
     "execution_count": 26,
     "metadata": {},
     "output_type": "execute_result"
    },
    {
     "data": {
      "text/plain": "<Figure size 640x480 with 1 Axes>",
      "image/png": "[encoded data removed]"
     },
     "metadata": {},
     "output_type": "display_data"
    }
   ],
   "source": [
    "# los resultados de df_docente graficalos en un grafico circular para cada nombre_curso la cantidad de resource\n",
    "df_docente.groupby('nombre_curso').sum()['resource'].plot(kind='pie')\n",
    "# df_docente.groupby('nombre_curso').sum()['resource'].plot(kind='pie', autopct='%1.1f%%')\n",
    "# que se muestre la cantidad dentro del grafico no en porcentaje\n",
    "df_docente.groupby('nombre_curso').sum()['assign'].plot(kind='pie', autopct='%1.1f%%', labels=None)"
   ],
   "metadata": {
    "collapsed": false,
    "ExecuteTime": {
     "end_time": "2023-08-29T19:02:51.888558600Z",
     "start_time": "2023-08-29T19:02:51.761599500Z"
    }
   },
   "id": "2a7e1191425ab8f3"
  },
  {
   "cell_type": "code",
   "execution_count": 4,
   "outputs": [],
   "source": [
    "todos = {12953: {\n",
    "    '133374, General': {'forum': 1, 'resource': 1}, \n",
    "    '133946, SEMANA 1': {'resource': 1, 'assign': 1}, \n",
    "    '133947, SEMANA 2': {'resource': 2, 'assign': 1}, \n",
    "    '133948, SEMANA 3': {'resource': 1, 'assign': 1}, \n",
    "    '133949, SEMANA 4': {'resource': 1, 'assign': 1}, \n",
    "    '142210, SEMANA 5': {'resource': 1}, \n",
    "    '142211, SEMANA 6': {'resource': 1}, \n",
    "    '142212, SEMANA 7': {'resource': 1, 'assign': 1}, \n",
    "    '142213, SEMANA 8': {'assign': 1}, \n",
    "    '142214, SEMANA 9': {'resource': 1}\n",
    "    }\n",
    "}"
   ],
   "metadata": {
    "collapsed": false,
    "ExecuteTime": {
     "end_time": "2023-09-05T17:23:29.398767Z",
     "start_time": "2023-09-05T17:23:29.384007600Z"
    }
   },
   "id": "72442501257e4f0c"
  },
  {
   "cell_type": "code",
   "execution_count": 7,
   "outputs": [
    {
     "ename": "TypeError",
     "evalue": "'int' object is not iterable",
     "output_type": "error",
     "traceback": [
      "\u001B[1;31m---------------------------------------------------------------------------\u001B[0m",
      "\u001B[1;31mTypeError\u001B[0m                                 Traceback (most recent call last)",
      "Cell \u001B[1;32mIn[7], line 2\u001B[0m\n\u001B[0;32m      1\u001B[0m \u001B[38;5;28;01mfor\u001B[39;00m todo \u001B[38;5;129;01min\u001B[39;00m todos:\n\u001B[1;32m----> 2\u001B[0m     \u001B[38;5;28;01mfor\u001B[39;00m tod \u001B[38;5;129;01min\u001B[39;00m todo:\n\u001B[0;32m      3\u001B[0m         \u001B[38;5;28mprint\u001B[39m(tod)\n",
      "\u001B[1;31mTypeError\u001B[0m: 'int' object is not iterable"
     ]
    }
   ],
   "source": [
    "for todo in todos:\n",
    "    for tod in todo:\n",
    "        print(tod)"
   ],
   "metadata": {
    "collapsed": false,
    "ExecuteTime": {
     "end_time": "2023-09-05T17:25:41.306583100Z",
     "start_time": "2023-09-05T17:25:41.170904400Z"
    }
   },
   "id": "fc78775f99af10b5"
  },
  {
   "cell_type": "code",
   "execution_count": 16,
   "outputs": [],
   "source": [
    "todos = [12953, [\n",
    "    {'133374, General': {'forum': 1, 'resource': 1}}, \n",
    "    {'133946, SEMANA 1': {'resource': 1, 'assign': 1}}, \n",
    "    {'133947, SEMANA 2': {'resource': 2, 'assign': 1}}, \n",
    "    {'133948, SEMANA 3': {'resource': 1, 'assign': 1}}, \n",
    "    {'133949, SEMANA 4': {'resource': 1, 'assign': 1}}, \n",
    "    {'142210, SEMANA 5': {'resource': 1}}, \n",
    "    {'142211, SEMANA 6': {'resource': 1}}, \n",
    "    {'142212, SEMANA 7': {'resource': 1, 'assign': 1}}, \n",
    "    {'142213, SEMANA 8': {'assign': 1}}, \n",
    "    {'142214, SEMANA 9': {'resource': 1}}\n",
    "]]"
   ],
   "metadata": {
    "collapsed": false,
    "ExecuteTime": {
     "end_time": "2023-09-05T17:41:39.457019200Z",
     "start_time": "2023-09-05T17:41:39.446574200Z"
    }
   },
   "id": "dbc518c2c4e36f22"
  },
  {
   "cell_type": "code",
   "execution_count": 18,
   "outputs": [
    {
     "name": "stdout",
     "output_type": "stream",
     "text": [
      "{'133374, General': {'forum': 1, 'resource': 1}, 'curso': 12953}\n",
      "{'133946, SEMANA 1': {'resource': 1, 'assign': 1}, 'curso': 12953}\n",
      "{'133947, SEMANA 2': {'resource': 2, 'assign': 1}, 'curso': 12953}\n",
      "{'133948, SEMANA 3': {'resource': 1, 'assign': 1}, 'curso': 12953}\n",
      "{'133949, SEMANA 4': {'resource': 1, 'assign': 1}, 'curso': 12953}\n",
      "{'142210, SEMANA 5': {'resource': 1}, 'curso': 12953}\n",
      "{'142211, SEMANA 6': {'resource': 1}, 'curso': 12953}\n",
      "{'142212, SEMANA 7': {'resource': 1, 'assign': 1}, 'curso': 12953}\n",
      "{'142213, SEMANA 8': {'assign': 1}, 'curso': 12953}\n",
      "{'142214, SEMANA 9': {'resource': 1}, 'curso': 12953}\n"
     ]
    }
   ],
   "source": [
    "\n",
    "for todo in todos[1]:\n",
    "    todo.update({'curso': todos[0]})\n",
    "    print(todo)"
   ],
   "metadata": {
    "collapsed": false,
    "ExecuteTime": {
     "end_time": "2023-09-05T17:41:54.693954400Z",
     "start_time": "2023-09-05T17:41:54.674293400Z"
    }
   },
   "id": "7c7d99214f1db89b"
  },
  {
   "cell_type": "code",
   "execution_count": 19,
   "outputs": [
    {
     "data": {
      "text/plain": "[{'133374, General': {'forum': 1, 'resource': 1}, 'curso': 12953},\n {'133946, SEMANA 1': {'resource': 1, 'assign': 1}, 'curso': 12953},\n {'133947, SEMANA 2': {'resource': 2, 'assign': 1}, 'curso': 12953},\n {'133948, SEMANA 3': {'resource': 1, 'assign': 1}, 'curso': 12953},\n {'133949, SEMANA 4': {'resource': 1, 'assign': 1}, 'curso': 12953},\n {'142210, SEMANA 5': {'resource': 1}, 'curso': 12953},\n {'142211, SEMANA 6': {'resource': 1}, 'curso': 12953},\n {'142212, SEMANA 7': {'resource': 1, 'assign': 1}, 'curso': 12953},\n {'142213, SEMANA 8': {'assign': 1}, 'curso': 12953},\n {'142214, SEMANA 9': {'resource': 1}, 'curso': 12953}]"
     },
     "execution_count": 19,
     "metadata": {},
     "output_type": "execute_result"
    }
   ],
   "source": [
    "gen = [todo | {'curso': todos[0]} for todo in todos[1]]\n",
    "gen"
   ],
   "metadata": {
    "collapsed": false,
    "ExecuteTime": {
     "end_time": "2023-09-05T17:44:23.886150200Z",
     "start_time": "2023-09-05T17:44:23.847653100Z"
    }
   },
   "id": "f0974e0b3a47d1a3"
  },
  {
   "cell_type": "code",
   "execution_count": 25,
   "outputs": [],
   "source": [
    "varios = [[12096, [{'133177, General': {'forum': 1, 'resource': 3}}, {'134200, SEMANA 1': {'resource': 3, 'assign': 2}}, {'134201, SEMANA 2': {'resource': 1, 'assign': 1}}, {'134202, SEMANA 3': {'resource': 2}}, {'134203, SEMANA 4': {'resource': 1}}, {'134204, SEMANA 5': {'assign': 1}}, {'134205, SEMANA 6': {'resource': 2}}, {'134206, SEMANA 7': {'resource': 1}}, {'134207, SEMANA 8': {'assign': 1}}, {'134208, SEMANA 9': {'resource': 1}}]], [12953, [{'133374, General': {'forum': 1, 'resource': 1}}, {'133946, SEMANA 1': {'resource': 1, 'assign': 1}}, {'133947, SEMANA 2': {'resource': 2, 'assign': 1}}, {'133948, SEMANA 3': {'resource': 1, 'assign': 1}}, {'133949, SEMANA 4': {'resource': 1, 'assign': 1}}, {'142210, SEMANA 5': {'resource': 1}}, {'142211, SEMANA 6': {'resource': 1}}, {'142212, SEMANA 7': {'resource': 1, 'assign': 1}}, {'142213, SEMANA 8': {'assign': 1}}, {'142214, SEMANA 9': {'resource': 1}}]]]\n"
   ],
   "metadata": {
    "collapsed": false,
    "ExecuteTime": {
     "end_time": "2023-09-05T17:49:41.861941800Z",
     "start_time": "2023-09-05T17:49:41.850349900Z"
    }
   },
   "id": "3e526c3da4b8987a"
  },
  {
   "cell_type": "code",
   "execution_count": 26,
   "outputs": [
    {
     "name": "stdout",
     "output_type": "stream",
     "text": [
      "[12096, [{'133177, General': {'forum': 1, 'resource': 3}}, {'134200, SEMANA 1': {'resource': 3, 'assign': 2}}, {'134201, SEMANA 2': {'resource': 1, 'assign': 1}}, {'134202, SEMANA 3': {'resource': 2}}, {'134203, SEMANA 4': {'resource': 1}}, {'134204, SEMANA 5': {'assign': 1}}, {'134205, SEMANA 6': {'resource': 2}}, {'134206, SEMANA 7': {'resource': 1}}, {'134207, SEMANA 8': {'assign': 1}}, {'134208, SEMANA 9': {'resource': 1}}]]\n",
      "[12953, [{'133374, General': {'forum': 1, 'resource': 1}}, {'133946, SEMANA 1': {'resource': 1, 'assign': 1}}, {'133947, SEMANA 2': {'resource': 2, 'assign': 1}}, {'133948, SEMANA 3': {'resource': 1, 'assign': 1}}, {'133949, SEMANA 4': {'resource': 1, 'assign': 1}}, {'142210, SEMANA 5': {'resource': 1}}, {'142211, SEMANA 6': {'resource': 1}}, {'142212, SEMANA 7': {'resource': 1, 'assign': 1}}, {'142213, SEMANA 8': {'assign': 1}}, {'142214, SEMANA 9': {'resource': 1}}]]\n"
     ]
    }
   ],
   "source": [
    "for var in varios:\n",
    "    print(var)"
   ],
   "metadata": {
    "collapsed": false,
    "ExecuteTime": {
     "end_time": "2023-09-05T17:49:42.211959100Z",
     "start_time": "2023-09-05T17:49:42.205335500Z"
    }
   },
   "id": "42c8f91caeec54ab"
  },
  {
   "cell_type": "code",
   "execution_count": 27,
   "outputs": [
    {
     "name": "stdout",
     "output_type": "stream",
     "text": [
      "{'133177, General': {'forum': 1, 'resource': 3}, 'curso': 12096}\n",
      "{'134200, SEMANA 1': {'resource': 3, 'assign': 2}, 'curso': 12096}\n",
      "{'134201, SEMANA 2': {'resource': 1, 'assign': 1}, 'curso': 12096}\n",
      "{'134202, SEMANA 3': {'resource': 2}, 'curso': 12096}\n",
      "{'134203, SEMANA 4': {'resource': 1}, 'curso': 12096}\n",
      "{'134204, SEMANA 5': {'assign': 1}, 'curso': 12096}\n",
      "{'134205, SEMANA 6': {'resource': 2}, 'curso': 12096}\n",
      "{'134206, SEMANA 7': {'resource': 1}, 'curso': 12096}\n",
      "{'134207, SEMANA 8': {'assign': 1}, 'curso': 12096}\n",
      "{'134208, SEMANA 9': {'resource': 1}, 'curso': 12096}\n",
      "{'133374, General': {'forum': 1, 'resource': 1}, 'curso': 12953}\n",
      "{'133946, SEMANA 1': {'resource': 1, 'assign': 1}, 'curso': 12953}\n",
      "{'133947, SEMANA 2': {'resource': 2, 'assign': 1}, 'curso': 12953}\n",
      "{'133948, SEMANA 3': {'resource': 1, 'assign': 1}, 'curso': 12953}\n",
      "{'133949, SEMANA 4': {'resource': 1, 'assign': 1}, 'curso': 12953}\n",
      "{'142210, SEMANA 5': {'resource': 1}, 'curso': 12953}\n",
      "{'142211, SEMANA 6': {'resource': 1}, 'curso': 12953}\n",
      "{'142212, SEMANA 7': {'resource': 1, 'assign': 1}, 'curso': 12953}\n",
      "{'142213, SEMANA 8': {'assign': 1}, 'curso': 12953}\n",
      "{'142214, SEMANA 9': {'resource': 1}, 'curso': 12953}\n"
     ]
    }
   ],
   "source": [
    "for var in varios:\n",
    "    for todo in var[1]:\n",
    "        todo.update({'curso': var[0]})\n",
    "        print(todo)"
   ],
   "metadata": {
    "collapsed": false,
    "ExecuteTime": {
     "end_time": "2023-09-05T17:49:42.683864800Z",
     "start_time": "2023-09-05T17:49:42.669977800Z"
    }
   },
   "id": "7d8020a871eebf03"
  },
  {
   "cell_type": "code",
   "execution_count": 28,
   "outputs": [
    {
     "data": {
      "text/plain": "[{'curso': 12096, '133177, General': {'forum': 1, 'resource': 3}},\n {'curso': 12096, '134200, SEMANA 1': {'resource': 3, 'assign': 2}},\n {'curso': 12096, '134201, SEMANA 2': {'resource': 1, 'assign': 1}},\n {'curso': 12096, '134202, SEMANA 3': {'resource': 2}},\n {'curso': 12096, '134203, SEMANA 4': {'resource': 1}},\n {'curso': 12096, '134204, SEMANA 5': {'assign': 1}},\n {'curso': 12096, '134205, SEMANA 6': {'resource': 2}},\n {'curso': 12096, '134206, SEMANA 7': {'resource': 1}},\n {'curso': 12096, '134207, SEMANA 8': {'assign': 1}},\n {'curso': 12096, '134208, SEMANA 9': {'resource': 1}},\n {'curso': 12953, '133374, General': {'forum': 1, 'resource': 1}},\n {'curso': 12953, '133946, SEMANA 1': {'resource': 1, 'assign': 1}},\n {'curso': 12953, '133947, SEMANA 2': {'resource': 2, 'assign': 1}},\n {'curso': 12953, '133948, SEMANA 3': {'resource': 1, 'assign': 1}},\n {'curso': 12953, '133949, SEMANA 4': {'resource': 1, 'assign': 1}},\n {'curso': 12953, '142210, SEMANA 5': {'resource': 1}},\n {'curso': 12953, '142211, SEMANA 6': {'resource': 1}},\n {'curso': 12953, '142212, SEMANA 7': {'resource': 1, 'assign': 1}},\n {'curso': 12953, '142213, SEMANA 8': {'assign': 1}},\n {'curso': 12953, '142214, SEMANA 9': {'resource': 1}}]"
     },
     "execution_count": 28,
     "metadata": {},
     "output_type": "execute_result"
    }
   ],
   "source": [
    "gen = [{'curso': var[0]} | todo for var in varios for todo in var[1]]\n",
    "gen"
   ],
   "metadata": {
    "collapsed": false,
    "ExecuteTime": {
     "end_time": "2023-09-05T17:49:43.542964100Z",
     "start_time": "2023-09-05T17:49:43.506458900Z"
    }
   },
   "id": "2a702afc13d1ecb4"
  },
  {
   "cell_type": "code",
   "execution_count": 29,
   "outputs": [
    {
     "data": {
      "text/plain": "    curso              133177, General              134200, SEMANA 1  \\\n0   12096  {'forum': 1, 'resource': 3}                           NaN   \n1   12096                          NaN  {'resource': 3, 'assign': 2}   \n2   12096                          NaN                           NaN   \n3   12096                          NaN                           NaN   \n4   12096                          NaN                           NaN   \n5   12096                          NaN                           NaN   \n6   12096                          NaN                           NaN   \n7   12096                          NaN                           NaN   \n8   12096                          NaN                           NaN   \n9   12096                          NaN                           NaN   \n10  12953                          NaN                           NaN   \n11  12953                          NaN                           NaN   \n12  12953                          NaN                           NaN   \n13  12953                          NaN                           NaN   \n14  12953                          NaN                           NaN   \n15  12953                          NaN                           NaN   \n16  12953                          NaN                           NaN   \n17  12953                          NaN                           NaN   \n18  12953                          NaN                           NaN   \n19  12953                          NaN                           NaN   \n\n                134201, SEMANA 2 134202, SEMANA 3 134203, SEMANA 4  \\\n0                            NaN              NaN              NaN   \n1                            NaN              NaN              NaN   \n2   {'resource': 1, 'assign': 1}              NaN              NaN   \n3                            NaN  {'resource': 2}              NaN   \n4                            NaN              NaN  {'resource': 1}   \n5                            NaN              NaN              NaN   \n6                            NaN              NaN              NaN   \n7                            NaN              NaN              NaN   \n8                            NaN              NaN              NaN   \n9                            NaN              NaN              NaN   \n10                           NaN              NaN              NaN   \n11                           NaN              NaN              NaN   \n12                           NaN              NaN              NaN   \n13                           NaN              NaN              NaN   \n14                           NaN              NaN              NaN   \n15                           NaN              NaN              NaN   \n16                           NaN              NaN              NaN   \n17                           NaN              NaN              NaN   \n18                           NaN              NaN              NaN   \n19                           NaN              NaN              NaN   \n\n   134204, SEMANA 5 134205, SEMANA 6 134206, SEMANA 7 134207, SEMANA 8  ...  \\\n0               NaN              NaN              NaN              NaN  ...   \n1               NaN              NaN              NaN              NaN  ...   \n2               NaN              NaN              NaN              NaN  ...   \n3               NaN              NaN              NaN              NaN  ...   \n4               NaN              NaN              NaN              NaN  ...   \n5     {'assign': 1}              NaN              NaN              NaN  ...   \n6               NaN  {'resource': 2}              NaN              NaN  ...   \n7               NaN              NaN  {'resource': 1}              NaN  ...   \n8               NaN              NaN              NaN    {'assign': 1}  ...   \n9               NaN              NaN              NaN              NaN  ...   \n10              NaN              NaN              NaN              NaN  ...   \n11              NaN              NaN              NaN              NaN  ...   \n12              NaN              NaN              NaN              NaN  ...   \n13              NaN              NaN              NaN              NaN  ...   \n14              NaN              NaN              NaN              NaN  ...   \n15              NaN              NaN              NaN              NaN  ...   \n16              NaN              NaN              NaN              NaN  ...   \n17              NaN              NaN              NaN              NaN  ...   \n18              NaN              NaN              NaN              NaN  ...   \n19              NaN              NaN              NaN              NaN  ...   \n\n                133374, General              133946, SEMANA 1  \\\n0                           NaN                           NaN   \n1                           NaN                           NaN   \n2                           NaN                           NaN   \n3                           NaN                           NaN   \n4                           NaN                           NaN   \n5                           NaN                           NaN   \n6                           NaN                           NaN   \n7                           NaN                           NaN   \n8                           NaN                           NaN   \n9                           NaN                           NaN   \n10  {'forum': 1, 'resource': 1}                           NaN   \n11                          NaN  {'resource': 1, 'assign': 1}   \n12                          NaN                           NaN   \n13                          NaN                           NaN   \n14                          NaN                           NaN   \n15                          NaN                           NaN   \n16                          NaN                           NaN   \n17                          NaN                           NaN   \n18                          NaN                           NaN   \n19                          NaN                           NaN   \n\n                133947, SEMANA 2              133948, SEMANA 3  \\\n0                            NaN                           NaN   \n1                            NaN                           NaN   \n2                            NaN                           NaN   \n3                            NaN                           NaN   \n4                            NaN                           NaN   \n5                            NaN                           NaN   \n6                            NaN                           NaN   \n7                            NaN                           NaN   \n8                            NaN                           NaN   \n9                            NaN                           NaN   \n10                           NaN                           NaN   \n11                           NaN                           NaN   \n12  {'resource': 2, 'assign': 1}                           NaN   \n13                           NaN  {'resource': 1, 'assign': 1}   \n14                           NaN                           NaN   \n15                           NaN                           NaN   \n16                           NaN                           NaN   \n17                           NaN                           NaN   \n18                           NaN                           NaN   \n19                           NaN                           NaN   \n\n                133949, SEMANA 4 142210, SEMANA 5 142211, SEMANA 6  \\\n0                            NaN              NaN              NaN   \n1                            NaN              NaN              NaN   \n2                            NaN              NaN              NaN   \n3                            NaN              NaN              NaN   \n4                            NaN              NaN              NaN   \n5                            NaN              NaN              NaN   \n6                            NaN              NaN              NaN   \n7                            NaN              NaN              NaN   \n8                            NaN              NaN              NaN   \n9                            NaN              NaN              NaN   \n10                           NaN              NaN              NaN   \n11                           NaN              NaN              NaN   \n12                           NaN              NaN              NaN   \n13                           NaN              NaN              NaN   \n14  {'resource': 1, 'assign': 1}              NaN              NaN   \n15                           NaN  {'resource': 1}              NaN   \n16                           NaN              NaN  {'resource': 1}   \n17                           NaN              NaN              NaN   \n18                           NaN              NaN              NaN   \n19                           NaN              NaN              NaN   \n\n                142212, SEMANA 7 142213, SEMANA 8 142214, SEMANA 9  \n0                            NaN              NaN              NaN  \n1                            NaN              NaN              NaN  \n2                            NaN              NaN              NaN  \n3                            NaN              NaN              NaN  \n4                            NaN              NaN              NaN  \n5                            NaN              NaN              NaN  \n6                            NaN              NaN              NaN  \n7                            NaN              NaN              NaN  \n8                            NaN              NaN              NaN  \n9                            NaN              NaN              NaN  \n10                           NaN              NaN              NaN  \n11                           NaN              NaN              NaN  \n12                           NaN              NaN              NaN  \n13                           NaN              NaN              NaN  \n14                           NaN              NaN              NaN  \n15                           NaN              NaN              NaN  \n16                           NaN              NaN              NaN  \n17  {'resource': 1, 'assign': 1}              NaN              NaN  \n18                           NaN    {'assign': 1}              NaN  \n19                           NaN              NaN  {'resource': 1}  \n\n[20 rows x 21 columns]",
      "text/html": "<div>\n<style scoped>\n    .dataframe tbody tr th:only-of-type {\n        vertical-align: middle;\n    }\n\n    .dataframe tbody tr th {\n        vertical-align: top;\n    }\n\n    .dataframe thead th {\n        text-align: right;\n    }\n</style>\n<table border=\"1\" class=\"dataframe\">\n  <thead>\n    <tr style=\"text-align: right;\">\n      <th></th>\n      <th>curso</th>\n      <th>133177, General</th>\n      <th>134200, SEMANA 1</th>\n      <th>134201, SEMANA 2</th>\n      <th>134202, SEMANA 3</th>\n      <th>134203, SEMANA 4</th>\n      <th>134204, SEMANA 5</th>\n      <th>134205, SEMANA 6</th>\n      <th>134206, SEMANA 7</th>\n      <th>134207, SEMANA 8</th>\n      <th>...</th>\n      <th>133374, General</th>\n      <th>133946, SEMANA 1</th>\n      <th>133947, SEMANA 2</th>\n      <th>133948, SEMANA 3</th>\n      <th>133949, SEMANA 4</th>\n      <th>142210, SEMANA 5</th>\n      <th>142211, SEMANA 6</th>\n      <th>142212, SEMANA 7</th>\n      <th>142213, SEMANA 8</th>\n      <th>142214, SEMANA 9</th>\n    </tr>\n  </thead>\n  <tbody>\n    <tr>\n      <th>0</th>\n      <td>12096</td>\n      <td>{'forum': 1, 'resource': 3}</td>\n      <td>NaN</td>\n      <td>NaN</td>\n      <td>NaN</td>\n      <td>NaN</td>\n      <td>NaN</td>\n      <td>NaN</td>\n      <td>NaN</td>\n      <td>NaN</td>\n      <td>...</td>\n      <td>NaN</td>\n      <td>NaN</td>\n      <td>NaN</td>\n      <td>NaN</td>\n      <td>NaN</td>\n      <td>NaN</td>\n      <td>NaN</td>\n      <td>NaN</td>\n      <td>NaN</td>\n      <td>NaN</td>\n    </tr>\n    <tr>\n      <th>1</th>\n      <td>12096</td>\n      <td>NaN</td>\n      <td>{'resource': 3, 'assign': 2}</td>\n      <td>NaN</td>\n      <td>NaN</td>\n      <td>NaN</td>\n      <td>NaN</td>\n      <td>NaN</td>\n      <td>NaN</td>\n      <td>NaN</td>\n      <td>...</td>\n      <td>NaN</td>\n      <td>NaN</td>\n      <td>NaN</td>\n      <td>NaN</td>\n      <td>NaN</td>\n      <td>NaN</td>\n      <td>NaN</td>\n      <td>NaN</td>\n      <td>NaN</td>\n      <td>NaN</td>\n    </tr>\n    <tr>\n      <th>2</th>\n      <td>12096</td>\n      <td>NaN</td>\n      <td>NaN</td>\n      <td>{'resource': 1, 'assign': 1}</td>\n      <td>NaN</td>\n      <td>NaN</td>\n      <td>NaN</td>\n      <td>NaN</td>\n      <td>NaN</td>\n      <td>NaN</td>\n      <td>...</td>\n      <td>NaN</td>\n      <td>NaN</td>\n      <td>NaN</td>\n      <td>NaN</td>\n      <td>NaN</td>\n      <td>NaN</td>\n      <td>NaN</td>\n      <td>NaN</td>\n      <td>NaN</td>\n      <td>NaN</td>\n    </tr>\n    <tr>\n      <th>3</th>\n      <td>12096</td>\n      <td>NaN</td>\n      <td>NaN</td>\n      <td>NaN</td>\n      <td>{'resource': 2}</td>\n      <td>NaN</td>\n      <td>NaN</td>\n      <td>NaN</td>\n      <td>NaN</td>\n      <td>NaN</td>\n      <td>...</td>\n      <td>NaN</td>\n      <td>NaN</td>\n      <td>NaN</td>\n      <td>NaN</td>\n      <td>NaN</td>\n      <td>NaN</td>\n      <td>NaN</td>\n      <td>NaN</td>\n      <td>NaN</td>\n      <td>NaN</td>\n    </tr>\n    <tr>\n      <th>4</th>\n      <td>12096</td>\n      <td>NaN</td>\n      <td>NaN</td>\n      <td>NaN</td>\n      <td>NaN</td>\n      <td>{'resource': 1}</td>\n      <td>NaN</td>\n      <td>NaN</td>\n      <td>NaN</td>\n      <td>NaN</td>\n      <td>...</td>\n      <td>NaN</td>\n      <td>NaN</td>\n      <td>NaN</td>\n      <td>NaN</td>\n      <td>NaN</td>\n      <td>NaN</td>\n      <td>NaN</td>\n      <td>NaN</td>\n      <td>NaN</td>\n      <td>NaN</td>\n    </tr>\n    <tr>\n      <th>5</th>\n      <td>12096</td>\n      <td>NaN</td>\n      <td>NaN</td>\n      <td>NaN</td>\n      <td>NaN</td>\n      <td>NaN</td>\n      <td>{'assign': 1}</td>\n      <td>NaN</td>\n      <td>NaN</td>\n      <td>NaN</td>\n      <td>...</td>\n      <td>NaN</td>\n      <td>NaN</td>\n      <td>NaN</td>\n      <td>NaN</td>\n      <td>NaN</td>\n      <td>NaN</td>\n      <td>NaN</td>\n      <td>NaN</td>\n      <td>NaN</td>\n      <td>NaN</td>\n    </tr>\n    <tr>\n      <th>6</th>\n      <td>12096</td>\n      <td>NaN</td>\n      <td>NaN</td>\n      <td>NaN</td>\n      <td>NaN</td>\n      <td>NaN</td>\n      <td>NaN</td>\n      <td>{'resource': 2}</td>\n      <td>NaN</td>\n      <td>NaN</td>\n      <td>...</td>\n      <td>NaN</td>\n      <td>NaN</td>\n      <td>NaN</td>\n      <td>NaN</td>\n      <td>NaN</td>\n      <td>NaN</td>\n      <td>NaN</td>\n      <td>NaN</td>\n      <td>NaN</td>\n      <td>NaN</td>\n    </tr>\n    <tr>\n      <th>7</th>\n      <td>12096</td>\n      <td>NaN</td>\n      <td>NaN</td>\n      <td>NaN</td>\n      <td>NaN</td>\n      <td>NaN</td>\n      <td>NaN</td>\n      <td>NaN</td>\n      <td>{'resource': 1}</td>\n      <td>NaN</td>\n      <td>...</td>\n      <td>NaN</td>\n      <td>NaN</td>\n      <td>NaN</td>\n      <td>NaN</td>\n      <td>NaN</td>\n      <td>NaN</td>\n      <td>NaN</td>\n      <td>NaN</td>\n      <td>NaN</td>\n      <td>NaN</td>\n    </tr>\n    <tr>\n      <th>8</th>\n      <td>12096</td>\n      <td>NaN</td>\n      <td>NaN</td>\n      <td>NaN</td>\n      <td>NaN</td>\n      <td>NaN</td>\n      <td>NaN</td>\n      <td>NaN</td>\n      <td>NaN</td>\n      <td>{'assign': 1}</td>\n      <td>...</td>\n      <td>NaN</td>\n      <td>NaN</td>\n      <td>NaN</td>\n      <td>NaN</td>\n      <td>NaN</td>\n      <td>NaN</td>\n      <td>NaN</td>\n      <td>NaN</td>\n      <td>NaN</td>\n      <td>NaN</td>\n    </tr>\n    <tr>\n      <th>9</th>\n      <td>12096</td>\n      <td>NaN</td>\n      <td>NaN</td>\n      <td>NaN</td>\n      <td>NaN</td>\n      <td>NaN</td>\n      <td>NaN</td>\n      <td>NaN</td>\n      <td>NaN</td>\n      <td>NaN</td>\n      <td>...</td>\n      <td>NaN</td>\n      <td>NaN</td>\n      <td>NaN</td>\n      <td>NaN</td>\n      <td>NaN</td>\n      <td>NaN</td>\n      <td>NaN</td>\n      <td>NaN</td>\n      <td>NaN</td>\n      <td>NaN</td>\n    </tr>\n    <tr>\n      <th>10</th>\n      <td>12953</td>\n      <td>NaN</td>\n      <td>NaN</td>\n      <td>NaN</td>\n      <td>NaN</td>\n      <td>NaN</td>\n      <td>NaN</td>\n      <td>NaN</td>\n      <td>NaN</td>\n      <td>NaN</td>\n      <td>...</td>\n      <td>{'forum': 1, 'resource': 1}</td>\n      <td>NaN</td>\n      <td>NaN</td>\n      <td>NaN</td>\n      <td>NaN</td>\n      <td>NaN</td>\n      <td>NaN</td>\n      <td>NaN</td>\n      <td>NaN</td>\n      <td>NaN</td>\n    </tr>\n    <tr>\n      <th>11</th>\n      <td>12953</td>\n      <td>NaN</td>\n      <td>NaN</td>\n      <td>NaN</td>\n      <td>NaN</td>\n      <td>NaN</td>\n      <td>NaN</td>\n      <td>NaN</td>\n      <td>NaN</td>\n      <td>NaN</td>\n      <td>...</td>\n      <td>NaN</td>\n      <td>{'resource': 1, 'assign': 1}</td>\n      <td>NaN</td>\n      <td>NaN</td>\n      <td>NaN</td>\n      <td>NaN</td>\n      <td>NaN</td>\n      <td>NaN</td>\n      <td>NaN</td>\n      <td>NaN</td>\n    </tr>\n    <tr>\n      <th>12</th>\n      <td>12953</td>\n      <td>NaN</td>\n      <td>NaN</td>\n      <td>NaN</td>\n      <td>NaN</td>\n      <td>NaN</td>\n      <td>NaN</td>\n      <td>NaN</td>\n      <td>NaN</td>\n      <td>NaN</td>\n      <td>...</td>\n      <td>NaN</td>\n      <td>NaN</td>\n      <td>{'resource': 2, 'assign': 1}</td>\n      <td>NaN</td>\n      <td>NaN</td>\n      <td>NaN</td>\n      <td>NaN</td>\n      <td>NaN</td>\n      <td>NaN</td>\n      <td>NaN</td>\n    </tr>\n    <tr>\n      <th>13</th>\n      <td>12953</td>\n      <td>NaN</td>\n      <td>NaN</td>\n      <td>NaN</td>\n      <td>NaN</td>\n      <td>NaN</td>\n      <td>NaN</td>\n      <td>NaN</td>\n      <td>NaN</td>\n      <td>NaN</td>\n      <td>...</td>\n      <td>NaN</td>\n      <td>NaN</td>\n      <td>NaN</td>\n      <td>{'resource': 1, 'assign': 1}</td>\n      <td>NaN</td>\n      <td>NaN</td>\n      <td>NaN</td>\n      <td>NaN</td>\n      <td>NaN</td>\n      <td>NaN</td>\n    </tr>\n    <tr>\n      <th>14</th>\n      <td>12953</td>\n      <td>NaN</td>\n      <td>NaN</td>\n      <td>NaN</td>\n      <td>NaN</td>\n      <td>NaN</td>\n      <td>NaN</td>\n      <td>NaN</td>\n      <td>NaN</td>\n      <td>NaN</td>\n      <td>...</td>\n      <td>NaN</td>\n      <td>NaN</td>\n      <td>NaN</td>\n      <td>NaN</td>\n      <td>{'resource': 1, 'assign': 1}</td>\n      <td>NaN</td>\n      <td>NaN</td>\n      <td>NaN</td>\n      <td>NaN</td>\n      <td>NaN</td>\n    </tr>\n    <tr>\n      <th>15</th>\n      <td>12953</td>\n      <td>NaN</td>\n      <td>NaN</td>\n      <td>NaN</td>\n      <td>NaN</td>\n      <td>NaN</td>\n      <td>NaN</td>\n      <td>NaN</td>\n      <td>NaN</td>\n      <td>NaN</td>\n      <td>...</td>\n      <td>NaN</td>\n      <td>NaN</td>\n      <td>NaN</td>\n      <td>NaN</td>\n      <td>NaN</td>\n      <td>{'resource': 1}</td>\n      <td>NaN</td>\n      <td>NaN</td>\n      <td>NaN</td>\n      <td>NaN</td>\n    </tr>\n    <tr>\n      <th>16</th>\n      <td>12953</td>\n      <td>NaN</td>\n      <td>NaN</td>\n      <td>NaN</td>\n      <td>NaN</td>\n      <td>NaN</td>\n      <td>NaN</td>\n      <td>NaN</td>\n      <td>NaN</td>\n      <td>NaN</td>\n      <td>...</td>\n      <td>NaN</td>\n      <td>NaN</td>\n      <td>NaN</td>\n      <td>NaN</td>\n      <td>NaN</td>\n      <td>NaN</td>\n      <td>{'resource': 1}</td>\n      <td>NaN</td>\n      <td>NaN</td>\n      <td>NaN</td>\n    </tr>\n    <tr>\n      <th>17</th>\n      <td>12953</td>\n      <td>NaN</td>\n      <td>NaN</td>\n      <td>NaN</td>\n      <td>NaN</td>\n      <td>NaN</td>\n      <td>NaN</td>\n      <td>NaN</td>\n      <td>NaN</td>\n      <td>NaN</td>\n      <td>...</td>\n      <td>NaN</td>\n      <td>NaN</td>\n      <td>NaN</td>\n      <td>NaN</td>\n      <td>NaN</td>\n      <td>NaN</td>\n      <td>NaN</td>\n      <td>{'resource': 1, 'assign': 1}</td>\n      <td>NaN</td>\n      <td>NaN</td>\n    </tr>\n    <tr>\n      <th>18</th>\n      <td>12953</td>\n      <td>NaN</td>\n      <td>NaN</td>\n      <td>NaN</td>\n      <td>NaN</td>\n      <td>NaN</td>\n      <td>NaN</td>\n      <td>NaN</td>\n      <td>NaN</td>\n      <td>NaN</td>\n      <td>...</td>\n      <td>NaN</td>\n      <td>NaN</td>\n      <td>NaN</td>\n      <td>NaN</td>\n      <td>NaN</td>\n      <td>NaN</td>\n      <td>NaN</td>\n      <td>NaN</td>\n      <td>{'assign': 1}</td>\n      <td>NaN</td>\n    </tr>\n    <tr>\n      <th>19</th>\n      <td>12953</td>\n      <td>NaN</td>\n      <td>NaN</td>\n      <td>NaN</td>\n      <td>NaN</td>\n      <td>NaN</td>\n      <td>NaN</td>\n      <td>NaN</td>\n      <td>NaN</td>\n      <td>NaN</td>\n      <td>...</td>\n      <td>NaN</td>\n      <td>NaN</td>\n      <td>NaN</td>\n      <td>NaN</td>\n      <td>NaN</td>\n      <td>NaN</td>\n      <td>NaN</td>\n      <td>NaN</td>\n      <td>NaN</td>\n      <td>{'resource': 1}</td>\n    </tr>\n  </tbody>\n</table>\n<p>20 rows × 21 columns</p>\n</div>"
     },
     "execution_count": 29,
     "metadata": {},
     "output_type": "execute_result"
    }
   ],
   "source": [
    "df = pd.DataFrame(gen)\n",
    "df"
   ],
   "metadata": {
    "collapsed": false,
    "ExecuteTime": {
     "end_time": "2023-09-05T17:49:45.471431800Z",
     "start_time": "2023-09-05T17:49:45.434327600Z"
    }
   },
   "id": "de8b8c58908dc3ee"
  },
  {
   "cell_type": "code",
   "execution_count": 44,
   "outputs": [
    {
     "data": {
      "text/plain": "   curso         semana                                  cantidad\n0     10  nombre semana              {'resource': 1, 'assign': 1}\n1     10  nombre semana              {'resource': 1, 'assign': 2}\n2     10  nombre semana              {'resource': 1, 'assign': 1}\n3     10  nombre semana              {'resource': 1, 'assign': 3}\n4     10  nombre semana  {'resource': 1, 'assign': 1, 'forum': 1}\n5     10  nombre semana              {'resource': 1, 'assign': 4}\n6     10  nombre semana              {'resource': 1, 'assign': 1}\n7     10  nombre semana              {'resource': 1, 'assign': 5}\n8     10  nombre semana              {'resource': 1, 'assign': 1}",
      "text/html": "<div>\n<style scoped>\n    .dataframe tbody tr th:only-of-type {\n        vertical-align: middle;\n    }\n\n    .dataframe tbody tr th {\n        vertical-align: top;\n    }\n\n    .dataframe thead th {\n        text-align: right;\n    }\n</style>\n<table border=\"1\" class=\"dataframe\">\n  <thead>\n    <tr style=\"text-align: right;\">\n      <th></th>\n      <th>curso</th>\n      <th>semana</th>\n      <th>cantidad</th>\n    </tr>\n  </thead>\n  <tbody>\n    <tr>\n      <th>0</th>\n      <td>10</td>\n      <td>nombre semana</td>\n      <td>{'resource': 1, 'assign': 1}</td>\n    </tr>\n    <tr>\n      <th>1</th>\n      <td>10</td>\n      <td>nombre semana</td>\n      <td>{'resource': 1, 'assign': 2}</td>\n    </tr>\n    <tr>\n      <th>2</th>\n      <td>10</td>\n      <td>nombre semana</td>\n      <td>{'resource': 1, 'assign': 1}</td>\n    </tr>\n    <tr>\n      <th>3</th>\n      <td>10</td>\n      <td>nombre semana</td>\n      <td>{'resource': 1, 'assign': 3}</td>\n    </tr>\n    <tr>\n      <th>4</th>\n      <td>10</td>\n      <td>nombre semana</td>\n      <td>{'resource': 1, 'assign': 1, 'forum': 1}</td>\n    </tr>\n    <tr>\n      <th>5</th>\n      <td>10</td>\n      <td>nombre semana</td>\n      <td>{'resource': 1, 'assign': 4}</td>\n    </tr>\n    <tr>\n      <th>6</th>\n      <td>10</td>\n      <td>nombre semana</td>\n      <td>{'resource': 1, 'assign': 1}</td>\n    </tr>\n    <tr>\n      <th>7</th>\n      <td>10</td>\n      <td>nombre semana</td>\n      <td>{'resource': 1, 'assign': 5}</td>\n    </tr>\n    <tr>\n      <th>8</th>\n      <td>10</td>\n      <td>nombre semana</td>\n      <td>{'resource': 1, 'assign': 1}</td>\n    </tr>\n  </tbody>\n</table>\n</div>"
     },
     "execution_count": 44,
     "metadata": {},
     "output_type": "execute_result"
    }
   ],
   "source": [
    "data = [\n",
    "    {'curso': 10, 'semana': 'nombre semana', 'cantidad': {'resource': 1, 'assign': 1}},\n",
    "    {'curso': 10, 'semana': 'nombre semana', 'cantidad': {'resource': 1, 'assign': 2}},\n",
    "    {'curso': 10, 'semana': 'nombre semana', 'cantidad': {'resource': 1, 'assign': 1}},\n",
    "    {'curso': 10, 'semana': 'nombre semana', 'cantidad': {'resource': 1, 'assign': 3}},\n",
    "    {'curso': 10, 'semana': 'nombre semana', 'cantidad': {'resource': 1, 'assign': 1, 'forum': 1}},\n",
    "    {'curso': 10, 'semana': 'nombre semana', 'cantidad': {'resource': 1, 'assign': 4}},\n",
    "    {'curso': 10, 'semana': 'nombre semana', 'cantidad': {'resource': 1, 'assign': 1}},\n",
    "    {'curso': 10, 'semana': 'nombre semana', 'cantidad': {'resource': 1, 'assign': 5}},\n",
    "    {'curso': 10, 'semana': 'nombre semana', 'cantidad': {'resource': 1, 'assign': 1}}\n",
    "]\n",
    "\n",
    "df = pd.DataFrame(data)\n",
    "df"
   ],
   "metadata": {
    "collapsed": false,
    "ExecuteTime": {
     "end_time": "2023-09-05T18:00:51.592951200Z",
     "start_time": "2023-09-05T18:00:51.547932200Z"
    }
   },
   "id": "6e484f588d64fa20"
  },
  {
   "cell_type": "code",
   "execution_count": 45,
   "outputs": [
    {
     "data": {
      "text/plain": "   resource  assign  forum\n0       1.0     1.0    NaN\n1       1.0     2.0    NaN\n2       1.0     1.0    NaN\n3       1.0     3.0    NaN\n4       1.0     1.0    1.0\n5       1.0     4.0    NaN\n6       1.0     1.0    NaN\n7       1.0     5.0    NaN\n8       1.0     1.0    NaN",
      "text/html": "<div>\n<style scoped>\n    .dataframe tbody tr th:only-of-type {\n        vertical-align: middle;\n    }\n\n    .dataframe tbody tr th {\n        vertical-align: top;\n    }\n\n    .dataframe thead th {\n        text-align: right;\n    }\n</style>\n<table border=\"1\" class=\"dataframe\">\n  <thead>\n    <tr style=\"text-align: right;\">\n      <th></th>\n      <th>resource</th>\n      <th>assign</th>\n      <th>forum</th>\n    </tr>\n  </thead>\n  <tbody>\n    <tr>\n      <th>0</th>\n      <td>1.0</td>\n      <td>1.0</td>\n      <td>NaN</td>\n    </tr>\n    <tr>\n      <th>1</th>\n      <td>1.0</td>\n      <td>2.0</td>\n      <td>NaN</td>\n    </tr>\n    <tr>\n      <th>2</th>\n      <td>1.0</td>\n      <td>1.0</td>\n      <td>NaN</td>\n    </tr>\n    <tr>\n      <th>3</th>\n      <td>1.0</td>\n      <td>3.0</td>\n      <td>NaN</td>\n    </tr>\n    <tr>\n      <th>4</th>\n      <td>1.0</td>\n      <td>1.0</td>\n      <td>1.0</td>\n    </tr>\n    <tr>\n      <th>5</th>\n      <td>1.0</td>\n      <td>4.0</td>\n      <td>NaN</td>\n    </tr>\n    <tr>\n      <th>6</th>\n      <td>1.0</td>\n      <td>1.0</td>\n      <td>NaN</td>\n    </tr>\n    <tr>\n      <th>7</th>\n      <td>1.0</td>\n      <td>5.0</td>\n      <td>NaN</td>\n    </tr>\n    <tr>\n      <th>8</th>\n      <td>1.0</td>\n      <td>1.0</td>\n      <td>NaN</td>\n    </tr>\n  </tbody>\n</table>\n</div>"
     },
     "execution_count": 45,
     "metadata": {},
     "output_type": "execute_result"
    }
   ],
   "source": [
    "df['cantidad'].apply(pd.Series)\n"
   ],
   "metadata": {
    "collapsed": false,
    "ExecuteTime": {
     "end_time": "2023-09-05T18:00:52.321022700Z",
     "start_time": "2023-09-05T18:00:52.293819900Z"
    }
   },
   "id": "20c5e6d9a111e644"
  },
  {
   "cell_type": "code",
   "execution_count": 46,
   "outputs": [],
   "source": [
    "# df = df['cantidad'].apply(pd.Series).merge(df, left_index=True, right_index=True)\n",
    "df = df.merge(df['cantidad'].apply(pd.Series), left_index=True, right_index=True)"
   ],
   "metadata": {
    "collapsed": false,
    "ExecuteTime": {
     "end_time": "2023-09-05T18:00:53.509546200Z",
     "start_time": "2023-09-05T18:00:53.482538300Z"
    }
   },
   "id": "b5d947467bd021a9"
  },
  {
   "cell_type": "code",
   "execution_count": 47,
   "outputs": [
    {
     "data": {
      "text/plain": "   curso         semana                                  cantidad  resource  \\\n0     10  nombre semana              {'resource': 1, 'assign': 1}       1.0   \n1     10  nombre semana              {'resource': 1, 'assign': 2}       1.0   \n2     10  nombre semana              {'resource': 1, 'assign': 1}       1.0   \n3     10  nombre semana              {'resource': 1, 'assign': 3}       1.0   \n4     10  nombre semana  {'resource': 1, 'assign': 1, 'forum': 1}       1.0   \n5     10  nombre semana              {'resource': 1, 'assign': 4}       1.0   \n6     10  nombre semana              {'resource': 1, 'assign': 1}       1.0   \n7     10  nombre semana              {'resource': 1, 'assign': 5}       1.0   \n8     10  nombre semana              {'resource': 1, 'assign': 1}       1.0   \n\n   assign  forum  \n0     1.0    NaN  \n1     2.0    NaN  \n2     1.0    NaN  \n3     3.0    NaN  \n4     1.0    1.0  \n5     4.0    NaN  \n6     1.0    NaN  \n7     5.0    NaN  \n8     1.0    NaN  ",
      "text/html": "<div>\n<style scoped>\n    .dataframe tbody tr th:only-of-type {\n        vertical-align: middle;\n    }\n\n    .dataframe tbody tr th {\n        vertical-align: top;\n    }\n\n    .dataframe thead th {\n        text-align: right;\n    }\n</style>\n<table border=\"1\" class=\"dataframe\">\n  <thead>\n    <tr style=\"text-align: right;\">\n      <th></th>\n      <th>curso</th>\n      <th>semana</th>\n      <th>cantidad</th>\n      <th>resource</th>\n      <th>assign</th>\n      <th>forum</th>\n    </tr>\n  </thead>\n  <tbody>\n    <tr>\n      <th>0</th>\n      <td>10</td>\n      <td>nombre semana</td>\n      <td>{'resource': 1, 'assign': 1}</td>\n      <td>1.0</td>\n      <td>1.0</td>\n      <td>NaN</td>\n    </tr>\n    <tr>\n      <th>1</th>\n      <td>10</td>\n      <td>nombre semana</td>\n      <td>{'resource': 1, 'assign': 2}</td>\n      <td>1.0</td>\n      <td>2.0</td>\n      <td>NaN</td>\n    </tr>\n    <tr>\n      <th>2</th>\n      <td>10</td>\n      <td>nombre semana</td>\n      <td>{'resource': 1, 'assign': 1}</td>\n      <td>1.0</td>\n      <td>1.0</td>\n      <td>NaN</td>\n    </tr>\n    <tr>\n      <th>3</th>\n      <td>10</td>\n      <td>nombre semana</td>\n      <td>{'resource': 1, 'assign': 3}</td>\n      <td>1.0</td>\n      <td>3.0</td>\n      <td>NaN</td>\n    </tr>\n    <tr>\n      <th>4</th>\n      <td>10</td>\n      <td>nombre semana</td>\n      <td>{'resource': 1, 'assign': 1, 'forum': 1}</td>\n      <td>1.0</td>\n      <td>1.0</td>\n      <td>1.0</td>\n    </tr>\n    <tr>\n      <th>5</th>\n      <td>10</td>\n      <td>nombre semana</td>\n      <td>{'resource': 1, 'assign': 4}</td>\n      <td>1.0</td>\n      <td>4.0</td>\n      <td>NaN</td>\n    </tr>\n    <tr>\n      <th>6</th>\n      <td>10</td>\n      <td>nombre semana</td>\n      <td>{'resource': 1, 'assign': 1}</td>\n      <td>1.0</td>\n      <td>1.0</td>\n      <td>NaN</td>\n    </tr>\n    <tr>\n      <th>7</th>\n      <td>10</td>\n      <td>nombre semana</td>\n      <td>{'resource': 1, 'assign': 5}</td>\n      <td>1.0</td>\n      <td>5.0</td>\n      <td>NaN</td>\n    </tr>\n    <tr>\n      <th>8</th>\n      <td>10</td>\n      <td>nombre semana</td>\n      <td>{'resource': 1, 'assign': 1}</td>\n      <td>1.0</td>\n      <td>1.0</td>\n      <td>NaN</td>\n    </tr>\n  </tbody>\n</table>\n</div>"
     },
     "execution_count": 47,
     "metadata": {},
     "output_type": "execute_result"
    }
   ],
   "source": [
    "df"
   ],
   "metadata": {
    "collapsed": false,
    "ExecuteTime": {
     "end_time": "2023-09-05T18:00:54.532509200Z",
     "start_time": "2023-09-05T18:00:54.511496700Z"
    }
   },
   "id": "4e7d5ed0949ffa15"
  },
  {
   "cell_type": "code",
   "execution_count": 48,
   "outputs": [
    {
     "data": {
      "text/plain": "   curso         semana  resource  assign  forum\n0     10  nombre semana       1.0     1.0    NaN\n1     10  nombre semana       1.0     2.0    NaN\n2     10  nombre semana       1.0     1.0    NaN\n3     10  nombre semana       1.0     3.0    NaN\n4     10  nombre semana       1.0     1.0    1.0\n5     10  nombre semana       1.0     4.0    NaN\n6     10  nombre semana       1.0     1.0    NaN\n7     10  nombre semana       1.0     5.0    NaN\n8     10  nombre semana       1.0     1.0    NaN",
      "text/html": "<div>\n<style scoped>\n    .dataframe tbody tr th:only-of-type {\n        vertical-align: middle;\n    }\n\n    .dataframe tbody tr th {\n        vertical-align: top;\n    }\n\n    .dataframe thead th {\n        text-align: right;\n    }\n</style>\n<table border=\"1\" class=\"dataframe\">\n  <thead>\n    <tr style=\"text-align: right;\">\n      <th></th>\n      <th>curso</th>\n      <th>semana</th>\n      <th>resource</th>\n      <th>assign</th>\n      <th>forum</th>\n    </tr>\n  </thead>\n  <tbody>\n    <tr>\n      <th>0</th>\n      <td>10</td>\n      <td>nombre semana</td>\n      <td>1.0</td>\n      <td>1.0</td>\n      <td>NaN</td>\n    </tr>\n    <tr>\n      <th>1</th>\n      <td>10</td>\n      <td>nombre semana</td>\n      <td>1.0</td>\n      <td>2.0</td>\n      <td>NaN</td>\n    </tr>\n    <tr>\n      <th>2</th>\n      <td>10</td>\n      <td>nombre semana</td>\n      <td>1.0</td>\n      <td>1.0</td>\n      <td>NaN</td>\n    </tr>\n    <tr>\n      <th>3</th>\n      <td>10</td>\n      <td>nombre semana</td>\n      <td>1.0</td>\n      <td>3.0</td>\n      <td>NaN</td>\n    </tr>\n    <tr>\n      <th>4</th>\n      <td>10</td>\n      <td>nombre semana</td>\n      <td>1.0</td>\n      <td>1.0</td>\n      <td>1.0</td>\n    </tr>\n    <tr>\n      <th>5</th>\n      <td>10</td>\n      <td>nombre semana</td>\n      <td>1.0</td>\n      <td>4.0</td>\n      <td>NaN</td>\n    </tr>\n    <tr>\n      <th>6</th>\n      <td>10</td>\n      <td>nombre semana</td>\n      <td>1.0</td>\n      <td>1.0</td>\n      <td>NaN</td>\n    </tr>\n    <tr>\n      <th>7</th>\n      <td>10</td>\n      <td>nombre semana</td>\n      <td>1.0</td>\n      <td>5.0</td>\n      <td>NaN</td>\n    </tr>\n    <tr>\n      <th>8</th>\n      <td>10</td>\n      <td>nombre semana</td>\n      <td>1.0</td>\n      <td>1.0</td>\n      <td>NaN</td>\n    </tr>\n  </tbody>\n</table>\n</div>"
     },
     "execution_count": 48,
     "metadata": {},
     "output_type": "execute_result"
    }
   ],
   "source": [
    "df = df.drop(['cantidad'], axis=1)\n",
    "df"
   ],
   "metadata": {
    "collapsed": false,
    "ExecuteTime": {
     "end_time": "2023-09-05T18:00:56.875351900Z",
     "start_time": "2023-09-05T18:00:56.792188800Z"
    }
   },
   "id": "315b2ad77993adc5"
  },
  {
   "cell_type": "code",
   "execution_count": 53,
   "outputs": [
    {
     "data": {
      "text/plain": "[{'curso': 12953,\n  'id_recurso': 133374,\n  'nombre': 'General',\n  'recursos': {'forum': 1, 'resource': 1}},\n {'curso': 12953,\n  'id_recurso': 133946,\n  'nombre': 'SEMANA 1',\n  'recursos': {'resource': 1, 'assign': 1}},\n {'curso': 12953,\n  'id_recurso': 133947,\n  'nombre': 'SEMANA 2',\n  'recursos': {'resource': 2, 'assign': 1}},\n {'curso': 12953,\n  'id_recurso': 133948,\n  'nombre': 'SEMANA 3',\n  'recursos': {'resource': 1, 'assign': 1}},\n {'curso': 12953,\n  'id_recurso': 133949,\n  'nombre': 'SEMANA 4',\n  'recursos': {'resource': 1, 'assign': 1}},\n {'curso': 12953,\n  'id_recurso': 142210,\n  'nombre': 'SEMANA 5',\n  'recursos': {'resource': 1}},\n {'curso': 12953,\n  'id_recurso': 142211,\n  'nombre': 'SEMANA 6',\n  'recursos': {'resource': 1}},\n {'curso': 12953,\n  'id_recurso': 142212,\n  'nombre': 'SEMANA 7',\n  'recursos': {'resource': 1, 'assign': 1}},\n {'curso': 12953,\n  'id_recurso': 142213,\n  'nombre': 'SEMANA 8',\n  'recursos': {'assign': 1}},\n {'curso': 12953,\n  'id_recurso': 142214,\n  'nombre': 'SEMANA 9',\n  'recursos': {'resource': 1}}]"
     },
     "execution_count": 53,
     "metadata": {},
     "output_type": "execute_result"
    }
   ],
   "source": [
    "cursos = [12953, [\n",
    "    {'id_recurso': 133374, 'nombre': 'General', 'recursos': {'forum': 1, 'resource': 1}}, \n",
    "    {'id_recurso': 133946, 'nombre': 'SEMANA 1', 'recursos': {'resource': 1, 'assign': 1}}, \n",
    "    {'id_recurso': 133947, 'nombre': 'SEMANA 2', 'recursos': {'resource': 2, 'assign': 1}}, \n",
    "    {'id_recurso': 133948, 'nombre': 'SEMANA 3', 'recursos': {'resource': 1, 'assign': 1}}, \n",
    "    {'id_recurso': 133949, 'nombre': 'SEMANA 4', 'recursos': {'resource': 1, 'assign': 1}}, \n",
    "    {'id_recurso': 142210, 'nombre': 'SEMANA 5', 'recursos': {'resource': 1}}, \n",
    "    {'id_recurso': 142211, 'nombre': 'SEMANA 6', 'recursos': {'resource': 1}}, \n",
    "    {'id_recurso': 142212, 'nombre': 'SEMANA 7', 'recursos': {'resource': 1, 'assign': 1}}, \n",
    "    {'id_recurso': 142213, 'nombre': 'SEMANA 8', 'recursos': {'assign': 1}}, \n",
    "    {'id_recurso': 142214, 'nombre': 'SEMANA 9', 'recursos': {'resource': 1}}\n",
    " ]]\n",
    "\n",
    "gen = [{'curso': cursos[0]} | todo for todo in cursos[1]]\n",
    "gen\n"
   ],
   "metadata": {
    "collapsed": false,
    "ExecuteTime": {
     "end_time": "2023-09-05T18:14:04.843108400Z",
     "start_time": "2023-09-05T18:14:04.819003800Z"
    }
   },
   "id": "d9e798925bcd51b"
  },
  {
   "cell_type": "code",
   "execution_count": 54,
   "outputs": [
    {
     "data": {
      "text/plain": "   curso  id_recurso    nombre                      recursos\n0  12953      133374   General   {'forum': 1, 'resource': 1}\n1  12953      133946  SEMANA 1  {'resource': 1, 'assign': 1}\n2  12953      133947  SEMANA 2  {'resource': 2, 'assign': 1}\n3  12953      133948  SEMANA 3  {'resource': 1, 'assign': 1}\n4  12953      133949  SEMANA 4  {'resource': 1, 'assign': 1}\n5  12953      142210  SEMANA 5               {'resource': 1}\n6  12953      142211  SEMANA 6               {'resource': 1}\n7  12953      142212  SEMANA 7  {'resource': 1, 'assign': 1}\n8  12953      142213  SEMANA 8                 {'assign': 1}\n9  12953      142214  SEMANA 9               {'resource': 1}",
      "text/html": "<div>\n<style scoped>\n    .dataframe tbody tr th:only-of-type {\n        vertical-align: middle;\n    }\n\n    .dataframe tbody tr th {\n        vertical-align: top;\n    }\n\n    .dataframe thead th {\n        text-align: right;\n    }\n</style>\n<table border=\"1\" class=\"dataframe\">\n  <thead>\n    <tr style=\"text-align: right;\">\n      <th></th>\n      <th>curso</th>\n      <th>id_recurso</th>\n      <th>nombre</th>\n      <th>recursos</th>\n    </tr>\n  </thead>\n  <tbody>\n    <tr>\n      <th>0</th>\n      <td>12953</td>\n      <td>133374</td>\n      <td>General</td>\n      <td>{'forum': 1, 'resource': 1}</td>\n    </tr>\n    <tr>\n      <th>1</th>\n      <td>12953</td>\n      <td>133946</td>\n      <td>SEMANA 1</td>\n      <td>{'resource': 1, 'assign': 1}</td>\n    </tr>\n    <tr>\n      <th>2</th>\n      <td>12953</td>\n      <td>133947</td>\n      <td>SEMANA 2</td>\n      <td>{'resource': 2, 'assign': 1}</td>\n    </tr>\n    <tr>\n      <th>3</th>\n      <td>12953</td>\n      <td>133948</td>\n      <td>SEMANA 3</td>\n      <td>{'resource': 1, 'assign': 1}</td>\n    </tr>\n    <tr>\n      <th>4</th>\n      <td>12953</td>\n      <td>133949</td>\n      <td>SEMANA 4</td>\n      <td>{'resource': 1, 'assign': 1}</td>\n    </tr>\n    <tr>\n      <th>5</th>\n      <td>12953</td>\n      <td>142210</td>\n      <td>SEMANA 5</td>\n      <td>{'resource': 1}</td>\n    </tr>\n    <tr>\n      <th>6</th>\n      <td>12953</td>\n      <td>142211</td>\n      <td>SEMANA 6</td>\n      <td>{'resource': 1}</td>\n    </tr>\n    <tr>\n      <th>7</th>\n      <td>12953</td>\n      <td>142212</td>\n      <td>SEMANA 7</td>\n      <td>{'resource': 1, 'assign': 1}</td>\n    </tr>\n    <tr>\n      <th>8</th>\n      <td>12953</td>\n      <td>142213</td>\n      <td>SEMANA 8</td>\n      <td>{'assign': 1}</td>\n    </tr>\n    <tr>\n      <th>9</th>\n      <td>12953</td>\n      <td>142214</td>\n      <td>SEMANA 9</td>\n      <td>{'resource': 1}</td>\n    </tr>\n  </tbody>\n</table>\n</div>"
     },
     "execution_count": 54,
     "metadata": {},
     "output_type": "execute_result"
    }
   ],
   "source": [
    "df = pd.DataFrame(gen)\n",
    "df"
   ],
   "metadata": {
    "collapsed": false,
    "ExecuteTime": {
     "end_time": "2023-09-05T18:14:20.988334900Z",
     "start_time": "2023-09-05T18:14:20.920605300Z"
    }
   },
   "id": "b387cbdae7ab58ec"
  },
  {
   "cell_type": "code",
   "execution_count": 55,
   "outputs": [
    {
     "data": {
      "text/plain": "   curso  id_recurso    nombre                      recursos  forum  resource  \\\n0  12953      133374   General   {'forum': 1, 'resource': 1}    1.0       1.0   \n1  12953      133946  SEMANA 1  {'resource': 1, 'assign': 1}    NaN       1.0   \n2  12953      133947  SEMANA 2  {'resource': 2, 'assign': 1}    NaN       2.0   \n3  12953      133948  SEMANA 3  {'resource': 1, 'assign': 1}    NaN       1.0   \n4  12953      133949  SEMANA 4  {'resource': 1, 'assign': 1}    NaN       1.0   \n5  12953      142210  SEMANA 5               {'resource': 1}    NaN       1.0   \n6  12953      142211  SEMANA 6               {'resource': 1}    NaN       1.0   \n7  12953      142212  SEMANA 7  {'resource': 1, 'assign': 1}    NaN       1.0   \n8  12953      142213  SEMANA 8                 {'assign': 1}    NaN       NaN   \n9  12953      142214  SEMANA 9               {'resource': 1}    NaN       1.0   \n\n   assign  \n0     NaN  \n1     1.0  \n2     1.0  \n3     1.0  \n4     1.0  \n5     NaN  \n6     NaN  \n7     1.0  \n8     1.0  \n9     NaN  ",
      "text/html": "<div>\n<style scoped>\n    .dataframe tbody tr th:only-of-type {\n        vertical-align: middle;\n    }\n\n    .dataframe tbody tr th {\n        vertical-align: top;\n    }\n\n    .dataframe thead th {\n        text-align: right;\n    }\n</style>\n<table border=\"1\" class=\"dataframe\">\n  <thead>\n    <tr style=\"text-align: right;\">\n      <th></th>\n      <th>curso</th>\n      <th>id_recurso</th>\n      <th>nombre</th>\n      <th>recursos</th>\n      <th>forum</th>\n      <th>resource</th>\n      <th>assign</th>\n    </tr>\n  </thead>\n  <tbody>\n    <tr>\n      <th>0</th>\n      <td>12953</td>\n      <td>133374</td>\n      <td>General</td>\n      <td>{'forum': 1, 'resource': 1}</td>\n      <td>1.0</td>\n      <td>1.0</td>\n      <td>NaN</td>\n    </tr>\n    <tr>\n      <th>1</th>\n      <td>12953</td>\n      <td>133946</td>\n      <td>SEMANA 1</td>\n      <td>{'resource': 1, 'assign': 1}</td>\n      <td>NaN</td>\n      <td>1.0</td>\n      <td>1.0</td>\n    </tr>\n    <tr>\n      <th>2</th>\n      <td>12953</td>\n      <td>133947</td>\n      <td>SEMANA 2</td>\n      <td>{'resource': 2, 'assign': 1}</td>\n      <td>NaN</td>\n      <td>2.0</td>\n      <td>1.0</td>\n    </tr>\n    <tr>\n      <th>3</th>\n      <td>12953</td>\n      <td>133948</td>\n      <td>SEMANA 3</td>\n      <td>{'resource': 1, 'assign': 1}</td>\n      <td>NaN</td>\n      <td>1.0</td>\n      <td>1.0</td>\n    </tr>\n    <tr>\n      <th>4</th>\n      <td>12953</td>\n      <td>133949</td>\n      <td>SEMANA 4</td>\n      <td>{'resource': 1, 'assign': 1}</td>\n      <td>NaN</td>\n      <td>1.0</td>\n      <td>1.0</td>\n    </tr>\n    <tr>\n      <th>5</th>\n      <td>12953</td>\n      <td>142210</td>\n      <td>SEMANA 5</td>\n      <td>{'resource': 1}</td>\n      <td>NaN</td>\n      <td>1.0</td>\n      <td>NaN</td>\n    </tr>\n    <tr>\n      <th>6</th>\n      <td>12953</td>\n      <td>142211</td>\n      <td>SEMANA 6</td>\n      <td>{'resource': 1}</td>\n      <td>NaN</td>\n      <td>1.0</td>\n      <td>NaN</td>\n    </tr>\n    <tr>\n      <th>7</th>\n      <td>12953</td>\n      <td>142212</td>\n      <td>SEMANA 7</td>\n      <td>{'resource': 1, 'assign': 1}</td>\n      <td>NaN</td>\n      <td>1.0</td>\n      <td>1.0</td>\n    </tr>\n    <tr>\n      <th>8</th>\n      <td>12953</td>\n      <td>142213</td>\n      <td>SEMANA 8</td>\n      <td>{'assign': 1}</td>\n      <td>NaN</td>\n      <td>NaN</td>\n      <td>1.0</td>\n    </tr>\n    <tr>\n      <th>9</th>\n      <td>12953</td>\n      <td>142214</td>\n      <td>SEMANA 9</td>\n      <td>{'resource': 1}</td>\n      <td>NaN</td>\n      <td>1.0</td>\n      <td>NaN</td>\n    </tr>\n  </tbody>\n</table>\n</div>"
     },
     "execution_count": 55,
     "metadata": {},
     "output_type": "execute_result"
    }
   ],
   "source": [
    "# df = df['recursos'].apply(pd.Series).merge(df, left_index=True, right_index=True)\n",
    "df = df.merge(df['recursos'].apply(pd.Series), left_index=True, right_index=True)\n",
    "df"
   ],
   "metadata": {
    "collapsed": false,
    "ExecuteTime": {
     "end_time": "2023-09-05T18:14:47.855635400Z",
     "start_time": "2023-09-05T18:14:47.814346Z"
    }
   },
   "id": "fc019c910dbad33e"
  },
  {
   "cell_type": "code",
   "execution_count": 56,
   "outputs": [
    {
     "data": {
      "text/plain": "   curso  id_recurso    nombre  forum  resource  assign\n0  12953      133374   General    1.0       1.0     NaN\n1  12953      133946  SEMANA 1    NaN       1.0     1.0\n2  12953      133947  SEMANA 2    NaN       2.0     1.0\n3  12953      133948  SEMANA 3    NaN       1.0     1.0\n4  12953      133949  SEMANA 4    NaN       1.0     1.0\n5  12953      142210  SEMANA 5    NaN       1.0     NaN\n6  12953      142211  SEMANA 6    NaN       1.0     NaN\n7  12953      142212  SEMANA 7    NaN       1.0     1.0\n8  12953      142213  SEMANA 8    NaN       NaN     1.0\n9  12953      142214  SEMANA 9    NaN       1.0     NaN",
      "text/html": "<div>\n<style scoped>\n    .dataframe tbody tr th:only-of-type {\n        vertical-align: middle;\n    }\n\n    .dataframe tbody tr th {\n        vertical-align: top;\n    }\n\n    .dataframe thead th {\n        text-align: right;\n    }\n</style>\n<table border=\"1\" class=\"dataframe\">\n  <thead>\n    <tr style=\"text-align: right;\">\n      <th></th>\n      <th>curso</th>\n      <th>id_recurso</th>\n      <th>nombre</th>\n      <th>forum</th>\n      <th>resource</th>\n      <th>assign</th>\n    </tr>\n  </thead>\n  <tbody>\n    <tr>\n      <th>0</th>\n      <td>12953</td>\n      <td>133374</td>\n      <td>General</td>\n      <td>1.0</td>\n      <td>1.0</td>\n      <td>NaN</td>\n    </tr>\n    <tr>\n      <th>1</th>\n      <td>12953</td>\n      <td>133946</td>\n      <td>SEMANA 1</td>\n      <td>NaN</td>\n      <td>1.0</td>\n      <td>1.0</td>\n    </tr>\n    <tr>\n      <th>2</th>\n      <td>12953</td>\n      <td>133947</td>\n      <td>SEMANA 2</td>\n      <td>NaN</td>\n      <td>2.0</td>\n      <td>1.0</td>\n    </tr>\n    <tr>\n      <th>3</th>\n      <td>12953</td>\n      <td>133948</td>\n      <td>SEMANA 3</td>\n      <td>NaN</td>\n      <td>1.0</td>\n      <td>1.0</td>\n    </tr>\n    <tr>\n      <th>4</th>\n      <td>12953</td>\n      <td>133949</td>\n      <td>SEMANA 4</td>\n      <td>NaN</td>\n      <td>1.0</td>\n      <td>1.0</td>\n    </tr>\n    <tr>\n      <th>5</th>\n      <td>12953</td>\n      <td>142210</td>\n      <td>SEMANA 5</td>\n      <td>NaN</td>\n      <td>1.0</td>\n      <td>NaN</td>\n    </tr>\n    <tr>\n      <th>6</th>\n      <td>12953</td>\n      <td>142211</td>\n      <td>SEMANA 6</td>\n      <td>NaN</td>\n      <td>1.0</td>\n      <td>NaN</td>\n    </tr>\n    <tr>\n      <th>7</th>\n      <td>12953</td>\n      <td>142212</td>\n      <td>SEMANA 7</td>\n      <td>NaN</td>\n      <td>1.0</td>\n      <td>1.0</td>\n    </tr>\n    <tr>\n      <th>8</th>\n      <td>12953</td>\n      <td>142213</td>\n      <td>SEMANA 8</td>\n      <td>NaN</td>\n      <td>NaN</td>\n      <td>1.0</td>\n    </tr>\n    <tr>\n      <th>9</th>\n      <td>12953</td>\n      <td>142214</td>\n      <td>SEMANA 9</td>\n      <td>NaN</td>\n      <td>1.0</td>\n      <td>NaN</td>\n    </tr>\n  </tbody>\n</table>\n</div>"
     },
     "execution_count": 56,
     "metadata": {},
     "output_type": "execute_result"
    }
   ],
   "source": [
    "df = df.drop(['recursos'], axis=1)\n",
    "df"
   ],
   "metadata": {
    "collapsed": false,
    "ExecuteTime": {
     "end_time": "2023-09-05T18:15:01.558227600Z",
     "start_time": "2023-09-05T18:15:01.485696400Z"
    }
   },
   "id": "c936da2862fbb085"
  },
  {
   "cell_type": "code",
   "execution_count": 57,
   "outputs": [],
   "source": [
    "cursos = [[12953, [{'id_recurso': 133374, 'nombre': 'General', 'recursos': {'forum': 1, 'resource': 1}}, {'id_recurso': 133946, 'nombre': 'SEMANA 1', 'recursos': {'resource': 1, 'assign': 1}}, {'id_recurso': 133947, 'nombre': 'SEMANA 2', 'recursos': {'resource': 2, 'assign': 1}}, {'id_recurso': 133948, 'nombre': 'SEMANA 3', 'recursos': {'resource': 1, 'assign': 1}}, {'id_recurso': 133949, 'nombre': 'SEMANA 4', 'recursos': {'resource': 1, 'assign': 1}}, {'id_recurso': 142210, 'nombre': 'SEMANA 5', 'recursos': {'resource': 1}}, {'id_recurso': 142211, 'nombre': 'SEMANA 6', 'recursos': {'resource': 1}}, {'id_recurso': 142212, 'nombre': 'SEMANA 7', 'recursos': {'resource': 1, 'assign': 1}}, {'id_recurso': 142213, 'nombre': 'SEMANA 8', 'recursos': {'assign': 1}}, {'id_recurso': 142214, 'nombre': 'SEMANA 9', 'recursos': {'resource': 1}}]], [12096, [{'id_recurso': 133177, 'nombre': 'General', 'recursos': {'forum': 1, 'resource': 3}}, {'id_recurso': 134200, 'nombre': 'SEMANA 1', 'recursos': {'resource': 3, 'assign': 2}}, {'id_recurso': 134201, 'nombre': 'SEMANA 2', 'recursos': {'resource': 1, 'assign': 1}}, {'id_recurso': 134202, 'nombre': 'SEMANA 3', 'recursos': {'resource': 2}}, {'id_recurso': 134203, 'nombre': 'SEMANA 4', 'recursos': {'resource': 1}}, {'id_recurso': 134204, 'nombre': 'SEMANA 5', 'recursos': {'assign': 1}}, {'id_recurso': 134205, 'nombre': 'SEMANA 6', 'recursos': {'resource': 2}}, {'id_recurso': 134206, 'nombre': 'SEMANA 7', 'recursos': {'resource': 1}}, {'id_recurso': 134207, 'nombre': 'SEMANA 8', 'recursos': {'assign': 1}}, {'id_recurso': 134208, 'nombre': 'SEMANA 9', 'recursos': {'resource': 1}}]]]"
   ],
   "metadata": {
    "collapsed": false,
    "ExecuteTime": {
     "end_time": "2023-09-05T19:44:48.223173800Z",
     "start_time": "2023-09-05T19:44:48.213738500Z"
    }
   },
   "id": "da0ab3c81faa0911"
  },
  {
   "cell_type": "code",
   "execution_count": 58,
   "outputs": [
    {
     "name": "stdout",
     "output_type": "stream",
     "text": [
      "[12953, [{'id_recurso': 133374, 'nombre': 'General', 'recursos': {'forum': 1, 'resource': 1}}, {'id_recurso': 133946, 'nombre': 'SEMANA 1', 'recursos': {'resource': 1, 'assign': 1}}, {'id_recurso': 133947, 'nombre': 'SEMANA 2', 'recursos': {'resource': 2, 'assign': 1}}, {'id_recurso': 133948, 'nombre': 'SEMANA 3', 'recursos': {'resource': 1, 'assign': 1}}, {'id_recurso': 133949, 'nombre': 'SEMANA 4', 'recursos': {'resource': 1, 'assign': 1}}, {'id_recurso': 142210, 'nombre': 'SEMANA 5', 'recursos': {'resource': 1}}, {'id_recurso': 142211, 'nombre': 'SEMANA 6', 'recursos': {'resource': 1}}, {'id_recurso': 142212, 'nombre': 'SEMANA 7', 'recursos': {'resource': 1, 'assign': 1}}, {'id_recurso': 142213, 'nombre': 'SEMANA 8', 'recursos': {'assign': 1}}, {'id_recurso': 142214, 'nombre': 'SEMANA 9', 'recursos': {'resource': 1}}]]\n",
      "[12096, [{'id_recurso': 133177, 'nombre': 'General', 'recursos': {'forum': 1, 'resource': 3}}, {'id_recurso': 134200, 'nombre': 'SEMANA 1', 'recursos': {'resource': 3, 'assign': 2}}, {'id_recurso': 134201, 'nombre': 'SEMANA 2', 'recursos': {'resource': 1, 'assign': 1}}, {'id_recurso': 134202, 'nombre': 'SEMANA 3', 'recursos': {'resource': 2}}, {'id_recurso': 134203, 'nombre': 'SEMANA 4', 'recursos': {'resource': 1}}, {'id_recurso': 134204, 'nombre': 'SEMANA 5', 'recursos': {'assign': 1}}, {'id_recurso': 134205, 'nombre': 'SEMANA 6', 'recursos': {'resource': 2}}, {'id_recurso': 134206, 'nombre': 'SEMANA 7', 'recursos': {'resource': 1}}, {'id_recurso': 134207, 'nombre': 'SEMANA 8', 'recursos': {'assign': 1}}, {'id_recurso': 134208, 'nombre': 'SEMANA 9', 'recursos': {'resource': 1}}]]\n"
     ]
    }
   ],
   "source": [
    "for curso in cursos:\n",
    "    print(curso)"
   ],
   "metadata": {
    "collapsed": false,
    "ExecuteTime": {
     "end_time": "2023-09-05T19:44:51.254417100Z",
     "start_time": "2023-09-05T19:44:51.164562Z"
    }
   },
   "id": "21acd7532c9a6d17"
  },
  {
   "cell_type": "code",
   "execution_count": 59,
   "outputs": [
    {
     "name": "stdout",
     "output_type": "stream",
     "text": [
      "{'id_recurso': 133374, 'nombre': 'General', 'recursos': {'forum': 1, 'resource': 1}, 'curso': 12953}\n",
      "{'id_recurso': 133946, 'nombre': 'SEMANA 1', 'recursos': {'resource': 1, 'assign': 1}, 'curso': 12953}\n",
      "{'id_recurso': 133947, 'nombre': 'SEMANA 2', 'recursos': {'resource': 2, 'assign': 1}, 'curso': 12953}\n",
      "{'id_recurso': 133948, 'nombre': 'SEMANA 3', 'recursos': {'resource': 1, 'assign': 1}, 'curso': 12953}\n",
      "{'id_recurso': 133949, 'nombre': 'SEMANA 4', 'recursos': {'resource': 1, 'assign': 1}, 'curso': 12953}\n",
      "{'id_recurso': 142210, 'nombre': 'SEMANA 5', 'recursos': {'resource': 1}, 'curso': 12953}\n",
      "{'id_recurso': 142211, 'nombre': 'SEMANA 6', 'recursos': {'resource': 1}, 'curso': 12953}\n",
      "{'id_recurso': 142212, 'nombre': 'SEMANA 7', 'recursos': {'resource': 1, 'assign': 1}, 'curso': 12953}\n",
      "{'id_recurso': 142213, 'nombre': 'SEMANA 8', 'recursos': {'assign': 1}, 'curso': 12953}\n",
      "{'id_recurso': 142214, 'nombre': 'SEMANA 9', 'recursos': {'resource': 1}, 'curso': 12953}\n",
      "{'id_recurso': 133177, 'nombre': 'General', 'recursos': {'forum': 1, 'resource': 3}, 'curso': 12096}\n",
      "{'id_recurso': 134200, 'nombre': 'SEMANA 1', 'recursos': {'resource': 3, 'assign': 2}, 'curso': 12096}\n",
      "{'id_recurso': 134201, 'nombre': 'SEMANA 2', 'recursos': {'resource': 1, 'assign': 1}, 'curso': 12096}\n",
      "{'id_recurso': 134202, 'nombre': 'SEMANA 3', 'recursos': {'resource': 2}, 'curso': 12096}\n",
      "{'id_recurso': 134203, 'nombre': 'SEMANA 4', 'recursos': {'resource': 1}, 'curso': 12096}\n",
      "{'id_recurso': 134204, 'nombre': 'SEMANA 5', 'recursos': {'assign': 1}, 'curso': 12096}\n",
      "{'id_recurso': 134205, 'nombre': 'SEMANA 6', 'recursos': {'resource': 2}, 'curso': 12096}\n",
      "{'id_recurso': 134206, 'nombre': 'SEMANA 7', 'recursos': {'resource': 1}, 'curso': 12096}\n",
      "{'id_recurso': 134207, 'nombre': 'SEMANA 8', 'recursos': {'assign': 1}, 'curso': 12096}\n",
      "{'id_recurso': 134208, 'nombre': 'SEMANA 9', 'recursos': {'resource': 1}, 'curso': 12096}\n"
     ]
    }
   ],
   "source": [
    "for curso in cursos:\n",
    "    for todo in curso[1]:\n",
    "        todo.update({'curso': curso[0]})\n",
    "        print(todo)"
   ],
   "metadata": {
    "collapsed": false,
    "ExecuteTime": {
     "end_time": "2023-09-05T19:44:55.169316Z",
     "start_time": "2023-09-05T19:44:55.090696700Z"
    }
   },
   "id": "51c9f96ac09e21f8"
  },
  {
   "cell_type": "code",
   "execution_count": 60,
   "outputs": [],
   "source": [
    "gen = [{'curso': curso[0]} | todo for curso in cursos for todo in curso[1]]"
   ],
   "metadata": {
    "collapsed": false,
    "ExecuteTime": {
     "end_time": "2023-09-05T19:45:08.906312800Z",
     "start_time": "2023-09-05T19:45:08.849481900Z"
    }
   },
   "id": "19555543b913408b"
  },
  {
   "cell_type": "code",
   "execution_count": 61,
   "outputs": [
    {
     "data": {
      "text/plain": "[{'curso': 12953,\n  'id_recurso': 133374,\n  'nombre': 'General',\n  'recursos': {'forum': 1, 'resource': 1}},\n {'curso': 12953,\n  'id_recurso': 133946,\n  'nombre': 'SEMANA 1',\n  'recursos': {'resource': 1, 'assign': 1}},\n {'curso': 12953,\n  'id_recurso': 133947,\n  'nombre': 'SEMANA 2',\n  'recursos': {'resource': 2, 'assign': 1}},\n {'curso': 12953,\n  'id_recurso': 133948,\n  'nombre': 'SEMANA 3',\n  'recursos': {'resource': 1, 'assign': 1}},\n {'curso': 12953,\n  'id_recurso': 133949,\n  'nombre': 'SEMANA 4',\n  'recursos': {'resource': 1, 'assign': 1}},\n {'curso': 12953,\n  'id_recurso': 142210,\n  'nombre': 'SEMANA 5',\n  'recursos': {'resource': 1}},\n {'curso': 12953,\n  'id_recurso': 142211,\n  'nombre': 'SEMANA 6',\n  'recursos': {'resource': 1}},\n {'curso': 12953,\n  'id_recurso': 142212,\n  'nombre': 'SEMANA 7',\n  'recursos': {'resource': 1, 'assign': 1}},\n {'curso': 12953,\n  'id_recurso': 142213,\n  'nombre': 'SEMANA 8',\n  'recursos': {'assign': 1}},\n {'curso': 12953,\n  'id_recurso': 142214,\n  'nombre': 'SEMANA 9',\n  'recursos': {'resource': 1}},\n {'curso': 12096,\n  'id_recurso': 133177,\n  'nombre': 'General',\n  'recursos': {'forum': 1, 'resource': 3}},\n {'curso': 12096,\n  'id_recurso': 134200,\n  'nombre': 'SEMANA 1',\n  'recursos': {'resource': 3, 'assign': 2}},\n {'curso': 12096,\n  'id_recurso': 134201,\n  'nombre': 'SEMANA 2',\n  'recursos': {'resource': 1, 'assign': 1}},\n {'curso': 12096,\n  'id_recurso': 134202,\n  'nombre': 'SEMANA 3',\n  'recursos': {'resource': 2}},\n {'curso': 12096,\n  'id_recurso': 134203,\n  'nombre': 'SEMANA 4',\n  'recursos': {'resource': 1}},\n {'curso': 12096,\n  'id_recurso': 134204,\n  'nombre': 'SEMANA 5',\n  'recursos': {'assign': 1}},\n {'curso': 12096,\n  'id_recurso': 134205,\n  'nombre': 'SEMANA 6',\n  'recursos': {'resource': 2}},\n {'curso': 12096,\n  'id_recurso': 134206,\n  'nombre': 'SEMANA 7',\n  'recursos': {'resource': 1}},\n {'curso': 12096,\n  'id_recurso': 134207,\n  'nombre': 'SEMANA 8',\n  'recursos': {'assign': 1}},\n {'curso': 12096,\n  'id_recurso': 134208,\n  'nombre': 'SEMANA 9',\n  'recursos': {'resource': 1}}]"
     },
     "execution_count": 61,
     "metadata": {},
     "output_type": "execute_result"
    }
   ],
   "source": [
    "gen"
   ],
   "metadata": {
    "collapsed": false,
    "ExecuteTime": {
     "end_time": "2023-09-05T19:45:12.143567600Z",
     "start_time": "2023-09-05T19:45:12.095519200Z"
    }
   },
   "id": "ce9b8964f54723f7"
  },
  {
   "cell_type": "code",
   "execution_count": 62,
   "outputs": [],
   "source": [
    "df = pd.DataFrame(gen)"
   ],
   "metadata": {
    "collapsed": false,
    "ExecuteTime": {
     "end_time": "2023-09-05T19:45:15.680790600Z",
     "start_time": "2023-09-05T19:45:15.533656300Z"
    }
   },
   "id": "8fe7652163256cac"
  },
  {
   "cell_type": "code",
   "execution_count": 63,
   "outputs": [
    {
     "data": {
      "text/plain": "    curso  id_recurso    nombre                      recursos\n0   12953      133374   General   {'forum': 1, 'resource': 1}\n1   12953      133946  SEMANA 1  {'resource': 1, 'assign': 1}\n2   12953      133947  SEMANA 2  {'resource': 2, 'assign': 1}\n3   12953      133948  SEMANA 3  {'resource': 1, 'assign': 1}\n4   12953      133949  SEMANA 4  {'resource': 1, 'assign': 1}\n5   12953      142210  SEMANA 5               {'resource': 1}\n6   12953      142211  SEMANA 6               {'resource': 1}\n7   12953      142212  SEMANA 7  {'resource': 1, 'assign': 1}\n8   12953      142213  SEMANA 8                 {'assign': 1}\n9   12953      142214  SEMANA 9               {'resource': 1}\n10  12096      133177   General   {'forum': 1, 'resource': 3}\n11  12096      134200  SEMANA 1  {'resource': 3, 'assign': 2}\n12  12096      134201  SEMANA 2  {'resource': 1, 'assign': 1}\n13  12096      134202  SEMANA 3               {'resource': 2}\n14  12096      134203  SEMANA 4               {'resource': 1}\n15  12096      134204  SEMANA 5                 {'assign': 1}\n16  12096      134205  SEMANA 6               {'resource': 2}\n17  12096      134206  SEMANA 7               {'resource': 1}\n18  12096      134207  SEMANA 8                 {'assign': 1}\n19  12096      134208  SEMANA 9               {'resource': 1}",
      "text/html": "<div>\n<style scoped>\n    .dataframe tbody tr th:only-of-type {\n        vertical-align: middle;\n    }\n\n    .dataframe tbody tr th {\n        vertical-align: top;\n    }\n\n    .dataframe thead th {\n        text-align: right;\n    }\n</style>\n<table border=\"1\" class=\"dataframe\">\n  <thead>\n    <tr style=\"text-align: right;\">\n      <th></th>\n      <th>curso</th>\n      <th>id_recurso</th>\n      <th>nombre</th>\n      <th>recursos</th>\n    </tr>\n  </thead>\n  <tbody>\n    <tr>\n      <th>0</th>\n      <td>12953</td>\n      <td>133374</td>\n      <td>General</td>\n      <td>{'forum': 1, 'resource': 1}</td>\n    </tr>\n    <tr>\n      <th>1</th>\n      <td>12953</td>\n      <td>133946</td>\n      <td>SEMANA 1</td>\n      <td>{'resource': 1, 'assign': 1}</td>\n    </tr>\n    <tr>\n      <th>2</th>\n      <td>12953</td>\n      <td>133947</td>\n      <td>SEMANA 2</td>\n      <td>{'resource': 2, 'assign': 1}</td>\n    </tr>\n    <tr>\n      <th>3</th>\n      <td>12953</td>\n      <td>133948</td>\n      <td>SEMANA 3</td>\n      <td>{'resource': 1, 'assign': 1}</td>\n    </tr>\n    <tr>\n      <th>4</th>\n      <td>12953</td>\n      <td>133949</td>\n      <td>SEMANA 4</td>\n      <td>{'resource': 1, 'assign': 1}</td>\n    </tr>\n    <tr>\n      <th>5</th>\n      <td>12953</td>\n      <td>142210</td>\n      <td>SEMANA 5</td>\n      <td>{'resource': 1}</td>\n    </tr>\n    <tr>\n      <th>6</th>\n      <td>12953</td>\n      <td>142211</td>\n      <td>SEMANA 6</td>\n      <td>{'resource': 1}</td>\n    </tr>\n    <tr>\n      <th>7</th>\n      <td>12953</td>\n      <td>142212</td>\n      <td>SEMANA 7</td>\n      <td>{'resource': 1, 'assign': 1}</td>\n    </tr>\n    <tr>\n      <th>8</th>\n      <td>12953</td>\n      <td>142213</td>\n      <td>SEMANA 8</td>\n      <td>{'assign': 1}</td>\n    </tr>\n    <tr>\n      <th>9</th>\n      <td>12953</td>\n      <td>142214</td>\n      <td>SEMANA 9</td>\n      <td>{'resource': 1}</td>\n    </tr>\n    <tr>\n      <th>10</th>\n      <td>12096</td>\n      <td>133177</td>\n      <td>General</td>\n      <td>{'forum': 1, 'resource': 3}</td>\n    </tr>\n    <tr>\n      <th>11</th>\n      <td>12096</td>\n      <td>134200</td>\n      <td>SEMANA 1</td>\n      <td>{'resource': 3, 'assign': 2}</td>\n    </tr>\n    <tr>\n      <th>12</th>\n      <td>12096</td>\n      <td>134201</td>\n      <td>SEMANA 2</td>\n      <td>{'resource': 1, 'assign': 1}</td>\n    </tr>\n    <tr>\n      <th>13</th>\n      <td>12096</td>\n      <td>134202</td>\n      <td>SEMANA 3</td>\n      <td>{'resource': 2}</td>\n    </tr>\n    <tr>\n      <th>14</th>\n      <td>12096</td>\n      <td>134203</td>\n      <td>SEMANA 4</td>\n      <td>{'resource': 1}</td>\n    </tr>\n    <tr>\n      <th>15</th>\n      <td>12096</td>\n      <td>134204</td>\n      <td>SEMANA 5</td>\n      <td>{'assign': 1}</td>\n    </tr>\n    <tr>\n      <th>16</th>\n      <td>12096</td>\n      <td>134205</td>\n      <td>SEMANA 6</td>\n      <td>{'resource': 2}</td>\n    </tr>\n    <tr>\n      <th>17</th>\n      <td>12096</td>\n      <td>134206</td>\n      <td>SEMANA 7</td>\n      <td>{'resource': 1}</td>\n    </tr>\n    <tr>\n      <th>18</th>\n      <td>12096</td>\n      <td>134207</td>\n      <td>SEMANA 8</td>\n      <td>{'assign': 1}</td>\n    </tr>\n    <tr>\n      <th>19</th>\n      <td>12096</td>\n      <td>134208</td>\n      <td>SEMANA 9</td>\n      <td>{'resource': 1}</td>\n    </tr>\n  </tbody>\n</table>\n</div>"
     },
     "execution_count": 63,
     "metadata": {},
     "output_type": "execute_result"
    }
   ],
   "source": [
    "df"
   ],
   "metadata": {
    "collapsed": false,
    "ExecuteTime": {
     "end_time": "2023-09-05T19:45:19.055898300Z",
     "start_time": "2023-09-05T19:45:18.921921900Z"
    }
   },
   "id": "39f5532a889bb1d3"
  },
  {
   "cell_type": "code",
   "execution_count": 64,
   "outputs": [
    {
     "data": {
      "text/plain": "    curso  id_recurso    nombre  forum  resource  assign\n0   12953      133374   General    1.0       1.0     NaN\n1   12953      133946  SEMANA 1    NaN       1.0     1.0\n2   12953      133947  SEMANA 2    NaN       2.0     1.0\n3   12953      133948  SEMANA 3    NaN       1.0     1.0\n4   12953      133949  SEMANA 4    NaN       1.0     1.0\n5   12953      142210  SEMANA 5    NaN       1.0     NaN\n6   12953      142211  SEMANA 6    NaN       1.0     NaN\n7   12953      142212  SEMANA 7    NaN       1.0     1.0\n8   12953      142213  SEMANA 8    NaN       NaN     1.0\n9   12953      142214  SEMANA 9    NaN       1.0     NaN\n10  12096      133177   General    1.0       3.0     NaN\n11  12096      134200  SEMANA 1    NaN       3.0     2.0\n12  12096      134201  SEMANA 2    NaN       1.0     1.0\n13  12096      134202  SEMANA 3    NaN       2.0     NaN\n14  12096      134203  SEMANA 4    NaN       1.0     NaN\n15  12096      134204  SEMANA 5    NaN       NaN     1.0\n16  12096      134205  SEMANA 6    NaN       2.0     NaN\n17  12096      134206  SEMANA 7    NaN       1.0     NaN\n18  12096      134207  SEMANA 8    NaN       NaN     1.0\n19  12096      134208  SEMANA 9    NaN       1.0     NaN",
      "text/html": "<div>\n<style scoped>\n    .dataframe tbody tr th:only-of-type {\n        vertical-align: middle;\n    }\n\n    .dataframe tbody tr th {\n        vertical-align: top;\n    }\n\n    .dataframe thead th {\n        text-align: right;\n    }\n</style>\n<table border=\"1\" class=\"dataframe\">\n  <thead>\n    <tr style=\"text-align: right;\">\n      <th></th>\n      <th>curso</th>\n      <th>id_recurso</th>\n      <th>nombre</th>\n      <th>forum</th>\n      <th>resource</th>\n      <th>assign</th>\n    </tr>\n  </thead>\n  <tbody>\n    <tr>\n      <th>0</th>\n      <td>12953</td>\n      <td>133374</td>\n      <td>General</td>\n      <td>1.0</td>\n      <td>1.0</td>\n      <td>NaN</td>\n    </tr>\n    <tr>\n      <th>1</th>\n      <td>12953</td>\n      <td>133946</td>\n      <td>SEMANA 1</td>\n      <td>NaN</td>\n      <td>1.0</td>\n      <td>1.0</td>\n    </tr>\n    <tr>\n      <th>2</th>\n      <td>12953</td>\n      <td>133947</td>\n      <td>SEMANA 2</td>\n      <td>NaN</td>\n      <td>2.0</td>\n      <td>1.0</td>\n    </tr>\n    <tr>\n      <th>3</th>\n      <td>12953</td>\n      <td>133948</td>\n      <td>SEMANA 3</td>\n      <td>NaN</td>\n      <td>1.0</td>\n      <td>1.0</td>\n    </tr>\n    <tr>\n      <th>4</th>\n      <td>12953</td>\n      <td>133949</td>\n      <td>SEMANA 4</td>\n      <td>NaN</td>\n      <td>1.0</td>\n      <td>1.0</td>\n    </tr>\n    <tr>\n      <th>5</th>\n      <td>12953</td>\n      <td>142210</td>\n      <td>SEMANA 5</td>\n      <td>NaN</td>\n      <td>1.0</td>\n      <td>NaN</td>\n    </tr>\n    <tr>\n      <th>6</th>\n      <td>12953</td>\n      <td>142211</td>\n      <td>SEMANA 6</td>\n      <td>NaN</td>\n      <td>1.0</td>\n      <td>NaN</td>\n    </tr>\n    <tr>\n      <th>7</th>\n      <td>12953</td>\n      <td>142212</td>\n      <td>SEMANA 7</td>\n      <td>NaN</td>\n      <td>1.0</td>\n      <td>1.0</td>\n    </tr>\n    <tr>\n      <th>8</th>\n      <td>12953</td>\n      <td>142213</td>\n      <td>SEMANA 8</td>\n      <td>NaN</td>\n      <td>NaN</td>\n      <td>1.0</td>\n    </tr>\n    <tr>\n      <th>9</th>\n      <td>12953</td>\n      <td>142214</td>\n      <td>SEMANA 9</td>\n      <td>NaN</td>\n      <td>1.0</td>\n      <td>NaN</td>\n    </tr>\n    <tr>\n      <th>10</th>\n      <td>12096</td>\n      <td>133177</td>\n      <td>General</td>\n      <td>1.0</td>\n      <td>3.0</td>\n      <td>NaN</td>\n    </tr>\n    <tr>\n      <th>11</th>\n      <td>12096</td>\n      <td>134200</td>\n      <td>SEMANA 1</td>\n      <td>NaN</td>\n      <td>3.0</td>\n      <td>2.0</td>\n    </tr>\n    <tr>\n      <th>12</th>\n      <td>12096</td>\n      <td>134201</td>\n      <td>SEMANA 2</td>\n      <td>NaN</td>\n      <td>1.0</td>\n      <td>1.0</td>\n    </tr>\n    <tr>\n      <th>13</th>\n      <td>12096</td>\n      <td>134202</td>\n      <td>SEMANA 3</td>\n      <td>NaN</td>\n      <td>2.0</td>\n      <td>NaN</td>\n    </tr>\n    <tr>\n      <th>14</th>\n      <td>12096</td>\n      <td>134203</td>\n      <td>SEMANA 4</td>\n      <td>NaN</td>\n      <td>1.0</td>\n      <td>NaN</td>\n    </tr>\n    <tr>\n      <th>15</th>\n      <td>12096</td>\n      <td>134204</td>\n      <td>SEMANA 5</td>\n      <td>NaN</td>\n      <td>NaN</td>\n      <td>1.0</td>\n    </tr>\n    <tr>\n      <th>16</th>\n      <td>12096</td>\n      <td>134205</td>\n      <td>SEMANA 6</td>\n      <td>NaN</td>\n      <td>2.0</td>\n      <td>NaN</td>\n    </tr>\n    <tr>\n      <th>17</th>\n      <td>12096</td>\n      <td>134206</td>\n      <td>SEMANA 7</td>\n      <td>NaN</td>\n      <td>1.0</td>\n      <td>NaN</td>\n    </tr>\n    <tr>\n      <th>18</th>\n      <td>12096</td>\n      <td>134207</td>\n      <td>SEMANA 8</td>\n      <td>NaN</td>\n      <td>NaN</td>\n      <td>1.0</td>\n    </tr>\n    <tr>\n      <th>19</th>\n      <td>12096</td>\n      <td>134208</td>\n      <td>SEMANA 9</td>\n      <td>NaN</td>\n      <td>1.0</td>\n      <td>NaN</td>\n    </tr>\n  </tbody>\n</table>\n</div>"
     },
     "execution_count": 64,
     "metadata": {},
     "output_type": "execute_result"
    }
   ],
   "source": [
    "df = df.merge(df['recursos'].apply(pd.Series), left_index=True, right_index=True)\n",
    "df.drop(['recursos'], axis=1, inplace=True)\n",
    "df"
   ],
   "metadata": {
    "collapsed": false,
    "ExecuteTime": {
     "end_time": "2023-09-05T19:45:38.937681700Z",
     "start_time": "2023-09-05T19:45:38.834769500Z"
    }
   },
   "id": "10ccb2efcce4dfc5"
  },
  {
   "cell_type": "code",
   "execution_count": null,
   "outputs": [],
   "source": [],
   "metadata": {
    "collapsed": false
   },
   "id": "cdef84c454f4dc7c"
  }
 ],
 "metadata": {
  "kernelspec": {
   "display_name": "Python 3",
   "language": "python",
   "name": "python3"
  },
  "language_info": {
   "codemirror_mode": {
    "name": "ipython",
    "version": 2
   },
   "file_extension": ".py",
   "mimetype": "text/x-python",
   "name": "python",
   "nbconvert_exporter": "python",
   "pygments_lexer": "ipython2",
   "version": "2.7.6"
  }
 },
 "nbformat": 4,
 "nbformat_minor": 5
}
