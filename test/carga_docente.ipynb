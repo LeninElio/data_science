{
 "cells": [
  {
   "cell_type": "code",
   "execution_count": 219,
   "id": "initial_id",
   "metadata": {
    "collapsed": true,
    "ExecuteTime": {
     "end_time": "2023-09-09T20:10:20.956372400Z",
     "start_time": "2023-09-09T20:10:20.859734Z"
    }
   },
   "outputs": [],
   "source": [
    "import pandas as pd\n",
    "import plotly.express as px"
   ]
  },
  {
   "cell_type": "code",
   "execution_count": 210,
   "outputs": [
    {
     "data": {
      "text/plain": "                                facultad                       departamento  \\\n0     INGENIERÍA INDUSTRIAS ALIMENTARIAS  CIENCIA Y TECNOLOGIA DE ALIMENTOS   \n1     INGENIERÍA INDUSTRIAS ALIMENTARIAS  CIENCIA Y TECNOLOGIA DE ALIMENTOS   \n2     INGENIERÍA INDUSTRIAS ALIMENTARIAS  CIENCIA Y TECNOLOGIA DE ALIMENTOS   \n3     INGENIERÍA INDUSTRIAS ALIMENTARIAS  CIENCIA Y TECNOLOGIA DE ALIMENTOS   \n4     INGENIERÍA INDUSTRIAS ALIMENTARIAS  CIENCIA Y TECNOLOGIA DE ALIMENTOS   \n...                                  ...                                ...   \n5716                    CIENCIAS MÉDICAS                       PROPEDÉUTICA   \n5717                    CIENCIAS MÉDICAS                       PROPEDÉUTICA   \n5718            ADMINISTRACIÓN Y TURISMO                            TURISMO   \n5719            ADMINISTRACIÓN Y TURISMO                            TURISMO   \n5720            ADMINISTRACIÓN Y TURISMO                            TURISMO   \n\n                           categoria   condicion    cargo dedicacion  \\\n0     SERVICIO ACADÉMICO PROFESIONAL  CONTRATADO  DOCENTE         TC   \n1     SERVICIO ACADÉMICO PROFESIONAL  CONTRATADO  DOCENTE         TC   \n2     SERVICIO ACADÉMICO PROFESIONAL  CONTRATADO  DOCENTE         TC   \n3     SERVICIO ACADÉMICO PROFESIONAL  CONTRATADO  DOCENTE         TC   \n4     SERVICIO ACADÉMICO PROFESIONAL  CONTRATADO  DOCENTE         TC   \n...                              ...         ...      ...        ...   \n5716                           DC B2  CONTRATADO  DOCENTE         TP   \n5717                           DC B2  CONTRATADO  DOCENTE         TP   \n5718                           DC B1  CONTRATADO  DOCENTE         TC   \n5719                           DC B1  CONTRATADO  DOCENTE         TC   \n5720                           DC B1  CONTRATADO  DOCENTE         TC   \n\n                                nombres         dni  h_teoria  h_practica  \\\n0        PATRICIO MOTA MANUEL DONATILDO  31626061.0        10          10   \n1        PATRICIO MOTA MANUEL DONATILDO  31626061.0         8           8   \n2        PATRICIO MOTA MANUEL DONATILDO  31626061.0        10          10   \n3        PATRICIO MOTA MANUEL DONATILDO  31626061.0         8           8   \n4        PATRICIO MOTA MANUEL DONATILDO  31626061.0         7          10   \n...                                 ...         ...       ...         ...   \n5716  LLAJAMANGO BOCANEGRA DANIEL RUBEN  43790440.0         4           4   \n5717        SOTO ESPINOZA NOYMI EDELINA   9457689.0         2           8   \n5718     TRUJILLO NAVARRO NATHALY LUISA  43633450.0         9          10   \n5719     TRUJILLO NAVARRO NATHALY LUISA  43633450.0         8           6   \n5720     TRUJILLO NAVARRO NATHALY LUISA  43633450.0        10          10   \n\n      total_horas semestre  \n0              20   2018-1  \n1              16   2018-2  \n2              20   2019-1  \n3              16   2019-2  \n4              17   2020-1  \n...           ...      ...  \n5716            8   2023-1  \n5717           10   2023-1  \n5718           19   2022-1  \n5719           14   2022-2  \n5720           20   2023-1  \n\n[5721 rows x 12 columns]",
      "text/html": "<div>\n<style scoped>\n    .dataframe tbody tr th:only-of-type {\n        vertical-align: middle;\n    }\n\n    .dataframe tbody tr th {\n        vertical-align: top;\n    }\n\n    .dataframe thead th {\n        text-align: right;\n    }\n</style>\n<table border=\"1\" class=\"dataframe\">\n  <thead>\n    <tr style=\"text-align: right;\">\n      <th></th>\n      <th>facultad</th>\n      <th>departamento</th>\n      <th>categoria</th>\n      <th>condicion</th>\n      <th>cargo</th>\n      <th>dedicacion</th>\n      <th>nombres</th>\n      <th>dni</th>\n      <th>h_teoria</th>\n      <th>h_practica</th>\n      <th>total_horas</th>\n      <th>semestre</th>\n    </tr>\n  </thead>\n  <tbody>\n    <tr>\n      <th>0</th>\n      <td>INGENIERÍA INDUSTRIAS ALIMENTARIAS</td>\n      <td>CIENCIA Y TECNOLOGIA DE ALIMENTOS</td>\n      <td>SERVICIO ACADÉMICO PROFESIONAL</td>\n      <td>CONTRATADO</td>\n      <td>DOCENTE</td>\n      <td>TC</td>\n      <td>PATRICIO MOTA MANUEL DONATILDO</td>\n      <td>31626061.0</td>\n      <td>10</td>\n      <td>10</td>\n      <td>20</td>\n      <td>2018-1</td>\n    </tr>\n    <tr>\n      <th>1</th>\n      <td>INGENIERÍA INDUSTRIAS ALIMENTARIAS</td>\n      <td>CIENCIA Y TECNOLOGIA DE ALIMENTOS</td>\n      <td>SERVICIO ACADÉMICO PROFESIONAL</td>\n      <td>CONTRATADO</td>\n      <td>DOCENTE</td>\n      <td>TC</td>\n      <td>PATRICIO MOTA MANUEL DONATILDO</td>\n      <td>31626061.0</td>\n      <td>8</td>\n      <td>8</td>\n      <td>16</td>\n      <td>2018-2</td>\n    </tr>\n    <tr>\n      <th>2</th>\n      <td>INGENIERÍA INDUSTRIAS ALIMENTARIAS</td>\n      <td>CIENCIA Y TECNOLOGIA DE ALIMENTOS</td>\n      <td>SERVICIO ACADÉMICO PROFESIONAL</td>\n      <td>CONTRATADO</td>\n      <td>DOCENTE</td>\n      <td>TC</td>\n      <td>PATRICIO MOTA MANUEL DONATILDO</td>\n      <td>31626061.0</td>\n      <td>10</td>\n      <td>10</td>\n      <td>20</td>\n      <td>2019-1</td>\n    </tr>\n    <tr>\n      <th>3</th>\n      <td>INGENIERÍA INDUSTRIAS ALIMENTARIAS</td>\n      <td>CIENCIA Y TECNOLOGIA DE ALIMENTOS</td>\n      <td>SERVICIO ACADÉMICO PROFESIONAL</td>\n      <td>CONTRATADO</td>\n      <td>DOCENTE</td>\n      <td>TC</td>\n      <td>PATRICIO MOTA MANUEL DONATILDO</td>\n      <td>31626061.0</td>\n      <td>8</td>\n      <td>8</td>\n      <td>16</td>\n      <td>2019-2</td>\n    </tr>\n    <tr>\n      <th>4</th>\n      <td>INGENIERÍA INDUSTRIAS ALIMENTARIAS</td>\n      <td>CIENCIA Y TECNOLOGIA DE ALIMENTOS</td>\n      <td>SERVICIO ACADÉMICO PROFESIONAL</td>\n      <td>CONTRATADO</td>\n      <td>DOCENTE</td>\n      <td>TC</td>\n      <td>PATRICIO MOTA MANUEL DONATILDO</td>\n      <td>31626061.0</td>\n      <td>7</td>\n      <td>10</td>\n      <td>17</td>\n      <td>2020-1</td>\n    </tr>\n    <tr>\n      <th>...</th>\n      <td>...</td>\n      <td>...</td>\n      <td>...</td>\n      <td>...</td>\n      <td>...</td>\n      <td>...</td>\n      <td>...</td>\n      <td>...</td>\n      <td>...</td>\n      <td>...</td>\n      <td>...</td>\n      <td>...</td>\n    </tr>\n    <tr>\n      <th>5716</th>\n      <td>CIENCIAS MÉDICAS</td>\n      <td>PROPEDÉUTICA</td>\n      <td>DC B2</td>\n      <td>CONTRATADO</td>\n      <td>DOCENTE</td>\n      <td>TP</td>\n      <td>LLAJAMANGO BOCANEGRA DANIEL RUBEN</td>\n      <td>43790440.0</td>\n      <td>4</td>\n      <td>4</td>\n      <td>8</td>\n      <td>2023-1</td>\n    </tr>\n    <tr>\n      <th>5717</th>\n      <td>CIENCIAS MÉDICAS</td>\n      <td>PROPEDÉUTICA</td>\n      <td>DC B2</td>\n      <td>CONTRATADO</td>\n      <td>DOCENTE</td>\n      <td>TP</td>\n      <td>SOTO ESPINOZA NOYMI EDELINA</td>\n      <td>9457689.0</td>\n      <td>2</td>\n      <td>8</td>\n      <td>10</td>\n      <td>2023-1</td>\n    </tr>\n    <tr>\n      <th>5718</th>\n      <td>ADMINISTRACIÓN Y TURISMO</td>\n      <td>TURISMO</td>\n      <td>DC B1</td>\n      <td>CONTRATADO</td>\n      <td>DOCENTE</td>\n      <td>TC</td>\n      <td>TRUJILLO NAVARRO NATHALY LUISA</td>\n      <td>43633450.0</td>\n      <td>9</td>\n      <td>10</td>\n      <td>19</td>\n      <td>2022-1</td>\n    </tr>\n    <tr>\n      <th>5719</th>\n      <td>ADMINISTRACIÓN Y TURISMO</td>\n      <td>TURISMO</td>\n      <td>DC B1</td>\n      <td>CONTRATADO</td>\n      <td>DOCENTE</td>\n      <td>TC</td>\n      <td>TRUJILLO NAVARRO NATHALY LUISA</td>\n      <td>43633450.0</td>\n      <td>8</td>\n      <td>6</td>\n      <td>14</td>\n      <td>2022-2</td>\n    </tr>\n    <tr>\n      <th>5720</th>\n      <td>ADMINISTRACIÓN Y TURISMO</td>\n      <td>TURISMO</td>\n      <td>DC B1</td>\n      <td>CONTRATADO</td>\n      <td>DOCENTE</td>\n      <td>TC</td>\n      <td>TRUJILLO NAVARRO NATHALY LUISA</td>\n      <td>43633450.0</td>\n      <td>10</td>\n      <td>10</td>\n      <td>20</td>\n      <td>2023-1</td>\n    </tr>\n  </tbody>\n</table>\n<p>5721 rows × 12 columns</p>\n</div>"
     },
     "execution_count": 210,
     "metadata": {},
     "output_type": "execute_result"
    }
   ],
   "source": [
    "df = pd.read_excel('data/carga_docente.xlsx')\n",
    "df"
   ],
   "metadata": {
    "collapsed": false,
    "ExecuteTime": {
     "end_time": "2023-09-09T20:09:35.030024600Z",
     "start_time": "2023-09-09T20:09:34.197201700Z"
    }
   },
   "id": "322890b0205b564b"
  },
  {
   "cell_type": "code",
   "execution_count": 211,
   "outputs": [
    {
     "data": {
      "text/plain": "                                facultad                       departamento  \\\n0     INGENIERÍA INDUSTRIAS ALIMENTARIAS  CIENCIA Y TECNOLOGIA DE ALIMENTOS   \n1     INGENIERÍA INDUSTRIAS ALIMENTARIAS  CIENCIA Y TECNOLOGIA DE ALIMENTOS   \n2     INGENIERÍA INDUSTRIAS ALIMENTARIAS  CIENCIA Y TECNOLOGIA DE ALIMENTOS   \n3     INGENIERÍA INDUSTRIAS ALIMENTARIAS  CIENCIA Y TECNOLOGIA DE ALIMENTOS   \n4     INGENIERÍA INDUSTRIAS ALIMENTARIAS  CIENCIA Y TECNOLOGIA DE ALIMENTOS   \n...                                  ...                                ...   \n5716                    CIENCIAS MÉDICAS                       PROPEDÉUTICA   \n5717                    CIENCIAS MÉDICAS                       PROPEDÉUTICA   \n5718            ADMINISTRACIÓN Y TURISMO                            TURISMO   \n5719            ADMINISTRACIÓN Y TURISMO                            TURISMO   \n5720            ADMINISTRACIÓN Y TURISMO                            TURISMO   \n\n                           categoria   condicion    cargo dedicacion  \\\n0     SERVICIO ACADÉMICO PROFESIONAL  CONTRATADO  DOCENTE         TC   \n1     SERVICIO ACADÉMICO PROFESIONAL  CONTRATADO  DOCENTE         TC   \n2     SERVICIO ACADÉMICO PROFESIONAL  CONTRATADO  DOCENTE         TC   \n3     SERVICIO ACADÉMICO PROFESIONAL  CONTRATADO  DOCENTE         TC   \n4     SERVICIO ACADÉMICO PROFESIONAL  CONTRATADO  DOCENTE         TC   \n...                              ...         ...      ...        ...   \n5716                           DC B2  CONTRATADO  DOCENTE         TP   \n5717                           DC B2  CONTRATADO  DOCENTE         TP   \n5718                           DC B1  CONTRATADO  DOCENTE         TC   \n5719                           DC B1  CONTRATADO  DOCENTE         TC   \n5720                           DC B1  CONTRATADO  DOCENTE         TC   \n\n                                nombres         dni  h_teoria  h_practica  \\\n0        PATRICIO MOTA MANUEL DONATILDO  31626061.0        10          10   \n1        PATRICIO MOTA MANUEL DONATILDO  31626061.0         8           8   \n2        PATRICIO MOTA MANUEL DONATILDO  31626061.0        10          10   \n3        PATRICIO MOTA MANUEL DONATILDO  31626061.0         8           8   \n4        PATRICIO MOTA MANUEL DONATILDO  31626061.0         7          10   \n...                                 ...         ...       ...         ...   \n5716  LLAJAMANGO BOCANEGRA DANIEL RUBEN  43790440.0         4           4   \n5717        SOTO ESPINOZA NOYMI EDELINA   9457689.0         2           8   \n5718     TRUJILLO NAVARRO NATHALY LUISA  43633450.0         9          10   \n5719     TRUJILLO NAVARRO NATHALY LUISA  43633450.0         8           6   \n5720     TRUJILLO NAVARRO NATHALY LUISA  43633450.0        10          10   \n\n      total_horas semestre  \n0              20   2018-1  \n1              16   2018-2  \n2              20   2019-1  \n3              16   2019-2  \n4              17   2020-1  \n...           ...      ...  \n5716            8   2023-1  \n5717           10   2023-1  \n5718           19   2022-1  \n5719           14   2022-2  \n5720           20   2023-1  \n\n[5721 rows x 12 columns]",
      "text/html": "<div>\n<style scoped>\n    .dataframe tbody tr th:only-of-type {\n        vertical-align: middle;\n    }\n\n    .dataframe tbody tr th {\n        vertical-align: top;\n    }\n\n    .dataframe thead th {\n        text-align: right;\n    }\n</style>\n<table border=\"1\" class=\"dataframe\">\n  <thead>\n    <tr style=\"text-align: right;\">\n      <th></th>\n      <th>facultad</th>\n      <th>departamento</th>\n      <th>categoria</th>\n      <th>condicion</th>\n      <th>cargo</th>\n      <th>dedicacion</th>\n      <th>nombres</th>\n      <th>dni</th>\n      <th>h_teoria</th>\n      <th>h_practica</th>\n      <th>total_horas</th>\n      <th>semestre</th>\n    </tr>\n  </thead>\n  <tbody>\n    <tr>\n      <th>0</th>\n      <td>INGENIERÍA INDUSTRIAS ALIMENTARIAS</td>\n      <td>CIENCIA Y TECNOLOGIA DE ALIMENTOS</td>\n      <td>SERVICIO ACADÉMICO PROFESIONAL</td>\n      <td>CONTRATADO</td>\n      <td>DOCENTE</td>\n      <td>TC</td>\n      <td>PATRICIO MOTA MANUEL DONATILDO</td>\n      <td>31626061.0</td>\n      <td>10</td>\n      <td>10</td>\n      <td>20</td>\n      <td>2018-1</td>\n    </tr>\n    <tr>\n      <th>1</th>\n      <td>INGENIERÍA INDUSTRIAS ALIMENTARIAS</td>\n      <td>CIENCIA Y TECNOLOGIA DE ALIMENTOS</td>\n      <td>SERVICIO ACADÉMICO PROFESIONAL</td>\n      <td>CONTRATADO</td>\n      <td>DOCENTE</td>\n      <td>TC</td>\n      <td>PATRICIO MOTA MANUEL DONATILDO</td>\n      <td>31626061.0</td>\n      <td>8</td>\n      <td>8</td>\n      <td>16</td>\n      <td>2018-2</td>\n    </tr>\n    <tr>\n      <th>2</th>\n      <td>INGENIERÍA INDUSTRIAS ALIMENTARIAS</td>\n      <td>CIENCIA Y TECNOLOGIA DE ALIMENTOS</td>\n      <td>SERVICIO ACADÉMICO PROFESIONAL</td>\n      <td>CONTRATADO</td>\n      <td>DOCENTE</td>\n      <td>TC</td>\n      <td>PATRICIO MOTA MANUEL DONATILDO</td>\n      <td>31626061.0</td>\n      <td>10</td>\n      <td>10</td>\n      <td>20</td>\n      <td>2019-1</td>\n    </tr>\n    <tr>\n      <th>3</th>\n      <td>INGENIERÍA INDUSTRIAS ALIMENTARIAS</td>\n      <td>CIENCIA Y TECNOLOGIA DE ALIMENTOS</td>\n      <td>SERVICIO ACADÉMICO PROFESIONAL</td>\n      <td>CONTRATADO</td>\n      <td>DOCENTE</td>\n      <td>TC</td>\n      <td>PATRICIO MOTA MANUEL DONATILDO</td>\n      <td>31626061.0</td>\n      <td>8</td>\n      <td>8</td>\n      <td>16</td>\n      <td>2019-2</td>\n    </tr>\n    <tr>\n      <th>4</th>\n      <td>INGENIERÍA INDUSTRIAS ALIMENTARIAS</td>\n      <td>CIENCIA Y TECNOLOGIA DE ALIMENTOS</td>\n      <td>SERVICIO ACADÉMICO PROFESIONAL</td>\n      <td>CONTRATADO</td>\n      <td>DOCENTE</td>\n      <td>TC</td>\n      <td>PATRICIO MOTA MANUEL DONATILDO</td>\n      <td>31626061.0</td>\n      <td>7</td>\n      <td>10</td>\n      <td>17</td>\n      <td>2020-1</td>\n    </tr>\n    <tr>\n      <th>...</th>\n      <td>...</td>\n      <td>...</td>\n      <td>...</td>\n      <td>...</td>\n      <td>...</td>\n      <td>...</td>\n      <td>...</td>\n      <td>...</td>\n      <td>...</td>\n      <td>...</td>\n      <td>...</td>\n      <td>...</td>\n    </tr>\n    <tr>\n      <th>5716</th>\n      <td>CIENCIAS MÉDICAS</td>\n      <td>PROPEDÉUTICA</td>\n      <td>DC B2</td>\n      <td>CONTRATADO</td>\n      <td>DOCENTE</td>\n      <td>TP</td>\n      <td>LLAJAMANGO BOCANEGRA DANIEL RUBEN</td>\n      <td>43790440.0</td>\n      <td>4</td>\n      <td>4</td>\n      <td>8</td>\n      <td>2023-1</td>\n    </tr>\n    <tr>\n      <th>5717</th>\n      <td>CIENCIAS MÉDICAS</td>\n      <td>PROPEDÉUTICA</td>\n      <td>DC B2</td>\n      <td>CONTRATADO</td>\n      <td>DOCENTE</td>\n      <td>TP</td>\n      <td>SOTO ESPINOZA NOYMI EDELINA</td>\n      <td>9457689.0</td>\n      <td>2</td>\n      <td>8</td>\n      <td>10</td>\n      <td>2023-1</td>\n    </tr>\n    <tr>\n      <th>5718</th>\n      <td>ADMINISTRACIÓN Y TURISMO</td>\n      <td>TURISMO</td>\n      <td>DC B1</td>\n      <td>CONTRATADO</td>\n      <td>DOCENTE</td>\n      <td>TC</td>\n      <td>TRUJILLO NAVARRO NATHALY LUISA</td>\n      <td>43633450.0</td>\n      <td>9</td>\n      <td>10</td>\n      <td>19</td>\n      <td>2022-1</td>\n    </tr>\n    <tr>\n      <th>5719</th>\n      <td>ADMINISTRACIÓN Y TURISMO</td>\n      <td>TURISMO</td>\n      <td>DC B1</td>\n      <td>CONTRATADO</td>\n      <td>DOCENTE</td>\n      <td>TC</td>\n      <td>TRUJILLO NAVARRO NATHALY LUISA</td>\n      <td>43633450.0</td>\n      <td>8</td>\n      <td>6</td>\n      <td>14</td>\n      <td>2022-2</td>\n    </tr>\n    <tr>\n      <th>5720</th>\n      <td>ADMINISTRACIÓN Y TURISMO</td>\n      <td>TURISMO</td>\n      <td>DC B1</td>\n      <td>CONTRATADO</td>\n      <td>DOCENTE</td>\n      <td>TC</td>\n      <td>TRUJILLO NAVARRO NATHALY LUISA</td>\n      <td>43633450.0</td>\n      <td>10</td>\n      <td>10</td>\n      <td>20</td>\n      <td>2023-1</td>\n    </tr>\n  </tbody>\n</table>\n<p>5721 rows × 12 columns</p>\n</div>"
     },
     "execution_count": 211,
     "metadata": {},
     "output_type": "execute_result"
    }
   ],
   "source": [
    "df['dni'] = df['dni'].astype(str)\n",
    "df"
   ],
   "metadata": {
    "collapsed": false,
    "ExecuteTime": {
     "end_time": "2023-09-09T20:09:36.008462100Z",
     "start_time": "2023-09-09T20:09:35.951409900Z"
    }
   },
   "id": "1a8b972960f72857"
  },
  {
   "cell_type": "code",
   "execution_count": 212,
   "outputs": [
    {
     "data": {
      "text/plain": "                                facultad                       departamento  \\\n0     INGENIERÍA INDUSTRIAS ALIMENTARIAS  CIENCIA Y TECNOLOGIA DE ALIMENTOS   \n1     INGENIERÍA INDUSTRIAS ALIMENTARIAS  CIENCIA Y TECNOLOGIA DE ALIMENTOS   \n2     INGENIERÍA INDUSTRIAS ALIMENTARIAS  CIENCIA Y TECNOLOGIA DE ALIMENTOS   \n3     INGENIERÍA INDUSTRIAS ALIMENTARIAS  CIENCIA Y TECNOLOGIA DE ALIMENTOS   \n4     INGENIERÍA INDUSTRIAS ALIMENTARIAS  CIENCIA Y TECNOLOGIA DE ALIMENTOS   \n...                                  ...                                ...   \n5716                    CIENCIAS MÉDICAS                       PROPEDÉUTICA   \n5717                    CIENCIAS MÉDICAS                       PROPEDÉUTICA   \n5718            ADMINISTRACIÓN Y TURISMO                            TURISMO   \n5719            ADMINISTRACIÓN Y TURISMO                            TURISMO   \n5720            ADMINISTRACIÓN Y TURISMO                            TURISMO   \n\n                           categoria   condicion    cargo dedicacion  \\\n0     SERVICIO ACADÉMICO PROFESIONAL  CONTRATADO  DOCENTE         TC   \n1     SERVICIO ACADÉMICO PROFESIONAL  CONTRATADO  DOCENTE         TC   \n2     SERVICIO ACADÉMICO PROFESIONAL  CONTRATADO  DOCENTE         TC   \n3     SERVICIO ACADÉMICO PROFESIONAL  CONTRATADO  DOCENTE         TC   \n4     SERVICIO ACADÉMICO PROFESIONAL  CONTRATADO  DOCENTE         TC   \n...                              ...         ...      ...        ...   \n5716                           DC B2  CONTRATADO  DOCENTE         TP   \n5717                           DC B2  CONTRATADO  DOCENTE         TP   \n5718                           DC B1  CONTRATADO  DOCENTE         TC   \n5719                           DC B1  CONTRATADO  DOCENTE         TC   \n5720                           DC B1  CONTRATADO  DOCENTE         TC   \n\n                                nombres       dni  h_teoria  h_practica  \\\n0        PATRICIO MOTA MANUEL DONATILDO  31626061        10          10   \n1        PATRICIO MOTA MANUEL DONATILDO  31626061         8           8   \n2        PATRICIO MOTA MANUEL DONATILDO  31626061        10          10   \n3        PATRICIO MOTA MANUEL DONATILDO  31626061         8           8   \n4        PATRICIO MOTA MANUEL DONATILDO  31626061         7          10   \n...                                 ...       ...       ...         ...   \n5716  LLAJAMANGO BOCANEGRA DANIEL RUBEN  43790440         4           4   \n5717        SOTO ESPINOZA NOYMI EDELINA   9457689         2           8   \n5718     TRUJILLO NAVARRO NATHALY LUISA  43633450         9          10   \n5719     TRUJILLO NAVARRO NATHALY LUISA  43633450         8           6   \n5720     TRUJILLO NAVARRO NATHALY LUISA  43633450        10          10   \n\n      total_horas semestre  \n0              20   2018-1  \n1              16   2018-2  \n2              20   2019-1  \n3              16   2019-2  \n4              17   2020-1  \n...           ...      ...  \n5716            8   2023-1  \n5717           10   2023-1  \n5718           19   2022-1  \n5719           14   2022-2  \n5720           20   2023-1  \n\n[5721 rows x 12 columns]",
      "text/html": "<div>\n<style scoped>\n    .dataframe tbody tr th:only-of-type {\n        vertical-align: middle;\n    }\n\n    .dataframe tbody tr th {\n        vertical-align: top;\n    }\n\n    .dataframe thead th {\n        text-align: right;\n    }\n</style>\n<table border=\"1\" class=\"dataframe\">\n  <thead>\n    <tr style=\"text-align: right;\">\n      <th></th>\n      <th>facultad</th>\n      <th>departamento</th>\n      <th>categoria</th>\n      <th>condicion</th>\n      <th>cargo</th>\n      <th>dedicacion</th>\n      <th>nombres</th>\n      <th>dni</th>\n      <th>h_teoria</th>\n      <th>h_practica</th>\n      <th>total_horas</th>\n      <th>semestre</th>\n    </tr>\n  </thead>\n  <tbody>\n    <tr>\n      <th>0</th>\n      <td>INGENIERÍA INDUSTRIAS ALIMENTARIAS</td>\n      <td>CIENCIA Y TECNOLOGIA DE ALIMENTOS</td>\n      <td>SERVICIO ACADÉMICO PROFESIONAL</td>\n      <td>CONTRATADO</td>\n      <td>DOCENTE</td>\n      <td>TC</td>\n      <td>PATRICIO MOTA MANUEL DONATILDO</td>\n      <td>31626061</td>\n      <td>10</td>\n      <td>10</td>\n      <td>20</td>\n      <td>2018-1</td>\n    </tr>\n    <tr>\n      <th>1</th>\n      <td>INGENIERÍA INDUSTRIAS ALIMENTARIAS</td>\n      <td>CIENCIA Y TECNOLOGIA DE ALIMENTOS</td>\n      <td>SERVICIO ACADÉMICO PROFESIONAL</td>\n      <td>CONTRATADO</td>\n      <td>DOCENTE</td>\n      <td>TC</td>\n      <td>PATRICIO MOTA MANUEL DONATILDO</td>\n      <td>31626061</td>\n      <td>8</td>\n      <td>8</td>\n      <td>16</td>\n      <td>2018-2</td>\n    </tr>\n    <tr>\n      <th>2</th>\n      <td>INGENIERÍA INDUSTRIAS ALIMENTARIAS</td>\n      <td>CIENCIA Y TECNOLOGIA DE ALIMENTOS</td>\n      <td>SERVICIO ACADÉMICO PROFESIONAL</td>\n      <td>CONTRATADO</td>\n      <td>DOCENTE</td>\n      <td>TC</td>\n      <td>PATRICIO MOTA MANUEL DONATILDO</td>\n      <td>31626061</td>\n      <td>10</td>\n      <td>10</td>\n      <td>20</td>\n      <td>2019-1</td>\n    </tr>\n    <tr>\n      <th>3</th>\n      <td>INGENIERÍA INDUSTRIAS ALIMENTARIAS</td>\n      <td>CIENCIA Y TECNOLOGIA DE ALIMENTOS</td>\n      <td>SERVICIO ACADÉMICO PROFESIONAL</td>\n      <td>CONTRATADO</td>\n      <td>DOCENTE</td>\n      <td>TC</td>\n      <td>PATRICIO MOTA MANUEL DONATILDO</td>\n      <td>31626061</td>\n      <td>8</td>\n      <td>8</td>\n      <td>16</td>\n      <td>2019-2</td>\n    </tr>\n    <tr>\n      <th>4</th>\n      <td>INGENIERÍA INDUSTRIAS ALIMENTARIAS</td>\n      <td>CIENCIA Y TECNOLOGIA DE ALIMENTOS</td>\n      <td>SERVICIO ACADÉMICO PROFESIONAL</td>\n      <td>CONTRATADO</td>\n      <td>DOCENTE</td>\n      <td>TC</td>\n      <td>PATRICIO MOTA MANUEL DONATILDO</td>\n      <td>31626061</td>\n      <td>7</td>\n      <td>10</td>\n      <td>17</td>\n      <td>2020-1</td>\n    </tr>\n    <tr>\n      <th>...</th>\n      <td>...</td>\n      <td>...</td>\n      <td>...</td>\n      <td>...</td>\n      <td>...</td>\n      <td>...</td>\n      <td>...</td>\n      <td>...</td>\n      <td>...</td>\n      <td>...</td>\n      <td>...</td>\n      <td>...</td>\n    </tr>\n    <tr>\n      <th>5716</th>\n      <td>CIENCIAS MÉDICAS</td>\n      <td>PROPEDÉUTICA</td>\n      <td>DC B2</td>\n      <td>CONTRATADO</td>\n      <td>DOCENTE</td>\n      <td>TP</td>\n      <td>LLAJAMANGO BOCANEGRA DANIEL RUBEN</td>\n      <td>43790440</td>\n      <td>4</td>\n      <td>4</td>\n      <td>8</td>\n      <td>2023-1</td>\n    </tr>\n    <tr>\n      <th>5717</th>\n      <td>CIENCIAS MÉDICAS</td>\n      <td>PROPEDÉUTICA</td>\n      <td>DC B2</td>\n      <td>CONTRATADO</td>\n      <td>DOCENTE</td>\n      <td>TP</td>\n      <td>SOTO ESPINOZA NOYMI EDELINA</td>\n      <td>9457689</td>\n      <td>2</td>\n      <td>8</td>\n      <td>10</td>\n      <td>2023-1</td>\n    </tr>\n    <tr>\n      <th>5718</th>\n      <td>ADMINISTRACIÓN Y TURISMO</td>\n      <td>TURISMO</td>\n      <td>DC B1</td>\n      <td>CONTRATADO</td>\n      <td>DOCENTE</td>\n      <td>TC</td>\n      <td>TRUJILLO NAVARRO NATHALY LUISA</td>\n      <td>43633450</td>\n      <td>9</td>\n      <td>10</td>\n      <td>19</td>\n      <td>2022-1</td>\n    </tr>\n    <tr>\n      <th>5719</th>\n      <td>ADMINISTRACIÓN Y TURISMO</td>\n      <td>TURISMO</td>\n      <td>DC B1</td>\n      <td>CONTRATADO</td>\n      <td>DOCENTE</td>\n      <td>TC</td>\n      <td>TRUJILLO NAVARRO NATHALY LUISA</td>\n      <td>43633450</td>\n      <td>8</td>\n      <td>6</td>\n      <td>14</td>\n      <td>2022-2</td>\n    </tr>\n    <tr>\n      <th>5720</th>\n      <td>ADMINISTRACIÓN Y TURISMO</td>\n      <td>TURISMO</td>\n      <td>DC B1</td>\n      <td>CONTRATADO</td>\n      <td>DOCENTE</td>\n      <td>TC</td>\n      <td>TRUJILLO NAVARRO NATHALY LUISA</td>\n      <td>43633450</td>\n      <td>10</td>\n      <td>10</td>\n      <td>20</td>\n      <td>2023-1</td>\n    </tr>\n  </tbody>\n</table>\n<p>5721 rows × 12 columns</p>\n</div>"
     },
     "execution_count": 212,
     "metadata": {},
     "output_type": "execute_result"
    }
   ],
   "source": [
    "df['dni'] = df['dni'].str.replace('.0', '')\n",
    "df"
   ],
   "metadata": {
    "collapsed": false,
    "ExecuteTime": {
     "end_time": "2023-09-09T20:09:38.670227Z",
     "start_time": "2023-09-09T20:09:38.628255200Z"
    }
   },
   "id": "db92f854823caab1"
  },
  {
   "cell_type": "code",
   "execution_count": 213,
   "outputs": [
    {
     "data": {
      "text/plain": "departamento    condicion   semestre\nADMINISTRACIÓN  CONTRATADO  2018-1       4\n                            2018-2       4\n                            2019-1       4\n                            2019-2       4\n                            2020-1       4\n                                        ..\nTURISMO         NOMBRADO    2021-1      10\n                            2021-2      10\n                            2022-1      10\n                            2022-2      10\n                            2023-1      10\nLength: 439, dtype: int64"
     },
     "execution_count": 213,
     "metadata": {},
     "output_type": "execute_result"
    }
   ],
   "source": [
    "# por departamento y por categoria cuenta la cantidad de docentes.\n",
    "df.groupby(['departamento', 'condicion', 'semestre']).size()"
   ],
   "metadata": {
    "collapsed": false,
    "ExecuteTime": {
     "end_time": "2023-09-09T20:09:42.599777100Z",
     "start_time": "2023-09-09T20:09:42.555614400Z"
    }
   },
   "id": "6e7a90c462b586ff"
  },
  {
   "cell_type": "code",
   "execution_count": 214,
   "outputs": [
    {
     "data": {
      "text/plain": "semestre                                                    2018-1  2018-2  \\\ndepartamento                                    condicion                    \nADMINISTRACIÓN                                  CONTRATADO     4.0     4.0   \n                                                NOMBRADO      18.0    18.0   \nAGRONOMIA                                       CONTRATADO     3.0     2.0   \n                                                NOMBRADO      13.0    13.0   \nCIENCIA Y TECNOLOGIA DE ALIMENTOS               CONTRATADO     5.0     5.0   \n                                                NOMBRADO      18.0    18.0   \nCIENCIAS BÁSICAS                                CONTRATADO     5.0     4.0   \n                                                NOMBRADO      35.0    33.0   \nCIENCIAS DEL AMBIENTE                           CONTRATADO     8.0     8.0   \n                                                NOMBRADO      15.0    15.0   \nCIENCIAS SOCIALES Y CIENCIAS DE LA COMUNICACION CONTRATADO    10.0    12.0   \n                                                NOMBRADO      17.0    17.0   \nCONTABILIDAD                                    CONTRATADO     1.0     1.0   \n                                                NOMBRADO      19.0    18.0   \nDERECHO Y CIENCIAS POLITICAS                    CONTRATADO     5.0     3.0   \n                                                NOMBRADO      23.0    24.0   \nECONOMÍA                                        CONTRATADO     NaN     2.0   \n                                                NOMBRADO      27.0    25.0   \nEDUCACION                                       CONTRATADO    22.0    17.0   \n                                                NOMBRADO      33.0    33.0   \nENFERMERÍA                                      CONTRATADO    13.0    13.0   \n                                                NOMBRADO      18.0    19.0   \nESTADÍSTICA                                     CONTRATADO     3.0     4.0   \n                                                NOMBRADO      13.0    13.0   \nINGENIERIA AGRICOLA                             CONTRATADO     1.0     1.0   \n                                                NOMBRADO      20.0    20.0   \nINGENIERIA CIVIL                                CONTRATADO     8.0     9.0   \n                                                NOMBRADO      29.0    29.0   \nINGENIERIA DE MINAS                             CONTRATADO     NaN     NaN   \n                                                NOMBRADO      16.0    16.0   \nINGENIERIA DE SISTEMAS Y TELECOMUNICACIONES     CONTRATADO     5.0     5.0   \n                                                NOMBRADO      11.0    11.0   \nINGENIERÍA SANITARIA                            CONTRATADO     1.0     1.0   \n                                                NOMBRADO      10.0     9.0   \nMATEMÁTICA                                      CONTRATADO     5.0     4.0   \n                                                NOMBRADO      36.0    36.0   \nOBSTETRICIA                                     CONTRATADO     8.0     7.0   \n                                                NOMBRADO      15.0    15.0   \nPROPEDÉUTICA                                    CONTRATADO     1.0     2.0   \n                                                NOMBRADO      11.0    10.0   \nTURISMO                                         CONTRATADO     NaN     1.0   \n                                                NOMBRADO       9.0     8.0   \n\nsemestre                                                    2019-1  2019-2  \\\ndepartamento                                    condicion                    \nADMINISTRACIÓN                                  CONTRATADO     4.0     4.0   \n                                                NOMBRADO      16.0    16.0   \nAGRONOMIA                                       CONTRATADO     2.0     2.0   \n                                                NOMBRADO      12.0    13.0   \nCIENCIA Y TECNOLOGIA DE ALIMENTOS               CONTRATADO     5.0     5.0   \n                                                NOMBRADO      18.0    17.0   \nCIENCIAS BÁSICAS                                CONTRATADO     7.0     2.0   \n                                                NOMBRADO      32.0    30.0   \nCIENCIAS DEL AMBIENTE                           CONTRATADO     6.0     8.0   \n                                                NOMBRADO      15.0    14.0   \nCIENCIAS SOCIALES Y CIENCIAS DE LA COMUNICACION CONTRATADO    13.0    13.0   \n                                                NOMBRADO      17.0    16.0   \nCONTABILIDAD                                    CONTRATADO     1.0     1.0   \n                                                NOMBRADO      19.0    18.0   \nDERECHO Y CIENCIAS POLITICAS                    CONTRATADO     3.0     2.0   \n                                                NOMBRADO      23.0    24.0   \nECONOMÍA                                        CONTRATADO     1.0     2.0   \n                                                NOMBRADO      26.0    25.0   \nEDUCACION                                       CONTRATADO    24.0    16.0   \n                                                NOMBRADO      33.0    32.0   \nENFERMERÍA                                      CONTRATADO    16.0    11.0   \n                                                NOMBRADO      18.0    19.0   \nESTADÍSTICA                                     CONTRATADO     5.0     4.0   \n                                                NOMBRADO      13.0    14.0   \nINGENIERIA AGRICOLA                             CONTRATADO     1.0     2.0   \n                                                NOMBRADO      21.0    19.0   \nINGENIERIA CIVIL                                CONTRATADO    15.0    16.0   \n                                                NOMBRADO      29.0    25.0   \nINGENIERIA DE MINAS                             CONTRATADO     NaN     NaN   \n                                                NOMBRADO      15.0    16.0   \nINGENIERIA DE SISTEMAS Y TELECOMUNICACIONES     CONTRATADO     6.0     5.0   \n                                                NOMBRADO      12.0    11.0   \nINGENIERÍA SANITARIA                            CONTRATADO     2.0     2.0   \n                                                NOMBRADO      10.0    10.0   \nMATEMÁTICA                                      CONTRATADO     8.0     7.0   \n                                                NOMBRADO      35.0    35.0   \nOBSTETRICIA                                     CONTRATADO     8.0     6.0   \n                                                NOMBRADO      16.0    16.0   \nPROPEDÉUTICA                                    CONTRATADO     1.0     4.0   \n                                                NOMBRADO      10.0     9.0   \nTURISMO                                         CONTRATADO     NaN     NaN   \n                                                NOMBRADO      10.0    10.0   \n\nsemestre                                                    2020-1  2020-2  \\\ndepartamento                                    condicion                    \nADMINISTRACIÓN                                  CONTRATADO     4.0     4.0   \n                                                NOMBRADO      18.0    17.0   \nAGRONOMIA                                       CONTRATADO     2.0     1.0   \n                                                NOMBRADO      12.0    13.0   \nCIENCIA Y TECNOLOGIA DE ALIMENTOS               CONTRATADO     5.0     5.0   \n                                                NOMBRADO      17.0    16.0   \nCIENCIAS BÁSICAS                                CONTRATADO     NaN     7.0   \n                                                NOMBRADO       NaN    28.0   \nCIENCIAS DEL AMBIENTE                           CONTRATADO     4.0     8.0   \n                                                NOMBRADO      15.0    17.0   \nCIENCIAS SOCIALES Y CIENCIAS DE LA COMUNICACION CONTRATADO     8.0    11.0   \n                                                NOMBRADO      17.0    17.0   \nCONTABILIDAD                                    CONTRATADO     1.0     1.0   \n                                                NOMBRADO      20.0    19.0   \nDERECHO Y CIENCIAS POLITICAS                    CONTRATADO     3.0     3.0   \n                                                NOMBRADO      24.0    23.0   \nECONOMÍA                                        CONTRATADO     2.0     2.0   \n                                                NOMBRADO      28.0    28.0   \nEDUCACION                                       CONTRATADO    23.0    17.0   \n                                                NOMBRADO      33.0    32.0   \nENFERMERÍA                                      CONTRATADO     NaN     2.0   \n                                                NOMBRADO      21.0    21.0   \nESTADÍSTICA                                     CONTRATADO     6.0     4.0   \n                                                NOMBRADO      14.0    14.0   \nINGENIERIA AGRICOLA                             CONTRATADO     1.0     1.0   \n                                                NOMBRADO      15.0    20.0   \nINGENIERIA CIVIL                                CONTRATADO    12.0    14.0   \n                                                NOMBRADO      29.0    33.0   \nINGENIERIA DE MINAS                             CONTRATADO     NaN     NaN   \n                                                NOMBRADO      15.0    16.0   \nINGENIERIA DE SISTEMAS Y TELECOMUNICACIONES     CONTRATADO     6.0     7.0   \n                                                NOMBRADO      10.0    10.0   \nINGENIERÍA SANITARIA                            CONTRATADO     2.0     3.0   \n                                                NOMBRADO      10.0    10.0   \nMATEMÁTICA                                      CONTRATADO     8.0     3.0   \n                                                NOMBRADO      35.0    35.0   \nOBSTETRICIA                                     CONTRATADO     2.0     2.0   \n                                                NOMBRADO      15.0    15.0   \nPROPEDÉUTICA                                    CONTRATADO     NaN     NaN   \n                                                NOMBRADO      10.0     9.0   \nTURISMO                                         CONTRATADO     NaN     NaN   \n                                                NOMBRADO      10.0    10.0   \n\nsemestre                                                    2021-1  2021-2  \\\ndepartamento                                    condicion                    \nADMINISTRACIÓN                                  CONTRATADO     5.0     3.0   \n                                                NOMBRADO      19.0    19.0   \nAGRONOMIA                                       CONTRATADO     2.0     2.0   \n                                                NOMBRADO      12.0    13.0   \nCIENCIA Y TECNOLOGIA DE ALIMENTOS               CONTRATADO     5.0     3.0   \n                                                NOMBRADO      16.0    17.0   \nCIENCIAS BÁSICAS                                CONTRATADO     9.0     2.0   \n                                                NOMBRADO      30.0    29.0   \nCIENCIAS DEL AMBIENTE                           CONTRATADO     9.0     5.0   \n                                                NOMBRADO      16.0    18.0   \nCIENCIAS SOCIALES Y CIENCIAS DE LA COMUNICACION CONTRATADO    12.0    11.0   \n                                                NOMBRADO      17.0    16.0   \nCONTABILIDAD                                    CONTRATADO     2.0     1.0   \n                                                NOMBRADO      20.0    20.0   \nDERECHO Y CIENCIAS POLITICAS                    CONTRATADO     4.0     2.0   \n                                                NOMBRADO      21.0    27.0   \nECONOMÍA                                        CONTRATADO     5.0     4.0   \n                                                NOMBRADO      28.0    27.0   \nEDUCACION                                       CONTRATADO    30.0    14.0   \n                                                NOMBRADO      32.0    32.0   \nENFERMERÍA                                      CONTRATADO     3.0     2.0   \n                                                NOMBRADO      21.0    21.0   \nESTADÍSTICA                                     CONTRATADO     4.0     4.0   \n                                                NOMBRADO      14.0    14.0   \nINGENIERIA AGRICOLA                             CONTRATADO     2.0     2.0   \n                                                NOMBRADO      20.0    20.0   \nINGENIERIA CIVIL                                CONTRATADO    19.0    17.0   \n                                                NOMBRADO      34.0    31.0   \nINGENIERIA DE MINAS                             CONTRATADO     NaN     NaN   \n                                                NOMBRADO      17.0    17.0   \nINGENIERIA DE SISTEMAS Y TELECOMUNICACIONES     CONTRATADO     7.0     5.0   \n                                                NOMBRADO      11.0    11.0   \nINGENIERÍA SANITARIA                            CONTRATADO     2.0     2.0   \n                                                NOMBRADO      10.0    11.0   \nMATEMÁTICA                                      CONTRATADO    14.0     4.0   \n                                                NOMBRADO      33.0    34.0   \nOBSTETRICIA                                     CONTRATADO     6.0     5.0   \n                                                NOMBRADO      15.0    15.0   \nPROPEDÉUTICA                                    CONTRATADO     NaN     4.0   \n                                                NOMBRADO      10.0     8.0   \nTURISMO                                         CONTRATADO     NaN     NaN   \n                                                NOMBRADO      10.0    10.0   \n\nsemestre                                                    2022-1  2022-2  \\\ndepartamento                                    condicion                    \nADMINISTRACIÓN                                  CONTRATADO     7.0     5.0   \n                                                NOMBRADO      18.0    19.0   \nAGRONOMIA                                       CONTRATADO     3.0     2.0   \n                                                NOMBRADO      13.0    13.0   \nCIENCIA Y TECNOLOGIA DE ALIMENTOS               CONTRATADO     3.0     5.0   \n                                                NOMBRADO      17.0    17.0   \nCIENCIAS BÁSICAS                                CONTRATADO     6.0     1.0   \n                                                NOMBRADO      31.0    32.0   \nCIENCIAS DEL AMBIENTE                           CONTRATADO     6.0     4.0   \n                                                NOMBRADO      16.0    16.0   \nCIENCIAS SOCIALES Y CIENCIAS DE LA COMUNICACION CONTRATADO    13.0    14.0   \n                                                NOMBRADO      16.0    16.0   \nCONTABILIDAD                                    CONTRATADO     5.0     2.0   \n                                                NOMBRADO      21.0    21.0   \nDERECHO Y CIENCIAS POLITICAS                    CONTRATADO     5.0     6.0   \n                                                NOMBRADO      26.0    24.0   \nECONOMÍA                                        CONTRATADO     6.0     5.0   \n                                                NOMBRADO      27.0    24.0   \nEDUCACION                                       CONTRATADO    27.0    17.0   \n                                                NOMBRADO      33.0    32.0   \nENFERMERÍA                                      CONTRATADO     6.0    15.0   \n                                                NOMBRADO      21.0    21.0   \nESTADÍSTICA                                     CONTRATADO     7.0     4.0   \n                                                NOMBRADO      14.0    13.0   \nINGENIERIA AGRICOLA                             CONTRATADO     4.0     3.0   \n                                                NOMBRADO      19.0    19.0   \nINGENIERIA CIVIL                                CONTRATADO    27.0    20.0   \n                                                NOMBRADO      33.0    31.0   \nINGENIERIA DE MINAS                             CONTRATADO     NaN     1.0   \n                                                NOMBRADO      17.0    15.0   \nINGENIERIA DE SISTEMAS Y TELECOMUNICACIONES     CONTRATADO    10.0     7.0   \n                                                NOMBRADO      11.0    12.0   \nINGENIERÍA SANITARIA                            CONTRATADO     3.0     5.0   \n                                                NOMBRADO      11.0    11.0   \nMATEMÁTICA                                      CONTRATADO    10.0     3.0   \n                                                NOMBRADO      35.0    33.0   \nOBSTETRICIA                                     CONTRATADO    13.0    11.0   \n                                                NOMBRADO      15.0    15.0   \nPROPEDÉUTICA                                    CONTRATADO     2.0     4.0   \n                                                NOMBRADO      10.0    10.0   \nTURISMO                                         CONTRATADO     2.0     1.0   \n                                                NOMBRADO      10.0    10.0   \n\nsemestre                                                    2023-1  \ndepartamento                                    condicion           \nADMINISTRACIÓN                                  CONTRATADO     6.0  \n                                                NOMBRADO      18.0  \nAGRONOMIA                                       CONTRATADO     3.0  \n                                                NOMBRADO      11.0  \nCIENCIA Y TECNOLOGIA DE ALIMENTOS               CONTRATADO     5.0  \n                                                NOMBRADO      17.0  \nCIENCIAS BÁSICAS                                CONTRATADO     5.0  \n                                                NOMBRADO      32.0  \nCIENCIAS DEL AMBIENTE                           CONTRATADO     3.0  \n                                                NOMBRADO      16.0  \nCIENCIAS SOCIALES Y CIENCIAS DE LA COMUNICACION CONTRATADO    12.0  \n                                                NOMBRADO      17.0  \nCONTABILIDAD                                    CONTRATADO     2.0  \n                                                NOMBRADO      21.0  \nDERECHO Y CIENCIAS POLITICAS                    CONTRATADO     7.0  \n                                                NOMBRADO      25.0  \nECONOMÍA                                        CONTRATADO     5.0  \n                                                NOMBRADO      24.0  \nEDUCACION                                       CONTRATADO    28.0  \n                                                NOMBRADO      32.0  \nENFERMERÍA                                      CONTRATADO    11.0  \n                                                NOMBRADO      20.0  \nESTADÍSTICA                                     CONTRATADO     5.0  \n                                                NOMBRADO      13.0  \nINGENIERIA AGRICOLA                             CONTRATADO     1.0  \n                                                NOMBRADO      20.0  \nINGENIERIA CIVIL                                CONTRATADO    25.0  \n                                                NOMBRADO      30.0  \nINGENIERIA DE MINAS                             CONTRATADO     1.0  \n                                                NOMBRADO      15.0  \nINGENIERIA DE SISTEMAS Y TELECOMUNICACIONES     CONTRATADO     8.0  \n                                                NOMBRADO      11.0  \nINGENIERÍA SANITARIA                            CONTRATADO     6.0  \n                                                NOMBRADO      11.0  \nMATEMÁTICA                                      CONTRATADO     8.0  \n                                                NOMBRADO      32.0  \nOBSTETRICIA                                     CONTRATADO    10.0  \n                                                NOMBRADO      15.0  \nPROPEDÉUTICA                                    CONTRATADO     2.0  \n                                                NOMBRADO       8.0  \nTURISMO                                         CONTRATADO     1.0  \n                                                NOMBRADO      10.0  ",
      "text/html": "<div>\n<style scoped>\n    .dataframe tbody tr th:only-of-type {\n        vertical-align: middle;\n    }\n\n    .dataframe tbody tr th {\n        vertical-align: top;\n    }\n\n    .dataframe thead th {\n        text-align: right;\n    }\n</style>\n<table border=\"1\" class=\"dataframe\">\n  <thead>\n    <tr style=\"text-align: right;\">\n      <th></th>\n      <th>semestre</th>\n      <th>2018-1</th>\n      <th>2018-2</th>\n      <th>2019-1</th>\n      <th>2019-2</th>\n      <th>2020-1</th>\n      <th>2020-2</th>\n      <th>2021-1</th>\n      <th>2021-2</th>\n      <th>2022-1</th>\n      <th>2022-2</th>\n      <th>2023-1</th>\n    </tr>\n    <tr>\n      <th>departamento</th>\n      <th>condicion</th>\n      <th></th>\n      <th></th>\n      <th></th>\n      <th></th>\n      <th></th>\n      <th></th>\n      <th></th>\n      <th></th>\n      <th></th>\n      <th></th>\n      <th></th>\n    </tr>\n  </thead>\n  <tbody>\n    <tr>\n      <th rowspan=\"2\" valign=\"top\">ADMINISTRACIÓN</th>\n      <th>CONTRATADO</th>\n      <td>4.0</td>\n      <td>4.0</td>\n      <td>4.0</td>\n      <td>4.0</td>\n      <td>4.0</td>\n      <td>4.0</td>\n      <td>5.0</td>\n      <td>3.0</td>\n      <td>7.0</td>\n      <td>5.0</td>\n      <td>6.0</td>\n    </tr>\n    <tr>\n      <th>NOMBRADO</th>\n      <td>18.0</td>\n      <td>18.0</td>\n      <td>16.0</td>\n      <td>16.0</td>\n      <td>18.0</td>\n      <td>17.0</td>\n      <td>19.0</td>\n      <td>19.0</td>\n      <td>18.0</td>\n      <td>19.0</td>\n      <td>18.0</td>\n    </tr>\n    <tr>\n      <th rowspan=\"2\" valign=\"top\">AGRONOMIA</th>\n      <th>CONTRATADO</th>\n      <td>3.0</td>\n      <td>2.0</td>\n      <td>2.0</td>\n      <td>2.0</td>\n      <td>2.0</td>\n      <td>1.0</td>\n      <td>2.0</td>\n      <td>2.0</td>\n      <td>3.0</td>\n      <td>2.0</td>\n      <td>3.0</td>\n    </tr>\n    <tr>\n      <th>NOMBRADO</th>\n      <td>13.0</td>\n      <td>13.0</td>\n      <td>12.0</td>\n      <td>13.0</td>\n      <td>12.0</td>\n      <td>13.0</td>\n      <td>12.0</td>\n      <td>13.0</td>\n      <td>13.0</td>\n      <td>13.0</td>\n      <td>11.0</td>\n    </tr>\n    <tr>\n      <th rowspan=\"2\" valign=\"top\">CIENCIA Y TECNOLOGIA DE ALIMENTOS</th>\n      <th>CONTRATADO</th>\n      <td>5.0</td>\n      <td>5.0</td>\n      <td>5.0</td>\n      <td>5.0</td>\n      <td>5.0</td>\n      <td>5.0</td>\n      <td>5.0</td>\n      <td>3.0</td>\n      <td>3.0</td>\n      <td>5.0</td>\n      <td>5.0</td>\n    </tr>\n    <tr>\n      <th>NOMBRADO</th>\n      <td>18.0</td>\n      <td>18.0</td>\n      <td>18.0</td>\n      <td>17.0</td>\n      <td>17.0</td>\n      <td>16.0</td>\n      <td>16.0</td>\n      <td>17.0</td>\n      <td>17.0</td>\n      <td>17.0</td>\n      <td>17.0</td>\n    </tr>\n    <tr>\n      <th rowspan=\"2\" valign=\"top\">CIENCIAS BÁSICAS</th>\n      <th>CONTRATADO</th>\n      <td>5.0</td>\n      <td>4.0</td>\n      <td>7.0</td>\n      <td>2.0</td>\n      <td>NaN</td>\n      <td>7.0</td>\n      <td>9.0</td>\n      <td>2.0</td>\n      <td>6.0</td>\n      <td>1.0</td>\n      <td>5.0</td>\n    </tr>\n    <tr>\n      <th>NOMBRADO</th>\n      <td>35.0</td>\n      <td>33.0</td>\n      <td>32.0</td>\n      <td>30.0</td>\n      <td>NaN</td>\n      <td>28.0</td>\n      <td>30.0</td>\n      <td>29.0</td>\n      <td>31.0</td>\n      <td>32.0</td>\n      <td>32.0</td>\n    </tr>\n    <tr>\n      <th rowspan=\"2\" valign=\"top\">CIENCIAS DEL AMBIENTE</th>\n      <th>CONTRATADO</th>\n      <td>8.0</td>\n      <td>8.0</td>\n      <td>6.0</td>\n      <td>8.0</td>\n      <td>4.0</td>\n      <td>8.0</td>\n      <td>9.0</td>\n      <td>5.0</td>\n      <td>6.0</td>\n      <td>4.0</td>\n      <td>3.0</td>\n    </tr>\n    <tr>\n      <th>NOMBRADO</th>\n      <td>15.0</td>\n      <td>15.0</td>\n      <td>15.0</td>\n      <td>14.0</td>\n      <td>15.0</td>\n      <td>17.0</td>\n      <td>16.0</td>\n      <td>18.0</td>\n      <td>16.0</td>\n      <td>16.0</td>\n      <td>16.0</td>\n    </tr>\n    <tr>\n      <th rowspan=\"2\" valign=\"top\">CIENCIAS SOCIALES Y CIENCIAS DE LA COMUNICACION</th>\n      <th>CONTRATADO</th>\n      <td>10.0</td>\n      <td>12.0</td>\n      <td>13.0</td>\n      <td>13.0</td>\n      <td>8.0</td>\n      <td>11.0</td>\n      <td>12.0</td>\n      <td>11.0</td>\n      <td>13.0</td>\n      <td>14.0</td>\n      <td>12.0</td>\n    </tr>\n    <tr>\n      <th>NOMBRADO</th>\n      <td>17.0</td>\n      <td>17.0</td>\n      <td>17.0</td>\n      <td>16.0</td>\n      <td>17.0</td>\n      <td>17.0</td>\n      <td>17.0</td>\n      <td>16.0</td>\n      <td>16.0</td>\n      <td>16.0</td>\n      <td>17.0</td>\n    </tr>\n    <tr>\n      <th rowspan=\"2\" valign=\"top\">CONTABILIDAD</th>\n      <th>CONTRATADO</th>\n      <td>1.0</td>\n      <td>1.0</td>\n      <td>1.0</td>\n      <td>1.0</td>\n      <td>1.0</td>\n      <td>1.0</td>\n      <td>2.0</td>\n      <td>1.0</td>\n      <td>5.0</td>\n      <td>2.0</td>\n      <td>2.0</td>\n    </tr>\n    <tr>\n      <th>NOMBRADO</th>\n      <td>19.0</td>\n      <td>18.0</td>\n      <td>19.0</td>\n      <td>18.0</td>\n      <td>20.0</td>\n      <td>19.0</td>\n      <td>20.0</td>\n      <td>20.0</td>\n      <td>21.0</td>\n      <td>21.0</td>\n      <td>21.0</td>\n    </tr>\n    <tr>\n      <th rowspan=\"2\" valign=\"top\">DERECHO Y CIENCIAS POLITICAS</th>\n      <th>CONTRATADO</th>\n      <td>5.0</td>\n      <td>3.0</td>\n      <td>3.0</td>\n      <td>2.0</td>\n      <td>3.0</td>\n      <td>3.0</td>\n      <td>4.0</td>\n      <td>2.0</td>\n      <td>5.0</td>\n      <td>6.0</td>\n      <td>7.0</td>\n    </tr>\n    <tr>\n      <th>NOMBRADO</th>\n      <td>23.0</td>\n      <td>24.0</td>\n      <td>23.0</td>\n      <td>24.0</td>\n      <td>24.0</td>\n      <td>23.0</td>\n      <td>21.0</td>\n      <td>27.0</td>\n      <td>26.0</td>\n      <td>24.0</td>\n      <td>25.0</td>\n    </tr>\n    <tr>\n      <th rowspan=\"2\" valign=\"top\">ECONOMÍA</th>\n      <th>CONTRATADO</th>\n      <td>NaN</td>\n      <td>2.0</td>\n      <td>1.0</td>\n      <td>2.0</td>\n      <td>2.0</td>\n      <td>2.0</td>\n      <td>5.0</td>\n      <td>4.0</td>\n      <td>6.0</td>\n      <td>5.0</td>\n      <td>5.0</td>\n    </tr>\n    <tr>\n      <th>NOMBRADO</th>\n      <td>27.0</td>\n      <td>25.0</td>\n      <td>26.0</td>\n      <td>25.0</td>\n      <td>28.0</td>\n      <td>28.0</td>\n      <td>28.0</td>\n      <td>27.0</td>\n      <td>27.0</td>\n      <td>24.0</td>\n      <td>24.0</td>\n    </tr>\n    <tr>\n      <th rowspan=\"2\" valign=\"top\">EDUCACION</th>\n      <th>CONTRATADO</th>\n      <td>22.0</td>\n      <td>17.0</td>\n      <td>24.0</td>\n      <td>16.0</td>\n      <td>23.0</td>\n      <td>17.0</td>\n      <td>30.0</td>\n      <td>14.0</td>\n      <td>27.0</td>\n      <td>17.0</td>\n      <td>28.0</td>\n    </tr>\n    <tr>\n      <th>NOMBRADO</th>\n      <td>33.0</td>\n      <td>33.0</td>\n      <td>33.0</td>\n      <td>32.0</td>\n      <td>33.0</td>\n      <td>32.0</td>\n      <td>32.0</td>\n      <td>32.0</td>\n      <td>33.0</td>\n      <td>32.0</td>\n      <td>32.0</td>\n    </tr>\n    <tr>\n      <th rowspan=\"2\" valign=\"top\">ENFERMERÍA</th>\n      <th>CONTRATADO</th>\n      <td>13.0</td>\n      <td>13.0</td>\n      <td>16.0</td>\n      <td>11.0</td>\n      <td>NaN</td>\n      <td>2.0</td>\n      <td>3.0</td>\n      <td>2.0</td>\n      <td>6.0</td>\n      <td>15.0</td>\n      <td>11.0</td>\n    </tr>\n    <tr>\n      <th>NOMBRADO</th>\n      <td>18.0</td>\n      <td>19.0</td>\n      <td>18.0</td>\n      <td>19.0</td>\n      <td>21.0</td>\n      <td>21.0</td>\n      <td>21.0</td>\n      <td>21.0</td>\n      <td>21.0</td>\n      <td>21.0</td>\n      <td>20.0</td>\n    </tr>\n    <tr>\n      <th rowspan=\"2\" valign=\"top\">ESTADÍSTICA</th>\n      <th>CONTRATADO</th>\n      <td>3.0</td>\n      <td>4.0</td>\n      <td>5.0</td>\n      <td>4.0</td>\n      <td>6.0</td>\n      <td>4.0</td>\n      <td>4.0</td>\n      <td>4.0</td>\n      <td>7.0</td>\n      <td>4.0</td>\n      <td>5.0</td>\n    </tr>\n    <tr>\n      <th>NOMBRADO</th>\n      <td>13.0</td>\n      <td>13.0</td>\n      <td>13.0</td>\n      <td>14.0</td>\n      <td>14.0</td>\n      <td>14.0</td>\n      <td>14.0</td>\n      <td>14.0</td>\n      <td>14.0</td>\n      <td>13.0</td>\n      <td>13.0</td>\n    </tr>\n    <tr>\n      <th rowspan=\"2\" valign=\"top\">INGENIERIA AGRICOLA</th>\n      <th>CONTRATADO</th>\n      <td>1.0</td>\n      <td>1.0</td>\n      <td>1.0</td>\n      <td>2.0</td>\n      <td>1.0</td>\n      <td>1.0</td>\n      <td>2.0</td>\n      <td>2.0</td>\n      <td>4.0</td>\n      <td>3.0</td>\n      <td>1.0</td>\n    </tr>\n    <tr>\n      <th>NOMBRADO</th>\n      <td>20.0</td>\n      <td>20.0</td>\n      <td>21.0</td>\n      <td>19.0</td>\n      <td>15.0</td>\n      <td>20.0</td>\n      <td>20.0</td>\n      <td>20.0</td>\n      <td>19.0</td>\n      <td>19.0</td>\n      <td>20.0</td>\n    </tr>\n    <tr>\n      <th rowspan=\"2\" valign=\"top\">INGENIERIA CIVIL</th>\n      <th>CONTRATADO</th>\n      <td>8.0</td>\n      <td>9.0</td>\n      <td>15.0</td>\n      <td>16.0</td>\n      <td>12.0</td>\n      <td>14.0</td>\n      <td>19.0</td>\n      <td>17.0</td>\n      <td>27.0</td>\n      <td>20.0</td>\n      <td>25.0</td>\n    </tr>\n    <tr>\n      <th>NOMBRADO</th>\n      <td>29.0</td>\n      <td>29.0</td>\n      <td>29.0</td>\n      <td>25.0</td>\n      <td>29.0</td>\n      <td>33.0</td>\n      <td>34.0</td>\n      <td>31.0</td>\n      <td>33.0</td>\n      <td>31.0</td>\n      <td>30.0</td>\n    </tr>\n    <tr>\n      <th rowspan=\"2\" valign=\"top\">INGENIERIA DE MINAS</th>\n      <th>CONTRATADO</th>\n      <td>NaN</td>\n      <td>NaN</td>\n      <td>NaN</td>\n      <td>NaN</td>\n      <td>NaN</td>\n      <td>NaN</td>\n      <td>NaN</td>\n      <td>NaN</td>\n      <td>NaN</td>\n      <td>1.0</td>\n      <td>1.0</td>\n    </tr>\n    <tr>\n      <th>NOMBRADO</th>\n      <td>16.0</td>\n      <td>16.0</td>\n      <td>15.0</td>\n      <td>16.0</td>\n      <td>15.0</td>\n      <td>16.0</td>\n      <td>17.0</td>\n      <td>17.0</td>\n      <td>17.0</td>\n      <td>15.0</td>\n      <td>15.0</td>\n    </tr>\n    <tr>\n      <th rowspan=\"2\" valign=\"top\">INGENIERIA DE SISTEMAS Y TELECOMUNICACIONES</th>\n      <th>CONTRATADO</th>\n      <td>5.0</td>\n      <td>5.0</td>\n      <td>6.0</td>\n      <td>5.0</td>\n      <td>6.0</td>\n      <td>7.0</td>\n      <td>7.0</td>\n      <td>5.0</td>\n      <td>10.0</td>\n      <td>7.0</td>\n      <td>8.0</td>\n    </tr>\n    <tr>\n      <th>NOMBRADO</th>\n      <td>11.0</td>\n      <td>11.0</td>\n      <td>12.0</td>\n      <td>11.0</td>\n      <td>10.0</td>\n      <td>10.0</td>\n      <td>11.0</td>\n      <td>11.0</td>\n      <td>11.0</td>\n      <td>12.0</td>\n      <td>11.0</td>\n    </tr>\n    <tr>\n      <th rowspan=\"2\" valign=\"top\">INGENIERÍA SANITARIA</th>\n      <th>CONTRATADO</th>\n      <td>1.0</td>\n      <td>1.0</td>\n      <td>2.0</td>\n      <td>2.0</td>\n      <td>2.0</td>\n      <td>3.0</td>\n      <td>2.0</td>\n      <td>2.0</td>\n      <td>3.0</td>\n      <td>5.0</td>\n      <td>6.0</td>\n    </tr>\n    <tr>\n      <th>NOMBRADO</th>\n      <td>10.0</td>\n      <td>9.0</td>\n      <td>10.0</td>\n      <td>10.0</td>\n      <td>10.0</td>\n      <td>10.0</td>\n      <td>10.0</td>\n      <td>11.0</td>\n      <td>11.0</td>\n      <td>11.0</td>\n      <td>11.0</td>\n    </tr>\n    <tr>\n      <th rowspan=\"2\" valign=\"top\">MATEMÁTICA</th>\n      <th>CONTRATADO</th>\n      <td>5.0</td>\n      <td>4.0</td>\n      <td>8.0</td>\n      <td>7.0</td>\n      <td>8.0</td>\n      <td>3.0</td>\n      <td>14.0</td>\n      <td>4.0</td>\n      <td>10.0</td>\n      <td>3.0</td>\n      <td>8.0</td>\n    </tr>\n    <tr>\n      <th>NOMBRADO</th>\n      <td>36.0</td>\n      <td>36.0</td>\n      <td>35.0</td>\n      <td>35.0</td>\n      <td>35.0</td>\n      <td>35.0</td>\n      <td>33.0</td>\n      <td>34.0</td>\n      <td>35.0</td>\n      <td>33.0</td>\n      <td>32.0</td>\n    </tr>\n    <tr>\n      <th rowspan=\"2\" valign=\"top\">OBSTETRICIA</th>\n      <th>CONTRATADO</th>\n      <td>8.0</td>\n      <td>7.0</td>\n      <td>8.0</td>\n      <td>6.0</td>\n      <td>2.0</td>\n      <td>2.0</td>\n      <td>6.0</td>\n      <td>5.0</td>\n      <td>13.0</td>\n      <td>11.0</td>\n      <td>10.0</td>\n    </tr>\n    <tr>\n      <th>NOMBRADO</th>\n      <td>15.0</td>\n      <td>15.0</td>\n      <td>16.0</td>\n      <td>16.0</td>\n      <td>15.0</td>\n      <td>15.0</td>\n      <td>15.0</td>\n      <td>15.0</td>\n      <td>15.0</td>\n      <td>15.0</td>\n      <td>15.0</td>\n    </tr>\n    <tr>\n      <th rowspan=\"2\" valign=\"top\">PROPEDÉUTICA</th>\n      <th>CONTRATADO</th>\n      <td>1.0</td>\n      <td>2.0</td>\n      <td>1.0</td>\n      <td>4.0</td>\n      <td>NaN</td>\n      <td>NaN</td>\n      <td>NaN</td>\n      <td>4.0</td>\n      <td>2.0</td>\n      <td>4.0</td>\n      <td>2.0</td>\n    </tr>\n    <tr>\n      <th>NOMBRADO</th>\n      <td>11.0</td>\n      <td>10.0</td>\n      <td>10.0</td>\n      <td>9.0</td>\n      <td>10.0</td>\n      <td>9.0</td>\n      <td>10.0</td>\n      <td>8.0</td>\n      <td>10.0</td>\n      <td>10.0</td>\n      <td>8.0</td>\n    </tr>\n    <tr>\n      <th rowspan=\"2\" valign=\"top\">TURISMO</th>\n      <th>CONTRATADO</th>\n      <td>NaN</td>\n      <td>1.0</td>\n      <td>NaN</td>\n      <td>NaN</td>\n      <td>NaN</td>\n      <td>NaN</td>\n      <td>NaN</td>\n      <td>NaN</td>\n      <td>2.0</td>\n      <td>1.0</td>\n      <td>1.0</td>\n    </tr>\n    <tr>\n      <th>NOMBRADO</th>\n      <td>9.0</td>\n      <td>8.0</td>\n      <td>10.0</td>\n      <td>10.0</td>\n      <td>10.0</td>\n      <td>10.0</td>\n      <td>10.0</td>\n      <td>10.0</td>\n      <td>10.0</td>\n      <td>10.0</td>\n      <td>10.0</td>\n    </tr>\n  </tbody>\n</table>\n</div>"
     },
     "execution_count": 214,
     "metadata": {},
     "output_type": "execute_result"
    }
   ],
   "source": [
    "# por departamento y por condicion cuenta la cantidad de docentes, los valores de la condicion que se convertan en columnas.\n",
    "resultado = df.groupby(['departamento', 'condicion', 'semestre']).size().unstack()\n",
    "resultado"
   ],
   "metadata": {
    "collapsed": false,
    "ExecuteTime": {
     "end_time": "2023-09-09T20:09:44.666659900Z",
     "start_time": "2023-09-09T20:09:44.586786400Z"
    }
   },
   "id": "4801f217485ef68"
  },
  {
   "cell_type": "code",
   "execution_count": 215,
   "outputs": [
    {
     "data": {
      "text/plain": "semestre                                     departamento   condicion  2018-1  \\\n0                                          ADMINISTRACIÓN  CONTRATADO     4.0   \n1                                          ADMINISTRACIÓN    NOMBRADO    18.0   \n2                                               AGRONOMIA  CONTRATADO     3.0   \n3                                               AGRONOMIA    NOMBRADO    13.0   \n4                       CIENCIA Y TECNOLOGIA DE ALIMENTOS  CONTRATADO     5.0   \n5                       CIENCIA Y TECNOLOGIA DE ALIMENTOS    NOMBRADO    18.0   \n6                                        CIENCIAS BÁSICAS  CONTRATADO     5.0   \n7                                        CIENCIAS BÁSICAS    NOMBRADO    35.0   \n8                                   CIENCIAS DEL AMBIENTE  CONTRATADO     8.0   \n9                                   CIENCIAS DEL AMBIENTE    NOMBRADO    15.0   \n10        CIENCIAS SOCIALES Y CIENCIAS DE LA COMUNICACION  CONTRATADO    10.0   \n11        CIENCIAS SOCIALES Y CIENCIAS DE LA COMUNICACION    NOMBRADO    17.0   \n12                                           CONTABILIDAD  CONTRATADO     1.0   \n13                                           CONTABILIDAD    NOMBRADO    19.0   \n14                           DERECHO Y CIENCIAS POLITICAS  CONTRATADO     5.0   \n15                           DERECHO Y CIENCIAS POLITICAS    NOMBRADO    23.0   \n16                                               ECONOMÍA  CONTRATADO     NaN   \n17                                               ECONOMÍA    NOMBRADO    27.0   \n18                                              EDUCACION  CONTRATADO    22.0   \n19                                              EDUCACION    NOMBRADO    33.0   \n20                                             ENFERMERÍA  CONTRATADO    13.0   \n21                                             ENFERMERÍA    NOMBRADO    18.0   \n22                                            ESTADÍSTICA  CONTRATADO     3.0   \n23                                            ESTADÍSTICA    NOMBRADO    13.0   \n24                                    INGENIERIA AGRICOLA  CONTRATADO     1.0   \n25                                    INGENIERIA AGRICOLA    NOMBRADO    20.0   \n26                                       INGENIERIA CIVIL  CONTRATADO     8.0   \n27                                       INGENIERIA CIVIL    NOMBRADO    29.0   \n28                                    INGENIERIA DE MINAS  CONTRATADO     NaN   \n29                                    INGENIERIA DE MINAS    NOMBRADO    16.0   \n30            INGENIERIA DE SISTEMAS Y TELECOMUNICACIONES  CONTRATADO     5.0   \n31            INGENIERIA DE SISTEMAS Y TELECOMUNICACIONES    NOMBRADO    11.0   \n32                                   INGENIERÍA SANITARIA  CONTRATADO     1.0   \n33                                   INGENIERÍA SANITARIA    NOMBRADO    10.0   \n34                                             MATEMÁTICA  CONTRATADO     5.0   \n35                                             MATEMÁTICA    NOMBRADO    36.0   \n36                                            OBSTETRICIA  CONTRATADO     8.0   \n37                                            OBSTETRICIA    NOMBRADO    15.0   \n38                                           PROPEDÉUTICA  CONTRATADO     1.0   \n39                                           PROPEDÉUTICA    NOMBRADO    11.0   \n40                                                TURISMO  CONTRATADO     NaN   \n41                                                TURISMO    NOMBRADO     9.0   \n\nsemestre  2018-2  2019-1  2019-2  2020-1  2020-2  2021-1  2021-2  2022-1  \\\n0            4.0     4.0     4.0     4.0     4.0     5.0     3.0     7.0   \n1           18.0    16.0    16.0    18.0    17.0    19.0    19.0    18.0   \n2            2.0     2.0     2.0     2.0     1.0     2.0     2.0     3.0   \n3           13.0    12.0    13.0    12.0    13.0    12.0    13.0    13.0   \n4            5.0     5.0     5.0     5.0     5.0     5.0     3.0     3.0   \n5           18.0    18.0    17.0    17.0    16.0    16.0    17.0    17.0   \n6            4.0     7.0     2.0     NaN     7.0     9.0     2.0     6.0   \n7           33.0    32.0    30.0     NaN    28.0    30.0    29.0    31.0   \n8            8.0     6.0     8.0     4.0     8.0     9.0     5.0     6.0   \n9           15.0    15.0    14.0    15.0    17.0    16.0    18.0    16.0   \n10          12.0    13.0    13.0     8.0    11.0    12.0    11.0    13.0   \n11          17.0    17.0    16.0    17.0    17.0    17.0    16.0    16.0   \n12           1.0     1.0     1.0     1.0     1.0     2.0     1.0     5.0   \n13          18.0    19.0    18.0    20.0    19.0    20.0    20.0    21.0   \n14           3.0     3.0     2.0     3.0     3.0     4.0     2.0     5.0   \n15          24.0    23.0    24.0    24.0    23.0    21.0    27.0    26.0   \n16           2.0     1.0     2.0     2.0     2.0     5.0     4.0     6.0   \n17          25.0    26.0    25.0    28.0    28.0    28.0    27.0    27.0   \n18          17.0    24.0    16.0    23.0    17.0    30.0    14.0    27.0   \n19          33.0    33.0    32.0    33.0    32.0    32.0    32.0    33.0   \n20          13.0    16.0    11.0     NaN     2.0     3.0     2.0     6.0   \n21          19.0    18.0    19.0    21.0    21.0    21.0    21.0    21.0   \n22           4.0     5.0     4.0     6.0     4.0     4.0     4.0     7.0   \n23          13.0    13.0    14.0    14.0    14.0    14.0    14.0    14.0   \n24           1.0     1.0     2.0     1.0     1.0     2.0     2.0     4.0   \n25          20.0    21.0    19.0    15.0    20.0    20.0    20.0    19.0   \n26           9.0    15.0    16.0    12.0    14.0    19.0    17.0    27.0   \n27          29.0    29.0    25.0    29.0    33.0    34.0    31.0    33.0   \n28           NaN     NaN     NaN     NaN     NaN     NaN     NaN     NaN   \n29          16.0    15.0    16.0    15.0    16.0    17.0    17.0    17.0   \n30           5.0     6.0     5.0     6.0     7.0     7.0     5.0    10.0   \n31          11.0    12.0    11.0    10.0    10.0    11.0    11.0    11.0   \n32           1.0     2.0     2.0     2.0     3.0     2.0     2.0     3.0   \n33           9.0    10.0    10.0    10.0    10.0    10.0    11.0    11.0   \n34           4.0     8.0     7.0     8.0     3.0    14.0     4.0    10.0   \n35          36.0    35.0    35.0    35.0    35.0    33.0    34.0    35.0   \n36           7.0     8.0     6.0     2.0     2.0     6.0     5.0    13.0   \n37          15.0    16.0    16.0    15.0    15.0    15.0    15.0    15.0   \n38           2.0     1.0     4.0     NaN     NaN     NaN     4.0     2.0   \n39          10.0    10.0     9.0    10.0     9.0    10.0     8.0    10.0   \n40           1.0     NaN     NaN     NaN     NaN     NaN     NaN     2.0   \n41           8.0    10.0    10.0    10.0    10.0    10.0    10.0    10.0   \n\nsemestre  2022-2  2023-1  \n0            5.0     6.0  \n1           19.0    18.0  \n2            2.0     3.0  \n3           13.0    11.0  \n4            5.0     5.0  \n5           17.0    17.0  \n6            1.0     5.0  \n7           32.0    32.0  \n8            4.0     3.0  \n9           16.0    16.0  \n10          14.0    12.0  \n11          16.0    17.0  \n12           2.0     2.0  \n13          21.0    21.0  \n14           6.0     7.0  \n15          24.0    25.0  \n16           5.0     5.0  \n17          24.0    24.0  \n18          17.0    28.0  \n19          32.0    32.0  \n20          15.0    11.0  \n21          21.0    20.0  \n22           4.0     5.0  \n23          13.0    13.0  \n24           3.0     1.0  \n25          19.0    20.0  \n26          20.0    25.0  \n27          31.0    30.0  \n28           1.0     1.0  \n29          15.0    15.0  \n30           7.0     8.0  \n31          12.0    11.0  \n32           5.0     6.0  \n33          11.0    11.0  \n34           3.0     8.0  \n35          33.0    32.0  \n36          11.0    10.0  \n37          15.0    15.0  \n38           4.0     2.0  \n39          10.0     8.0  \n40           1.0     1.0  \n41          10.0    10.0  ",
      "text/html": "<div>\n<style scoped>\n    .dataframe tbody tr th:only-of-type {\n        vertical-align: middle;\n    }\n\n    .dataframe tbody tr th {\n        vertical-align: top;\n    }\n\n    .dataframe thead th {\n        text-align: right;\n    }\n</style>\n<table border=\"1\" class=\"dataframe\">\n  <thead>\n    <tr style=\"text-align: right;\">\n      <th>semestre</th>\n      <th>departamento</th>\n      <th>condicion</th>\n      <th>2018-1</th>\n      <th>2018-2</th>\n      <th>2019-1</th>\n      <th>2019-2</th>\n      <th>2020-1</th>\n      <th>2020-2</th>\n      <th>2021-1</th>\n      <th>2021-2</th>\n      <th>2022-1</th>\n      <th>2022-2</th>\n      <th>2023-1</th>\n    </tr>\n  </thead>\n  <tbody>\n    <tr>\n      <th>0</th>\n      <td>ADMINISTRACIÓN</td>\n      <td>CONTRATADO</td>\n      <td>4.0</td>\n      <td>4.0</td>\n      <td>4.0</td>\n      <td>4.0</td>\n      <td>4.0</td>\n      <td>4.0</td>\n      <td>5.0</td>\n      <td>3.0</td>\n      <td>7.0</td>\n      <td>5.0</td>\n      <td>6.0</td>\n    </tr>\n    <tr>\n      <th>1</th>\n      <td>ADMINISTRACIÓN</td>\n      <td>NOMBRADO</td>\n      <td>18.0</td>\n      <td>18.0</td>\n      <td>16.0</td>\n      <td>16.0</td>\n      <td>18.0</td>\n      <td>17.0</td>\n      <td>19.0</td>\n      <td>19.0</td>\n      <td>18.0</td>\n      <td>19.0</td>\n      <td>18.0</td>\n    </tr>\n    <tr>\n      <th>2</th>\n      <td>AGRONOMIA</td>\n      <td>CONTRATADO</td>\n      <td>3.0</td>\n      <td>2.0</td>\n      <td>2.0</td>\n      <td>2.0</td>\n      <td>2.0</td>\n      <td>1.0</td>\n      <td>2.0</td>\n      <td>2.0</td>\n      <td>3.0</td>\n      <td>2.0</td>\n      <td>3.0</td>\n    </tr>\n    <tr>\n      <th>3</th>\n      <td>AGRONOMIA</td>\n      <td>NOMBRADO</td>\n      <td>13.0</td>\n      <td>13.0</td>\n      <td>12.0</td>\n      <td>13.0</td>\n      <td>12.0</td>\n      <td>13.0</td>\n      <td>12.0</td>\n      <td>13.0</td>\n      <td>13.0</td>\n      <td>13.0</td>\n      <td>11.0</td>\n    </tr>\n    <tr>\n      <th>4</th>\n      <td>CIENCIA Y TECNOLOGIA DE ALIMENTOS</td>\n      <td>CONTRATADO</td>\n      <td>5.0</td>\n      <td>5.0</td>\n      <td>5.0</td>\n      <td>5.0</td>\n      <td>5.0</td>\n      <td>5.0</td>\n      <td>5.0</td>\n      <td>3.0</td>\n      <td>3.0</td>\n      <td>5.0</td>\n      <td>5.0</td>\n    </tr>\n    <tr>\n      <th>5</th>\n      <td>CIENCIA Y TECNOLOGIA DE ALIMENTOS</td>\n      <td>NOMBRADO</td>\n      <td>18.0</td>\n      <td>18.0</td>\n      <td>18.0</td>\n      <td>17.0</td>\n      <td>17.0</td>\n      <td>16.0</td>\n      <td>16.0</td>\n      <td>17.0</td>\n      <td>17.0</td>\n      <td>17.0</td>\n      <td>17.0</td>\n    </tr>\n    <tr>\n      <th>6</th>\n      <td>CIENCIAS BÁSICAS</td>\n      <td>CONTRATADO</td>\n      <td>5.0</td>\n      <td>4.0</td>\n      <td>7.0</td>\n      <td>2.0</td>\n      <td>NaN</td>\n      <td>7.0</td>\n      <td>9.0</td>\n      <td>2.0</td>\n      <td>6.0</td>\n      <td>1.0</td>\n      <td>5.0</td>\n    </tr>\n    <tr>\n      <th>7</th>\n      <td>CIENCIAS BÁSICAS</td>\n      <td>NOMBRADO</td>\n      <td>35.0</td>\n      <td>33.0</td>\n      <td>32.0</td>\n      <td>30.0</td>\n      <td>NaN</td>\n      <td>28.0</td>\n      <td>30.0</td>\n      <td>29.0</td>\n      <td>31.0</td>\n      <td>32.0</td>\n      <td>32.0</td>\n    </tr>\n    <tr>\n      <th>8</th>\n      <td>CIENCIAS DEL AMBIENTE</td>\n      <td>CONTRATADO</td>\n      <td>8.0</td>\n      <td>8.0</td>\n      <td>6.0</td>\n      <td>8.0</td>\n      <td>4.0</td>\n      <td>8.0</td>\n      <td>9.0</td>\n      <td>5.0</td>\n      <td>6.0</td>\n      <td>4.0</td>\n      <td>3.0</td>\n    </tr>\n    <tr>\n      <th>9</th>\n      <td>CIENCIAS DEL AMBIENTE</td>\n      <td>NOMBRADO</td>\n      <td>15.0</td>\n      <td>15.0</td>\n      <td>15.0</td>\n      <td>14.0</td>\n      <td>15.0</td>\n      <td>17.0</td>\n      <td>16.0</td>\n      <td>18.0</td>\n      <td>16.0</td>\n      <td>16.0</td>\n      <td>16.0</td>\n    </tr>\n    <tr>\n      <th>10</th>\n      <td>CIENCIAS SOCIALES Y CIENCIAS DE LA COMUNICACION</td>\n      <td>CONTRATADO</td>\n      <td>10.0</td>\n      <td>12.0</td>\n      <td>13.0</td>\n      <td>13.0</td>\n      <td>8.0</td>\n      <td>11.0</td>\n      <td>12.0</td>\n      <td>11.0</td>\n      <td>13.0</td>\n      <td>14.0</td>\n      <td>12.0</td>\n    </tr>\n    <tr>\n      <th>11</th>\n      <td>CIENCIAS SOCIALES Y CIENCIAS DE LA COMUNICACION</td>\n      <td>NOMBRADO</td>\n      <td>17.0</td>\n      <td>17.0</td>\n      <td>17.0</td>\n      <td>16.0</td>\n      <td>17.0</td>\n      <td>17.0</td>\n      <td>17.0</td>\n      <td>16.0</td>\n      <td>16.0</td>\n      <td>16.0</td>\n      <td>17.0</td>\n    </tr>\n    <tr>\n      <th>12</th>\n      <td>CONTABILIDAD</td>\n      <td>CONTRATADO</td>\n      <td>1.0</td>\n      <td>1.0</td>\n      <td>1.0</td>\n      <td>1.0</td>\n      <td>1.0</td>\n      <td>1.0</td>\n      <td>2.0</td>\n      <td>1.0</td>\n      <td>5.0</td>\n      <td>2.0</td>\n      <td>2.0</td>\n    </tr>\n    <tr>\n      <th>13</th>\n      <td>CONTABILIDAD</td>\n      <td>NOMBRADO</td>\n      <td>19.0</td>\n      <td>18.0</td>\n      <td>19.0</td>\n      <td>18.0</td>\n      <td>20.0</td>\n      <td>19.0</td>\n      <td>20.0</td>\n      <td>20.0</td>\n      <td>21.0</td>\n      <td>21.0</td>\n      <td>21.0</td>\n    </tr>\n    <tr>\n      <th>14</th>\n      <td>DERECHO Y CIENCIAS POLITICAS</td>\n      <td>CONTRATADO</td>\n      <td>5.0</td>\n      <td>3.0</td>\n      <td>3.0</td>\n      <td>2.0</td>\n      <td>3.0</td>\n      <td>3.0</td>\n      <td>4.0</td>\n      <td>2.0</td>\n      <td>5.0</td>\n      <td>6.0</td>\n      <td>7.0</td>\n    </tr>\n    <tr>\n      <th>15</th>\n      <td>DERECHO Y CIENCIAS POLITICAS</td>\n      <td>NOMBRADO</td>\n      <td>23.0</td>\n      <td>24.0</td>\n      <td>23.0</td>\n      <td>24.0</td>\n      <td>24.0</td>\n      <td>23.0</td>\n      <td>21.0</td>\n      <td>27.0</td>\n      <td>26.0</td>\n      <td>24.0</td>\n      <td>25.0</td>\n    </tr>\n    <tr>\n      <th>16</th>\n      <td>ECONOMÍA</td>\n      <td>CONTRATADO</td>\n      <td>NaN</td>\n      <td>2.0</td>\n      <td>1.0</td>\n      <td>2.0</td>\n      <td>2.0</td>\n      <td>2.0</td>\n      <td>5.0</td>\n      <td>4.0</td>\n      <td>6.0</td>\n      <td>5.0</td>\n      <td>5.0</td>\n    </tr>\n    <tr>\n      <th>17</th>\n      <td>ECONOMÍA</td>\n      <td>NOMBRADO</td>\n      <td>27.0</td>\n      <td>25.0</td>\n      <td>26.0</td>\n      <td>25.0</td>\n      <td>28.0</td>\n      <td>28.0</td>\n      <td>28.0</td>\n      <td>27.0</td>\n      <td>27.0</td>\n      <td>24.0</td>\n      <td>24.0</td>\n    </tr>\n    <tr>\n      <th>18</th>\n      <td>EDUCACION</td>\n      <td>CONTRATADO</td>\n      <td>22.0</td>\n      <td>17.0</td>\n      <td>24.0</td>\n      <td>16.0</td>\n      <td>23.0</td>\n      <td>17.0</td>\n      <td>30.0</td>\n      <td>14.0</td>\n      <td>27.0</td>\n      <td>17.0</td>\n      <td>28.0</td>\n    </tr>\n    <tr>\n      <th>19</th>\n      <td>EDUCACION</td>\n      <td>NOMBRADO</td>\n      <td>33.0</td>\n      <td>33.0</td>\n      <td>33.0</td>\n      <td>32.0</td>\n      <td>33.0</td>\n      <td>32.0</td>\n      <td>32.0</td>\n      <td>32.0</td>\n      <td>33.0</td>\n      <td>32.0</td>\n      <td>32.0</td>\n    </tr>\n    <tr>\n      <th>20</th>\n      <td>ENFERMERÍA</td>\n      <td>CONTRATADO</td>\n      <td>13.0</td>\n      <td>13.0</td>\n      <td>16.0</td>\n      <td>11.0</td>\n      <td>NaN</td>\n      <td>2.0</td>\n      <td>3.0</td>\n      <td>2.0</td>\n      <td>6.0</td>\n      <td>15.0</td>\n      <td>11.0</td>\n    </tr>\n    <tr>\n      <th>21</th>\n      <td>ENFERMERÍA</td>\n      <td>NOMBRADO</td>\n      <td>18.0</td>\n      <td>19.0</td>\n      <td>18.0</td>\n      <td>19.0</td>\n      <td>21.0</td>\n      <td>21.0</td>\n      <td>21.0</td>\n      <td>21.0</td>\n      <td>21.0</td>\n      <td>21.0</td>\n      <td>20.0</td>\n    </tr>\n    <tr>\n      <th>22</th>\n      <td>ESTADÍSTICA</td>\n      <td>CONTRATADO</td>\n      <td>3.0</td>\n      <td>4.0</td>\n      <td>5.0</td>\n      <td>4.0</td>\n      <td>6.0</td>\n      <td>4.0</td>\n      <td>4.0</td>\n      <td>4.0</td>\n      <td>7.0</td>\n      <td>4.0</td>\n      <td>5.0</td>\n    </tr>\n    <tr>\n      <th>23</th>\n      <td>ESTADÍSTICA</td>\n      <td>NOMBRADO</td>\n      <td>13.0</td>\n      <td>13.0</td>\n      <td>13.0</td>\n      <td>14.0</td>\n      <td>14.0</td>\n      <td>14.0</td>\n      <td>14.0</td>\n      <td>14.0</td>\n      <td>14.0</td>\n      <td>13.0</td>\n      <td>13.0</td>\n    </tr>\n    <tr>\n      <th>24</th>\n      <td>INGENIERIA AGRICOLA</td>\n      <td>CONTRATADO</td>\n      <td>1.0</td>\n      <td>1.0</td>\n      <td>1.0</td>\n      <td>2.0</td>\n      <td>1.0</td>\n      <td>1.0</td>\n      <td>2.0</td>\n      <td>2.0</td>\n      <td>4.0</td>\n      <td>3.0</td>\n      <td>1.0</td>\n    </tr>\n    <tr>\n      <th>25</th>\n      <td>INGENIERIA AGRICOLA</td>\n      <td>NOMBRADO</td>\n      <td>20.0</td>\n      <td>20.0</td>\n      <td>21.0</td>\n      <td>19.0</td>\n      <td>15.0</td>\n      <td>20.0</td>\n      <td>20.0</td>\n      <td>20.0</td>\n      <td>19.0</td>\n      <td>19.0</td>\n      <td>20.0</td>\n    </tr>\n    <tr>\n      <th>26</th>\n      <td>INGENIERIA CIVIL</td>\n      <td>CONTRATADO</td>\n      <td>8.0</td>\n      <td>9.0</td>\n      <td>15.0</td>\n      <td>16.0</td>\n      <td>12.0</td>\n      <td>14.0</td>\n      <td>19.0</td>\n      <td>17.0</td>\n      <td>27.0</td>\n      <td>20.0</td>\n      <td>25.0</td>\n    </tr>\n    <tr>\n      <th>27</th>\n      <td>INGENIERIA CIVIL</td>\n      <td>NOMBRADO</td>\n      <td>29.0</td>\n      <td>29.0</td>\n      <td>29.0</td>\n      <td>25.0</td>\n      <td>29.0</td>\n      <td>33.0</td>\n      <td>34.0</td>\n      <td>31.0</td>\n      <td>33.0</td>\n      <td>31.0</td>\n      <td>30.0</td>\n    </tr>\n    <tr>\n      <th>28</th>\n      <td>INGENIERIA DE MINAS</td>\n      <td>CONTRATADO</td>\n      <td>NaN</td>\n      <td>NaN</td>\n      <td>NaN</td>\n      <td>NaN</td>\n      <td>NaN</td>\n      <td>NaN</td>\n      <td>NaN</td>\n      <td>NaN</td>\n      <td>NaN</td>\n      <td>1.0</td>\n      <td>1.0</td>\n    </tr>\n    <tr>\n      <th>29</th>\n      <td>INGENIERIA DE MINAS</td>\n      <td>NOMBRADO</td>\n      <td>16.0</td>\n      <td>16.0</td>\n      <td>15.0</td>\n      <td>16.0</td>\n      <td>15.0</td>\n      <td>16.0</td>\n      <td>17.0</td>\n      <td>17.0</td>\n      <td>17.0</td>\n      <td>15.0</td>\n      <td>15.0</td>\n    </tr>\n    <tr>\n      <th>30</th>\n      <td>INGENIERIA DE SISTEMAS Y TELECOMUNICACIONES</td>\n      <td>CONTRATADO</td>\n      <td>5.0</td>\n      <td>5.0</td>\n      <td>6.0</td>\n      <td>5.0</td>\n      <td>6.0</td>\n      <td>7.0</td>\n      <td>7.0</td>\n      <td>5.0</td>\n      <td>10.0</td>\n      <td>7.0</td>\n      <td>8.0</td>\n    </tr>\n    <tr>\n      <th>31</th>\n      <td>INGENIERIA DE SISTEMAS Y TELECOMUNICACIONES</td>\n      <td>NOMBRADO</td>\n      <td>11.0</td>\n      <td>11.0</td>\n      <td>12.0</td>\n      <td>11.0</td>\n      <td>10.0</td>\n      <td>10.0</td>\n      <td>11.0</td>\n      <td>11.0</td>\n      <td>11.0</td>\n      <td>12.0</td>\n      <td>11.0</td>\n    </tr>\n    <tr>\n      <th>32</th>\n      <td>INGENIERÍA SANITARIA</td>\n      <td>CONTRATADO</td>\n      <td>1.0</td>\n      <td>1.0</td>\n      <td>2.0</td>\n      <td>2.0</td>\n      <td>2.0</td>\n      <td>3.0</td>\n      <td>2.0</td>\n      <td>2.0</td>\n      <td>3.0</td>\n      <td>5.0</td>\n      <td>6.0</td>\n    </tr>\n    <tr>\n      <th>33</th>\n      <td>INGENIERÍA SANITARIA</td>\n      <td>NOMBRADO</td>\n      <td>10.0</td>\n      <td>9.0</td>\n      <td>10.0</td>\n      <td>10.0</td>\n      <td>10.0</td>\n      <td>10.0</td>\n      <td>10.0</td>\n      <td>11.0</td>\n      <td>11.0</td>\n      <td>11.0</td>\n      <td>11.0</td>\n    </tr>\n    <tr>\n      <th>34</th>\n      <td>MATEMÁTICA</td>\n      <td>CONTRATADO</td>\n      <td>5.0</td>\n      <td>4.0</td>\n      <td>8.0</td>\n      <td>7.0</td>\n      <td>8.0</td>\n      <td>3.0</td>\n      <td>14.0</td>\n      <td>4.0</td>\n      <td>10.0</td>\n      <td>3.0</td>\n      <td>8.0</td>\n    </tr>\n    <tr>\n      <th>35</th>\n      <td>MATEMÁTICA</td>\n      <td>NOMBRADO</td>\n      <td>36.0</td>\n      <td>36.0</td>\n      <td>35.0</td>\n      <td>35.0</td>\n      <td>35.0</td>\n      <td>35.0</td>\n      <td>33.0</td>\n      <td>34.0</td>\n      <td>35.0</td>\n      <td>33.0</td>\n      <td>32.0</td>\n    </tr>\n    <tr>\n      <th>36</th>\n      <td>OBSTETRICIA</td>\n      <td>CONTRATADO</td>\n      <td>8.0</td>\n      <td>7.0</td>\n      <td>8.0</td>\n      <td>6.0</td>\n      <td>2.0</td>\n      <td>2.0</td>\n      <td>6.0</td>\n      <td>5.0</td>\n      <td>13.0</td>\n      <td>11.0</td>\n      <td>10.0</td>\n    </tr>\n    <tr>\n      <th>37</th>\n      <td>OBSTETRICIA</td>\n      <td>NOMBRADO</td>\n      <td>15.0</td>\n      <td>15.0</td>\n      <td>16.0</td>\n      <td>16.0</td>\n      <td>15.0</td>\n      <td>15.0</td>\n      <td>15.0</td>\n      <td>15.0</td>\n      <td>15.0</td>\n      <td>15.0</td>\n      <td>15.0</td>\n    </tr>\n    <tr>\n      <th>38</th>\n      <td>PROPEDÉUTICA</td>\n      <td>CONTRATADO</td>\n      <td>1.0</td>\n      <td>2.0</td>\n      <td>1.0</td>\n      <td>4.0</td>\n      <td>NaN</td>\n      <td>NaN</td>\n      <td>NaN</td>\n      <td>4.0</td>\n      <td>2.0</td>\n      <td>4.0</td>\n      <td>2.0</td>\n    </tr>\n    <tr>\n      <th>39</th>\n      <td>PROPEDÉUTICA</td>\n      <td>NOMBRADO</td>\n      <td>11.0</td>\n      <td>10.0</td>\n      <td>10.0</td>\n      <td>9.0</td>\n      <td>10.0</td>\n      <td>9.0</td>\n      <td>10.0</td>\n      <td>8.0</td>\n      <td>10.0</td>\n      <td>10.0</td>\n      <td>8.0</td>\n    </tr>\n    <tr>\n      <th>40</th>\n      <td>TURISMO</td>\n      <td>CONTRATADO</td>\n      <td>NaN</td>\n      <td>1.0</td>\n      <td>NaN</td>\n      <td>NaN</td>\n      <td>NaN</td>\n      <td>NaN</td>\n      <td>NaN</td>\n      <td>NaN</td>\n      <td>2.0</td>\n      <td>1.0</td>\n      <td>1.0</td>\n    </tr>\n    <tr>\n      <th>41</th>\n      <td>TURISMO</td>\n      <td>NOMBRADO</td>\n      <td>9.0</td>\n      <td>8.0</td>\n      <td>10.0</td>\n      <td>10.0</td>\n      <td>10.0</td>\n      <td>10.0</td>\n      <td>10.0</td>\n      <td>10.0</td>\n      <td>10.0</td>\n      <td>10.0</td>\n      <td>10.0</td>\n    </tr>\n  </tbody>\n</table>\n</div>"
     },
     "execution_count": 215,
     "metadata": {},
     "output_type": "execute_result"
    }
   ],
   "source": [
    "resultado = resultado.reset_index()\n",
    "resultado"
   ],
   "metadata": {
    "collapsed": false,
    "ExecuteTime": {
     "end_time": "2023-09-09T20:09:49.034193100Z",
     "start_time": "2023-09-09T20:09:48.949716300Z"
    }
   },
   "id": "46061bb57baefd6f"
  },
  {
   "cell_type": "code",
   "execution_count": 216,
   "outputs": [],
   "source": [
    "resultado = resultado.fillna(0)"
   ],
   "metadata": {
    "collapsed": false,
    "ExecuteTime": {
     "end_time": "2023-09-09T20:09:57.055069800Z",
     "start_time": "2023-09-09T20:09:57.031487200Z"
    }
   },
   "id": "ce3922831568266c"
  },
  {
   "cell_type": "code",
   "execution_count": 217,
   "outputs": [],
   "source": [
    "for columna in resultado.columns[2:]:\n",
    "    resultado[columna] = resultado[columna].astype(int)"
   ],
   "metadata": {
    "collapsed": false,
    "ExecuteTime": {
     "end_time": "2023-09-09T20:09:57.875678300Z",
     "start_time": "2023-09-09T20:09:57.821361500Z"
    }
   },
   "id": "d4150e22cffec5ca"
  },
  {
   "cell_type": "code",
   "execution_count": 218,
   "outputs": [
    {
     "data": {
      "text/plain": "semestre                                     departamento   condicion  2018-1  \\\n0                                          ADMINISTRACIÓN  CONTRATADO       4   \n1                                          ADMINISTRACIÓN    NOMBRADO      18   \n2                                               AGRONOMIA  CONTRATADO       3   \n3                                               AGRONOMIA    NOMBRADO      13   \n4                       CIENCIA Y TECNOLOGIA DE ALIMENTOS  CONTRATADO       5   \n5                       CIENCIA Y TECNOLOGIA DE ALIMENTOS    NOMBRADO      18   \n6                                        CIENCIAS BÁSICAS  CONTRATADO       5   \n7                                        CIENCIAS BÁSICAS    NOMBRADO      35   \n8                                   CIENCIAS DEL AMBIENTE  CONTRATADO       8   \n9                                   CIENCIAS DEL AMBIENTE    NOMBRADO      15   \n10        CIENCIAS SOCIALES Y CIENCIAS DE LA COMUNICACION  CONTRATADO      10   \n11        CIENCIAS SOCIALES Y CIENCIAS DE LA COMUNICACION    NOMBRADO      17   \n12                                           CONTABILIDAD  CONTRATADO       1   \n13                                           CONTABILIDAD    NOMBRADO      19   \n14                           DERECHO Y CIENCIAS POLITICAS  CONTRATADO       5   \n15                           DERECHO Y CIENCIAS POLITICAS    NOMBRADO      23   \n16                                               ECONOMÍA  CONTRATADO       0   \n17                                               ECONOMÍA    NOMBRADO      27   \n18                                              EDUCACION  CONTRATADO      22   \n19                                              EDUCACION    NOMBRADO      33   \n20                                             ENFERMERÍA  CONTRATADO      13   \n21                                             ENFERMERÍA    NOMBRADO      18   \n22                                            ESTADÍSTICA  CONTRATADO       3   \n23                                            ESTADÍSTICA    NOMBRADO      13   \n24                                    INGENIERIA AGRICOLA  CONTRATADO       1   \n25                                    INGENIERIA AGRICOLA    NOMBRADO      20   \n26                                       INGENIERIA CIVIL  CONTRATADO       8   \n27                                       INGENIERIA CIVIL    NOMBRADO      29   \n28                                    INGENIERIA DE MINAS  CONTRATADO       0   \n29                                    INGENIERIA DE MINAS    NOMBRADO      16   \n30            INGENIERIA DE SISTEMAS Y TELECOMUNICACIONES  CONTRATADO       5   \n31            INGENIERIA DE SISTEMAS Y TELECOMUNICACIONES    NOMBRADO      11   \n32                                   INGENIERÍA SANITARIA  CONTRATADO       1   \n33                                   INGENIERÍA SANITARIA    NOMBRADO      10   \n34                                             MATEMÁTICA  CONTRATADO       5   \n35                                             MATEMÁTICA    NOMBRADO      36   \n36                                            OBSTETRICIA  CONTRATADO       8   \n37                                            OBSTETRICIA    NOMBRADO      15   \n38                                           PROPEDÉUTICA  CONTRATADO       1   \n39                                           PROPEDÉUTICA    NOMBRADO      11   \n40                                                TURISMO  CONTRATADO       0   \n41                                                TURISMO    NOMBRADO       9   \n\nsemestre  2018-2  2019-1  2019-2  2020-1  2020-2  2021-1  2021-2  2022-1  \\\n0              4       4       4       4       4       5       3       7   \n1             18      16      16      18      17      19      19      18   \n2              2       2       2       2       1       2       2       3   \n3             13      12      13      12      13      12      13      13   \n4              5       5       5       5       5       5       3       3   \n5             18      18      17      17      16      16      17      17   \n6              4       7       2       0       7       9       2       6   \n7             33      32      30       0      28      30      29      31   \n8              8       6       8       4       8       9       5       6   \n9             15      15      14      15      17      16      18      16   \n10            12      13      13       8      11      12      11      13   \n11            17      17      16      17      17      17      16      16   \n12             1       1       1       1       1       2       1       5   \n13            18      19      18      20      19      20      20      21   \n14             3       3       2       3       3       4       2       5   \n15            24      23      24      24      23      21      27      26   \n16             2       1       2       2       2       5       4       6   \n17            25      26      25      28      28      28      27      27   \n18            17      24      16      23      17      30      14      27   \n19            33      33      32      33      32      32      32      33   \n20            13      16      11       0       2       3       2       6   \n21            19      18      19      21      21      21      21      21   \n22             4       5       4       6       4       4       4       7   \n23            13      13      14      14      14      14      14      14   \n24             1       1       2       1       1       2       2       4   \n25            20      21      19      15      20      20      20      19   \n26             9      15      16      12      14      19      17      27   \n27            29      29      25      29      33      34      31      33   \n28             0       0       0       0       0       0       0       0   \n29            16      15      16      15      16      17      17      17   \n30             5       6       5       6       7       7       5      10   \n31            11      12      11      10      10      11      11      11   \n32             1       2       2       2       3       2       2       3   \n33             9      10      10      10      10      10      11      11   \n34             4       8       7       8       3      14       4      10   \n35            36      35      35      35      35      33      34      35   \n36             7       8       6       2       2       6       5      13   \n37            15      16      16      15      15      15      15      15   \n38             2       1       4       0       0       0       4       2   \n39            10      10       9      10       9      10       8      10   \n40             1       0       0       0       0       0       0       2   \n41             8      10      10      10      10      10      10      10   \n\nsemestre  2022-2  2023-1  \n0              5       6  \n1             19      18  \n2              2       3  \n3             13      11  \n4              5       5  \n5             17      17  \n6              1       5  \n7             32      32  \n8              4       3  \n9             16      16  \n10            14      12  \n11            16      17  \n12             2       2  \n13            21      21  \n14             6       7  \n15            24      25  \n16             5       5  \n17            24      24  \n18            17      28  \n19            32      32  \n20            15      11  \n21            21      20  \n22             4       5  \n23            13      13  \n24             3       1  \n25            19      20  \n26            20      25  \n27            31      30  \n28             1       1  \n29            15      15  \n30             7       8  \n31            12      11  \n32             5       6  \n33            11      11  \n34             3       8  \n35            33      32  \n36            11      10  \n37            15      15  \n38             4       2  \n39            10       8  \n40             1       1  \n41            10      10  ",
      "text/html": "<div>\n<style scoped>\n    .dataframe tbody tr th:only-of-type {\n        vertical-align: middle;\n    }\n\n    .dataframe tbody tr th {\n        vertical-align: top;\n    }\n\n    .dataframe thead th {\n        text-align: right;\n    }\n</style>\n<table border=\"1\" class=\"dataframe\">\n  <thead>\n    <tr style=\"text-align: right;\">\n      <th>semestre</th>\n      <th>departamento</th>\n      <th>condicion</th>\n      <th>2018-1</th>\n      <th>2018-2</th>\n      <th>2019-1</th>\n      <th>2019-2</th>\n      <th>2020-1</th>\n      <th>2020-2</th>\n      <th>2021-1</th>\n      <th>2021-2</th>\n      <th>2022-1</th>\n      <th>2022-2</th>\n      <th>2023-1</th>\n    </tr>\n  </thead>\n  <tbody>\n    <tr>\n      <th>0</th>\n      <td>ADMINISTRACIÓN</td>\n      <td>CONTRATADO</td>\n      <td>4</td>\n      <td>4</td>\n      <td>4</td>\n      <td>4</td>\n      <td>4</td>\n      <td>4</td>\n      <td>5</td>\n      <td>3</td>\n      <td>7</td>\n      <td>5</td>\n      <td>6</td>\n    </tr>\n    <tr>\n      <th>1</th>\n      <td>ADMINISTRACIÓN</td>\n      <td>NOMBRADO</td>\n      <td>18</td>\n      <td>18</td>\n      <td>16</td>\n      <td>16</td>\n      <td>18</td>\n      <td>17</td>\n      <td>19</td>\n      <td>19</td>\n      <td>18</td>\n      <td>19</td>\n      <td>18</td>\n    </tr>\n    <tr>\n      <th>2</th>\n      <td>AGRONOMIA</td>\n      <td>CONTRATADO</td>\n      <td>3</td>\n      <td>2</td>\n      <td>2</td>\n      <td>2</td>\n      <td>2</td>\n      <td>1</td>\n      <td>2</td>\n      <td>2</td>\n      <td>3</td>\n      <td>2</td>\n      <td>3</td>\n    </tr>\n    <tr>\n      <th>3</th>\n      <td>AGRONOMIA</td>\n      <td>NOMBRADO</td>\n      <td>13</td>\n      <td>13</td>\n      <td>12</td>\n      <td>13</td>\n      <td>12</td>\n      <td>13</td>\n      <td>12</td>\n      <td>13</td>\n      <td>13</td>\n      <td>13</td>\n      <td>11</td>\n    </tr>\n    <tr>\n      <th>4</th>\n      <td>CIENCIA Y TECNOLOGIA DE ALIMENTOS</td>\n      <td>CONTRATADO</td>\n      <td>5</td>\n      <td>5</td>\n      <td>5</td>\n      <td>5</td>\n      <td>5</td>\n      <td>5</td>\n      <td>5</td>\n      <td>3</td>\n      <td>3</td>\n      <td>5</td>\n      <td>5</td>\n    </tr>\n    <tr>\n      <th>5</th>\n      <td>CIENCIA Y TECNOLOGIA DE ALIMENTOS</td>\n      <td>NOMBRADO</td>\n      <td>18</td>\n      <td>18</td>\n      <td>18</td>\n      <td>17</td>\n      <td>17</td>\n      <td>16</td>\n      <td>16</td>\n      <td>17</td>\n      <td>17</td>\n      <td>17</td>\n      <td>17</td>\n    </tr>\n    <tr>\n      <th>6</th>\n      <td>CIENCIAS BÁSICAS</td>\n      <td>CONTRATADO</td>\n      <td>5</td>\n      <td>4</td>\n      <td>7</td>\n      <td>2</td>\n      <td>0</td>\n      <td>7</td>\n      <td>9</td>\n      <td>2</td>\n      <td>6</td>\n      <td>1</td>\n      <td>5</td>\n    </tr>\n    <tr>\n      <th>7</th>\n      <td>CIENCIAS BÁSICAS</td>\n      <td>NOMBRADO</td>\n      <td>35</td>\n      <td>33</td>\n      <td>32</td>\n      <td>30</td>\n      <td>0</td>\n      <td>28</td>\n      <td>30</td>\n      <td>29</td>\n      <td>31</td>\n      <td>32</td>\n      <td>32</td>\n    </tr>\n    <tr>\n      <th>8</th>\n      <td>CIENCIAS DEL AMBIENTE</td>\n      <td>CONTRATADO</td>\n      <td>8</td>\n      <td>8</td>\n      <td>6</td>\n      <td>8</td>\n      <td>4</td>\n      <td>8</td>\n      <td>9</td>\n      <td>5</td>\n      <td>6</td>\n      <td>4</td>\n      <td>3</td>\n    </tr>\n    <tr>\n      <th>9</th>\n      <td>CIENCIAS DEL AMBIENTE</td>\n      <td>NOMBRADO</td>\n      <td>15</td>\n      <td>15</td>\n      <td>15</td>\n      <td>14</td>\n      <td>15</td>\n      <td>17</td>\n      <td>16</td>\n      <td>18</td>\n      <td>16</td>\n      <td>16</td>\n      <td>16</td>\n    </tr>\n    <tr>\n      <th>10</th>\n      <td>CIENCIAS SOCIALES Y CIENCIAS DE LA COMUNICACION</td>\n      <td>CONTRATADO</td>\n      <td>10</td>\n      <td>12</td>\n      <td>13</td>\n      <td>13</td>\n      <td>8</td>\n      <td>11</td>\n      <td>12</td>\n      <td>11</td>\n      <td>13</td>\n      <td>14</td>\n      <td>12</td>\n    </tr>\n    <tr>\n      <th>11</th>\n      <td>CIENCIAS SOCIALES Y CIENCIAS DE LA COMUNICACION</td>\n      <td>NOMBRADO</td>\n      <td>17</td>\n      <td>17</td>\n      <td>17</td>\n      <td>16</td>\n      <td>17</td>\n      <td>17</td>\n      <td>17</td>\n      <td>16</td>\n      <td>16</td>\n      <td>16</td>\n      <td>17</td>\n    </tr>\n    <tr>\n      <th>12</th>\n      <td>CONTABILIDAD</td>\n      <td>CONTRATADO</td>\n      <td>1</td>\n      <td>1</td>\n      <td>1</td>\n      <td>1</td>\n      <td>1</td>\n      <td>1</td>\n      <td>2</td>\n      <td>1</td>\n      <td>5</td>\n      <td>2</td>\n      <td>2</td>\n    </tr>\n    <tr>\n      <th>13</th>\n      <td>CONTABILIDAD</td>\n      <td>NOMBRADO</td>\n      <td>19</td>\n      <td>18</td>\n      <td>19</td>\n      <td>18</td>\n      <td>20</td>\n      <td>19</td>\n      <td>20</td>\n      <td>20</td>\n      <td>21</td>\n      <td>21</td>\n      <td>21</td>\n    </tr>\n    <tr>\n      <th>14</th>\n      <td>DERECHO Y CIENCIAS POLITICAS</td>\n      <td>CONTRATADO</td>\n      <td>5</td>\n      <td>3</td>\n      <td>3</td>\n      <td>2</td>\n      <td>3</td>\n      <td>3</td>\n      <td>4</td>\n      <td>2</td>\n      <td>5</td>\n      <td>6</td>\n      <td>7</td>\n    </tr>\n    <tr>\n      <th>15</th>\n      <td>DERECHO Y CIENCIAS POLITICAS</td>\n      <td>NOMBRADO</td>\n      <td>23</td>\n      <td>24</td>\n      <td>23</td>\n      <td>24</td>\n      <td>24</td>\n      <td>23</td>\n      <td>21</td>\n      <td>27</td>\n      <td>26</td>\n      <td>24</td>\n      <td>25</td>\n    </tr>\n    <tr>\n      <th>16</th>\n      <td>ECONOMÍA</td>\n      <td>CONTRATADO</td>\n      <td>0</td>\n      <td>2</td>\n      <td>1</td>\n      <td>2</td>\n      <td>2</td>\n      <td>2</td>\n      <td>5</td>\n      <td>4</td>\n      <td>6</td>\n      <td>5</td>\n      <td>5</td>\n    </tr>\n    <tr>\n      <th>17</th>\n      <td>ECONOMÍA</td>\n      <td>NOMBRADO</td>\n      <td>27</td>\n      <td>25</td>\n      <td>26</td>\n      <td>25</td>\n      <td>28</td>\n      <td>28</td>\n      <td>28</td>\n      <td>27</td>\n      <td>27</td>\n      <td>24</td>\n      <td>24</td>\n    </tr>\n    <tr>\n      <th>18</th>\n      <td>EDUCACION</td>\n      <td>CONTRATADO</td>\n      <td>22</td>\n      <td>17</td>\n      <td>24</td>\n      <td>16</td>\n      <td>23</td>\n      <td>17</td>\n      <td>30</td>\n      <td>14</td>\n      <td>27</td>\n      <td>17</td>\n      <td>28</td>\n    </tr>\n    <tr>\n      <th>19</th>\n      <td>EDUCACION</td>\n      <td>NOMBRADO</td>\n      <td>33</td>\n      <td>33</td>\n      <td>33</td>\n      <td>32</td>\n      <td>33</td>\n      <td>32</td>\n      <td>32</td>\n      <td>32</td>\n      <td>33</td>\n      <td>32</td>\n      <td>32</td>\n    </tr>\n    <tr>\n      <th>20</th>\n      <td>ENFERMERÍA</td>\n      <td>CONTRATADO</td>\n      <td>13</td>\n      <td>13</td>\n      <td>16</td>\n      <td>11</td>\n      <td>0</td>\n      <td>2</td>\n      <td>3</td>\n      <td>2</td>\n      <td>6</td>\n      <td>15</td>\n      <td>11</td>\n    </tr>\n    <tr>\n      <th>21</th>\n      <td>ENFERMERÍA</td>\n      <td>NOMBRADO</td>\n      <td>18</td>\n      <td>19</td>\n      <td>18</td>\n      <td>19</td>\n      <td>21</td>\n      <td>21</td>\n      <td>21</td>\n      <td>21</td>\n      <td>21</td>\n      <td>21</td>\n      <td>20</td>\n    </tr>\n    <tr>\n      <th>22</th>\n      <td>ESTADÍSTICA</td>\n      <td>CONTRATADO</td>\n      <td>3</td>\n      <td>4</td>\n      <td>5</td>\n      <td>4</td>\n      <td>6</td>\n      <td>4</td>\n      <td>4</td>\n      <td>4</td>\n      <td>7</td>\n      <td>4</td>\n      <td>5</td>\n    </tr>\n    <tr>\n      <th>23</th>\n      <td>ESTADÍSTICA</td>\n      <td>NOMBRADO</td>\n      <td>13</td>\n      <td>13</td>\n      <td>13</td>\n      <td>14</td>\n      <td>14</td>\n      <td>14</td>\n      <td>14</td>\n      <td>14</td>\n      <td>14</td>\n      <td>13</td>\n      <td>13</td>\n    </tr>\n    <tr>\n      <th>24</th>\n      <td>INGENIERIA AGRICOLA</td>\n      <td>CONTRATADO</td>\n      <td>1</td>\n      <td>1</td>\n      <td>1</td>\n      <td>2</td>\n      <td>1</td>\n      <td>1</td>\n      <td>2</td>\n      <td>2</td>\n      <td>4</td>\n      <td>3</td>\n      <td>1</td>\n    </tr>\n    <tr>\n      <th>25</th>\n      <td>INGENIERIA AGRICOLA</td>\n      <td>NOMBRADO</td>\n      <td>20</td>\n      <td>20</td>\n      <td>21</td>\n      <td>19</td>\n      <td>15</td>\n      <td>20</td>\n      <td>20</td>\n      <td>20</td>\n      <td>19</td>\n      <td>19</td>\n      <td>20</td>\n    </tr>\n    <tr>\n      <th>26</th>\n      <td>INGENIERIA CIVIL</td>\n      <td>CONTRATADO</td>\n      <td>8</td>\n      <td>9</td>\n      <td>15</td>\n      <td>16</td>\n      <td>12</td>\n      <td>14</td>\n      <td>19</td>\n      <td>17</td>\n      <td>27</td>\n      <td>20</td>\n      <td>25</td>\n    </tr>\n    <tr>\n      <th>27</th>\n      <td>INGENIERIA CIVIL</td>\n      <td>NOMBRADO</td>\n      <td>29</td>\n      <td>29</td>\n      <td>29</td>\n      <td>25</td>\n      <td>29</td>\n      <td>33</td>\n      <td>34</td>\n      <td>31</td>\n      <td>33</td>\n      <td>31</td>\n      <td>30</td>\n    </tr>\n    <tr>\n      <th>28</th>\n      <td>INGENIERIA DE MINAS</td>\n      <td>CONTRATADO</td>\n      <td>0</td>\n      <td>0</td>\n      <td>0</td>\n      <td>0</td>\n      <td>0</td>\n      <td>0</td>\n      <td>0</td>\n      <td>0</td>\n      <td>0</td>\n      <td>1</td>\n      <td>1</td>\n    </tr>\n    <tr>\n      <th>29</th>\n      <td>INGENIERIA DE MINAS</td>\n      <td>NOMBRADO</td>\n      <td>16</td>\n      <td>16</td>\n      <td>15</td>\n      <td>16</td>\n      <td>15</td>\n      <td>16</td>\n      <td>17</td>\n      <td>17</td>\n      <td>17</td>\n      <td>15</td>\n      <td>15</td>\n    </tr>\n    <tr>\n      <th>30</th>\n      <td>INGENIERIA DE SISTEMAS Y TELECOMUNICACIONES</td>\n      <td>CONTRATADO</td>\n      <td>5</td>\n      <td>5</td>\n      <td>6</td>\n      <td>5</td>\n      <td>6</td>\n      <td>7</td>\n      <td>7</td>\n      <td>5</td>\n      <td>10</td>\n      <td>7</td>\n      <td>8</td>\n    </tr>\n    <tr>\n      <th>31</th>\n      <td>INGENIERIA DE SISTEMAS Y TELECOMUNICACIONES</td>\n      <td>NOMBRADO</td>\n      <td>11</td>\n      <td>11</td>\n      <td>12</td>\n      <td>11</td>\n      <td>10</td>\n      <td>10</td>\n      <td>11</td>\n      <td>11</td>\n      <td>11</td>\n      <td>12</td>\n      <td>11</td>\n    </tr>\n    <tr>\n      <th>32</th>\n      <td>INGENIERÍA SANITARIA</td>\n      <td>CONTRATADO</td>\n      <td>1</td>\n      <td>1</td>\n      <td>2</td>\n      <td>2</td>\n      <td>2</td>\n      <td>3</td>\n      <td>2</td>\n      <td>2</td>\n      <td>3</td>\n      <td>5</td>\n      <td>6</td>\n    </tr>\n    <tr>\n      <th>33</th>\n      <td>INGENIERÍA SANITARIA</td>\n      <td>NOMBRADO</td>\n      <td>10</td>\n      <td>9</td>\n      <td>10</td>\n      <td>10</td>\n      <td>10</td>\n      <td>10</td>\n      <td>10</td>\n      <td>11</td>\n      <td>11</td>\n      <td>11</td>\n      <td>11</td>\n    </tr>\n    <tr>\n      <th>34</th>\n      <td>MATEMÁTICA</td>\n      <td>CONTRATADO</td>\n      <td>5</td>\n      <td>4</td>\n      <td>8</td>\n      <td>7</td>\n      <td>8</td>\n      <td>3</td>\n      <td>14</td>\n      <td>4</td>\n      <td>10</td>\n      <td>3</td>\n      <td>8</td>\n    </tr>\n    <tr>\n      <th>35</th>\n      <td>MATEMÁTICA</td>\n      <td>NOMBRADO</td>\n      <td>36</td>\n      <td>36</td>\n      <td>35</td>\n      <td>35</td>\n      <td>35</td>\n      <td>35</td>\n      <td>33</td>\n      <td>34</td>\n      <td>35</td>\n      <td>33</td>\n      <td>32</td>\n    </tr>\n    <tr>\n      <th>36</th>\n      <td>OBSTETRICIA</td>\n      <td>CONTRATADO</td>\n      <td>8</td>\n      <td>7</td>\n      <td>8</td>\n      <td>6</td>\n      <td>2</td>\n      <td>2</td>\n      <td>6</td>\n      <td>5</td>\n      <td>13</td>\n      <td>11</td>\n      <td>10</td>\n    </tr>\n    <tr>\n      <th>37</th>\n      <td>OBSTETRICIA</td>\n      <td>NOMBRADO</td>\n      <td>15</td>\n      <td>15</td>\n      <td>16</td>\n      <td>16</td>\n      <td>15</td>\n      <td>15</td>\n      <td>15</td>\n      <td>15</td>\n      <td>15</td>\n      <td>15</td>\n      <td>15</td>\n    </tr>\n    <tr>\n      <th>38</th>\n      <td>PROPEDÉUTICA</td>\n      <td>CONTRATADO</td>\n      <td>1</td>\n      <td>2</td>\n      <td>1</td>\n      <td>4</td>\n      <td>0</td>\n      <td>0</td>\n      <td>0</td>\n      <td>4</td>\n      <td>2</td>\n      <td>4</td>\n      <td>2</td>\n    </tr>\n    <tr>\n      <th>39</th>\n      <td>PROPEDÉUTICA</td>\n      <td>NOMBRADO</td>\n      <td>11</td>\n      <td>10</td>\n      <td>10</td>\n      <td>9</td>\n      <td>10</td>\n      <td>9</td>\n      <td>10</td>\n      <td>8</td>\n      <td>10</td>\n      <td>10</td>\n      <td>8</td>\n    </tr>\n    <tr>\n      <th>40</th>\n      <td>TURISMO</td>\n      <td>CONTRATADO</td>\n      <td>0</td>\n      <td>1</td>\n      <td>0</td>\n      <td>0</td>\n      <td>0</td>\n      <td>0</td>\n      <td>0</td>\n      <td>0</td>\n      <td>2</td>\n      <td>1</td>\n      <td>1</td>\n    </tr>\n    <tr>\n      <th>41</th>\n      <td>TURISMO</td>\n      <td>NOMBRADO</td>\n      <td>9</td>\n      <td>8</td>\n      <td>10</td>\n      <td>10</td>\n      <td>10</td>\n      <td>10</td>\n      <td>10</td>\n      <td>10</td>\n      <td>10</td>\n      <td>10</td>\n      <td>10</td>\n    </tr>\n  </tbody>\n</table>\n</div>"
     },
     "execution_count": 218,
     "metadata": {},
     "output_type": "execute_result"
    }
   ],
   "source": [
    "resultado"
   ],
   "metadata": {
    "collapsed": false,
    "ExecuteTime": {
     "end_time": "2023-09-09T20:10:00.947016300Z",
     "start_time": "2023-09-09T20:10:00.915675200Z"
    }
   },
   "id": "ac9323eb81d7b2b1"
  },
  {
   "cell_type": "code",
   "execution_count": 222,
   "outputs": [
    {
     "data": {
      "text/plain": "Index(['2018-1', '2018-2', '2019-1', '2019-2', '2020-1', '2020-2', '2021-1',\n       '2021-2', '2022-1', '2022-2', '2023-1'],\n      dtype='object', name='semestre')"
     },
     "execution_count": 222,
     "metadata": {},
     "output_type": "execute_result"
    }
   ],
   "source": [
    "resultado.columns[2:]"
   ],
   "metadata": {
    "collapsed": false,
    "ExecuteTime": {
     "end_time": "2023-09-09T20:11:53.772912200Z",
     "start_time": "2023-09-09T20:11:53.743686300Z"
    }
   },
   "id": "4a7678f9f32aba19"
  },
  {
   "cell_type": "code",
   "execution_count": 223,
   "outputs": [
    {
     "data": {
      "text/plain": "                          departamento   condicion semestres  valores\n0                       ADMINISTRACIÓN  CONTRATADO    2018-1        4\n1                       ADMINISTRACIÓN    NOMBRADO    2018-1       18\n2                            AGRONOMIA  CONTRATADO    2018-1        3\n3                            AGRONOMIA    NOMBRADO    2018-1       13\n4    CIENCIA Y TECNOLOGIA DE ALIMENTOS  CONTRATADO    2018-1        5\n..                                 ...         ...       ...      ...\n457                        OBSTETRICIA    NOMBRADO    2023-1       15\n458                       PROPEDÉUTICA  CONTRATADO    2023-1        2\n459                       PROPEDÉUTICA    NOMBRADO    2023-1        8\n460                            TURISMO  CONTRATADO    2023-1        1\n461                            TURISMO    NOMBRADO    2023-1       10\n\n[462 rows x 4 columns]",
      "text/html": "<div>\n<style scoped>\n    .dataframe tbody tr th:only-of-type {\n        vertical-align: middle;\n    }\n\n    .dataframe tbody tr th {\n        vertical-align: top;\n    }\n\n    .dataframe thead th {\n        text-align: right;\n    }\n</style>\n<table border=\"1\" class=\"dataframe\">\n  <thead>\n    <tr style=\"text-align: right;\">\n      <th></th>\n      <th>departamento</th>\n      <th>condicion</th>\n      <th>semestres</th>\n      <th>valores</th>\n    </tr>\n  </thead>\n  <tbody>\n    <tr>\n      <th>0</th>\n      <td>ADMINISTRACIÓN</td>\n      <td>CONTRATADO</td>\n      <td>2018-1</td>\n      <td>4</td>\n    </tr>\n    <tr>\n      <th>1</th>\n      <td>ADMINISTRACIÓN</td>\n      <td>NOMBRADO</td>\n      <td>2018-1</td>\n      <td>18</td>\n    </tr>\n    <tr>\n      <th>2</th>\n      <td>AGRONOMIA</td>\n      <td>CONTRATADO</td>\n      <td>2018-1</td>\n      <td>3</td>\n    </tr>\n    <tr>\n      <th>3</th>\n      <td>AGRONOMIA</td>\n      <td>NOMBRADO</td>\n      <td>2018-1</td>\n      <td>13</td>\n    </tr>\n    <tr>\n      <th>4</th>\n      <td>CIENCIA Y TECNOLOGIA DE ALIMENTOS</td>\n      <td>CONTRATADO</td>\n      <td>2018-1</td>\n      <td>5</td>\n    </tr>\n    <tr>\n      <th>...</th>\n      <td>...</td>\n      <td>...</td>\n      <td>...</td>\n      <td>...</td>\n    </tr>\n    <tr>\n      <th>457</th>\n      <td>OBSTETRICIA</td>\n      <td>NOMBRADO</td>\n      <td>2023-1</td>\n      <td>15</td>\n    </tr>\n    <tr>\n      <th>458</th>\n      <td>PROPEDÉUTICA</td>\n      <td>CONTRATADO</td>\n      <td>2023-1</td>\n      <td>2</td>\n    </tr>\n    <tr>\n      <th>459</th>\n      <td>PROPEDÉUTICA</td>\n      <td>NOMBRADO</td>\n      <td>2023-1</td>\n      <td>8</td>\n    </tr>\n    <tr>\n      <th>460</th>\n      <td>TURISMO</td>\n      <td>CONTRATADO</td>\n      <td>2023-1</td>\n      <td>1</td>\n    </tr>\n    <tr>\n      <th>461</th>\n      <td>TURISMO</td>\n      <td>NOMBRADO</td>\n      <td>2023-1</td>\n      <td>10</td>\n    </tr>\n  </tbody>\n</table>\n<p>462 rows × 4 columns</p>\n</div>"
     },
     "execution_count": 223,
     "metadata": {},
     "output_type": "execute_result"
    }
   ],
   "source": [
    "semestres = ['2018-1', '2018-2', '2019-1', '2019-2', '2020-1', '2020-2', '2021-1', '2021-2', '2022-1', '2022-2', '2023-1']\n",
    "df = pd.melt(resultado, id_vars=['departamento', 'condicion'], value_vars=semestres, var_name='semestres', value_name='valores')\n",
    "df"
   ],
   "metadata": {
    "collapsed": false,
    "ExecuteTime": {
     "end_time": "2023-09-09T20:12:50.443116300Z",
     "start_time": "2023-09-09T20:12:50.385011900Z"
    }
   },
   "id": "fcf01f57cbc93158"
  },
  {
   "cell_type": "code",
   "execution_count": 224,
   "outputs": [],
   "source": [
    "df['category'] = df['departamento'] + '-' + df['condicion']"
   ],
   "metadata": {
    "collapsed": false,
    "ExecuteTime": {
     "end_time": "2023-09-09T20:14:11.737304300Z",
     "start_time": "2023-09-09T20:14:11.701918200Z"
    }
   },
   "id": "7b0dee6742a4e92b"
  },
  {
   "cell_type": "code",
   "execution_count": 225,
   "outputs": [
    {
     "data": {
      "application/vnd.plotly.v1+json": {
       "data": [
        {
         "hovertemplate": "category=ADMINISTRACIÓN-CONTRATADO<br>semestres=%{x}<br>valores=%{y}<extra></extra>",
         "legendgroup": "ADMINISTRACIÓN-CONTRATADO",
         "line": {
          "color": "#636efa",
          "dash": "solid"
         },
         "marker": {
          "symbol": "circle",
          "size": 10
         },
         "mode": "lines+markers",
         "name": "ADMINISTRACIÓN-CONTRATADO",
         "orientation": "v",
         "showlegend": true,
         "x": [
          "2018-1",
          "2018-2",
          "2019-1",
          "2019-2",
          "2020-1",
          "2020-2",
          "2021-1",
          "2021-2",
          "2022-1",
          "2022-2",
          "2023-1"
         ],
         "xaxis": "x",
         "y": [
          4,
          4,
          4,
          4,
          4,
          4,
          5,
          3,
          7,
          5,
          6
         ],
         "yaxis": "y",
         "type": "scatter"
        },
        {
         "hovertemplate": "category=ADMINISTRACIÓN-NOMBRADO<br>semestres=%{x}<br>valores=%{y}<extra></extra>",
         "legendgroup": "ADMINISTRACIÓN-NOMBRADO",
         "line": {
          "color": "#EF553B",
          "dash": "solid"
         },
         "marker": {
          "symbol": "circle",
          "size": 10
         },
         "mode": "lines+markers",
         "name": "ADMINISTRACIÓN-NOMBRADO",
         "orientation": "v",
         "showlegend": true,
         "x": [
          "2018-1",
          "2018-2",
          "2019-1",
          "2019-2",
          "2020-1",
          "2020-2",
          "2021-1",
          "2021-2",
          "2022-1",
          "2022-2",
          "2023-1"
         ],
         "xaxis": "x",
         "y": [
          18,
          18,
          16,
          16,
          18,
          17,
          19,
          19,
          18,
          19,
          18
         ],
         "yaxis": "y",
         "type": "scatter"
        },
        {
         "hovertemplate": "category=AGRONOMIA-CONTRATADO<br>semestres=%{x}<br>valores=%{y}<extra></extra>",
         "legendgroup": "AGRONOMIA-CONTRATADO",
         "line": {
          "color": "#00cc96",
          "dash": "solid"
         },
         "marker": {
          "symbol": "circle",
          "size": 10
         },
         "mode": "lines+markers",
         "name": "AGRONOMIA-CONTRATADO",
         "orientation": "v",
         "showlegend": true,
         "x": [
          "2018-1",
          "2018-2",
          "2019-1",
          "2019-2",
          "2020-1",
          "2020-2",
          "2021-1",
          "2021-2",
          "2022-1",
          "2022-2",
          "2023-1"
         ],
         "xaxis": "x",
         "y": [
          3,
          2,
          2,
          2,
          2,
          1,
          2,
          2,
          3,
          2,
          3
         ],
         "yaxis": "y",
         "type": "scatter"
        },
        {
         "hovertemplate": "category=AGRONOMIA-NOMBRADO<br>semestres=%{x}<br>valores=%{y}<extra></extra>",
         "legendgroup": "AGRONOMIA-NOMBRADO",
         "line": {
          "color": "#ab63fa",
          "dash": "solid"
         },
         "marker": {
          "symbol": "circle",
          "size": 10
         },
         "mode": "lines+markers",
         "name": "AGRONOMIA-NOMBRADO",
         "orientation": "v",
         "showlegend": true,
         "x": [
          "2018-1",
          "2018-2",
          "2019-1",
          "2019-2",
          "2020-1",
          "2020-2",
          "2021-1",
          "2021-2",
          "2022-1",
          "2022-2",
          "2023-1"
         ],
         "xaxis": "x",
         "y": [
          13,
          13,
          12,
          13,
          12,
          13,
          12,
          13,
          13,
          13,
          11
         ],
         "yaxis": "y",
         "type": "scatter"
        },
        {
         "hovertemplate": "category=CIENCIA Y TECNOLOGIA DE ALIMENTOS-CONTRATADO<br>semestres=%{x}<br>valores=%{y}<extra></extra>",
         "legendgroup": "CIENCIA Y TECNOLOGIA DE ALIMENTOS-CONTRATADO",
         "line": {
          "color": "#FFA15A",
          "dash": "solid"
         },
         "marker": {
          "symbol": "circle",
          "size": 10
         },
         "mode": "lines+markers",
         "name": "CIENCIA Y TECNOLOGIA DE ALIMENTOS-CONTRATADO",
         "orientation": "v",
         "showlegend": true,
         "x": [
          "2018-1",
          "2018-2",
          "2019-1",
          "2019-2",
          "2020-1",
          "2020-2",
          "2021-1",
          "2021-2",
          "2022-1",
          "2022-2",
          "2023-1"
         ],
         "xaxis": "x",
         "y": [
          5,
          5,
          5,
          5,
          5,
          5,
          5,
          3,
          3,
          5,
          5
         ],
         "yaxis": "y",
         "type": "scatter"
        },
        {
         "hovertemplate": "category=CIENCIA Y TECNOLOGIA DE ALIMENTOS-NOMBRADO<br>semestres=%{x}<br>valores=%{y}<extra></extra>",
         "legendgroup": "CIENCIA Y TECNOLOGIA DE ALIMENTOS-NOMBRADO",
         "line": {
          "color": "#19d3f3",
          "dash": "solid"
         },
         "marker": {
          "symbol": "circle",
          "size": 10
         },
         "mode": "lines+markers",
         "name": "CIENCIA Y TECNOLOGIA DE ALIMENTOS-NOMBRADO",
         "orientation": "v",
         "showlegend": true,
         "x": [
          "2018-1",
          "2018-2",
          "2019-1",
          "2019-2",
          "2020-1",
          "2020-2",
          "2021-1",
          "2021-2",
          "2022-1",
          "2022-2",
          "2023-1"
         ],
         "xaxis": "x",
         "y": [
          18,
          18,
          18,
          17,
          17,
          16,
          16,
          17,
          17,
          17,
          17
         ],
         "yaxis": "y",
         "type": "scatter"
        },
        {
         "hovertemplate": "category=CIENCIAS BÁSICAS-CONTRATADO<br>semestres=%{x}<br>valores=%{y}<extra></extra>",
         "legendgroup": "CIENCIAS BÁSICAS-CONTRATADO",
         "line": {
          "color": "#FF6692",
          "dash": "solid"
         },
         "marker": {
          "symbol": "circle",
          "size": 10
         },
         "mode": "lines+markers",
         "name": "CIENCIAS BÁSICAS-CONTRATADO",
         "orientation": "v",
         "showlegend": true,
         "x": [
          "2018-1",
          "2018-2",
          "2019-1",
          "2019-2",
          "2020-1",
          "2020-2",
          "2021-1",
          "2021-2",
          "2022-1",
          "2022-2",
          "2023-1"
         ],
         "xaxis": "x",
         "y": [
          5,
          4,
          7,
          2,
          0,
          7,
          9,
          2,
          6,
          1,
          5
         ],
         "yaxis": "y",
         "type": "scatter"
        },
        {
         "hovertemplate": "category=CIENCIAS BÁSICAS-NOMBRADO<br>semestres=%{x}<br>valores=%{y}<extra></extra>",
         "legendgroup": "CIENCIAS BÁSICAS-NOMBRADO",
         "line": {
          "color": "#B6E880",
          "dash": "solid"
         },
         "marker": {
          "symbol": "circle",
          "size": 10
         },
         "mode": "lines+markers",
         "name": "CIENCIAS BÁSICAS-NOMBRADO",
         "orientation": "v",
         "showlegend": true,
         "x": [
          "2018-1",
          "2018-2",
          "2019-1",
          "2019-2",
          "2020-1",
          "2020-2",
          "2021-1",
          "2021-2",
          "2022-1",
          "2022-2",
          "2023-1"
         ],
         "xaxis": "x",
         "y": [
          35,
          33,
          32,
          30,
          0,
          28,
          30,
          29,
          31,
          32,
          32
         ],
         "yaxis": "y",
         "type": "scatter"
        },
        {
         "hovertemplate": "category=CIENCIAS DEL AMBIENTE-CONTRATADO<br>semestres=%{x}<br>valores=%{y}<extra></extra>",
         "legendgroup": "CIENCIAS DEL AMBIENTE-CONTRATADO",
         "line": {
          "color": "#FF97FF",
          "dash": "solid"
         },
         "marker": {
          "symbol": "circle",
          "size": 10
         },
         "mode": "lines+markers",
         "name": "CIENCIAS DEL AMBIENTE-CONTRATADO",
         "orientation": "v",
         "showlegend": true,
         "x": [
          "2018-1",
          "2018-2",
          "2019-1",
          "2019-2",
          "2020-1",
          "2020-2",
          "2021-1",
          "2021-2",
          "2022-1",
          "2022-2",
          "2023-1"
         ],
         "xaxis": "x",
         "y": [
          8,
          8,
          6,
          8,
          4,
          8,
          9,
          5,
          6,
          4,
          3
         ],
         "yaxis": "y",
         "type": "scatter"
        },
        {
         "hovertemplate": "category=CIENCIAS DEL AMBIENTE-NOMBRADO<br>semestres=%{x}<br>valores=%{y}<extra></extra>",
         "legendgroup": "CIENCIAS DEL AMBIENTE-NOMBRADO",
         "line": {
          "color": "#FECB52",
          "dash": "solid"
         },
         "marker": {
          "symbol": "circle",
          "size": 10
         },
         "mode": "lines+markers",
         "name": "CIENCIAS DEL AMBIENTE-NOMBRADO",
         "orientation": "v",
         "showlegend": true,
         "x": [
          "2018-1",
          "2018-2",
          "2019-1",
          "2019-2",
          "2020-1",
          "2020-2",
          "2021-1",
          "2021-2",
          "2022-1",
          "2022-2",
          "2023-1"
         ],
         "xaxis": "x",
         "y": [
          15,
          15,
          15,
          14,
          15,
          17,
          16,
          18,
          16,
          16,
          16
         ],
         "yaxis": "y",
         "type": "scatter"
        },
        {
         "hovertemplate": "category=CIENCIAS SOCIALES Y CIENCIAS DE LA COMUNICACION-CONTRATADO<br>semestres=%{x}<br>valores=%{y}<extra></extra>",
         "legendgroup": "CIENCIAS SOCIALES Y CIENCIAS DE LA COMUNICACION-CONTRATADO",
         "line": {
          "color": "#636efa",
          "dash": "solid"
         },
         "marker": {
          "symbol": "circle",
          "size": 10
         },
         "mode": "lines+markers",
         "name": "CIENCIAS SOCIALES Y CIENCIAS DE LA COMUNICACION-CONTRATADO",
         "orientation": "v",
         "showlegend": true,
         "x": [
          "2018-1",
          "2018-2",
          "2019-1",
          "2019-2",
          "2020-1",
          "2020-2",
          "2021-1",
          "2021-2",
          "2022-1",
          "2022-2",
          "2023-1"
         ],
         "xaxis": "x",
         "y": [
          10,
          12,
          13,
          13,
          8,
          11,
          12,
          11,
          13,
          14,
          12
         ],
         "yaxis": "y",
         "type": "scatter"
        },
        {
         "hovertemplate": "category=CIENCIAS SOCIALES Y CIENCIAS DE LA COMUNICACION-NOMBRADO<br>semestres=%{x}<br>valores=%{y}<extra></extra>",
         "legendgroup": "CIENCIAS SOCIALES Y CIENCIAS DE LA COMUNICACION-NOMBRADO",
         "line": {
          "color": "#EF553B",
          "dash": "solid"
         },
         "marker": {
          "symbol": "circle",
          "size": 10
         },
         "mode": "lines+markers",
         "name": "CIENCIAS SOCIALES Y CIENCIAS DE LA COMUNICACION-NOMBRADO",
         "orientation": "v",
         "showlegend": true,
         "x": [
          "2018-1",
          "2018-2",
          "2019-1",
          "2019-2",
          "2020-1",
          "2020-2",
          "2021-1",
          "2021-2",
          "2022-1",
          "2022-2",
          "2023-1"
         ],
         "xaxis": "x",
         "y": [
          17,
          17,
          17,
          16,
          17,
          17,
          17,
          16,
          16,
          16,
          17
         ],
         "yaxis": "y",
         "type": "scatter"
        },
        {
         "hovertemplate": "category=CONTABILIDAD-CONTRATADO<br>semestres=%{x}<br>valores=%{y}<extra></extra>",
         "legendgroup": "CONTABILIDAD-CONTRATADO",
         "line": {
          "color": "#00cc96",
          "dash": "solid"
         },
         "marker": {
          "symbol": "circle",
          "size": 10
         },
         "mode": "lines+markers",
         "name": "CONTABILIDAD-CONTRATADO",
         "orientation": "v",
         "showlegend": true,
         "x": [
          "2018-1",
          "2018-2",
          "2019-1",
          "2019-2",
          "2020-1",
          "2020-2",
          "2021-1",
          "2021-2",
          "2022-1",
          "2022-2",
          "2023-1"
         ],
         "xaxis": "x",
         "y": [
          1,
          1,
          1,
          1,
          1,
          1,
          2,
          1,
          5,
          2,
          2
         ],
         "yaxis": "y",
         "type": "scatter"
        },
        {
         "hovertemplate": "category=CONTABILIDAD-NOMBRADO<br>semestres=%{x}<br>valores=%{y}<extra></extra>",
         "legendgroup": "CONTABILIDAD-NOMBRADO",
         "line": {
          "color": "#ab63fa",
          "dash": "solid"
         },
         "marker": {
          "symbol": "circle",
          "size": 10
         },
         "mode": "lines+markers",
         "name": "CONTABILIDAD-NOMBRADO",
         "orientation": "v",
         "showlegend": true,
         "x": [
          "2018-1",
          "2018-2",
          "2019-1",
          "2019-2",
          "2020-1",
          "2020-2",
          "2021-1",
          "2021-2",
          "2022-1",
          "2022-2",
          "2023-1"
         ],
         "xaxis": "x",
         "y": [
          19,
          18,
          19,
          18,
          20,
          19,
          20,
          20,
          21,
          21,
          21
         ],
         "yaxis": "y",
         "type": "scatter"
        },
        {
         "hovertemplate": "category=DERECHO Y CIENCIAS POLITICAS-CONTRATADO<br>semestres=%{x}<br>valores=%{y}<extra></extra>",
         "legendgroup": "DERECHO Y CIENCIAS POLITICAS-CONTRATADO",
         "line": {
          "color": "#FFA15A",
          "dash": "solid"
         },
         "marker": {
          "symbol": "circle",
          "size": 10
         },
         "mode": "lines+markers",
         "name": "DERECHO Y CIENCIAS POLITICAS-CONTRATADO",
         "orientation": "v",
         "showlegend": true,
         "x": [
          "2018-1",
          "2018-2",
          "2019-1",
          "2019-2",
          "2020-1",
          "2020-2",
          "2021-1",
          "2021-2",
          "2022-1",
          "2022-2",
          "2023-1"
         ],
         "xaxis": "x",
         "y": [
          5,
          3,
          3,
          2,
          3,
          3,
          4,
          2,
          5,
          6,
          7
         ],
         "yaxis": "y",
         "type": "scatter"
        },
        {
         "hovertemplate": "category=DERECHO Y CIENCIAS POLITICAS-NOMBRADO<br>semestres=%{x}<br>valores=%{y}<extra></extra>",
         "legendgroup": "DERECHO Y CIENCIAS POLITICAS-NOMBRADO",
         "line": {
          "color": "#19d3f3",
          "dash": "solid"
         },
         "marker": {
          "symbol": "circle",
          "size": 10
         },
         "mode": "lines+markers",
         "name": "DERECHO Y CIENCIAS POLITICAS-NOMBRADO",
         "orientation": "v",
         "showlegend": true,
         "x": [
          "2018-1",
          "2018-2",
          "2019-1",
          "2019-2",
          "2020-1",
          "2020-2",
          "2021-1",
          "2021-2",
          "2022-1",
          "2022-2",
          "2023-1"
         ],
         "xaxis": "x",
         "y": [
          23,
          24,
          23,
          24,
          24,
          23,
          21,
          27,
          26,
          24,
          25
         ],
         "yaxis": "y",
         "type": "scatter"
        },
        {
         "hovertemplate": "category=ECONOMÍA-CONTRATADO<br>semestres=%{x}<br>valores=%{y}<extra></extra>",
         "legendgroup": "ECONOMÍA-CONTRATADO",
         "line": {
          "color": "#FF6692",
          "dash": "solid"
         },
         "marker": {
          "symbol": "circle",
          "size": 10
         },
         "mode": "lines+markers",
         "name": "ECONOMÍA-CONTRATADO",
         "orientation": "v",
         "showlegend": true,
         "x": [
          "2018-1",
          "2018-2",
          "2019-1",
          "2019-2",
          "2020-1",
          "2020-2",
          "2021-1",
          "2021-2",
          "2022-1",
          "2022-2",
          "2023-1"
         ],
         "xaxis": "x",
         "y": [
          0,
          2,
          1,
          2,
          2,
          2,
          5,
          4,
          6,
          5,
          5
         ],
         "yaxis": "y",
         "type": "scatter"
        },
        {
         "hovertemplate": "category=ECONOMÍA-NOMBRADO<br>semestres=%{x}<br>valores=%{y}<extra></extra>",
         "legendgroup": "ECONOMÍA-NOMBRADO",
         "line": {
          "color": "#B6E880",
          "dash": "solid"
         },
         "marker": {
          "symbol": "circle",
          "size": 10
         },
         "mode": "lines+markers",
         "name": "ECONOMÍA-NOMBRADO",
         "orientation": "v",
         "showlegend": true,
         "x": [
          "2018-1",
          "2018-2",
          "2019-1",
          "2019-2",
          "2020-1",
          "2020-2",
          "2021-1",
          "2021-2",
          "2022-1",
          "2022-2",
          "2023-1"
         ],
         "xaxis": "x",
         "y": [
          27,
          25,
          26,
          25,
          28,
          28,
          28,
          27,
          27,
          24,
          24
         ],
         "yaxis": "y",
         "type": "scatter"
        },
        {
         "hovertemplate": "category=EDUCACION-CONTRATADO<br>semestres=%{x}<br>valores=%{y}<extra></extra>",
         "legendgroup": "EDUCACION-CONTRATADO",
         "line": {
          "color": "#FF97FF",
          "dash": "solid"
         },
         "marker": {
          "symbol": "circle",
          "size": 10
         },
         "mode": "lines+markers",
         "name": "EDUCACION-CONTRATADO",
         "orientation": "v",
         "showlegend": true,
         "x": [
          "2018-1",
          "2018-2",
          "2019-1",
          "2019-2",
          "2020-1",
          "2020-2",
          "2021-1",
          "2021-2",
          "2022-1",
          "2022-2",
          "2023-1"
         ],
         "xaxis": "x",
         "y": [
          22,
          17,
          24,
          16,
          23,
          17,
          30,
          14,
          27,
          17,
          28
         ],
         "yaxis": "y",
         "type": "scatter"
        },
        {
         "hovertemplate": "category=EDUCACION-NOMBRADO<br>semestres=%{x}<br>valores=%{y}<extra></extra>",
         "legendgroup": "EDUCACION-NOMBRADO",
         "line": {
          "color": "#FECB52",
          "dash": "solid"
         },
         "marker": {
          "symbol": "circle",
          "size": 10
         },
         "mode": "lines+markers",
         "name": "EDUCACION-NOMBRADO",
         "orientation": "v",
         "showlegend": true,
         "x": [
          "2018-1",
          "2018-2",
          "2019-1",
          "2019-2",
          "2020-1",
          "2020-2",
          "2021-1",
          "2021-2",
          "2022-1",
          "2022-2",
          "2023-1"
         ],
         "xaxis": "x",
         "y": [
          33,
          33,
          33,
          32,
          33,
          32,
          32,
          32,
          33,
          32,
          32
         ],
         "yaxis": "y",
         "type": "scatter"
        },
        {
         "hovertemplate": "category=ENFERMERÍA-CONTRATADO<br>semestres=%{x}<br>valores=%{y}<extra></extra>",
         "legendgroup": "ENFERMERÍA-CONTRATADO",
         "line": {
          "color": "#636efa",
          "dash": "solid"
         },
         "marker": {
          "symbol": "circle",
          "size": 10
         },
         "mode": "lines+markers",
         "name": "ENFERMERÍA-CONTRATADO",
         "orientation": "v",
         "showlegend": true,
         "x": [
          "2018-1",
          "2018-2",
          "2019-1",
          "2019-2",
          "2020-1",
          "2020-2",
          "2021-1",
          "2021-2",
          "2022-1",
          "2022-2",
          "2023-1"
         ],
         "xaxis": "x",
         "y": [
          13,
          13,
          16,
          11,
          0,
          2,
          3,
          2,
          6,
          15,
          11
         ],
         "yaxis": "y",
         "type": "scatter"
        },
        {
         "hovertemplate": "category=ENFERMERÍA-NOMBRADO<br>semestres=%{x}<br>valores=%{y}<extra></extra>",
         "legendgroup": "ENFERMERÍA-NOMBRADO",
         "line": {
          "color": "#EF553B",
          "dash": "solid"
         },
         "marker": {
          "symbol": "circle",
          "size": 10
         },
         "mode": "lines+markers",
         "name": "ENFERMERÍA-NOMBRADO",
         "orientation": "v",
         "showlegend": true,
         "x": [
          "2018-1",
          "2018-2",
          "2019-1",
          "2019-2",
          "2020-1",
          "2020-2",
          "2021-1",
          "2021-2",
          "2022-1",
          "2022-2",
          "2023-1"
         ],
         "xaxis": "x",
         "y": [
          18,
          19,
          18,
          19,
          21,
          21,
          21,
          21,
          21,
          21,
          20
         ],
         "yaxis": "y",
         "type": "scatter"
        },
        {
         "hovertemplate": "category=ESTADÍSTICA-CONTRATADO<br>semestres=%{x}<br>valores=%{y}<extra></extra>",
         "legendgroup": "ESTADÍSTICA-CONTRATADO",
         "line": {
          "color": "#00cc96",
          "dash": "solid"
         },
         "marker": {
          "symbol": "circle",
          "size": 10
         },
         "mode": "lines+markers",
         "name": "ESTADÍSTICA-CONTRATADO",
         "orientation": "v",
         "showlegend": true,
         "x": [
          "2018-1",
          "2018-2",
          "2019-1",
          "2019-2",
          "2020-1",
          "2020-2",
          "2021-1",
          "2021-2",
          "2022-1",
          "2022-2",
          "2023-1"
         ],
         "xaxis": "x",
         "y": [
          3,
          4,
          5,
          4,
          6,
          4,
          4,
          4,
          7,
          4,
          5
         ],
         "yaxis": "y",
         "type": "scatter"
        },
        {
         "hovertemplate": "category=ESTADÍSTICA-NOMBRADO<br>semestres=%{x}<br>valores=%{y}<extra></extra>",
         "legendgroup": "ESTADÍSTICA-NOMBRADO",
         "line": {
          "color": "#ab63fa",
          "dash": "solid"
         },
         "marker": {
          "symbol": "circle",
          "size": 10
         },
         "mode": "lines+markers",
         "name": "ESTADÍSTICA-NOMBRADO",
         "orientation": "v",
         "showlegend": true,
         "x": [
          "2018-1",
          "2018-2",
          "2019-1",
          "2019-2",
          "2020-1",
          "2020-2",
          "2021-1",
          "2021-2",
          "2022-1",
          "2022-2",
          "2023-1"
         ],
         "xaxis": "x",
         "y": [
          13,
          13,
          13,
          14,
          14,
          14,
          14,
          14,
          14,
          13,
          13
         ],
         "yaxis": "y",
         "type": "scatter"
        },
        {
         "hovertemplate": "category=INGENIERIA AGRICOLA-CONTRATADO<br>semestres=%{x}<br>valores=%{y}<extra></extra>",
         "legendgroup": "INGENIERIA AGRICOLA-CONTRATADO",
         "line": {
          "color": "#FFA15A",
          "dash": "solid"
         },
         "marker": {
          "symbol": "circle",
          "size": 10
         },
         "mode": "lines+markers",
         "name": "INGENIERIA AGRICOLA-CONTRATADO",
         "orientation": "v",
         "showlegend": true,
         "x": [
          "2018-1",
          "2018-2",
          "2019-1",
          "2019-2",
          "2020-1",
          "2020-2",
          "2021-1",
          "2021-2",
          "2022-1",
          "2022-2",
          "2023-1"
         ],
         "xaxis": "x",
         "y": [
          1,
          1,
          1,
          2,
          1,
          1,
          2,
          2,
          4,
          3,
          1
         ],
         "yaxis": "y",
         "type": "scatter"
        },
        {
         "hovertemplate": "category=INGENIERIA AGRICOLA-NOMBRADO<br>semestres=%{x}<br>valores=%{y}<extra></extra>",
         "legendgroup": "INGENIERIA AGRICOLA-NOMBRADO",
         "line": {
          "color": "#19d3f3",
          "dash": "solid"
         },
         "marker": {
          "symbol": "circle",
          "size": 10
         },
         "mode": "lines+markers",
         "name": "INGENIERIA AGRICOLA-NOMBRADO",
         "orientation": "v",
         "showlegend": true,
         "x": [
          "2018-1",
          "2018-2",
          "2019-1",
          "2019-2",
          "2020-1",
          "2020-2",
          "2021-1",
          "2021-2",
          "2022-1",
          "2022-2",
          "2023-1"
         ],
         "xaxis": "x",
         "y": [
          20,
          20,
          21,
          19,
          15,
          20,
          20,
          20,
          19,
          19,
          20
         ],
         "yaxis": "y",
         "type": "scatter"
        },
        {
         "hovertemplate": "category=INGENIERIA CIVIL-CONTRATADO<br>semestres=%{x}<br>valores=%{y}<extra></extra>",
         "legendgroup": "INGENIERIA CIVIL-CONTRATADO",
         "line": {
          "color": "#FF6692",
          "dash": "solid"
         },
         "marker": {
          "symbol": "circle",
          "size": 10
         },
         "mode": "lines+markers",
         "name": "INGENIERIA CIVIL-CONTRATADO",
         "orientation": "v",
         "showlegend": true,
         "x": [
          "2018-1",
          "2018-2",
          "2019-1",
          "2019-2",
          "2020-1",
          "2020-2",
          "2021-1",
          "2021-2",
          "2022-1",
          "2022-2",
          "2023-1"
         ],
         "xaxis": "x",
         "y": [
          8,
          9,
          15,
          16,
          12,
          14,
          19,
          17,
          27,
          20,
          25
         ],
         "yaxis": "y",
         "type": "scatter"
        },
        {
         "hovertemplate": "category=INGENIERIA CIVIL-NOMBRADO<br>semestres=%{x}<br>valores=%{y}<extra></extra>",
         "legendgroup": "INGENIERIA CIVIL-NOMBRADO",
         "line": {
          "color": "#B6E880",
          "dash": "solid"
         },
         "marker": {
          "symbol": "circle",
          "size": 10
         },
         "mode": "lines+markers",
         "name": "INGENIERIA CIVIL-NOMBRADO",
         "orientation": "v",
         "showlegend": true,
         "x": [
          "2018-1",
          "2018-2",
          "2019-1",
          "2019-2",
          "2020-1",
          "2020-2",
          "2021-1",
          "2021-2",
          "2022-1",
          "2022-2",
          "2023-1"
         ],
         "xaxis": "x",
         "y": [
          29,
          29,
          29,
          25,
          29,
          33,
          34,
          31,
          33,
          31,
          30
         ],
         "yaxis": "y",
         "type": "scatter"
        },
        {
         "hovertemplate": "category=INGENIERIA DE MINAS-CONTRATADO<br>semestres=%{x}<br>valores=%{y}<extra></extra>",
         "legendgroup": "INGENIERIA DE MINAS-CONTRATADO",
         "line": {
          "color": "#FF97FF",
          "dash": "solid"
         },
         "marker": {
          "symbol": "circle",
          "size": 10
         },
         "mode": "lines+markers",
         "name": "INGENIERIA DE MINAS-CONTRATADO",
         "orientation": "v",
         "showlegend": true,
         "x": [
          "2018-1",
          "2018-2",
          "2019-1",
          "2019-2",
          "2020-1",
          "2020-2",
          "2021-1",
          "2021-2",
          "2022-1",
          "2022-2",
          "2023-1"
         ],
         "xaxis": "x",
         "y": [
          0,
          0,
          0,
          0,
          0,
          0,
          0,
          0,
          0,
          1,
          1
         ],
         "yaxis": "y",
         "type": "scatter"
        },
        {
         "hovertemplate": "category=INGENIERIA DE MINAS-NOMBRADO<br>semestres=%{x}<br>valores=%{y}<extra></extra>",
         "legendgroup": "INGENIERIA DE MINAS-NOMBRADO",
         "line": {
          "color": "#FECB52",
          "dash": "solid"
         },
         "marker": {
          "symbol": "circle",
          "size": 10
         },
         "mode": "lines+markers",
         "name": "INGENIERIA DE MINAS-NOMBRADO",
         "orientation": "v",
         "showlegend": true,
         "x": [
          "2018-1",
          "2018-2",
          "2019-1",
          "2019-2",
          "2020-1",
          "2020-2",
          "2021-1",
          "2021-2",
          "2022-1",
          "2022-2",
          "2023-1"
         ],
         "xaxis": "x",
         "y": [
          16,
          16,
          15,
          16,
          15,
          16,
          17,
          17,
          17,
          15,
          15
         ],
         "yaxis": "y",
         "type": "scatter"
        },
        {
         "hovertemplate": "category=INGENIERIA DE SISTEMAS Y TELECOMUNICACIONES-CONTRATADO<br>semestres=%{x}<br>valores=%{y}<extra></extra>",
         "legendgroup": "INGENIERIA DE SISTEMAS Y TELECOMUNICACIONES-CONTRATADO",
         "line": {
          "color": "#636efa",
          "dash": "solid"
         },
         "marker": {
          "symbol": "circle",
          "size": 10
         },
         "mode": "lines+markers",
         "name": "INGENIERIA DE SISTEMAS Y TELECOMUNICACIONES-CONTRATADO",
         "orientation": "v",
         "showlegend": true,
         "x": [
          "2018-1",
          "2018-2",
          "2019-1",
          "2019-2",
          "2020-1",
          "2020-2",
          "2021-1",
          "2021-2",
          "2022-1",
          "2022-2",
          "2023-1"
         ],
         "xaxis": "x",
         "y": [
          5,
          5,
          6,
          5,
          6,
          7,
          7,
          5,
          10,
          7,
          8
         ],
         "yaxis": "y",
         "type": "scatter"
        },
        {
         "hovertemplate": "category=INGENIERIA DE SISTEMAS Y TELECOMUNICACIONES-NOMBRADO<br>semestres=%{x}<br>valores=%{y}<extra></extra>",
         "legendgroup": "INGENIERIA DE SISTEMAS Y TELECOMUNICACIONES-NOMBRADO",
         "line": {
          "color": "#EF553B",
          "dash": "solid"
         },
         "marker": {
          "symbol": "circle",
          "size": 10
         },
         "mode": "lines+markers",
         "name": "INGENIERIA DE SISTEMAS Y TELECOMUNICACIONES-NOMBRADO",
         "orientation": "v",
         "showlegend": true,
         "x": [
          "2018-1",
          "2018-2",
          "2019-1",
          "2019-2",
          "2020-1",
          "2020-2",
          "2021-1",
          "2021-2",
          "2022-1",
          "2022-2",
          "2023-1"
         ],
         "xaxis": "x",
         "y": [
          11,
          11,
          12,
          11,
          10,
          10,
          11,
          11,
          11,
          12,
          11
         ],
         "yaxis": "y",
         "type": "scatter"
        },
        {
         "hovertemplate": "category=INGENIERÍA SANITARIA-CONTRATADO<br>semestres=%{x}<br>valores=%{y}<extra></extra>",
         "legendgroup": "INGENIERÍA SANITARIA-CONTRATADO",
         "line": {
          "color": "#00cc96",
          "dash": "solid"
         },
         "marker": {
          "symbol": "circle",
          "size": 10
         },
         "mode": "lines+markers",
         "name": "INGENIERÍA SANITARIA-CONTRATADO",
         "orientation": "v",
         "showlegend": true,
         "x": [
          "2018-1",
          "2018-2",
          "2019-1",
          "2019-2",
          "2020-1",
          "2020-2",
          "2021-1",
          "2021-2",
          "2022-1",
          "2022-2",
          "2023-1"
         ],
         "xaxis": "x",
         "y": [
          1,
          1,
          2,
          2,
          2,
          3,
          2,
          2,
          3,
          5,
          6
         ],
         "yaxis": "y",
         "type": "scatter"
        },
        {
         "hovertemplate": "category=INGENIERÍA SANITARIA-NOMBRADO<br>semestres=%{x}<br>valores=%{y}<extra></extra>",
         "legendgroup": "INGENIERÍA SANITARIA-NOMBRADO",
         "line": {
          "color": "#ab63fa",
          "dash": "solid"
         },
         "marker": {
          "symbol": "circle",
          "size": 10
         },
         "mode": "lines+markers",
         "name": "INGENIERÍA SANITARIA-NOMBRADO",
         "orientation": "v",
         "showlegend": true,
         "x": [
          "2018-1",
          "2018-2",
          "2019-1",
          "2019-2",
          "2020-1",
          "2020-2",
          "2021-1",
          "2021-2",
          "2022-1",
          "2022-2",
          "2023-1"
         ],
         "xaxis": "x",
         "y": [
          10,
          9,
          10,
          10,
          10,
          10,
          10,
          11,
          11,
          11,
          11
         ],
         "yaxis": "y",
         "type": "scatter"
        },
        {
         "hovertemplate": "category=MATEMÁTICA-CONTRATADO<br>semestres=%{x}<br>valores=%{y}<extra></extra>",
         "legendgroup": "MATEMÁTICA-CONTRATADO",
         "line": {
          "color": "#FFA15A",
          "dash": "solid"
         },
         "marker": {
          "symbol": "circle",
          "size": 10
         },
         "mode": "lines+markers",
         "name": "MATEMÁTICA-CONTRATADO",
         "orientation": "v",
         "showlegend": true,
         "x": [
          "2018-1",
          "2018-2",
          "2019-1",
          "2019-2",
          "2020-1",
          "2020-2",
          "2021-1",
          "2021-2",
          "2022-1",
          "2022-2",
          "2023-1"
         ],
         "xaxis": "x",
         "y": [
          5,
          4,
          8,
          7,
          8,
          3,
          14,
          4,
          10,
          3,
          8
         ],
         "yaxis": "y",
         "type": "scatter"
        },
        {
         "hovertemplate": "category=MATEMÁTICA-NOMBRADO<br>semestres=%{x}<br>valores=%{y}<extra></extra>",
         "legendgroup": "MATEMÁTICA-NOMBRADO",
         "line": {
          "color": "#19d3f3",
          "dash": "solid"
         },
         "marker": {
          "symbol": "circle",
          "size": 10
         },
         "mode": "lines+markers",
         "name": "MATEMÁTICA-NOMBRADO",
         "orientation": "v",
         "showlegend": true,
         "x": [
          "2018-1",
          "2018-2",
          "2019-1",
          "2019-2",
          "2020-1",
          "2020-2",
          "2021-1",
          "2021-2",
          "2022-1",
          "2022-2",
          "2023-1"
         ],
         "xaxis": "x",
         "y": [
          36,
          36,
          35,
          35,
          35,
          35,
          33,
          34,
          35,
          33,
          32
         ],
         "yaxis": "y",
         "type": "scatter"
        },
        {
         "hovertemplate": "category=OBSTETRICIA-CONTRATADO<br>semestres=%{x}<br>valores=%{y}<extra></extra>",
         "legendgroup": "OBSTETRICIA-CONTRATADO",
         "line": {
          "color": "#FF6692",
          "dash": "solid"
         },
         "marker": {
          "symbol": "circle",
          "size": 10
         },
         "mode": "lines+markers",
         "name": "OBSTETRICIA-CONTRATADO",
         "orientation": "v",
         "showlegend": true,
         "x": [
          "2018-1",
          "2018-2",
          "2019-1",
          "2019-2",
          "2020-1",
          "2020-2",
          "2021-1",
          "2021-2",
          "2022-1",
          "2022-2",
          "2023-1"
         ],
         "xaxis": "x",
         "y": [
          8,
          7,
          8,
          6,
          2,
          2,
          6,
          5,
          13,
          11,
          10
         ],
         "yaxis": "y",
         "type": "scatter"
        },
        {
         "hovertemplate": "category=OBSTETRICIA-NOMBRADO<br>semestres=%{x}<br>valores=%{y}<extra></extra>",
         "legendgroup": "OBSTETRICIA-NOMBRADO",
         "line": {
          "color": "#B6E880",
          "dash": "solid"
         },
         "marker": {
          "symbol": "circle",
          "size": 10
         },
         "mode": "lines+markers",
         "name": "OBSTETRICIA-NOMBRADO",
         "orientation": "v",
         "showlegend": true,
         "x": [
          "2018-1",
          "2018-2",
          "2019-1",
          "2019-2",
          "2020-1",
          "2020-2",
          "2021-1",
          "2021-2",
          "2022-1",
          "2022-2",
          "2023-1"
         ],
         "xaxis": "x",
         "y": [
          15,
          15,
          16,
          16,
          15,
          15,
          15,
          15,
          15,
          15,
          15
         ],
         "yaxis": "y",
         "type": "scatter"
        },
        {
         "hovertemplate": "category=PROPEDÉUTICA-CONTRATADO<br>semestres=%{x}<br>valores=%{y}<extra></extra>",
         "legendgroup": "PROPEDÉUTICA-CONTRATADO",
         "line": {
          "color": "#FF97FF",
          "dash": "solid"
         },
         "marker": {
          "symbol": "circle",
          "size": 10
         },
         "mode": "lines+markers",
         "name": "PROPEDÉUTICA-CONTRATADO",
         "orientation": "v",
         "showlegend": true,
         "x": [
          "2018-1",
          "2018-2",
          "2019-1",
          "2019-2",
          "2020-1",
          "2020-2",
          "2021-1",
          "2021-2",
          "2022-1",
          "2022-2",
          "2023-1"
         ],
         "xaxis": "x",
         "y": [
          1,
          2,
          1,
          4,
          0,
          0,
          0,
          4,
          2,
          4,
          2
         ],
         "yaxis": "y",
         "type": "scatter"
        },
        {
         "hovertemplate": "category=PROPEDÉUTICA-NOMBRADO<br>semestres=%{x}<br>valores=%{y}<extra></extra>",
         "legendgroup": "PROPEDÉUTICA-NOMBRADO",
         "line": {
          "color": "#FECB52",
          "dash": "solid"
         },
         "marker": {
          "symbol": "circle",
          "size": 10
         },
         "mode": "lines+markers",
         "name": "PROPEDÉUTICA-NOMBRADO",
         "orientation": "v",
         "showlegend": true,
         "x": [
          "2018-1",
          "2018-2",
          "2019-1",
          "2019-2",
          "2020-1",
          "2020-2",
          "2021-1",
          "2021-2",
          "2022-1",
          "2022-2",
          "2023-1"
         ],
         "xaxis": "x",
         "y": [
          11,
          10,
          10,
          9,
          10,
          9,
          10,
          8,
          10,
          10,
          8
         ],
         "yaxis": "y",
         "type": "scatter"
        },
        {
         "hovertemplate": "category=TURISMO-CONTRATADO<br>semestres=%{x}<br>valores=%{y}<extra></extra>",
         "legendgroup": "TURISMO-CONTRATADO",
         "line": {
          "color": "#636efa",
          "dash": "solid"
         },
         "marker": {
          "symbol": "circle",
          "size": 10
         },
         "mode": "lines+markers",
         "name": "TURISMO-CONTRATADO",
         "orientation": "v",
         "showlegend": true,
         "x": [
          "2018-1",
          "2018-2",
          "2019-1",
          "2019-2",
          "2020-1",
          "2020-2",
          "2021-1",
          "2021-2",
          "2022-1",
          "2022-2",
          "2023-1"
         ],
         "xaxis": "x",
         "y": [
          0,
          1,
          0,
          0,
          0,
          0,
          0,
          0,
          2,
          1,
          1
         ],
         "yaxis": "y",
         "type": "scatter"
        },
        {
         "hovertemplate": "category=TURISMO-NOMBRADO<br>semestres=%{x}<br>valores=%{y}<extra></extra>",
         "legendgroup": "TURISMO-NOMBRADO",
         "line": {
          "color": "#EF553B",
          "dash": "solid"
         },
         "marker": {
          "symbol": "circle",
          "size": 10
         },
         "mode": "lines+markers",
         "name": "TURISMO-NOMBRADO",
         "orientation": "v",
         "showlegend": true,
         "x": [
          "2018-1",
          "2018-2",
          "2019-1",
          "2019-2",
          "2020-1",
          "2020-2",
          "2021-1",
          "2021-2",
          "2022-1",
          "2022-2",
          "2023-1"
         ],
         "xaxis": "x",
         "y": [
          9,
          8,
          10,
          10,
          10,
          10,
          10,
          10,
          10,
          10,
          10
         ],
         "yaxis": "y",
         "type": "scatter"
        }
       ],
       "layout": {
        "template": {
         "data": {
          "histogram2dcontour": [
           {
            "type": "histogram2dcontour",
            "colorbar": {
             "outlinewidth": 0,
             "ticks": ""
            },
            "colorscale": [
             [
              0.0,
              "#0d0887"
             ],
             [
              0.1111111111111111,
              "#46039f"
             ],
             [
              0.2222222222222222,
              "#7201a8"
             ],
             [
              0.3333333333333333,
              "#9c179e"
             ],
             [
              0.4444444444444444,
              "#bd3786"
             ],
             [
              0.5555555555555556,
              "#d8576b"
             ],
             [
              0.6666666666666666,
              "#ed7953"
             ],
             [
              0.7777777777777778,
              "#fb9f3a"
             ],
             [
              0.8888888888888888,
              "#fdca26"
             ],
             [
              1.0,
              "#f0f921"
             ]
            ]
           }
          ],
          "choropleth": [
           {
            "type": "choropleth",
            "colorbar": {
             "outlinewidth": 0,
             "ticks": ""
            }
           }
          ],
          "histogram2d": [
           {
            "type": "histogram2d",
            "colorbar": {
             "outlinewidth": 0,
             "ticks": ""
            },
            "colorscale": [
             [
              0.0,
              "#0d0887"
             ],
             [
              0.1111111111111111,
              "#46039f"
             ],
             [
              0.2222222222222222,
              "#7201a8"
             ],
             [
              0.3333333333333333,
              "#9c179e"
             ],
             [
              0.4444444444444444,
              "#bd3786"
             ],
             [
              0.5555555555555556,
              "#d8576b"
             ],
             [
              0.6666666666666666,
              "#ed7953"
             ],
             [
              0.7777777777777778,
              "#fb9f3a"
             ],
             [
              0.8888888888888888,
              "#fdca26"
             ],
             [
              1.0,
              "#f0f921"
             ]
            ]
           }
          ],
          "heatmap": [
           {
            "type": "heatmap",
            "colorbar": {
             "outlinewidth": 0,
             "ticks": ""
            },
            "colorscale": [
             [
              0.0,
              "#0d0887"
             ],
             [
              0.1111111111111111,
              "#46039f"
             ],
             [
              0.2222222222222222,
              "#7201a8"
             ],
             [
              0.3333333333333333,
              "#9c179e"
             ],
             [
              0.4444444444444444,
              "#bd3786"
             ],
             [
              0.5555555555555556,
              "#d8576b"
             ],
             [
              0.6666666666666666,
              "#ed7953"
             ],
             [
              0.7777777777777778,
              "#fb9f3a"
             ],
             [
              0.8888888888888888,
              "#fdca26"
             ],
             [
              1.0,
              "#f0f921"
             ]
            ]
           }
          ],
          "heatmapgl": [
           {
            "type": "heatmapgl",
            "colorbar": {
             "outlinewidth": 0,
             "ticks": ""
            },
            "colorscale": [
             [
              0.0,
              "#0d0887"
             ],
             [
              0.1111111111111111,
              "#46039f"
             ],
             [
              0.2222222222222222,
              "#7201a8"
             ],
             [
              0.3333333333333333,
              "#9c179e"
             ],
             [
              0.4444444444444444,
              "#bd3786"
             ],
             [
              0.5555555555555556,
              "#d8576b"
             ],
             [
              0.6666666666666666,
              "#ed7953"
             ],
             [
              0.7777777777777778,
              "#fb9f3a"
             ],
             [
              0.8888888888888888,
              "#fdca26"
             ],
             [
              1.0,
              "#f0f921"
             ]
            ]
           }
          ],
          "contourcarpet": [
           {
            "type": "contourcarpet",
            "colorbar": {
             "outlinewidth": 0,
             "ticks": ""
            }
           }
          ],
          "contour": [
           {
            "type": "contour",
            "colorbar": {
             "outlinewidth": 0,
             "ticks": ""
            },
            "colorscale": [
             [
              0.0,
              "#0d0887"
             ],
             [
              0.1111111111111111,
              "#46039f"
             ],
             [
              0.2222222222222222,
              "#7201a8"
             ],
             [
              0.3333333333333333,
              "#9c179e"
             ],
             [
              0.4444444444444444,
              "#bd3786"
             ],
             [
              0.5555555555555556,
              "#d8576b"
             ],
             [
              0.6666666666666666,
              "#ed7953"
             ],
             [
              0.7777777777777778,
              "#fb9f3a"
             ],
             [
              0.8888888888888888,
              "#fdca26"
             ],
             [
              1.0,
              "#f0f921"
             ]
            ]
           }
          ],
          "surface": [
           {
            "type": "surface",
            "colorbar": {
             "outlinewidth": 0,
             "ticks": ""
            },
            "colorscale": [
             [
              0.0,
              "#0d0887"
             ],
             [
              0.1111111111111111,
              "#46039f"
             ],
             [
              0.2222222222222222,
              "#7201a8"
             ],
             [
              0.3333333333333333,
              "#9c179e"
             ],
             [
              0.4444444444444444,
              "#bd3786"
             ],
             [
              0.5555555555555556,
              "#d8576b"
             ],
             [
              0.6666666666666666,
              "#ed7953"
             ],
             [
              0.7777777777777778,
              "#fb9f3a"
             ],
             [
              0.8888888888888888,
              "#fdca26"
             ],
             [
              1.0,
              "#f0f921"
             ]
            ]
           }
          ],
          "mesh3d": [
           {
            "type": "mesh3d",
            "colorbar": {
             "outlinewidth": 0,
             "ticks": ""
            }
           }
          ],
          "scatter": [
           {
            "fillpattern": {
             "fillmode": "overlay",
             "size": 10,
             "solidity": 0.2
            },
            "type": "scatter"
           }
          ],
          "parcoords": [
           {
            "type": "parcoords",
            "line": {
             "colorbar": {
              "outlinewidth": 0,
              "ticks": ""
             }
            }
           }
          ],
          "scatterpolargl": [
           {
            "type": "scatterpolargl",
            "marker": {
             "colorbar": {
              "outlinewidth": 0,
              "ticks": ""
             }
            }
           }
          ],
          "bar": [
           {
            "error_x": {
             "color": "#2a3f5f"
            },
            "error_y": {
             "color": "#2a3f5f"
            },
            "marker": {
             "line": {
              "color": "#E5ECF6",
              "width": 0.5
             },
             "pattern": {
              "fillmode": "overlay",
              "size": 10,
              "solidity": 0.2
             }
            },
            "type": "bar"
           }
          ],
          "scattergeo": [
           {
            "type": "scattergeo",
            "marker": {
             "colorbar": {
              "outlinewidth": 0,
              "ticks": ""
             }
            }
           }
          ],
          "scatterpolar": [
           {
            "type": "scatterpolar",
            "marker": {
             "colorbar": {
              "outlinewidth": 0,
              "ticks": ""
             }
            }
           }
          ],
          "histogram": [
           {
            "marker": {
             "pattern": {
              "fillmode": "overlay",
              "size": 10,
              "solidity": 0.2
             }
            },
            "type": "histogram"
           }
          ],
          "scattergl": [
           {
            "type": "scattergl",
            "marker": {
             "colorbar": {
              "outlinewidth": 0,
              "ticks": ""
             }
            }
           }
          ],
          "scatter3d": [
           {
            "type": "scatter3d",
            "line": {
             "colorbar": {
              "outlinewidth": 0,
              "ticks": ""
             }
            },
            "marker": {
             "colorbar": {
              "outlinewidth": 0,
              "ticks": ""
             }
            }
           }
          ],
          "scattermapbox": [
           {
            "type": "scattermapbox",
            "marker": {
             "colorbar": {
              "outlinewidth": 0,
              "ticks": ""
             }
            }
           }
          ],
          "scatterternary": [
           {
            "type": "scatterternary",
            "marker": {
             "colorbar": {
              "outlinewidth": 0,
              "ticks": ""
             }
            }
           }
          ],
          "scattercarpet": [
           {
            "type": "scattercarpet",
            "marker": {
             "colorbar": {
              "outlinewidth": 0,
              "ticks": ""
             }
            }
           }
          ],
          "carpet": [
           {
            "aaxis": {
             "endlinecolor": "#2a3f5f",
             "gridcolor": "white",
             "linecolor": "white",
             "minorgridcolor": "white",
             "startlinecolor": "#2a3f5f"
            },
            "baxis": {
             "endlinecolor": "#2a3f5f",
             "gridcolor": "white",
             "linecolor": "white",
             "minorgridcolor": "white",
             "startlinecolor": "#2a3f5f"
            },
            "type": "carpet"
           }
          ],
          "table": [
           {
            "cells": {
             "fill": {
              "color": "#EBF0F8"
             },
             "line": {
              "color": "white"
             }
            },
            "header": {
             "fill": {
              "color": "#C8D4E3"
             },
             "line": {
              "color": "white"
             }
            },
            "type": "table"
           }
          ],
          "barpolar": [
           {
            "marker": {
             "line": {
              "color": "#E5ECF6",
              "width": 0.5
             },
             "pattern": {
              "fillmode": "overlay",
              "size": 10,
              "solidity": 0.2
             }
            },
            "type": "barpolar"
           }
          ],
          "pie": [
           {
            "automargin": true,
            "type": "pie"
           }
          ]
         },
         "layout": {
          "autotypenumbers": "strict",
          "colorway": [
           "#636efa",
           "#EF553B",
           "#00cc96",
           "#ab63fa",
           "#FFA15A",
           "#19d3f3",
           "#FF6692",
           "#B6E880",
           "#FF97FF",
           "#FECB52"
          ],
          "font": {
           "color": "#2a3f5f"
          },
          "hovermode": "closest",
          "hoverlabel": {
           "align": "left"
          },
          "paper_bgcolor": "white",
          "plot_bgcolor": "#E5ECF6",
          "polar": {
           "bgcolor": "#E5ECF6",
           "angularaxis": {
            "gridcolor": "white",
            "linecolor": "white",
            "ticks": ""
           },
           "radialaxis": {
            "gridcolor": "white",
            "linecolor": "white",
            "ticks": ""
           }
          },
          "ternary": {
           "bgcolor": "#E5ECF6",
           "aaxis": {
            "gridcolor": "white",
            "linecolor": "white",
            "ticks": ""
           },
           "baxis": {
            "gridcolor": "white",
            "linecolor": "white",
            "ticks": ""
           },
           "caxis": {
            "gridcolor": "white",
            "linecolor": "white",
            "ticks": ""
           }
          },
          "coloraxis": {
           "colorbar": {
            "outlinewidth": 0,
            "ticks": ""
           }
          },
          "colorscale": {
           "sequential": [
            [
             0.0,
             "#0d0887"
            ],
            [
             0.1111111111111111,
             "#46039f"
            ],
            [
             0.2222222222222222,
             "#7201a8"
            ],
            [
             0.3333333333333333,
             "#9c179e"
            ],
            [
             0.4444444444444444,
             "#bd3786"
            ],
            [
             0.5555555555555556,
             "#d8576b"
            ],
            [
             0.6666666666666666,
             "#ed7953"
            ],
            [
             0.7777777777777778,
             "#fb9f3a"
            ],
            [
             0.8888888888888888,
             "#fdca26"
            ],
            [
             1.0,
             "#f0f921"
            ]
           ],
           "sequentialminus": [
            [
             0.0,
             "#0d0887"
            ],
            [
             0.1111111111111111,
             "#46039f"
            ],
            [
             0.2222222222222222,
             "#7201a8"
            ],
            [
             0.3333333333333333,
             "#9c179e"
            ],
            [
             0.4444444444444444,
             "#bd3786"
            ],
            [
             0.5555555555555556,
             "#d8576b"
            ],
            [
             0.6666666666666666,
             "#ed7953"
            ],
            [
             0.7777777777777778,
             "#fb9f3a"
            ],
            [
             0.8888888888888888,
             "#fdca26"
            ],
            [
             1.0,
             "#f0f921"
            ]
           ],
           "diverging": [
            [
             0,
             "#8e0152"
            ],
            [
             0.1,
             "#c51b7d"
            ],
            [
             0.2,
             "#de77ae"
            ],
            [
             0.3,
             "#f1b6da"
            ],
            [
             0.4,
             "#fde0ef"
            ],
            [
             0.5,
             "#f7f7f7"
            ],
            [
             0.6,
             "#e6f5d0"
            ],
            [
             0.7,
             "#b8e186"
            ],
            [
             0.8,
             "#7fbc41"
            ],
            [
             0.9,
             "#4d9221"
            ],
            [
             1,
             "#276419"
            ]
           ]
          },
          "xaxis": {
           "gridcolor": "white",
           "linecolor": "white",
           "ticks": "",
           "title": {
            "standoff": 15
           },
           "zerolinecolor": "white",
           "automargin": true,
           "zerolinewidth": 2
          },
          "yaxis": {
           "gridcolor": "white",
           "linecolor": "white",
           "ticks": "",
           "title": {
            "standoff": 15
           },
           "zerolinecolor": "white",
           "automargin": true,
           "zerolinewidth": 2
          },
          "scene": {
           "xaxis": {
            "backgroundcolor": "#E5ECF6",
            "gridcolor": "white",
            "linecolor": "white",
            "showbackground": true,
            "ticks": "",
            "zerolinecolor": "white",
            "gridwidth": 2
           },
           "yaxis": {
            "backgroundcolor": "#E5ECF6",
            "gridcolor": "white",
            "linecolor": "white",
            "showbackground": true,
            "ticks": "",
            "zerolinecolor": "white",
            "gridwidth": 2
           },
           "zaxis": {
            "backgroundcolor": "#E5ECF6",
            "gridcolor": "white",
            "linecolor": "white",
            "showbackground": true,
            "ticks": "",
            "zerolinecolor": "white",
            "gridwidth": 2
           }
          },
          "shapedefaults": {
           "line": {
            "color": "#2a3f5f"
           }
          },
          "annotationdefaults": {
           "arrowcolor": "#2a3f5f",
           "arrowhead": 0,
           "arrowwidth": 1
          },
          "geo": {
           "bgcolor": "white",
           "landcolor": "#E5ECF6",
           "subunitcolor": "white",
           "showland": true,
           "showlakes": true,
           "lakecolor": "white"
          },
          "title": {
           "x": 0.05
          },
          "mapbox": {
           "style": "light"
          }
         }
        },
        "xaxis": {
         "anchor": "y",
         "domain": [
          0.0,
          1.0
         ],
         "title": {
          "text": "semestres"
         }
        },
        "yaxis": {
         "anchor": "x",
         "domain": [
          0.0,
          1.0
         ],
         "title": {
          "text": "valores"
         }
        },
        "legend": {
         "title": {
          "text": "category"
         },
         "tracegroupgap": 0
        },
        "title": {
         "text": "Línea de tendencia por categorías"
        }
       },
       "config": {
        "plotlyServerURL": "https://plot.ly"
       }
      },
      "text/html": "<div>                            <div id=\"d641df5d-20c5-45fc-b3ee-6365d199355c\" class=\"plotly-graph-div\" style=\"height:525px; width:100%;\"></div>            <script type=\"text/javascript\">                require([\"plotly\"], function(Plotly) {                    window.PLOTLYENV=window.PLOTLYENV || {};                                    if (document.getElementById(\"d641df5d-20c5-45fc-b3ee-6365d199355c\")) {                    Plotly.newPlot(                        \"d641df5d-20c5-45fc-b3ee-6365d199355c\",                        [{\"hovertemplate\":\"category=ADMINISTRACI\\u00d3N-CONTRATADO\\u003cbr\\u003esemestres=%{x}\\u003cbr\\u003evalores=%{y}\\u003cextra\\u003e\\u003c\\u002fextra\\u003e\",\"legendgroup\":\"ADMINISTRACI\\u00d3N-CONTRATADO\",\"line\":{\"color\":\"#636efa\",\"dash\":\"solid\"},\"marker\":{\"symbol\":\"circle\",\"size\":10},\"mode\":\"lines+markers\",\"name\":\"ADMINISTRACI\\u00d3N-CONTRATADO\",\"orientation\":\"v\",\"showlegend\":true,\"x\":[\"2018-1\",\"2018-2\",\"2019-1\",\"2019-2\",\"2020-1\",\"2020-2\",\"2021-1\",\"2021-2\",\"2022-1\",\"2022-2\",\"2023-1\"],\"xaxis\":\"x\",\"y\":[4,4,4,4,4,4,5,3,7,5,6],\"yaxis\":\"y\",\"type\":\"scatter\"},{\"hovertemplate\":\"category=ADMINISTRACI\\u00d3N-NOMBRADO\\u003cbr\\u003esemestres=%{x}\\u003cbr\\u003evalores=%{y}\\u003cextra\\u003e\\u003c\\u002fextra\\u003e\",\"legendgroup\":\"ADMINISTRACI\\u00d3N-NOMBRADO\",\"line\":{\"color\":\"#EF553B\",\"dash\":\"solid\"},\"marker\":{\"symbol\":\"circle\",\"size\":10},\"mode\":\"lines+markers\",\"name\":\"ADMINISTRACI\\u00d3N-NOMBRADO\",\"orientation\":\"v\",\"showlegend\":true,\"x\":[\"2018-1\",\"2018-2\",\"2019-1\",\"2019-2\",\"2020-1\",\"2020-2\",\"2021-1\",\"2021-2\",\"2022-1\",\"2022-2\",\"2023-1\"],\"xaxis\":\"x\",\"y\":[18,18,16,16,18,17,19,19,18,19,18],\"yaxis\":\"y\",\"type\":\"scatter\"},{\"hovertemplate\":\"category=AGRONOMIA-CONTRATADO\\u003cbr\\u003esemestres=%{x}\\u003cbr\\u003evalores=%{y}\\u003cextra\\u003e\\u003c\\u002fextra\\u003e\",\"legendgroup\":\"AGRONOMIA-CONTRATADO\",\"line\":{\"color\":\"#00cc96\",\"dash\":\"solid\"},\"marker\":{\"symbol\":\"circle\",\"size\":10},\"mode\":\"lines+markers\",\"name\":\"AGRONOMIA-CONTRATADO\",\"orientation\":\"v\",\"showlegend\":true,\"x\":[\"2018-1\",\"2018-2\",\"2019-1\",\"2019-2\",\"2020-1\",\"2020-2\",\"2021-1\",\"2021-2\",\"2022-1\",\"2022-2\",\"2023-1\"],\"xaxis\":\"x\",\"y\":[3,2,2,2,2,1,2,2,3,2,3],\"yaxis\":\"y\",\"type\":\"scatter\"},{\"hovertemplate\":\"category=AGRONOMIA-NOMBRADO\\u003cbr\\u003esemestres=%{x}\\u003cbr\\u003evalores=%{y}\\u003cextra\\u003e\\u003c\\u002fextra\\u003e\",\"legendgroup\":\"AGRONOMIA-NOMBRADO\",\"line\":{\"color\":\"#ab63fa\",\"dash\":\"solid\"},\"marker\":{\"symbol\":\"circle\",\"size\":10},\"mode\":\"lines+markers\",\"name\":\"AGRONOMIA-NOMBRADO\",\"orientation\":\"v\",\"showlegend\":true,\"x\":[\"2018-1\",\"2018-2\",\"2019-1\",\"2019-2\",\"2020-1\",\"2020-2\",\"2021-1\",\"2021-2\",\"2022-1\",\"2022-2\",\"2023-1\"],\"xaxis\":\"x\",\"y\":[13,13,12,13,12,13,12,13,13,13,11],\"yaxis\":\"y\",\"type\":\"scatter\"},{\"hovertemplate\":\"category=CIENCIA Y TECNOLOGIA DE ALIMENTOS-CONTRATADO\\u003cbr\\u003esemestres=%{x}\\u003cbr\\u003evalores=%{y}\\u003cextra\\u003e\\u003c\\u002fextra\\u003e\",\"legendgroup\":\"CIENCIA Y TECNOLOGIA DE ALIMENTOS-CONTRATADO\",\"line\":{\"color\":\"#FFA15A\",\"dash\":\"solid\"},\"marker\":{\"symbol\":\"circle\",\"size\":10},\"mode\":\"lines+markers\",\"name\":\"CIENCIA Y TECNOLOGIA DE ALIMENTOS-CONTRATADO\",\"orientation\":\"v\",\"showlegend\":true,\"x\":[\"2018-1\",\"2018-2\",\"2019-1\",\"2019-2\",\"2020-1\",\"2020-2\",\"2021-1\",\"2021-2\",\"2022-1\",\"2022-2\",\"2023-1\"],\"xaxis\":\"x\",\"y\":[5,5,5,5,5,5,5,3,3,5,5],\"yaxis\":\"y\",\"type\":\"scatter\"},{\"hovertemplate\":\"category=CIENCIA Y TECNOLOGIA DE ALIMENTOS-NOMBRADO\\u003cbr\\u003esemestres=%{x}\\u003cbr\\u003evalores=%{y}\\u003cextra\\u003e\\u003c\\u002fextra\\u003e\",\"legendgroup\":\"CIENCIA Y TECNOLOGIA DE ALIMENTOS-NOMBRADO\",\"line\":{\"color\":\"#19d3f3\",\"dash\":\"solid\"},\"marker\":{\"symbol\":\"circle\",\"size\":10},\"mode\":\"lines+markers\",\"name\":\"CIENCIA Y TECNOLOGIA DE ALIMENTOS-NOMBRADO\",\"orientation\":\"v\",\"showlegend\":true,\"x\":[\"2018-1\",\"2018-2\",\"2019-1\",\"2019-2\",\"2020-1\",\"2020-2\",\"2021-1\",\"2021-2\",\"2022-1\",\"2022-2\",\"2023-1\"],\"xaxis\":\"x\",\"y\":[18,18,18,17,17,16,16,17,17,17,17],\"yaxis\":\"y\",\"type\":\"scatter\"},{\"hovertemplate\":\"category=CIENCIAS B\\u00c1SICAS-CONTRATADO\\u003cbr\\u003esemestres=%{x}\\u003cbr\\u003evalores=%{y}\\u003cextra\\u003e\\u003c\\u002fextra\\u003e\",\"legendgroup\":\"CIENCIAS B\\u00c1SICAS-CONTRATADO\",\"line\":{\"color\":\"#FF6692\",\"dash\":\"solid\"},\"marker\":{\"symbol\":\"circle\",\"size\":10},\"mode\":\"lines+markers\",\"name\":\"CIENCIAS B\\u00c1SICAS-CONTRATADO\",\"orientation\":\"v\",\"showlegend\":true,\"x\":[\"2018-1\",\"2018-2\",\"2019-1\",\"2019-2\",\"2020-1\",\"2020-2\",\"2021-1\",\"2021-2\",\"2022-1\",\"2022-2\",\"2023-1\"],\"xaxis\":\"x\",\"y\":[5,4,7,2,0,7,9,2,6,1,5],\"yaxis\":\"y\",\"type\":\"scatter\"},{\"hovertemplate\":\"category=CIENCIAS B\\u00c1SICAS-NOMBRADO\\u003cbr\\u003esemestres=%{x}\\u003cbr\\u003evalores=%{y}\\u003cextra\\u003e\\u003c\\u002fextra\\u003e\",\"legendgroup\":\"CIENCIAS B\\u00c1SICAS-NOMBRADO\",\"line\":{\"color\":\"#B6E880\",\"dash\":\"solid\"},\"marker\":{\"symbol\":\"circle\",\"size\":10},\"mode\":\"lines+markers\",\"name\":\"CIENCIAS B\\u00c1SICAS-NOMBRADO\",\"orientation\":\"v\",\"showlegend\":true,\"x\":[\"2018-1\",\"2018-2\",\"2019-1\",\"2019-2\",\"2020-1\",\"2020-2\",\"2021-1\",\"2021-2\",\"2022-1\",\"2022-2\",\"2023-1\"],\"xaxis\":\"x\",\"y\":[35,33,32,30,0,28,30,29,31,32,32],\"yaxis\":\"y\",\"type\":\"scatter\"},{\"hovertemplate\":\"category=CIENCIAS DEL AMBIENTE-CONTRATADO\\u003cbr\\u003esemestres=%{x}\\u003cbr\\u003evalores=%{y}\\u003cextra\\u003e\\u003c\\u002fextra\\u003e\",\"legendgroup\":\"CIENCIAS DEL AMBIENTE-CONTRATADO\",\"line\":{\"color\":\"#FF97FF\",\"dash\":\"solid\"},\"marker\":{\"symbol\":\"circle\",\"size\":10},\"mode\":\"lines+markers\",\"name\":\"CIENCIAS DEL AMBIENTE-CONTRATADO\",\"orientation\":\"v\",\"showlegend\":true,\"x\":[\"2018-1\",\"2018-2\",\"2019-1\",\"2019-2\",\"2020-1\",\"2020-2\",\"2021-1\",\"2021-2\",\"2022-1\",\"2022-2\",\"2023-1\"],\"xaxis\":\"x\",\"y\":[8,8,6,8,4,8,9,5,6,4,3],\"yaxis\":\"y\",\"type\":\"scatter\"},{\"hovertemplate\":\"category=CIENCIAS DEL AMBIENTE-NOMBRADO\\u003cbr\\u003esemestres=%{x}\\u003cbr\\u003evalores=%{y}\\u003cextra\\u003e\\u003c\\u002fextra\\u003e\",\"legendgroup\":\"CIENCIAS DEL AMBIENTE-NOMBRADO\",\"line\":{\"color\":\"#FECB52\",\"dash\":\"solid\"},\"marker\":{\"symbol\":\"circle\",\"size\":10},\"mode\":\"lines+markers\",\"name\":\"CIENCIAS DEL AMBIENTE-NOMBRADO\",\"orientation\":\"v\",\"showlegend\":true,\"x\":[\"2018-1\",\"2018-2\",\"2019-1\",\"2019-2\",\"2020-1\",\"2020-2\",\"2021-1\",\"2021-2\",\"2022-1\",\"2022-2\",\"2023-1\"],\"xaxis\":\"x\",\"y\":[15,15,15,14,15,17,16,18,16,16,16],\"yaxis\":\"y\",\"type\":\"scatter\"},{\"hovertemplate\":\"category=CIENCIAS SOCIALES Y CIENCIAS DE LA COMUNICACION-CONTRATADO\\u003cbr\\u003esemestres=%{x}\\u003cbr\\u003evalores=%{y}\\u003cextra\\u003e\\u003c\\u002fextra\\u003e\",\"legendgroup\":\"CIENCIAS SOCIALES Y CIENCIAS DE LA COMUNICACION-CONTRATADO\",\"line\":{\"color\":\"#636efa\",\"dash\":\"solid\"},\"marker\":{\"symbol\":\"circle\",\"size\":10},\"mode\":\"lines+markers\",\"name\":\"CIENCIAS SOCIALES Y CIENCIAS DE LA COMUNICACION-CONTRATADO\",\"orientation\":\"v\",\"showlegend\":true,\"x\":[\"2018-1\",\"2018-2\",\"2019-1\",\"2019-2\",\"2020-1\",\"2020-2\",\"2021-1\",\"2021-2\",\"2022-1\",\"2022-2\",\"2023-1\"],\"xaxis\":\"x\",\"y\":[10,12,13,13,8,11,12,11,13,14,12],\"yaxis\":\"y\",\"type\":\"scatter\"},{\"hovertemplate\":\"category=CIENCIAS SOCIALES Y CIENCIAS DE LA COMUNICACION-NOMBRADO\\u003cbr\\u003esemestres=%{x}\\u003cbr\\u003evalores=%{y}\\u003cextra\\u003e\\u003c\\u002fextra\\u003e\",\"legendgroup\":\"CIENCIAS SOCIALES Y CIENCIAS DE LA COMUNICACION-NOMBRADO\",\"line\":{\"color\":\"#EF553B\",\"dash\":\"solid\"},\"marker\":{\"symbol\":\"circle\",\"size\":10},\"mode\":\"lines+markers\",\"name\":\"CIENCIAS SOCIALES Y CIENCIAS DE LA COMUNICACION-NOMBRADO\",\"orientation\":\"v\",\"showlegend\":true,\"x\":[\"2018-1\",\"2018-2\",\"2019-1\",\"2019-2\",\"2020-1\",\"2020-2\",\"2021-1\",\"2021-2\",\"2022-1\",\"2022-2\",\"2023-1\"],\"xaxis\":\"x\",\"y\":[17,17,17,16,17,17,17,16,16,16,17],\"yaxis\":\"y\",\"type\":\"scatter\"},{\"hovertemplate\":\"category=CONTABILIDAD-CONTRATADO\\u003cbr\\u003esemestres=%{x}\\u003cbr\\u003evalores=%{y}\\u003cextra\\u003e\\u003c\\u002fextra\\u003e\",\"legendgroup\":\"CONTABILIDAD-CONTRATADO\",\"line\":{\"color\":\"#00cc96\",\"dash\":\"solid\"},\"marker\":{\"symbol\":\"circle\",\"size\":10},\"mode\":\"lines+markers\",\"name\":\"CONTABILIDAD-CONTRATADO\",\"orientation\":\"v\",\"showlegend\":true,\"x\":[\"2018-1\",\"2018-2\",\"2019-1\",\"2019-2\",\"2020-1\",\"2020-2\",\"2021-1\",\"2021-2\",\"2022-1\",\"2022-2\",\"2023-1\"],\"xaxis\":\"x\",\"y\":[1,1,1,1,1,1,2,1,5,2,2],\"yaxis\":\"y\",\"type\":\"scatter\"},{\"hovertemplate\":\"category=CONTABILIDAD-NOMBRADO\\u003cbr\\u003esemestres=%{x}\\u003cbr\\u003evalores=%{y}\\u003cextra\\u003e\\u003c\\u002fextra\\u003e\",\"legendgroup\":\"CONTABILIDAD-NOMBRADO\",\"line\":{\"color\":\"#ab63fa\",\"dash\":\"solid\"},\"marker\":{\"symbol\":\"circle\",\"size\":10},\"mode\":\"lines+markers\",\"name\":\"CONTABILIDAD-NOMBRADO\",\"orientation\":\"v\",\"showlegend\":true,\"x\":[\"2018-1\",\"2018-2\",\"2019-1\",\"2019-2\",\"2020-1\",\"2020-2\",\"2021-1\",\"2021-2\",\"2022-1\",\"2022-2\",\"2023-1\"],\"xaxis\":\"x\",\"y\":[19,18,19,18,20,19,20,20,21,21,21],\"yaxis\":\"y\",\"type\":\"scatter\"},{\"hovertemplate\":\"category=DERECHO Y CIENCIAS POLITICAS-CONTRATADO\\u003cbr\\u003esemestres=%{x}\\u003cbr\\u003evalores=%{y}\\u003cextra\\u003e\\u003c\\u002fextra\\u003e\",\"legendgroup\":\"DERECHO Y CIENCIAS POLITICAS-CONTRATADO\",\"line\":{\"color\":\"#FFA15A\",\"dash\":\"solid\"},\"marker\":{\"symbol\":\"circle\",\"size\":10},\"mode\":\"lines+markers\",\"name\":\"DERECHO Y CIENCIAS POLITICAS-CONTRATADO\",\"orientation\":\"v\",\"showlegend\":true,\"x\":[\"2018-1\",\"2018-2\",\"2019-1\",\"2019-2\",\"2020-1\",\"2020-2\",\"2021-1\",\"2021-2\",\"2022-1\",\"2022-2\",\"2023-1\"],\"xaxis\":\"x\",\"y\":[5,3,3,2,3,3,4,2,5,6,7],\"yaxis\":\"y\",\"type\":\"scatter\"},{\"hovertemplate\":\"category=DERECHO Y CIENCIAS POLITICAS-NOMBRADO\\u003cbr\\u003esemestres=%{x}\\u003cbr\\u003evalores=%{y}\\u003cextra\\u003e\\u003c\\u002fextra\\u003e\",\"legendgroup\":\"DERECHO Y CIENCIAS POLITICAS-NOMBRADO\",\"line\":{\"color\":\"#19d3f3\",\"dash\":\"solid\"},\"marker\":{\"symbol\":\"circle\",\"size\":10},\"mode\":\"lines+markers\",\"name\":\"DERECHO Y CIENCIAS POLITICAS-NOMBRADO\",\"orientation\":\"v\",\"showlegend\":true,\"x\":[\"2018-1\",\"2018-2\",\"2019-1\",\"2019-2\",\"2020-1\",\"2020-2\",\"2021-1\",\"2021-2\",\"2022-1\",\"2022-2\",\"2023-1\"],\"xaxis\":\"x\",\"y\":[23,24,23,24,24,23,21,27,26,24,25],\"yaxis\":\"y\",\"type\":\"scatter\"},{\"hovertemplate\":\"category=ECONOM\\u00cdA-CONTRATADO\\u003cbr\\u003esemestres=%{x}\\u003cbr\\u003evalores=%{y}\\u003cextra\\u003e\\u003c\\u002fextra\\u003e\",\"legendgroup\":\"ECONOM\\u00cdA-CONTRATADO\",\"line\":{\"color\":\"#FF6692\",\"dash\":\"solid\"},\"marker\":{\"symbol\":\"circle\",\"size\":10},\"mode\":\"lines+markers\",\"name\":\"ECONOM\\u00cdA-CONTRATADO\",\"orientation\":\"v\",\"showlegend\":true,\"x\":[\"2018-1\",\"2018-2\",\"2019-1\",\"2019-2\",\"2020-1\",\"2020-2\",\"2021-1\",\"2021-2\",\"2022-1\",\"2022-2\",\"2023-1\"],\"xaxis\":\"x\",\"y\":[0,2,1,2,2,2,5,4,6,5,5],\"yaxis\":\"y\",\"type\":\"scatter\"},{\"hovertemplate\":\"category=ECONOM\\u00cdA-NOMBRADO\\u003cbr\\u003esemestres=%{x}\\u003cbr\\u003evalores=%{y}\\u003cextra\\u003e\\u003c\\u002fextra\\u003e\",\"legendgroup\":\"ECONOM\\u00cdA-NOMBRADO\",\"line\":{\"color\":\"#B6E880\",\"dash\":\"solid\"},\"marker\":{\"symbol\":\"circle\",\"size\":10},\"mode\":\"lines+markers\",\"name\":\"ECONOM\\u00cdA-NOMBRADO\",\"orientation\":\"v\",\"showlegend\":true,\"x\":[\"2018-1\",\"2018-2\",\"2019-1\",\"2019-2\",\"2020-1\",\"2020-2\",\"2021-1\",\"2021-2\",\"2022-1\",\"2022-2\",\"2023-1\"],\"xaxis\":\"x\",\"y\":[27,25,26,25,28,28,28,27,27,24,24],\"yaxis\":\"y\",\"type\":\"scatter\"},{\"hovertemplate\":\"category=EDUCACION-CONTRATADO\\u003cbr\\u003esemestres=%{x}\\u003cbr\\u003evalores=%{y}\\u003cextra\\u003e\\u003c\\u002fextra\\u003e\",\"legendgroup\":\"EDUCACION-CONTRATADO\",\"line\":{\"color\":\"#FF97FF\",\"dash\":\"solid\"},\"marker\":{\"symbol\":\"circle\",\"size\":10},\"mode\":\"lines+markers\",\"name\":\"EDUCACION-CONTRATADO\",\"orientation\":\"v\",\"showlegend\":true,\"x\":[\"2018-1\",\"2018-2\",\"2019-1\",\"2019-2\",\"2020-1\",\"2020-2\",\"2021-1\",\"2021-2\",\"2022-1\",\"2022-2\",\"2023-1\"],\"xaxis\":\"x\",\"y\":[22,17,24,16,23,17,30,14,27,17,28],\"yaxis\":\"y\",\"type\":\"scatter\"},{\"hovertemplate\":\"category=EDUCACION-NOMBRADO\\u003cbr\\u003esemestres=%{x}\\u003cbr\\u003evalores=%{y}\\u003cextra\\u003e\\u003c\\u002fextra\\u003e\",\"legendgroup\":\"EDUCACION-NOMBRADO\",\"line\":{\"color\":\"#FECB52\",\"dash\":\"solid\"},\"marker\":{\"symbol\":\"circle\",\"size\":10},\"mode\":\"lines+markers\",\"name\":\"EDUCACION-NOMBRADO\",\"orientation\":\"v\",\"showlegend\":true,\"x\":[\"2018-1\",\"2018-2\",\"2019-1\",\"2019-2\",\"2020-1\",\"2020-2\",\"2021-1\",\"2021-2\",\"2022-1\",\"2022-2\",\"2023-1\"],\"xaxis\":\"x\",\"y\":[33,33,33,32,33,32,32,32,33,32,32],\"yaxis\":\"y\",\"type\":\"scatter\"},{\"hovertemplate\":\"category=ENFERMER\\u00cdA-CONTRATADO\\u003cbr\\u003esemestres=%{x}\\u003cbr\\u003evalores=%{y}\\u003cextra\\u003e\\u003c\\u002fextra\\u003e\",\"legendgroup\":\"ENFERMER\\u00cdA-CONTRATADO\",\"line\":{\"color\":\"#636efa\",\"dash\":\"solid\"},\"marker\":{\"symbol\":\"circle\",\"size\":10},\"mode\":\"lines+markers\",\"name\":\"ENFERMER\\u00cdA-CONTRATADO\",\"orientation\":\"v\",\"showlegend\":true,\"x\":[\"2018-1\",\"2018-2\",\"2019-1\",\"2019-2\",\"2020-1\",\"2020-2\",\"2021-1\",\"2021-2\",\"2022-1\",\"2022-2\",\"2023-1\"],\"xaxis\":\"x\",\"y\":[13,13,16,11,0,2,3,2,6,15,11],\"yaxis\":\"y\",\"type\":\"scatter\"},{\"hovertemplate\":\"category=ENFERMER\\u00cdA-NOMBRADO\\u003cbr\\u003esemestres=%{x}\\u003cbr\\u003evalores=%{y}\\u003cextra\\u003e\\u003c\\u002fextra\\u003e\",\"legendgroup\":\"ENFERMER\\u00cdA-NOMBRADO\",\"line\":{\"color\":\"#EF553B\",\"dash\":\"solid\"},\"marker\":{\"symbol\":\"circle\",\"size\":10},\"mode\":\"lines+markers\",\"name\":\"ENFERMER\\u00cdA-NOMBRADO\",\"orientation\":\"v\",\"showlegend\":true,\"x\":[\"2018-1\",\"2018-2\",\"2019-1\",\"2019-2\",\"2020-1\",\"2020-2\",\"2021-1\",\"2021-2\",\"2022-1\",\"2022-2\",\"2023-1\"],\"xaxis\":\"x\",\"y\":[18,19,18,19,21,21,21,21,21,21,20],\"yaxis\":\"y\",\"type\":\"scatter\"},{\"hovertemplate\":\"category=ESTAD\\u00cdSTICA-CONTRATADO\\u003cbr\\u003esemestres=%{x}\\u003cbr\\u003evalores=%{y}\\u003cextra\\u003e\\u003c\\u002fextra\\u003e\",\"legendgroup\":\"ESTAD\\u00cdSTICA-CONTRATADO\",\"line\":{\"color\":\"#00cc96\",\"dash\":\"solid\"},\"marker\":{\"symbol\":\"circle\",\"size\":10},\"mode\":\"lines+markers\",\"name\":\"ESTAD\\u00cdSTICA-CONTRATADO\",\"orientation\":\"v\",\"showlegend\":true,\"x\":[\"2018-1\",\"2018-2\",\"2019-1\",\"2019-2\",\"2020-1\",\"2020-2\",\"2021-1\",\"2021-2\",\"2022-1\",\"2022-2\",\"2023-1\"],\"xaxis\":\"x\",\"y\":[3,4,5,4,6,4,4,4,7,4,5],\"yaxis\":\"y\",\"type\":\"scatter\"},{\"hovertemplate\":\"category=ESTAD\\u00cdSTICA-NOMBRADO\\u003cbr\\u003esemestres=%{x}\\u003cbr\\u003evalores=%{y}\\u003cextra\\u003e\\u003c\\u002fextra\\u003e\",\"legendgroup\":\"ESTAD\\u00cdSTICA-NOMBRADO\",\"line\":{\"color\":\"#ab63fa\",\"dash\":\"solid\"},\"marker\":{\"symbol\":\"circle\",\"size\":10},\"mode\":\"lines+markers\",\"name\":\"ESTAD\\u00cdSTICA-NOMBRADO\",\"orientation\":\"v\",\"showlegend\":true,\"x\":[\"2018-1\",\"2018-2\",\"2019-1\",\"2019-2\",\"2020-1\",\"2020-2\",\"2021-1\",\"2021-2\",\"2022-1\",\"2022-2\",\"2023-1\"],\"xaxis\":\"x\",\"y\":[13,13,13,14,14,14,14,14,14,13,13],\"yaxis\":\"y\",\"type\":\"scatter\"},{\"hovertemplate\":\"category=INGENIERIA AGRICOLA-CONTRATADO\\u003cbr\\u003esemestres=%{x}\\u003cbr\\u003evalores=%{y}\\u003cextra\\u003e\\u003c\\u002fextra\\u003e\",\"legendgroup\":\"INGENIERIA AGRICOLA-CONTRATADO\",\"line\":{\"color\":\"#FFA15A\",\"dash\":\"solid\"},\"marker\":{\"symbol\":\"circle\",\"size\":10},\"mode\":\"lines+markers\",\"name\":\"INGENIERIA AGRICOLA-CONTRATADO\",\"orientation\":\"v\",\"showlegend\":true,\"x\":[\"2018-1\",\"2018-2\",\"2019-1\",\"2019-2\",\"2020-1\",\"2020-2\",\"2021-1\",\"2021-2\",\"2022-1\",\"2022-2\",\"2023-1\"],\"xaxis\":\"x\",\"y\":[1,1,1,2,1,1,2,2,4,3,1],\"yaxis\":\"y\",\"type\":\"scatter\"},{\"hovertemplate\":\"category=INGENIERIA AGRICOLA-NOMBRADO\\u003cbr\\u003esemestres=%{x}\\u003cbr\\u003evalores=%{y}\\u003cextra\\u003e\\u003c\\u002fextra\\u003e\",\"legendgroup\":\"INGENIERIA AGRICOLA-NOMBRADO\",\"line\":{\"color\":\"#19d3f3\",\"dash\":\"solid\"},\"marker\":{\"symbol\":\"circle\",\"size\":10},\"mode\":\"lines+markers\",\"name\":\"INGENIERIA AGRICOLA-NOMBRADO\",\"orientation\":\"v\",\"showlegend\":true,\"x\":[\"2018-1\",\"2018-2\",\"2019-1\",\"2019-2\",\"2020-1\",\"2020-2\",\"2021-1\",\"2021-2\",\"2022-1\",\"2022-2\",\"2023-1\"],\"xaxis\":\"x\",\"y\":[20,20,21,19,15,20,20,20,19,19,20],\"yaxis\":\"y\",\"type\":\"scatter\"},{\"hovertemplate\":\"category=INGENIERIA CIVIL-CONTRATADO\\u003cbr\\u003esemestres=%{x}\\u003cbr\\u003evalores=%{y}\\u003cextra\\u003e\\u003c\\u002fextra\\u003e\",\"legendgroup\":\"INGENIERIA CIVIL-CONTRATADO\",\"line\":{\"color\":\"#FF6692\",\"dash\":\"solid\"},\"marker\":{\"symbol\":\"circle\",\"size\":10},\"mode\":\"lines+markers\",\"name\":\"INGENIERIA CIVIL-CONTRATADO\",\"orientation\":\"v\",\"showlegend\":true,\"x\":[\"2018-1\",\"2018-2\",\"2019-1\",\"2019-2\",\"2020-1\",\"2020-2\",\"2021-1\",\"2021-2\",\"2022-1\",\"2022-2\",\"2023-1\"],\"xaxis\":\"x\",\"y\":[8,9,15,16,12,14,19,17,27,20,25],\"yaxis\":\"y\",\"type\":\"scatter\"},{\"hovertemplate\":\"category=INGENIERIA CIVIL-NOMBRADO\\u003cbr\\u003esemestres=%{x}\\u003cbr\\u003evalores=%{y}\\u003cextra\\u003e\\u003c\\u002fextra\\u003e\",\"legendgroup\":\"INGENIERIA CIVIL-NOMBRADO\",\"line\":{\"color\":\"#B6E880\",\"dash\":\"solid\"},\"marker\":{\"symbol\":\"circle\",\"size\":10},\"mode\":\"lines+markers\",\"name\":\"INGENIERIA CIVIL-NOMBRADO\",\"orientation\":\"v\",\"showlegend\":true,\"x\":[\"2018-1\",\"2018-2\",\"2019-1\",\"2019-2\",\"2020-1\",\"2020-2\",\"2021-1\",\"2021-2\",\"2022-1\",\"2022-2\",\"2023-1\"],\"xaxis\":\"x\",\"y\":[29,29,29,25,29,33,34,31,33,31,30],\"yaxis\":\"y\",\"type\":\"scatter\"},{\"hovertemplate\":\"category=INGENIERIA DE MINAS-CONTRATADO\\u003cbr\\u003esemestres=%{x}\\u003cbr\\u003evalores=%{y}\\u003cextra\\u003e\\u003c\\u002fextra\\u003e\",\"legendgroup\":\"INGENIERIA DE MINAS-CONTRATADO\",\"line\":{\"color\":\"#FF97FF\",\"dash\":\"solid\"},\"marker\":{\"symbol\":\"circle\",\"size\":10},\"mode\":\"lines+markers\",\"name\":\"INGENIERIA DE MINAS-CONTRATADO\",\"orientation\":\"v\",\"showlegend\":true,\"x\":[\"2018-1\",\"2018-2\",\"2019-1\",\"2019-2\",\"2020-1\",\"2020-2\",\"2021-1\",\"2021-2\",\"2022-1\",\"2022-2\",\"2023-1\"],\"xaxis\":\"x\",\"y\":[0,0,0,0,0,0,0,0,0,1,1],\"yaxis\":\"y\",\"type\":\"scatter\"},{\"hovertemplate\":\"category=INGENIERIA DE MINAS-NOMBRADO\\u003cbr\\u003esemestres=%{x}\\u003cbr\\u003evalores=%{y}\\u003cextra\\u003e\\u003c\\u002fextra\\u003e\",\"legendgroup\":\"INGENIERIA DE MINAS-NOMBRADO\",\"line\":{\"color\":\"#FECB52\",\"dash\":\"solid\"},\"marker\":{\"symbol\":\"circle\",\"size\":10},\"mode\":\"lines+markers\",\"name\":\"INGENIERIA DE MINAS-NOMBRADO\",\"orientation\":\"v\",\"showlegend\":true,\"x\":[\"2018-1\",\"2018-2\",\"2019-1\",\"2019-2\",\"2020-1\",\"2020-2\",\"2021-1\",\"2021-2\",\"2022-1\",\"2022-2\",\"2023-1\"],\"xaxis\":\"x\",\"y\":[16,16,15,16,15,16,17,17,17,15,15],\"yaxis\":\"y\",\"type\":\"scatter\"},{\"hovertemplate\":\"category=INGENIERIA DE SISTEMAS Y TELECOMUNICACIONES-CONTRATADO\\u003cbr\\u003esemestres=%{x}\\u003cbr\\u003evalores=%{y}\\u003cextra\\u003e\\u003c\\u002fextra\\u003e\",\"legendgroup\":\"INGENIERIA DE SISTEMAS Y TELECOMUNICACIONES-CONTRATADO\",\"line\":{\"color\":\"#636efa\",\"dash\":\"solid\"},\"marker\":{\"symbol\":\"circle\",\"size\":10},\"mode\":\"lines+markers\",\"name\":\"INGENIERIA DE SISTEMAS Y TELECOMUNICACIONES-CONTRATADO\",\"orientation\":\"v\",\"showlegend\":true,\"x\":[\"2018-1\",\"2018-2\",\"2019-1\",\"2019-2\",\"2020-1\",\"2020-2\",\"2021-1\",\"2021-2\",\"2022-1\",\"2022-2\",\"2023-1\"],\"xaxis\":\"x\",\"y\":[5,5,6,5,6,7,7,5,10,7,8],\"yaxis\":\"y\",\"type\":\"scatter\"},{\"hovertemplate\":\"category=INGENIERIA DE SISTEMAS Y TELECOMUNICACIONES-NOMBRADO\\u003cbr\\u003esemestres=%{x}\\u003cbr\\u003evalores=%{y}\\u003cextra\\u003e\\u003c\\u002fextra\\u003e\",\"legendgroup\":\"INGENIERIA DE SISTEMAS Y TELECOMUNICACIONES-NOMBRADO\",\"line\":{\"color\":\"#EF553B\",\"dash\":\"solid\"},\"marker\":{\"symbol\":\"circle\",\"size\":10},\"mode\":\"lines+markers\",\"name\":\"INGENIERIA DE SISTEMAS Y TELECOMUNICACIONES-NOMBRADO\",\"orientation\":\"v\",\"showlegend\":true,\"x\":[\"2018-1\",\"2018-2\",\"2019-1\",\"2019-2\",\"2020-1\",\"2020-2\",\"2021-1\",\"2021-2\",\"2022-1\",\"2022-2\",\"2023-1\"],\"xaxis\":\"x\",\"y\":[11,11,12,11,10,10,11,11,11,12,11],\"yaxis\":\"y\",\"type\":\"scatter\"},{\"hovertemplate\":\"category=INGENIER\\u00cdA SANITARIA-CONTRATADO\\u003cbr\\u003esemestres=%{x}\\u003cbr\\u003evalores=%{y}\\u003cextra\\u003e\\u003c\\u002fextra\\u003e\",\"legendgroup\":\"INGENIER\\u00cdA SANITARIA-CONTRATADO\",\"line\":{\"color\":\"#00cc96\",\"dash\":\"solid\"},\"marker\":{\"symbol\":\"circle\",\"size\":10},\"mode\":\"lines+markers\",\"name\":\"INGENIER\\u00cdA SANITARIA-CONTRATADO\",\"orientation\":\"v\",\"showlegend\":true,\"x\":[\"2018-1\",\"2018-2\",\"2019-1\",\"2019-2\",\"2020-1\",\"2020-2\",\"2021-1\",\"2021-2\",\"2022-1\",\"2022-2\",\"2023-1\"],\"xaxis\":\"x\",\"y\":[1,1,2,2,2,3,2,2,3,5,6],\"yaxis\":\"y\",\"type\":\"scatter\"},{\"hovertemplate\":\"category=INGENIER\\u00cdA SANITARIA-NOMBRADO\\u003cbr\\u003esemestres=%{x}\\u003cbr\\u003evalores=%{y}\\u003cextra\\u003e\\u003c\\u002fextra\\u003e\",\"legendgroup\":\"INGENIER\\u00cdA SANITARIA-NOMBRADO\",\"line\":{\"color\":\"#ab63fa\",\"dash\":\"solid\"},\"marker\":{\"symbol\":\"circle\",\"size\":10},\"mode\":\"lines+markers\",\"name\":\"INGENIER\\u00cdA SANITARIA-NOMBRADO\",\"orientation\":\"v\",\"showlegend\":true,\"x\":[\"2018-1\",\"2018-2\",\"2019-1\",\"2019-2\",\"2020-1\",\"2020-2\",\"2021-1\",\"2021-2\",\"2022-1\",\"2022-2\",\"2023-1\"],\"xaxis\":\"x\",\"y\":[10,9,10,10,10,10,10,11,11,11,11],\"yaxis\":\"y\",\"type\":\"scatter\"},{\"hovertemplate\":\"category=MATEM\\u00c1TICA-CONTRATADO\\u003cbr\\u003esemestres=%{x}\\u003cbr\\u003evalores=%{y}\\u003cextra\\u003e\\u003c\\u002fextra\\u003e\",\"legendgroup\":\"MATEM\\u00c1TICA-CONTRATADO\",\"line\":{\"color\":\"#FFA15A\",\"dash\":\"solid\"},\"marker\":{\"symbol\":\"circle\",\"size\":10},\"mode\":\"lines+markers\",\"name\":\"MATEM\\u00c1TICA-CONTRATADO\",\"orientation\":\"v\",\"showlegend\":true,\"x\":[\"2018-1\",\"2018-2\",\"2019-1\",\"2019-2\",\"2020-1\",\"2020-2\",\"2021-1\",\"2021-2\",\"2022-1\",\"2022-2\",\"2023-1\"],\"xaxis\":\"x\",\"y\":[5,4,8,7,8,3,14,4,10,3,8],\"yaxis\":\"y\",\"type\":\"scatter\"},{\"hovertemplate\":\"category=MATEM\\u00c1TICA-NOMBRADO\\u003cbr\\u003esemestres=%{x}\\u003cbr\\u003evalores=%{y}\\u003cextra\\u003e\\u003c\\u002fextra\\u003e\",\"legendgroup\":\"MATEM\\u00c1TICA-NOMBRADO\",\"line\":{\"color\":\"#19d3f3\",\"dash\":\"solid\"},\"marker\":{\"symbol\":\"circle\",\"size\":10},\"mode\":\"lines+markers\",\"name\":\"MATEM\\u00c1TICA-NOMBRADO\",\"orientation\":\"v\",\"showlegend\":true,\"x\":[\"2018-1\",\"2018-2\",\"2019-1\",\"2019-2\",\"2020-1\",\"2020-2\",\"2021-1\",\"2021-2\",\"2022-1\",\"2022-2\",\"2023-1\"],\"xaxis\":\"x\",\"y\":[36,36,35,35,35,35,33,34,35,33,32],\"yaxis\":\"y\",\"type\":\"scatter\"},{\"hovertemplate\":\"category=OBSTETRICIA-CONTRATADO\\u003cbr\\u003esemestres=%{x}\\u003cbr\\u003evalores=%{y}\\u003cextra\\u003e\\u003c\\u002fextra\\u003e\",\"legendgroup\":\"OBSTETRICIA-CONTRATADO\",\"line\":{\"color\":\"#FF6692\",\"dash\":\"solid\"},\"marker\":{\"symbol\":\"circle\",\"size\":10},\"mode\":\"lines+markers\",\"name\":\"OBSTETRICIA-CONTRATADO\",\"orientation\":\"v\",\"showlegend\":true,\"x\":[\"2018-1\",\"2018-2\",\"2019-1\",\"2019-2\",\"2020-1\",\"2020-2\",\"2021-1\",\"2021-2\",\"2022-1\",\"2022-2\",\"2023-1\"],\"xaxis\":\"x\",\"y\":[8,7,8,6,2,2,6,5,13,11,10],\"yaxis\":\"y\",\"type\":\"scatter\"},{\"hovertemplate\":\"category=OBSTETRICIA-NOMBRADO\\u003cbr\\u003esemestres=%{x}\\u003cbr\\u003evalores=%{y}\\u003cextra\\u003e\\u003c\\u002fextra\\u003e\",\"legendgroup\":\"OBSTETRICIA-NOMBRADO\",\"line\":{\"color\":\"#B6E880\",\"dash\":\"solid\"},\"marker\":{\"symbol\":\"circle\",\"size\":10},\"mode\":\"lines+markers\",\"name\":\"OBSTETRICIA-NOMBRADO\",\"orientation\":\"v\",\"showlegend\":true,\"x\":[\"2018-1\",\"2018-2\",\"2019-1\",\"2019-2\",\"2020-1\",\"2020-2\",\"2021-1\",\"2021-2\",\"2022-1\",\"2022-2\",\"2023-1\"],\"xaxis\":\"x\",\"y\":[15,15,16,16,15,15,15,15,15,15,15],\"yaxis\":\"y\",\"type\":\"scatter\"},{\"hovertemplate\":\"category=PROPED\\u00c9UTICA-CONTRATADO\\u003cbr\\u003esemestres=%{x}\\u003cbr\\u003evalores=%{y}\\u003cextra\\u003e\\u003c\\u002fextra\\u003e\",\"legendgroup\":\"PROPED\\u00c9UTICA-CONTRATADO\",\"line\":{\"color\":\"#FF97FF\",\"dash\":\"solid\"},\"marker\":{\"symbol\":\"circle\",\"size\":10},\"mode\":\"lines+markers\",\"name\":\"PROPED\\u00c9UTICA-CONTRATADO\",\"orientation\":\"v\",\"showlegend\":true,\"x\":[\"2018-1\",\"2018-2\",\"2019-1\",\"2019-2\",\"2020-1\",\"2020-2\",\"2021-1\",\"2021-2\",\"2022-1\",\"2022-2\",\"2023-1\"],\"xaxis\":\"x\",\"y\":[1,2,1,4,0,0,0,4,2,4,2],\"yaxis\":\"y\",\"type\":\"scatter\"},{\"hovertemplate\":\"category=PROPED\\u00c9UTICA-NOMBRADO\\u003cbr\\u003esemestres=%{x}\\u003cbr\\u003evalores=%{y}\\u003cextra\\u003e\\u003c\\u002fextra\\u003e\",\"legendgroup\":\"PROPED\\u00c9UTICA-NOMBRADO\",\"line\":{\"color\":\"#FECB52\",\"dash\":\"solid\"},\"marker\":{\"symbol\":\"circle\",\"size\":10},\"mode\":\"lines+markers\",\"name\":\"PROPED\\u00c9UTICA-NOMBRADO\",\"orientation\":\"v\",\"showlegend\":true,\"x\":[\"2018-1\",\"2018-2\",\"2019-1\",\"2019-2\",\"2020-1\",\"2020-2\",\"2021-1\",\"2021-2\",\"2022-1\",\"2022-2\",\"2023-1\"],\"xaxis\":\"x\",\"y\":[11,10,10,9,10,9,10,8,10,10,8],\"yaxis\":\"y\",\"type\":\"scatter\"},{\"hovertemplate\":\"category=TURISMO-CONTRATADO\\u003cbr\\u003esemestres=%{x}\\u003cbr\\u003evalores=%{y}\\u003cextra\\u003e\\u003c\\u002fextra\\u003e\",\"legendgroup\":\"TURISMO-CONTRATADO\",\"line\":{\"color\":\"#636efa\",\"dash\":\"solid\"},\"marker\":{\"symbol\":\"circle\",\"size\":10},\"mode\":\"lines+markers\",\"name\":\"TURISMO-CONTRATADO\",\"orientation\":\"v\",\"showlegend\":true,\"x\":[\"2018-1\",\"2018-2\",\"2019-1\",\"2019-2\",\"2020-1\",\"2020-2\",\"2021-1\",\"2021-2\",\"2022-1\",\"2022-2\",\"2023-1\"],\"xaxis\":\"x\",\"y\":[0,1,0,0,0,0,0,0,2,1,1],\"yaxis\":\"y\",\"type\":\"scatter\"},{\"hovertemplate\":\"category=TURISMO-NOMBRADO\\u003cbr\\u003esemestres=%{x}\\u003cbr\\u003evalores=%{y}\\u003cextra\\u003e\\u003c\\u002fextra\\u003e\",\"legendgroup\":\"TURISMO-NOMBRADO\",\"line\":{\"color\":\"#EF553B\",\"dash\":\"solid\"},\"marker\":{\"symbol\":\"circle\",\"size\":10},\"mode\":\"lines+markers\",\"name\":\"TURISMO-NOMBRADO\",\"orientation\":\"v\",\"showlegend\":true,\"x\":[\"2018-1\",\"2018-2\",\"2019-1\",\"2019-2\",\"2020-1\",\"2020-2\",\"2021-1\",\"2021-2\",\"2022-1\",\"2022-2\",\"2023-1\"],\"xaxis\":\"x\",\"y\":[9,8,10,10,10,10,10,10,10,10,10],\"yaxis\":\"y\",\"type\":\"scatter\"}],                        {\"template\":{\"data\":{\"histogram2dcontour\":[{\"type\":\"histogram2dcontour\",\"colorbar\":{\"outlinewidth\":0,\"ticks\":\"\"},\"colorscale\":[[0.0,\"#0d0887\"],[0.1111111111111111,\"#46039f\"],[0.2222222222222222,\"#7201a8\"],[0.3333333333333333,\"#9c179e\"],[0.4444444444444444,\"#bd3786\"],[0.5555555555555556,\"#d8576b\"],[0.6666666666666666,\"#ed7953\"],[0.7777777777777778,\"#fb9f3a\"],[0.8888888888888888,\"#fdca26\"],[1.0,\"#f0f921\"]]}],\"choropleth\":[{\"type\":\"choropleth\",\"colorbar\":{\"outlinewidth\":0,\"ticks\":\"\"}}],\"histogram2d\":[{\"type\":\"histogram2d\",\"colorbar\":{\"outlinewidth\":0,\"ticks\":\"\"},\"colorscale\":[[0.0,\"#0d0887\"],[0.1111111111111111,\"#46039f\"],[0.2222222222222222,\"#7201a8\"],[0.3333333333333333,\"#9c179e\"],[0.4444444444444444,\"#bd3786\"],[0.5555555555555556,\"#d8576b\"],[0.6666666666666666,\"#ed7953\"],[0.7777777777777778,\"#fb9f3a\"],[0.8888888888888888,\"#fdca26\"],[1.0,\"#f0f921\"]]}],\"heatmap\":[{\"type\":\"heatmap\",\"colorbar\":{\"outlinewidth\":0,\"ticks\":\"\"},\"colorscale\":[[0.0,\"#0d0887\"],[0.1111111111111111,\"#46039f\"],[0.2222222222222222,\"#7201a8\"],[0.3333333333333333,\"#9c179e\"],[0.4444444444444444,\"#bd3786\"],[0.5555555555555556,\"#d8576b\"],[0.6666666666666666,\"#ed7953\"],[0.7777777777777778,\"#fb9f3a\"],[0.8888888888888888,\"#fdca26\"],[1.0,\"#f0f921\"]]}],\"heatmapgl\":[{\"type\":\"heatmapgl\",\"colorbar\":{\"outlinewidth\":0,\"ticks\":\"\"},\"colorscale\":[[0.0,\"#0d0887\"],[0.1111111111111111,\"#46039f\"],[0.2222222222222222,\"#7201a8\"],[0.3333333333333333,\"#9c179e\"],[0.4444444444444444,\"#bd3786\"],[0.5555555555555556,\"#d8576b\"],[0.6666666666666666,\"#ed7953\"],[0.7777777777777778,\"#fb9f3a\"],[0.8888888888888888,\"#fdca26\"],[1.0,\"#f0f921\"]]}],\"contourcarpet\":[{\"type\":\"contourcarpet\",\"colorbar\":{\"outlinewidth\":0,\"ticks\":\"\"}}],\"contour\":[{\"type\":\"contour\",\"colorbar\":{\"outlinewidth\":0,\"ticks\":\"\"},\"colorscale\":[[0.0,\"#0d0887\"],[0.1111111111111111,\"#46039f\"],[0.2222222222222222,\"#7201a8\"],[0.3333333333333333,\"#9c179e\"],[0.4444444444444444,\"#bd3786\"],[0.5555555555555556,\"#d8576b\"],[0.6666666666666666,\"#ed7953\"],[0.7777777777777778,\"#fb9f3a\"],[0.8888888888888888,\"#fdca26\"],[1.0,\"#f0f921\"]]}],\"surface\":[{\"type\":\"surface\",\"colorbar\":{\"outlinewidth\":0,\"ticks\":\"\"},\"colorscale\":[[0.0,\"#0d0887\"],[0.1111111111111111,\"#46039f\"],[0.2222222222222222,\"#7201a8\"],[0.3333333333333333,\"#9c179e\"],[0.4444444444444444,\"#bd3786\"],[0.5555555555555556,\"#d8576b\"],[0.6666666666666666,\"#ed7953\"],[0.7777777777777778,\"#fb9f3a\"],[0.8888888888888888,\"#fdca26\"],[1.0,\"#f0f921\"]]}],\"mesh3d\":[{\"type\":\"mesh3d\",\"colorbar\":{\"outlinewidth\":0,\"ticks\":\"\"}}],\"scatter\":[{\"fillpattern\":{\"fillmode\":\"overlay\",\"size\":10,\"solidity\":0.2},\"type\":\"scatter\"}],\"parcoords\":[{\"type\":\"parcoords\",\"line\":{\"colorbar\":{\"outlinewidth\":0,\"ticks\":\"\"}}}],\"scatterpolargl\":[{\"type\":\"scatterpolargl\",\"marker\":{\"colorbar\":{\"outlinewidth\":0,\"ticks\":\"\"}}}],\"bar\":[{\"error_x\":{\"color\":\"#2a3f5f\"},\"error_y\":{\"color\":\"#2a3f5f\"},\"marker\":{\"line\":{\"color\":\"#E5ECF6\",\"width\":0.5},\"pattern\":{\"fillmode\":\"overlay\",\"size\":10,\"solidity\":0.2}},\"type\":\"bar\"}],\"scattergeo\":[{\"type\":\"scattergeo\",\"marker\":{\"colorbar\":{\"outlinewidth\":0,\"ticks\":\"\"}}}],\"scatterpolar\":[{\"type\":\"scatterpolar\",\"marker\":{\"colorbar\":{\"outlinewidth\":0,\"ticks\":\"\"}}}],\"histogram\":[{\"marker\":{\"pattern\":{\"fillmode\":\"overlay\",\"size\":10,\"solidity\":0.2}},\"type\":\"histogram\"}],\"scattergl\":[{\"type\":\"scattergl\",\"marker\":{\"colorbar\":{\"outlinewidth\":0,\"ticks\":\"\"}}}],\"scatter3d\":[{\"type\":\"scatter3d\",\"line\":{\"colorbar\":{\"outlinewidth\":0,\"ticks\":\"\"}},\"marker\":{\"colorbar\":{\"outlinewidth\":0,\"ticks\":\"\"}}}],\"scattermapbox\":[{\"type\":\"scattermapbox\",\"marker\":{\"colorbar\":{\"outlinewidth\":0,\"ticks\":\"\"}}}],\"scatterternary\":[{\"type\":\"scatterternary\",\"marker\":{\"colorbar\":{\"outlinewidth\":0,\"ticks\":\"\"}}}],\"scattercarpet\":[{\"type\":\"scattercarpet\",\"marker\":{\"colorbar\":{\"outlinewidth\":0,\"ticks\":\"\"}}}],\"carpet\":[{\"aaxis\":{\"endlinecolor\":\"#2a3f5f\",\"gridcolor\":\"white\",\"linecolor\":\"white\",\"minorgridcolor\":\"white\",\"startlinecolor\":\"#2a3f5f\"},\"baxis\":{\"endlinecolor\":\"#2a3f5f\",\"gridcolor\":\"white\",\"linecolor\":\"white\",\"minorgridcolor\":\"white\",\"startlinecolor\":\"#2a3f5f\"},\"type\":\"carpet\"}],\"table\":[{\"cells\":{\"fill\":{\"color\":\"#EBF0F8\"},\"line\":{\"color\":\"white\"}},\"header\":{\"fill\":{\"color\":\"#C8D4E3\"},\"line\":{\"color\":\"white\"}},\"type\":\"table\"}],\"barpolar\":[{\"marker\":{\"line\":{\"color\":\"#E5ECF6\",\"width\":0.5},\"pattern\":{\"fillmode\":\"overlay\",\"size\":10,\"solidity\":0.2}},\"type\":\"barpolar\"}],\"pie\":[{\"automargin\":true,\"type\":\"pie\"}]},\"layout\":{\"autotypenumbers\":\"strict\",\"colorway\":[\"#636efa\",\"#EF553B\",\"#00cc96\",\"#ab63fa\",\"#FFA15A\",\"#19d3f3\",\"#FF6692\",\"#B6E880\",\"#FF97FF\",\"#FECB52\"],\"font\":{\"color\":\"#2a3f5f\"},\"hovermode\":\"closest\",\"hoverlabel\":{\"align\":\"left\"},\"paper_bgcolor\":\"white\",\"plot_bgcolor\":\"#E5ECF6\",\"polar\":{\"bgcolor\":\"#E5ECF6\",\"angularaxis\":{\"gridcolor\":\"white\",\"linecolor\":\"white\",\"ticks\":\"\"},\"radialaxis\":{\"gridcolor\":\"white\",\"linecolor\":\"white\",\"ticks\":\"\"}},\"ternary\":{\"bgcolor\":\"#E5ECF6\",\"aaxis\":{\"gridcolor\":\"white\",\"linecolor\":\"white\",\"ticks\":\"\"},\"baxis\":{\"gridcolor\":\"white\",\"linecolor\":\"white\",\"ticks\":\"\"},\"caxis\":{\"gridcolor\":\"white\",\"linecolor\":\"white\",\"ticks\":\"\"}},\"coloraxis\":{\"colorbar\":{\"outlinewidth\":0,\"ticks\":\"\"}},\"colorscale\":{\"sequential\":[[0.0,\"#0d0887\"],[0.1111111111111111,\"#46039f\"],[0.2222222222222222,\"#7201a8\"],[0.3333333333333333,\"#9c179e\"],[0.4444444444444444,\"#bd3786\"],[0.5555555555555556,\"#d8576b\"],[0.6666666666666666,\"#ed7953\"],[0.7777777777777778,\"#fb9f3a\"],[0.8888888888888888,\"#fdca26\"],[1.0,\"#f0f921\"]],\"sequentialminus\":[[0.0,\"#0d0887\"],[0.1111111111111111,\"#46039f\"],[0.2222222222222222,\"#7201a8\"],[0.3333333333333333,\"#9c179e\"],[0.4444444444444444,\"#bd3786\"],[0.5555555555555556,\"#d8576b\"],[0.6666666666666666,\"#ed7953\"],[0.7777777777777778,\"#fb9f3a\"],[0.8888888888888888,\"#fdca26\"],[1.0,\"#f0f921\"]],\"diverging\":[[0,\"#8e0152\"],[0.1,\"#c51b7d\"],[0.2,\"#de77ae\"],[0.3,\"#f1b6da\"],[0.4,\"#fde0ef\"],[0.5,\"#f7f7f7\"],[0.6,\"#e6f5d0\"],[0.7,\"#b8e186\"],[0.8,\"#7fbc41\"],[0.9,\"#4d9221\"],[1,\"#276419\"]]},\"xaxis\":{\"gridcolor\":\"white\",\"linecolor\":\"white\",\"ticks\":\"\",\"title\":{\"standoff\":15},\"zerolinecolor\":\"white\",\"automargin\":true,\"zerolinewidth\":2},\"yaxis\":{\"gridcolor\":\"white\",\"linecolor\":\"white\",\"ticks\":\"\",\"title\":{\"standoff\":15},\"zerolinecolor\":\"white\",\"automargin\":true,\"zerolinewidth\":2},\"scene\":{\"xaxis\":{\"backgroundcolor\":\"#E5ECF6\",\"gridcolor\":\"white\",\"linecolor\":\"white\",\"showbackground\":true,\"ticks\":\"\",\"zerolinecolor\":\"white\",\"gridwidth\":2},\"yaxis\":{\"backgroundcolor\":\"#E5ECF6\",\"gridcolor\":\"white\",\"linecolor\":\"white\",\"showbackground\":true,\"ticks\":\"\",\"zerolinecolor\":\"white\",\"gridwidth\":2},\"zaxis\":{\"backgroundcolor\":\"#E5ECF6\",\"gridcolor\":\"white\",\"linecolor\":\"white\",\"showbackground\":true,\"ticks\":\"\",\"zerolinecolor\":\"white\",\"gridwidth\":2}},\"shapedefaults\":{\"line\":{\"color\":\"#2a3f5f\"}},\"annotationdefaults\":{\"arrowcolor\":\"#2a3f5f\",\"arrowhead\":0,\"arrowwidth\":1},\"geo\":{\"bgcolor\":\"white\",\"landcolor\":\"#E5ECF6\",\"subunitcolor\":\"white\",\"showland\":true,\"showlakes\":true,\"lakecolor\":\"white\"},\"title\":{\"x\":0.05},\"mapbox\":{\"style\":\"light\"}}},\"xaxis\":{\"anchor\":\"y\",\"domain\":[0.0,1.0],\"title\":{\"text\":\"semestres\"}},\"yaxis\":{\"anchor\":\"x\",\"domain\":[0.0,1.0],\"title\":{\"text\":\"valores\"}},\"legend\":{\"title\":{\"text\":\"category\"},\"tracegroupgap\":0},\"title\":{\"text\":\"L\\u00ednea de tendencia por categor\\u00edas\"}},                        {\"responsive\": true}                    ).then(function(){\n                            \nvar gd = document.getElementById('d641df5d-20c5-45fc-b3ee-6365d199355c');\nvar x = new MutationObserver(function (mutations, observer) {{\n        var display = window.getComputedStyle(gd).display;\n        if (!display || display === 'none') {{\n            console.log([gd, 'removed!']);\n            Plotly.purge(gd);\n            observer.disconnect();\n        }}\n}});\n\n// Listen for the removal of the full notebook cells\nvar notebookContainer = gd.closest('#notebook-container');\nif (notebookContainer) {{\n    x.observe(notebookContainer, {childList: true});\n}}\n\n// Listen for the clearing of the current output cell\nvar outputEl = gd.closest('.output');\nif (outputEl) {{\n    x.observe(outputEl, {childList: true});\n}}\n\n                        })                };                });            </script>        </div>"
     },
     "metadata": {},
     "output_type": "display_data"
    }
   ],
   "source": [
    "fig = px.line(df, x='semestres', y='valores', color='category', title='Línea de tendencia por categorías')\n",
    "fig.update_traces(mode='lines+markers', marker=dict(size=10, symbol='circle'))\n",
    "fig.show()"
   ],
   "metadata": {
    "collapsed": false,
    "ExecuteTime": {
     "end_time": "2023-09-09T20:14:15.543530400Z",
     "start_time": "2023-09-09T20:14:15.337328500Z"
    }
   },
   "id": "6e82ad94b8e73f2"
  },
  {
   "cell_type": "code",
   "execution_count": null,
   "outputs": [],
   "source": [],
   "metadata": {
    "collapsed": false
   },
   "id": "2686011df7c4dffc"
  },
  {
   "cell_type": "markdown",
   "source": [
    "# Pruebas"
   ],
   "metadata": {
    "collapsed": false
   },
   "id": "25a7e5b408effb4f"
  },
  {
   "cell_type": "code",
   "execution_count": 92,
   "outputs": [
    {
     "data": {
      "text/plain": "   subcategoria semestres  valores\n0      contrato   s2018-1       10\n1      contrato   s2018-2       15\n2      contrato   s2019-1        7\n3      contrato   s2019-2       10\n4      contrato   s2020-1       12\n5      contrato   s2020-2       15\n6      nombrado   s2018-1        8\n7      nombrado   s2018-2       17\n8      nombrado   s2019-1        3\n9      nombrado   s2019-2       10\n10     nombrado   s2020-1       15\n11     nombrado   s2020-2        7",
      "text/html": "<div>\n<style scoped>\n    .dataframe tbody tr th:only-of-type {\n        vertical-align: middle;\n    }\n\n    .dataframe tbody tr th {\n        vertical-align: top;\n    }\n\n    .dataframe thead th {\n        text-align: right;\n    }\n</style>\n<table border=\"1\" class=\"dataframe\">\n  <thead>\n    <tr style=\"text-align: right;\">\n      <th></th>\n      <th>subcategoria</th>\n      <th>semestres</th>\n      <th>valores</th>\n    </tr>\n  </thead>\n  <tbody>\n    <tr>\n      <th>0</th>\n      <td>contrato</td>\n      <td>s2018-1</td>\n      <td>10</td>\n    </tr>\n    <tr>\n      <th>1</th>\n      <td>contrato</td>\n      <td>s2018-2</td>\n      <td>15</td>\n    </tr>\n    <tr>\n      <th>2</th>\n      <td>contrato</td>\n      <td>s2019-1</td>\n      <td>7</td>\n    </tr>\n    <tr>\n      <th>3</th>\n      <td>contrato</td>\n      <td>s2019-2</td>\n      <td>10</td>\n    </tr>\n    <tr>\n      <th>4</th>\n      <td>contrato</td>\n      <td>s2020-1</td>\n      <td>12</td>\n    </tr>\n    <tr>\n      <th>5</th>\n      <td>contrato</td>\n      <td>s2020-2</td>\n      <td>15</td>\n    </tr>\n    <tr>\n      <th>6</th>\n      <td>nombrado</td>\n      <td>s2018-1</td>\n      <td>8</td>\n    </tr>\n    <tr>\n      <th>7</th>\n      <td>nombrado</td>\n      <td>s2018-2</td>\n      <td>17</td>\n    </tr>\n    <tr>\n      <th>8</th>\n      <td>nombrado</td>\n      <td>s2019-1</td>\n      <td>3</td>\n    </tr>\n    <tr>\n      <th>9</th>\n      <td>nombrado</td>\n      <td>s2019-2</td>\n      <td>10</td>\n    </tr>\n    <tr>\n      <th>10</th>\n      <td>nombrado</td>\n      <td>s2020-1</td>\n      <td>15</td>\n    </tr>\n    <tr>\n      <th>11</th>\n      <td>nombrado</td>\n      <td>s2020-2</td>\n      <td>7</td>\n    </tr>\n  </tbody>\n</table>\n</div>"
     },
     "execution_count": 92,
     "metadata": {},
     "output_type": "execute_result"
    }
   ],
   "source": [
    "import plotly.express as px\n",
    "import pandas as pd\n",
    "\n",
    "datos = {\n",
    "    \"subcategoria\": [\"contrato\", \"contrato\", \"contrato\", \"contrato\", \"contrato\", \"contrato\", \"nombrado\", \"nombrado\",\n",
    "                     \"nombrado\", \"nombrado\", \"nombrado\", \"nombrado\"],\n",
    "    \"semestres\": [\"s2018-1\", \"s2018-2\", \"s2019-1\", \"s2019-2\", \"s2020-1\", \"s2020-2\", \"s2018-1\", \"s2018-2\", \"s2019-1\",\n",
    "                  \"s2019-2\", \"s2020-1\", \"s2020-2\"],\n",
    "    \"valores\": [10, 15, 7, 10, 12, 15, 8, 17, 3, 10, 15, 7]\n",
    "}\n",
    "\n",
    "df = pd.DataFrame(datos)\n",
    "df"
   ],
   "metadata": {
    "collapsed": false,
    "ExecuteTime": {
     "end_time": "2023-09-09T17:33:03.055496800Z",
     "start_time": "2023-09-09T17:33:03.046987Z"
    }
   },
   "id": "5d3b7e43787235f0"
  },
  {
   "cell_type": "code",
   "execution_count": 93,
   "outputs": [
    {
     "data": {
      "application/vnd.plotly.v1+json": {
       "data": [
        {
         "hovertemplate": "subcategoria=contrato<br>semestres=%{x}<br>valores=%{y}<extra></extra>",
         "legendgroup": "contrato",
         "line": {
          "color": "#636efa",
          "dash": "solid"
         },
         "marker": {
          "symbol": "circle",
          "size": 10
         },
         "mode": "lines+markers",
         "name": "contrato",
         "orientation": "v",
         "showlegend": true,
         "x": [
          "s2018-1",
          "s2018-2",
          "s2019-1",
          "s2019-2",
          "s2020-1",
          "s2020-2"
         ],
         "xaxis": "x",
         "y": [
          10,
          15,
          7,
          10,
          12,
          15
         ],
         "yaxis": "y",
         "type": "scatter"
        },
        {
         "hovertemplate": "subcategoria=nombrado<br>semestres=%{x}<br>valores=%{y}<extra></extra>",
         "legendgroup": "nombrado",
         "line": {
          "color": "#EF553B",
          "dash": "solid"
         },
         "marker": {
          "symbol": "circle",
          "size": 10
         },
         "mode": "lines+markers",
         "name": "nombrado",
         "orientation": "v",
         "showlegend": true,
         "x": [
          "s2018-1",
          "s2018-2",
          "s2019-1",
          "s2019-2",
          "s2020-1",
          "s2020-2"
         ],
         "xaxis": "x",
         "y": [
          8,
          17,
          3,
          10,
          15,
          7
         ],
         "yaxis": "y",
         "type": "scatter"
        }
       ],
       "layout": {
        "template": {
         "data": {
          "histogram2dcontour": [
           {
            "type": "histogram2dcontour",
            "colorbar": {
             "outlinewidth": 0,
             "ticks": ""
            },
            "colorscale": [
             [
              0.0,
              "#0d0887"
             ],
             [
              0.1111111111111111,
              "#46039f"
             ],
             [
              0.2222222222222222,
              "#7201a8"
             ],
             [
              0.3333333333333333,
              "#9c179e"
             ],
             [
              0.4444444444444444,
              "#bd3786"
             ],
             [
              0.5555555555555556,
              "#d8576b"
             ],
             [
              0.6666666666666666,
              "#ed7953"
             ],
             [
              0.7777777777777778,
              "#fb9f3a"
             ],
             [
              0.8888888888888888,
              "#fdca26"
             ],
             [
              1.0,
              "#f0f921"
             ]
            ]
           }
          ],
          "choropleth": [
           {
            "type": "choropleth",
            "colorbar": {
             "outlinewidth": 0,
             "ticks": ""
            }
           }
          ],
          "histogram2d": [
           {
            "type": "histogram2d",
            "colorbar": {
             "outlinewidth": 0,
             "ticks": ""
            },
            "colorscale": [
             [
              0.0,
              "#0d0887"
             ],
             [
              0.1111111111111111,
              "#46039f"
             ],
             [
              0.2222222222222222,
              "#7201a8"
             ],
             [
              0.3333333333333333,
              "#9c179e"
             ],
             [
              0.4444444444444444,
              "#bd3786"
             ],
             [
              0.5555555555555556,
              "#d8576b"
             ],
             [
              0.6666666666666666,
              "#ed7953"
             ],
             [
              0.7777777777777778,
              "#fb9f3a"
             ],
             [
              0.8888888888888888,
              "#fdca26"
             ],
             [
              1.0,
              "#f0f921"
             ]
            ]
           }
          ],
          "heatmap": [
           {
            "type": "heatmap",
            "colorbar": {
             "outlinewidth": 0,
             "ticks": ""
            },
            "colorscale": [
             [
              0.0,
              "#0d0887"
             ],
             [
              0.1111111111111111,
              "#46039f"
             ],
             [
              0.2222222222222222,
              "#7201a8"
             ],
             [
              0.3333333333333333,
              "#9c179e"
             ],
             [
              0.4444444444444444,
              "#bd3786"
             ],
             [
              0.5555555555555556,
              "#d8576b"
             ],
             [
              0.6666666666666666,
              "#ed7953"
             ],
             [
              0.7777777777777778,
              "#fb9f3a"
             ],
             [
              0.8888888888888888,
              "#fdca26"
             ],
             [
              1.0,
              "#f0f921"
             ]
            ]
           }
          ],
          "heatmapgl": [
           {
            "type": "heatmapgl",
            "colorbar": {
             "outlinewidth": 0,
             "ticks": ""
            },
            "colorscale": [
             [
              0.0,
              "#0d0887"
             ],
             [
              0.1111111111111111,
              "#46039f"
             ],
             [
              0.2222222222222222,
              "#7201a8"
             ],
             [
              0.3333333333333333,
              "#9c179e"
             ],
             [
              0.4444444444444444,
              "#bd3786"
             ],
             [
              0.5555555555555556,
              "#d8576b"
             ],
             [
              0.6666666666666666,
              "#ed7953"
             ],
             [
              0.7777777777777778,
              "#fb9f3a"
             ],
             [
              0.8888888888888888,
              "#fdca26"
             ],
             [
              1.0,
              "#f0f921"
             ]
            ]
           }
          ],
          "contourcarpet": [
           {
            "type": "contourcarpet",
            "colorbar": {
             "outlinewidth": 0,
             "ticks": ""
            }
           }
          ],
          "contour": [
           {
            "type": "contour",
            "colorbar": {
             "outlinewidth": 0,
             "ticks": ""
            },
            "colorscale": [
             [
              0.0,
              "#0d0887"
             ],
             [
              0.1111111111111111,
              "#46039f"
             ],
             [
              0.2222222222222222,
              "#7201a8"
             ],
             [
              0.3333333333333333,
              "#9c179e"
             ],
             [
              0.4444444444444444,
              "#bd3786"
             ],
             [
              0.5555555555555556,
              "#d8576b"
             ],
             [
              0.6666666666666666,
              "#ed7953"
             ],
             [
              0.7777777777777778,
              "#fb9f3a"
             ],
             [
              0.8888888888888888,
              "#fdca26"
             ],
             [
              1.0,
              "#f0f921"
             ]
            ]
           }
          ],
          "surface": [
           {
            "type": "surface",
            "colorbar": {
             "outlinewidth": 0,
             "ticks": ""
            },
            "colorscale": [
             [
              0.0,
              "#0d0887"
             ],
             [
              0.1111111111111111,
              "#46039f"
             ],
             [
              0.2222222222222222,
              "#7201a8"
             ],
             [
              0.3333333333333333,
              "#9c179e"
             ],
             [
              0.4444444444444444,
              "#bd3786"
             ],
             [
              0.5555555555555556,
              "#d8576b"
             ],
             [
              0.6666666666666666,
              "#ed7953"
             ],
             [
              0.7777777777777778,
              "#fb9f3a"
             ],
             [
              0.8888888888888888,
              "#fdca26"
             ],
             [
              1.0,
              "#f0f921"
             ]
            ]
           }
          ],
          "mesh3d": [
           {
            "type": "mesh3d",
            "colorbar": {
             "outlinewidth": 0,
             "ticks": ""
            }
           }
          ],
          "scatter": [
           {
            "fillpattern": {
             "fillmode": "overlay",
             "size": 10,
             "solidity": 0.2
            },
            "type": "scatter"
           }
          ],
          "parcoords": [
           {
            "type": "parcoords",
            "line": {
             "colorbar": {
              "outlinewidth": 0,
              "ticks": ""
             }
            }
           }
          ],
          "scatterpolargl": [
           {
            "type": "scatterpolargl",
            "marker": {
             "colorbar": {
              "outlinewidth": 0,
              "ticks": ""
             }
            }
           }
          ],
          "bar": [
           {
            "error_x": {
             "color": "#2a3f5f"
            },
            "error_y": {
             "color": "#2a3f5f"
            },
            "marker": {
             "line": {
              "color": "#E5ECF6",
              "width": 0.5
             },
             "pattern": {
              "fillmode": "overlay",
              "size": 10,
              "solidity": 0.2
             }
            },
            "type": "bar"
           }
          ],
          "scattergeo": [
           {
            "type": "scattergeo",
            "marker": {
             "colorbar": {
              "outlinewidth": 0,
              "ticks": ""
             }
            }
           }
          ],
          "scatterpolar": [
           {
            "type": "scatterpolar",
            "marker": {
             "colorbar": {
              "outlinewidth": 0,
              "ticks": ""
             }
            }
           }
          ],
          "histogram": [
           {
            "marker": {
             "pattern": {
              "fillmode": "overlay",
              "size": 10,
              "solidity": 0.2
             }
            },
            "type": "histogram"
           }
          ],
          "scattergl": [
           {
            "type": "scattergl",
            "marker": {
             "colorbar": {
              "outlinewidth": 0,
              "ticks": ""
             }
            }
           }
          ],
          "scatter3d": [
           {
            "type": "scatter3d",
            "line": {
             "colorbar": {
              "outlinewidth": 0,
              "ticks": ""
             }
            },
            "marker": {
             "colorbar": {
              "outlinewidth": 0,
              "ticks": ""
             }
            }
           }
          ],
          "scattermapbox": [
           {
            "type": "scattermapbox",
            "marker": {
             "colorbar": {
              "outlinewidth": 0,
              "ticks": ""
             }
            }
           }
          ],
          "scatterternary": [
           {
            "type": "scatterternary",
            "marker": {
             "colorbar": {
              "outlinewidth": 0,
              "ticks": ""
             }
            }
           }
          ],
          "scattercarpet": [
           {
            "type": "scattercarpet",
            "marker": {
             "colorbar": {
              "outlinewidth": 0,
              "ticks": ""
             }
            }
           }
          ],
          "carpet": [
           {
            "aaxis": {
             "endlinecolor": "#2a3f5f",
             "gridcolor": "white",
             "linecolor": "white",
             "minorgridcolor": "white",
             "startlinecolor": "#2a3f5f"
            },
            "baxis": {
             "endlinecolor": "#2a3f5f",
             "gridcolor": "white",
             "linecolor": "white",
             "minorgridcolor": "white",
             "startlinecolor": "#2a3f5f"
            },
            "type": "carpet"
           }
          ],
          "table": [
           {
            "cells": {
             "fill": {
              "color": "#EBF0F8"
             },
             "line": {
              "color": "white"
             }
            },
            "header": {
             "fill": {
              "color": "#C8D4E3"
             },
             "line": {
              "color": "white"
             }
            },
            "type": "table"
           }
          ],
          "barpolar": [
           {
            "marker": {
             "line": {
              "color": "#E5ECF6",
              "width": 0.5
             },
             "pattern": {
              "fillmode": "overlay",
              "size": 10,
              "solidity": 0.2
             }
            },
            "type": "barpolar"
           }
          ],
          "pie": [
           {
            "automargin": true,
            "type": "pie"
           }
          ]
         },
         "layout": {
          "autotypenumbers": "strict",
          "colorway": [
           "#636efa",
           "#EF553B",
           "#00cc96",
           "#ab63fa",
           "#FFA15A",
           "#19d3f3",
           "#FF6692",
           "#B6E880",
           "#FF97FF",
           "#FECB52"
          ],
          "font": {
           "color": "#2a3f5f"
          },
          "hovermode": "closest",
          "hoverlabel": {
           "align": "left"
          },
          "paper_bgcolor": "white",
          "plot_bgcolor": "#E5ECF6",
          "polar": {
           "bgcolor": "#E5ECF6",
           "angularaxis": {
            "gridcolor": "white",
            "linecolor": "white",
            "ticks": ""
           },
           "radialaxis": {
            "gridcolor": "white",
            "linecolor": "white",
            "ticks": ""
           }
          },
          "ternary": {
           "bgcolor": "#E5ECF6",
           "aaxis": {
            "gridcolor": "white",
            "linecolor": "white",
            "ticks": ""
           },
           "baxis": {
            "gridcolor": "white",
            "linecolor": "white",
            "ticks": ""
           },
           "caxis": {
            "gridcolor": "white",
            "linecolor": "white",
            "ticks": ""
           }
          },
          "coloraxis": {
           "colorbar": {
            "outlinewidth": 0,
            "ticks": ""
           }
          },
          "colorscale": {
           "sequential": [
            [
             0.0,
             "#0d0887"
            ],
            [
             0.1111111111111111,
             "#46039f"
            ],
            [
             0.2222222222222222,
             "#7201a8"
            ],
            [
             0.3333333333333333,
             "#9c179e"
            ],
            [
             0.4444444444444444,
             "#bd3786"
            ],
            [
             0.5555555555555556,
             "#d8576b"
            ],
            [
             0.6666666666666666,
             "#ed7953"
            ],
            [
             0.7777777777777778,
             "#fb9f3a"
            ],
            [
             0.8888888888888888,
             "#fdca26"
            ],
            [
             1.0,
             "#f0f921"
            ]
           ],
           "sequentialminus": [
            [
             0.0,
             "#0d0887"
            ],
            [
             0.1111111111111111,
             "#46039f"
            ],
            [
             0.2222222222222222,
             "#7201a8"
            ],
            [
             0.3333333333333333,
             "#9c179e"
            ],
            [
             0.4444444444444444,
             "#bd3786"
            ],
            [
             0.5555555555555556,
             "#d8576b"
            ],
            [
             0.6666666666666666,
             "#ed7953"
            ],
            [
             0.7777777777777778,
             "#fb9f3a"
            ],
            [
             0.8888888888888888,
             "#fdca26"
            ],
            [
             1.0,
             "#f0f921"
            ]
           ],
           "diverging": [
            [
             0,
             "#8e0152"
            ],
            [
             0.1,
             "#c51b7d"
            ],
            [
             0.2,
             "#de77ae"
            ],
            [
             0.3,
             "#f1b6da"
            ],
            [
             0.4,
             "#fde0ef"
            ],
            [
             0.5,
             "#f7f7f7"
            ],
            [
             0.6,
             "#e6f5d0"
            ],
            [
             0.7,
             "#b8e186"
            ],
            [
             0.8,
             "#7fbc41"
            ],
            [
             0.9,
             "#4d9221"
            ],
            [
             1,
             "#276419"
            ]
           ]
          },
          "xaxis": {
           "gridcolor": "white",
           "linecolor": "white",
           "ticks": "",
           "title": {
            "standoff": 15
           },
           "zerolinecolor": "white",
           "automargin": true,
           "zerolinewidth": 2
          },
          "yaxis": {
           "gridcolor": "white",
           "linecolor": "white",
           "ticks": "",
           "title": {
            "standoff": 15
           },
           "zerolinecolor": "white",
           "automargin": true,
           "zerolinewidth": 2
          },
          "scene": {
           "xaxis": {
            "backgroundcolor": "#E5ECF6",
            "gridcolor": "white",
            "linecolor": "white",
            "showbackground": true,
            "ticks": "",
            "zerolinecolor": "white",
            "gridwidth": 2
           },
           "yaxis": {
            "backgroundcolor": "#E5ECF6",
            "gridcolor": "white",
            "linecolor": "white",
            "showbackground": true,
            "ticks": "",
            "zerolinecolor": "white",
            "gridwidth": 2
           },
           "zaxis": {
            "backgroundcolor": "#E5ECF6",
            "gridcolor": "white",
            "linecolor": "white",
            "showbackground": true,
            "ticks": "",
            "zerolinecolor": "white",
            "gridwidth": 2
           }
          },
          "shapedefaults": {
           "line": {
            "color": "#2a3f5f"
           }
          },
          "annotationdefaults": {
           "arrowcolor": "#2a3f5f",
           "arrowhead": 0,
           "arrowwidth": 1
          },
          "geo": {
           "bgcolor": "white",
           "landcolor": "#E5ECF6",
           "subunitcolor": "white",
           "showland": true,
           "showlakes": true,
           "lakecolor": "white"
          },
          "title": {
           "x": 0.05
          },
          "mapbox": {
           "style": "light"
          }
         }
        },
        "xaxis": {
         "anchor": "y",
         "domain": [
          0.0,
          1.0
         ],
         "title": {
          "text": "semestres"
         }
        },
        "yaxis": {
         "anchor": "x",
         "domain": [
          0.0,
          1.0
         ],
         "title": {
          "text": "valores"
         }
        },
        "legend": {
         "title": {
          "text": "subcategoria"
         },
         "tracegroupgap": 0
        },
        "title": {
         "text": "Línea de tendencia por categorías"
        }
       },
       "config": {
        "plotlyServerURL": "https://plot.ly"
       }
      },
      "text/html": "<div>                            <div id=\"7a01af37-23c6-4f55-9a93-24f0ef3cc2d1\" class=\"plotly-graph-div\" style=\"height:525px; width:100%;\"></div>            <script type=\"text/javascript\">                require([\"plotly\"], function(Plotly) {                    window.PLOTLYENV=window.PLOTLYENV || {};                                    if (document.getElementById(\"7a01af37-23c6-4f55-9a93-24f0ef3cc2d1\")) {                    Plotly.newPlot(                        \"7a01af37-23c6-4f55-9a93-24f0ef3cc2d1\",                        [{\"hovertemplate\":\"subcategoria=contrato\\u003cbr\\u003esemestres=%{x}\\u003cbr\\u003evalores=%{y}\\u003cextra\\u003e\\u003c\\u002fextra\\u003e\",\"legendgroup\":\"contrato\",\"line\":{\"color\":\"#636efa\",\"dash\":\"solid\"},\"marker\":{\"symbol\":\"circle\",\"size\":10},\"mode\":\"lines+markers\",\"name\":\"contrato\",\"orientation\":\"v\",\"showlegend\":true,\"x\":[\"s2018-1\",\"s2018-2\",\"s2019-1\",\"s2019-2\",\"s2020-1\",\"s2020-2\"],\"xaxis\":\"x\",\"y\":[10,15,7,10,12,15],\"yaxis\":\"y\",\"type\":\"scatter\"},{\"hovertemplate\":\"subcategoria=nombrado\\u003cbr\\u003esemestres=%{x}\\u003cbr\\u003evalores=%{y}\\u003cextra\\u003e\\u003c\\u002fextra\\u003e\",\"legendgroup\":\"nombrado\",\"line\":{\"color\":\"#EF553B\",\"dash\":\"solid\"},\"marker\":{\"symbol\":\"circle\",\"size\":10},\"mode\":\"lines+markers\",\"name\":\"nombrado\",\"orientation\":\"v\",\"showlegend\":true,\"x\":[\"s2018-1\",\"s2018-2\",\"s2019-1\",\"s2019-2\",\"s2020-1\",\"s2020-2\"],\"xaxis\":\"x\",\"y\":[8,17,3,10,15,7],\"yaxis\":\"y\",\"type\":\"scatter\"}],                        {\"template\":{\"data\":{\"histogram2dcontour\":[{\"type\":\"histogram2dcontour\",\"colorbar\":{\"outlinewidth\":0,\"ticks\":\"\"},\"colorscale\":[[0.0,\"#0d0887\"],[0.1111111111111111,\"#46039f\"],[0.2222222222222222,\"#7201a8\"],[0.3333333333333333,\"#9c179e\"],[0.4444444444444444,\"#bd3786\"],[0.5555555555555556,\"#d8576b\"],[0.6666666666666666,\"#ed7953\"],[0.7777777777777778,\"#fb9f3a\"],[0.8888888888888888,\"#fdca26\"],[1.0,\"#f0f921\"]]}],\"choropleth\":[{\"type\":\"choropleth\",\"colorbar\":{\"outlinewidth\":0,\"ticks\":\"\"}}],\"histogram2d\":[{\"type\":\"histogram2d\",\"colorbar\":{\"outlinewidth\":0,\"ticks\":\"\"},\"colorscale\":[[0.0,\"#0d0887\"],[0.1111111111111111,\"#46039f\"],[0.2222222222222222,\"#7201a8\"],[0.3333333333333333,\"#9c179e\"],[0.4444444444444444,\"#bd3786\"],[0.5555555555555556,\"#d8576b\"],[0.6666666666666666,\"#ed7953\"],[0.7777777777777778,\"#fb9f3a\"],[0.8888888888888888,\"#fdca26\"],[1.0,\"#f0f921\"]]}],\"heatmap\":[{\"type\":\"heatmap\",\"colorbar\":{\"outlinewidth\":0,\"ticks\":\"\"},\"colorscale\":[[0.0,\"#0d0887\"],[0.1111111111111111,\"#46039f\"],[0.2222222222222222,\"#7201a8\"],[0.3333333333333333,\"#9c179e\"],[0.4444444444444444,\"#bd3786\"],[0.5555555555555556,\"#d8576b\"],[0.6666666666666666,\"#ed7953\"],[0.7777777777777778,\"#fb9f3a\"],[0.8888888888888888,\"#fdca26\"],[1.0,\"#f0f921\"]]}],\"heatmapgl\":[{\"type\":\"heatmapgl\",\"colorbar\":{\"outlinewidth\":0,\"ticks\":\"\"},\"colorscale\":[[0.0,\"#0d0887\"],[0.1111111111111111,\"#46039f\"],[0.2222222222222222,\"#7201a8\"],[0.3333333333333333,\"#9c179e\"],[0.4444444444444444,\"#bd3786\"],[0.5555555555555556,\"#d8576b\"],[0.6666666666666666,\"#ed7953\"],[0.7777777777777778,\"#fb9f3a\"],[0.8888888888888888,\"#fdca26\"],[1.0,\"#f0f921\"]]}],\"contourcarpet\":[{\"type\":\"contourcarpet\",\"colorbar\":{\"outlinewidth\":0,\"ticks\":\"\"}}],\"contour\":[{\"type\":\"contour\",\"colorbar\":{\"outlinewidth\":0,\"ticks\":\"\"},\"colorscale\":[[0.0,\"#0d0887\"],[0.1111111111111111,\"#46039f\"],[0.2222222222222222,\"#7201a8\"],[0.3333333333333333,\"#9c179e\"],[0.4444444444444444,\"#bd3786\"],[0.5555555555555556,\"#d8576b\"],[0.6666666666666666,\"#ed7953\"],[0.7777777777777778,\"#fb9f3a\"],[0.8888888888888888,\"#fdca26\"],[1.0,\"#f0f921\"]]}],\"surface\":[{\"type\":\"surface\",\"colorbar\":{\"outlinewidth\":0,\"ticks\":\"\"},\"colorscale\":[[0.0,\"#0d0887\"],[0.1111111111111111,\"#46039f\"],[0.2222222222222222,\"#7201a8\"],[0.3333333333333333,\"#9c179e\"],[0.4444444444444444,\"#bd3786\"],[0.5555555555555556,\"#d8576b\"],[0.6666666666666666,\"#ed7953\"],[0.7777777777777778,\"#fb9f3a\"],[0.8888888888888888,\"#fdca26\"],[1.0,\"#f0f921\"]]}],\"mesh3d\":[{\"type\":\"mesh3d\",\"colorbar\":{\"outlinewidth\":0,\"ticks\":\"\"}}],\"scatter\":[{\"fillpattern\":{\"fillmode\":\"overlay\",\"size\":10,\"solidity\":0.2},\"type\":\"scatter\"}],\"parcoords\":[{\"type\":\"parcoords\",\"line\":{\"colorbar\":{\"outlinewidth\":0,\"ticks\":\"\"}}}],\"scatterpolargl\":[{\"type\":\"scatterpolargl\",\"marker\":{\"colorbar\":{\"outlinewidth\":0,\"ticks\":\"\"}}}],\"bar\":[{\"error_x\":{\"color\":\"#2a3f5f\"},\"error_y\":{\"color\":\"#2a3f5f\"},\"marker\":{\"line\":{\"color\":\"#E5ECF6\",\"width\":0.5},\"pattern\":{\"fillmode\":\"overlay\",\"size\":10,\"solidity\":0.2}},\"type\":\"bar\"}],\"scattergeo\":[{\"type\":\"scattergeo\",\"marker\":{\"colorbar\":{\"outlinewidth\":0,\"ticks\":\"\"}}}],\"scatterpolar\":[{\"type\":\"scatterpolar\",\"marker\":{\"colorbar\":{\"outlinewidth\":0,\"ticks\":\"\"}}}],\"histogram\":[{\"marker\":{\"pattern\":{\"fillmode\":\"overlay\",\"size\":10,\"solidity\":0.2}},\"type\":\"histogram\"}],\"scattergl\":[{\"type\":\"scattergl\",\"marker\":{\"colorbar\":{\"outlinewidth\":0,\"ticks\":\"\"}}}],\"scatter3d\":[{\"type\":\"scatter3d\",\"line\":{\"colorbar\":{\"outlinewidth\":0,\"ticks\":\"\"}},\"marker\":{\"colorbar\":{\"outlinewidth\":0,\"ticks\":\"\"}}}],\"scattermapbox\":[{\"type\":\"scattermapbox\",\"marker\":{\"colorbar\":{\"outlinewidth\":0,\"ticks\":\"\"}}}],\"scatterternary\":[{\"type\":\"scatterternary\",\"marker\":{\"colorbar\":{\"outlinewidth\":0,\"ticks\":\"\"}}}],\"scattercarpet\":[{\"type\":\"scattercarpet\",\"marker\":{\"colorbar\":{\"outlinewidth\":0,\"ticks\":\"\"}}}],\"carpet\":[{\"aaxis\":{\"endlinecolor\":\"#2a3f5f\",\"gridcolor\":\"white\",\"linecolor\":\"white\",\"minorgridcolor\":\"white\",\"startlinecolor\":\"#2a3f5f\"},\"baxis\":{\"endlinecolor\":\"#2a3f5f\",\"gridcolor\":\"white\",\"linecolor\":\"white\",\"minorgridcolor\":\"white\",\"startlinecolor\":\"#2a3f5f\"},\"type\":\"carpet\"}],\"table\":[{\"cells\":{\"fill\":{\"color\":\"#EBF0F8\"},\"line\":{\"color\":\"white\"}},\"header\":{\"fill\":{\"color\":\"#C8D4E3\"},\"line\":{\"color\":\"white\"}},\"type\":\"table\"}],\"barpolar\":[{\"marker\":{\"line\":{\"color\":\"#E5ECF6\",\"width\":0.5},\"pattern\":{\"fillmode\":\"overlay\",\"size\":10,\"solidity\":0.2}},\"type\":\"barpolar\"}],\"pie\":[{\"automargin\":true,\"type\":\"pie\"}]},\"layout\":{\"autotypenumbers\":\"strict\",\"colorway\":[\"#636efa\",\"#EF553B\",\"#00cc96\",\"#ab63fa\",\"#FFA15A\",\"#19d3f3\",\"#FF6692\",\"#B6E880\",\"#FF97FF\",\"#FECB52\"],\"font\":{\"color\":\"#2a3f5f\"},\"hovermode\":\"closest\",\"hoverlabel\":{\"align\":\"left\"},\"paper_bgcolor\":\"white\",\"plot_bgcolor\":\"#E5ECF6\",\"polar\":{\"bgcolor\":\"#E5ECF6\",\"angularaxis\":{\"gridcolor\":\"white\",\"linecolor\":\"white\",\"ticks\":\"\"},\"radialaxis\":{\"gridcolor\":\"white\",\"linecolor\":\"white\",\"ticks\":\"\"}},\"ternary\":{\"bgcolor\":\"#E5ECF6\",\"aaxis\":{\"gridcolor\":\"white\",\"linecolor\":\"white\",\"ticks\":\"\"},\"baxis\":{\"gridcolor\":\"white\",\"linecolor\":\"white\",\"ticks\":\"\"},\"caxis\":{\"gridcolor\":\"white\",\"linecolor\":\"white\",\"ticks\":\"\"}},\"coloraxis\":{\"colorbar\":{\"outlinewidth\":0,\"ticks\":\"\"}},\"colorscale\":{\"sequential\":[[0.0,\"#0d0887\"],[0.1111111111111111,\"#46039f\"],[0.2222222222222222,\"#7201a8\"],[0.3333333333333333,\"#9c179e\"],[0.4444444444444444,\"#bd3786\"],[0.5555555555555556,\"#d8576b\"],[0.6666666666666666,\"#ed7953\"],[0.7777777777777778,\"#fb9f3a\"],[0.8888888888888888,\"#fdca26\"],[1.0,\"#f0f921\"]],\"sequentialminus\":[[0.0,\"#0d0887\"],[0.1111111111111111,\"#46039f\"],[0.2222222222222222,\"#7201a8\"],[0.3333333333333333,\"#9c179e\"],[0.4444444444444444,\"#bd3786\"],[0.5555555555555556,\"#d8576b\"],[0.6666666666666666,\"#ed7953\"],[0.7777777777777778,\"#fb9f3a\"],[0.8888888888888888,\"#fdca26\"],[1.0,\"#f0f921\"]],\"diverging\":[[0,\"#8e0152\"],[0.1,\"#c51b7d\"],[0.2,\"#de77ae\"],[0.3,\"#f1b6da\"],[0.4,\"#fde0ef\"],[0.5,\"#f7f7f7\"],[0.6,\"#e6f5d0\"],[0.7,\"#b8e186\"],[0.8,\"#7fbc41\"],[0.9,\"#4d9221\"],[1,\"#276419\"]]},\"xaxis\":{\"gridcolor\":\"white\",\"linecolor\":\"white\",\"ticks\":\"\",\"title\":{\"standoff\":15},\"zerolinecolor\":\"white\",\"automargin\":true,\"zerolinewidth\":2},\"yaxis\":{\"gridcolor\":\"white\",\"linecolor\":\"white\",\"ticks\":\"\",\"title\":{\"standoff\":15},\"zerolinecolor\":\"white\",\"automargin\":true,\"zerolinewidth\":2},\"scene\":{\"xaxis\":{\"backgroundcolor\":\"#E5ECF6\",\"gridcolor\":\"white\",\"linecolor\":\"white\",\"showbackground\":true,\"ticks\":\"\",\"zerolinecolor\":\"white\",\"gridwidth\":2},\"yaxis\":{\"backgroundcolor\":\"#E5ECF6\",\"gridcolor\":\"white\",\"linecolor\":\"white\",\"showbackground\":true,\"ticks\":\"\",\"zerolinecolor\":\"white\",\"gridwidth\":2},\"zaxis\":{\"backgroundcolor\":\"#E5ECF6\",\"gridcolor\":\"white\",\"linecolor\":\"white\",\"showbackground\":true,\"ticks\":\"\",\"zerolinecolor\":\"white\",\"gridwidth\":2}},\"shapedefaults\":{\"line\":{\"color\":\"#2a3f5f\"}},\"annotationdefaults\":{\"arrowcolor\":\"#2a3f5f\",\"arrowhead\":0,\"arrowwidth\":1},\"geo\":{\"bgcolor\":\"white\",\"landcolor\":\"#E5ECF6\",\"subunitcolor\":\"white\",\"showland\":true,\"showlakes\":true,\"lakecolor\":\"white\"},\"title\":{\"x\":0.05},\"mapbox\":{\"style\":\"light\"}}},\"xaxis\":{\"anchor\":\"y\",\"domain\":[0.0,1.0],\"title\":{\"text\":\"semestres\"}},\"yaxis\":{\"anchor\":\"x\",\"domain\":[0.0,1.0],\"title\":{\"text\":\"valores\"}},\"legend\":{\"title\":{\"text\":\"subcategoria\"},\"tracegroupgap\":0},\"title\":{\"text\":\"L\\u00ednea de tendencia por categor\\u00edas\"}},                        {\"responsive\": true}                    ).then(function(){\n                            \nvar gd = document.getElementById('7a01af37-23c6-4f55-9a93-24f0ef3cc2d1');\nvar x = new MutationObserver(function (mutations, observer) {{\n        var display = window.getComputedStyle(gd).display;\n        if (!display || display === 'none') {{\n            console.log([gd, 'removed!']);\n            Plotly.purge(gd);\n            observer.disconnect();\n        }}\n}});\n\n// Listen for the removal of the full notebook cells\nvar notebookContainer = gd.closest('#notebook-container');\nif (notebookContainer) {{\n    x.observe(notebookContainer, {childList: true});\n}}\n\n// Listen for the clearing of the current output cell\nvar outputEl = gd.closest('.output');\nif (outputEl) {{\n    x.observe(outputEl, {childList: true});\n}}\n\n                        })                };                });            </script>        </div>"
     },
     "metadata": {},
     "output_type": "display_data"
    }
   ],
   "source": [
    "fig = px.line(df, x='semestres', y='valores', color='subcategoria', title='Línea de tendencia por categorías')\n",
    "fig.update_traces(mode='lines+markers', marker=dict(size=10, symbol='circle'))\n",
    "fig.show()"
   ],
   "metadata": {
    "collapsed": false,
    "ExecuteTime": {
     "end_time": "2023-09-09T17:33:04.106258600Z",
     "start_time": "2023-09-09T17:33:04.060386500Z"
    }
   },
   "id": "a497b662b4f8caf6"
  },
  {
   "cell_type": "code",
   "execution_count": null,
   "outputs": [],
   "source": [],
   "metadata": {
    "collapsed": false
   },
   "id": "c87669ae26ff15ad"
  },
  {
   "cell_type": "code",
   "execution_count": 205,
   "outputs": [
    {
     "data": {
      "text/plain": "  departamento      tipo  s2018-1  s2018-2  s2019-1  s2019-2  s2020-1\n0     Sistemas  contrato       10       15        7       10       12\n1        Civil  nombrado        8       17        3        5       15\n2     Sistemas  nombrado        6        7        8       10        2\n3        Civil  contrato        3       15        7        6       12",
      "text/html": "<div>\n<style scoped>\n    .dataframe tbody tr th:only-of-type {\n        vertical-align: middle;\n    }\n\n    .dataframe tbody tr th {\n        vertical-align: top;\n    }\n\n    .dataframe thead th {\n        text-align: right;\n    }\n</style>\n<table border=\"1\" class=\"dataframe\">\n  <thead>\n    <tr style=\"text-align: right;\">\n      <th></th>\n      <th>departamento</th>\n      <th>tipo</th>\n      <th>s2018-1</th>\n      <th>s2018-2</th>\n      <th>s2019-1</th>\n      <th>s2019-2</th>\n      <th>s2020-1</th>\n    </tr>\n  </thead>\n  <tbody>\n    <tr>\n      <th>0</th>\n      <td>Sistemas</td>\n      <td>contrato</td>\n      <td>10</td>\n      <td>15</td>\n      <td>7</td>\n      <td>10</td>\n      <td>12</td>\n    </tr>\n    <tr>\n      <th>1</th>\n      <td>Civil</td>\n      <td>nombrado</td>\n      <td>8</td>\n      <td>17</td>\n      <td>3</td>\n      <td>5</td>\n      <td>15</td>\n    </tr>\n    <tr>\n      <th>2</th>\n      <td>Sistemas</td>\n      <td>nombrado</td>\n      <td>6</td>\n      <td>7</td>\n      <td>8</td>\n      <td>10</td>\n      <td>2</td>\n    </tr>\n    <tr>\n      <th>3</th>\n      <td>Civil</td>\n      <td>contrato</td>\n      <td>3</td>\n      <td>15</td>\n      <td>7</td>\n      <td>6</td>\n      <td>12</td>\n    </tr>\n  </tbody>\n</table>\n</div>"
     },
     "execution_count": 205,
     "metadata": {},
     "output_type": "execute_result"
    }
   ],
   "source": [
    "datos = {\n",
    "    'departamento': ['Sistemas', 'Civil', 'Sistemas', 'Civil'],\n",
    "    'tipo': ['contrato', 'nombrado', 'nombrado', 'contrato'],\n",
    "     's2018-1': [10, 8, 6, 3],\n",
    "     's2018-2': [15, 17, 7, 15],\n",
    "     's2019-1': [7, 3, 8, 7],\n",
    "     's2019-2': [10, 5, 10, 6],\n",
    "     's2020-1': [12, 15, 2, 12],\n",
    "}\n",
    "\n",
    "df = pd.DataFrame(datos)\n",
    "df"
   ],
   "metadata": {
    "collapsed": false,
    "ExecuteTime": {
     "end_time": "2023-09-09T19:57:15.715377300Z",
     "start_time": "2023-09-09T19:57:15.667877500Z"
    }
   },
   "id": "7fc3135ee44be41e"
  },
  {
   "cell_type": "code",
   "execution_count": 206,
   "outputs": [
    {
     "data": {
      "text/plain": "   departamento      tipo semestres  valores\n0      Sistemas  contrato   s2018-1       10\n1         Civil  nombrado   s2018-1        8\n2      Sistemas  nombrado   s2018-1        6\n3         Civil  contrato   s2018-1        3\n4      Sistemas  contrato   s2018-2       15\n5         Civil  nombrado   s2018-2       17\n6      Sistemas  nombrado   s2018-2        7\n7         Civil  contrato   s2018-2       15\n8      Sistemas  contrato   s2019-1        7\n9         Civil  nombrado   s2019-1        3\n10     Sistemas  nombrado   s2019-1        8\n11        Civil  contrato   s2019-1        7\n12     Sistemas  contrato   s2019-2       10\n13        Civil  nombrado   s2019-2        5\n14     Sistemas  nombrado   s2019-2       10\n15        Civil  contrato   s2019-2        6\n16     Sistemas  contrato   s2020-1       12\n17        Civil  nombrado   s2020-1       15\n18     Sistemas  nombrado   s2020-1        2\n19        Civil  contrato   s2020-1       12",
      "text/html": "<div>\n<style scoped>\n    .dataframe tbody tr th:only-of-type {\n        vertical-align: middle;\n    }\n\n    .dataframe tbody tr th {\n        vertical-align: top;\n    }\n\n    .dataframe thead th {\n        text-align: right;\n    }\n</style>\n<table border=\"1\" class=\"dataframe\">\n  <thead>\n    <tr style=\"text-align: right;\">\n      <th></th>\n      <th>departamento</th>\n      <th>tipo</th>\n      <th>semestres</th>\n      <th>valores</th>\n    </tr>\n  </thead>\n  <tbody>\n    <tr>\n      <th>0</th>\n      <td>Sistemas</td>\n      <td>contrato</td>\n      <td>s2018-1</td>\n      <td>10</td>\n    </tr>\n    <tr>\n      <th>1</th>\n      <td>Civil</td>\n      <td>nombrado</td>\n      <td>s2018-1</td>\n      <td>8</td>\n    </tr>\n    <tr>\n      <th>2</th>\n      <td>Sistemas</td>\n      <td>nombrado</td>\n      <td>s2018-1</td>\n      <td>6</td>\n    </tr>\n    <tr>\n      <th>3</th>\n      <td>Civil</td>\n      <td>contrato</td>\n      <td>s2018-1</td>\n      <td>3</td>\n    </tr>\n    <tr>\n      <th>4</th>\n      <td>Sistemas</td>\n      <td>contrato</td>\n      <td>s2018-2</td>\n      <td>15</td>\n    </tr>\n    <tr>\n      <th>5</th>\n      <td>Civil</td>\n      <td>nombrado</td>\n      <td>s2018-2</td>\n      <td>17</td>\n    </tr>\n    <tr>\n      <th>6</th>\n      <td>Sistemas</td>\n      <td>nombrado</td>\n      <td>s2018-2</td>\n      <td>7</td>\n    </tr>\n    <tr>\n      <th>7</th>\n      <td>Civil</td>\n      <td>contrato</td>\n      <td>s2018-2</td>\n      <td>15</td>\n    </tr>\n    <tr>\n      <th>8</th>\n      <td>Sistemas</td>\n      <td>contrato</td>\n      <td>s2019-1</td>\n      <td>7</td>\n    </tr>\n    <tr>\n      <th>9</th>\n      <td>Civil</td>\n      <td>nombrado</td>\n      <td>s2019-1</td>\n      <td>3</td>\n    </tr>\n    <tr>\n      <th>10</th>\n      <td>Sistemas</td>\n      <td>nombrado</td>\n      <td>s2019-1</td>\n      <td>8</td>\n    </tr>\n    <tr>\n      <th>11</th>\n      <td>Civil</td>\n      <td>contrato</td>\n      <td>s2019-1</td>\n      <td>7</td>\n    </tr>\n    <tr>\n      <th>12</th>\n      <td>Sistemas</td>\n      <td>contrato</td>\n      <td>s2019-2</td>\n      <td>10</td>\n    </tr>\n    <tr>\n      <th>13</th>\n      <td>Civil</td>\n      <td>nombrado</td>\n      <td>s2019-2</td>\n      <td>5</td>\n    </tr>\n    <tr>\n      <th>14</th>\n      <td>Sistemas</td>\n      <td>nombrado</td>\n      <td>s2019-2</td>\n      <td>10</td>\n    </tr>\n    <tr>\n      <th>15</th>\n      <td>Civil</td>\n      <td>contrato</td>\n      <td>s2019-2</td>\n      <td>6</td>\n    </tr>\n    <tr>\n      <th>16</th>\n      <td>Sistemas</td>\n      <td>contrato</td>\n      <td>s2020-1</td>\n      <td>12</td>\n    </tr>\n    <tr>\n      <th>17</th>\n      <td>Civil</td>\n      <td>nombrado</td>\n      <td>s2020-1</td>\n      <td>15</td>\n    </tr>\n    <tr>\n      <th>18</th>\n      <td>Sistemas</td>\n      <td>nombrado</td>\n      <td>s2020-1</td>\n      <td>2</td>\n    </tr>\n    <tr>\n      <th>19</th>\n      <td>Civil</td>\n      <td>contrato</td>\n      <td>s2020-1</td>\n      <td>12</td>\n    </tr>\n  </tbody>\n</table>\n</div>"
     },
     "execution_count": 206,
     "metadata": {},
     "output_type": "execute_result"
    }
   ],
   "source": [
    "df = pd.melt(df, id_vars=['departamento', 'tipo'], value_vars=['s2018-1', 's2018-2', 's2019-1', 's2019-2', 's2020-1'], var_name='semestres', value_name='valores')\n",
    "df"
   ],
   "metadata": {
    "collapsed": false,
    "ExecuteTime": {
     "end_time": "2023-09-09T19:57:16.534170800Z",
     "start_time": "2023-09-09T19:57:16.430059800Z"
    }
   },
   "id": "581a0c744b4b7a07"
  },
  {
   "cell_type": "code",
   "execution_count": 207,
   "outputs": [
    {
     "data": {
      "text/plain": "   departamento      tipo semestres  valores          categoria\n0      Sistemas  contrato   s2018-1       10  Sistemas-contrato\n1         Civil  nombrado   s2018-1        8     Civil-nombrado\n2      Sistemas  nombrado   s2018-1        6  Sistemas-nombrado\n3         Civil  contrato   s2018-1        3     Civil-contrato\n4      Sistemas  contrato   s2018-2       15  Sistemas-contrato\n5         Civil  nombrado   s2018-2       17     Civil-nombrado\n6      Sistemas  nombrado   s2018-2        7  Sistemas-nombrado\n7         Civil  contrato   s2018-2       15     Civil-contrato\n8      Sistemas  contrato   s2019-1        7  Sistemas-contrato\n9         Civil  nombrado   s2019-1        3     Civil-nombrado\n10     Sistemas  nombrado   s2019-1        8  Sistemas-nombrado\n11        Civil  contrato   s2019-1        7     Civil-contrato\n12     Sistemas  contrato   s2019-2       10  Sistemas-contrato\n13        Civil  nombrado   s2019-2        5     Civil-nombrado\n14     Sistemas  nombrado   s2019-2       10  Sistemas-nombrado\n15        Civil  contrato   s2019-2        6     Civil-contrato\n16     Sistemas  contrato   s2020-1       12  Sistemas-contrato\n17        Civil  nombrado   s2020-1       15     Civil-nombrado\n18     Sistemas  nombrado   s2020-1        2  Sistemas-nombrado\n19        Civil  contrato   s2020-1       12     Civil-contrato",
      "text/html": "<div>\n<style scoped>\n    .dataframe tbody tr th:only-of-type {\n        vertical-align: middle;\n    }\n\n    .dataframe tbody tr th {\n        vertical-align: top;\n    }\n\n    .dataframe thead th {\n        text-align: right;\n    }\n</style>\n<table border=\"1\" class=\"dataframe\">\n  <thead>\n    <tr style=\"text-align: right;\">\n      <th></th>\n      <th>departamento</th>\n      <th>tipo</th>\n      <th>semestres</th>\n      <th>valores</th>\n      <th>categoria</th>\n    </tr>\n  </thead>\n  <tbody>\n    <tr>\n      <th>0</th>\n      <td>Sistemas</td>\n      <td>contrato</td>\n      <td>s2018-1</td>\n      <td>10</td>\n      <td>Sistemas-contrato</td>\n    </tr>\n    <tr>\n      <th>1</th>\n      <td>Civil</td>\n      <td>nombrado</td>\n      <td>s2018-1</td>\n      <td>8</td>\n      <td>Civil-nombrado</td>\n    </tr>\n    <tr>\n      <th>2</th>\n      <td>Sistemas</td>\n      <td>nombrado</td>\n      <td>s2018-1</td>\n      <td>6</td>\n      <td>Sistemas-nombrado</td>\n    </tr>\n    <tr>\n      <th>3</th>\n      <td>Civil</td>\n      <td>contrato</td>\n      <td>s2018-1</td>\n      <td>3</td>\n      <td>Civil-contrato</td>\n    </tr>\n    <tr>\n      <th>4</th>\n      <td>Sistemas</td>\n      <td>contrato</td>\n      <td>s2018-2</td>\n      <td>15</td>\n      <td>Sistemas-contrato</td>\n    </tr>\n    <tr>\n      <th>5</th>\n      <td>Civil</td>\n      <td>nombrado</td>\n      <td>s2018-2</td>\n      <td>17</td>\n      <td>Civil-nombrado</td>\n    </tr>\n    <tr>\n      <th>6</th>\n      <td>Sistemas</td>\n      <td>nombrado</td>\n      <td>s2018-2</td>\n      <td>7</td>\n      <td>Sistemas-nombrado</td>\n    </tr>\n    <tr>\n      <th>7</th>\n      <td>Civil</td>\n      <td>contrato</td>\n      <td>s2018-2</td>\n      <td>15</td>\n      <td>Civil-contrato</td>\n    </tr>\n    <tr>\n      <th>8</th>\n      <td>Sistemas</td>\n      <td>contrato</td>\n      <td>s2019-1</td>\n      <td>7</td>\n      <td>Sistemas-contrato</td>\n    </tr>\n    <tr>\n      <th>9</th>\n      <td>Civil</td>\n      <td>nombrado</td>\n      <td>s2019-1</td>\n      <td>3</td>\n      <td>Civil-nombrado</td>\n    </tr>\n    <tr>\n      <th>10</th>\n      <td>Sistemas</td>\n      <td>nombrado</td>\n      <td>s2019-1</td>\n      <td>8</td>\n      <td>Sistemas-nombrado</td>\n    </tr>\n    <tr>\n      <th>11</th>\n      <td>Civil</td>\n      <td>contrato</td>\n      <td>s2019-1</td>\n      <td>7</td>\n      <td>Civil-contrato</td>\n    </tr>\n    <tr>\n      <th>12</th>\n      <td>Sistemas</td>\n      <td>contrato</td>\n      <td>s2019-2</td>\n      <td>10</td>\n      <td>Sistemas-contrato</td>\n    </tr>\n    <tr>\n      <th>13</th>\n      <td>Civil</td>\n      <td>nombrado</td>\n      <td>s2019-2</td>\n      <td>5</td>\n      <td>Civil-nombrado</td>\n    </tr>\n    <tr>\n      <th>14</th>\n      <td>Sistemas</td>\n      <td>nombrado</td>\n      <td>s2019-2</td>\n      <td>10</td>\n      <td>Sistemas-nombrado</td>\n    </tr>\n    <tr>\n      <th>15</th>\n      <td>Civil</td>\n      <td>contrato</td>\n      <td>s2019-2</td>\n      <td>6</td>\n      <td>Civil-contrato</td>\n    </tr>\n    <tr>\n      <th>16</th>\n      <td>Sistemas</td>\n      <td>contrato</td>\n      <td>s2020-1</td>\n      <td>12</td>\n      <td>Sistemas-contrato</td>\n    </tr>\n    <tr>\n      <th>17</th>\n      <td>Civil</td>\n      <td>nombrado</td>\n      <td>s2020-1</td>\n      <td>15</td>\n      <td>Civil-nombrado</td>\n    </tr>\n    <tr>\n      <th>18</th>\n      <td>Sistemas</td>\n      <td>nombrado</td>\n      <td>s2020-1</td>\n      <td>2</td>\n      <td>Sistemas-nombrado</td>\n    </tr>\n    <tr>\n      <th>19</th>\n      <td>Civil</td>\n      <td>contrato</td>\n      <td>s2020-1</td>\n      <td>12</td>\n      <td>Civil-contrato</td>\n    </tr>\n  </tbody>\n</table>\n</div>"
     },
     "execution_count": 207,
     "metadata": {},
     "output_type": "execute_result"
    }
   ],
   "source": [
    "df['categoria'] = df['departamento'] + '-' + df['tipo']\n",
    "df"
   ],
   "metadata": {
    "collapsed": false,
    "ExecuteTime": {
     "end_time": "2023-09-09T19:57:17.578792300Z",
     "start_time": "2023-09-09T19:57:17.552230500Z"
    }
   },
   "id": "5ced9530f4d8878c"
  },
  {
   "cell_type": "code",
   "execution_count": 208,
   "outputs": [
    {
     "data": {
      "application/vnd.plotly.v1+json": {
       "data": [
        {
         "hovertemplate": "categoria=Sistemas-contrato<br>semestres=%{x}<br>valores=%{y}<extra></extra>",
         "legendgroup": "Sistemas-contrato",
         "line": {
          "color": "#636efa",
          "dash": "solid"
         },
         "marker": {
          "symbol": "circle",
          "size": 10
         },
         "mode": "lines+markers",
         "name": "Sistemas-contrato",
         "orientation": "v",
         "showlegend": true,
         "x": [
          "s2018-1",
          "s2018-2",
          "s2019-1",
          "s2019-2",
          "s2020-1"
         ],
         "xaxis": "x",
         "y": [
          10,
          15,
          7,
          10,
          12
         ],
         "yaxis": "y",
         "type": "scatter"
        },
        {
         "hovertemplate": "categoria=Civil-nombrado<br>semestres=%{x}<br>valores=%{y}<extra></extra>",
         "legendgroup": "Civil-nombrado",
         "line": {
          "color": "#EF553B",
          "dash": "solid"
         },
         "marker": {
          "symbol": "circle",
          "size": 10
         },
         "mode": "lines+markers",
         "name": "Civil-nombrado",
         "orientation": "v",
         "showlegend": true,
         "x": [
          "s2018-1",
          "s2018-2",
          "s2019-1",
          "s2019-2",
          "s2020-1"
         ],
         "xaxis": "x",
         "y": [
          8,
          17,
          3,
          5,
          15
         ],
         "yaxis": "y",
         "type": "scatter"
        },
        {
         "hovertemplate": "categoria=Sistemas-nombrado<br>semestres=%{x}<br>valores=%{y}<extra></extra>",
         "legendgroup": "Sistemas-nombrado",
         "line": {
          "color": "#00cc96",
          "dash": "solid"
         },
         "marker": {
          "symbol": "circle",
          "size": 10
         },
         "mode": "lines+markers",
         "name": "Sistemas-nombrado",
         "orientation": "v",
         "showlegend": true,
         "x": [
          "s2018-1",
          "s2018-2",
          "s2019-1",
          "s2019-2",
          "s2020-1"
         ],
         "xaxis": "x",
         "y": [
          6,
          7,
          8,
          10,
          2
         ],
         "yaxis": "y",
         "type": "scatter"
        },
        {
         "hovertemplate": "categoria=Civil-contrato<br>semestres=%{x}<br>valores=%{y}<extra></extra>",
         "legendgroup": "Civil-contrato",
         "line": {
          "color": "#ab63fa",
          "dash": "solid"
         },
         "marker": {
          "symbol": "circle",
          "size": 10
         },
         "mode": "lines+markers",
         "name": "Civil-contrato",
         "orientation": "v",
         "showlegend": true,
         "x": [
          "s2018-1",
          "s2018-2",
          "s2019-1",
          "s2019-2",
          "s2020-1"
         ],
         "xaxis": "x",
         "y": [
          3,
          15,
          7,
          6,
          12
         ],
         "yaxis": "y",
         "type": "scatter"
        }
       ],
       "layout": {
        "template": {
         "data": {
          "histogram2dcontour": [
           {
            "type": "histogram2dcontour",
            "colorbar": {
             "outlinewidth": 0,
             "ticks": ""
            },
            "colorscale": [
             [
              0.0,
              "#0d0887"
             ],
             [
              0.1111111111111111,
              "#46039f"
             ],
             [
              0.2222222222222222,
              "#7201a8"
             ],
             [
              0.3333333333333333,
              "#9c179e"
             ],
             [
              0.4444444444444444,
              "#bd3786"
             ],
             [
              0.5555555555555556,
              "#d8576b"
             ],
             [
              0.6666666666666666,
              "#ed7953"
             ],
             [
              0.7777777777777778,
              "#fb9f3a"
             ],
             [
              0.8888888888888888,
              "#fdca26"
             ],
             [
              1.0,
              "#f0f921"
             ]
            ]
           }
          ],
          "choropleth": [
           {
            "type": "choropleth",
            "colorbar": {
             "outlinewidth": 0,
             "ticks": ""
            }
           }
          ],
          "histogram2d": [
           {
            "type": "histogram2d",
            "colorbar": {
             "outlinewidth": 0,
             "ticks": ""
            },
            "colorscale": [
             [
              0.0,
              "#0d0887"
             ],
             [
              0.1111111111111111,
              "#46039f"
             ],
             [
              0.2222222222222222,
              "#7201a8"
             ],
             [
              0.3333333333333333,
              "#9c179e"
             ],
             [
              0.4444444444444444,
              "#bd3786"
             ],
             [
              0.5555555555555556,
              "#d8576b"
             ],
             [
              0.6666666666666666,
              "#ed7953"
             ],
             [
              0.7777777777777778,
              "#fb9f3a"
             ],
             [
              0.8888888888888888,
              "#fdca26"
             ],
             [
              1.0,
              "#f0f921"
             ]
            ]
           }
          ],
          "heatmap": [
           {
            "type": "heatmap",
            "colorbar": {
             "outlinewidth": 0,
             "ticks": ""
            },
            "colorscale": [
             [
              0.0,
              "#0d0887"
             ],
             [
              0.1111111111111111,
              "#46039f"
             ],
             [
              0.2222222222222222,
              "#7201a8"
             ],
             [
              0.3333333333333333,
              "#9c179e"
             ],
             [
              0.4444444444444444,
              "#bd3786"
             ],
             [
              0.5555555555555556,
              "#d8576b"
             ],
             [
              0.6666666666666666,
              "#ed7953"
             ],
             [
              0.7777777777777778,
              "#fb9f3a"
             ],
             [
              0.8888888888888888,
              "#fdca26"
             ],
             [
              1.0,
              "#f0f921"
             ]
            ]
           }
          ],
          "heatmapgl": [
           {
            "type": "heatmapgl",
            "colorbar": {
             "outlinewidth": 0,
             "ticks": ""
            },
            "colorscale": [
             [
              0.0,
              "#0d0887"
             ],
             [
              0.1111111111111111,
              "#46039f"
             ],
             [
              0.2222222222222222,
              "#7201a8"
             ],
             [
              0.3333333333333333,
              "#9c179e"
             ],
             [
              0.4444444444444444,
              "#bd3786"
             ],
             [
              0.5555555555555556,
              "#d8576b"
             ],
             [
              0.6666666666666666,
              "#ed7953"
             ],
             [
              0.7777777777777778,
              "#fb9f3a"
             ],
             [
              0.8888888888888888,
              "#fdca26"
             ],
             [
              1.0,
              "#f0f921"
             ]
            ]
           }
          ],
          "contourcarpet": [
           {
            "type": "contourcarpet",
            "colorbar": {
             "outlinewidth": 0,
             "ticks": ""
            }
           }
          ],
          "contour": [
           {
            "type": "contour",
            "colorbar": {
             "outlinewidth": 0,
             "ticks": ""
            },
            "colorscale": [
             [
              0.0,
              "#0d0887"
             ],
             [
              0.1111111111111111,
              "#46039f"
             ],
             [
              0.2222222222222222,
              "#7201a8"
             ],
             [
              0.3333333333333333,
              "#9c179e"
             ],
             [
              0.4444444444444444,
              "#bd3786"
             ],
             [
              0.5555555555555556,
              "#d8576b"
             ],
             [
              0.6666666666666666,
              "#ed7953"
             ],
             [
              0.7777777777777778,
              "#fb9f3a"
             ],
             [
              0.8888888888888888,
              "#fdca26"
             ],
             [
              1.0,
              "#f0f921"
             ]
            ]
           }
          ],
          "surface": [
           {
            "type": "surface",
            "colorbar": {
             "outlinewidth": 0,
             "ticks": ""
            },
            "colorscale": [
             [
              0.0,
              "#0d0887"
             ],
             [
              0.1111111111111111,
              "#46039f"
             ],
             [
              0.2222222222222222,
              "#7201a8"
             ],
             [
              0.3333333333333333,
              "#9c179e"
             ],
             [
              0.4444444444444444,
              "#bd3786"
             ],
             [
              0.5555555555555556,
              "#d8576b"
             ],
             [
              0.6666666666666666,
              "#ed7953"
             ],
             [
              0.7777777777777778,
              "#fb9f3a"
             ],
             [
              0.8888888888888888,
              "#fdca26"
             ],
             [
              1.0,
              "#f0f921"
             ]
            ]
           }
          ],
          "mesh3d": [
           {
            "type": "mesh3d",
            "colorbar": {
             "outlinewidth": 0,
             "ticks": ""
            }
           }
          ],
          "scatter": [
           {
            "fillpattern": {
             "fillmode": "overlay",
             "size": 10,
             "solidity": 0.2
            },
            "type": "scatter"
           }
          ],
          "parcoords": [
           {
            "type": "parcoords",
            "line": {
             "colorbar": {
              "outlinewidth": 0,
              "ticks": ""
             }
            }
           }
          ],
          "scatterpolargl": [
           {
            "type": "scatterpolargl",
            "marker": {
             "colorbar": {
              "outlinewidth": 0,
              "ticks": ""
             }
            }
           }
          ],
          "bar": [
           {
            "error_x": {
             "color": "#2a3f5f"
            },
            "error_y": {
             "color": "#2a3f5f"
            },
            "marker": {
             "line": {
              "color": "#E5ECF6",
              "width": 0.5
             },
             "pattern": {
              "fillmode": "overlay",
              "size": 10,
              "solidity": 0.2
             }
            },
            "type": "bar"
           }
          ],
          "scattergeo": [
           {
            "type": "scattergeo",
            "marker": {
             "colorbar": {
              "outlinewidth": 0,
              "ticks": ""
             }
            }
           }
          ],
          "scatterpolar": [
           {
            "type": "scatterpolar",
            "marker": {
             "colorbar": {
              "outlinewidth": 0,
              "ticks": ""
             }
            }
           }
          ],
          "histogram": [
           {
            "marker": {
             "pattern": {
              "fillmode": "overlay",
              "size": 10,
              "solidity": 0.2
             }
            },
            "type": "histogram"
           }
          ],
          "scattergl": [
           {
            "type": "scattergl",
            "marker": {
             "colorbar": {
              "outlinewidth": 0,
              "ticks": ""
             }
            }
           }
          ],
          "scatter3d": [
           {
            "type": "scatter3d",
            "line": {
             "colorbar": {
              "outlinewidth": 0,
              "ticks": ""
             }
            },
            "marker": {
             "colorbar": {
              "outlinewidth": 0,
              "ticks": ""
             }
            }
           }
          ],
          "scattermapbox": [
           {
            "type": "scattermapbox",
            "marker": {
             "colorbar": {
              "outlinewidth": 0,
              "ticks": ""
             }
            }
           }
          ],
          "scatterternary": [
           {
            "type": "scatterternary",
            "marker": {
             "colorbar": {
              "outlinewidth": 0,
              "ticks": ""
             }
            }
           }
          ],
          "scattercarpet": [
           {
            "type": "scattercarpet",
            "marker": {
             "colorbar": {
              "outlinewidth": 0,
              "ticks": ""
             }
            }
           }
          ],
          "carpet": [
           {
            "aaxis": {
             "endlinecolor": "#2a3f5f",
             "gridcolor": "white",
             "linecolor": "white",
             "minorgridcolor": "white",
             "startlinecolor": "#2a3f5f"
            },
            "baxis": {
             "endlinecolor": "#2a3f5f",
             "gridcolor": "white",
             "linecolor": "white",
             "minorgridcolor": "white",
             "startlinecolor": "#2a3f5f"
            },
            "type": "carpet"
           }
          ],
          "table": [
           {
            "cells": {
             "fill": {
              "color": "#EBF0F8"
             },
             "line": {
              "color": "white"
             }
            },
            "header": {
             "fill": {
              "color": "#C8D4E3"
             },
             "line": {
              "color": "white"
             }
            },
            "type": "table"
           }
          ],
          "barpolar": [
           {
            "marker": {
             "line": {
              "color": "#E5ECF6",
              "width": 0.5
             },
             "pattern": {
              "fillmode": "overlay",
              "size": 10,
              "solidity": 0.2
             }
            },
            "type": "barpolar"
           }
          ],
          "pie": [
           {
            "automargin": true,
            "type": "pie"
           }
          ]
         },
         "layout": {
          "autotypenumbers": "strict",
          "colorway": [
           "#636efa",
           "#EF553B",
           "#00cc96",
           "#ab63fa",
           "#FFA15A",
           "#19d3f3",
           "#FF6692",
           "#B6E880",
           "#FF97FF",
           "#FECB52"
          ],
          "font": {
           "color": "#2a3f5f"
          },
          "hovermode": "closest",
          "hoverlabel": {
           "align": "left"
          },
          "paper_bgcolor": "white",
          "plot_bgcolor": "#E5ECF6",
          "polar": {
           "bgcolor": "#E5ECF6",
           "angularaxis": {
            "gridcolor": "white",
            "linecolor": "white",
            "ticks": ""
           },
           "radialaxis": {
            "gridcolor": "white",
            "linecolor": "white",
            "ticks": ""
           }
          },
          "ternary": {
           "bgcolor": "#E5ECF6",
           "aaxis": {
            "gridcolor": "white",
            "linecolor": "white",
            "ticks": ""
           },
           "baxis": {
            "gridcolor": "white",
            "linecolor": "white",
            "ticks": ""
           },
           "caxis": {
            "gridcolor": "white",
            "linecolor": "white",
            "ticks": ""
           }
          },
          "coloraxis": {
           "colorbar": {
            "outlinewidth": 0,
            "ticks": ""
           }
          },
          "colorscale": {
           "sequential": [
            [
             0.0,
             "#0d0887"
            ],
            [
             0.1111111111111111,
             "#46039f"
            ],
            [
             0.2222222222222222,
             "#7201a8"
            ],
            [
             0.3333333333333333,
             "#9c179e"
            ],
            [
             0.4444444444444444,
             "#bd3786"
            ],
            [
             0.5555555555555556,
             "#d8576b"
            ],
            [
             0.6666666666666666,
             "#ed7953"
            ],
            [
             0.7777777777777778,
             "#fb9f3a"
            ],
            [
             0.8888888888888888,
             "#fdca26"
            ],
            [
             1.0,
             "#f0f921"
            ]
           ],
           "sequentialminus": [
            [
             0.0,
             "#0d0887"
            ],
            [
             0.1111111111111111,
             "#46039f"
            ],
            [
             0.2222222222222222,
             "#7201a8"
            ],
            [
             0.3333333333333333,
             "#9c179e"
            ],
            [
             0.4444444444444444,
             "#bd3786"
            ],
            [
             0.5555555555555556,
             "#d8576b"
            ],
            [
             0.6666666666666666,
             "#ed7953"
            ],
            [
             0.7777777777777778,
             "#fb9f3a"
            ],
            [
             0.8888888888888888,
             "#fdca26"
            ],
            [
             1.0,
             "#f0f921"
            ]
           ],
           "diverging": [
            [
             0,
             "#8e0152"
            ],
            [
             0.1,
             "#c51b7d"
            ],
            [
             0.2,
             "#de77ae"
            ],
            [
             0.3,
             "#f1b6da"
            ],
            [
             0.4,
             "#fde0ef"
            ],
            [
             0.5,
             "#f7f7f7"
            ],
            [
             0.6,
             "#e6f5d0"
            ],
            [
             0.7,
             "#b8e186"
            ],
            [
             0.8,
             "#7fbc41"
            ],
            [
             0.9,
             "#4d9221"
            ],
            [
             1,
             "#276419"
            ]
           ]
          },
          "xaxis": {
           "gridcolor": "white",
           "linecolor": "white",
           "ticks": "",
           "title": {
            "standoff": 15
           },
           "zerolinecolor": "white",
           "automargin": true,
           "zerolinewidth": 2
          },
          "yaxis": {
           "gridcolor": "white",
           "linecolor": "white",
           "ticks": "",
           "title": {
            "standoff": 15
           },
           "zerolinecolor": "white",
           "automargin": true,
           "zerolinewidth": 2
          },
          "scene": {
           "xaxis": {
            "backgroundcolor": "#E5ECF6",
            "gridcolor": "white",
            "linecolor": "white",
            "showbackground": true,
            "ticks": "",
            "zerolinecolor": "white",
            "gridwidth": 2
           },
           "yaxis": {
            "backgroundcolor": "#E5ECF6",
            "gridcolor": "white",
            "linecolor": "white",
            "showbackground": true,
            "ticks": "",
            "zerolinecolor": "white",
            "gridwidth": 2
           },
           "zaxis": {
            "backgroundcolor": "#E5ECF6",
            "gridcolor": "white",
            "linecolor": "white",
            "showbackground": true,
            "ticks": "",
            "zerolinecolor": "white",
            "gridwidth": 2
           }
          },
          "shapedefaults": {
           "line": {
            "color": "#2a3f5f"
           }
          },
          "annotationdefaults": {
           "arrowcolor": "#2a3f5f",
           "arrowhead": 0,
           "arrowwidth": 1
          },
          "geo": {
           "bgcolor": "white",
           "landcolor": "#E5ECF6",
           "subunitcolor": "white",
           "showland": true,
           "showlakes": true,
           "lakecolor": "white"
          },
          "title": {
           "x": 0.05
          },
          "mapbox": {
           "style": "light"
          }
         }
        },
        "xaxis": {
         "anchor": "y",
         "domain": [
          0.0,
          1.0
         ],
         "title": {
          "text": "semestres"
         }
        },
        "yaxis": {
         "anchor": "x",
         "domain": [
          0.0,
          1.0
         ],
         "title": {
          "text": "valores"
         }
        },
        "legend": {
         "title": {
          "text": "categoria"
         },
         "tracegroupgap": 0
        },
        "title": {
         "text": "Línea de tendencia por categorías"
        }
       },
       "config": {
        "plotlyServerURL": "https://plot.ly"
       }
      },
      "text/html": "<div>                            <div id=\"26717e9b-0931-496f-bfa6-139fd863e900\" class=\"plotly-graph-div\" style=\"height:525px; width:100%;\"></div>            <script type=\"text/javascript\">                require([\"plotly\"], function(Plotly) {                    window.PLOTLYENV=window.PLOTLYENV || {};                                    if (document.getElementById(\"26717e9b-0931-496f-bfa6-139fd863e900\")) {                    Plotly.newPlot(                        \"26717e9b-0931-496f-bfa6-139fd863e900\",                        [{\"hovertemplate\":\"categoria=Sistemas-contrato\\u003cbr\\u003esemestres=%{x}\\u003cbr\\u003evalores=%{y}\\u003cextra\\u003e\\u003c\\u002fextra\\u003e\",\"legendgroup\":\"Sistemas-contrato\",\"line\":{\"color\":\"#636efa\",\"dash\":\"solid\"},\"marker\":{\"symbol\":\"circle\",\"size\":10},\"mode\":\"lines+markers\",\"name\":\"Sistemas-contrato\",\"orientation\":\"v\",\"showlegend\":true,\"x\":[\"s2018-1\",\"s2018-2\",\"s2019-1\",\"s2019-2\",\"s2020-1\"],\"xaxis\":\"x\",\"y\":[10,15,7,10,12],\"yaxis\":\"y\",\"type\":\"scatter\"},{\"hovertemplate\":\"categoria=Civil-nombrado\\u003cbr\\u003esemestres=%{x}\\u003cbr\\u003evalores=%{y}\\u003cextra\\u003e\\u003c\\u002fextra\\u003e\",\"legendgroup\":\"Civil-nombrado\",\"line\":{\"color\":\"#EF553B\",\"dash\":\"solid\"},\"marker\":{\"symbol\":\"circle\",\"size\":10},\"mode\":\"lines+markers\",\"name\":\"Civil-nombrado\",\"orientation\":\"v\",\"showlegend\":true,\"x\":[\"s2018-1\",\"s2018-2\",\"s2019-1\",\"s2019-2\",\"s2020-1\"],\"xaxis\":\"x\",\"y\":[8,17,3,5,15],\"yaxis\":\"y\",\"type\":\"scatter\"},{\"hovertemplate\":\"categoria=Sistemas-nombrado\\u003cbr\\u003esemestres=%{x}\\u003cbr\\u003evalores=%{y}\\u003cextra\\u003e\\u003c\\u002fextra\\u003e\",\"legendgroup\":\"Sistemas-nombrado\",\"line\":{\"color\":\"#00cc96\",\"dash\":\"solid\"},\"marker\":{\"symbol\":\"circle\",\"size\":10},\"mode\":\"lines+markers\",\"name\":\"Sistemas-nombrado\",\"orientation\":\"v\",\"showlegend\":true,\"x\":[\"s2018-1\",\"s2018-2\",\"s2019-1\",\"s2019-2\",\"s2020-1\"],\"xaxis\":\"x\",\"y\":[6,7,8,10,2],\"yaxis\":\"y\",\"type\":\"scatter\"},{\"hovertemplate\":\"categoria=Civil-contrato\\u003cbr\\u003esemestres=%{x}\\u003cbr\\u003evalores=%{y}\\u003cextra\\u003e\\u003c\\u002fextra\\u003e\",\"legendgroup\":\"Civil-contrato\",\"line\":{\"color\":\"#ab63fa\",\"dash\":\"solid\"},\"marker\":{\"symbol\":\"circle\",\"size\":10},\"mode\":\"lines+markers\",\"name\":\"Civil-contrato\",\"orientation\":\"v\",\"showlegend\":true,\"x\":[\"s2018-1\",\"s2018-2\",\"s2019-1\",\"s2019-2\",\"s2020-1\"],\"xaxis\":\"x\",\"y\":[3,15,7,6,12],\"yaxis\":\"y\",\"type\":\"scatter\"}],                        {\"template\":{\"data\":{\"histogram2dcontour\":[{\"type\":\"histogram2dcontour\",\"colorbar\":{\"outlinewidth\":0,\"ticks\":\"\"},\"colorscale\":[[0.0,\"#0d0887\"],[0.1111111111111111,\"#46039f\"],[0.2222222222222222,\"#7201a8\"],[0.3333333333333333,\"#9c179e\"],[0.4444444444444444,\"#bd3786\"],[0.5555555555555556,\"#d8576b\"],[0.6666666666666666,\"#ed7953\"],[0.7777777777777778,\"#fb9f3a\"],[0.8888888888888888,\"#fdca26\"],[1.0,\"#f0f921\"]]}],\"choropleth\":[{\"type\":\"choropleth\",\"colorbar\":{\"outlinewidth\":0,\"ticks\":\"\"}}],\"histogram2d\":[{\"type\":\"histogram2d\",\"colorbar\":{\"outlinewidth\":0,\"ticks\":\"\"},\"colorscale\":[[0.0,\"#0d0887\"],[0.1111111111111111,\"#46039f\"],[0.2222222222222222,\"#7201a8\"],[0.3333333333333333,\"#9c179e\"],[0.4444444444444444,\"#bd3786\"],[0.5555555555555556,\"#d8576b\"],[0.6666666666666666,\"#ed7953\"],[0.7777777777777778,\"#fb9f3a\"],[0.8888888888888888,\"#fdca26\"],[1.0,\"#f0f921\"]]}],\"heatmap\":[{\"type\":\"heatmap\",\"colorbar\":{\"outlinewidth\":0,\"ticks\":\"\"},\"colorscale\":[[0.0,\"#0d0887\"],[0.1111111111111111,\"#46039f\"],[0.2222222222222222,\"#7201a8\"],[0.3333333333333333,\"#9c179e\"],[0.4444444444444444,\"#bd3786\"],[0.5555555555555556,\"#d8576b\"],[0.6666666666666666,\"#ed7953\"],[0.7777777777777778,\"#fb9f3a\"],[0.8888888888888888,\"#fdca26\"],[1.0,\"#f0f921\"]]}],\"heatmapgl\":[{\"type\":\"heatmapgl\",\"colorbar\":{\"outlinewidth\":0,\"ticks\":\"\"},\"colorscale\":[[0.0,\"#0d0887\"],[0.1111111111111111,\"#46039f\"],[0.2222222222222222,\"#7201a8\"],[0.3333333333333333,\"#9c179e\"],[0.4444444444444444,\"#bd3786\"],[0.5555555555555556,\"#d8576b\"],[0.6666666666666666,\"#ed7953\"],[0.7777777777777778,\"#fb9f3a\"],[0.8888888888888888,\"#fdca26\"],[1.0,\"#f0f921\"]]}],\"contourcarpet\":[{\"type\":\"contourcarpet\",\"colorbar\":{\"outlinewidth\":0,\"ticks\":\"\"}}],\"contour\":[{\"type\":\"contour\",\"colorbar\":{\"outlinewidth\":0,\"ticks\":\"\"},\"colorscale\":[[0.0,\"#0d0887\"],[0.1111111111111111,\"#46039f\"],[0.2222222222222222,\"#7201a8\"],[0.3333333333333333,\"#9c179e\"],[0.4444444444444444,\"#bd3786\"],[0.5555555555555556,\"#d8576b\"],[0.6666666666666666,\"#ed7953\"],[0.7777777777777778,\"#fb9f3a\"],[0.8888888888888888,\"#fdca26\"],[1.0,\"#f0f921\"]]}],\"surface\":[{\"type\":\"surface\",\"colorbar\":{\"outlinewidth\":0,\"ticks\":\"\"},\"colorscale\":[[0.0,\"#0d0887\"],[0.1111111111111111,\"#46039f\"],[0.2222222222222222,\"#7201a8\"],[0.3333333333333333,\"#9c179e\"],[0.4444444444444444,\"#bd3786\"],[0.5555555555555556,\"#d8576b\"],[0.6666666666666666,\"#ed7953\"],[0.7777777777777778,\"#fb9f3a\"],[0.8888888888888888,\"#fdca26\"],[1.0,\"#f0f921\"]]}],\"mesh3d\":[{\"type\":\"mesh3d\",\"colorbar\":{\"outlinewidth\":0,\"ticks\":\"\"}}],\"scatter\":[{\"fillpattern\":{\"fillmode\":\"overlay\",\"size\":10,\"solidity\":0.2},\"type\":\"scatter\"}],\"parcoords\":[{\"type\":\"parcoords\",\"line\":{\"colorbar\":{\"outlinewidth\":0,\"ticks\":\"\"}}}],\"scatterpolargl\":[{\"type\":\"scatterpolargl\",\"marker\":{\"colorbar\":{\"outlinewidth\":0,\"ticks\":\"\"}}}],\"bar\":[{\"error_x\":{\"color\":\"#2a3f5f\"},\"error_y\":{\"color\":\"#2a3f5f\"},\"marker\":{\"line\":{\"color\":\"#E5ECF6\",\"width\":0.5},\"pattern\":{\"fillmode\":\"overlay\",\"size\":10,\"solidity\":0.2}},\"type\":\"bar\"}],\"scattergeo\":[{\"type\":\"scattergeo\",\"marker\":{\"colorbar\":{\"outlinewidth\":0,\"ticks\":\"\"}}}],\"scatterpolar\":[{\"type\":\"scatterpolar\",\"marker\":{\"colorbar\":{\"outlinewidth\":0,\"ticks\":\"\"}}}],\"histogram\":[{\"marker\":{\"pattern\":{\"fillmode\":\"overlay\",\"size\":10,\"solidity\":0.2}},\"type\":\"histogram\"}],\"scattergl\":[{\"type\":\"scattergl\",\"marker\":{\"colorbar\":{\"outlinewidth\":0,\"ticks\":\"\"}}}],\"scatter3d\":[{\"type\":\"scatter3d\",\"line\":{\"colorbar\":{\"outlinewidth\":0,\"ticks\":\"\"}},\"marker\":{\"colorbar\":{\"outlinewidth\":0,\"ticks\":\"\"}}}],\"scattermapbox\":[{\"type\":\"scattermapbox\",\"marker\":{\"colorbar\":{\"outlinewidth\":0,\"ticks\":\"\"}}}],\"scatterternary\":[{\"type\":\"scatterternary\",\"marker\":{\"colorbar\":{\"outlinewidth\":0,\"ticks\":\"\"}}}],\"scattercarpet\":[{\"type\":\"scattercarpet\",\"marker\":{\"colorbar\":{\"outlinewidth\":0,\"ticks\":\"\"}}}],\"carpet\":[{\"aaxis\":{\"endlinecolor\":\"#2a3f5f\",\"gridcolor\":\"white\",\"linecolor\":\"white\",\"minorgridcolor\":\"white\",\"startlinecolor\":\"#2a3f5f\"},\"baxis\":{\"endlinecolor\":\"#2a3f5f\",\"gridcolor\":\"white\",\"linecolor\":\"white\",\"minorgridcolor\":\"white\",\"startlinecolor\":\"#2a3f5f\"},\"type\":\"carpet\"}],\"table\":[{\"cells\":{\"fill\":{\"color\":\"#EBF0F8\"},\"line\":{\"color\":\"white\"}},\"header\":{\"fill\":{\"color\":\"#C8D4E3\"},\"line\":{\"color\":\"white\"}},\"type\":\"table\"}],\"barpolar\":[{\"marker\":{\"line\":{\"color\":\"#E5ECF6\",\"width\":0.5},\"pattern\":{\"fillmode\":\"overlay\",\"size\":10,\"solidity\":0.2}},\"type\":\"barpolar\"}],\"pie\":[{\"automargin\":true,\"type\":\"pie\"}]},\"layout\":{\"autotypenumbers\":\"strict\",\"colorway\":[\"#636efa\",\"#EF553B\",\"#00cc96\",\"#ab63fa\",\"#FFA15A\",\"#19d3f3\",\"#FF6692\",\"#B6E880\",\"#FF97FF\",\"#FECB52\"],\"font\":{\"color\":\"#2a3f5f\"},\"hovermode\":\"closest\",\"hoverlabel\":{\"align\":\"left\"},\"paper_bgcolor\":\"white\",\"plot_bgcolor\":\"#E5ECF6\",\"polar\":{\"bgcolor\":\"#E5ECF6\",\"angularaxis\":{\"gridcolor\":\"white\",\"linecolor\":\"white\",\"ticks\":\"\"},\"radialaxis\":{\"gridcolor\":\"white\",\"linecolor\":\"white\",\"ticks\":\"\"}},\"ternary\":{\"bgcolor\":\"#E5ECF6\",\"aaxis\":{\"gridcolor\":\"white\",\"linecolor\":\"white\",\"ticks\":\"\"},\"baxis\":{\"gridcolor\":\"white\",\"linecolor\":\"white\",\"ticks\":\"\"},\"caxis\":{\"gridcolor\":\"white\",\"linecolor\":\"white\",\"ticks\":\"\"}},\"coloraxis\":{\"colorbar\":{\"outlinewidth\":0,\"ticks\":\"\"}},\"colorscale\":{\"sequential\":[[0.0,\"#0d0887\"],[0.1111111111111111,\"#46039f\"],[0.2222222222222222,\"#7201a8\"],[0.3333333333333333,\"#9c179e\"],[0.4444444444444444,\"#bd3786\"],[0.5555555555555556,\"#d8576b\"],[0.6666666666666666,\"#ed7953\"],[0.7777777777777778,\"#fb9f3a\"],[0.8888888888888888,\"#fdca26\"],[1.0,\"#f0f921\"]],\"sequentialminus\":[[0.0,\"#0d0887\"],[0.1111111111111111,\"#46039f\"],[0.2222222222222222,\"#7201a8\"],[0.3333333333333333,\"#9c179e\"],[0.4444444444444444,\"#bd3786\"],[0.5555555555555556,\"#d8576b\"],[0.6666666666666666,\"#ed7953\"],[0.7777777777777778,\"#fb9f3a\"],[0.8888888888888888,\"#fdca26\"],[1.0,\"#f0f921\"]],\"diverging\":[[0,\"#8e0152\"],[0.1,\"#c51b7d\"],[0.2,\"#de77ae\"],[0.3,\"#f1b6da\"],[0.4,\"#fde0ef\"],[0.5,\"#f7f7f7\"],[0.6,\"#e6f5d0\"],[0.7,\"#b8e186\"],[0.8,\"#7fbc41\"],[0.9,\"#4d9221\"],[1,\"#276419\"]]},\"xaxis\":{\"gridcolor\":\"white\",\"linecolor\":\"white\",\"ticks\":\"\",\"title\":{\"standoff\":15},\"zerolinecolor\":\"white\",\"automargin\":true,\"zerolinewidth\":2},\"yaxis\":{\"gridcolor\":\"white\",\"linecolor\":\"white\",\"ticks\":\"\",\"title\":{\"standoff\":15},\"zerolinecolor\":\"white\",\"automargin\":true,\"zerolinewidth\":2},\"scene\":{\"xaxis\":{\"backgroundcolor\":\"#E5ECF6\",\"gridcolor\":\"white\",\"linecolor\":\"white\",\"showbackground\":true,\"ticks\":\"\",\"zerolinecolor\":\"white\",\"gridwidth\":2},\"yaxis\":{\"backgroundcolor\":\"#E5ECF6\",\"gridcolor\":\"white\",\"linecolor\":\"white\",\"showbackground\":true,\"ticks\":\"\",\"zerolinecolor\":\"white\",\"gridwidth\":2},\"zaxis\":{\"backgroundcolor\":\"#E5ECF6\",\"gridcolor\":\"white\",\"linecolor\":\"white\",\"showbackground\":true,\"ticks\":\"\",\"zerolinecolor\":\"white\",\"gridwidth\":2}},\"shapedefaults\":{\"line\":{\"color\":\"#2a3f5f\"}},\"annotationdefaults\":{\"arrowcolor\":\"#2a3f5f\",\"arrowhead\":0,\"arrowwidth\":1},\"geo\":{\"bgcolor\":\"white\",\"landcolor\":\"#E5ECF6\",\"subunitcolor\":\"white\",\"showland\":true,\"showlakes\":true,\"lakecolor\":\"white\"},\"title\":{\"x\":0.05},\"mapbox\":{\"style\":\"light\"}}},\"xaxis\":{\"anchor\":\"y\",\"domain\":[0.0,1.0],\"title\":{\"text\":\"semestres\"}},\"yaxis\":{\"anchor\":\"x\",\"domain\":[0.0,1.0],\"title\":{\"text\":\"valores\"}},\"legend\":{\"title\":{\"text\":\"categoria\"},\"tracegroupgap\":0},\"title\":{\"text\":\"L\\u00ednea de tendencia por categor\\u00edas\"}},                        {\"responsive\": true}                    ).then(function(){\n                            \nvar gd = document.getElementById('26717e9b-0931-496f-bfa6-139fd863e900');\nvar x = new MutationObserver(function (mutations, observer) {{\n        var display = window.getComputedStyle(gd).display;\n        if (!display || display === 'none') {{\n            console.log([gd, 'removed!']);\n            Plotly.purge(gd);\n            observer.disconnect();\n        }}\n}});\n\n// Listen for the removal of the full notebook cells\nvar notebookContainer = gd.closest('#notebook-container');\nif (notebookContainer) {{\n    x.observe(notebookContainer, {childList: true});\n}}\n\n// Listen for the clearing of the current output cell\nvar outputEl = gd.closest('.output');\nif (outputEl) {{\n    x.observe(outputEl, {childList: true});\n}}\n\n                        })                };                });            </script>        </div>"
     },
     "metadata": {},
     "output_type": "display_data"
    }
   ],
   "source": [
    "fig = px.line(df, x='semestres', y='valores', color='categoria', title='Línea de tendencia por categorías')\n",
    "fig.update_traces(mode='lines+markers', marker=dict(size=10, symbol='circle'))\n",
    "fig.show()"
   ],
   "metadata": {
    "collapsed": false,
    "ExecuteTime": {
     "end_time": "2023-09-09T19:57:19.018257600Z",
     "start_time": "2023-09-09T19:57:18.955260700Z"
    }
   },
   "id": "75789c8e80bb6433"
  },
  {
   "cell_type": "code",
   "execution_count": null,
   "outputs": [],
   "source": [],
   "metadata": {
    "collapsed": false
   },
   "id": "5a0944b98837e05b"
  }
 ],
 "metadata": {
  "kernelspec": {
   "display_name": "Python 3",
   "language": "python",
   "name": "python3"
  },
  "language_info": {
   "codemirror_mode": {
    "name": "ipython",
    "version": 2
   },
   "file_extension": ".py",
   "mimetype": "text/x-python",
   "name": "python",
   "nbconvert_exporter": "python",
   "pygments_lexer": "ipython2",
   "version": "2.7.6"
  }
 },
 "nbformat": 4,
 "nbformat_minor": 5
}
