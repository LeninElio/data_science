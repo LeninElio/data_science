{
 "cells": [
  {
   "cell_type": "code",
   "execution_count": 1,
   "id": "initial_id",
   "metadata": {
    "collapsed": true,
    "ExecuteTime": {
     "end_time": "2023-09-06T16:15:19.732240900Z",
     "start_time": "2023-09-06T16:15:16.430254900Z"
    }
   },
   "outputs": [],
   "source": [
    "import pandas as pd\n",
    "import numpy as np"
   ]
  },
  {
   "cell_type": "code",
   "execution_count": 2,
   "outputs": [
    {
     "data": {
      "text/plain": "      curso  id_recurso                    nombre  forum  resource  assign  \\\n0     12152      133190                   General    1.0       NaN     NaN   \n1     12152      134547                    WEEK 1    NaN       2.0     NaN   \n2     12152      134548                    WEEK 2    NaN       2.0     NaN   \n3     12152      134549                    WEEK 3    NaN       1.0     NaN   \n4     12152      134550                    WEEK 4    NaN       2.0     NaN   \n...     ...         ...                       ...    ...       ...     ...   \n8602  13963      133663                   General    1.0       NaN     NaN   \n8603  13963      136711   10 de July - 16 de July    NaN       1.0     NaN   \n8604  13963      138716   17 de July - 23 de July    NaN       2.0     NaN   \n8605  13963      141117   24 de July - 30 de July    NaN       2.0     NaN   \n8606  13963      143275  31 de July - 6 de August    NaN       3.0     NaN   \n\n      label  url  quiz  chat  ...  page  lesson  choice  scorm  h5pactivity  \\\n0       NaN  NaN   NaN   NaN  ...   NaN     NaN     NaN    NaN          NaN   \n1       NaN  NaN   NaN   NaN  ...   NaN     NaN     NaN    NaN          NaN   \n2       NaN  NaN   NaN   NaN  ...   NaN     NaN     NaN    NaN          NaN   \n3       NaN  NaN   NaN   NaN  ...   NaN     NaN     NaN    NaN          NaN   \n4       NaN  NaN   NaN   NaN  ...   NaN     NaN     NaN    NaN          NaN   \n...     ...  ...   ...   ...  ...   ...     ...     ...    ...          ...   \n8602    NaN  NaN   NaN   NaN  ...   NaN     NaN     NaN    NaN          NaN   \n8603    NaN  NaN   NaN   NaN  ...   NaN     NaN     NaN    NaN          NaN   \n8604    NaN  NaN   NaN   NaN  ...   NaN     NaN     NaN    NaN          NaN   \n8605    NaN  NaN   NaN   NaN  ...   NaN     NaN     NaN    NaN          NaN   \n8606    NaN  NaN   NaN   NaN  ...   NaN     NaN     NaN    NaN          NaN   \n\n      data  book  wiki  glossary  feedback  \n0      NaN   NaN   NaN       NaN       NaN  \n1      NaN   NaN   NaN       NaN       NaN  \n2      NaN   NaN   NaN       NaN       NaN  \n3      NaN   NaN   NaN       NaN       NaN  \n4      NaN   NaN   NaN       NaN       NaN  \n...    ...   ...   ...       ...       ...  \n8602   NaN   NaN   NaN       NaN       NaN  \n8603   NaN   NaN   NaN       NaN       NaN  \n8604   NaN   NaN   NaN       NaN       NaN  \n8605   NaN   NaN   NaN       NaN       NaN  \n8606   NaN   NaN   NaN       NaN       NaN  \n\n[8607 rows x 22 columns]",
      "text/html": "<div>\n<style scoped>\n    .dataframe tbody tr th:only-of-type {\n        vertical-align: middle;\n    }\n\n    .dataframe tbody tr th {\n        vertical-align: top;\n    }\n\n    .dataframe thead th {\n        text-align: right;\n    }\n</style>\n<table border=\"1\" class=\"dataframe\">\n  <thead>\n    <tr style=\"text-align: right;\">\n      <th></th>\n      <th>curso</th>\n      <th>id_recurso</th>\n      <th>nombre</th>\n      <th>forum</th>\n      <th>resource</th>\n      <th>assign</th>\n      <th>label</th>\n      <th>url</th>\n      <th>quiz</th>\n      <th>chat</th>\n      <th>...</th>\n      <th>page</th>\n      <th>lesson</th>\n      <th>choice</th>\n      <th>scorm</th>\n      <th>h5pactivity</th>\n      <th>data</th>\n      <th>book</th>\n      <th>wiki</th>\n      <th>glossary</th>\n      <th>feedback</th>\n    </tr>\n  </thead>\n  <tbody>\n    <tr>\n      <th>0</th>\n      <td>12152</td>\n      <td>133190</td>\n      <td>General</td>\n      <td>1.0</td>\n      <td>NaN</td>\n      <td>NaN</td>\n      <td>NaN</td>\n      <td>NaN</td>\n      <td>NaN</td>\n      <td>NaN</td>\n      <td>...</td>\n      <td>NaN</td>\n      <td>NaN</td>\n      <td>NaN</td>\n      <td>NaN</td>\n      <td>NaN</td>\n      <td>NaN</td>\n      <td>NaN</td>\n      <td>NaN</td>\n      <td>NaN</td>\n      <td>NaN</td>\n    </tr>\n    <tr>\n      <th>1</th>\n      <td>12152</td>\n      <td>134547</td>\n      <td>WEEK 1</td>\n      <td>NaN</td>\n      <td>2.0</td>\n      <td>NaN</td>\n      <td>NaN</td>\n      <td>NaN</td>\n      <td>NaN</td>\n      <td>NaN</td>\n      <td>...</td>\n      <td>NaN</td>\n      <td>NaN</td>\n      <td>NaN</td>\n      <td>NaN</td>\n      <td>NaN</td>\n      <td>NaN</td>\n      <td>NaN</td>\n      <td>NaN</td>\n      <td>NaN</td>\n      <td>NaN</td>\n    </tr>\n    <tr>\n      <th>2</th>\n      <td>12152</td>\n      <td>134548</td>\n      <td>WEEK 2</td>\n      <td>NaN</td>\n      <td>2.0</td>\n      <td>NaN</td>\n      <td>NaN</td>\n      <td>NaN</td>\n      <td>NaN</td>\n      <td>NaN</td>\n      <td>...</td>\n      <td>NaN</td>\n      <td>NaN</td>\n      <td>NaN</td>\n      <td>NaN</td>\n      <td>NaN</td>\n      <td>NaN</td>\n      <td>NaN</td>\n      <td>NaN</td>\n      <td>NaN</td>\n      <td>NaN</td>\n    </tr>\n    <tr>\n      <th>3</th>\n      <td>12152</td>\n      <td>134549</td>\n      <td>WEEK 3</td>\n      <td>NaN</td>\n      <td>1.0</td>\n      <td>NaN</td>\n      <td>NaN</td>\n      <td>NaN</td>\n      <td>NaN</td>\n      <td>NaN</td>\n      <td>...</td>\n      <td>NaN</td>\n      <td>NaN</td>\n      <td>NaN</td>\n      <td>NaN</td>\n      <td>NaN</td>\n      <td>NaN</td>\n      <td>NaN</td>\n      <td>NaN</td>\n      <td>NaN</td>\n      <td>NaN</td>\n    </tr>\n    <tr>\n      <th>4</th>\n      <td>12152</td>\n      <td>134550</td>\n      <td>WEEK 4</td>\n      <td>NaN</td>\n      <td>2.0</td>\n      <td>NaN</td>\n      <td>NaN</td>\n      <td>NaN</td>\n      <td>NaN</td>\n      <td>NaN</td>\n      <td>...</td>\n      <td>NaN</td>\n      <td>NaN</td>\n      <td>NaN</td>\n      <td>NaN</td>\n      <td>NaN</td>\n      <td>NaN</td>\n      <td>NaN</td>\n      <td>NaN</td>\n      <td>NaN</td>\n      <td>NaN</td>\n    </tr>\n    <tr>\n      <th>...</th>\n      <td>...</td>\n      <td>...</td>\n      <td>...</td>\n      <td>...</td>\n      <td>...</td>\n      <td>...</td>\n      <td>...</td>\n      <td>...</td>\n      <td>...</td>\n      <td>...</td>\n      <td>...</td>\n      <td>...</td>\n      <td>...</td>\n      <td>...</td>\n      <td>...</td>\n      <td>...</td>\n      <td>...</td>\n      <td>...</td>\n      <td>...</td>\n      <td>...</td>\n      <td>...</td>\n    </tr>\n    <tr>\n      <th>8602</th>\n      <td>13963</td>\n      <td>133663</td>\n      <td>General</td>\n      <td>1.0</td>\n      <td>NaN</td>\n      <td>NaN</td>\n      <td>NaN</td>\n      <td>NaN</td>\n      <td>NaN</td>\n      <td>NaN</td>\n      <td>...</td>\n      <td>NaN</td>\n      <td>NaN</td>\n      <td>NaN</td>\n      <td>NaN</td>\n      <td>NaN</td>\n      <td>NaN</td>\n      <td>NaN</td>\n      <td>NaN</td>\n      <td>NaN</td>\n      <td>NaN</td>\n    </tr>\n    <tr>\n      <th>8603</th>\n      <td>13963</td>\n      <td>136711</td>\n      <td>10 de July - 16 de July</td>\n      <td>NaN</td>\n      <td>1.0</td>\n      <td>NaN</td>\n      <td>NaN</td>\n      <td>NaN</td>\n      <td>NaN</td>\n      <td>NaN</td>\n      <td>...</td>\n      <td>NaN</td>\n      <td>NaN</td>\n      <td>NaN</td>\n      <td>NaN</td>\n      <td>NaN</td>\n      <td>NaN</td>\n      <td>NaN</td>\n      <td>NaN</td>\n      <td>NaN</td>\n      <td>NaN</td>\n    </tr>\n    <tr>\n      <th>8604</th>\n      <td>13963</td>\n      <td>138716</td>\n      <td>17 de July - 23 de July</td>\n      <td>NaN</td>\n      <td>2.0</td>\n      <td>NaN</td>\n      <td>NaN</td>\n      <td>NaN</td>\n      <td>NaN</td>\n      <td>NaN</td>\n      <td>...</td>\n      <td>NaN</td>\n      <td>NaN</td>\n      <td>NaN</td>\n      <td>NaN</td>\n      <td>NaN</td>\n      <td>NaN</td>\n      <td>NaN</td>\n      <td>NaN</td>\n      <td>NaN</td>\n      <td>NaN</td>\n    </tr>\n    <tr>\n      <th>8605</th>\n      <td>13963</td>\n      <td>141117</td>\n      <td>24 de July - 30 de July</td>\n      <td>NaN</td>\n      <td>2.0</td>\n      <td>NaN</td>\n      <td>NaN</td>\n      <td>NaN</td>\n      <td>NaN</td>\n      <td>NaN</td>\n      <td>...</td>\n      <td>NaN</td>\n      <td>NaN</td>\n      <td>NaN</td>\n      <td>NaN</td>\n      <td>NaN</td>\n      <td>NaN</td>\n      <td>NaN</td>\n      <td>NaN</td>\n      <td>NaN</td>\n      <td>NaN</td>\n    </tr>\n    <tr>\n      <th>8606</th>\n      <td>13963</td>\n      <td>143275</td>\n      <td>31 de July - 6 de August</td>\n      <td>NaN</td>\n      <td>3.0</td>\n      <td>NaN</td>\n      <td>NaN</td>\n      <td>NaN</td>\n      <td>NaN</td>\n      <td>NaN</td>\n      <td>...</td>\n      <td>NaN</td>\n      <td>NaN</td>\n      <td>NaN</td>\n      <td>NaN</td>\n      <td>NaN</td>\n      <td>NaN</td>\n      <td>NaN</td>\n      <td>NaN</td>\n      <td>NaN</td>\n      <td>NaN</td>\n    </tr>\n  </tbody>\n</table>\n<p>8607 rows × 22 columns</p>\n</div>"
     },
     "execution_count": 2,
     "metadata": {},
     "output_type": "execute_result"
    }
   ],
   "source": [
    "df = pd.read_csv('./data/datos_semana_9.csv')\n",
    "df"
   ],
   "metadata": {
    "collapsed": false,
    "ExecuteTime": {
     "end_time": "2023-09-06T16:15:32.499166700Z",
     "start_time": "2023-09-06T16:15:32.243986900Z"
    }
   },
   "id": "1574abd1c32c3e82"
  },
  {
   "cell_type": "code",
   "execution_count": 3,
   "outputs": [
    {
     "data": {
      "text/plain": "      curso  id_recurso                    nombre  forum  resource  assign  \\\n0     12152      133190                   General    1.0       0.0     0.0   \n1     12152      134547                    WEEK 1    0.0       2.0     0.0   \n2     12152      134548                    WEEK 2    0.0       2.0     0.0   \n3     12152      134549                    WEEK 3    0.0       1.0     0.0   \n4     12152      134550                    WEEK 4    0.0       2.0     0.0   \n...     ...         ...                       ...    ...       ...     ...   \n8602  13963      133663                   General    1.0       0.0     0.0   \n8603  13963      136711   10 de July - 16 de July    0.0       1.0     0.0   \n8604  13963      138716   17 de July - 23 de July    0.0       2.0     0.0   \n8605  13963      141117   24 de July - 30 de July    0.0       2.0     0.0   \n8606  13963      143275  31 de July - 6 de August    0.0       3.0     0.0   \n\n      label  url  quiz  chat  ...  page  lesson  choice  scorm  h5pactivity  \\\n0       0.0  0.0   0.0   0.0  ...   0.0     0.0     0.0    0.0          0.0   \n1       0.0  0.0   0.0   0.0  ...   0.0     0.0     0.0    0.0          0.0   \n2       0.0  0.0   0.0   0.0  ...   0.0     0.0     0.0    0.0          0.0   \n3       0.0  0.0   0.0   0.0  ...   0.0     0.0     0.0    0.0          0.0   \n4       0.0  0.0   0.0   0.0  ...   0.0     0.0     0.0    0.0          0.0   \n...     ...  ...   ...   ...  ...   ...     ...     ...    ...          ...   \n8602    0.0  0.0   0.0   0.0  ...   0.0     0.0     0.0    0.0          0.0   \n8603    0.0  0.0   0.0   0.0  ...   0.0     0.0     0.0    0.0          0.0   \n8604    0.0  0.0   0.0   0.0  ...   0.0     0.0     0.0    0.0          0.0   \n8605    0.0  0.0   0.0   0.0  ...   0.0     0.0     0.0    0.0          0.0   \n8606    0.0  0.0   0.0   0.0  ...   0.0     0.0     0.0    0.0          0.0   \n\n      data  book  wiki  glossary  feedback  \n0      0.0   0.0   0.0       0.0       0.0  \n1      0.0   0.0   0.0       0.0       0.0  \n2      0.0   0.0   0.0       0.0       0.0  \n3      0.0   0.0   0.0       0.0       0.0  \n4      0.0   0.0   0.0       0.0       0.0  \n...    ...   ...   ...       ...       ...  \n8602   0.0   0.0   0.0       0.0       0.0  \n8603   0.0   0.0   0.0       0.0       0.0  \n8604   0.0   0.0   0.0       0.0       0.0  \n8605   0.0   0.0   0.0       0.0       0.0  \n8606   0.0   0.0   0.0       0.0       0.0  \n\n[8607 rows x 22 columns]",
      "text/html": "<div>\n<style scoped>\n    .dataframe tbody tr th:only-of-type {\n        vertical-align: middle;\n    }\n\n    .dataframe tbody tr th {\n        vertical-align: top;\n    }\n\n    .dataframe thead th {\n        text-align: right;\n    }\n</style>\n<table border=\"1\" class=\"dataframe\">\n  <thead>\n    <tr style=\"text-align: right;\">\n      <th></th>\n      <th>curso</th>\n      <th>id_recurso</th>\n      <th>nombre</th>\n      <th>forum</th>\n      <th>resource</th>\n      <th>assign</th>\n      <th>label</th>\n      <th>url</th>\n      <th>quiz</th>\n      <th>chat</th>\n      <th>...</th>\n      <th>page</th>\n      <th>lesson</th>\n      <th>choice</th>\n      <th>scorm</th>\n      <th>h5pactivity</th>\n      <th>data</th>\n      <th>book</th>\n      <th>wiki</th>\n      <th>glossary</th>\n      <th>feedback</th>\n    </tr>\n  </thead>\n  <tbody>\n    <tr>\n      <th>0</th>\n      <td>12152</td>\n      <td>133190</td>\n      <td>General</td>\n      <td>1.0</td>\n      <td>0.0</td>\n      <td>0.0</td>\n      <td>0.0</td>\n      <td>0.0</td>\n      <td>0.0</td>\n      <td>0.0</td>\n      <td>...</td>\n      <td>0.0</td>\n      <td>0.0</td>\n      <td>0.0</td>\n      <td>0.0</td>\n      <td>0.0</td>\n      <td>0.0</td>\n      <td>0.0</td>\n      <td>0.0</td>\n      <td>0.0</td>\n      <td>0.0</td>\n    </tr>\n    <tr>\n      <th>1</th>\n      <td>12152</td>\n      <td>134547</td>\n      <td>WEEK 1</td>\n      <td>0.0</td>\n      <td>2.0</td>\n      <td>0.0</td>\n      <td>0.0</td>\n      <td>0.0</td>\n      <td>0.0</td>\n      <td>0.0</td>\n      <td>...</td>\n      <td>0.0</td>\n      <td>0.0</td>\n      <td>0.0</td>\n      <td>0.0</td>\n      <td>0.0</td>\n      <td>0.0</td>\n      <td>0.0</td>\n      <td>0.0</td>\n      <td>0.0</td>\n      <td>0.0</td>\n    </tr>\n    <tr>\n      <th>2</th>\n      <td>12152</td>\n      <td>134548</td>\n      <td>WEEK 2</td>\n      <td>0.0</td>\n      <td>2.0</td>\n      <td>0.0</td>\n      <td>0.0</td>\n      <td>0.0</td>\n      <td>0.0</td>\n      <td>0.0</td>\n      <td>...</td>\n      <td>0.0</td>\n      <td>0.0</td>\n      <td>0.0</td>\n      <td>0.0</td>\n      <td>0.0</td>\n      <td>0.0</td>\n      <td>0.0</td>\n      <td>0.0</td>\n      <td>0.0</td>\n      <td>0.0</td>\n    </tr>\n    <tr>\n      <th>3</th>\n      <td>12152</td>\n      <td>134549</td>\n      <td>WEEK 3</td>\n      <td>0.0</td>\n      <td>1.0</td>\n      <td>0.0</td>\n      <td>0.0</td>\n      <td>0.0</td>\n      <td>0.0</td>\n      <td>0.0</td>\n      <td>...</td>\n      <td>0.0</td>\n      <td>0.0</td>\n      <td>0.0</td>\n      <td>0.0</td>\n      <td>0.0</td>\n      <td>0.0</td>\n      <td>0.0</td>\n      <td>0.0</td>\n      <td>0.0</td>\n      <td>0.0</td>\n    </tr>\n    <tr>\n      <th>4</th>\n      <td>12152</td>\n      <td>134550</td>\n      <td>WEEK 4</td>\n      <td>0.0</td>\n      <td>2.0</td>\n      <td>0.0</td>\n      <td>0.0</td>\n      <td>0.0</td>\n      <td>0.0</td>\n      <td>0.0</td>\n      <td>...</td>\n      <td>0.0</td>\n      <td>0.0</td>\n      <td>0.0</td>\n      <td>0.0</td>\n      <td>0.0</td>\n      <td>0.0</td>\n      <td>0.0</td>\n      <td>0.0</td>\n      <td>0.0</td>\n      <td>0.0</td>\n    </tr>\n    <tr>\n      <th>...</th>\n      <td>...</td>\n      <td>...</td>\n      <td>...</td>\n      <td>...</td>\n      <td>...</td>\n      <td>...</td>\n      <td>...</td>\n      <td>...</td>\n      <td>...</td>\n      <td>...</td>\n      <td>...</td>\n      <td>...</td>\n      <td>...</td>\n      <td>...</td>\n      <td>...</td>\n      <td>...</td>\n      <td>...</td>\n      <td>...</td>\n      <td>...</td>\n      <td>...</td>\n      <td>...</td>\n    </tr>\n    <tr>\n      <th>8602</th>\n      <td>13963</td>\n      <td>133663</td>\n      <td>General</td>\n      <td>1.0</td>\n      <td>0.0</td>\n      <td>0.0</td>\n      <td>0.0</td>\n      <td>0.0</td>\n      <td>0.0</td>\n      <td>0.0</td>\n      <td>...</td>\n      <td>0.0</td>\n      <td>0.0</td>\n      <td>0.0</td>\n      <td>0.0</td>\n      <td>0.0</td>\n      <td>0.0</td>\n      <td>0.0</td>\n      <td>0.0</td>\n      <td>0.0</td>\n      <td>0.0</td>\n    </tr>\n    <tr>\n      <th>8603</th>\n      <td>13963</td>\n      <td>136711</td>\n      <td>10 de July - 16 de July</td>\n      <td>0.0</td>\n      <td>1.0</td>\n      <td>0.0</td>\n      <td>0.0</td>\n      <td>0.0</td>\n      <td>0.0</td>\n      <td>0.0</td>\n      <td>...</td>\n      <td>0.0</td>\n      <td>0.0</td>\n      <td>0.0</td>\n      <td>0.0</td>\n      <td>0.0</td>\n      <td>0.0</td>\n      <td>0.0</td>\n      <td>0.0</td>\n      <td>0.0</td>\n      <td>0.0</td>\n    </tr>\n    <tr>\n      <th>8604</th>\n      <td>13963</td>\n      <td>138716</td>\n      <td>17 de July - 23 de July</td>\n      <td>0.0</td>\n      <td>2.0</td>\n      <td>0.0</td>\n      <td>0.0</td>\n      <td>0.0</td>\n      <td>0.0</td>\n      <td>0.0</td>\n      <td>...</td>\n      <td>0.0</td>\n      <td>0.0</td>\n      <td>0.0</td>\n      <td>0.0</td>\n      <td>0.0</td>\n      <td>0.0</td>\n      <td>0.0</td>\n      <td>0.0</td>\n      <td>0.0</td>\n      <td>0.0</td>\n    </tr>\n    <tr>\n      <th>8605</th>\n      <td>13963</td>\n      <td>141117</td>\n      <td>24 de July - 30 de July</td>\n      <td>0.0</td>\n      <td>2.0</td>\n      <td>0.0</td>\n      <td>0.0</td>\n      <td>0.0</td>\n      <td>0.0</td>\n      <td>0.0</td>\n      <td>...</td>\n      <td>0.0</td>\n      <td>0.0</td>\n      <td>0.0</td>\n      <td>0.0</td>\n      <td>0.0</td>\n      <td>0.0</td>\n      <td>0.0</td>\n      <td>0.0</td>\n      <td>0.0</td>\n      <td>0.0</td>\n    </tr>\n    <tr>\n      <th>8606</th>\n      <td>13963</td>\n      <td>143275</td>\n      <td>31 de July - 6 de August</td>\n      <td>0.0</td>\n      <td>3.0</td>\n      <td>0.0</td>\n      <td>0.0</td>\n      <td>0.0</td>\n      <td>0.0</td>\n      <td>0.0</td>\n      <td>...</td>\n      <td>0.0</td>\n      <td>0.0</td>\n      <td>0.0</td>\n      <td>0.0</td>\n      <td>0.0</td>\n      <td>0.0</td>\n      <td>0.0</td>\n      <td>0.0</td>\n      <td>0.0</td>\n      <td>0.0</td>\n    </tr>\n  </tbody>\n</table>\n<p>8607 rows × 22 columns</p>\n</div>"
     },
     "execution_count": 3,
     "metadata": {},
     "output_type": "execute_result"
    }
   ],
   "source": [
    "df = df.fillna(0)\n",
    "df"
   ],
   "metadata": {
    "collapsed": false,
    "ExecuteTime": {
     "end_time": "2023-09-06T16:15:33.676903500Z",
     "start_time": "2023-09-06T16:15:33.630336500Z"
    }
   },
   "id": "bfc98e3334a98448"
  },
  {
   "cell_type": "code",
   "execution_count": 4,
   "outputs": [
    {
     "data": {
      "text/plain": "      curso  id_recurso                    nombre  forum  resource  assign  \\\n0     12152      133190                   General      1         0       0   \n1     12152      134547                    WEEK 1      0         2       0   \n2     12152      134548                    WEEK 2      0         2       0   \n3     12152      134549                    WEEK 3      0         1       0   \n4     12152      134550                    WEEK 4      0         2       0   \n...     ...         ...                       ...    ...       ...     ...   \n8602  13963      133663                   General      1         0       0   \n8603  13963      136711   10 de July - 16 de July      0         1       0   \n8604  13963      138716   17 de July - 23 de July      0         2       0   \n8605  13963      141117   24 de July - 30 de July      0         2       0   \n8606  13963      143275  31 de July - 6 de August      0         3       0   \n\n      label  url  quiz  chat  ...  page  lesson  choice  scorm  h5pactivity  \\\n0         0    0     0     0  ...     0       0       0      0            0   \n1         0    0     0     0  ...     0       0       0      0            0   \n2         0    0     0     0  ...     0       0       0      0            0   \n3         0    0     0     0  ...     0       0       0      0            0   \n4         0    0     0     0  ...     0       0       0      0            0   \n...     ...  ...   ...   ...  ...   ...     ...     ...    ...          ...   \n8602      0    0     0     0  ...     0       0       0      0            0   \n8603      0    0     0     0  ...     0       0       0      0            0   \n8604      0    0     0     0  ...     0       0       0      0            0   \n8605      0    0     0     0  ...     0       0       0      0            0   \n8606      0    0     0     0  ...     0       0       0      0            0   \n\n      data  book  wiki  glossary  feedback  \n0        0     0     0         0         0  \n1        0     0     0         0         0  \n2        0     0     0         0         0  \n3        0     0     0         0         0  \n4        0     0     0         0         0  \n...    ...   ...   ...       ...       ...  \n8602     0     0     0         0         0  \n8603     0     0     0         0         0  \n8604     0     0     0         0         0  \n8605     0     0     0         0         0  \n8606     0     0     0         0         0  \n\n[8607 rows x 22 columns]",
      "text/html": "<div>\n<style scoped>\n    .dataframe tbody tr th:only-of-type {\n        vertical-align: middle;\n    }\n\n    .dataframe tbody tr th {\n        vertical-align: top;\n    }\n\n    .dataframe thead th {\n        text-align: right;\n    }\n</style>\n<table border=\"1\" class=\"dataframe\">\n  <thead>\n    <tr style=\"text-align: right;\">\n      <th></th>\n      <th>curso</th>\n      <th>id_recurso</th>\n      <th>nombre</th>\n      <th>forum</th>\n      <th>resource</th>\n      <th>assign</th>\n      <th>label</th>\n      <th>url</th>\n      <th>quiz</th>\n      <th>chat</th>\n      <th>...</th>\n      <th>page</th>\n      <th>lesson</th>\n      <th>choice</th>\n      <th>scorm</th>\n      <th>h5pactivity</th>\n      <th>data</th>\n      <th>book</th>\n      <th>wiki</th>\n      <th>glossary</th>\n      <th>feedback</th>\n    </tr>\n  </thead>\n  <tbody>\n    <tr>\n      <th>0</th>\n      <td>12152</td>\n      <td>133190</td>\n      <td>General</td>\n      <td>1</td>\n      <td>0</td>\n      <td>0</td>\n      <td>0</td>\n      <td>0</td>\n      <td>0</td>\n      <td>0</td>\n      <td>...</td>\n      <td>0</td>\n      <td>0</td>\n      <td>0</td>\n      <td>0</td>\n      <td>0</td>\n      <td>0</td>\n      <td>0</td>\n      <td>0</td>\n      <td>0</td>\n      <td>0</td>\n    </tr>\n    <tr>\n      <th>1</th>\n      <td>12152</td>\n      <td>134547</td>\n      <td>WEEK 1</td>\n      <td>0</td>\n      <td>2</td>\n      <td>0</td>\n      <td>0</td>\n      <td>0</td>\n      <td>0</td>\n      <td>0</td>\n      <td>...</td>\n      <td>0</td>\n      <td>0</td>\n      <td>0</td>\n      <td>0</td>\n      <td>0</td>\n      <td>0</td>\n      <td>0</td>\n      <td>0</td>\n      <td>0</td>\n      <td>0</td>\n    </tr>\n    <tr>\n      <th>2</th>\n      <td>12152</td>\n      <td>134548</td>\n      <td>WEEK 2</td>\n      <td>0</td>\n      <td>2</td>\n      <td>0</td>\n      <td>0</td>\n      <td>0</td>\n      <td>0</td>\n      <td>0</td>\n      <td>...</td>\n      <td>0</td>\n      <td>0</td>\n      <td>0</td>\n      <td>0</td>\n      <td>0</td>\n      <td>0</td>\n      <td>0</td>\n      <td>0</td>\n      <td>0</td>\n      <td>0</td>\n    </tr>\n    <tr>\n      <th>3</th>\n      <td>12152</td>\n      <td>134549</td>\n      <td>WEEK 3</td>\n      <td>0</td>\n      <td>1</td>\n      <td>0</td>\n      <td>0</td>\n      <td>0</td>\n      <td>0</td>\n      <td>0</td>\n      <td>...</td>\n      <td>0</td>\n      <td>0</td>\n      <td>0</td>\n      <td>0</td>\n      <td>0</td>\n      <td>0</td>\n      <td>0</td>\n      <td>0</td>\n      <td>0</td>\n      <td>0</td>\n    </tr>\n    <tr>\n      <th>4</th>\n      <td>12152</td>\n      <td>134550</td>\n      <td>WEEK 4</td>\n      <td>0</td>\n      <td>2</td>\n      <td>0</td>\n      <td>0</td>\n      <td>0</td>\n      <td>0</td>\n      <td>0</td>\n      <td>...</td>\n      <td>0</td>\n      <td>0</td>\n      <td>0</td>\n      <td>0</td>\n      <td>0</td>\n      <td>0</td>\n      <td>0</td>\n      <td>0</td>\n      <td>0</td>\n      <td>0</td>\n    </tr>\n    <tr>\n      <th>...</th>\n      <td>...</td>\n      <td>...</td>\n      <td>...</td>\n      <td>...</td>\n      <td>...</td>\n      <td>...</td>\n      <td>...</td>\n      <td>...</td>\n      <td>...</td>\n      <td>...</td>\n      <td>...</td>\n      <td>...</td>\n      <td>...</td>\n      <td>...</td>\n      <td>...</td>\n      <td>...</td>\n      <td>...</td>\n      <td>...</td>\n      <td>...</td>\n      <td>...</td>\n      <td>...</td>\n    </tr>\n    <tr>\n      <th>8602</th>\n      <td>13963</td>\n      <td>133663</td>\n      <td>General</td>\n      <td>1</td>\n      <td>0</td>\n      <td>0</td>\n      <td>0</td>\n      <td>0</td>\n      <td>0</td>\n      <td>0</td>\n      <td>...</td>\n      <td>0</td>\n      <td>0</td>\n      <td>0</td>\n      <td>0</td>\n      <td>0</td>\n      <td>0</td>\n      <td>0</td>\n      <td>0</td>\n      <td>0</td>\n      <td>0</td>\n    </tr>\n    <tr>\n      <th>8603</th>\n      <td>13963</td>\n      <td>136711</td>\n      <td>10 de July - 16 de July</td>\n      <td>0</td>\n      <td>1</td>\n      <td>0</td>\n      <td>0</td>\n      <td>0</td>\n      <td>0</td>\n      <td>0</td>\n      <td>...</td>\n      <td>0</td>\n      <td>0</td>\n      <td>0</td>\n      <td>0</td>\n      <td>0</td>\n      <td>0</td>\n      <td>0</td>\n      <td>0</td>\n      <td>0</td>\n      <td>0</td>\n    </tr>\n    <tr>\n      <th>8604</th>\n      <td>13963</td>\n      <td>138716</td>\n      <td>17 de July - 23 de July</td>\n      <td>0</td>\n      <td>2</td>\n      <td>0</td>\n      <td>0</td>\n      <td>0</td>\n      <td>0</td>\n      <td>0</td>\n      <td>...</td>\n      <td>0</td>\n      <td>0</td>\n      <td>0</td>\n      <td>0</td>\n      <td>0</td>\n      <td>0</td>\n      <td>0</td>\n      <td>0</td>\n      <td>0</td>\n      <td>0</td>\n    </tr>\n    <tr>\n      <th>8605</th>\n      <td>13963</td>\n      <td>141117</td>\n      <td>24 de July - 30 de July</td>\n      <td>0</td>\n      <td>2</td>\n      <td>0</td>\n      <td>0</td>\n      <td>0</td>\n      <td>0</td>\n      <td>0</td>\n      <td>...</td>\n      <td>0</td>\n      <td>0</td>\n      <td>0</td>\n      <td>0</td>\n      <td>0</td>\n      <td>0</td>\n      <td>0</td>\n      <td>0</td>\n      <td>0</td>\n      <td>0</td>\n    </tr>\n    <tr>\n      <th>8606</th>\n      <td>13963</td>\n      <td>143275</td>\n      <td>31 de July - 6 de August</td>\n      <td>0</td>\n      <td>3</td>\n      <td>0</td>\n      <td>0</td>\n      <td>0</td>\n      <td>0</td>\n      <td>0</td>\n      <td>...</td>\n      <td>0</td>\n      <td>0</td>\n      <td>0</td>\n      <td>0</td>\n      <td>0</td>\n      <td>0</td>\n      <td>0</td>\n      <td>0</td>\n      <td>0</td>\n      <td>0</td>\n    </tr>\n  </tbody>\n</table>\n<p>8607 rows × 22 columns</p>\n</div>"
     },
     "execution_count": 4,
     "metadata": {},
     "output_type": "execute_result"
    }
   ],
   "source": [
    "columnas = ['forum', 'resource', 'assign', 'label', 'url', 'quiz', 'chat', 'folder',\n",
    "            'workshop', 'page', 'lesson', 'choice', 'scorm', 'h5pactivity', 'data',\n",
    "            'book', 'wiki', 'glossary', 'feedback']\n",
    "for columna in columnas:\n",
    "    df[columna] = df[columna].astype(int)\n",
    "\n",
    "df"
   ],
   "metadata": {
    "collapsed": false,
    "ExecuteTime": {
     "end_time": "2023-09-06T16:15:36.959171200Z",
     "start_time": "2023-09-06T16:15:36.905072900Z"
    }
   },
   "id": "d88af48af1e3f0a7"
  },
  {
   "cell_type": "markdown",
   "source": [
    "# Agregar el dato de los cursos (nombres)"
   ],
   "metadata": {
    "collapsed": false
   },
   "id": "6f088bc51e2abfa2"
  },
  {
   "cell_type": "code",
   "execution_count": 5,
   "outputs": [
    {
     "data": {
      "text/plain": "      id_curso                                       nombre_curso  \\\n0        13552  2023-1, FUNDAMENTOS DE DISEÑO, 03, ARQUI. Y UR...   \n1         9627         2023-1, TEORÍA DEL TURISMO, 08, TURISMO, 1   \n2        12725  2023-1, ORGANIZACIÓN DE CONGRESOS Y EVENTOS, 0...   \n3        11194  2023-1, TALLER DE INVESTIGACIÓN EDUCATIVA I, 0...   \n4        11009  2023-1, PSICOLOGÍA EDUCATIVA, 07, ED. PRIM. E ...   \n...        ...                                                ...   \n1497      9390  2023-1, ENFERMERÍA EN SALUD DEL ADULTO II, 07,...   \n1498     10789  2023-1, SEMINARIO DE TESIS, 07, ADMINISTRACIÓN, 2   \n1499     11204             2023-1, INGLÉS BÁSICO I, 07, INGLES, 1   \n1500     12914           2023-1, INGLÉS BÁSICO III, 05, INGLES, 1   \n1501     12921     2023-1, COMPOSICIÓN EN INGLÉS I, 05, INGLES, 1   \n\n                      nombre_docente  id_escuela  \\\n0            MORA GODINEZ LUIS RAMON          36   \n1                   BLACIDO ALVA LUZ          15   \n2                   BLACIDO ALVA LUZ          15   \n3            NIVIN VARGAS LAURA ROSA          28   \n4                  LOPEZ CRUZ BERTHA          19   \n...                              ...         ...   \n1497  ZAMBRANO GUIMARAY JULIA ISABEL          11   \n1498     ZARZOSA MARQUEZ EVA DELFINA          13   \n1499   ZANABRIA PEREZ WALTER ALFREDO          29   \n1500   ZANABRIA PEREZ WALTER ALFREDO          29   \n1501   ZANABRIA PEREZ WALTER ALFREDO          29   \n\n                                         nombre_escuela departamento_docente  \\\n0                              ARQUITECTURA Y URBANISMO     INGENIERIA CIVIL   \n1                                               TURISMO              TURISMO   \n2                                               TURISMO              TURISMO   \n3     EDUCACIÓN: COMUNICACIÓN, LINGÜÍSTICA Y LITERAT...            EDUCACION   \n4     EDUCACIÓN: PRIMARIA Y EDUCACIÓN BILINGÜE INTER...            EDUCACION   \n...                                                 ...                  ...   \n1497                                         ENFERMERÍA           ENFERMERÍA   \n1498                                     ADMINISTRACIÓN       ADMINISTRACIÓN   \n1499               EDUCACIÓN: LENGUA EXTRANJERA: INGLÉS            EDUCACION   \n1500               EDUCACIÓN: LENGUA EXTRANJERA: INGLÉS            EDUCACION   \n1501               EDUCACIÓN: LENGUA EXTRANJERA: INGLÉS            EDUCACION   \n\n     tipo_curso  \n0        Teoria  \n1        Teoria  \n2        Teoria  \n3        Teoria  \n4        Teoria  \n...         ...  \n1497     Teoria  \n1498     Teoria  \n1499     Teoria  \n1500     Teoria  \n1501     Teoria  \n\n[1502 rows x 7 columns]",
      "text/html": "<div>\n<style scoped>\n    .dataframe tbody tr th:only-of-type {\n        vertical-align: middle;\n    }\n\n    .dataframe tbody tr th {\n        vertical-align: top;\n    }\n\n    .dataframe thead th {\n        text-align: right;\n    }\n</style>\n<table border=\"1\" class=\"dataframe\">\n  <thead>\n    <tr style=\"text-align: right;\">\n      <th></th>\n      <th>id_curso</th>\n      <th>nombre_curso</th>\n      <th>nombre_docente</th>\n      <th>id_escuela</th>\n      <th>nombre_escuela</th>\n      <th>departamento_docente</th>\n      <th>tipo_curso</th>\n    </tr>\n  </thead>\n  <tbody>\n    <tr>\n      <th>0</th>\n      <td>13552</td>\n      <td>2023-1, FUNDAMENTOS DE DISEÑO, 03, ARQUI. Y UR...</td>\n      <td>MORA GODINEZ LUIS RAMON</td>\n      <td>36</td>\n      <td>ARQUITECTURA Y URBANISMO</td>\n      <td>INGENIERIA CIVIL</td>\n      <td>Teoria</td>\n    </tr>\n    <tr>\n      <th>1</th>\n      <td>9627</td>\n      <td>2023-1, TEORÍA DEL TURISMO, 08, TURISMO, 1</td>\n      <td>BLACIDO ALVA LUZ</td>\n      <td>15</td>\n      <td>TURISMO</td>\n      <td>TURISMO</td>\n      <td>Teoria</td>\n    </tr>\n    <tr>\n      <th>2</th>\n      <td>12725</td>\n      <td>2023-1, ORGANIZACIÓN DE CONGRESOS Y EVENTOS, 0...</td>\n      <td>BLACIDO ALVA LUZ</td>\n      <td>15</td>\n      <td>TURISMO</td>\n      <td>TURISMO</td>\n      <td>Teoria</td>\n    </tr>\n    <tr>\n      <th>3</th>\n      <td>11194</td>\n      <td>2023-1, TALLER DE INVESTIGACIÓN EDUCATIVA I, 0...</td>\n      <td>NIVIN VARGAS LAURA ROSA</td>\n      <td>28</td>\n      <td>EDUCACIÓN: COMUNICACIÓN, LINGÜÍSTICA Y LITERAT...</td>\n      <td>EDUCACION</td>\n      <td>Teoria</td>\n    </tr>\n    <tr>\n      <th>4</th>\n      <td>11009</td>\n      <td>2023-1, PSICOLOGÍA EDUCATIVA, 07, ED. PRIM. E ...</td>\n      <td>LOPEZ CRUZ BERTHA</td>\n      <td>19</td>\n      <td>EDUCACIÓN: PRIMARIA Y EDUCACIÓN BILINGÜE INTER...</td>\n      <td>EDUCACION</td>\n      <td>Teoria</td>\n    </tr>\n    <tr>\n      <th>...</th>\n      <td>...</td>\n      <td>...</td>\n      <td>...</td>\n      <td>...</td>\n      <td>...</td>\n      <td>...</td>\n      <td>...</td>\n    </tr>\n    <tr>\n      <th>1497</th>\n      <td>9390</td>\n      <td>2023-1, ENFERMERÍA EN SALUD DEL ADULTO II, 07,...</td>\n      <td>ZAMBRANO GUIMARAY JULIA ISABEL</td>\n      <td>11</td>\n      <td>ENFERMERÍA</td>\n      <td>ENFERMERÍA</td>\n      <td>Teoria</td>\n    </tr>\n    <tr>\n      <th>1498</th>\n      <td>10789</td>\n      <td>2023-1, SEMINARIO DE TESIS, 07, ADMINISTRACIÓN, 2</td>\n      <td>ZARZOSA MARQUEZ EVA DELFINA</td>\n      <td>13</td>\n      <td>ADMINISTRACIÓN</td>\n      <td>ADMINISTRACIÓN</td>\n      <td>Teoria</td>\n    </tr>\n    <tr>\n      <th>1499</th>\n      <td>11204</td>\n      <td>2023-1, INGLÉS BÁSICO I, 07, INGLES, 1</td>\n      <td>ZANABRIA PEREZ WALTER ALFREDO</td>\n      <td>29</td>\n      <td>EDUCACIÓN: LENGUA EXTRANJERA: INGLÉS</td>\n      <td>EDUCACION</td>\n      <td>Teoria</td>\n    </tr>\n    <tr>\n      <th>1500</th>\n      <td>12914</td>\n      <td>2023-1, INGLÉS BÁSICO III, 05, INGLES, 1</td>\n      <td>ZANABRIA PEREZ WALTER ALFREDO</td>\n      <td>29</td>\n      <td>EDUCACIÓN: LENGUA EXTRANJERA: INGLÉS</td>\n      <td>EDUCACION</td>\n      <td>Teoria</td>\n    </tr>\n    <tr>\n      <th>1501</th>\n      <td>12921</td>\n      <td>2023-1, COMPOSICIÓN EN INGLÉS I, 05, INGLES, 1</td>\n      <td>ZANABRIA PEREZ WALTER ALFREDO</td>\n      <td>29</td>\n      <td>EDUCACIÓN: LENGUA EXTRANJERA: INGLÉS</td>\n      <td>EDUCACION</td>\n      <td>Teoria</td>\n    </tr>\n  </tbody>\n</table>\n<p>1502 rows × 7 columns</p>\n</div>"
     },
     "execution_count": 5,
     "metadata": {},
     "output_type": "execute_result"
    }
   ],
   "source": [
    "df_datos = pd.read_csv('./data/datos_cursos.csv')\n",
    "df_datos"
   ],
   "metadata": {
    "collapsed": false,
    "ExecuteTime": {
     "end_time": "2023-09-06T16:15:41.091539100Z",
     "start_time": "2023-09-06T16:15:41.040301400Z"
    }
   },
   "id": "728580191c7fe744"
  },
  {
   "cell_type": "code",
   "execution_count": 6,
   "outputs": [
    {
     "data": {
      "text/plain": "Empty DataFrame\nColumns: [id_curso, nombre_curso, nombre_docente, id_escuela, nombre_escuela, departamento_docente, tipo_curso]\nIndex: []",
      "text/html": "<div>\n<style scoped>\n    .dataframe tbody tr th:only-of-type {\n        vertical-align: middle;\n    }\n\n    .dataframe tbody tr th {\n        vertical-align: top;\n    }\n\n    .dataframe thead th {\n        text-align: right;\n    }\n</style>\n<table border=\"1\" class=\"dataframe\">\n  <thead>\n    <tr style=\"text-align: right;\">\n      <th></th>\n      <th>id_curso</th>\n      <th>nombre_curso</th>\n      <th>nombre_docente</th>\n      <th>id_escuela</th>\n      <th>nombre_escuela</th>\n      <th>departamento_docente</th>\n      <th>tipo_curso</th>\n    </tr>\n  </thead>\n  <tbody>\n  </tbody>\n</table>\n</div>"
     },
     "execution_count": 6,
     "metadata": {},
     "output_type": "execute_result"
    }
   ],
   "source": [
    "df_datos[df_datos['departamento_docente'] == '-']"
   ],
   "metadata": {
    "collapsed": false,
    "ExecuteTime": {
     "end_time": "2023-09-06T16:15:43.763673100Z",
     "start_time": "2023-09-06T16:15:43.742010400Z"
    }
   },
   "id": "7c46e9a3d8ab18a3"
  },
  {
   "cell_type": "code",
   "execution_count": 7,
   "outputs": [],
   "source": [
    "def extraer_cadenas(texto):\n",
    "    partes = texto.split(',')\n",
    "    if len(partes) == 5:\n",
    "        return partes[1] +','+ partes[4]\n",
    "    return partes[1] +','+ partes[4] +' -'+ partes[5]"
   ],
   "metadata": {
    "collapsed": false,
    "ExecuteTime": {
     "end_time": "2023-09-06T16:15:44.649410900Z",
     "start_time": "2023-09-06T16:15:44.645072Z"
    }
   },
   "id": "80e60e65ffee0219"
  },
  {
   "cell_type": "code",
   "execution_count": 8,
   "outputs": [],
   "source": [
    "df_datos['nombre_curso'] = df_datos['nombre_curso'].apply(extraer_cadenas)"
   ],
   "metadata": {
    "collapsed": false,
    "ExecuteTime": {
     "end_time": "2023-09-06T16:15:45.744361900Z",
     "start_time": "2023-09-06T16:15:45.710914100Z"
    }
   },
   "id": "9c55b1ebb98c227d"
  },
  {
   "cell_type": "code",
   "execution_count": 9,
   "outputs": [
    {
     "data": {
      "text/plain": "      id_curso                             nombre_curso  \\\n0        13552                 FUNDAMENTOS DE DISEÑO, 1   \n1         9627                    TEORÍA DEL TURISMO, 1   \n2        12725   ORGANIZACIÓN DE CONGRESOS Y EVENTOS, 1   \n3        11194   TALLER DE INVESTIGACIÓN EDUCATIVA I, 1   \n4        11009                  PSICOLOGÍA EDUCATIVA, 1   \n...        ...                                      ...   \n1497      9390     ENFERMERÍA EN SALUD DEL ADULTO II, 1   \n1498     10789                    SEMINARIO DE TESIS, 2   \n1499     11204                       INGLÉS BÁSICO I, 1   \n1500     12914                     INGLÉS BÁSICO III, 1   \n1501     12921               COMPOSICIÓN EN INGLÉS I, 1   \n\n                      nombre_docente  id_escuela  \\\n0            MORA GODINEZ LUIS RAMON          36   \n1                   BLACIDO ALVA LUZ          15   \n2                   BLACIDO ALVA LUZ          15   \n3            NIVIN VARGAS LAURA ROSA          28   \n4                  LOPEZ CRUZ BERTHA          19   \n...                              ...         ...   \n1497  ZAMBRANO GUIMARAY JULIA ISABEL          11   \n1498     ZARZOSA MARQUEZ EVA DELFINA          13   \n1499   ZANABRIA PEREZ WALTER ALFREDO          29   \n1500   ZANABRIA PEREZ WALTER ALFREDO          29   \n1501   ZANABRIA PEREZ WALTER ALFREDO          29   \n\n                                         nombre_escuela departamento_docente  \\\n0                              ARQUITECTURA Y URBANISMO     INGENIERIA CIVIL   \n1                                               TURISMO              TURISMO   \n2                                               TURISMO              TURISMO   \n3     EDUCACIÓN: COMUNICACIÓN, LINGÜÍSTICA Y LITERAT...            EDUCACION   \n4     EDUCACIÓN: PRIMARIA Y EDUCACIÓN BILINGÜE INTER...            EDUCACION   \n...                                                 ...                  ...   \n1497                                         ENFERMERÍA           ENFERMERÍA   \n1498                                     ADMINISTRACIÓN       ADMINISTRACIÓN   \n1499               EDUCACIÓN: LENGUA EXTRANJERA: INGLÉS            EDUCACION   \n1500               EDUCACIÓN: LENGUA EXTRANJERA: INGLÉS            EDUCACION   \n1501               EDUCACIÓN: LENGUA EXTRANJERA: INGLÉS            EDUCACION   \n\n     tipo_curso  \n0        Teoria  \n1        Teoria  \n2        Teoria  \n3        Teoria  \n4        Teoria  \n...         ...  \n1497     Teoria  \n1498     Teoria  \n1499     Teoria  \n1500     Teoria  \n1501     Teoria  \n\n[1502 rows x 7 columns]",
      "text/html": "<div>\n<style scoped>\n    .dataframe tbody tr th:only-of-type {\n        vertical-align: middle;\n    }\n\n    .dataframe tbody tr th {\n        vertical-align: top;\n    }\n\n    .dataframe thead th {\n        text-align: right;\n    }\n</style>\n<table border=\"1\" class=\"dataframe\">\n  <thead>\n    <tr style=\"text-align: right;\">\n      <th></th>\n      <th>id_curso</th>\n      <th>nombre_curso</th>\n      <th>nombre_docente</th>\n      <th>id_escuela</th>\n      <th>nombre_escuela</th>\n      <th>departamento_docente</th>\n      <th>tipo_curso</th>\n    </tr>\n  </thead>\n  <tbody>\n    <tr>\n      <th>0</th>\n      <td>13552</td>\n      <td>FUNDAMENTOS DE DISEÑO, 1</td>\n      <td>MORA GODINEZ LUIS RAMON</td>\n      <td>36</td>\n      <td>ARQUITECTURA Y URBANISMO</td>\n      <td>INGENIERIA CIVIL</td>\n      <td>Teoria</td>\n    </tr>\n    <tr>\n      <th>1</th>\n      <td>9627</td>\n      <td>TEORÍA DEL TURISMO, 1</td>\n      <td>BLACIDO ALVA LUZ</td>\n      <td>15</td>\n      <td>TURISMO</td>\n      <td>TURISMO</td>\n      <td>Teoria</td>\n    </tr>\n    <tr>\n      <th>2</th>\n      <td>12725</td>\n      <td>ORGANIZACIÓN DE CONGRESOS Y EVENTOS, 1</td>\n      <td>BLACIDO ALVA LUZ</td>\n      <td>15</td>\n      <td>TURISMO</td>\n      <td>TURISMO</td>\n      <td>Teoria</td>\n    </tr>\n    <tr>\n      <th>3</th>\n      <td>11194</td>\n      <td>TALLER DE INVESTIGACIÓN EDUCATIVA I, 1</td>\n      <td>NIVIN VARGAS LAURA ROSA</td>\n      <td>28</td>\n      <td>EDUCACIÓN: COMUNICACIÓN, LINGÜÍSTICA Y LITERAT...</td>\n      <td>EDUCACION</td>\n      <td>Teoria</td>\n    </tr>\n    <tr>\n      <th>4</th>\n      <td>11009</td>\n      <td>PSICOLOGÍA EDUCATIVA, 1</td>\n      <td>LOPEZ CRUZ BERTHA</td>\n      <td>19</td>\n      <td>EDUCACIÓN: PRIMARIA Y EDUCACIÓN BILINGÜE INTER...</td>\n      <td>EDUCACION</td>\n      <td>Teoria</td>\n    </tr>\n    <tr>\n      <th>...</th>\n      <td>...</td>\n      <td>...</td>\n      <td>...</td>\n      <td>...</td>\n      <td>...</td>\n      <td>...</td>\n      <td>...</td>\n    </tr>\n    <tr>\n      <th>1497</th>\n      <td>9390</td>\n      <td>ENFERMERÍA EN SALUD DEL ADULTO II, 1</td>\n      <td>ZAMBRANO GUIMARAY JULIA ISABEL</td>\n      <td>11</td>\n      <td>ENFERMERÍA</td>\n      <td>ENFERMERÍA</td>\n      <td>Teoria</td>\n    </tr>\n    <tr>\n      <th>1498</th>\n      <td>10789</td>\n      <td>SEMINARIO DE TESIS, 2</td>\n      <td>ZARZOSA MARQUEZ EVA DELFINA</td>\n      <td>13</td>\n      <td>ADMINISTRACIÓN</td>\n      <td>ADMINISTRACIÓN</td>\n      <td>Teoria</td>\n    </tr>\n    <tr>\n      <th>1499</th>\n      <td>11204</td>\n      <td>INGLÉS BÁSICO I, 1</td>\n      <td>ZANABRIA PEREZ WALTER ALFREDO</td>\n      <td>29</td>\n      <td>EDUCACIÓN: LENGUA EXTRANJERA: INGLÉS</td>\n      <td>EDUCACION</td>\n      <td>Teoria</td>\n    </tr>\n    <tr>\n      <th>1500</th>\n      <td>12914</td>\n      <td>INGLÉS BÁSICO III, 1</td>\n      <td>ZANABRIA PEREZ WALTER ALFREDO</td>\n      <td>29</td>\n      <td>EDUCACIÓN: LENGUA EXTRANJERA: INGLÉS</td>\n      <td>EDUCACION</td>\n      <td>Teoria</td>\n    </tr>\n    <tr>\n      <th>1501</th>\n      <td>12921</td>\n      <td>COMPOSICIÓN EN INGLÉS I, 1</td>\n      <td>ZANABRIA PEREZ WALTER ALFREDO</td>\n      <td>29</td>\n      <td>EDUCACIÓN: LENGUA EXTRANJERA: INGLÉS</td>\n      <td>EDUCACION</td>\n      <td>Teoria</td>\n    </tr>\n  </tbody>\n</table>\n<p>1502 rows × 7 columns</p>\n</div>"
     },
     "execution_count": 9,
     "metadata": {},
     "output_type": "execute_result"
    }
   ],
   "source": [
    "df_datos"
   ],
   "metadata": {
    "collapsed": false,
    "ExecuteTime": {
     "end_time": "2023-09-06T16:15:47.507695Z",
     "start_time": "2023-09-06T16:15:47.477714400Z"
    }
   },
   "id": "32d1337a067bc5d4"
  },
  {
   "cell_type": "code",
   "execution_count": 10,
   "outputs": [
    {
     "data": {
      "text/plain": "      id_curso                             nombre_curso  \\\n0        13552                 FUNDAMENTOS DE DISEÑO, 1   \n1         9627                    TEORÍA DEL TURISMO, 1   \n2        12725   ORGANIZACIÓN DE CONGRESOS Y EVENTOS, 1   \n3        11194   TALLER DE INVESTIGACIÓN EDUCATIVA I, 1   \n4        11009                  PSICOLOGÍA EDUCATIVA, 1   \n...        ...                                      ...   \n8602      9390     ENFERMERÍA EN SALUD DEL ADULTO II, 1   \n8603     10789                    SEMINARIO DE TESIS, 2   \n8604     11204                       INGLÉS BÁSICO I, 1   \n8605     12914                     INGLÉS BÁSICO III, 1   \n8606     12921               COMPOSICIÓN EN INGLÉS I, 1   \n\n                      nombre_docente  id_escuela  \\\n0            MORA GODINEZ LUIS RAMON          36   \n1                   BLACIDO ALVA LUZ          15   \n2                   BLACIDO ALVA LUZ          15   \n3            NIVIN VARGAS LAURA ROSA          28   \n4                  LOPEZ CRUZ BERTHA          19   \n...                              ...         ...   \n8602  ZAMBRANO GUIMARAY JULIA ISABEL          11   \n8603     ZARZOSA MARQUEZ EVA DELFINA          13   \n8604   ZANABRIA PEREZ WALTER ALFREDO          29   \n8605   ZANABRIA PEREZ WALTER ALFREDO          29   \n8606   ZANABRIA PEREZ WALTER ALFREDO          29   \n\n                                         nombre_escuela departamento_docente  \\\n0                              ARQUITECTURA Y URBANISMO     INGENIERIA CIVIL   \n1                                               TURISMO              TURISMO   \n2                                               TURISMO              TURISMO   \n3     EDUCACIÓN: COMUNICACIÓN, LINGÜÍSTICA Y LITERAT...            EDUCACION   \n4     EDUCACIÓN: PRIMARIA Y EDUCACIÓN BILINGÜE INTER...            EDUCACION   \n...                                                 ...                  ...   \n8602                                         ENFERMERÍA           ENFERMERÍA   \n8603                                     ADMINISTRACIÓN       ADMINISTRACIÓN   \n8604               EDUCACIÓN: LENGUA EXTRANJERA: INGLÉS            EDUCACION   \n8605               EDUCACIÓN: LENGUA EXTRANJERA: INGLÉS            EDUCACION   \n8606               EDUCACIÓN: LENGUA EXTRANJERA: INGLÉS            EDUCACION   \n\n     tipo_curso  curso  id_recurso                nombre  ...  page  lesson  \\\n0        Teoria  13552      133541               General  ...     0       0   \n1        Teoria   9627      132692               General  ...     0       0   \n2        Teoria  12725      133320               General  ...     0       0   \n3        Teoria  11194      132991               General  ...     0       0   \n4        Teoria  11009      132953  PSICOLOGÍA EDUCATIVA  ...     0       0   \n...         ...    ...         ...                   ...  ...   ...     ...   \n8602     Teoria   9390      132655               General  ...     0       0   \n8603     Teoria  10789      132914               General  ...     0       0   \n8604     Teoria  11204      132994               General  ...     0       0   \n8605     Teoria  12914      133362               General  ...     0       0   \n8606     Teoria  12921      133364               General  ...     0       0   \n\n      choice  scorm  h5pactivity  data  book  wiki  glossary  feedback  \n0          0      0            0     0     0     0         0         0  \n1          0      0            0     0     0     0         0         0  \n2          0      0            0     0     0     0         0         0  \n3          0      0            0     0     0     0         0         0  \n4          0      0            0     0     0     0         0         0  \n...      ...    ...          ...   ...   ...   ...       ...       ...  \n8602       0      0            0     0     0     0         0         0  \n8603       0      0            0     0     0     0         0         0  \n8604       0      0            0     0     0     0         0         0  \n8605       0      0            0     0     0     0         0         0  \n8606       0      0            0     0     0     0         0         0  \n\n[8607 rows x 29 columns]",
      "text/html": "<div>\n<style scoped>\n    .dataframe tbody tr th:only-of-type {\n        vertical-align: middle;\n    }\n\n    .dataframe tbody tr th {\n        vertical-align: top;\n    }\n\n    .dataframe thead th {\n        text-align: right;\n    }\n</style>\n<table border=\"1\" class=\"dataframe\">\n  <thead>\n    <tr style=\"text-align: right;\">\n      <th></th>\n      <th>id_curso</th>\n      <th>nombre_curso</th>\n      <th>nombre_docente</th>\n      <th>id_escuela</th>\n      <th>nombre_escuela</th>\n      <th>departamento_docente</th>\n      <th>tipo_curso</th>\n      <th>curso</th>\n      <th>id_recurso</th>\n      <th>nombre</th>\n      <th>...</th>\n      <th>page</th>\n      <th>lesson</th>\n      <th>choice</th>\n      <th>scorm</th>\n      <th>h5pactivity</th>\n      <th>data</th>\n      <th>book</th>\n      <th>wiki</th>\n      <th>glossary</th>\n      <th>feedback</th>\n    </tr>\n  </thead>\n  <tbody>\n    <tr>\n      <th>0</th>\n      <td>13552</td>\n      <td>FUNDAMENTOS DE DISEÑO, 1</td>\n      <td>MORA GODINEZ LUIS RAMON</td>\n      <td>36</td>\n      <td>ARQUITECTURA Y URBANISMO</td>\n      <td>INGENIERIA CIVIL</td>\n      <td>Teoria</td>\n      <td>13552</td>\n      <td>133541</td>\n      <td>General</td>\n      <td>...</td>\n      <td>0</td>\n      <td>0</td>\n      <td>0</td>\n      <td>0</td>\n      <td>0</td>\n      <td>0</td>\n      <td>0</td>\n      <td>0</td>\n      <td>0</td>\n      <td>0</td>\n    </tr>\n    <tr>\n      <th>1</th>\n      <td>9627</td>\n      <td>TEORÍA DEL TURISMO, 1</td>\n      <td>BLACIDO ALVA LUZ</td>\n      <td>15</td>\n      <td>TURISMO</td>\n      <td>TURISMO</td>\n      <td>Teoria</td>\n      <td>9627</td>\n      <td>132692</td>\n      <td>General</td>\n      <td>...</td>\n      <td>0</td>\n      <td>0</td>\n      <td>0</td>\n      <td>0</td>\n      <td>0</td>\n      <td>0</td>\n      <td>0</td>\n      <td>0</td>\n      <td>0</td>\n      <td>0</td>\n    </tr>\n    <tr>\n      <th>2</th>\n      <td>12725</td>\n      <td>ORGANIZACIÓN DE CONGRESOS Y EVENTOS, 1</td>\n      <td>BLACIDO ALVA LUZ</td>\n      <td>15</td>\n      <td>TURISMO</td>\n      <td>TURISMO</td>\n      <td>Teoria</td>\n      <td>12725</td>\n      <td>133320</td>\n      <td>General</td>\n      <td>...</td>\n      <td>0</td>\n      <td>0</td>\n      <td>0</td>\n      <td>0</td>\n      <td>0</td>\n      <td>0</td>\n      <td>0</td>\n      <td>0</td>\n      <td>0</td>\n      <td>0</td>\n    </tr>\n    <tr>\n      <th>3</th>\n      <td>11194</td>\n      <td>TALLER DE INVESTIGACIÓN EDUCATIVA I, 1</td>\n      <td>NIVIN VARGAS LAURA ROSA</td>\n      <td>28</td>\n      <td>EDUCACIÓN: COMUNICACIÓN, LINGÜÍSTICA Y LITERAT...</td>\n      <td>EDUCACION</td>\n      <td>Teoria</td>\n      <td>11194</td>\n      <td>132991</td>\n      <td>General</td>\n      <td>...</td>\n      <td>0</td>\n      <td>0</td>\n      <td>0</td>\n      <td>0</td>\n      <td>0</td>\n      <td>0</td>\n      <td>0</td>\n      <td>0</td>\n      <td>0</td>\n      <td>0</td>\n    </tr>\n    <tr>\n      <th>4</th>\n      <td>11009</td>\n      <td>PSICOLOGÍA EDUCATIVA, 1</td>\n      <td>LOPEZ CRUZ BERTHA</td>\n      <td>19</td>\n      <td>EDUCACIÓN: PRIMARIA Y EDUCACIÓN BILINGÜE INTER...</td>\n      <td>EDUCACION</td>\n      <td>Teoria</td>\n      <td>11009</td>\n      <td>132953</td>\n      <td>PSICOLOGÍA EDUCATIVA</td>\n      <td>...</td>\n      <td>0</td>\n      <td>0</td>\n      <td>0</td>\n      <td>0</td>\n      <td>0</td>\n      <td>0</td>\n      <td>0</td>\n      <td>0</td>\n      <td>0</td>\n      <td>0</td>\n    </tr>\n    <tr>\n      <th>...</th>\n      <td>...</td>\n      <td>...</td>\n      <td>...</td>\n      <td>...</td>\n      <td>...</td>\n      <td>...</td>\n      <td>...</td>\n      <td>...</td>\n      <td>...</td>\n      <td>...</td>\n      <td>...</td>\n      <td>...</td>\n      <td>...</td>\n      <td>...</td>\n      <td>...</td>\n      <td>...</td>\n      <td>...</td>\n      <td>...</td>\n      <td>...</td>\n      <td>...</td>\n      <td>...</td>\n    </tr>\n    <tr>\n      <th>8602</th>\n      <td>9390</td>\n      <td>ENFERMERÍA EN SALUD DEL ADULTO II, 1</td>\n      <td>ZAMBRANO GUIMARAY JULIA ISABEL</td>\n      <td>11</td>\n      <td>ENFERMERÍA</td>\n      <td>ENFERMERÍA</td>\n      <td>Teoria</td>\n      <td>9390</td>\n      <td>132655</td>\n      <td>General</td>\n      <td>...</td>\n      <td>0</td>\n      <td>0</td>\n      <td>0</td>\n      <td>0</td>\n      <td>0</td>\n      <td>0</td>\n      <td>0</td>\n      <td>0</td>\n      <td>0</td>\n      <td>0</td>\n    </tr>\n    <tr>\n      <th>8603</th>\n      <td>10789</td>\n      <td>SEMINARIO DE TESIS, 2</td>\n      <td>ZARZOSA MARQUEZ EVA DELFINA</td>\n      <td>13</td>\n      <td>ADMINISTRACIÓN</td>\n      <td>ADMINISTRACIÓN</td>\n      <td>Teoria</td>\n      <td>10789</td>\n      <td>132914</td>\n      <td>General</td>\n      <td>...</td>\n      <td>0</td>\n      <td>0</td>\n      <td>0</td>\n      <td>0</td>\n      <td>0</td>\n      <td>0</td>\n      <td>0</td>\n      <td>0</td>\n      <td>0</td>\n      <td>0</td>\n    </tr>\n    <tr>\n      <th>8604</th>\n      <td>11204</td>\n      <td>INGLÉS BÁSICO I, 1</td>\n      <td>ZANABRIA PEREZ WALTER ALFREDO</td>\n      <td>29</td>\n      <td>EDUCACIÓN: LENGUA EXTRANJERA: INGLÉS</td>\n      <td>EDUCACION</td>\n      <td>Teoria</td>\n      <td>11204</td>\n      <td>132994</td>\n      <td>General</td>\n      <td>...</td>\n      <td>0</td>\n      <td>0</td>\n      <td>0</td>\n      <td>0</td>\n      <td>0</td>\n      <td>0</td>\n      <td>0</td>\n      <td>0</td>\n      <td>0</td>\n      <td>0</td>\n    </tr>\n    <tr>\n      <th>8605</th>\n      <td>12914</td>\n      <td>INGLÉS BÁSICO III, 1</td>\n      <td>ZANABRIA PEREZ WALTER ALFREDO</td>\n      <td>29</td>\n      <td>EDUCACIÓN: LENGUA EXTRANJERA: INGLÉS</td>\n      <td>EDUCACION</td>\n      <td>Teoria</td>\n      <td>12914</td>\n      <td>133362</td>\n      <td>General</td>\n      <td>...</td>\n      <td>0</td>\n      <td>0</td>\n      <td>0</td>\n      <td>0</td>\n      <td>0</td>\n      <td>0</td>\n      <td>0</td>\n      <td>0</td>\n      <td>0</td>\n      <td>0</td>\n    </tr>\n    <tr>\n      <th>8606</th>\n      <td>12921</td>\n      <td>COMPOSICIÓN EN INGLÉS I, 1</td>\n      <td>ZANABRIA PEREZ WALTER ALFREDO</td>\n      <td>29</td>\n      <td>EDUCACIÓN: LENGUA EXTRANJERA: INGLÉS</td>\n      <td>EDUCACION</td>\n      <td>Teoria</td>\n      <td>12921</td>\n      <td>133364</td>\n      <td>General</td>\n      <td>...</td>\n      <td>0</td>\n      <td>0</td>\n      <td>0</td>\n      <td>0</td>\n      <td>0</td>\n      <td>0</td>\n      <td>0</td>\n      <td>0</td>\n      <td>0</td>\n      <td>0</td>\n    </tr>\n  </tbody>\n</table>\n<p>8607 rows × 29 columns</p>\n</div>"
     },
     "execution_count": 10,
     "metadata": {},
     "output_type": "execute_result"
    }
   ],
   "source": [
    "df_all = pd.merge(df_datos, df, left_on='id_curso', right_on='curso')\n",
    "df_all"
   ],
   "metadata": {
    "collapsed": false,
    "ExecuteTime": {
     "end_time": "2023-09-06T16:15:54.887533800Z",
     "start_time": "2023-09-06T16:15:54.791255500Z"
    }
   },
   "id": "5b181744331ad422"
  },
  {
   "cell_type": "code",
   "execution_count": 11,
   "outputs": [
    {
     "data": {
      "text/plain": "                                 nombre_curso                  nombre_docente  \\\n0                    FUNDAMENTOS DE DISEÑO, 1         MORA GODINEZ LUIS RAMON   \n1                       TEORÍA DEL TURISMO, 1                BLACIDO ALVA LUZ   \n2      ORGANIZACIÓN DE CONGRESOS Y EVENTOS, 1                BLACIDO ALVA LUZ   \n3      TALLER DE INVESTIGACIÓN EDUCATIVA I, 1         NIVIN VARGAS LAURA ROSA   \n4                     PSICOLOGÍA EDUCATIVA, 1               LOPEZ CRUZ BERTHA   \n...                                       ...                             ...   \n8602     ENFERMERÍA EN SALUD DEL ADULTO II, 1  ZAMBRANO GUIMARAY JULIA ISABEL   \n8603                    SEMINARIO DE TESIS, 2     ZARZOSA MARQUEZ EVA DELFINA   \n8604                       INGLÉS BÁSICO I, 1   ZANABRIA PEREZ WALTER ALFREDO   \n8605                     INGLÉS BÁSICO III, 1   ZANABRIA PEREZ WALTER ALFREDO   \n8606               COMPOSICIÓN EN INGLÉS I, 1   ZANABRIA PEREZ WALTER ALFREDO   \n\n                                         nombre_escuela departamento_docente  \\\n0                              ARQUITECTURA Y URBANISMO     INGENIERIA CIVIL   \n1                                               TURISMO              TURISMO   \n2                                               TURISMO              TURISMO   \n3     EDUCACIÓN: COMUNICACIÓN, LINGÜÍSTICA Y LITERAT...            EDUCACION   \n4     EDUCACIÓN: PRIMARIA Y EDUCACIÓN BILINGÜE INTER...            EDUCACION   \n...                                                 ...                  ...   \n8602                                         ENFERMERÍA           ENFERMERÍA   \n8603                                     ADMINISTRACIÓN       ADMINISTRACIÓN   \n8604               EDUCACIÓN: LENGUA EXTRANJERA: INGLÉS            EDUCACION   \n8605               EDUCACIÓN: LENGUA EXTRANJERA: INGLÉS            EDUCACION   \n8606               EDUCACIÓN: LENGUA EXTRANJERA: INGLÉS            EDUCACION   \n\n     tipo_curso  id_recurso                nombre  forum  resource  assign  \\\n0        Teoria      133541               General      1         0       0   \n1        Teoria      132692               General      1         0       0   \n2        Teoria      133320               General      1         0       0   \n3        Teoria      132991               General      1         0       0   \n4        Teoria      132953  PSICOLOGÍA EDUCATIVA      1         1       0   \n...         ...         ...                   ...    ...       ...     ...   \n8602     Teoria      132655               General      1         0       0   \n8603     Teoria      132914               General      1         0       0   \n8604     Teoria      132994               General      1         0       0   \n8605     Teoria      133362               General      1         0       0   \n8606     Teoria      133364               General      1         0       0   \n\n      ...  page  lesson  choice  scorm  h5pactivity  data  book  wiki  \\\n0     ...     0       0       0      0            0     0     0     0   \n1     ...     0       0       0      0            0     0     0     0   \n2     ...     0       0       0      0            0     0     0     0   \n3     ...     0       0       0      0            0     0     0     0   \n4     ...     0       0       0      0            0     0     0     0   \n...   ...   ...     ...     ...    ...          ...   ...   ...   ...   \n8602  ...     0       0       0      0            0     0     0     0   \n8603  ...     0       0       0      0            0     0     0     0   \n8604  ...     0       0       0      0            0     0     0     0   \n8605  ...     0       0       0      0            0     0     0     0   \n8606  ...     0       0       0      0            0     0     0     0   \n\n      glossary  feedback  \n0            0         0  \n1            0         0  \n2            0         0  \n3            0         0  \n4            0         0  \n...        ...       ...  \n8602         0         0  \n8603         0         0  \n8604         0         0  \n8605         0         0  \n8606         0         0  \n\n[8607 rows x 26 columns]",
      "text/html": "<div>\n<style scoped>\n    .dataframe tbody tr th:only-of-type {\n        vertical-align: middle;\n    }\n\n    .dataframe tbody tr th {\n        vertical-align: top;\n    }\n\n    .dataframe thead th {\n        text-align: right;\n    }\n</style>\n<table border=\"1\" class=\"dataframe\">\n  <thead>\n    <tr style=\"text-align: right;\">\n      <th></th>\n      <th>nombre_curso</th>\n      <th>nombre_docente</th>\n      <th>nombre_escuela</th>\n      <th>departamento_docente</th>\n      <th>tipo_curso</th>\n      <th>id_recurso</th>\n      <th>nombre</th>\n      <th>forum</th>\n      <th>resource</th>\n      <th>assign</th>\n      <th>...</th>\n      <th>page</th>\n      <th>lesson</th>\n      <th>choice</th>\n      <th>scorm</th>\n      <th>h5pactivity</th>\n      <th>data</th>\n      <th>book</th>\n      <th>wiki</th>\n      <th>glossary</th>\n      <th>feedback</th>\n    </tr>\n  </thead>\n  <tbody>\n    <tr>\n      <th>0</th>\n      <td>FUNDAMENTOS DE DISEÑO, 1</td>\n      <td>MORA GODINEZ LUIS RAMON</td>\n      <td>ARQUITECTURA Y URBANISMO</td>\n      <td>INGENIERIA CIVIL</td>\n      <td>Teoria</td>\n      <td>133541</td>\n      <td>General</td>\n      <td>1</td>\n      <td>0</td>\n      <td>0</td>\n      <td>...</td>\n      <td>0</td>\n      <td>0</td>\n      <td>0</td>\n      <td>0</td>\n      <td>0</td>\n      <td>0</td>\n      <td>0</td>\n      <td>0</td>\n      <td>0</td>\n      <td>0</td>\n    </tr>\n    <tr>\n      <th>1</th>\n      <td>TEORÍA DEL TURISMO, 1</td>\n      <td>BLACIDO ALVA LUZ</td>\n      <td>TURISMO</td>\n      <td>TURISMO</td>\n      <td>Teoria</td>\n      <td>132692</td>\n      <td>General</td>\n      <td>1</td>\n      <td>0</td>\n      <td>0</td>\n      <td>...</td>\n      <td>0</td>\n      <td>0</td>\n      <td>0</td>\n      <td>0</td>\n      <td>0</td>\n      <td>0</td>\n      <td>0</td>\n      <td>0</td>\n      <td>0</td>\n      <td>0</td>\n    </tr>\n    <tr>\n      <th>2</th>\n      <td>ORGANIZACIÓN DE CONGRESOS Y EVENTOS, 1</td>\n      <td>BLACIDO ALVA LUZ</td>\n      <td>TURISMO</td>\n      <td>TURISMO</td>\n      <td>Teoria</td>\n      <td>133320</td>\n      <td>General</td>\n      <td>1</td>\n      <td>0</td>\n      <td>0</td>\n      <td>...</td>\n      <td>0</td>\n      <td>0</td>\n      <td>0</td>\n      <td>0</td>\n      <td>0</td>\n      <td>0</td>\n      <td>0</td>\n      <td>0</td>\n      <td>0</td>\n      <td>0</td>\n    </tr>\n    <tr>\n      <th>3</th>\n      <td>TALLER DE INVESTIGACIÓN EDUCATIVA I, 1</td>\n      <td>NIVIN VARGAS LAURA ROSA</td>\n      <td>EDUCACIÓN: COMUNICACIÓN, LINGÜÍSTICA Y LITERAT...</td>\n      <td>EDUCACION</td>\n      <td>Teoria</td>\n      <td>132991</td>\n      <td>General</td>\n      <td>1</td>\n      <td>0</td>\n      <td>0</td>\n      <td>...</td>\n      <td>0</td>\n      <td>0</td>\n      <td>0</td>\n      <td>0</td>\n      <td>0</td>\n      <td>0</td>\n      <td>0</td>\n      <td>0</td>\n      <td>0</td>\n      <td>0</td>\n    </tr>\n    <tr>\n      <th>4</th>\n      <td>PSICOLOGÍA EDUCATIVA, 1</td>\n      <td>LOPEZ CRUZ BERTHA</td>\n      <td>EDUCACIÓN: PRIMARIA Y EDUCACIÓN BILINGÜE INTER...</td>\n      <td>EDUCACION</td>\n      <td>Teoria</td>\n      <td>132953</td>\n      <td>PSICOLOGÍA EDUCATIVA</td>\n      <td>1</td>\n      <td>1</td>\n      <td>0</td>\n      <td>...</td>\n      <td>0</td>\n      <td>0</td>\n      <td>0</td>\n      <td>0</td>\n      <td>0</td>\n      <td>0</td>\n      <td>0</td>\n      <td>0</td>\n      <td>0</td>\n      <td>0</td>\n    </tr>\n    <tr>\n      <th>...</th>\n      <td>...</td>\n      <td>...</td>\n      <td>...</td>\n      <td>...</td>\n      <td>...</td>\n      <td>...</td>\n      <td>...</td>\n      <td>...</td>\n      <td>...</td>\n      <td>...</td>\n      <td>...</td>\n      <td>...</td>\n      <td>...</td>\n      <td>...</td>\n      <td>...</td>\n      <td>...</td>\n      <td>...</td>\n      <td>...</td>\n      <td>...</td>\n      <td>...</td>\n      <td>...</td>\n    </tr>\n    <tr>\n      <th>8602</th>\n      <td>ENFERMERÍA EN SALUD DEL ADULTO II, 1</td>\n      <td>ZAMBRANO GUIMARAY JULIA ISABEL</td>\n      <td>ENFERMERÍA</td>\n      <td>ENFERMERÍA</td>\n      <td>Teoria</td>\n      <td>132655</td>\n      <td>General</td>\n      <td>1</td>\n      <td>0</td>\n      <td>0</td>\n      <td>...</td>\n      <td>0</td>\n      <td>0</td>\n      <td>0</td>\n      <td>0</td>\n      <td>0</td>\n      <td>0</td>\n      <td>0</td>\n      <td>0</td>\n      <td>0</td>\n      <td>0</td>\n    </tr>\n    <tr>\n      <th>8603</th>\n      <td>SEMINARIO DE TESIS, 2</td>\n      <td>ZARZOSA MARQUEZ EVA DELFINA</td>\n      <td>ADMINISTRACIÓN</td>\n      <td>ADMINISTRACIÓN</td>\n      <td>Teoria</td>\n      <td>132914</td>\n      <td>General</td>\n      <td>1</td>\n      <td>0</td>\n      <td>0</td>\n      <td>...</td>\n      <td>0</td>\n      <td>0</td>\n      <td>0</td>\n      <td>0</td>\n      <td>0</td>\n      <td>0</td>\n      <td>0</td>\n      <td>0</td>\n      <td>0</td>\n      <td>0</td>\n    </tr>\n    <tr>\n      <th>8604</th>\n      <td>INGLÉS BÁSICO I, 1</td>\n      <td>ZANABRIA PEREZ WALTER ALFREDO</td>\n      <td>EDUCACIÓN: LENGUA EXTRANJERA: INGLÉS</td>\n      <td>EDUCACION</td>\n      <td>Teoria</td>\n      <td>132994</td>\n      <td>General</td>\n      <td>1</td>\n      <td>0</td>\n      <td>0</td>\n      <td>...</td>\n      <td>0</td>\n      <td>0</td>\n      <td>0</td>\n      <td>0</td>\n      <td>0</td>\n      <td>0</td>\n      <td>0</td>\n      <td>0</td>\n      <td>0</td>\n      <td>0</td>\n    </tr>\n    <tr>\n      <th>8605</th>\n      <td>INGLÉS BÁSICO III, 1</td>\n      <td>ZANABRIA PEREZ WALTER ALFREDO</td>\n      <td>EDUCACIÓN: LENGUA EXTRANJERA: INGLÉS</td>\n      <td>EDUCACION</td>\n      <td>Teoria</td>\n      <td>133362</td>\n      <td>General</td>\n      <td>1</td>\n      <td>0</td>\n      <td>0</td>\n      <td>...</td>\n      <td>0</td>\n      <td>0</td>\n      <td>0</td>\n      <td>0</td>\n      <td>0</td>\n      <td>0</td>\n      <td>0</td>\n      <td>0</td>\n      <td>0</td>\n      <td>0</td>\n    </tr>\n    <tr>\n      <th>8606</th>\n      <td>COMPOSICIÓN EN INGLÉS I, 1</td>\n      <td>ZANABRIA PEREZ WALTER ALFREDO</td>\n      <td>EDUCACIÓN: LENGUA EXTRANJERA: INGLÉS</td>\n      <td>EDUCACION</td>\n      <td>Teoria</td>\n      <td>133364</td>\n      <td>General</td>\n      <td>1</td>\n      <td>0</td>\n      <td>0</td>\n      <td>...</td>\n      <td>0</td>\n      <td>0</td>\n      <td>0</td>\n      <td>0</td>\n      <td>0</td>\n      <td>0</td>\n      <td>0</td>\n      <td>0</td>\n      <td>0</td>\n      <td>0</td>\n    </tr>\n  </tbody>\n</table>\n<p>8607 rows × 26 columns</p>\n</div>"
     },
     "execution_count": 11,
     "metadata": {},
     "output_type": "execute_result"
    }
   ],
   "source": [
    "df_all = df_all.drop(['curso', 'id_curso', 'id_escuela'], axis=1)\n",
    "df_all"
   ],
   "metadata": {
    "collapsed": false,
    "ExecuteTime": {
     "end_time": "2023-09-06T16:16:01.126454700Z",
     "start_time": "2023-09-06T16:16:01.094170600Z"
    }
   },
   "id": "971945b6feabbd15"
  },
  {
   "cell_type": "code",
   "execution_count": 12,
   "outputs": [],
   "source": [
    "df_all['nombre_semana'] = df_all['nombre'].apply(lambda x: ' '.join(x.split(' ')[:3]))"
   ],
   "metadata": {
    "collapsed": false,
    "ExecuteTime": {
     "end_time": "2023-09-06T16:16:09.947857400Z",
     "start_time": "2023-09-06T16:16:09.939436400Z"
    }
   },
   "id": "2817cf38e4339fad"
  },
  {
   "cell_type": "code",
   "execution_count": 92,
   "outputs": [],
   "source": [
    "# from datetime import datetime\n",
    "# ahora = datetime.now()\n",
    "# ahora = ahora.strftime(\"%Y%m%d_%H%M%S\")\n",
    "# df_all.to_csv(f'./data/datos_semana_9_{ahora}.csv', index=False)\n"
   ],
   "metadata": {
    "collapsed": false,
    "ExecuteTime": {
     "end_time": "2023-09-06T00:32:38.484642200Z",
     "start_time": "2023-09-06T00:32:38.417262200Z"
    }
   },
   "id": "36e2bbd096d47e9f"
  },
  {
   "cell_type": "code",
   "execution_count": 82,
   "outputs": [
    {
     "data": {
      "text/plain": "array([' PLANEAMIENTO ESTRATÉGICO DE LOS SISTEMAS DE INFORMACIÓN, 1',\n       ' INGENIERÍA DEL SOFTWARE I, 2', ' BASE DE DATOS, 1'], dtype=object)"
     },
     "execution_count": 82,
     "metadata": {},
     "output_type": "execute_result"
    }
   ],
   "source": [
    "# df_all[df_all['nombre_docente'].isin(['MEDINA LOPEZ WALTER JUNIOR'])].nombre_curso.unique()"
   ],
   "metadata": {
    "collapsed": false,
    "ExecuteTime": {
     "end_time": "2023-09-05T21:34:55.487778800Z",
     "start_time": "2023-09-05T21:34:55.445049900Z"
    }
   },
   "id": "c67bb537b20b4da9"
  },
  {
   "cell_type": "code",
   "execution_count": null,
   "outputs": [],
   "source": [
    "df_reporte = df_all[['departamento_docente', 'nombre_docente', 'nombre_curso', 'nombre', 'nombre_semana', 'forum', 'resource', 'assign', 'url', 'quiz']]\n",
    "columnas = ['Departamento Académico', 'Nombre Docente', 'Nombre Curso', 'Semana completo', 'Semana', 'Foro', 'Archivo', 'Tarea', 'URL', 'Cuestionario']\n",
    "df_reporte.columns = columnas"
   ],
   "metadata": {
    "collapsed": false
   },
   "id": "b64471bd5cf0335d"
  },
  {
   "cell_type": "code",
   "execution_count": 17,
   "outputs": [
    {
     "data": {
      "text/plain": "     Departamento Académico                  Nombre Docente  \\\n0          INGENIERIA CIVIL         MORA GODINEZ LUIS RAMON   \n1                   TURISMO                BLACIDO ALVA LUZ   \n2                   TURISMO                BLACIDO ALVA LUZ   \n3                 EDUCACION         NIVIN VARGAS LAURA ROSA   \n4                 EDUCACION               LOPEZ CRUZ BERTHA   \n...                     ...                             ...   \n8602             ENFERMERÍA  ZAMBRANO GUIMARAY JULIA ISABEL   \n8603         ADMINISTRACIÓN     ZARZOSA MARQUEZ EVA DELFINA   \n8604              EDUCACION   ZANABRIA PEREZ WALTER ALFREDO   \n8605              EDUCACION   ZANABRIA PEREZ WALTER ALFREDO   \n8606              EDUCACION   ZANABRIA PEREZ WALTER ALFREDO   \n\n                                 Nombre Curso       Semana completo  \\\n0                    FUNDAMENTOS DE DISEÑO, 1               General   \n1                       TEORÍA DEL TURISMO, 1               General   \n2      ORGANIZACIÓN DE CONGRESOS Y EVENTOS, 1               General   \n3      TALLER DE INVESTIGACIÓN EDUCATIVA I, 1               General   \n4                     PSICOLOGÍA EDUCATIVA, 1  PSICOLOGÍA EDUCATIVA   \n...                                       ...                   ...   \n8602     ENFERMERÍA EN SALUD DEL ADULTO II, 1               General   \n8603                    SEMINARIO DE TESIS, 2               General   \n8604                       INGLÉS BÁSICO I, 1               General   \n8605                     INGLÉS BÁSICO III, 1               General   \n8606               COMPOSICIÓN EN INGLÉS I, 1               General   \n\n                    Semana  Foro  Archivo  Tarea  URL  Cuestionario  \n0                  General     1        0      0    0             0  \n1                  General     1        0      0    0             0  \n2                  General     1        0      0    0             0  \n3                  General     1        0      0    0             0  \n4     PSICOLOGÍA EDUCATIVA     1        1      0    0             0  \n...                    ...   ...      ...    ...  ...           ...  \n8602               General     1        0      0    0             0  \n8603               General     1        0      0    0             0  \n8604               General     1        0      0    0             0  \n8605               General     1        0      0    0             0  \n8606               General     1        0      0    0             0  \n\n[8607 rows x 10 columns]",
      "text/html": "<div>\n<style scoped>\n    .dataframe tbody tr th:only-of-type {\n        vertical-align: middle;\n    }\n\n    .dataframe tbody tr th {\n        vertical-align: top;\n    }\n\n    .dataframe thead th {\n        text-align: right;\n    }\n</style>\n<table border=\"1\" class=\"dataframe\">\n  <thead>\n    <tr style=\"text-align: right;\">\n      <th></th>\n      <th>Departamento Académico</th>\n      <th>Nombre Docente</th>\n      <th>Nombre Curso</th>\n      <th>Semana completo</th>\n      <th>Semana</th>\n      <th>Foro</th>\n      <th>Archivo</th>\n      <th>Tarea</th>\n      <th>URL</th>\n      <th>Cuestionario</th>\n    </tr>\n  </thead>\n  <tbody>\n    <tr>\n      <th>0</th>\n      <td>INGENIERIA CIVIL</td>\n      <td>MORA GODINEZ LUIS RAMON</td>\n      <td>FUNDAMENTOS DE DISEÑO, 1</td>\n      <td>General</td>\n      <td>General</td>\n      <td>1</td>\n      <td>0</td>\n      <td>0</td>\n      <td>0</td>\n      <td>0</td>\n    </tr>\n    <tr>\n      <th>1</th>\n      <td>TURISMO</td>\n      <td>BLACIDO ALVA LUZ</td>\n      <td>TEORÍA DEL TURISMO, 1</td>\n      <td>General</td>\n      <td>General</td>\n      <td>1</td>\n      <td>0</td>\n      <td>0</td>\n      <td>0</td>\n      <td>0</td>\n    </tr>\n    <tr>\n      <th>2</th>\n      <td>TURISMO</td>\n      <td>BLACIDO ALVA LUZ</td>\n      <td>ORGANIZACIÓN DE CONGRESOS Y EVENTOS, 1</td>\n      <td>General</td>\n      <td>General</td>\n      <td>1</td>\n      <td>0</td>\n      <td>0</td>\n      <td>0</td>\n      <td>0</td>\n    </tr>\n    <tr>\n      <th>3</th>\n      <td>EDUCACION</td>\n      <td>NIVIN VARGAS LAURA ROSA</td>\n      <td>TALLER DE INVESTIGACIÓN EDUCATIVA I, 1</td>\n      <td>General</td>\n      <td>General</td>\n      <td>1</td>\n      <td>0</td>\n      <td>0</td>\n      <td>0</td>\n      <td>0</td>\n    </tr>\n    <tr>\n      <th>4</th>\n      <td>EDUCACION</td>\n      <td>LOPEZ CRUZ BERTHA</td>\n      <td>PSICOLOGÍA EDUCATIVA, 1</td>\n      <td>PSICOLOGÍA EDUCATIVA</td>\n      <td>PSICOLOGÍA EDUCATIVA</td>\n      <td>1</td>\n      <td>1</td>\n      <td>0</td>\n      <td>0</td>\n      <td>0</td>\n    </tr>\n    <tr>\n      <th>...</th>\n      <td>...</td>\n      <td>...</td>\n      <td>...</td>\n      <td>...</td>\n      <td>...</td>\n      <td>...</td>\n      <td>...</td>\n      <td>...</td>\n      <td>...</td>\n      <td>...</td>\n    </tr>\n    <tr>\n      <th>8602</th>\n      <td>ENFERMERÍA</td>\n      <td>ZAMBRANO GUIMARAY JULIA ISABEL</td>\n      <td>ENFERMERÍA EN SALUD DEL ADULTO II, 1</td>\n      <td>General</td>\n      <td>General</td>\n      <td>1</td>\n      <td>0</td>\n      <td>0</td>\n      <td>0</td>\n      <td>0</td>\n    </tr>\n    <tr>\n      <th>8603</th>\n      <td>ADMINISTRACIÓN</td>\n      <td>ZARZOSA MARQUEZ EVA DELFINA</td>\n      <td>SEMINARIO DE TESIS, 2</td>\n      <td>General</td>\n      <td>General</td>\n      <td>1</td>\n      <td>0</td>\n      <td>0</td>\n      <td>0</td>\n      <td>0</td>\n    </tr>\n    <tr>\n      <th>8604</th>\n      <td>EDUCACION</td>\n      <td>ZANABRIA PEREZ WALTER ALFREDO</td>\n      <td>INGLÉS BÁSICO I, 1</td>\n      <td>General</td>\n      <td>General</td>\n      <td>1</td>\n      <td>0</td>\n      <td>0</td>\n      <td>0</td>\n      <td>0</td>\n    </tr>\n    <tr>\n      <th>8605</th>\n      <td>EDUCACION</td>\n      <td>ZANABRIA PEREZ WALTER ALFREDO</td>\n      <td>INGLÉS BÁSICO III, 1</td>\n      <td>General</td>\n      <td>General</td>\n      <td>1</td>\n      <td>0</td>\n      <td>0</td>\n      <td>0</td>\n      <td>0</td>\n    </tr>\n    <tr>\n      <th>8606</th>\n      <td>EDUCACION</td>\n      <td>ZANABRIA PEREZ WALTER ALFREDO</td>\n      <td>COMPOSICIÓN EN INGLÉS I, 1</td>\n      <td>General</td>\n      <td>General</td>\n      <td>1</td>\n      <td>0</td>\n      <td>0</td>\n      <td>0</td>\n      <td>0</td>\n    </tr>\n  </tbody>\n</table>\n<p>8607 rows × 10 columns</p>\n</div>"
     },
     "execution_count": 17,
     "metadata": {},
     "output_type": "execute_result"
    }
   ],
   "source": [
    "df_reporte"
   ],
   "metadata": {
    "collapsed": false,
    "ExecuteTime": {
     "end_time": "2023-09-06T16:27:57.493782600Z",
     "start_time": "2023-09-06T16:27:57.475904400Z"
    }
   },
   "id": "945a85e633ea222a"
  },
  {
   "cell_type": "code",
   "execution_count": 18,
   "outputs": [],
   "source": [
    "df_reporte.to_excel('./data/reporte_hasta_semana_9.xlsx', index=False)"
   ],
   "metadata": {
    "collapsed": false,
    "ExecuteTime": {
     "end_time": "2023-09-06T16:28:03.451796100Z",
     "start_time": "2023-09-06T16:28:00.627087Z"
    }
   },
   "id": "d75a590e8a91f041"
  },
  {
   "cell_type": "code",
   "execution_count": null,
   "outputs": [],
   "source": [],
   "metadata": {
    "collapsed": false
   },
   "id": "f64b1510edbb5417"
  }
 ],
 "metadata": {
  "kernelspec": {
   "display_name": "Python 3",
   "language": "python",
   "name": "python3"
  },
  "language_info": {
   "codemirror_mode": {
    "name": "ipython",
    "version": 2
   },
   "file_extension": ".py",
   "mimetype": "text/x-python",
   "name": "python",
   "nbconvert_exporter": "python",
   "pygments_lexer": "ipython2",
   "version": "2.7.6"
  }
 },
 "nbformat": 4,
 "nbformat_minor": 5
}
