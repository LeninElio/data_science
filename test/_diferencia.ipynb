{
 "cells": [
  {
   "cell_type": "code",
   "execution_count": 11,
   "metadata": {
    "collapsed": true,
    "ExecuteTime": {
     "end_time": "2023-09-05T15:06:31.097367600Z",
     "start_time": "2023-09-05T15:06:31.039356Z"
    }
   },
   "outputs": [],
   "source": [
    "import pandas as pd"
   ]
  },
  {
   "cell_type": "code",
   "execution_count": 12,
   "outputs": [],
   "source": [
    "data_sga = pd.read_csv('./data/matriculassga.csv')\n",
    "data_sva = pd.read_csv('./data/matriculassva.csv')"
   ],
   "metadata": {
    "collapsed": false,
    "ExecuteTime": {
     "end_time": "2023-09-05T15:06:31.192011100Z",
     "start_time": "2023-09-05T15:06:31.043880400Z"
    }
   }
  },
  {
   "cell_type": "code",
   "execution_count": 13,
   "outputs": [
    {
     "data": {
      "text/plain": "       id_curso  id_usuario  semestre\n0          8797        7745        16\n1          8797        8695        16\n2          8797        9374        16\n3          8797        9375        16\n4          8797        9449        16\n...         ...         ...       ...\n36293     14990       11146        16\n36294     14990       11376        16\n36295     14990       11024        16\n36296     14930       11050        16\n36297     14897        7513        16\n\n[36298 rows x 3 columns]",
      "text/html": "<div>\n<style scoped>\n    .dataframe tbody tr th:only-of-type {\n        vertical-align: middle;\n    }\n\n    .dataframe tbody tr th {\n        vertical-align: top;\n    }\n\n    .dataframe thead th {\n        text-align: right;\n    }\n</style>\n<table border=\"1\" class=\"dataframe\">\n  <thead>\n    <tr style=\"text-align: right;\">\n      <th></th>\n      <th>id_curso</th>\n      <th>id_usuario</th>\n      <th>semestre</th>\n    </tr>\n  </thead>\n  <tbody>\n    <tr>\n      <th>0</th>\n      <td>8797</td>\n      <td>7745</td>\n      <td>16</td>\n    </tr>\n    <tr>\n      <th>1</th>\n      <td>8797</td>\n      <td>8695</td>\n      <td>16</td>\n    </tr>\n    <tr>\n      <th>2</th>\n      <td>8797</td>\n      <td>9374</td>\n      <td>16</td>\n    </tr>\n    <tr>\n      <th>3</th>\n      <td>8797</td>\n      <td>9375</td>\n      <td>16</td>\n    </tr>\n    <tr>\n      <th>4</th>\n      <td>8797</td>\n      <td>9449</td>\n      <td>16</td>\n    </tr>\n    <tr>\n      <th>...</th>\n      <td>...</td>\n      <td>...</td>\n      <td>...</td>\n    </tr>\n    <tr>\n      <th>36293</th>\n      <td>14990</td>\n      <td>11146</td>\n      <td>16</td>\n    </tr>\n    <tr>\n      <th>36294</th>\n      <td>14990</td>\n      <td>11376</td>\n      <td>16</td>\n    </tr>\n    <tr>\n      <th>36295</th>\n      <td>14990</td>\n      <td>11024</td>\n      <td>16</td>\n    </tr>\n    <tr>\n      <th>36296</th>\n      <td>14930</td>\n      <td>11050</td>\n      <td>16</td>\n    </tr>\n    <tr>\n      <th>36297</th>\n      <td>14897</td>\n      <td>7513</td>\n      <td>16</td>\n    </tr>\n  </tbody>\n</table>\n<p>36298 rows × 3 columns</p>\n</div>"
     },
     "execution_count": 13,
     "metadata": {},
     "output_type": "execute_result"
    }
   ],
   "source": [
    "data_sga"
   ],
   "metadata": {
    "collapsed": false,
    "ExecuteTime": {
     "end_time": "2023-09-05T15:06:31.203827500Z",
     "start_time": "2023-09-05T15:06:31.073752300Z"
    }
   }
  },
  {
   "cell_type": "code",
   "execution_count": 14,
   "outputs": [
    {
     "data": {
      "text/plain": "       id_curso  id_usuario  semestre\n0          8799       11015        16\n1          8799       11536        16\n2          8799       11101        16\n3          8799       10652        16\n4          8799       10835        16\n...         ...         ...       ...\n36740     14926        1739        16\n36741     14926        2394        16\n36742     14926        2399        16\n36743     14926        3493        16\n36744     14926        4520        16\n\n[36745 rows x 3 columns]",
      "text/html": "<div>\n<style scoped>\n    .dataframe tbody tr th:only-of-type {\n        vertical-align: middle;\n    }\n\n    .dataframe tbody tr th {\n        vertical-align: top;\n    }\n\n    .dataframe thead th {\n        text-align: right;\n    }\n</style>\n<table border=\"1\" class=\"dataframe\">\n  <thead>\n    <tr style=\"text-align: right;\">\n      <th></th>\n      <th>id_curso</th>\n      <th>id_usuario</th>\n      <th>semestre</th>\n    </tr>\n  </thead>\n  <tbody>\n    <tr>\n      <th>0</th>\n      <td>8799</td>\n      <td>11015</td>\n      <td>16</td>\n    </tr>\n    <tr>\n      <th>1</th>\n      <td>8799</td>\n      <td>11536</td>\n      <td>16</td>\n    </tr>\n    <tr>\n      <th>2</th>\n      <td>8799</td>\n      <td>11101</td>\n      <td>16</td>\n    </tr>\n    <tr>\n      <th>3</th>\n      <td>8799</td>\n      <td>10652</td>\n      <td>16</td>\n    </tr>\n    <tr>\n      <th>4</th>\n      <td>8799</td>\n      <td>10835</td>\n      <td>16</td>\n    </tr>\n    <tr>\n      <th>...</th>\n      <td>...</td>\n      <td>...</td>\n      <td>...</td>\n    </tr>\n    <tr>\n      <th>36740</th>\n      <td>14926</td>\n      <td>1739</td>\n      <td>16</td>\n    </tr>\n    <tr>\n      <th>36741</th>\n      <td>14926</td>\n      <td>2394</td>\n      <td>16</td>\n    </tr>\n    <tr>\n      <th>36742</th>\n      <td>14926</td>\n      <td>2399</td>\n      <td>16</td>\n    </tr>\n    <tr>\n      <th>36743</th>\n      <td>14926</td>\n      <td>3493</td>\n      <td>16</td>\n    </tr>\n    <tr>\n      <th>36744</th>\n      <td>14926</td>\n      <td>4520</td>\n      <td>16</td>\n    </tr>\n  </tbody>\n</table>\n<p>36745 rows × 3 columns</p>\n</div>"
     },
     "execution_count": 14,
     "metadata": {},
     "output_type": "execute_result"
    }
   ],
   "source": [
    "data_sva"
   ],
   "metadata": {
    "collapsed": false,
    "ExecuteTime": {
     "end_time": "2023-09-05T15:06:31.204826700Z",
     "start_time": "2023-09-05T15:06:31.083418Z"
    }
   }
  },
  {
   "cell_type": "code",
   "execution_count": 15,
   "outputs": [
    {
     "data": {
      "text/plain": "       id_curso  id_usuario  semestre      _merge\n0          8797        7745        16        both\n1          8797        8695        16        both\n2          8797        9374        16        both\n3          8797        9375        16        both\n4          8797        9449        16        both\n...         ...         ...       ...         ...\n36740     12998        4512        16  right_only\n36741     12265        4512        16  right_only\n36742     13000        4512        16  right_only\n36743     13560        4547        16  right_only\n36744     13560        4512        16  right_only\n\n[36745 rows x 4 columns]",
      "text/html": "<div>\n<style scoped>\n    .dataframe tbody tr th:only-of-type {\n        vertical-align: middle;\n    }\n\n    .dataframe tbody tr th {\n        vertical-align: top;\n    }\n\n    .dataframe thead th {\n        text-align: right;\n    }\n</style>\n<table border=\"1\" class=\"dataframe\">\n  <thead>\n    <tr style=\"text-align: right;\">\n      <th></th>\n      <th>id_curso</th>\n      <th>id_usuario</th>\n      <th>semestre</th>\n      <th>_merge</th>\n    </tr>\n  </thead>\n  <tbody>\n    <tr>\n      <th>0</th>\n      <td>8797</td>\n      <td>7745</td>\n      <td>16</td>\n      <td>both</td>\n    </tr>\n    <tr>\n      <th>1</th>\n      <td>8797</td>\n      <td>8695</td>\n      <td>16</td>\n      <td>both</td>\n    </tr>\n    <tr>\n      <th>2</th>\n      <td>8797</td>\n      <td>9374</td>\n      <td>16</td>\n      <td>both</td>\n    </tr>\n    <tr>\n      <th>3</th>\n      <td>8797</td>\n      <td>9375</td>\n      <td>16</td>\n      <td>both</td>\n    </tr>\n    <tr>\n      <th>4</th>\n      <td>8797</td>\n      <td>9449</td>\n      <td>16</td>\n      <td>both</td>\n    </tr>\n    <tr>\n      <th>...</th>\n      <td>...</td>\n      <td>...</td>\n      <td>...</td>\n      <td>...</td>\n    </tr>\n    <tr>\n      <th>36740</th>\n      <td>12998</td>\n      <td>4512</td>\n      <td>16</td>\n      <td>right_only</td>\n    </tr>\n    <tr>\n      <th>36741</th>\n      <td>12265</td>\n      <td>4512</td>\n      <td>16</td>\n      <td>right_only</td>\n    </tr>\n    <tr>\n      <th>36742</th>\n      <td>13000</td>\n      <td>4512</td>\n      <td>16</td>\n      <td>right_only</td>\n    </tr>\n    <tr>\n      <th>36743</th>\n      <td>13560</td>\n      <td>4547</td>\n      <td>16</td>\n      <td>right_only</td>\n    </tr>\n    <tr>\n      <th>36744</th>\n      <td>13560</td>\n      <td>4512</td>\n      <td>16</td>\n      <td>right_only</td>\n    </tr>\n  </tbody>\n</table>\n<p>36745 rows × 4 columns</p>\n</div>"
     },
     "execution_count": 15,
     "metadata": {},
     "output_type": "execute_result"
    }
   ],
   "source": [
    "merged_df = pd.merge(data_sga, data_sva, how='outer', indicator=True)\n",
    "merged_df"
   ],
   "metadata": {
    "collapsed": false,
    "ExecuteTime": {
     "end_time": "2023-09-05T15:06:31.207300100Z",
     "start_time": "2023-09-05T15:06:31.099368600Z"
    }
   }
  },
  {
   "cell_type": "code",
   "execution_count": 16,
   "outputs": [
    {
     "data": {
      "text/plain": "       id_curso  id_usuario  semestre _merge\n0          8797        7745        16   both\n1          8797        8695        16   both\n2          8797        9374        16   both\n3          8797        9375        16   both\n4          8797        9449        16   both\n...         ...         ...       ...    ...\n36293     14990       11146        16   both\n36294     14990       11376        16   both\n36295     14990       11024        16   both\n36296     14930       11050        16   both\n36297     14897        7513        16   both\n\n[36298 rows x 4 columns]",
      "text/html": "<div>\n<style scoped>\n    .dataframe tbody tr th:only-of-type {\n        vertical-align: middle;\n    }\n\n    .dataframe tbody tr th {\n        vertical-align: top;\n    }\n\n    .dataframe thead th {\n        text-align: right;\n    }\n</style>\n<table border=\"1\" class=\"dataframe\">\n  <thead>\n    <tr style=\"text-align: right;\">\n      <th></th>\n      <th>id_curso</th>\n      <th>id_usuario</th>\n      <th>semestre</th>\n      <th>_merge</th>\n    </tr>\n  </thead>\n  <tbody>\n    <tr>\n      <th>0</th>\n      <td>8797</td>\n      <td>7745</td>\n      <td>16</td>\n      <td>both</td>\n    </tr>\n    <tr>\n      <th>1</th>\n      <td>8797</td>\n      <td>8695</td>\n      <td>16</td>\n      <td>both</td>\n    </tr>\n    <tr>\n      <th>2</th>\n      <td>8797</td>\n      <td>9374</td>\n      <td>16</td>\n      <td>both</td>\n    </tr>\n    <tr>\n      <th>3</th>\n      <td>8797</td>\n      <td>9375</td>\n      <td>16</td>\n      <td>both</td>\n    </tr>\n    <tr>\n      <th>4</th>\n      <td>8797</td>\n      <td>9449</td>\n      <td>16</td>\n      <td>both</td>\n    </tr>\n    <tr>\n      <th>...</th>\n      <td>...</td>\n      <td>...</td>\n      <td>...</td>\n      <td>...</td>\n    </tr>\n    <tr>\n      <th>36293</th>\n      <td>14990</td>\n      <td>11146</td>\n      <td>16</td>\n      <td>both</td>\n    </tr>\n    <tr>\n      <th>36294</th>\n      <td>14990</td>\n      <td>11376</td>\n      <td>16</td>\n      <td>both</td>\n    </tr>\n    <tr>\n      <th>36295</th>\n      <td>14990</td>\n      <td>11024</td>\n      <td>16</td>\n      <td>both</td>\n    </tr>\n    <tr>\n      <th>36296</th>\n      <td>14930</td>\n      <td>11050</td>\n      <td>16</td>\n      <td>both</td>\n    </tr>\n    <tr>\n      <th>36297</th>\n      <td>14897</td>\n      <td>7513</td>\n      <td>16</td>\n      <td>both</td>\n    </tr>\n  </tbody>\n</table>\n<p>36298 rows × 4 columns</p>\n</div>"
     },
     "execution_count": 16,
     "metadata": {},
     "output_type": "execute_result"
    }
   ],
   "source": [
    "sin_problemas = merged_df[merged_df['_merge'] == 'both']\n",
    "sin_problemas"
   ],
   "metadata": {
    "collapsed": false,
    "ExecuteTime": {
     "end_time": "2023-09-05T15:06:31.208299400Z",
     "start_time": "2023-09-05T15:06:31.130077600Z"
    }
   }
  },
  {
   "cell_type": "code",
   "execution_count": 17,
   "outputs": [
    {
     "data": {
      "text/plain": "Empty DataFrame\nColumns: [id_curso, id_usuario, semestre, _merge]\nIndex: []",
      "text/html": "<div>\n<style scoped>\n    .dataframe tbody tr th:only-of-type {\n        vertical-align: middle;\n    }\n\n    .dataframe tbody tr th {\n        vertical-align: top;\n    }\n\n    .dataframe thead th {\n        text-align: right;\n    }\n</style>\n<table border=\"1\" class=\"dataframe\">\n  <thead>\n    <tr style=\"text-align: right;\">\n      <th></th>\n      <th>id_curso</th>\n      <th>id_usuario</th>\n      <th>semestre</th>\n      <th>_merge</th>\n    </tr>\n  </thead>\n  <tbody>\n  </tbody>\n</table>\n</div>"
     },
     "execution_count": 17,
     "metadata": {},
     "output_type": "execute_result"
    }
   ],
   "source": [
    "matricula = merged_df[merged_df['_merge'] == 'left_only']\n",
    "matricula   "
   ],
   "metadata": {
    "collapsed": false,
    "ExecuteTime": {
     "end_time": "2023-09-05T15:06:31.212299500Z",
     "start_time": "2023-09-05T15:06:31.143326Z"
    }
   }
  },
  {
   "cell_type": "code",
   "execution_count": 18,
   "outputs": [
    {
     "data": {
      "text/plain": "       id_curso  id_usuario  semestre      _merge\n36298     13663       10817        16  right_only\n36299     14468       10820        16  right_only\n36300     14468       10728        16  right_only\n36301     10651        8216        16  right_only\n36302      9367       10856        16  right_only\n...         ...         ...       ...         ...\n36740     12998        4512        16  right_only\n36741     12265        4512        16  right_only\n36742     13000        4512        16  right_only\n36743     13560        4547        16  right_only\n36744     13560        4512        16  right_only\n\n[447 rows x 4 columns]",
      "text/html": "<div>\n<style scoped>\n    .dataframe tbody tr th:only-of-type {\n        vertical-align: middle;\n    }\n\n    .dataframe tbody tr th {\n        vertical-align: top;\n    }\n\n    .dataframe thead th {\n        text-align: right;\n    }\n</style>\n<table border=\"1\" class=\"dataframe\">\n  <thead>\n    <tr style=\"text-align: right;\">\n      <th></th>\n      <th>id_curso</th>\n      <th>id_usuario</th>\n      <th>semestre</th>\n      <th>_merge</th>\n    </tr>\n  </thead>\n  <tbody>\n    <tr>\n      <th>36298</th>\n      <td>13663</td>\n      <td>10817</td>\n      <td>16</td>\n      <td>right_only</td>\n    </tr>\n    <tr>\n      <th>36299</th>\n      <td>14468</td>\n      <td>10820</td>\n      <td>16</td>\n      <td>right_only</td>\n    </tr>\n    <tr>\n      <th>36300</th>\n      <td>14468</td>\n      <td>10728</td>\n      <td>16</td>\n      <td>right_only</td>\n    </tr>\n    <tr>\n      <th>36301</th>\n      <td>10651</td>\n      <td>8216</td>\n      <td>16</td>\n      <td>right_only</td>\n    </tr>\n    <tr>\n      <th>36302</th>\n      <td>9367</td>\n      <td>10856</td>\n      <td>16</td>\n      <td>right_only</td>\n    </tr>\n    <tr>\n      <th>...</th>\n      <td>...</td>\n      <td>...</td>\n      <td>...</td>\n      <td>...</td>\n    </tr>\n    <tr>\n      <th>36740</th>\n      <td>12998</td>\n      <td>4512</td>\n      <td>16</td>\n      <td>right_only</td>\n    </tr>\n    <tr>\n      <th>36741</th>\n      <td>12265</td>\n      <td>4512</td>\n      <td>16</td>\n      <td>right_only</td>\n    </tr>\n    <tr>\n      <th>36742</th>\n      <td>13000</td>\n      <td>4512</td>\n      <td>16</td>\n      <td>right_only</td>\n    </tr>\n    <tr>\n      <th>36743</th>\n      <td>13560</td>\n      <td>4547</td>\n      <td>16</td>\n      <td>right_only</td>\n    </tr>\n    <tr>\n      <th>36744</th>\n      <td>13560</td>\n      <td>4512</td>\n      <td>16</td>\n      <td>right_only</td>\n    </tr>\n  </tbody>\n</table>\n<p>447 rows × 4 columns</p>\n</div>"
     },
     "execution_count": 18,
     "metadata": {},
     "output_type": "execute_result"
    }
   ],
   "source": [
    "desmatricula = merged_df[merged_df['_merge'] == 'right_only']\n",
    "desmatricula"
   ],
   "metadata": {
    "collapsed": false,
    "ExecuteTime": {
     "end_time": "2023-09-05T15:06:31.213302200Z",
     "start_time": "2023-09-05T15:06:31.152034Z"
    }
   }
  },
  {
   "cell_type": "code",
   "execution_count": 19,
   "outputs": [
    {
     "data": {
      "text/plain": "[]"
     },
     "execution_count": 19,
     "metadata": {},
     "output_type": "execute_result"
    }
   ],
   "source": [
    "matricula_list = list(zip(matricula['id_curso'], matricula['id_usuario']))\n",
    "matricula_list"
   ],
   "metadata": {
    "collapsed": false,
    "ExecuteTime": {
     "end_time": "2023-09-05T15:06:31.213302200Z",
     "start_time": "2023-09-05T15:06:31.165030200Z"
    }
   }
  },
  {
   "cell_type": "code",
   "execution_count": 20,
   "outputs": [
    {
     "data": {
      "text/plain": "[(13663, 10817),\n (14468, 10820),\n (14468, 10728),\n (10651, 8216),\n (9367, 10856),\n (9373, 10643),\n (9373, 10743),\n (9373, 11651),\n (10663, 10856),\n (11715, 11651),\n (11715, 10643),\n (11715, 10743),\n (12553, 10643),\n (12553, 10743),\n (12556, 10743),\n (12556, 10643),\n (12556, 11651),\n (13212, 10643),\n (13212, 10743),\n (13212, 11651),\n (13703, 11651),\n (13703, 10643),\n (13703, 10743),\n (14059, 10643),\n (14059, 10743),\n (14059, 11651),\n (14310, 11651),\n (14310, 10643),\n (14310, 10743),\n (14480, 11651),\n (9377, 10019),\n (10672, 10019),\n (10672, 9745),\n (11723, 7488),\n (12560, 10019),\n (12560, 9745),\n (13219, 7488),\n (13219, 9745),\n (13706, 10019),\n (13706, 9745),\n (14062, 9745),\n (14312, 10019),\n (14884, 7488),\n (14967, 10019),\n (15089, 7488),\n (15089, 9745),\n (9386, 84),\n (9386, 3889),\n (9386, 443),\n (9402, 11804),\n (9402, 7314),\n (9405, 11230),\n (10690, 11230),\n (10697, 11230),\n (11737, 11804),\n (12571, 11804),\n (12573, 11230),\n (12576, 9928),\n (12576, 11230),\n (13224, 11230),\n (13712, 11804),\n (14065, 11804),\n (14313, 10972),\n (14313, 11450),\n (14313, 11804),\n (9414, 10317),\n (9414, 8317),\n (11745, 8317),\n (14066, 8317),\n (14066, 7307),\n (12581, 1479),\n (14663, 1479),\n (9437, 8280),\n (12595, 5106),\n (13242, 8280),\n (13725, 8280),\n (14077, 8280),\n (13730, 5106),\n (14325, 5106),\n (11777, 1479),\n (10756, 10091),\n (11776, 11356),\n (11776, 10874),\n (12615, 10874),\n (12615, 11356),\n (13264, 10874),\n (13264, 11356),\n (13733, 11356),\n (13733, 10874),\n (14079, 11356),\n (14079, 10874),\n (14324, 11356),\n (14324, 10874),\n (14488, 9455),\n (14671, 10874),\n (14671, 11356),\n (14705, 9928),\n (14728, 7299),\n (9502, 2084),\n (14729, 2084),\n (11821, 7138),\n (12645, 7138),\n (13759, 7138),\n (14678, 7138),\n (14714, 6269),\n (11833, 6244),\n (11833, 6269),\n (12653, 6244),\n (13290, 6244),\n (14111, 6244),\n (14112, 6244),\n (14508, 6269),\n (14508, 6244),\n (10822, 10091),\n (14509, 7256),\n (9573, 7307),\n (9573, 6728),\n (9573, 6830),\n (9573, 7256),\n (10839, 5277),\n (10852, 5277),\n (11861, 5277),\n (12679, 6728),\n (12679, 7307),\n (12679, 7256),\n (12679, 6830),\n (13785, 5277),\n (14126, 5277),\n (14359, 7256),\n (14516, 5277),\n (9585, 7256),\n (12693, 7307),\n (9608, 11000),\n (9608, 10707),\n (10882, 10707),\n (10882, 11000),\n (11887, 11000),\n (11887, 10707),\n (12699, 6344),\n (13330, 10707),\n (13330, 11000),\n (13798, 11000),\n (13798, 10707),\n (14138, 11000),\n (14138, 10707),\n (14522, 11036),\n (14681, 10707),\n (14681, 11000),\n (14730, 10707),\n (14730, 11000),\n (9632, 10206),\n (9636, 6344),\n (11898, 8488),\n (12709, 8488),\n (12709, 10206),\n (12713, 10206),\n (12713, 3093),\n (13339, 10206),\n (13339, 8515),\n (13805, 8488),\n (14371, 8488),\n (14371, 10206),\n (10900, 8488),\n (10900, 8515),\n (12718, 6344),\n (13347, 6344),\n (9671, 11504),\n (9684, 11808),\n (10918, 11808),\n (10933, 11504),\n (11924, 10603),\n (11938, 11808),\n (12729, 10602),\n (12729, 10603),\n (13351, 11504),\n (13363, 11808),\n (13815, 11808),\n (14149, 11504),\n (14373, 10603),\n (14527, 11504),\n (14625, 10603),\n (14683, 11504),\n (14711, 10603),\n (14718, 11808),\n (14732, 11504),\n (14736, 11808),\n (14158, 10602),\n (9709, 5423),\n (9709, 5467),\n (9709, 5421),\n (9709, 5451),\n (10949, 5422),\n (11952, 5422),\n (11956, 5422),\n (12755, 5422),\n (13372, 5451),\n (13372, 5423),\n (13372, 5421),\n (13372, 5467),\n (13380, 5423),\n (13380, 5467),\n (13380, 5421),\n (13380, 5451),\n (13834, 5467),\n (13834, 5421),\n (13834, 5451),\n (13834, 5423),\n (14165, 5451),\n (14165, 5423),\n (14165, 5421),\n (14165, 5467),\n (14388, 5422),\n (14536, 5423),\n (14536, 5467),\n (14536, 5421),\n (14536, 5451),\n (14634, 5422),\n (14692, 10602),\n (9738, 6380),\n (11973, 6380),\n (11979, 6380),\n (12774, 6380),\n (13391, 6380),\n (13396, 408),\n (9757, 7145),\n (11989, 7145),\n (11994, 7145),\n (11994, 408),\n (12785, 7145),\n (12785, 408),\n (13402, 7145),\n (13402, 408),\n (9773, 11231),\n (9779, 10132),\n (11002, 11231),\n (11007, 11231),\n (11993, 11231),\n (12790, 11231),\n (13400, 11231),\n (13855, 11231),\n (9782, 10132),\n (14816, 10132),\n (14816, 10219),\n (9780, 10132),\n (11009, 10132),\n (12007, 10132),\n (12793, 10132),\n (14401, 10132),\n (12009, 411),\n (12812, 4204),\n (9820, 10972),\n (9820, 11450),\n (11042, 11450),\n (11042, 10972),\n (12030, 10972),\n (12030, 11450),\n (12816, 10972),\n (12816, 11450),\n (13424, 10972),\n (13424, 11450),\n (13869, 10972),\n (13869, 11450),\n (9836, 10765),\n (9836, 11452),\n (11054, 11452),\n (11054, 10765),\n (11058, 11452),\n (11058, 10765),\n (12039, 10091),\n (12039, 11452),\n (12039, 10765),\n (12822, 10765),\n (12822, 11452),\n (13427, 11452),\n (13427, 10765),\n (13870, 11452),\n (13870, 10765),\n (9852, 7514),\n (13433, 7514),\n (13440, 7514),\n (14644, 7514),\n (9896, 10709),\n (9896, 11193),\n (9896, 11049),\n (11100, 10709),\n (11100, 11193),\n (11100, 11049),\n (12071, 10709),\n (12071, 11193),\n (12071, 11049),\n (12847, 10709),\n (12847, 11193),\n (12847, 11049),\n (14202, 10709),\n (14202, 11049),\n (14202, 11193),\n (14413, 11049),\n (14413, 11193),\n (14413, 10709),\n (14554, 10709),\n (14554, 11193),\n (14554, 11049),\n (13479, 1663),\n (9972, 10741),\n (11169, 10741),\n (12127, 10741),\n (12891, 10741),\n (13483, 10741),\n (13909, 10741),\n (13911, 10741),\n (11181, 1663),\n (10008, 6509),\n (12152, 6509),\n (11201, 6509),\n (11220, 1687),\n (10044, 6509),\n (11229, 6509),\n (13921, 6509),\n (11232, 11036),\n (12178, 11036),\n (12926, 11036),\n (12931, 11036),\n (13507, 11036),\n (13924, 11036),\n (13925, 6550),\n (10064, 3412),\n (11242, 3412),\n (12187, 3412),\n (12930, 3412),\n (10070, 5719),\n (10070, 6550),\n (13927, 5719),\n (14226, 6550),\n (12941, 6550),\n (14561, 9655),\n (14561, 11583),\n (14751, 11514),\n (14771, 11583),\n (14771, 11514),\n (14784, 11583),\n (14784, 11514),\n (14799, 11514),\n (14799, 11583),\n (14808, 11514),\n (14808, 11583),\n (14810, 9655),\n (14810, 11583),\n (14810, 11514),\n (14815, 11583),\n (14815, 11514),\n (14912, 9655),\n (14912, 11514),\n (14912, 11583),\n (10103, 9655),\n (14913, 9655),\n (10104, 8981),\n (10106, 8981),\n (12211, 8981),\n (12953, 8981),\n (14918, 8981),\n (11279, 8981),\n (10127, 11821),\n (10164, 11817),\n (11312, 11817),\n (12245, 11817),\n (12982, 10714),\n (12982, 11817),\n (12982, 11609),\n (12982, 11641),\n (13539, 10714),\n (13539, 11817),\n (13950, 11641),\n (13950, 11609),\n (14436, 10709),\n (14436, 11049),\n (14436, 11193),\n (14436, 11609),\n (14436, 10714),\n (14436, 11641),\n (14571, 11609),\n (14571, 11641),\n (14571, 10714),\n (14652, 11609),\n (14652, 10714),\n (14652, 11641),\n (14698, 11641),\n (14698, 11609),\n (14725, 11817),\n (14725, 10714),\n (14764, 11609),\n (14764, 10759),\n (14764, 10713),\n (14764, 11197),\n (14764, 11274),\n (14764, 10882),\n (14764, 11208),\n (14764, 11145),\n (14764, 10748),\n (14764, 11043),\n (14764, 11312),\n (14764, 10668),\n (14764, 10734),\n (14764, 11690),\n (14764, 11229),\n (14764, 11086),\n (14764, 11346),\n (14764, 11641),\n (14764, 10719),\n (14764, 11642),\n (14764, 11785),\n (14764, 11679),\n (14764, 11178),\n (14764, 10777),\n (14764, 10714),\n (14764, 11341),\n (14764, 11381),\n (14764, 11447),\n (14764, 11222),\n (14764, 11763),\n (14764, 11033),\n (14764, 10784),\n (14764, 10804),\n (14764, 11791),\n (14764, 11333),\n (14764, 10752),\n (14764, 11817),\n (14764, 10938),\n (14764, 11236),\n (14915, 11817),\n (14984, 10714),\n (10168, 9049),\n (10168, 10112),\n (14760, 10112),\n (14917, 9049),\n (11329, 10112),\n (12253, 10112),\n (12988, 10112),\n (13956, 9049),\n (14443, 10112),\n (14919, 10112),\n (11339, 4512),\n (12998, 3477),\n (12998, 4512),\n (12265, 4512),\n (13000, 4512),\n (13560, 4547),\n (13560, 4512)]"
     },
     "execution_count": 20,
     "metadata": {},
     "output_type": "execute_result"
    }
   ],
   "source": [
    "desmatricula_list = list(zip(desmatricula['id_curso'], desmatricula['id_usuario']))\n",
    "desmatricula_list"
   ],
   "metadata": {
    "collapsed": false,
    "ExecuteTime": {
     "end_time": "2023-09-05T15:06:31.214807200Z",
     "start_time": "2023-09-05T15:06:31.172353Z"
    }
   }
  },
  {
   "cell_type": "code",
   "execution_count": 20,
   "outputs": [],
   "source": [],
   "metadata": {
    "collapsed": false,
    "ExecuteTime": {
     "end_time": "2023-09-05T15:06:31.214807200Z",
     "start_time": "2023-09-05T15:06:31.193990100Z"
    }
   }
  },
  {
   "cell_type": "markdown",
   "source": [],
   "metadata": {
    "collapsed": false
   }
  }
 ],
 "metadata": {
  "kernelspec": {
   "display_name": "Python 3",
   "language": "python",
   "name": "python3"
  },
  "language_info": {
   "codemirror_mode": {
    "name": "ipython",
    "version": 2
   },
   "file_extension": ".py",
   "mimetype": "text/x-python",
   "name": "python",
   "nbconvert_exporter": "python",
   "pygments_lexer": "ipython2",
   "version": "2.7.6"
  }
 },
 "nbformat": 4,
 "nbformat_minor": 0
}
