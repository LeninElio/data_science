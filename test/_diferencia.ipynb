{
 "cells": [
  {
   "cell_type": "code",
   "execution_count": 12,
   "metadata": {
    "collapsed": true,
    "ExecuteTime": {
     "end_time": "2023-08-16T22:39:46.383711500Z",
     "start_time": "2023-08-16T22:39:46.351547500Z"
    }
   },
   "outputs": [],
   "source": [
    "import pandas as pd"
   ]
  },
  {
   "cell_type": "code",
   "execution_count": 13,
   "outputs": [],
   "source": [
    "data_sga = pd.read_csv('./data/matriculassga.csv')\n",
    "data_sva = pd.read_csv('./data/matriculassva.csv')"
   ],
   "metadata": {
    "collapsed": false,
    "ExecuteTime": {
     "end_time": "2023-08-16T22:39:46.497250100Z",
     "start_time": "2023-08-16T22:39:46.356784100Z"
    }
   }
  },
  {
   "cell_type": "code",
   "execution_count": 14,
   "outputs": [
    {
     "data": {
      "text/plain": "       id_curso  id_usuario  semestre\n0          8797        7745        16\n1          8797        8695        16\n2          8797        9374        16\n3          8797        9375        16\n4          8797        9449        16\n...         ...         ...       ...\n36901     14941       11571        16\n36902     14941       10955        16\n36903     14941       10793        16\n36904     14941       11233        16\n36905     14897        7513        16\n\n[36906 rows x 3 columns]",
      "text/html": "<div>\n<style scoped>\n    .dataframe tbody tr th:only-of-type {\n        vertical-align: middle;\n    }\n\n    .dataframe tbody tr th {\n        vertical-align: top;\n    }\n\n    .dataframe thead th {\n        text-align: right;\n    }\n</style>\n<table border=\"1\" class=\"dataframe\">\n  <thead>\n    <tr style=\"text-align: right;\">\n      <th></th>\n      <th>id_curso</th>\n      <th>id_usuario</th>\n      <th>semestre</th>\n    </tr>\n  </thead>\n  <tbody>\n    <tr>\n      <th>0</th>\n      <td>8797</td>\n      <td>7745</td>\n      <td>16</td>\n    </tr>\n    <tr>\n      <th>1</th>\n      <td>8797</td>\n      <td>8695</td>\n      <td>16</td>\n    </tr>\n    <tr>\n      <th>2</th>\n      <td>8797</td>\n      <td>9374</td>\n      <td>16</td>\n    </tr>\n    <tr>\n      <th>3</th>\n      <td>8797</td>\n      <td>9375</td>\n      <td>16</td>\n    </tr>\n    <tr>\n      <th>4</th>\n      <td>8797</td>\n      <td>9449</td>\n      <td>16</td>\n    </tr>\n    <tr>\n      <th>...</th>\n      <td>...</td>\n      <td>...</td>\n      <td>...</td>\n    </tr>\n    <tr>\n      <th>36901</th>\n      <td>14941</td>\n      <td>11571</td>\n      <td>16</td>\n    </tr>\n    <tr>\n      <th>36902</th>\n      <td>14941</td>\n      <td>10955</td>\n      <td>16</td>\n    </tr>\n    <tr>\n      <th>36903</th>\n      <td>14941</td>\n      <td>10793</td>\n      <td>16</td>\n    </tr>\n    <tr>\n      <th>36904</th>\n      <td>14941</td>\n      <td>11233</td>\n      <td>16</td>\n    </tr>\n    <tr>\n      <th>36905</th>\n      <td>14897</td>\n      <td>7513</td>\n      <td>16</td>\n    </tr>\n  </tbody>\n</table>\n<p>36906 rows × 3 columns</p>\n</div>"
     },
     "execution_count": 14,
     "metadata": {},
     "output_type": "execute_result"
    }
   ],
   "source": [
    "data_sga"
   ],
   "metadata": {
    "collapsed": false,
    "ExecuteTime": {
     "end_time": "2023-08-16T22:39:46.497250100Z",
     "start_time": "2023-08-16T22:39:46.397346800Z"
    }
   }
  },
  {
   "cell_type": "code",
   "execution_count": 15,
   "outputs": [
    {
     "data": {
      "text/plain": "       id_curso  id_usuario  semestre\n0          8799       11015        16\n1          8799       11536        16\n2          8799       11101        16\n3          8799       10652        16\n4          8799       10835        16\n...         ...         ...       ...\n36893     14926        1739        16\n36894     14926        2394        16\n36895     14926        2399        16\n36896     14926        3493        16\n36897     14926        4520        16\n\n[36898 rows x 3 columns]",
      "text/html": "<div>\n<style scoped>\n    .dataframe tbody tr th:only-of-type {\n        vertical-align: middle;\n    }\n\n    .dataframe tbody tr th {\n        vertical-align: top;\n    }\n\n    .dataframe thead th {\n        text-align: right;\n    }\n</style>\n<table border=\"1\" class=\"dataframe\">\n  <thead>\n    <tr style=\"text-align: right;\">\n      <th></th>\n      <th>id_curso</th>\n      <th>id_usuario</th>\n      <th>semestre</th>\n    </tr>\n  </thead>\n  <tbody>\n    <tr>\n      <th>0</th>\n      <td>8799</td>\n      <td>11015</td>\n      <td>16</td>\n    </tr>\n    <tr>\n      <th>1</th>\n      <td>8799</td>\n      <td>11536</td>\n      <td>16</td>\n    </tr>\n    <tr>\n      <th>2</th>\n      <td>8799</td>\n      <td>11101</td>\n      <td>16</td>\n    </tr>\n    <tr>\n      <th>3</th>\n      <td>8799</td>\n      <td>10652</td>\n      <td>16</td>\n    </tr>\n    <tr>\n      <th>4</th>\n      <td>8799</td>\n      <td>10835</td>\n      <td>16</td>\n    </tr>\n    <tr>\n      <th>...</th>\n      <td>...</td>\n      <td>...</td>\n      <td>...</td>\n    </tr>\n    <tr>\n      <th>36893</th>\n      <td>14926</td>\n      <td>1739</td>\n      <td>16</td>\n    </tr>\n    <tr>\n      <th>36894</th>\n      <td>14926</td>\n      <td>2394</td>\n      <td>16</td>\n    </tr>\n    <tr>\n      <th>36895</th>\n      <td>14926</td>\n      <td>2399</td>\n      <td>16</td>\n    </tr>\n    <tr>\n      <th>36896</th>\n      <td>14926</td>\n      <td>3493</td>\n      <td>16</td>\n    </tr>\n    <tr>\n      <th>36897</th>\n      <td>14926</td>\n      <td>4520</td>\n      <td>16</td>\n    </tr>\n  </tbody>\n</table>\n<p>36898 rows × 3 columns</p>\n</div>"
     },
     "execution_count": 15,
     "metadata": {},
     "output_type": "execute_result"
    }
   ],
   "source": [
    "data_sva"
   ],
   "metadata": {
    "collapsed": false,
    "ExecuteTime": {
     "end_time": "2023-08-16T22:39:46.513414900Z",
     "start_time": "2023-08-16T22:39:46.406784300Z"
    }
   }
  },
  {
   "cell_type": "code",
   "execution_count": 16,
   "outputs": [
    {
     "data": {
      "text/plain": "       id_curso  id_usuario  semestre _merge\n0          8797        7745        16   both\n1          8797        8695        16   both\n2          8797        9374        16   both\n3          8797        9375        16   both\n4          8797        9449        16   both\n...         ...         ...       ...    ...\n36901     14941       11571        16   both\n36902     14941       10955        16   both\n36903     14941       10793        16   both\n36904     14941       11233        16   both\n36905     14897        7513        16   both\n\n[36906 rows x 4 columns]",
      "text/html": "<div>\n<style scoped>\n    .dataframe tbody tr th:only-of-type {\n        vertical-align: middle;\n    }\n\n    .dataframe tbody tr th {\n        vertical-align: top;\n    }\n\n    .dataframe thead th {\n        text-align: right;\n    }\n</style>\n<table border=\"1\" class=\"dataframe\">\n  <thead>\n    <tr style=\"text-align: right;\">\n      <th></th>\n      <th>id_curso</th>\n      <th>id_usuario</th>\n      <th>semestre</th>\n      <th>_merge</th>\n    </tr>\n  </thead>\n  <tbody>\n    <tr>\n      <th>0</th>\n      <td>8797</td>\n      <td>7745</td>\n      <td>16</td>\n      <td>both</td>\n    </tr>\n    <tr>\n      <th>1</th>\n      <td>8797</td>\n      <td>8695</td>\n      <td>16</td>\n      <td>both</td>\n    </tr>\n    <tr>\n      <th>2</th>\n      <td>8797</td>\n      <td>9374</td>\n      <td>16</td>\n      <td>both</td>\n    </tr>\n    <tr>\n      <th>3</th>\n      <td>8797</td>\n      <td>9375</td>\n      <td>16</td>\n      <td>both</td>\n    </tr>\n    <tr>\n      <th>4</th>\n      <td>8797</td>\n      <td>9449</td>\n      <td>16</td>\n      <td>both</td>\n    </tr>\n    <tr>\n      <th>...</th>\n      <td>...</td>\n      <td>...</td>\n      <td>...</td>\n      <td>...</td>\n    </tr>\n    <tr>\n      <th>36901</th>\n      <td>14941</td>\n      <td>11571</td>\n      <td>16</td>\n      <td>both</td>\n    </tr>\n    <tr>\n      <th>36902</th>\n      <td>14941</td>\n      <td>10955</td>\n      <td>16</td>\n      <td>both</td>\n    </tr>\n    <tr>\n      <th>36903</th>\n      <td>14941</td>\n      <td>10793</td>\n      <td>16</td>\n      <td>both</td>\n    </tr>\n    <tr>\n      <th>36904</th>\n      <td>14941</td>\n      <td>11233</td>\n      <td>16</td>\n      <td>both</td>\n    </tr>\n    <tr>\n      <th>36905</th>\n      <td>14897</td>\n      <td>7513</td>\n      <td>16</td>\n      <td>both</td>\n    </tr>\n  </tbody>\n</table>\n<p>36906 rows × 4 columns</p>\n</div>"
     },
     "execution_count": 16,
     "metadata": {},
     "output_type": "execute_result"
    }
   ],
   "source": [
    "merged_df = pd.merge(data_sga, data_sva, how='outer', indicator=True)\n",
    "merged_df"
   ],
   "metadata": {
    "collapsed": false,
    "ExecuteTime": {
     "end_time": "2023-08-16T22:39:46.513414900Z",
     "start_time": "2023-08-16T22:39:46.423878400Z"
    }
   }
  },
  {
   "cell_type": "code",
   "execution_count": 17,
   "outputs": [
    {
     "data": {
      "text/plain": "       id_curso  id_usuario  semestre _merge\n0          8797        7745        16   both\n1          8797        8695        16   both\n2          8797        9374        16   both\n3          8797        9375        16   both\n4          8797        9449        16   both\n...         ...         ...       ...    ...\n36901     14941       11571        16   both\n36902     14941       10955        16   both\n36903     14941       10793        16   both\n36904     14941       11233        16   both\n36905     14897        7513        16   both\n\n[36898 rows x 4 columns]",
      "text/html": "<div>\n<style scoped>\n    .dataframe tbody tr th:only-of-type {\n        vertical-align: middle;\n    }\n\n    .dataframe tbody tr th {\n        vertical-align: top;\n    }\n\n    .dataframe thead th {\n        text-align: right;\n    }\n</style>\n<table border=\"1\" class=\"dataframe\">\n  <thead>\n    <tr style=\"text-align: right;\">\n      <th></th>\n      <th>id_curso</th>\n      <th>id_usuario</th>\n      <th>semestre</th>\n      <th>_merge</th>\n    </tr>\n  </thead>\n  <tbody>\n    <tr>\n      <th>0</th>\n      <td>8797</td>\n      <td>7745</td>\n      <td>16</td>\n      <td>both</td>\n    </tr>\n    <tr>\n      <th>1</th>\n      <td>8797</td>\n      <td>8695</td>\n      <td>16</td>\n      <td>both</td>\n    </tr>\n    <tr>\n      <th>2</th>\n      <td>8797</td>\n      <td>9374</td>\n      <td>16</td>\n      <td>both</td>\n    </tr>\n    <tr>\n      <th>3</th>\n      <td>8797</td>\n      <td>9375</td>\n      <td>16</td>\n      <td>both</td>\n    </tr>\n    <tr>\n      <th>4</th>\n      <td>8797</td>\n      <td>9449</td>\n      <td>16</td>\n      <td>both</td>\n    </tr>\n    <tr>\n      <th>...</th>\n      <td>...</td>\n      <td>...</td>\n      <td>...</td>\n      <td>...</td>\n    </tr>\n    <tr>\n      <th>36901</th>\n      <td>14941</td>\n      <td>11571</td>\n      <td>16</td>\n      <td>both</td>\n    </tr>\n    <tr>\n      <th>36902</th>\n      <td>14941</td>\n      <td>10955</td>\n      <td>16</td>\n      <td>both</td>\n    </tr>\n    <tr>\n      <th>36903</th>\n      <td>14941</td>\n      <td>10793</td>\n      <td>16</td>\n      <td>both</td>\n    </tr>\n    <tr>\n      <th>36904</th>\n      <td>14941</td>\n      <td>11233</td>\n      <td>16</td>\n      <td>both</td>\n    </tr>\n    <tr>\n      <th>36905</th>\n      <td>14897</td>\n      <td>7513</td>\n      <td>16</td>\n      <td>both</td>\n    </tr>\n  </tbody>\n</table>\n<p>36898 rows × 4 columns</p>\n</div>"
     },
     "execution_count": 17,
     "metadata": {},
     "output_type": "execute_result"
    }
   ],
   "source": [
    "sin_problemas = merged_df[merged_df['_merge'] == 'both']\n",
    "sin_problemas"
   ],
   "metadata": {
    "collapsed": false,
    "ExecuteTime": {
     "end_time": "2023-08-16T22:39:46.513414900Z",
     "start_time": "2023-08-16T22:39:46.446938600Z"
    }
   }
  },
  {
   "cell_type": "code",
   "execution_count": 18,
   "outputs": [
    {
     "data": {
      "text/plain": "       id_curso  id_usuario  semestre     _merge\n5248      11186        7218        16  left_only\n9161      14739       11842        16  left_only\n15989     11777        1479        16  left_only\n21816     12581        1479        16  left_only\n22166     12760       11842        16  left_only\n33579     14538       11842        16  left_only\n34059     14663        1479        16  left_only\n35254     14170       11842        16  left_only",
      "text/html": "<div>\n<style scoped>\n    .dataframe tbody tr th:only-of-type {\n        vertical-align: middle;\n    }\n\n    .dataframe tbody tr th {\n        vertical-align: top;\n    }\n\n    .dataframe thead th {\n        text-align: right;\n    }\n</style>\n<table border=\"1\" class=\"dataframe\">\n  <thead>\n    <tr style=\"text-align: right;\">\n      <th></th>\n      <th>id_curso</th>\n      <th>id_usuario</th>\n      <th>semestre</th>\n      <th>_merge</th>\n    </tr>\n  </thead>\n  <tbody>\n    <tr>\n      <th>5248</th>\n      <td>11186</td>\n      <td>7218</td>\n      <td>16</td>\n      <td>left_only</td>\n    </tr>\n    <tr>\n      <th>9161</th>\n      <td>14739</td>\n      <td>11842</td>\n      <td>16</td>\n      <td>left_only</td>\n    </tr>\n    <tr>\n      <th>15989</th>\n      <td>11777</td>\n      <td>1479</td>\n      <td>16</td>\n      <td>left_only</td>\n    </tr>\n    <tr>\n      <th>21816</th>\n      <td>12581</td>\n      <td>1479</td>\n      <td>16</td>\n      <td>left_only</td>\n    </tr>\n    <tr>\n      <th>22166</th>\n      <td>12760</td>\n      <td>11842</td>\n      <td>16</td>\n      <td>left_only</td>\n    </tr>\n    <tr>\n      <th>33579</th>\n      <td>14538</td>\n      <td>11842</td>\n      <td>16</td>\n      <td>left_only</td>\n    </tr>\n    <tr>\n      <th>34059</th>\n      <td>14663</td>\n      <td>1479</td>\n      <td>16</td>\n      <td>left_only</td>\n    </tr>\n    <tr>\n      <th>35254</th>\n      <td>14170</td>\n      <td>11842</td>\n      <td>16</td>\n      <td>left_only</td>\n    </tr>\n  </tbody>\n</table>\n</div>"
     },
     "execution_count": 18,
     "metadata": {},
     "output_type": "execute_result"
    }
   ],
   "source": [
    "matricula = merged_df[merged_df['_merge'] == 'left_only']\n",
    "matricula   "
   ],
   "metadata": {
    "collapsed": false,
    "ExecuteTime": {
     "end_time": "2023-08-16T22:39:46.513414900Z",
     "start_time": "2023-08-16T22:39:46.461681500Z"
    }
   }
  },
  {
   "cell_type": "code",
   "execution_count": 19,
   "outputs": [
    {
     "data": {
      "text/plain": "Empty DataFrame\nColumns: [id_curso, id_usuario, semestre, _merge]\nIndex: []",
      "text/html": "<div>\n<style scoped>\n    .dataframe tbody tr th:only-of-type {\n        vertical-align: middle;\n    }\n\n    .dataframe tbody tr th {\n        vertical-align: top;\n    }\n\n    .dataframe thead th {\n        text-align: right;\n    }\n</style>\n<table border=\"1\" class=\"dataframe\">\n  <thead>\n    <tr style=\"text-align: right;\">\n      <th></th>\n      <th>id_curso</th>\n      <th>id_usuario</th>\n      <th>semestre</th>\n      <th>_merge</th>\n    </tr>\n  </thead>\n  <tbody>\n  </tbody>\n</table>\n</div>"
     },
     "execution_count": 19,
     "metadata": {},
     "output_type": "execute_result"
    }
   ],
   "source": [
    "desmatricula = merged_df[merged_df['_merge'] == 'right_only']\n",
    "desmatricula"
   ],
   "metadata": {
    "collapsed": false,
    "ExecuteTime": {
     "end_time": "2023-08-16T22:39:46.513414900Z",
     "start_time": "2023-08-16T22:39:46.468191800Z"
    }
   }
  },
  {
   "cell_type": "code",
   "execution_count": 20,
   "outputs": [
    {
     "data": {
      "text/plain": "[(11186, 7218),\n (14739, 11842),\n (11777, 1479),\n (12581, 1479),\n (12760, 11842),\n (14538, 11842),\n (14663, 1479),\n (14170, 11842)]"
     },
     "execution_count": 20,
     "metadata": {},
     "output_type": "execute_result"
    }
   ],
   "source": [
    "matricula_list = list(zip(matricula['id_curso'], matricula['id_usuario']))\n",
    "matricula_list"
   ],
   "metadata": {
    "collapsed": false,
    "ExecuteTime": {
     "end_time": "2023-08-16T22:39:46.513414900Z",
     "start_time": "2023-08-16T22:39:46.478250600Z"
    }
   }
  },
  {
   "cell_type": "code",
   "execution_count": 21,
   "outputs": [
    {
     "data": {
      "text/plain": "[]"
     },
     "execution_count": 21,
     "metadata": {},
     "output_type": "execute_result"
    }
   ],
   "source": [
    "desmatricula_list = list(zip(desmatricula['id_curso'], desmatricula['id_usuario']))\n",
    "desmatricula_list"
   ],
   "metadata": {
    "collapsed": false,
    "ExecuteTime": {
     "end_time": "2023-08-16T22:39:46.525115800Z",
     "start_time": "2023-08-16T22:39:46.486122600Z"
    }
   }
  },
  {
   "cell_type": "code",
   "execution_count": 21,
   "outputs": [],
   "source": [],
   "metadata": {
    "collapsed": false,
    "ExecuteTime": {
     "end_time": "2023-08-16T22:39:46.533626900Z",
     "start_time": "2023-08-16T22:39:46.501758300Z"
    }
   }
  },
  {
   "cell_type": "markdown",
   "source": [],
   "metadata": {
    "collapsed": false
   }
  }
 ],
 "metadata": {
  "kernelspec": {
   "display_name": "Python 3",
   "language": "python",
   "name": "python3"
  },
  "language_info": {
   "codemirror_mode": {
    "name": "ipython",
    "version": 2
   },
   "file_extension": ".py",
   "mimetype": "text/x-python",
   "name": "python",
   "nbconvert_exporter": "python",
   "pygments_lexer": "ipython2",
   "version": "2.7.6"
  }
 },
 "nbformat": 4,
 "nbformat_minor": 0
}
