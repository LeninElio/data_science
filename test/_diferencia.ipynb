{
 "cells": [
  {
   "cell_type": "code",
   "execution_count": 20,
   "metadata": {
    "collapsed": true,
    "ExecuteTime": {
     "end_time": "2023-07-15T19:42:23.204457Z",
     "start_time": "2023-07-15T19:42:23.184843Z"
    }
   },
   "outputs": [],
   "source": [
    "import pandas as pd"
   ]
  },
  {
   "cell_type": "code",
   "execution_count": 21,
   "outputs": [],
   "source": [
    "data_sga = pd.read_csv('./data/matriculassga.csv')\n",
    "data_sva = pd.read_csv('./data/matriculassva.csv')"
   ],
   "metadata": {
    "collapsed": false,
    "ExecuteTime": {
     "end_time": "2023-07-15T19:42:23.825357Z",
     "start_time": "2023-07-15T19:42:23.808738700Z"
    }
   }
  },
  {
   "cell_type": "code",
   "execution_count": 23,
   "outputs": [
    {
     "data": {
      "text/plain": "   id_curso  id_usuario  semestre\n0      9152        7127        16\n1      9155        7127        16\n2      9318          71        16\n3     10593          43        16\n4     10593          71        16\n5     10617         132        16\n6     10625          43        16",
      "text/html": "<div>\n<style scoped>\n    .dataframe tbody tr th:only-of-type {\n        vertical-align: middle;\n    }\n\n    .dataframe tbody tr th {\n        vertical-align: top;\n    }\n\n    .dataframe thead th {\n        text-align: right;\n    }\n</style>\n<table border=\"1\" class=\"dataframe\">\n  <thead>\n    <tr style=\"text-align: right;\">\n      <th></th>\n      <th>id_curso</th>\n      <th>id_usuario</th>\n      <th>semestre</th>\n    </tr>\n  </thead>\n  <tbody>\n    <tr>\n      <th>0</th>\n      <td>9152</td>\n      <td>7127</td>\n      <td>16</td>\n    </tr>\n    <tr>\n      <th>1</th>\n      <td>9155</td>\n      <td>7127</td>\n      <td>16</td>\n    </tr>\n    <tr>\n      <th>2</th>\n      <td>9318</td>\n      <td>71</td>\n      <td>16</td>\n    </tr>\n    <tr>\n      <th>3</th>\n      <td>10593</td>\n      <td>43</td>\n      <td>16</td>\n    </tr>\n    <tr>\n      <th>4</th>\n      <td>10593</td>\n      <td>71</td>\n      <td>16</td>\n    </tr>\n    <tr>\n      <th>5</th>\n      <td>10617</td>\n      <td>132</td>\n      <td>16</td>\n    </tr>\n    <tr>\n      <th>6</th>\n      <td>10625</td>\n      <td>43</td>\n      <td>16</td>\n    </tr>\n  </tbody>\n</table>\n</div>"
     },
     "execution_count": 23,
     "metadata": {},
     "output_type": "execute_result"
    }
   ],
   "source": [
    "data_sga"
   ],
   "metadata": {
    "collapsed": false,
    "ExecuteTime": {
     "end_time": "2023-07-15T19:42:44.108747500Z",
     "start_time": "2023-07-15T19:42:44.067995600Z"
    }
   }
  },
  {
   "cell_type": "code",
   "execution_count": 22,
   "outputs": [
    {
     "data": {
      "text/plain": "   id_curso  id_usuario  semestre\n0     13068        4758        16\n1     11761        8276        16\n2      9910        9888        16\n3     10593          43        16\n4     10593          71        16\n5     10617         132        16\n6     10625          43        16",
      "text/html": "<div>\n<style scoped>\n    .dataframe tbody tr th:only-of-type {\n        vertical-align: middle;\n    }\n\n    .dataframe tbody tr th {\n        vertical-align: top;\n    }\n\n    .dataframe thead th {\n        text-align: right;\n    }\n</style>\n<table border=\"1\" class=\"dataframe\">\n  <thead>\n    <tr style=\"text-align: right;\">\n      <th></th>\n      <th>id_curso</th>\n      <th>id_usuario</th>\n      <th>semestre</th>\n    </tr>\n  </thead>\n  <tbody>\n    <tr>\n      <th>0</th>\n      <td>13068</td>\n      <td>4758</td>\n      <td>16</td>\n    </tr>\n    <tr>\n      <th>1</th>\n      <td>11761</td>\n      <td>8276</td>\n      <td>16</td>\n    </tr>\n    <tr>\n      <th>2</th>\n      <td>9910</td>\n      <td>9888</td>\n      <td>16</td>\n    </tr>\n    <tr>\n      <th>3</th>\n      <td>10593</td>\n      <td>43</td>\n      <td>16</td>\n    </tr>\n    <tr>\n      <th>4</th>\n      <td>10593</td>\n      <td>71</td>\n      <td>16</td>\n    </tr>\n    <tr>\n      <th>5</th>\n      <td>10617</td>\n      <td>132</td>\n      <td>16</td>\n    </tr>\n    <tr>\n      <th>6</th>\n      <td>10625</td>\n      <td>43</td>\n      <td>16</td>\n    </tr>\n  </tbody>\n</table>\n</div>"
     },
     "execution_count": 22,
     "metadata": {},
     "output_type": "execute_result"
    }
   ],
   "source": [
    "data_sva"
   ],
   "metadata": {
    "collapsed": false,
    "ExecuteTime": {
     "end_time": "2023-07-15T19:42:24.764271600Z",
     "start_time": "2023-07-15T19:42:24.735745800Z"
    }
   }
  },
  {
   "cell_type": "code",
   "execution_count": 24,
   "outputs": [
    {
     "data": {
      "text/plain": "   id_curso  id_usuario  semestre      _merge\n0      9152        7127        16   left_only\n1      9155        7127        16   left_only\n2      9318          71        16   left_only\n3     10593          43        16        both\n4     10593          71        16        both\n5     10617         132        16        both\n6     10625          43        16        both\n7     13068        4758        16  right_only\n8     11761        8276        16  right_only\n9      9910        9888        16  right_only",
      "text/html": "<div>\n<style scoped>\n    .dataframe tbody tr th:only-of-type {\n        vertical-align: middle;\n    }\n\n    .dataframe tbody tr th {\n        vertical-align: top;\n    }\n\n    .dataframe thead th {\n        text-align: right;\n    }\n</style>\n<table border=\"1\" class=\"dataframe\">\n  <thead>\n    <tr style=\"text-align: right;\">\n      <th></th>\n      <th>id_curso</th>\n      <th>id_usuario</th>\n      <th>semestre</th>\n      <th>_merge</th>\n    </tr>\n  </thead>\n  <tbody>\n    <tr>\n      <th>0</th>\n      <td>9152</td>\n      <td>7127</td>\n      <td>16</td>\n      <td>left_only</td>\n    </tr>\n    <tr>\n      <th>1</th>\n      <td>9155</td>\n      <td>7127</td>\n      <td>16</td>\n      <td>left_only</td>\n    </tr>\n    <tr>\n      <th>2</th>\n      <td>9318</td>\n      <td>71</td>\n      <td>16</td>\n      <td>left_only</td>\n    </tr>\n    <tr>\n      <th>3</th>\n      <td>10593</td>\n      <td>43</td>\n      <td>16</td>\n      <td>both</td>\n    </tr>\n    <tr>\n      <th>4</th>\n      <td>10593</td>\n      <td>71</td>\n      <td>16</td>\n      <td>both</td>\n    </tr>\n    <tr>\n      <th>5</th>\n      <td>10617</td>\n      <td>132</td>\n      <td>16</td>\n      <td>both</td>\n    </tr>\n    <tr>\n      <th>6</th>\n      <td>10625</td>\n      <td>43</td>\n      <td>16</td>\n      <td>both</td>\n    </tr>\n    <tr>\n      <th>7</th>\n      <td>13068</td>\n      <td>4758</td>\n      <td>16</td>\n      <td>right_only</td>\n    </tr>\n    <tr>\n      <th>8</th>\n      <td>11761</td>\n      <td>8276</td>\n      <td>16</td>\n      <td>right_only</td>\n    </tr>\n    <tr>\n      <th>9</th>\n      <td>9910</td>\n      <td>9888</td>\n      <td>16</td>\n      <td>right_only</td>\n    </tr>\n  </tbody>\n</table>\n</div>"
     },
     "execution_count": 24,
     "metadata": {},
     "output_type": "execute_result"
    }
   ],
   "source": [
    "merged_df = pd.merge(data_sga, data_sva, how='outer', indicator=True)\n",
    "merged_df"
   ],
   "metadata": {
    "collapsed": false,
    "ExecuteTime": {
     "end_time": "2023-07-15T19:42:48.723967700Z",
     "start_time": "2023-07-15T19:42:48.696888600Z"
    }
   }
  },
  {
   "cell_type": "code",
   "execution_count": 29,
   "outputs": [
    {
     "data": {
      "text/plain": "   id_curso  id_usuario  semestre _merge\n3     10593          43        16   both\n4     10593          71        16   both\n5     10617         132        16   both\n6     10625          43        16   both",
      "text/html": "<div>\n<style scoped>\n    .dataframe tbody tr th:only-of-type {\n        vertical-align: middle;\n    }\n\n    .dataframe tbody tr th {\n        vertical-align: top;\n    }\n\n    .dataframe thead th {\n        text-align: right;\n    }\n</style>\n<table border=\"1\" class=\"dataframe\">\n  <thead>\n    <tr style=\"text-align: right;\">\n      <th></th>\n      <th>id_curso</th>\n      <th>id_usuario</th>\n      <th>semestre</th>\n      <th>_merge</th>\n    </tr>\n  </thead>\n  <tbody>\n    <tr>\n      <th>3</th>\n      <td>10593</td>\n      <td>43</td>\n      <td>16</td>\n      <td>both</td>\n    </tr>\n    <tr>\n      <th>4</th>\n      <td>10593</td>\n      <td>71</td>\n      <td>16</td>\n      <td>both</td>\n    </tr>\n    <tr>\n      <th>5</th>\n      <td>10617</td>\n      <td>132</td>\n      <td>16</td>\n      <td>both</td>\n    </tr>\n    <tr>\n      <th>6</th>\n      <td>10625</td>\n      <td>43</td>\n      <td>16</td>\n      <td>both</td>\n    </tr>\n  </tbody>\n</table>\n</div>"
     },
     "execution_count": 29,
     "metadata": {},
     "output_type": "execute_result"
    }
   ],
   "source": [
    "sin_problemas = merged_df[merged_df['_merge'] == 'both']\n",
    "sin_problemas"
   ],
   "metadata": {
    "collapsed": false,
    "ExecuteTime": {
     "end_time": "2023-07-15T19:49:36.376348300Z",
     "start_time": "2023-07-15T19:49:36.350769400Z"
    }
   }
  },
  {
   "cell_type": "code",
   "execution_count": 26,
   "outputs": [
    {
     "data": {
      "text/plain": "   id_curso  id_usuario  semestre     _merge\n0      9152        7127        16  left_only\n1      9155        7127        16  left_only\n2      9318          71        16  left_only",
      "text/html": "<div>\n<style scoped>\n    .dataframe tbody tr th:only-of-type {\n        vertical-align: middle;\n    }\n\n    .dataframe tbody tr th {\n        vertical-align: top;\n    }\n\n    .dataframe thead th {\n        text-align: right;\n    }\n</style>\n<table border=\"1\" class=\"dataframe\">\n  <thead>\n    <tr style=\"text-align: right;\">\n      <th></th>\n      <th>id_curso</th>\n      <th>id_usuario</th>\n      <th>semestre</th>\n      <th>_merge</th>\n    </tr>\n  </thead>\n  <tbody>\n    <tr>\n      <th>0</th>\n      <td>9152</td>\n      <td>7127</td>\n      <td>16</td>\n      <td>left_only</td>\n    </tr>\n    <tr>\n      <th>1</th>\n      <td>9155</td>\n      <td>7127</td>\n      <td>16</td>\n      <td>left_only</td>\n    </tr>\n    <tr>\n      <th>2</th>\n      <td>9318</td>\n      <td>71</td>\n      <td>16</td>\n      <td>left_only</td>\n    </tr>\n  </tbody>\n</table>\n</div>"
     },
     "execution_count": 26,
     "metadata": {},
     "output_type": "execute_result"
    }
   ],
   "source": [
    "matricula = merged_df[merged_df['_merge'] == 'left_only']\n",
    "matricula"
   ],
   "metadata": {
    "collapsed": false,
    "ExecuteTime": {
     "end_time": "2023-07-15T19:48:31.831390700Z",
     "start_time": "2023-07-15T19:48:31.809901200Z"
    }
   }
  },
  {
   "cell_type": "code",
   "execution_count": 34,
   "outputs": [
    {
     "data": {
      "text/plain": "   id_curso  id_usuario  semestre      _merge\n7     13068        4758        16  right_only\n8     11761        8276        16  right_only\n9      9910        9888        16  right_only",
      "text/html": "<div>\n<style scoped>\n    .dataframe tbody tr th:only-of-type {\n        vertical-align: middle;\n    }\n\n    .dataframe tbody tr th {\n        vertical-align: top;\n    }\n\n    .dataframe thead th {\n        text-align: right;\n    }\n</style>\n<table border=\"1\" class=\"dataframe\">\n  <thead>\n    <tr style=\"text-align: right;\">\n      <th></th>\n      <th>id_curso</th>\n      <th>id_usuario</th>\n      <th>semestre</th>\n      <th>_merge</th>\n    </tr>\n  </thead>\n  <tbody>\n    <tr>\n      <th>7</th>\n      <td>13068</td>\n      <td>4758</td>\n      <td>16</td>\n      <td>right_only</td>\n    </tr>\n    <tr>\n      <th>8</th>\n      <td>11761</td>\n      <td>8276</td>\n      <td>16</td>\n      <td>right_only</td>\n    </tr>\n    <tr>\n      <th>9</th>\n      <td>9910</td>\n      <td>9888</td>\n      <td>16</td>\n      <td>right_only</td>\n    </tr>\n  </tbody>\n</table>\n</div>"
     },
     "execution_count": 34,
     "metadata": {},
     "output_type": "execute_result"
    }
   ],
   "source": [
    "desmatricula = merged_df[merged_df['_merge'] == 'right_only']\n",
    "desmatricula"
   ],
   "metadata": {
    "collapsed": false,
    "ExecuteTime": {
     "end_time": "2023-07-15T19:57:43.405639100Z",
     "start_time": "2023-07-15T19:57:43.143687700Z"
    }
   }
  },
  {
   "cell_type": "code",
   "execution_count": 31,
   "outputs": [
    {
     "data": {
      "text/plain": "[(9152, 7127), (9155, 7127), (9318, 71)]"
     },
     "execution_count": 31,
     "metadata": {},
     "output_type": "execute_result"
    }
   ],
   "source": [
    "matricula_list = list(zip(matricula['id_curso'], matricula['id_usuario']))\n",
    "matricula_list"
   ],
   "metadata": {
    "collapsed": false,
    "ExecuteTime": {
     "end_time": "2023-07-15T19:54:07.746811100Z",
     "start_time": "2023-07-15T19:54:07.709331100Z"
    }
   }
  },
  {
   "cell_type": "code",
   "execution_count": 32,
   "outputs": [
    {
     "data": {
      "text/plain": "[(13068, 4758), (11761, 8276), (9910, 9888)]"
     },
     "execution_count": 32,
     "metadata": {},
     "output_type": "execute_result"
    }
   ],
   "source": [
    "desmatricula_list = list(zip(desmatricula['id_curso'], desmatricula['id_usuario']))\n",
    "desmatricula_list"
   ],
   "metadata": {
    "collapsed": false,
    "ExecuteTime": {
     "end_time": "2023-07-15T19:54:15.390760200Z",
     "start_time": "2023-07-15T19:54:15.385574900Z"
    }
   }
  },
  {
   "cell_type": "code",
   "execution_count": null,
   "outputs": [],
   "source": [],
   "metadata": {
    "collapsed": false
   }
  },
  {
   "cell_type": "markdown",
   "source": [],
   "metadata": {
    "collapsed": false
   }
  }
 ],
 "metadata": {
  "kernelspec": {
   "display_name": "Python 3",
   "language": "python",
   "name": "python3"
  },
  "language_info": {
   "codemirror_mode": {
    "name": "ipython",
    "version": 2
   },
   "file_extension": ".py",
   "mimetype": "text/x-python",
   "name": "python",
   "nbconvert_exporter": "python",
   "pygments_lexer": "ipython2",
   "version": "2.7.6"
  }
 },
 "nbformat": 4,
 "nbformat_minor": 0
}
