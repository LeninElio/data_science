{
 "cells": [
  {
   "cell_type": "code",
   "execution_count": 1,
   "id": "initial_id",
   "metadata": {
    "collapsed": true,
    "ExecuteTime": {
     "end_time": "2024-02-03T18:07:05.435590Z",
     "start_time": "2024-02-03T18:07:02.595311100Z"
    }
   },
   "outputs": [],
   "source": [
    "import pandas as pd"
   ]
  },
  {
   "cell_type": "code",
   "outputs": [
    {
     "data": {
      "text/plain": "                                      nombrecompleto  \\\n0  ABASTECIMIENTO DE AGUA Y ALCANTARILLADO, ING. ...   \n1  ACONDICIONAMIENTO AMBIENTAL I, ARQUI. Y URB., ...   \n2  ACONDICIONAMIENTO AMBIENTAL I, ARQUI. Y URB., ...   \n3    ACTIVIDAD FORMATIVA I, ING. SISTEMAS, 2020-1, 1   \n4   ACTIVIDAD FORMATIVA II, ING. SISTEMAS, 2020-1, 1   \n\n                               nombrecorto  categoriaid  fechainicio semestre  \\\n0  ABASTECIMIENTO DE AGUA Y ALCANTARILLADO          279   1597035600   2020-1   \n1            ACONDICIONAMIENTO AMBIENTAL I          264   1597035600   2020-1   \n2            ACONDICIONAMIENTO AMBIENTAL I          264   1598850000   2020-1   \n3                    ACTIVIDAD FORMATIVA I          199   1598850000   2020-1   \n4                   ACTIVIDAD FORMATIVA II          201   1597035600   2020-1   \n\n               idcurso  id_moodle  eliminado  practica  programado  \n0  2020-1-11688-150356          4          0         0      150356  \n1  2020-1-12866-149773          5          0         0      149773  \n2  2020-1-12866-150241          6          0         0      150241  \n3  2020-1-12453-149500          7          0         0      149500  \n4  2020-1-12467-149851          8          0         0      149851  ",
      "text/html": "<div>\n<style scoped>\n    .dataframe tbody tr th:only-of-type {\n        vertical-align: middle;\n    }\n\n    .dataframe tbody tr th {\n        vertical-align: top;\n    }\n\n    .dataframe thead th {\n        text-align: right;\n    }\n</style>\n<table border=\"1\" class=\"dataframe\">\n  <thead>\n    <tr style=\"text-align: right;\">\n      <th></th>\n      <th>nombrecompleto</th>\n      <th>nombrecorto</th>\n      <th>categoriaid</th>\n      <th>fechainicio</th>\n      <th>semestre</th>\n      <th>idcurso</th>\n      <th>id_moodle</th>\n      <th>eliminado</th>\n      <th>practica</th>\n      <th>programado</th>\n    </tr>\n  </thead>\n  <tbody>\n    <tr>\n      <th>0</th>\n      <td>ABASTECIMIENTO DE AGUA Y ALCANTARILLADO, ING. ...</td>\n      <td>ABASTECIMIENTO DE AGUA Y ALCANTARILLADO</td>\n      <td>279</td>\n      <td>1597035600</td>\n      <td>2020-1</td>\n      <td>2020-1-11688-150356</td>\n      <td>4</td>\n      <td>0</td>\n      <td>0</td>\n      <td>150356</td>\n    </tr>\n    <tr>\n      <th>1</th>\n      <td>ACONDICIONAMIENTO AMBIENTAL I, ARQUI. Y URB., ...</td>\n      <td>ACONDICIONAMIENTO AMBIENTAL I</td>\n      <td>264</td>\n      <td>1597035600</td>\n      <td>2020-1</td>\n      <td>2020-1-12866-149773</td>\n      <td>5</td>\n      <td>0</td>\n      <td>0</td>\n      <td>149773</td>\n    </tr>\n    <tr>\n      <th>2</th>\n      <td>ACONDICIONAMIENTO AMBIENTAL I, ARQUI. Y URB., ...</td>\n      <td>ACONDICIONAMIENTO AMBIENTAL I</td>\n      <td>264</td>\n      <td>1598850000</td>\n      <td>2020-1</td>\n      <td>2020-1-12866-150241</td>\n      <td>6</td>\n      <td>0</td>\n      <td>0</td>\n      <td>150241</td>\n    </tr>\n    <tr>\n      <th>3</th>\n      <td>ACTIVIDAD FORMATIVA I, ING. SISTEMAS, 2020-1, 1</td>\n      <td>ACTIVIDAD FORMATIVA I</td>\n      <td>199</td>\n      <td>1598850000</td>\n      <td>2020-1</td>\n      <td>2020-1-12453-149500</td>\n      <td>7</td>\n      <td>0</td>\n      <td>0</td>\n      <td>149500</td>\n    </tr>\n    <tr>\n      <th>4</th>\n      <td>ACTIVIDAD FORMATIVA II, ING. SISTEMAS, 2020-1, 1</td>\n      <td>ACTIVIDAD FORMATIVA II</td>\n      <td>201</td>\n      <td>1597035600</td>\n      <td>2020-1</td>\n      <td>2020-1-12467-149851</td>\n      <td>8</td>\n      <td>0</td>\n      <td>0</td>\n      <td>149851</td>\n    </tr>\n  </tbody>\n</table>\n</div>"
     },
     "execution_count": 2,
     "metadata": {},
     "output_type": "execute_result"
    }
   ],
   "source": [
    "df = pd.read_csv('./data/cursos.csv')\n",
    "df.head()"
   ],
   "metadata": {
    "collapsed": false,
    "ExecuteTime": {
     "end_time": "2024-02-03T18:07:06.296647Z",
     "start_time": "2024-02-03T18:07:06.235899800Z"
    }
   },
   "id": "6052ae31adec803a",
   "execution_count": 2
  },
  {
   "cell_type": "code",
   "outputs": [],
   "source": [
    "# transforma la columna categoriaid de string a int\n",
    "df['categoriaid'] = df['categoriaid'].astype(int)"
   ],
   "metadata": {
    "collapsed": false,
    "ExecuteTime": {
     "end_time": "2024-02-03T18:07:41.149453Z",
     "start_time": "2024-02-03T18:07:41.125667300Z"
    }
   },
   "id": "66fdad6f8fc33b29",
   "execution_count": 3
  },
  {
   "cell_type": "code",
   "outputs": [
    {
     "data": {
      "text/plain": "                                       nombrecompleto  \\\n0   ABASTECIMIENTO DE AGUA Y ALCANTARILLADO, ING. ...   \n1   ACONDICIONAMIENTO AMBIENTAL I, ARQUI. Y URB., ...   \n2   ACONDICIONAMIENTO AMBIENTAL I, ARQUI. Y URB., ...   \n3     ACTIVIDAD FORMATIVA I, ING. SISTEMAS, 2020-1, 1   \n4    ACTIVIDAD FORMATIVA II, ING. SISTEMAS, 2020-1, 1   \n..                                                ...   \n95    ARQUEOLOGÍA REGIONAL II, ARQUEOLOGÍA, 2020-1, 1   \n96    ARQUEOLOGÍA REGIONAL IV, ARQUEOLOGÍA, 2020-1, 1   \n97                                             ADC G1   \n98                                             ADC G2   \n99                                            ADC EeI   \n\n                                          nombrecorto  categoriaid  \\\n0             ABASTECIMIENTO DE AGUA Y ALCANTARILLADO          279   \n1                       ACONDICIONAMIENTO AMBIENTAL I          264   \n2                       ACONDICIONAMIENTO AMBIENTAL I          264   \n3                               ACTIVIDAD FORMATIVA I          199   \n4                              ACTIVIDAD FORMATIVA II          201   \n..                                                ...          ...   \n95                            ARQUEOLOGÍA REGIONAL II          107   \n96                            ARQUEOLOGÍA REGIONAL IV          104   \n97  ARQUITECTURA DEL COMPUTADOR Y SISTEMAS OPERATIVOS          206   \n98  ARQUITECTURA DEL COMPUTADOR Y SISTEMAS OPERATIVOS          206   \n99                        ARQUITECTURA DEL COMPUTADOR          193   \n\n    fechainicio semestre              idcurso  id_moodle  eliminado  practica  \\\n0    1597035600   2020-1  2020-1-11688-150356          4          0         0   \n1    1597035600   2020-1  2020-1-12866-149773          5          0         0   \n2    1598850000   2020-1  2020-1-12866-150241          6          0         0   \n3    1598850000   2020-1  2020-1-12453-149500          7          0         0   \n4    1597035600   2020-1  2020-1-12467-149851          8          0         0   \n..          ...      ...                  ...        ...        ...       ...   \n95   1597035600   2020-1  2020-1-12718-149925        100          0         0   \n96   1625461200   2021-1  2021-1-12740-149926        101          0         0   \n97   1598852400   2020-1  2020-1-12492-148861        102          0         0   \n98   1598884440   2020-1  2020-1-12492-149529        103          0         0   \n99   1598850000   2020-1  2020-1-11315-149535        104          0         0   \n\n    programado  \n0       150356  \n1       149773  \n2       150241  \n3       149500  \n4       149851  \n..         ...  \n95      149925  \n96      149926  \n97      148861  \n98      149529  \n99      149535  \n\n[100 rows x 10 columns]",
      "text/html": "<div>\n<style scoped>\n    .dataframe tbody tr th:only-of-type {\n        vertical-align: middle;\n    }\n\n    .dataframe tbody tr th {\n        vertical-align: top;\n    }\n\n    .dataframe thead th {\n        text-align: right;\n    }\n</style>\n<table border=\"1\" class=\"dataframe\">\n  <thead>\n    <tr style=\"text-align: right;\">\n      <th></th>\n      <th>nombrecompleto</th>\n      <th>nombrecorto</th>\n      <th>categoriaid</th>\n      <th>fechainicio</th>\n      <th>semestre</th>\n      <th>idcurso</th>\n      <th>id_moodle</th>\n      <th>eliminado</th>\n      <th>practica</th>\n      <th>programado</th>\n    </tr>\n  </thead>\n  <tbody>\n    <tr>\n      <th>0</th>\n      <td>ABASTECIMIENTO DE AGUA Y ALCANTARILLADO, ING. ...</td>\n      <td>ABASTECIMIENTO DE AGUA Y ALCANTARILLADO</td>\n      <td>279</td>\n      <td>1597035600</td>\n      <td>2020-1</td>\n      <td>2020-1-11688-150356</td>\n      <td>4</td>\n      <td>0</td>\n      <td>0</td>\n      <td>150356</td>\n    </tr>\n    <tr>\n      <th>1</th>\n      <td>ACONDICIONAMIENTO AMBIENTAL I, ARQUI. Y URB., ...</td>\n      <td>ACONDICIONAMIENTO AMBIENTAL I</td>\n      <td>264</td>\n      <td>1597035600</td>\n      <td>2020-1</td>\n      <td>2020-1-12866-149773</td>\n      <td>5</td>\n      <td>0</td>\n      <td>0</td>\n      <td>149773</td>\n    </tr>\n    <tr>\n      <th>2</th>\n      <td>ACONDICIONAMIENTO AMBIENTAL I, ARQUI. Y URB., ...</td>\n      <td>ACONDICIONAMIENTO AMBIENTAL I</td>\n      <td>264</td>\n      <td>1598850000</td>\n      <td>2020-1</td>\n      <td>2020-1-12866-150241</td>\n      <td>6</td>\n      <td>0</td>\n      <td>0</td>\n      <td>150241</td>\n    </tr>\n    <tr>\n      <th>3</th>\n      <td>ACTIVIDAD FORMATIVA I, ING. SISTEMAS, 2020-1, 1</td>\n      <td>ACTIVIDAD FORMATIVA I</td>\n      <td>199</td>\n      <td>1598850000</td>\n      <td>2020-1</td>\n      <td>2020-1-12453-149500</td>\n      <td>7</td>\n      <td>0</td>\n      <td>0</td>\n      <td>149500</td>\n    </tr>\n    <tr>\n      <th>4</th>\n      <td>ACTIVIDAD FORMATIVA II, ING. SISTEMAS, 2020-1, 1</td>\n      <td>ACTIVIDAD FORMATIVA II</td>\n      <td>201</td>\n      <td>1597035600</td>\n      <td>2020-1</td>\n      <td>2020-1-12467-149851</td>\n      <td>8</td>\n      <td>0</td>\n      <td>0</td>\n      <td>149851</td>\n    </tr>\n    <tr>\n      <th>...</th>\n      <td>...</td>\n      <td>...</td>\n      <td>...</td>\n      <td>...</td>\n      <td>...</td>\n      <td>...</td>\n      <td>...</td>\n      <td>...</td>\n      <td>...</td>\n      <td>...</td>\n    </tr>\n    <tr>\n      <th>95</th>\n      <td>ARQUEOLOGÍA REGIONAL II, ARQUEOLOGÍA, 2020-1, 1</td>\n      <td>ARQUEOLOGÍA REGIONAL II</td>\n      <td>107</td>\n      <td>1597035600</td>\n      <td>2020-1</td>\n      <td>2020-1-12718-149925</td>\n      <td>100</td>\n      <td>0</td>\n      <td>0</td>\n      <td>149925</td>\n    </tr>\n    <tr>\n      <th>96</th>\n      <td>ARQUEOLOGÍA REGIONAL IV, ARQUEOLOGÍA, 2020-1, 1</td>\n      <td>ARQUEOLOGÍA REGIONAL IV</td>\n      <td>104</td>\n      <td>1625461200</td>\n      <td>2021-1</td>\n      <td>2021-1-12740-149926</td>\n      <td>101</td>\n      <td>0</td>\n      <td>0</td>\n      <td>149926</td>\n    </tr>\n    <tr>\n      <th>97</th>\n      <td>ADC G1</td>\n      <td>ARQUITECTURA DEL COMPUTADOR Y SISTEMAS OPERATIVOS</td>\n      <td>206</td>\n      <td>1598852400</td>\n      <td>2020-1</td>\n      <td>2020-1-12492-148861</td>\n      <td>102</td>\n      <td>0</td>\n      <td>0</td>\n      <td>148861</td>\n    </tr>\n    <tr>\n      <th>98</th>\n      <td>ADC G2</td>\n      <td>ARQUITECTURA DEL COMPUTADOR Y SISTEMAS OPERATIVOS</td>\n      <td>206</td>\n      <td>1598884440</td>\n      <td>2020-1</td>\n      <td>2020-1-12492-149529</td>\n      <td>103</td>\n      <td>0</td>\n      <td>0</td>\n      <td>149529</td>\n    </tr>\n    <tr>\n      <th>99</th>\n      <td>ADC EeI</td>\n      <td>ARQUITECTURA DEL COMPUTADOR</td>\n      <td>193</td>\n      <td>1598850000</td>\n      <td>2020-1</td>\n      <td>2020-1-11315-149535</td>\n      <td>104</td>\n      <td>0</td>\n      <td>0</td>\n      <td>149535</td>\n    </tr>\n  </tbody>\n</table>\n<p>100 rows × 10 columns</p>\n</div>"
     },
     "execution_count": 4,
     "metadata": {},
     "output_type": "execute_result"
    }
   ],
   "source": [
    "df"
   ],
   "metadata": {
    "collapsed": false,
    "ExecuteTime": {
     "end_time": "2024-02-03T18:07:44.347779400Z",
     "start_time": "2024-02-03T18:07:44.323921600Z"
    }
   },
   "id": "ba0e1d83c0a1960f",
   "execution_count": 4
  },
  {
   "cell_type": "code",
   "outputs": [],
   "source": [
    "# exporta los resultados de df en un csv con delimitador ; tambien usa la codificacion utf-8\n",
    "df.to_csv('./data/cursos_limpio.csv', sep=';', encoding='utf-8', index=False)"
   ],
   "metadata": {
    "collapsed": false,
    "ExecuteTime": {
     "end_time": "2024-02-03T18:59:57.247576700Z",
     "start_time": "2024-02-03T18:59:57.238815800Z"
    }
   },
   "id": "a5909abc37bb6f4a",
   "execution_count": 7
  },
  {
   "cell_type": "code",
   "outputs": [],
   "source": [],
   "metadata": {
    "collapsed": false
   },
   "id": "24435e8c236c065"
  }
 ],
 "metadata": {
  "kernelspec": {
   "display_name": "Python 3",
   "language": "python",
   "name": "python3"
  },
  "language_info": {
   "codemirror_mode": {
    "name": "ipython",
    "version": 2
   },
   "file_extension": ".py",
   "mimetype": "text/x-python",
   "name": "python",
   "nbconvert_exporter": "python",
   "pygments_lexer": "ipython2",
   "version": "2.7.6"
  }
 },
 "nbformat": 4,
 "nbformat_minor": 5
}
