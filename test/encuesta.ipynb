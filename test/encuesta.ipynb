{
 "cells": [
  {
   "cell_type": "code",
   "execution_count": 7,
   "id": "initial_id",
   "metadata": {
    "collapsed": true,
    "ExecuteTime": {
     "end_time": "2023-12-21T13:49:15.560022400Z",
     "start_time": "2023-12-21T13:49:15.547377800Z"
    }
   },
   "outputs": [],
   "source": [
    "import pandas as pd"
   ]
  },
  {
   "cell_type": "code",
   "execution_count": 8,
   "outputs": [],
   "source": [
    "df = pd.read_excel(\"./data/encuesta2022.xlsx\")"
   ],
   "metadata": {
    "collapsed": false,
    "ExecuteTime": {
     "end_time": "2023-12-21T13:49:16.638347700Z",
     "start_time": "2023-12-21T13:49:15.749705900Z"
    }
   },
   "id": "b859acd6a9d54ff5"
  },
  {
   "cell_type": "code",
   "execution_count": 9,
   "outputs": [
    {
     "data": {
      "text/plain": "              Marca temporal            1.-¿A que escuela pertenece?  \\\n0    2023-04-27 00:28:54.828                        Ingeniería Civil   \n1    2023-04-27 00:29:13.299    Ingeniería de Sistemas e Infromática   \n2    2023-04-27 00:29:32.629   Ingeniería de Industrias Alimentarias   \n3    2023-04-27 00:32:03.241                        Ingeniería Civil   \n4    2023-04-27 00:32:50.674                     Ingeniería Agrícola   \n...                      ...                                     ...   \n4859 2023-05-15 08:49:34.138                     Ingeniería Agrícola   \n4860 2023-05-15 09:26:10.676  Educación Primaria e Interculturalidad   \n4861 2023-05-15 09:28:46.115    Ingeniería de Sistemas e Infromática   \n4862 2023-05-15 09:29:22.000    Ingeniería de Sistemas e Infromática   \n4863 2023-05-23 09:17:27.514                            Contabilidad   \n\n       2.- Sexo  \\\n0     Masculino   \n1     Masculino   \n2      Femenino   \n3     Masculino   \n4     Masculino   \n...         ...   \n4859  Masculino   \n4860   Femenino   \n4861  Masculino   \n4862  Masculino   \n4863  Masculino   \n\n     3.\\t¿Cómo calificaría el Sistema de  Gestión Académica (SGA) en el desempeño de las tareas que usted realiza?  \\\n0                                                 Buena                                                              \n1                                               Regular                                                              \n2                                               Regular                                                              \n3                                                 Buena                                                              \n4                                               Regular                                                              \n...                                                 ...                                                              \n4859                                              Buena                                                              \n4860                                              Buena                                                              \n4861                                            Regular                                                              \n4862                                            Regular                                                              \n4863                                              Buena                                                              \n\n     4.- ¿Le parece  adecuado los resultados obtenidos en el SGA?   \\\n0                                              Adecuado              \n1                                              Adecuado              \n2                                               Regular              \n3                                              Adecuado              \n4                                              Adecuado              \n...                                                 ...              \n4859                                            Regular              \n4860                                           Adecuado              \n4861                                            Regular              \n4862                                            Regular              \n4863                                           Adecuado              \n\n     5.- ¿Le resulta comprensible el uso y/o manejo del SGA?  \\\n0                                          Comprensible        \n1                                          Comprensible        \n2                                               Regular        \n3                                          Comprensible        \n4                                          Comprensible        \n...                                                 ...        \n4859                                            Regular        \n4860                                       Comprensible        \n4861                                            Regular        \n4862                                            Regular        \n4863                                       Comprensible        \n\n     6.- ¿Usted cómo calificaría su proceso de aprendizaje del SGA?  \\\n0                                                 Bueno               \n1                                                 Bueno               \n2                                                 Bueno               \n3                                                 Bueno               \n4                                               Regular               \n...                                                 ...               \n4859                                            Regular               \n4860                                              Bueno               \n4861                                            Regular               \n4862                                            Regular               \n4863                                              Bueno               \n\n     7.- ¿Cómo le resulta utilizar el SGA?  \\\n0                                Muy Facil   \n1                                    Facil   \n2                                  Regular   \n3                                    Facil   \n4                                  Regular   \n...                                    ...   \n4859                               Regular   \n4860                                 Facil   \n4861                               Regular   \n4862                               Regular   \n4863                                 Facil   \n\n     8.- ¿Cómo calificaría usted la exactitud e integridad del SGA al momento de realizar sus actividades?  \\\n0                                             Muy Bueno                                                      \n1                                               Regular                                                      \n2                                               Regular                                                      \n3                                                 Bueno                                                      \n4                                               Regular                                                      \n...                                                 ...                                                      \n4859                                            Regular                                                      \n4860                                              Bueno                                                      \n4861                                            Regular                                                      \n4862                                            Regular                                                      \n4863                                              Bueno                                                      \n\n     9.- ¿Le parece adecuado el  manejo de riesgos del SGA respecto a su información (usuario y contraseña)?  \\\n0                                          Muy Adecuado                                                        \n1                                               Regular                                                        \n2                                               Regular                                                        \n3                                              Adecuado                                                        \n4                                               Regular                                                        \n...                                                 ...                                                        \n4859                                            Regular                                                        \n4860                                           Adecuado                                                        \n4861                                            Regular                                                        \n4862                                            Regular                                                        \n4863                                           Adecuado                                                        \n\n     10.- ¿Cómo calificaría el SGA en la satisfacción de sus necesidades requeridas?  \\\n0                                             Muy Bueno                                \n1                                               Regular                                \n2                                               Regular                                \n3                                                 Bueno                                \n4                                               Regular                                \n...                                                 ...                                \n4859                                            Regular                                \n4860                                            Regular                                \n4861                                            Regular                                \n4862                                            Regular                                \n4863                                              Bueno                                \n\n     11.- Respecto a sus sugerencias y dudas del SGA ¿son atendidas?  \\\n0                                               Siempre                \n1                                          Regularmente                \n2                                          Regularmente                \n3                                               Siempre                \n4                                            Casi nunca                \n...                                                 ...                \n4859                                       Regularmente                \n4860                                       Regularmente                \n4861                                       Regularmente                \n4862                                       Regularmente                \n4863                                       Regularmente                \n\n     12. ¿Que servicios adicionales le gustaría que le brindemos?  \n0                                               Ninguno            \n1                                                  nada            \n2                                      Atencion virtual            \n3                                               Ninguno            \n4     los contextos de los silabus estan distorsiona...            \n...                                                 ...            \n4859                                    Esta todo bien             \n4860                              Ningún otro servicio             \n4861                                      Más atención             \n4862                                      Más atención             \n4863                                   Mas información             \n\n[4864 rows x 13 columns]",
      "text/html": "<div>\n<style scoped>\n    .dataframe tbody tr th:only-of-type {\n        vertical-align: middle;\n    }\n\n    .dataframe tbody tr th {\n        vertical-align: top;\n    }\n\n    .dataframe thead th {\n        text-align: right;\n    }\n</style>\n<table border=\"1\" class=\"dataframe\">\n  <thead>\n    <tr style=\"text-align: right;\">\n      <th></th>\n      <th>Marca temporal</th>\n      <th>1.-¿A que escuela pertenece?</th>\n      <th>2.- Sexo</th>\n      <th>3.\\t¿Cómo calificaría el Sistema de  Gestión Académica (SGA) en el desempeño de las tareas que usted realiza?</th>\n      <th>4.- ¿Le parece  adecuado los resultados obtenidos en el SGA?</th>\n      <th>5.- ¿Le resulta comprensible el uso y/o manejo del SGA?</th>\n      <th>6.- ¿Usted cómo calificaría su proceso de aprendizaje del SGA?</th>\n      <th>7.- ¿Cómo le resulta utilizar el SGA?</th>\n      <th>8.- ¿Cómo calificaría usted la exactitud e integridad del SGA al momento de realizar sus actividades?</th>\n      <th>9.- ¿Le parece adecuado el  manejo de riesgos del SGA respecto a su información (usuario y contraseña)?</th>\n      <th>10.- ¿Cómo calificaría el SGA en la satisfacción de sus necesidades requeridas?</th>\n      <th>11.- Respecto a sus sugerencias y dudas del SGA ¿son atendidas?</th>\n      <th>12. ¿Que servicios adicionales le gustaría que le brindemos?</th>\n    </tr>\n  </thead>\n  <tbody>\n    <tr>\n      <th>0</th>\n      <td>2023-04-27 00:28:54.828</td>\n      <td>Ingeniería Civil</td>\n      <td>Masculino</td>\n      <td>Buena</td>\n      <td>Adecuado</td>\n      <td>Comprensible</td>\n      <td>Bueno</td>\n      <td>Muy Facil</td>\n      <td>Muy Bueno</td>\n      <td>Muy Adecuado</td>\n      <td>Muy Bueno</td>\n      <td>Siempre</td>\n      <td>Ninguno</td>\n    </tr>\n    <tr>\n      <th>1</th>\n      <td>2023-04-27 00:29:13.299</td>\n      <td>Ingeniería de Sistemas e Infromática</td>\n      <td>Masculino</td>\n      <td>Regular</td>\n      <td>Adecuado</td>\n      <td>Comprensible</td>\n      <td>Bueno</td>\n      <td>Facil</td>\n      <td>Regular</td>\n      <td>Regular</td>\n      <td>Regular</td>\n      <td>Regularmente</td>\n      <td>nada</td>\n    </tr>\n    <tr>\n      <th>2</th>\n      <td>2023-04-27 00:29:32.629</td>\n      <td>Ingeniería de Industrias Alimentarias</td>\n      <td>Femenino</td>\n      <td>Regular</td>\n      <td>Regular</td>\n      <td>Regular</td>\n      <td>Bueno</td>\n      <td>Regular</td>\n      <td>Regular</td>\n      <td>Regular</td>\n      <td>Regular</td>\n      <td>Regularmente</td>\n      <td>Atencion virtual</td>\n    </tr>\n    <tr>\n      <th>3</th>\n      <td>2023-04-27 00:32:03.241</td>\n      <td>Ingeniería Civil</td>\n      <td>Masculino</td>\n      <td>Buena</td>\n      <td>Adecuado</td>\n      <td>Comprensible</td>\n      <td>Bueno</td>\n      <td>Facil</td>\n      <td>Bueno</td>\n      <td>Adecuado</td>\n      <td>Bueno</td>\n      <td>Siempre</td>\n      <td>Ninguno</td>\n    </tr>\n    <tr>\n      <th>4</th>\n      <td>2023-04-27 00:32:50.674</td>\n      <td>Ingeniería Agrícola</td>\n      <td>Masculino</td>\n      <td>Regular</td>\n      <td>Adecuado</td>\n      <td>Comprensible</td>\n      <td>Regular</td>\n      <td>Regular</td>\n      <td>Regular</td>\n      <td>Regular</td>\n      <td>Regular</td>\n      <td>Casi nunca</td>\n      <td>los contextos de los silabus estan distorsiona...</td>\n    </tr>\n    <tr>\n      <th>...</th>\n      <td>...</td>\n      <td>...</td>\n      <td>...</td>\n      <td>...</td>\n      <td>...</td>\n      <td>...</td>\n      <td>...</td>\n      <td>...</td>\n      <td>...</td>\n      <td>...</td>\n      <td>...</td>\n      <td>...</td>\n      <td>...</td>\n    </tr>\n    <tr>\n      <th>4859</th>\n      <td>2023-05-15 08:49:34.138</td>\n      <td>Ingeniería Agrícola</td>\n      <td>Masculino</td>\n      <td>Buena</td>\n      <td>Regular</td>\n      <td>Regular</td>\n      <td>Regular</td>\n      <td>Regular</td>\n      <td>Regular</td>\n      <td>Regular</td>\n      <td>Regular</td>\n      <td>Regularmente</td>\n      <td>Esta todo bien</td>\n    </tr>\n    <tr>\n      <th>4860</th>\n      <td>2023-05-15 09:26:10.676</td>\n      <td>Educación Primaria e Interculturalidad</td>\n      <td>Femenino</td>\n      <td>Buena</td>\n      <td>Adecuado</td>\n      <td>Comprensible</td>\n      <td>Bueno</td>\n      <td>Facil</td>\n      <td>Bueno</td>\n      <td>Adecuado</td>\n      <td>Regular</td>\n      <td>Regularmente</td>\n      <td>Ningún otro servicio</td>\n    </tr>\n    <tr>\n      <th>4861</th>\n      <td>2023-05-15 09:28:46.115</td>\n      <td>Ingeniería de Sistemas e Infromática</td>\n      <td>Masculino</td>\n      <td>Regular</td>\n      <td>Regular</td>\n      <td>Regular</td>\n      <td>Regular</td>\n      <td>Regular</td>\n      <td>Regular</td>\n      <td>Regular</td>\n      <td>Regular</td>\n      <td>Regularmente</td>\n      <td>Más atención</td>\n    </tr>\n    <tr>\n      <th>4862</th>\n      <td>2023-05-15 09:29:22.000</td>\n      <td>Ingeniería de Sistemas e Infromática</td>\n      <td>Masculino</td>\n      <td>Regular</td>\n      <td>Regular</td>\n      <td>Regular</td>\n      <td>Regular</td>\n      <td>Regular</td>\n      <td>Regular</td>\n      <td>Regular</td>\n      <td>Regular</td>\n      <td>Regularmente</td>\n      <td>Más atención</td>\n    </tr>\n    <tr>\n      <th>4863</th>\n      <td>2023-05-23 09:17:27.514</td>\n      <td>Contabilidad</td>\n      <td>Masculino</td>\n      <td>Buena</td>\n      <td>Adecuado</td>\n      <td>Comprensible</td>\n      <td>Bueno</td>\n      <td>Facil</td>\n      <td>Bueno</td>\n      <td>Adecuado</td>\n      <td>Bueno</td>\n      <td>Regularmente</td>\n      <td>Mas información</td>\n    </tr>\n  </tbody>\n</table>\n<p>4864 rows × 13 columns</p>\n</div>"
     },
     "execution_count": 9,
     "metadata": {},
     "output_type": "execute_result"
    }
   ],
   "source": [
    "df"
   ],
   "metadata": {
    "collapsed": false,
    "ExecuteTime": {
     "end_time": "2023-12-21T13:49:17.680029600Z",
     "start_time": "2023-12-21T13:49:17.660352900Z"
    }
   },
   "id": "b30c020da2f5d3c2"
  },
  {
   "cell_type": "code",
   "execution_count": 11,
   "outputs": [],
   "source": [
    "satisfaccion = df[\"10.- ¿Cómo calificaría el SGA en la satisfacción de sus necesidades requeridas?\"]"
   ],
   "metadata": {
    "collapsed": false,
    "ExecuteTime": {
     "end_time": "2023-12-21T13:53:17.902743900Z",
     "start_time": "2023-12-21T13:53:17.896159100Z"
    }
   },
   "id": "a76b37f669ccfa00"
  },
  {
   "cell_type": "code",
   "execution_count": 12,
   "outputs": [
    {
     "data": {
      "text/plain": "0       Muy Bueno\n1         Regular\n2         Regular\n3           Bueno\n4         Regular\n          ...    \n4859      Regular\n4860      Regular\n4861      Regular\n4862      Regular\n4863        Bueno\nName: 10.- ¿Cómo calificaría el SGA en la satisfacción de sus necesidades requeridas?, Length: 4864, dtype: object"
     },
     "execution_count": 12,
     "metadata": {},
     "output_type": "execute_result"
    }
   ],
   "source": [
    "satisfaccion"
   ],
   "metadata": {
    "collapsed": false,
    "ExecuteTime": {
     "end_time": "2023-12-21T13:53:21.785083800Z",
     "start_time": "2023-12-21T13:53:21.767042900Z"
    }
   },
   "id": "39bbf0b1db9bf32a"
  },
  {
   "cell_type": "code",
   "execution_count": 15,
   "outputs": [
    {
     "data": {
      "text/plain": "3942      Bueno\n1978      Bueno\n1094    Regular\n4219    Regular\n3277      Bueno\n         ...   \n1601      Bueno\n3131    Regular\n4544      Bueno\n382       Bueno\n3351      Bueno\nName: 10.- ¿Cómo calificaría el SGA en la satisfacción de sus necesidades requeridas?, Length: 330, dtype: object"
     },
     "execution_count": 15,
     "metadata": {},
     "output_type": "execute_result"
    }
   ],
   "source": [
    "satisfaccion_muestra = satisfaccion.sample(n=330)\n",
    "satisfaccion_muestra"
   ],
   "metadata": {
    "collapsed": false,
    "ExecuteTime": {
     "end_time": "2023-12-21T14:00:34.609840Z",
     "start_time": "2023-12-21T14:00:34.604594100Z"
    }
   },
   "id": "732d671ff896539f"
  },
  {
   "cell_type": "code",
   "execution_count": 16,
   "outputs": [],
   "source": [
    "satisfaccion_muestra.to_excel(\"./data/muestra_satisfaccion.xlsx\")"
   ],
   "metadata": {
    "collapsed": false,
    "ExecuteTime": {
     "end_time": "2023-12-21T14:01:51.188521500Z",
     "start_time": "2023-12-21T14:01:51.095907700Z"
    }
   },
   "id": "7d96ce24274b686"
  },
  {
   "cell_type": "code",
   "execution_count": null,
   "outputs": [],
   "source": [],
   "metadata": {
    "collapsed": false
   },
   "id": "a08a085bea960ce2"
  }
 ],
 "metadata": {
  "kernelspec": {
   "display_name": "Python 3",
   "language": "python",
   "name": "python3"
  },
  "language_info": {
   "codemirror_mode": {
    "name": "ipython",
    "version": 2
   },
   "file_extension": ".py",
   "mimetype": "text/x-python",
   "name": "python",
   "nbconvert_exporter": "python",
   "pygments_lexer": "ipython2",
   "version": "2.7.6"
  }
 },
 "nbformat": 4,
 "nbformat_minor": 5
}
