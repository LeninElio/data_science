{
  "metadata": {
    "kernelspec": {
      "name": "python3",
      "display_name": "Python 3 (ipykernel)",
      "language": "python"
    },
    "language_info": {
      "name": "python",
      "version": "3.10.4",
      "mimetype": "text/x-python",
      "codemirror_mode": {
        "name": "ipython",
        "version": 3
      },
      "pygments_lexer": "ipython3",
      "nbconvert_exporter": "python",
      "file_extension": ".py"
    },
    "colab": {
      "provenance": []
    }
  },
  "nbformat_minor": 5,
  "nbformat": 4,
  "cells": [
    {
      "cell_type": "code",
      "source": [
        "!pip install google-cloud-storage"
      ],
      "metadata": {
        "trusted": true,
        "id": "35856bf2-aa5e-436b-977a-9e5725b1a595"
      },
      "execution_count": null,
      "outputs": [],
      "id": "35856bf2-aa5e-436b-977a-9e5725b1a595"
    },
    {
      "cell_type": "code",
      "source": [
        "!pip install google-cloud-aiplatform"
      ],
      "metadata": {
        "id": "rtxP7mcdGWbh"
      },
      "id": "rtxP7mcdGWbh",
      "execution_count": null,
      "outputs": []
    },
    {
      "cell_type": "code",
      "source": [
        "!pip install py7zr"
      ],
      "metadata": {
        "id": "57MN325JLNft"
      },
      "id": "57MN325JLNft",
      "execution_count": null,
      "outputs": []
    },
    {
      "cell_type": "code",
      "source": [
        "from google.oauth2 import service_account\n",
        "from google.cloud import aiplatform"
      ],
      "metadata": {
        "id": "aPF_2VTUEoC8"
      },
      "id": "aPF_2VTUEoC8",
      "execution_count": null,
      "outputs": []
    },
    {
      "cell_type": "code",
      "source": [
        "credentials = service_account.Credentials.from_service_account_file('./banded-access-402321-750cab17d500.json')"
      ],
      "metadata": {
        "id": "iaP_yI-fEoAO"
      },
      "id": "iaP_yI-fEoAO",
      "execution_count": null,
      "outputs": []
    },
    {
      "cell_type": "code",
      "source": [
        "aiplatform.init(project='banded-access-402321', location='us-central1', credentials=credentials)"
      ],
      "metadata": {
        "id": "TSeBzSS4En4z"
      },
      "id": "TSeBzSS4En4z",
      "execution_count": null,
      "outputs": []
    },
    {
      "cell_type": "code",
      "source": [
        "# Listar los buckets que tengo\n",
        "from google.cloud import storage\n",
        "\n",
        "def listar_buckets(credenciales):\n",
        "    storage_client = storage.Client(credentials=credenciales)\n",
        "    buckets = list(storage_client.list_buckets())\n",
        "\n",
        "    for bucket in buckets:\n",
        "        print(bucket.name)\n"
      ],
      "metadata": {
        "id": "6lwl68wGCM-0"
      },
      "id": "6lwl68wGCM-0",
      "execution_count": null,
      "outputs": []
    },
    {
      "cell_type": "code",
      "source": [
        "listar_buckets(credentials)"
      ],
      "metadata": {
        "colab": {
          "base_uri": "https://localhost:8080/"
        },
        "id": "jrICRM7bCuMI",
        "executionInfo": {
          "status": "ok",
          "timestamp": 1697654802601,
          "user_tz": 300,
          "elapsed": 15,
          "user": {
            "displayName": "",
            "userId": ""
          }
        },
        "outputId": "a7d65bc6-85d5-4e5f-f469-89cf4510fd10"
      },
      "id": "jrICRM7bCuMI",
      "execution_count": null,
      "outputs": [
        {
          "output_type": "stream",
          "name": "stdout",
          "text": [
            "bucket_db_region\n"
          ]
        }
      ]
    },
    {
      "cell_type": "code",
      "source": [
        "# Listar los archivos dentro de un bucket\n",
        "from google.cloud import storage\n",
        "\n",
        "def listar_archivos(bucket_name, credenciales):\n",
        "    storage_client = storage.Client(credentials=credenciales)\n",
        "    bucket = storage_client.bucket(bucket_name)\n",
        "    blobs = bucket.list_blobs()\n",
        "\n",
        "    for blob in blobs:\n",
        "        print(blob.name)"
      ],
      "metadata": {
        "id": "on6uld_0Cv2o"
      },
      "id": "on6uld_0Cv2o",
      "execution_count": null,
      "outputs": []
    },
    {
      "cell_type": "code",
      "source": [
        "listar_archivos('bucket_db_region', credentials)"
      ],
      "metadata": {
        "colab": {
          "base_uri": "https://localhost:8080/"
        },
        "id": "12O5Ezg-IA_-",
        "executionInfo": {
          "status": "ok",
          "timestamp": 1697657779653,
          "user_tz": 300,
          "elapsed": 621,
          "user": {
            "displayName": "",
            "userId": ""
          }
        },
        "outputId": "c5c3b559-f98c-460c-dd0f-a69c60260aa9"
      },
      "id": "12O5Ezg-IA_-",
      "execution_count": null,
      "outputs": [
        {
          "output_type": "stream",
          "name": "stdout",
          "text": [
            "cursos.7z\n",
            "cursosxxx.sql\n",
            "reporte.7z\n",
            "reporte_carga_docentes.xlsx\n",
            "tiktok.7z\n"
          ]
        }
      ]
    },
    {
      "cell_type": "code",
      "source": [
        "from google.cloud import storage\n",
        "from google.oauth2 import service_account\n",
        "import py7zr\n",
        "import os"
      ],
      "metadata": {
        "id": "gw17i6TJMAf_"
      },
      "id": "gw17i6TJMAf_",
      "execution_count": null,
      "outputs": []
    },
    {
      "cell_type": "code",
      "source": [
        "def descarga_descoprime(bucket_name, archivo_7z, credenciales):\n",
        "    storage_client = storage.Client(credentials=credenciales)\n",
        "    bucket = storage_client.bucket(bucket_name)\n",
        "    blob = bucket.blob(archivo_7z)\n",
        "    blob.download_to_filename(archivo_7z)\n",
        "\n",
        "    # Descomprime el archivo .7z\n",
        "    with py7zr.SevenZipFile(archivo_7z, mode='r') as z:\n",
        "        z.extractall()\n",
        "\n",
        "    os.remove(archivo_7z)\n"
      ],
      "metadata": {
        "id": "9pw5zH3NOO7h"
      },
      "id": "9pw5zH3NOO7h",
      "execution_count": null,
      "outputs": []
    },
    {
      "cell_type": "code",
      "source": [
        "descarga_descoprime(\"bucket_db_region\", \"tiktok.7z\", credentials)"
      ],
      "metadata": {
        "id": "YAQCa24LOO4p"
      },
      "id": "YAQCa24LOO4p",
      "execution_count": null,
      "outputs": []
    },
    {
      "cell_type": "code",
      "source": [
        "from google.cloud import storage\n",
        "\n",
        "def upload_to_bucket(bucket_name, source_file_name, destination_blob_name, credenciales):\n",
        "    storage_client = storage.Client(credentials=credenciales)\n",
        "    bucket = storage_client.bucket(bucket_name)\n",
        "    blob = bucket.blob(destination_blob_name)\n",
        "\n",
        "    blob.upload_from_filename(source_file_name)\n",
        "\n",
        "    print(f\"Archivo {source_file_name} subido a {destination_blob_name}.\")"
      ],
      "metadata": {
        "id": "Z9E2RsChOvWu"
      },
      "id": "Z9E2RsChOvWu",
      "execution_count": null,
      "outputs": []
    },
    {
      "cell_type": "code",
      "source": [
        "upload_to_bucket(\"bucket_db_region\", \"tiktok.sql\", \"tiktok.sql\", credentials)"
      ],
      "metadata": {
        "colab": {
          "base_uri": "https://localhost:8080/"
        },
        "id": "0x37dkZ5RpGg",
        "executionInfo": {
          "status": "ok",
          "timestamp": 1697661831981,
          "user_tz": 300,
          "elapsed": 2093803,
          "user": {
            "displayName": "",
            "userId": ""
          }
        },
        "outputId": "8355fa0b-0c72-48e0-b0a9-deab9e34bbdc"
      },
      "id": "0x37dkZ5RpGg",
      "execution_count": null,
      "outputs": [
        {
          "output_type": "stream",
          "name": "stdout",
          "text": [
            "Archivo tiktok.sql subido a tiktok.sql.\n"
          ]
        }
      ]
    },
    {
      "cell_type": "code",
      "source": [],
      "metadata": {
        "id": "A4N4Gk1_Sbom"
      },
      "id": "A4N4Gk1_Sbom",
      "execution_count": null,
      "outputs": []
    }
  ]
}