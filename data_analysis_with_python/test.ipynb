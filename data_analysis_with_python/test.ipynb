{
 "cells": [
  {
   "cell_type": "code",
   "execution_count": 30,
   "metadata": {},
   "outputs": [],
   "source": [
    "print(\"Hello World\")"
   ]
  },
  {
   "cell_type": "markdown",
   "metadata": {},
   "source": [
    "{toggle}\n",
    "¡Algun contenido oculto!\n",
    "print(\"Hello World\")"
   ]
  },
  {
   "cell_type": "markdown",
   "metadata": {},
   "source": [
    "{toggle}\n",
    "¡Haz clic en el botón para revelar!\n",
    ":show:\n",
    "¡Algun contenido oculto!\n",
    "![](../images/cool.jpg)"
   ]
  },
  {
   "cell_type": "markdown",
   "metadata": {},
   "source": [
    "# Hello World"
   ]
  },
  {
   "cell_type": "code",
   "execution_count": 31,
   "metadata": {
    "ExecuteTime": {
     "end_time": "2023-06-29T13:41:17.739767800Z",
     "start_time": "2023-06-29T13:41:17.718686300Z"
    }
   },
   "outputs": [],
   "source": [
    "from IPython.display import display\n",
    "import ipywidgets as widgets"
   ]
  },
  {
   "cell_type": "code",
   "execution_count": 32,
   "metadata": {
    "ExecuteTime": {
     "end_time": "2023-06-29T13:41:19.890135500Z",
     "start_time": "2023-06-29T13:41:19.885781400Z"
    }
   },
   "outputs": [],
   "source": [
    "def mostrar_solucion(b):\n",
    "    # Aquí puedes agregar tu solución\n",
    "    # Puedes usar print() o display() para mostrar la solución en la celda\n",
    "    print(\"Esta es la solución.\")\n"
   ]
  },
  {
   "cell_type": "code",
   "execution_count": 33,
   "metadata": {
    "ExecuteTime": {
     "end_time": "2023-06-29T13:41:21.009982Z",
     "start_time": "2023-06-29T13:41:21.002698700Z"
    }
   },
   "outputs": [],
   "source": [
    "boton_ver_solucion = widgets.Button(description=\"Ver solución\")\n",
    "boton_ver_solucion.on_click(mostrar_solucion)\n"
   ]
  },
  {
   "cell_type": "code",
   "execution_count": 34,
   "metadata": {
    "ExecuteTime": {
     "end_time": "2023-06-29T13:41:22.297646100Z",
     "start_time": "2023-06-29T13:41:22.290335100Z"
    }
   },
   "outputs": [],
   "source": [
    "display(boton_ver_solucion)"
   ]
  },
  {
   "cell_type": "code",
   "execution_count": 35,
   "metadata": {},
   "outputs": [],
   "source": [
    "import ipywidgets as w"
   ]
  },
  {
   "cell_type": "markdown",
   "metadata": {},
   "source": [
    "## Ejercicio\n",
    "\n",
    "Aquí se describe el problema que los estudiantes deben resolver.\n",
    "\n",
    "<details>\n",
    "  <summary><strong>Solución (Haz clic para ver)</strong></summary>\n",
    "\n",
    "  Aquí se encuentra la solución al problema.\n",
    "  ```python\n",
    "  print(\"Hola mundo\")  \n",
    "  \n",
    "  ```\n",
    "</details>"
   ]
  },
  {
   "cell_type": "code",
   "execution_count": 36,
   "metadata": {},
   "outputs": [],
   "source": [
    "toggle = w.ToggleButton(description='click me')\n",
    "\n",
    "out = w.Output(layout=w.Layout(border = '1px solid black'))\n",
    "\n",
    "def fun(obj):\n",
    "    with out:\n",
    "        if obj['new']:  \n",
    "            display('asd')\n",
    "        else:\n",
    "            out.clear_output()"
   ]
  },
  {
   "cell_type": "code",
   "execution_count": 37,
   "metadata": {},
   "outputs": [],
   "source": [
    "toggle.observe(fun, 'value')\n",
    "display(toggle)\n",
    "display(out)"
   ]
  },
  {
   "cell_type": "code",
   "execution_count": null,
   "metadata": {},
   "outputs": [],
   "source": []
  }
 ],
 "metadata": {
  "kernelspec": {
   "display_name": "Python 3 (ipykernel)",
   "language": "python",
   "name": "python3"
  },
  "language_info": {
   "codemirror_mode": {
    "name": "ipython",
    "version": 3
   },
   "file_extension": ".py",
   "mimetype": "text/x-python",
   "name": "python",
   "nbconvert_exporter": "python",
   "pygments_lexer": "ipython3",
   "version": "3.11.3"
  }
 },
 "nbformat": 4,
 "nbformat_minor": 1
}
