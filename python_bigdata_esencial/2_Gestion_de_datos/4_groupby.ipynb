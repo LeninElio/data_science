{
 "cells": [
  {
   "cell_type": "markdown",
   "source": [
    "### Groupby: Es una herramienta de resumen de nuestros datos"
   ],
   "metadata": {
    "collapsed": false
   },
   "id": "9fc7fe11a4f6ce93"
  },
  {
   "cell_type": "code",
   "execution_count": 11,
   "id": "initial_id",
   "metadata": {
    "collapsed": true,
    "ExecuteTime": {
     "end_time": "2023-07-29T14:11:34.933588900Z",
     "start_time": "2023-07-29T14:11:34.922260500Z"
    }
   },
   "outputs": [],
   "source": [
    "import pandas as pd"
   ]
  },
  {
   "cell_type": "code",
   "execution_count": 12,
   "outputs": [],
   "source": [
    "df = pd.read_csv('../data/infracciones_de_transito.csv')"
   ],
   "metadata": {
    "collapsed": false,
    "ExecuteTime": {
     "end_time": "2023-07-29T14:11:35.682549100Z",
     "start_time": "2023-07-29T14:11:35.627156100Z"
    }
   },
   "id": "bec1458e72bb5e33"
  },
  {
   "cell_type": "code",
   "execution_count": 13,
   "outputs": [
    {
     "data": {
      "text/plain": "  DEPARTAMENTO  PROVINCIA   DISTRITO  UBIGEO  CODIGO_INFRACCION  \\\n0    CAJAMARCA  CAJAMARCA  CAJAMARCA   60101               9254   \n1    CAJAMARCA  CAJAMARCA  CAJAMARCA   60101               9254   \n2    CAJAMARCA  CAJAMARCA  CAJAMARCA   60101               9250   \n3    CAJAMARCA  CAJAMARCA  CAJAMARCA   60101               9250   \n4    CAJAMARCA  CAJAMARCA  CAJAMARCA   60101               9253   \n\n                                          INFRACCION  FECHA_INFRACCION  \\\n0  POR PRESTAR EL SERVICIO DE TRANSPORTE PÚBLICO ...          20220104   \n1  POR PRESTAR EL SERVICIO DE TRANSPORTE PÚBLICO ...          20220104   \n2  PRESTAR EL SERVICIO DE TRANSPORTE PÚBLICO ESPE...          20220104   \n3  PRESTAR EL SERVICIO DE TRANSPORTE PÚBLICO ESPE...          20220104   \n4  POR PRESTAR EL SERVICIO DE TRANSPORTE PÚBLICO ...          20220104   \n\n   HORA_INFRACCION  MONTO_INFRACCION          LUGAR_INFRACCION  ...  \\\n0              541             230.0     JR. DOS DE MAYO C - 8  ...   \n1              541             230.0     JR. DOS DE MAYO C - 8  ...   \n2              554             230.0  PLAZUELA BOLOGNESI C - 5  ...   \n3              554             230.0  PLAZUELA BOLOGNESI C - 5  ...   \n4              556             230.0     JR. DOS DE MAYO C - 8  ...   \n\n                     TIPO_SERVICIO   TUC_ESTADO  \\\n0  Transporte Especial en Mototaxi  TUC VIGENTE   \n1  Transporte Especial en Mototaxi  TUC VIGENTE   \n2  Transporte Especial en Mototaxi            -   \n3  Transporte Especial en Mototaxi            -   \n4  Transporte Especial en Mototaxi  TUC VIGENTE   \n\n                                   EMPRESA INTERNAMIENTO_VEHICULO  \\\n0  Empresa de Transporte Monte Santo EIRL.                     SI   \n1  Empresa de Transporte Monte Santo EIRL.                     SI   \n2                              SIN EMPRESA                     SI   \n3                              SIN EMPRESA                     SI   \n4                     Antonio Galvez EIRL.                     SI   \n\n  FECHA_INTERNAMIENTO MULTA_INTERNAMIENTO SE_PAGO_MULTAS FECHA_PAGO_MULTAS  \\\n0            20220104               29.20             SI          20220105   \n1            20220104               29.20             SI          20220105   \n2            20220104               29.20             SI          20220105   \n3            20220104               29.20             SI          20220105   \n4            20220104               29.20             SI          20220106   \n\n  FECHA_DESINTERNAMIENTO FECHA_CORTE  \n0               20220107    20230615  \n1               20220107    20230615  \n2               20220107    20230615  \n3               20220107    20230615  \n4               20220107    20230615  \n\n[5 rows x 25 columns]",
      "text/html": "<div>\n<style scoped>\n    .dataframe tbody tr th:only-of-type {\n        vertical-align: middle;\n    }\n\n    .dataframe tbody tr th {\n        vertical-align: top;\n    }\n\n    .dataframe thead th {\n        text-align: right;\n    }\n</style>\n<table border=\"1\" class=\"dataframe\">\n  <thead>\n    <tr style=\"text-align: right;\">\n      <th></th>\n      <th>DEPARTAMENTO</th>\n      <th>PROVINCIA</th>\n      <th>DISTRITO</th>\n      <th>UBIGEO</th>\n      <th>CODIGO_INFRACCION</th>\n      <th>INFRACCION</th>\n      <th>FECHA_INFRACCION</th>\n      <th>HORA_INFRACCION</th>\n      <th>MONTO_INFRACCION</th>\n      <th>LUGAR_INFRACCION</th>\n      <th>...</th>\n      <th>TIPO_SERVICIO</th>\n      <th>TUC_ESTADO</th>\n      <th>EMPRESA</th>\n      <th>INTERNAMIENTO_VEHICULO</th>\n      <th>FECHA_INTERNAMIENTO</th>\n      <th>MULTA_INTERNAMIENTO</th>\n      <th>SE_PAGO_MULTAS</th>\n      <th>FECHA_PAGO_MULTAS</th>\n      <th>FECHA_DESINTERNAMIENTO</th>\n      <th>FECHA_CORTE</th>\n    </tr>\n  </thead>\n  <tbody>\n    <tr>\n      <th>0</th>\n      <td>CAJAMARCA</td>\n      <td>CAJAMARCA</td>\n      <td>CAJAMARCA</td>\n      <td>60101</td>\n      <td>9254</td>\n      <td>POR PRESTAR EL SERVICIO DE TRANSPORTE PÚBLICO ...</td>\n      <td>20220104</td>\n      <td>541</td>\n      <td>230.0</td>\n      <td>JR. DOS DE MAYO C - 8</td>\n      <td>...</td>\n      <td>Transporte Especial en Mototaxi</td>\n      <td>TUC VIGENTE</td>\n      <td>Empresa de Transporte Monte Santo EIRL.</td>\n      <td>SI</td>\n      <td>20220104</td>\n      <td>29.20</td>\n      <td>SI</td>\n      <td>20220105</td>\n      <td>20220107</td>\n      <td>20230615</td>\n    </tr>\n    <tr>\n      <th>1</th>\n      <td>CAJAMARCA</td>\n      <td>CAJAMARCA</td>\n      <td>CAJAMARCA</td>\n      <td>60101</td>\n      <td>9254</td>\n      <td>POR PRESTAR EL SERVICIO DE TRANSPORTE PÚBLICO ...</td>\n      <td>20220104</td>\n      <td>541</td>\n      <td>230.0</td>\n      <td>JR. DOS DE MAYO C - 8</td>\n      <td>...</td>\n      <td>Transporte Especial en Mototaxi</td>\n      <td>TUC VIGENTE</td>\n      <td>Empresa de Transporte Monte Santo EIRL.</td>\n      <td>SI</td>\n      <td>20220104</td>\n      <td>29.20</td>\n      <td>SI</td>\n      <td>20220105</td>\n      <td>20220107</td>\n      <td>20230615</td>\n    </tr>\n    <tr>\n      <th>2</th>\n      <td>CAJAMARCA</td>\n      <td>CAJAMARCA</td>\n      <td>CAJAMARCA</td>\n      <td>60101</td>\n      <td>9250</td>\n      <td>PRESTAR EL SERVICIO DE TRANSPORTE PÚBLICO ESPE...</td>\n      <td>20220104</td>\n      <td>554</td>\n      <td>230.0</td>\n      <td>PLAZUELA BOLOGNESI C - 5</td>\n      <td>...</td>\n      <td>Transporte Especial en Mototaxi</td>\n      <td>-</td>\n      <td>SIN EMPRESA</td>\n      <td>SI</td>\n      <td>20220104</td>\n      <td>29.20</td>\n      <td>SI</td>\n      <td>20220105</td>\n      <td>20220107</td>\n      <td>20230615</td>\n    </tr>\n    <tr>\n      <th>3</th>\n      <td>CAJAMARCA</td>\n      <td>CAJAMARCA</td>\n      <td>CAJAMARCA</td>\n      <td>60101</td>\n      <td>9250</td>\n      <td>PRESTAR EL SERVICIO DE TRANSPORTE PÚBLICO ESPE...</td>\n      <td>20220104</td>\n      <td>554</td>\n      <td>230.0</td>\n      <td>PLAZUELA BOLOGNESI C - 5</td>\n      <td>...</td>\n      <td>Transporte Especial en Mototaxi</td>\n      <td>-</td>\n      <td>SIN EMPRESA</td>\n      <td>SI</td>\n      <td>20220104</td>\n      <td>29.20</td>\n      <td>SI</td>\n      <td>20220105</td>\n      <td>20220107</td>\n      <td>20230615</td>\n    </tr>\n    <tr>\n      <th>4</th>\n      <td>CAJAMARCA</td>\n      <td>CAJAMARCA</td>\n      <td>CAJAMARCA</td>\n      <td>60101</td>\n      <td>9253</td>\n      <td>POR PRESTAR EL SERVICIO DE TRANSPORTE PÚBLICO ...</td>\n      <td>20220104</td>\n      <td>556</td>\n      <td>230.0</td>\n      <td>JR. DOS DE MAYO C - 8</td>\n      <td>...</td>\n      <td>Transporte Especial en Mototaxi</td>\n      <td>TUC VIGENTE</td>\n      <td>Antonio Galvez EIRL.</td>\n      <td>SI</td>\n      <td>20220104</td>\n      <td>29.20</td>\n      <td>SI</td>\n      <td>20220106</td>\n      <td>20220107</td>\n      <td>20230615</td>\n    </tr>\n  </tbody>\n</table>\n<p>5 rows × 25 columns</p>\n</div>"
     },
     "execution_count": 13,
     "metadata": {},
     "output_type": "execute_result"
    }
   ],
   "source": [
    "df.head()"
   ],
   "metadata": {
    "collapsed": false,
    "ExecuteTime": {
     "end_time": "2023-07-29T14:11:36.469761400Z",
     "start_time": "2023-07-29T14:11:36.445422Z"
    }
   },
   "id": "c5f30c6f7fee94cd"
  },
  {
   "cell_type": "code",
   "execution_count": 17,
   "outputs": [],
   "source": [
    "# Antes de agrupar, convertire la fecha de infracción en una fecha valida\n",
    "df['FECHA_INFRACCION'] = pd.to_datetime(df['FECHA_INFRACCION'], format='%Y%m%d').dt.strftime('%Y-%m-%d')"
   ],
   "metadata": {
    "collapsed": false,
    "ExecuteTime": {
     "end_time": "2023-07-29T14:23:08.022082900Z",
     "start_time": "2023-07-29T14:23:07.986568900Z"
    }
   },
   "id": "3d0e4ed741c7ff0c"
  },
  {
   "cell_type": "code",
   "execution_count": 18,
   "outputs": [
    {
     "data": {
      "text/plain": "      DEPARTAMENTO  PROVINCIA   DISTRITO  UBIGEO  CODIGO_INFRACCION  \\\n0        CAJAMARCA  CAJAMARCA  CAJAMARCA   60101               9254   \n1        CAJAMARCA  CAJAMARCA  CAJAMARCA   60101               9254   \n2        CAJAMARCA  CAJAMARCA  CAJAMARCA   60101               9250   \n3        CAJAMARCA  CAJAMARCA  CAJAMARCA   60101               9250   \n4        CAJAMARCA  CAJAMARCA  CAJAMARCA   60101               9253   \n...            ...        ...        ...     ...                ...   \n10151    CAJAMARCA  CAJAMARCA  CAJAMARCA   60101              12768   \n10152    CAJAMARCA  CAJAMARCA  CAJAMARCA   60101              12769   \n10153    CAJAMARCA  CAJAMARCA  CAJAMARCA   60101              12769   \n10154    CAJAMARCA  CAJAMARCA  CAJAMARCA   60101              12770   \n10155    CAJAMARCA  CAJAMARCA  CAJAMARCA   60101              12770   \n\n                                              INFRACCION FECHA_INFRACCION  \\\n0      POR PRESTAR EL SERVICIO DE TRANSPORTE PÚBLICO ...       2022-01-04   \n1      POR PRESTAR EL SERVICIO DE TRANSPORTE PÚBLICO ...       2022-01-04   \n2      PRESTAR EL SERVICIO DE TRANSPORTE PÚBLICO ESPE...       2022-01-04   \n3      PRESTAR EL SERVICIO DE TRANSPORTE PÚBLICO ESPE...       2022-01-04   \n4      POR PRESTAR EL SERVICIO DE TRANSPORTE PÚBLICO ...       2022-01-04   \n...                                                  ...              ...   \n10151                          PAGO POR REMOLQUE DE GRUA       2022-12-29   \n10152  POR ESTACIONAR VEHICULOS EN LA VIA PUBLICA AFE...       2022-12-29   \n10153                          PAGO POR REMOLQUE DE GRUA       2022-12-29   \n10154  POR ESTACIONAR VEHICULOS EN AREAS DE USO PUBLI...       2022-12-29   \n10155                          PAGO POR REMOLQUE DE GRUA       2022-12-29   \n\n       HORA_INFRACCION  MONTO_INFRACCION          LUGAR_INFRACCION  ...  \\\n0                  541             230.0     JR. DOS DE MAYO C - 8  ...   \n1                  541             230.0     JR. DOS DE MAYO C - 8  ...   \n2                  554             230.0  PLAZUELA BOLOGNESI C - 5  ...   \n3                  554             230.0  PLAZUELA BOLOGNESI C - 5  ...   \n4                  556             230.0     JR. DOS DE MAYO C - 8  ...   \n...                ...               ...                       ...  ...   \n10151              840             160.0     JR. AMALIA PUGA C - 5  ...   \n10152              957             368.0     JR. AMALIA PUGA C - 6  ...   \n10153              957             160.0     JR. AMALIA PUGA C - 6  ...   \n10154             1104             368.0    JR. DEL COMERCIO C - 7  ...   \n10155             1104             160.0    JR. DEL COMERCIO C - 7  ...   \n\n                         TIPO_SERVICIO   TUC_ESTADO  \\\n0      Transporte Especial en Mototaxi  TUC VIGENTE   \n1      Transporte Especial en Mototaxi  TUC VIGENTE   \n2      Transporte Especial en Mototaxi            -   \n3      Transporte Especial en Mototaxi            -   \n4      Transporte Especial en Mototaxi  TUC VIGENTE   \n...                                ...          ...   \n10151                                -            -   \n10152                                -            -   \n10153                                -            -   \n10154                                -            -   \n10155                                -            -   \n\n                                       EMPRESA INTERNAMIENTO_VEHICULO  \\\n0      Empresa de Transporte Monte Santo EIRL.                     SI   \n1      Empresa de Transporte Monte Santo EIRL.                     SI   \n2                                  SIN EMPRESA                     SI   \n3                                  SIN EMPRESA                     SI   \n4                         Antonio Galvez EIRL.                     SI   \n...                                        ...                    ...   \n10151                              SIN EMPRESA                     SI   \n10152                              SIN EMPRESA                     SI   \n10153                              SIN EMPRESA                     SI   \n10154                              SIN EMPRESA                     SI   \n10155                              SIN EMPRESA                     SI   \n\n      FECHA_INTERNAMIENTO MULTA_INTERNAMIENTO SE_PAGO_MULTAS  \\\n0                20220104               29.20             SI   \n1                20220104               29.20             SI   \n2                20220104               29.20             SI   \n3                20220104               29.20             SI   \n4                20220104               29.20             SI   \n...                   ...                 ...            ...   \n10151            20221229               10.32             SI   \n10152            20221229               10.32             SI   \n10153            20221229               10.32             SI   \n10154            20221229                0.00             NO   \n10155            20221229                0.00             NO   \n\n      FECHA_PAGO_MULTAS FECHA_DESINTERNAMIENTO FECHA_CORTE  \n0              20220105               20220107    20230615  \n1              20220105               20220107    20230615  \n2              20220105               20220107    20230615  \n3              20220105               20220107    20230615  \n4              20220106               20220107    20230615  \n...                 ...                    ...         ...  \n10151          20221229               20221229    20230615  \n10152          20221229               20221229    20230615  \n10153          20221229               20221229    20230615  \n10154                 -                      -    20230615  \n10155                 -                      -    20230615  \n\n[10156 rows x 25 columns]",
      "text/html": "<div>\n<style scoped>\n    .dataframe tbody tr th:only-of-type {\n        vertical-align: middle;\n    }\n\n    .dataframe tbody tr th {\n        vertical-align: top;\n    }\n\n    .dataframe thead th {\n        text-align: right;\n    }\n</style>\n<table border=\"1\" class=\"dataframe\">\n  <thead>\n    <tr style=\"text-align: right;\">\n      <th></th>\n      <th>DEPARTAMENTO</th>\n      <th>PROVINCIA</th>\n      <th>DISTRITO</th>\n      <th>UBIGEO</th>\n      <th>CODIGO_INFRACCION</th>\n      <th>INFRACCION</th>\n      <th>FECHA_INFRACCION</th>\n      <th>HORA_INFRACCION</th>\n      <th>MONTO_INFRACCION</th>\n      <th>LUGAR_INFRACCION</th>\n      <th>...</th>\n      <th>TIPO_SERVICIO</th>\n      <th>TUC_ESTADO</th>\n      <th>EMPRESA</th>\n      <th>INTERNAMIENTO_VEHICULO</th>\n      <th>FECHA_INTERNAMIENTO</th>\n      <th>MULTA_INTERNAMIENTO</th>\n      <th>SE_PAGO_MULTAS</th>\n      <th>FECHA_PAGO_MULTAS</th>\n      <th>FECHA_DESINTERNAMIENTO</th>\n      <th>FECHA_CORTE</th>\n    </tr>\n  </thead>\n  <tbody>\n    <tr>\n      <th>0</th>\n      <td>CAJAMARCA</td>\n      <td>CAJAMARCA</td>\n      <td>CAJAMARCA</td>\n      <td>60101</td>\n      <td>9254</td>\n      <td>POR PRESTAR EL SERVICIO DE TRANSPORTE PÚBLICO ...</td>\n      <td>2022-01-04</td>\n      <td>541</td>\n      <td>230.0</td>\n      <td>JR. DOS DE MAYO C - 8</td>\n      <td>...</td>\n      <td>Transporte Especial en Mototaxi</td>\n      <td>TUC VIGENTE</td>\n      <td>Empresa de Transporte Monte Santo EIRL.</td>\n      <td>SI</td>\n      <td>20220104</td>\n      <td>29.20</td>\n      <td>SI</td>\n      <td>20220105</td>\n      <td>20220107</td>\n      <td>20230615</td>\n    </tr>\n    <tr>\n      <th>1</th>\n      <td>CAJAMARCA</td>\n      <td>CAJAMARCA</td>\n      <td>CAJAMARCA</td>\n      <td>60101</td>\n      <td>9254</td>\n      <td>POR PRESTAR EL SERVICIO DE TRANSPORTE PÚBLICO ...</td>\n      <td>2022-01-04</td>\n      <td>541</td>\n      <td>230.0</td>\n      <td>JR. DOS DE MAYO C - 8</td>\n      <td>...</td>\n      <td>Transporte Especial en Mototaxi</td>\n      <td>TUC VIGENTE</td>\n      <td>Empresa de Transporte Monte Santo EIRL.</td>\n      <td>SI</td>\n      <td>20220104</td>\n      <td>29.20</td>\n      <td>SI</td>\n      <td>20220105</td>\n      <td>20220107</td>\n      <td>20230615</td>\n    </tr>\n    <tr>\n      <th>2</th>\n      <td>CAJAMARCA</td>\n      <td>CAJAMARCA</td>\n      <td>CAJAMARCA</td>\n      <td>60101</td>\n      <td>9250</td>\n      <td>PRESTAR EL SERVICIO DE TRANSPORTE PÚBLICO ESPE...</td>\n      <td>2022-01-04</td>\n      <td>554</td>\n      <td>230.0</td>\n      <td>PLAZUELA BOLOGNESI C - 5</td>\n      <td>...</td>\n      <td>Transporte Especial en Mototaxi</td>\n      <td>-</td>\n      <td>SIN EMPRESA</td>\n      <td>SI</td>\n      <td>20220104</td>\n      <td>29.20</td>\n      <td>SI</td>\n      <td>20220105</td>\n      <td>20220107</td>\n      <td>20230615</td>\n    </tr>\n    <tr>\n      <th>3</th>\n      <td>CAJAMARCA</td>\n      <td>CAJAMARCA</td>\n      <td>CAJAMARCA</td>\n      <td>60101</td>\n      <td>9250</td>\n      <td>PRESTAR EL SERVICIO DE TRANSPORTE PÚBLICO ESPE...</td>\n      <td>2022-01-04</td>\n      <td>554</td>\n      <td>230.0</td>\n      <td>PLAZUELA BOLOGNESI C - 5</td>\n      <td>...</td>\n      <td>Transporte Especial en Mototaxi</td>\n      <td>-</td>\n      <td>SIN EMPRESA</td>\n      <td>SI</td>\n      <td>20220104</td>\n      <td>29.20</td>\n      <td>SI</td>\n      <td>20220105</td>\n      <td>20220107</td>\n      <td>20230615</td>\n    </tr>\n    <tr>\n      <th>4</th>\n      <td>CAJAMARCA</td>\n      <td>CAJAMARCA</td>\n      <td>CAJAMARCA</td>\n      <td>60101</td>\n      <td>9253</td>\n      <td>POR PRESTAR EL SERVICIO DE TRANSPORTE PÚBLICO ...</td>\n      <td>2022-01-04</td>\n      <td>556</td>\n      <td>230.0</td>\n      <td>JR. DOS DE MAYO C - 8</td>\n      <td>...</td>\n      <td>Transporte Especial en Mototaxi</td>\n      <td>TUC VIGENTE</td>\n      <td>Antonio Galvez EIRL.</td>\n      <td>SI</td>\n      <td>20220104</td>\n      <td>29.20</td>\n      <td>SI</td>\n      <td>20220106</td>\n      <td>20220107</td>\n      <td>20230615</td>\n    </tr>\n    <tr>\n      <th>...</th>\n      <td>...</td>\n      <td>...</td>\n      <td>...</td>\n      <td>...</td>\n      <td>...</td>\n      <td>...</td>\n      <td>...</td>\n      <td>...</td>\n      <td>...</td>\n      <td>...</td>\n      <td>...</td>\n      <td>...</td>\n      <td>...</td>\n      <td>...</td>\n      <td>...</td>\n      <td>...</td>\n      <td>...</td>\n      <td>...</td>\n      <td>...</td>\n      <td>...</td>\n      <td>...</td>\n    </tr>\n    <tr>\n      <th>10151</th>\n      <td>CAJAMARCA</td>\n      <td>CAJAMARCA</td>\n      <td>CAJAMARCA</td>\n      <td>60101</td>\n      <td>12768</td>\n      <td>PAGO POR REMOLQUE DE GRUA</td>\n      <td>2022-12-29</td>\n      <td>840</td>\n      <td>160.0</td>\n      <td>JR. AMALIA PUGA C - 5</td>\n      <td>...</td>\n      <td>-</td>\n      <td>-</td>\n      <td>SIN EMPRESA</td>\n      <td>SI</td>\n      <td>20221229</td>\n      <td>10.32</td>\n      <td>SI</td>\n      <td>20221229</td>\n      <td>20221229</td>\n      <td>20230615</td>\n    </tr>\n    <tr>\n      <th>10152</th>\n      <td>CAJAMARCA</td>\n      <td>CAJAMARCA</td>\n      <td>CAJAMARCA</td>\n      <td>60101</td>\n      <td>12769</td>\n      <td>POR ESTACIONAR VEHICULOS EN LA VIA PUBLICA AFE...</td>\n      <td>2022-12-29</td>\n      <td>957</td>\n      <td>368.0</td>\n      <td>JR. AMALIA PUGA C - 6</td>\n      <td>...</td>\n      <td>-</td>\n      <td>-</td>\n      <td>SIN EMPRESA</td>\n      <td>SI</td>\n      <td>20221229</td>\n      <td>10.32</td>\n      <td>SI</td>\n      <td>20221229</td>\n      <td>20221229</td>\n      <td>20230615</td>\n    </tr>\n    <tr>\n      <th>10153</th>\n      <td>CAJAMARCA</td>\n      <td>CAJAMARCA</td>\n      <td>CAJAMARCA</td>\n      <td>60101</td>\n      <td>12769</td>\n      <td>PAGO POR REMOLQUE DE GRUA</td>\n      <td>2022-12-29</td>\n      <td>957</td>\n      <td>160.0</td>\n      <td>JR. AMALIA PUGA C - 6</td>\n      <td>...</td>\n      <td>-</td>\n      <td>-</td>\n      <td>SIN EMPRESA</td>\n      <td>SI</td>\n      <td>20221229</td>\n      <td>10.32</td>\n      <td>SI</td>\n      <td>20221229</td>\n      <td>20221229</td>\n      <td>20230615</td>\n    </tr>\n    <tr>\n      <th>10154</th>\n      <td>CAJAMARCA</td>\n      <td>CAJAMARCA</td>\n      <td>CAJAMARCA</td>\n      <td>60101</td>\n      <td>12770</td>\n      <td>POR ESTACIONAR VEHICULOS EN AREAS DE USO PUBLI...</td>\n      <td>2022-12-29</td>\n      <td>1104</td>\n      <td>368.0</td>\n      <td>JR. DEL COMERCIO C - 7</td>\n      <td>...</td>\n      <td>-</td>\n      <td>-</td>\n      <td>SIN EMPRESA</td>\n      <td>SI</td>\n      <td>20221229</td>\n      <td>0.00</td>\n      <td>NO</td>\n      <td>-</td>\n      <td>-</td>\n      <td>20230615</td>\n    </tr>\n    <tr>\n      <th>10155</th>\n      <td>CAJAMARCA</td>\n      <td>CAJAMARCA</td>\n      <td>CAJAMARCA</td>\n      <td>60101</td>\n      <td>12770</td>\n      <td>PAGO POR REMOLQUE DE GRUA</td>\n      <td>2022-12-29</td>\n      <td>1104</td>\n      <td>160.0</td>\n      <td>JR. DEL COMERCIO C - 7</td>\n      <td>...</td>\n      <td>-</td>\n      <td>-</td>\n      <td>SIN EMPRESA</td>\n      <td>SI</td>\n      <td>20221229</td>\n      <td>0.00</td>\n      <td>NO</td>\n      <td>-</td>\n      <td>-</td>\n      <td>20230615</td>\n    </tr>\n  </tbody>\n</table>\n<p>10156 rows × 25 columns</p>\n</div>"
     },
     "execution_count": 18,
     "metadata": {},
     "output_type": "execute_result"
    }
   ],
   "source": [
    "df"
   ],
   "metadata": {
    "collapsed": false,
    "ExecuteTime": {
     "end_time": "2023-07-29T14:23:14.273889100Z",
     "start_time": "2023-07-29T14:23:14.219988400Z"
    }
   },
   "id": "5a8ba90a7f042efe"
  },
  {
   "cell_type": "code",
   "execution_count": 19,
   "outputs": [
    {
     "data": {
      "text/plain": "FECHA_INFRACCION\n2022-01-04    71\n2022-01-05    82\n2022-01-06    69\n2022-01-07    71\n2022-01-08    39\n              ..\n2022-12-22    28\n2022-12-23     4\n2022-12-27    30\n2022-12-28    24\n2022-12-29     8\nName: CODIGO_INFRACCION, Length: 312, dtype: int64"
     },
     "execution_count": 19,
     "metadata": {},
     "output_type": "execute_result"
    }
   ],
   "source": [
    "df.groupby(by=\"FECHA_INFRACCION\")[\"CODIGO_INFRACCION\"].count()"
   ],
   "metadata": {
    "collapsed": false,
    "ExecuteTime": {
     "end_time": "2023-07-29T14:23:38.043367300Z",
     "start_time": "2023-07-29T14:23:38.027681500Z"
    }
   },
   "id": "1f8ec5884d054c1f"
  },
  {
   "cell_type": "code",
   "execution_count": 23,
   "outputs": [],
   "source": [
    "df1 = df.groupby([\"FECHA_INFRACCION\", \"CODIGO_INFRACCION\"])[\"CODIGO_INFRACCION\"].count().reset_index(name=\"CANTIDAD\")"
   ],
   "metadata": {
    "collapsed": false,
    "ExecuteTime": {
     "end_time": "2023-07-29T14:28:34.167192600Z",
     "start_time": "2023-07-29T14:28:34.133227400Z"
    }
   },
   "id": "937211f001e378e7"
  },
  {
   "cell_type": "code",
   "execution_count": 26,
   "outputs": [
    {
     "data": {
      "text/plain": "     FECHA_INFRACCION  CODIGO_INFRACCION  CANTIDAD\n0          2022-01-04               9233         4\n1          2022-01-04               9234         2\n2          2022-01-04               9235         2\n3          2022-01-04               9236         1\n4          2022-01-04               9237         2\n...               ...                ...       ...\n3487       2022-12-28              12766         4\n3488       2022-12-28              12767         4\n3489       2022-12-29              12768         4\n3490       2022-12-29              12769         2\n3491       2022-12-29              12770         2\n\n[3492 rows x 3 columns]",
      "text/html": "<div>\n<style scoped>\n    .dataframe tbody tr th:only-of-type {\n        vertical-align: middle;\n    }\n\n    .dataframe tbody tr th {\n        vertical-align: top;\n    }\n\n    .dataframe thead th {\n        text-align: right;\n    }\n</style>\n<table border=\"1\" class=\"dataframe\">\n  <thead>\n    <tr style=\"text-align: right;\">\n      <th></th>\n      <th>FECHA_INFRACCION</th>\n      <th>CODIGO_INFRACCION</th>\n      <th>CANTIDAD</th>\n    </tr>\n  </thead>\n  <tbody>\n    <tr>\n      <th>0</th>\n      <td>2022-01-04</td>\n      <td>9233</td>\n      <td>4</td>\n    </tr>\n    <tr>\n      <th>1</th>\n      <td>2022-01-04</td>\n      <td>9234</td>\n      <td>2</td>\n    </tr>\n    <tr>\n      <th>2</th>\n      <td>2022-01-04</td>\n      <td>9235</td>\n      <td>2</td>\n    </tr>\n    <tr>\n      <th>3</th>\n      <td>2022-01-04</td>\n      <td>9236</td>\n      <td>1</td>\n    </tr>\n    <tr>\n      <th>4</th>\n      <td>2022-01-04</td>\n      <td>9237</td>\n      <td>2</td>\n    </tr>\n    <tr>\n      <th>...</th>\n      <td>...</td>\n      <td>...</td>\n      <td>...</td>\n    </tr>\n    <tr>\n      <th>3487</th>\n      <td>2022-12-28</td>\n      <td>12766</td>\n      <td>4</td>\n    </tr>\n    <tr>\n      <th>3488</th>\n      <td>2022-12-28</td>\n      <td>12767</td>\n      <td>4</td>\n    </tr>\n    <tr>\n      <th>3489</th>\n      <td>2022-12-29</td>\n      <td>12768</td>\n      <td>4</td>\n    </tr>\n    <tr>\n      <th>3490</th>\n      <td>2022-12-29</td>\n      <td>12769</td>\n      <td>2</td>\n    </tr>\n    <tr>\n      <th>3491</th>\n      <td>2022-12-29</td>\n      <td>12770</td>\n      <td>2</td>\n    </tr>\n  </tbody>\n</table>\n<p>3492 rows × 3 columns</p>\n</div>"
     },
     "execution_count": 26,
     "metadata": {},
     "output_type": "execute_result"
    }
   ],
   "source": [
    "df1"
   ],
   "metadata": {
    "collapsed": false,
    "ExecuteTime": {
     "end_time": "2023-07-29T19:12:29.318678100Z",
     "start_time": "2023-07-29T19:12:29.303093700Z"
    }
   },
   "id": "fb9dbe205aef7b51"
  },
  {
   "cell_type": "code",
   "execution_count": 27,
   "outputs": [
    {
     "data": {
      "text/plain": "FECHA_INFRACCION  CODIGO_INFRACCION\n2022-01-04        9233                 4\n                  9234                 2\n                  9235                 2\n                  9236                 1\n                  9237                 2\n                                      ..\n2022-12-28        12766                4\n                  12767                4\n2022-12-29        12768                4\n                  12769                2\n                  12770                2\nName: CODIGO_INFRACCION, Length: 3492, dtype: int64"
     },
     "execution_count": 27,
     "metadata": {},
     "output_type": "execute_result"
    }
   ],
   "source": [
    "df.groupby([\"FECHA_INFRACCION\", \"CODIGO_INFRACCION\"])[\"CODIGO_INFRACCION\"].count()"
   ],
   "metadata": {
    "collapsed": false,
    "ExecuteTime": {
     "end_time": "2023-07-29T19:19:09.878482300Z",
     "start_time": "2023-07-29T19:19:09.833398700Z"
    }
   },
   "id": "626769b8f9e4e98b"
  },
  {
   "cell_type": "code",
   "execution_count": null,
   "outputs": [],
   "source": [],
   "metadata": {
    "collapsed": false
   },
   "id": "c6ce7ef6db42982d"
  }
 ],
 "metadata": {
  "kernelspec": {
   "display_name": "Python 3",
   "language": "python",
   "name": "python3"
  },
  "language_info": {
   "codemirror_mode": {
    "name": "ipython",
    "version": 2
   },
   "file_extension": ".py",
   "mimetype": "text/x-python",
   "name": "python",
   "nbconvert_exporter": "python",
   "pygments_lexer": "ipython2",
   "version": "2.7.6"
  }
 },
 "nbformat": 4,
 "nbformat_minor": 5
}
