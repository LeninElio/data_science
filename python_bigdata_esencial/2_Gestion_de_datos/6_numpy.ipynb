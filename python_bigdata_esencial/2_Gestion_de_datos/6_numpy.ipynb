{
 "cells": [
  {
   "cell_type": "markdown",
   "source": [
    "### Introducción a Numpy"
   ],
   "metadata": {
    "collapsed": false
   },
   "id": "84827364cd41fda3"
  },
  {
   "cell_type": "code",
   "execution_count": 3,
   "id": "initial_id",
   "metadata": {
    "collapsed": true,
    "ExecuteTime": {
     "end_time": "2023-07-29T19:39:39.704082400Z",
     "start_time": "2023-07-29T19:39:39.689264400Z"
    }
   },
   "outputs": [],
   "source": [
    "import numpy as np"
   ]
  },
  {
   "cell_type": "code",
   "execution_count": 4,
   "outputs": [
    {
     "data": {
      "text/plain": "array([[8, 7, 8, 5],\n       [2, 6, 2, 1],\n       [8, 8, 9, 5]])"
     },
     "execution_count": 4,
     "metadata": {},
     "output_type": "execute_result"
    }
   ],
   "source": [
    "valoraciones = np.array([[8, 7, 8, 5], [2, 6, 2, 1], [8, 8, 9, 5]])\n",
    "valoraciones"
   ],
   "metadata": {
    "collapsed": false,
    "ExecuteTime": {
     "end_time": "2023-07-29T19:41:31.188689100Z",
     "start_time": "2023-07-29T19:41:31.168085300Z"
    }
   },
   "id": "a5bb8b368e8fe8fd"
  },
  {
   "cell_type": "code",
   "execution_count": 5,
   "outputs": [
    {
     "data": {
      "text/plain": "7"
     },
     "execution_count": 5,
     "metadata": {},
     "output_type": "execute_result"
    }
   ],
   "source": [
    "# Acceder a la información\n",
    "valoraciones[0][1]"
   ],
   "metadata": {
    "collapsed": false,
    "ExecuteTime": {
     "end_time": "2023-07-29T19:43:10.626744400Z",
     "start_time": "2023-07-29T19:43:10.601816Z"
    }
   },
   "id": "a4b12c9b577bf720"
  },
  {
   "cell_type": "code",
   "execution_count": 6,
   "outputs": [
    {
     "data": {
      "text/plain": "7"
     },
     "execution_count": 6,
     "metadata": {},
     "output_type": "execute_result"
    }
   ],
   "source": [
    "# Notacion alternativa para acceder a la misma información\n",
    "valoraciones[0, 1]"
   ],
   "metadata": {
    "collapsed": false,
    "ExecuteTime": {
     "end_time": "2023-07-30T01:52:52.602326400Z",
     "start_time": "2023-07-30T01:52:52.557986100Z"
    }
   },
   "id": "c06456d17a63bc59"
  },
  {
   "cell_type": "code",
   "execution_count": 9,
   "outputs": [],
   "source": [
    "# Arreglo de tres dimensiones\n",
    "valoraciones_2 = np.array([[[8, 7, 8, 5], [2, 5, 5, 2]], [[2, 6, 8, 4], [8, 9, 7, 4]], [[8, 8, 9, 3], [10, 9, 10, 8]]])"
   ],
   "metadata": {
    "collapsed": false,
    "ExecuteTime": {
     "end_time": "2023-07-30T01:56:35.471224Z",
     "start_time": "2023-07-30T01:56:35.434866600Z"
    }
   },
   "id": "f504bcceb720e02b"
  },
  {
   "cell_type": "code",
   "execution_count": 10,
   "outputs": [
    {
     "data": {
      "text/plain": "array([[[ 8,  7,  8,  5],\n        [ 2,  5,  5,  2]],\n\n       [[ 2,  6,  8,  4],\n        [ 8,  9,  7,  4]],\n\n       [[ 8,  8,  9,  3],\n        [10,  9, 10,  8]]])"
     },
     "execution_count": 10,
     "metadata": {},
     "output_type": "execute_result"
    }
   ],
   "source": [
    "valoraciones_2"
   ],
   "metadata": {
    "collapsed": false,
    "ExecuteTime": {
     "end_time": "2023-07-30T01:56:36.619906500Z",
     "start_time": "2023-07-30T01:56:36.595866Z"
    }
   },
   "id": "ed1122d1f334fe53"
  },
  {
   "cell_type": "code",
   "execution_count": 11,
   "outputs": [
    {
     "data": {
      "text/plain": "array([[8, 7, 8, 5],\n       [2, 5, 5, 2]])"
     },
     "execution_count": 11,
     "metadata": {},
     "output_type": "execute_result"
    }
   ],
   "source": [
    "valoraciones_2[0]"
   ],
   "metadata": {
    "collapsed": false,
    "ExecuteTime": {
     "end_time": "2023-07-30T01:58:07.864116100Z",
     "start_time": "2023-07-30T01:58:07.839995700Z"
    }
   },
   "id": "c98162c1a690f0"
  },
  {
   "cell_type": "code",
   "execution_count": 12,
   "outputs": [
    {
     "data": {
      "text/plain": "array([8, 7, 8, 5])"
     },
     "execution_count": 12,
     "metadata": {},
     "output_type": "execute_result"
    }
   ],
   "source": [
    "valoraciones_2[0, 0]"
   ],
   "metadata": {
    "collapsed": false,
    "ExecuteTime": {
     "end_time": "2023-07-30T01:58:26.734907300Z",
     "start_time": "2023-07-30T01:58:26.621894800Z"
    }
   },
   "id": "7c56a4933030e96d"
  },
  {
   "cell_type": "code",
   "execution_count": 13,
   "outputs": [
    {
     "data": {
      "text/plain": "8"
     },
     "execution_count": 13,
     "metadata": {},
     "output_type": "execute_result"
    }
   ],
   "source": [
    "valoraciones_2[0, 0, 0]"
   ],
   "metadata": {
    "collapsed": false,
    "ExecuteTime": {
     "end_time": "2023-07-30T01:58:41.715765500Z",
     "start_time": "2023-07-30T01:58:41.687257800Z"
    }
   },
   "id": "e4824a57f8d8a678"
  },
  {
   "cell_type": "code",
   "execution_count": 14,
   "outputs": [
    {
     "data": {
      "text/plain": "array([[[0., 0., 0., 0.],\n        [0., 0., 0., 0.]],\n\n       [[0., 0., 0., 0.],\n        [0., 0., 0., 0.]],\n\n       [[0., 0., 0., 0.],\n        [0., 0., 0., 0.]]])"
     },
     "execution_count": 14,
     "metadata": {},
     "output_type": "execute_result"
    }
   ],
   "source": [
    "# Arrays vacios\n",
    "np.zeros((3, 2, 4))"
   ],
   "metadata": {
    "collapsed": false,
    "ExecuteTime": {
     "end_time": "2023-07-30T02:00:27.762592800Z",
     "start_time": "2023-07-30T02:00:27.689583600Z"
    }
   },
   "id": "c15303c046117e39"
  },
  {
   "cell_type": "code",
   "execution_count": 16,
   "outputs": [
    {
     "data": {
      "text/plain": "array([[[ 9.,  8.,  9.,  6.],\n        [ 3.,  6.,  6.,  3.]],\n\n       [[ 3.,  7.,  9.,  5.],\n        [ 9., 10.,  8.,  5.]],\n\n       [[ 9.,  9., 10.,  4.],\n        [11., 10., 11.,  9.]]])"
     },
     "execution_count": 16,
     "metadata": {},
     "output_type": "execute_result"
    }
   ],
   "source": [
    "# Operaciones entre arrays de los mismos tamaños\n",
    "valoraciones_2 + np.ones((3, 2, 4))"
   ],
   "metadata": {
    "collapsed": false,
    "ExecuteTime": {
     "end_time": "2023-07-30T02:01:47.190305600Z",
     "start_time": "2023-07-30T02:01:47.101378100Z"
    }
   },
   "id": "2edbaeb19096ae25"
  },
  {
   "cell_type": "code",
   "execution_count": 17,
   "outputs": [
    {
     "data": {
      "text/plain": "6.458333333333333"
     },
     "execution_count": 17,
     "metadata": {},
     "output_type": "execute_result"
    }
   ],
   "source": [
    "valoraciones_2.mean()"
   ],
   "metadata": {
    "collapsed": false,
    "ExecuteTime": {
     "end_time": "2023-07-30T02:02:11.119264100Z",
     "start_time": "2023-07-30T02:02:11.080338200Z"
    }
   },
   "id": "9fb21026d097d485"
  },
  {
   "cell_type": "code",
   "execution_count": 26,
   "outputs": [
    {
     "data": {
      "text/plain": "array([[[ 1,  2,  3,  4],\n        [ 5,  6,  7,  8],\n        [ 9, 10, 11, 12]],\n\n       [[13, 14, 15, 16],\n        [17, 18, 19, 20],\n        [21, 22, 23, 24]],\n\n       [[25, 26, 27, 28],\n        [29, 30, 31, 32],\n        [33, 34, 35, 36]]])"
     },
     "execution_count": 26,
     "metadata": {},
     "output_type": "execute_result"
    }
   ],
   "source": [
    "# Convertir una lista en un array\n",
    "np.reshape([i for i in range(1, 37)], (3, 3, 4))"
   ],
   "metadata": {
    "collapsed": false,
    "ExecuteTime": {
     "end_time": "2023-07-30T02:07:47.693531600Z",
     "start_time": "2023-07-30T02:07:47.669014600Z"
    }
   },
   "id": "83eea12c3553ca5f"
  },
  {
   "cell_type": "code",
   "execution_count": null,
   "outputs": [],
   "source": [],
   "metadata": {
    "collapsed": false
   },
   "id": "96aabf1b0c2511b1"
  }
 ],
 "metadata": {
  "kernelspec": {
   "display_name": "Python 3",
   "language": "python",
   "name": "python3"
  },
  "language_info": {
   "codemirror_mode": {
    "name": "ipython",
    "version": 2
   },
   "file_extension": ".py",
   "mimetype": "text/x-python",
   "name": "python",
   "nbconvert_exporter": "python",
   "pygments_lexer": "ipython2",
   "version": "2.7.6"
  }
 },
 "nbformat": 4,
 "nbformat_minor": 5
}
