{
 "cells": [
  {
   "cell_type": "code",
   "execution_count": 1,
   "metadata": {
    "collapsed": true,
    "ExecuteTime": {
     "end_time": "2023-07-28T14:55:45.280805400Z",
     "start_time": "2023-07-28T14:55:39.834830300Z"
    }
   },
   "outputs": [],
   "source": [
    "import pandas as pd"
   ]
  },
  {
   "cell_type": "code",
   "execution_count": 5,
   "outputs": [],
   "source": [
    "# Se puede usar nrows para limitar la cantidad de filas a leer\n",
    "df = pd.read_csv('../data/infracciones_de_transito.csv')"
   ],
   "metadata": {
    "collapsed": false,
    "ExecuteTime": {
     "end_time": "2023-07-28T15:01:29.869703900Z",
     "start_time": "2023-07-28T15:01:29.334996700Z"
    }
   }
  },
  {
   "cell_type": "code",
   "execution_count": 9,
   "outputs": [
    {
     "data": {
      "text/plain": "  DEPARTAMENTO  PROVINCIA   DISTRITO  UBIGEO  CODIGO_INFRACCION  \\\n0    CAJAMARCA  CAJAMARCA  CAJAMARCA   60101               9254   \n1    CAJAMARCA  CAJAMARCA  CAJAMARCA   60101               9254   \n2    CAJAMARCA  CAJAMARCA  CAJAMARCA   60101               9250   \n3    CAJAMARCA  CAJAMARCA  CAJAMARCA   60101               9250   \n4    CAJAMARCA  CAJAMARCA  CAJAMARCA   60101               9253   \n\n                                          INFRACCION  FECHA_INFRACCION  \\\n0  POR PRESTAR EL SERVICIO DE TRANSPORTE PÚBLICO ...          20220104   \n1  POR PRESTAR EL SERVICIO DE TRANSPORTE PÚBLICO ...          20220104   \n2  PRESTAR EL SERVICIO DE TRANSPORTE PÚBLICO ESPE...          20220104   \n3  PRESTAR EL SERVICIO DE TRANSPORTE PÚBLICO ESPE...          20220104   \n4  POR PRESTAR EL SERVICIO DE TRANSPORTE PÚBLICO ...          20220104   \n\n   HORA_INFRACCION  MONTO_INFRACCION          LUGAR_INFRACCION  ...  \\\n0              541             230.0     JR. DOS DE MAYO C - 8  ...   \n1              541             230.0     JR. DOS DE MAYO C - 8  ...   \n2              554             230.0  PLAZUELA BOLOGNESI C - 5  ...   \n3              554             230.0  PLAZUELA BOLOGNESI C - 5  ...   \n4              556             230.0     JR. DOS DE MAYO C - 8  ...   \n\n                     TIPO_SERVICIO   TUC_ESTADO  \\\n0  Transporte Especial en Mototaxi  TUC VIGENTE   \n1  Transporte Especial en Mototaxi  TUC VIGENTE   \n2  Transporte Especial en Mototaxi            -   \n3  Transporte Especial en Mototaxi            -   \n4  Transporte Especial en Mototaxi  TUC VIGENTE   \n\n                                   EMPRESA INTERNAMIENTO_VEHICULO  \\\n0  Empresa de Transporte Monte Santo EIRL.                     SI   \n1  Empresa de Transporte Monte Santo EIRL.                     SI   \n2                              SIN EMPRESA                     SI   \n3                              SIN EMPRESA                     SI   \n4                     Antonio Galvez EIRL.                     SI   \n\n  FECHA_INTERNAMIENTO MULTA_INTERNAMIENTO SE_PAGO_MULTAS FECHA_PAGO_MULTAS  \\\n0            20220104               29.20             SI          20220105   \n1            20220104               29.20             SI          20220105   \n2            20220104               29.20             SI          20220105   \n3            20220104               29.20             SI          20220105   \n4            20220104               29.20             SI          20220106   \n\n  FECHA_DESINTERNAMIENTO FECHA_CORTE  \n0               20220107    20230615  \n1               20220107    20230615  \n2               20220107    20230615  \n3               20220107    20230615  \n4               20220107    20230615  \n\n[5 rows x 25 columns]",
      "text/html": "<div>\n<style scoped>\n    .dataframe tbody tr th:only-of-type {\n        vertical-align: middle;\n    }\n\n    .dataframe tbody tr th {\n        vertical-align: top;\n    }\n\n    .dataframe thead th {\n        text-align: right;\n    }\n</style>\n<table border=\"1\" class=\"dataframe\">\n  <thead>\n    <tr style=\"text-align: right;\">\n      <th></th>\n      <th>DEPARTAMENTO</th>\n      <th>PROVINCIA</th>\n      <th>DISTRITO</th>\n      <th>UBIGEO</th>\n      <th>CODIGO_INFRACCION</th>\n      <th>INFRACCION</th>\n      <th>FECHA_INFRACCION</th>\n      <th>HORA_INFRACCION</th>\n      <th>MONTO_INFRACCION</th>\n      <th>LUGAR_INFRACCION</th>\n      <th>...</th>\n      <th>TIPO_SERVICIO</th>\n      <th>TUC_ESTADO</th>\n      <th>EMPRESA</th>\n      <th>INTERNAMIENTO_VEHICULO</th>\n      <th>FECHA_INTERNAMIENTO</th>\n      <th>MULTA_INTERNAMIENTO</th>\n      <th>SE_PAGO_MULTAS</th>\n      <th>FECHA_PAGO_MULTAS</th>\n      <th>FECHA_DESINTERNAMIENTO</th>\n      <th>FECHA_CORTE</th>\n    </tr>\n  </thead>\n  <tbody>\n    <tr>\n      <th>0</th>\n      <td>CAJAMARCA</td>\n      <td>CAJAMARCA</td>\n      <td>CAJAMARCA</td>\n      <td>60101</td>\n      <td>9254</td>\n      <td>POR PRESTAR EL SERVICIO DE TRANSPORTE PÚBLICO ...</td>\n      <td>20220104</td>\n      <td>541</td>\n      <td>230.0</td>\n      <td>JR. DOS DE MAYO C - 8</td>\n      <td>...</td>\n      <td>Transporte Especial en Mototaxi</td>\n      <td>TUC VIGENTE</td>\n      <td>Empresa de Transporte Monte Santo EIRL.</td>\n      <td>SI</td>\n      <td>20220104</td>\n      <td>29.20</td>\n      <td>SI</td>\n      <td>20220105</td>\n      <td>20220107</td>\n      <td>20230615</td>\n    </tr>\n    <tr>\n      <th>1</th>\n      <td>CAJAMARCA</td>\n      <td>CAJAMARCA</td>\n      <td>CAJAMARCA</td>\n      <td>60101</td>\n      <td>9254</td>\n      <td>POR PRESTAR EL SERVICIO DE TRANSPORTE PÚBLICO ...</td>\n      <td>20220104</td>\n      <td>541</td>\n      <td>230.0</td>\n      <td>JR. DOS DE MAYO C - 8</td>\n      <td>...</td>\n      <td>Transporte Especial en Mototaxi</td>\n      <td>TUC VIGENTE</td>\n      <td>Empresa de Transporte Monte Santo EIRL.</td>\n      <td>SI</td>\n      <td>20220104</td>\n      <td>29.20</td>\n      <td>SI</td>\n      <td>20220105</td>\n      <td>20220107</td>\n      <td>20230615</td>\n    </tr>\n    <tr>\n      <th>2</th>\n      <td>CAJAMARCA</td>\n      <td>CAJAMARCA</td>\n      <td>CAJAMARCA</td>\n      <td>60101</td>\n      <td>9250</td>\n      <td>PRESTAR EL SERVICIO DE TRANSPORTE PÚBLICO ESPE...</td>\n      <td>20220104</td>\n      <td>554</td>\n      <td>230.0</td>\n      <td>PLAZUELA BOLOGNESI C - 5</td>\n      <td>...</td>\n      <td>Transporte Especial en Mototaxi</td>\n      <td>-</td>\n      <td>SIN EMPRESA</td>\n      <td>SI</td>\n      <td>20220104</td>\n      <td>29.20</td>\n      <td>SI</td>\n      <td>20220105</td>\n      <td>20220107</td>\n      <td>20230615</td>\n    </tr>\n    <tr>\n      <th>3</th>\n      <td>CAJAMARCA</td>\n      <td>CAJAMARCA</td>\n      <td>CAJAMARCA</td>\n      <td>60101</td>\n      <td>9250</td>\n      <td>PRESTAR EL SERVICIO DE TRANSPORTE PÚBLICO ESPE...</td>\n      <td>20220104</td>\n      <td>554</td>\n      <td>230.0</td>\n      <td>PLAZUELA BOLOGNESI C - 5</td>\n      <td>...</td>\n      <td>Transporte Especial en Mototaxi</td>\n      <td>-</td>\n      <td>SIN EMPRESA</td>\n      <td>SI</td>\n      <td>20220104</td>\n      <td>29.20</td>\n      <td>SI</td>\n      <td>20220105</td>\n      <td>20220107</td>\n      <td>20230615</td>\n    </tr>\n    <tr>\n      <th>4</th>\n      <td>CAJAMARCA</td>\n      <td>CAJAMARCA</td>\n      <td>CAJAMARCA</td>\n      <td>60101</td>\n      <td>9253</td>\n      <td>POR PRESTAR EL SERVICIO DE TRANSPORTE PÚBLICO ...</td>\n      <td>20220104</td>\n      <td>556</td>\n      <td>230.0</td>\n      <td>JR. DOS DE MAYO C - 8</td>\n      <td>...</td>\n      <td>Transporte Especial en Mototaxi</td>\n      <td>TUC VIGENTE</td>\n      <td>Antonio Galvez EIRL.</td>\n      <td>SI</td>\n      <td>20220104</td>\n      <td>29.20</td>\n      <td>SI</td>\n      <td>20220106</td>\n      <td>20220107</td>\n      <td>20230615</td>\n    </tr>\n  </tbody>\n</table>\n<p>5 rows × 25 columns</p>\n</div>"
     },
     "execution_count": 9,
     "metadata": {},
     "output_type": "execute_result"
    }
   ],
   "source": [
    "# head nos muestra las primeras 5 filas o la cantidad que indiquemos dentro de la función.\n",
    "df.head(5)"
   ],
   "metadata": {
    "collapsed": false,
    "ExecuteTime": {
     "end_time": "2023-07-28T15:06:25.275905300Z",
     "start_time": "2023-07-28T15:06:25.249959900Z"
    }
   }
  },
  {
   "cell_type": "code",
   "execution_count": 10,
   "outputs": [
    {
     "data": {
      "text/plain": "      DEPARTAMENTO  PROVINCIA   DISTRITO  UBIGEO  CODIGO_INFRACCION  \\\n10151    CAJAMARCA  CAJAMARCA  CAJAMARCA   60101              12768   \n10152    CAJAMARCA  CAJAMARCA  CAJAMARCA   60101              12769   \n10153    CAJAMARCA  CAJAMARCA  CAJAMARCA   60101              12769   \n10154    CAJAMARCA  CAJAMARCA  CAJAMARCA   60101              12770   \n10155    CAJAMARCA  CAJAMARCA  CAJAMARCA   60101              12770   \n\n                                              INFRACCION  FECHA_INFRACCION  \\\n10151                          PAGO POR REMOLQUE DE GRUA          20221229   \n10152  POR ESTACIONAR VEHICULOS EN LA VIA PUBLICA AFE...          20221229   \n10153                          PAGO POR REMOLQUE DE GRUA          20221229   \n10154  POR ESTACIONAR VEHICULOS EN AREAS DE USO PUBLI...          20221229   \n10155                          PAGO POR REMOLQUE DE GRUA          20221229   \n\n       HORA_INFRACCION  MONTO_INFRACCION        LUGAR_INFRACCION  ...  \\\n10151              840             160.0   JR. AMALIA PUGA C - 5  ...   \n10152              957             368.0   JR. AMALIA PUGA C - 6  ...   \n10153              957             160.0   JR. AMALIA PUGA C - 6  ...   \n10154             1104             368.0  JR. DEL COMERCIO C - 7  ...   \n10155             1104             160.0  JR. DEL COMERCIO C - 7  ...   \n\n      TIPO_SERVICIO TUC_ESTADO      EMPRESA INTERNAMIENTO_VEHICULO  \\\n10151             -          -  SIN EMPRESA                     SI   \n10152             -          -  SIN EMPRESA                     SI   \n10153             -          -  SIN EMPRESA                     SI   \n10154             -          -  SIN EMPRESA                     SI   \n10155             -          -  SIN EMPRESA                     SI   \n\n      FECHA_INTERNAMIENTO MULTA_INTERNAMIENTO SE_PAGO_MULTAS  \\\n10151            20221229               10.32             SI   \n10152            20221229               10.32             SI   \n10153            20221229               10.32             SI   \n10154            20221229                0.00             NO   \n10155            20221229                0.00             NO   \n\n      FECHA_PAGO_MULTAS FECHA_DESINTERNAMIENTO FECHA_CORTE  \n10151          20221229               20221229    20230615  \n10152          20221229               20221229    20230615  \n10153          20221229               20221229    20230615  \n10154                 -                      -    20230615  \n10155                 -                      -    20230615  \n\n[5 rows x 25 columns]",
      "text/html": "<div>\n<style scoped>\n    .dataframe tbody tr th:only-of-type {\n        vertical-align: middle;\n    }\n\n    .dataframe tbody tr th {\n        vertical-align: top;\n    }\n\n    .dataframe thead th {\n        text-align: right;\n    }\n</style>\n<table border=\"1\" class=\"dataframe\">\n  <thead>\n    <tr style=\"text-align: right;\">\n      <th></th>\n      <th>DEPARTAMENTO</th>\n      <th>PROVINCIA</th>\n      <th>DISTRITO</th>\n      <th>UBIGEO</th>\n      <th>CODIGO_INFRACCION</th>\n      <th>INFRACCION</th>\n      <th>FECHA_INFRACCION</th>\n      <th>HORA_INFRACCION</th>\n      <th>MONTO_INFRACCION</th>\n      <th>LUGAR_INFRACCION</th>\n      <th>...</th>\n      <th>TIPO_SERVICIO</th>\n      <th>TUC_ESTADO</th>\n      <th>EMPRESA</th>\n      <th>INTERNAMIENTO_VEHICULO</th>\n      <th>FECHA_INTERNAMIENTO</th>\n      <th>MULTA_INTERNAMIENTO</th>\n      <th>SE_PAGO_MULTAS</th>\n      <th>FECHA_PAGO_MULTAS</th>\n      <th>FECHA_DESINTERNAMIENTO</th>\n      <th>FECHA_CORTE</th>\n    </tr>\n  </thead>\n  <tbody>\n    <tr>\n      <th>10151</th>\n      <td>CAJAMARCA</td>\n      <td>CAJAMARCA</td>\n      <td>CAJAMARCA</td>\n      <td>60101</td>\n      <td>12768</td>\n      <td>PAGO POR REMOLQUE DE GRUA</td>\n      <td>20221229</td>\n      <td>840</td>\n      <td>160.0</td>\n      <td>JR. AMALIA PUGA C - 5</td>\n      <td>...</td>\n      <td>-</td>\n      <td>-</td>\n      <td>SIN EMPRESA</td>\n      <td>SI</td>\n      <td>20221229</td>\n      <td>10.32</td>\n      <td>SI</td>\n      <td>20221229</td>\n      <td>20221229</td>\n      <td>20230615</td>\n    </tr>\n    <tr>\n      <th>10152</th>\n      <td>CAJAMARCA</td>\n      <td>CAJAMARCA</td>\n      <td>CAJAMARCA</td>\n      <td>60101</td>\n      <td>12769</td>\n      <td>POR ESTACIONAR VEHICULOS EN LA VIA PUBLICA AFE...</td>\n      <td>20221229</td>\n      <td>957</td>\n      <td>368.0</td>\n      <td>JR. AMALIA PUGA C - 6</td>\n      <td>...</td>\n      <td>-</td>\n      <td>-</td>\n      <td>SIN EMPRESA</td>\n      <td>SI</td>\n      <td>20221229</td>\n      <td>10.32</td>\n      <td>SI</td>\n      <td>20221229</td>\n      <td>20221229</td>\n      <td>20230615</td>\n    </tr>\n    <tr>\n      <th>10153</th>\n      <td>CAJAMARCA</td>\n      <td>CAJAMARCA</td>\n      <td>CAJAMARCA</td>\n      <td>60101</td>\n      <td>12769</td>\n      <td>PAGO POR REMOLQUE DE GRUA</td>\n      <td>20221229</td>\n      <td>957</td>\n      <td>160.0</td>\n      <td>JR. AMALIA PUGA C - 6</td>\n      <td>...</td>\n      <td>-</td>\n      <td>-</td>\n      <td>SIN EMPRESA</td>\n      <td>SI</td>\n      <td>20221229</td>\n      <td>10.32</td>\n      <td>SI</td>\n      <td>20221229</td>\n      <td>20221229</td>\n      <td>20230615</td>\n    </tr>\n    <tr>\n      <th>10154</th>\n      <td>CAJAMARCA</td>\n      <td>CAJAMARCA</td>\n      <td>CAJAMARCA</td>\n      <td>60101</td>\n      <td>12770</td>\n      <td>POR ESTACIONAR VEHICULOS EN AREAS DE USO PUBLI...</td>\n      <td>20221229</td>\n      <td>1104</td>\n      <td>368.0</td>\n      <td>JR. DEL COMERCIO C - 7</td>\n      <td>...</td>\n      <td>-</td>\n      <td>-</td>\n      <td>SIN EMPRESA</td>\n      <td>SI</td>\n      <td>20221229</td>\n      <td>0.00</td>\n      <td>NO</td>\n      <td>-</td>\n      <td>-</td>\n      <td>20230615</td>\n    </tr>\n    <tr>\n      <th>10155</th>\n      <td>CAJAMARCA</td>\n      <td>CAJAMARCA</td>\n      <td>CAJAMARCA</td>\n      <td>60101</td>\n      <td>12770</td>\n      <td>PAGO POR REMOLQUE DE GRUA</td>\n      <td>20221229</td>\n      <td>1104</td>\n      <td>160.0</td>\n      <td>JR. DEL COMERCIO C - 7</td>\n      <td>...</td>\n      <td>-</td>\n      <td>-</td>\n      <td>SIN EMPRESA</td>\n      <td>SI</td>\n      <td>20221229</td>\n      <td>0.00</td>\n      <td>NO</td>\n      <td>-</td>\n      <td>-</td>\n      <td>20230615</td>\n    </tr>\n  </tbody>\n</table>\n<p>5 rows × 25 columns</p>\n</div>"
     },
     "execution_count": 10,
     "metadata": {},
     "output_type": "execute_result"
    }
   ],
   "source": [
    "# tail nos muestra las últimas 5 filas o la cantidad que indiquemos dentro de la función.\n",
    "df.tail(5)"
   ],
   "metadata": {
    "collapsed": false,
    "ExecuteTime": {
     "end_time": "2023-07-28T15:06:27.836426300Z",
     "start_time": "2023-07-28T15:06:27.819345100Z"
    }
   }
  },
  {
   "cell_type": "code",
   "execution_count": 11,
   "outputs": [
    {
     "data": {
      "text/plain": "      DEPARTAMENTO  PROVINCIA   DISTRITO  UBIGEO  CODIGO_INFRACCION  \\\n7181     CAJAMARCA  CAJAMARCA  CAJAMARCA   60101              11876   \n8234     CAJAMARCA  CAJAMARCA  CAJAMARCA   60101              12205   \n10108    CAJAMARCA  CAJAMARCA  CAJAMARCA   60101              12757   \n8992     CAJAMARCA  CAJAMARCA  CAJAMARCA   60101              12424   \n1369     CAJAMARCA  CAJAMARCA  CAJAMARCA   60101               9814   \n\n                                              INFRACCION  FECHA_INFRACCION  \\\n7181   PRESTAR EL SERVICIO DE TRANSPORTE PÚBLICO ESPE...          20220911   \n8234   PRESTAR EL SERVICIO DE TRANSPORTE PÚBLICO ESPE...          20221012   \n10108  POR ESTACIONAR VEHICULOS EN LA VIA PUBLICA AFE...          20221227   \n8992                           PAGO POR REMOLQUE DE GRUA          20221111   \n1369   REALIZAR LA CONDUCCIÓN DE UN VEHÍCULO DEL SERV...          20220207   \n\n       HORA_INFRACCION  MONTO_INFRACCION          LUGAR_INFRACCION  ...  \\\n7181              1030             230.0  AV. MARIO URTEAGA  C - 4  ...   \n8234              1609             230.0   AV. INDEPENDENCIA C - 3  ...   \n10108             1108             368.0           JR. PISAHUA C-6  ...   \n8992              1234             160.0          JR. URRELO C - 9  ...   \n1369              1101             460.0           JR. DOS DE MAYO  ...   \n\n                         TIPO_SERVICIO   TUC_ESTADO  \\\n7181   Transporte Especial en Mototaxi            -   \n8234   Transporte Especial en Mototaxi            -   \n10108                                -            -   \n8992                                 -            -   \n1369       Transporte Especial de Taxi  TUC VIGENTE   \n\n                                           EMPRESA INTERNAMIENTO_VEHICULO  \\\n7181                                   SIN EMPRESA                     SI   \n8234                                   SIN EMPRESA                     SI   \n10108                                  SIN EMPRESA                     SI   \n8992                                   SIN EMPRESA                     SI   \n1369   J.J. Servicios Múltiples - Taxi Seguro SRL.                     NO   \n\n      FECHA_INTERNAMIENTO MULTA_INTERNAMIENTO SE_PAGO_MULTAS  \\\n7181             20220911               21.90             SI   \n8234             20221012               21.90             SI   \n10108            20221227               10.32             SI   \n8992             20221111               10.32             SI   \n1369                    -                   -             NO   \n\n      FECHA_PAGO_MULTAS FECHA_DESINTERNAMIENTO FECHA_CORTE  \n7181           20220913               20220913    20230615  \n8234           20221013               20221014    20230615  \n10108          20221227               20221227    20230615  \n8992           20221111               20221111    20230615  \n1369                  -                      -    20230615  \n\n[5 rows x 25 columns]",
      "text/html": "<div>\n<style scoped>\n    .dataframe tbody tr th:only-of-type {\n        vertical-align: middle;\n    }\n\n    .dataframe tbody tr th {\n        vertical-align: top;\n    }\n\n    .dataframe thead th {\n        text-align: right;\n    }\n</style>\n<table border=\"1\" class=\"dataframe\">\n  <thead>\n    <tr style=\"text-align: right;\">\n      <th></th>\n      <th>DEPARTAMENTO</th>\n      <th>PROVINCIA</th>\n      <th>DISTRITO</th>\n      <th>UBIGEO</th>\n      <th>CODIGO_INFRACCION</th>\n      <th>INFRACCION</th>\n      <th>FECHA_INFRACCION</th>\n      <th>HORA_INFRACCION</th>\n      <th>MONTO_INFRACCION</th>\n      <th>LUGAR_INFRACCION</th>\n      <th>...</th>\n      <th>TIPO_SERVICIO</th>\n      <th>TUC_ESTADO</th>\n      <th>EMPRESA</th>\n      <th>INTERNAMIENTO_VEHICULO</th>\n      <th>FECHA_INTERNAMIENTO</th>\n      <th>MULTA_INTERNAMIENTO</th>\n      <th>SE_PAGO_MULTAS</th>\n      <th>FECHA_PAGO_MULTAS</th>\n      <th>FECHA_DESINTERNAMIENTO</th>\n      <th>FECHA_CORTE</th>\n    </tr>\n  </thead>\n  <tbody>\n    <tr>\n      <th>7181</th>\n      <td>CAJAMARCA</td>\n      <td>CAJAMARCA</td>\n      <td>CAJAMARCA</td>\n      <td>60101</td>\n      <td>11876</td>\n      <td>PRESTAR EL SERVICIO DE TRANSPORTE PÚBLICO ESPE...</td>\n      <td>20220911</td>\n      <td>1030</td>\n      <td>230.0</td>\n      <td>AV. MARIO URTEAGA  C - 4</td>\n      <td>...</td>\n      <td>Transporte Especial en Mototaxi</td>\n      <td>-</td>\n      <td>SIN EMPRESA</td>\n      <td>SI</td>\n      <td>20220911</td>\n      <td>21.90</td>\n      <td>SI</td>\n      <td>20220913</td>\n      <td>20220913</td>\n      <td>20230615</td>\n    </tr>\n    <tr>\n      <th>8234</th>\n      <td>CAJAMARCA</td>\n      <td>CAJAMARCA</td>\n      <td>CAJAMARCA</td>\n      <td>60101</td>\n      <td>12205</td>\n      <td>PRESTAR EL SERVICIO DE TRANSPORTE PÚBLICO ESPE...</td>\n      <td>20221012</td>\n      <td>1609</td>\n      <td>230.0</td>\n      <td>AV. INDEPENDENCIA C - 3</td>\n      <td>...</td>\n      <td>Transporte Especial en Mototaxi</td>\n      <td>-</td>\n      <td>SIN EMPRESA</td>\n      <td>SI</td>\n      <td>20221012</td>\n      <td>21.90</td>\n      <td>SI</td>\n      <td>20221013</td>\n      <td>20221014</td>\n      <td>20230615</td>\n    </tr>\n    <tr>\n      <th>10108</th>\n      <td>CAJAMARCA</td>\n      <td>CAJAMARCA</td>\n      <td>CAJAMARCA</td>\n      <td>60101</td>\n      <td>12757</td>\n      <td>POR ESTACIONAR VEHICULOS EN LA VIA PUBLICA AFE...</td>\n      <td>20221227</td>\n      <td>1108</td>\n      <td>368.0</td>\n      <td>JR. PISAHUA C-6</td>\n      <td>...</td>\n      <td>-</td>\n      <td>-</td>\n      <td>SIN EMPRESA</td>\n      <td>SI</td>\n      <td>20221227</td>\n      <td>10.32</td>\n      <td>SI</td>\n      <td>20221227</td>\n      <td>20221227</td>\n      <td>20230615</td>\n    </tr>\n    <tr>\n      <th>8992</th>\n      <td>CAJAMARCA</td>\n      <td>CAJAMARCA</td>\n      <td>CAJAMARCA</td>\n      <td>60101</td>\n      <td>12424</td>\n      <td>PAGO POR REMOLQUE DE GRUA</td>\n      <td>20221111</td>\n      <td>1234</td>\n      <td>160.0</td>\n      <td>JR. URRELO C - 9</td>\n      <td>...</td>\n      <td>-</td>\n      <td>-</td>\n      <td>SIN EMPRESA</td>\n      <td>SI</td>\n      <td>20221111</td>\n      <td>10.32</td>\n      <td>SI</td>\n      <td>20221111</td>\n      <td>20221111</td>\n      <td>20230615</td>\n    </tr>\n    <tr>\n      <th>1369</th>\n      <td>CAJAMARCA</td>\n      <td>CAJAMARCA</td>\n      <td>CAJAMARCA</td>\n      <td>60101</td>\n      <td>9814</td>\n      <td>REALIZAR LA CONDUCCIÓN DE UN VEHÍCULO DEL SERV...</td>\n      <td>20220207</td>\n      <td>1101</td>\n      <td>460.0</td>\n      <td>JR. DOS DE MAYO</td>\n      <td>...</td>\n      <td>Transporte Especial de Taxi</td>\n      <td>TUC VIGENTE</td>\n      <td>J.J. Servicios Múltiples - Taxi Seguro SRL.</td>\n      <td>NO</td>\n      <td>-</td>\n      <td>-</td>\n      <td>NO</td>\n      <td>-</td>\n      <td>-</td>\n      <td>20230615</td>\n    </tr>\n  </tbody>\n</table>\n<p>5 rows × 25 columns</p>\n</div>"
     },
     "execution_count": 11,
     "metadata": {},
     "output_type": "execute_result"
    }
   ],
   "source": [
    "# Obtener una muestra aleatoria de 5 filas\n",
    "df.sample(n=5)"
   ],
   "metadata": {
    "collapsed": false,
    "ExecuteTime": {
     "end_time": "2023-07-28T15:10:53.827981400Z",
     "start_time": "2023-07-28T15:10:53.796304100Z"
    }
   }
  },
  {
   "cell_type": "code",
   "execution_count": 12,
   "outputs": [
    {
     "data": {
      "text/plain": "     DEPARTAMENTO  PROVINCIA   DISTRITO  UBIGEO  CODIGO_INFRACCION  \\\n3507    CAJAMARCA  CAJAMARCA  CAJAMARCA   60101              10634   \n4401    CAJAMARCA  CAJAMARCA  CAJAMARCA   60101              10970   \n7859    CAJAMARCA  CAJAMARCA  CAJAMARCA   60101              12088   \n7909    CAJAMARCA  CAJAMARCA  CAJAMARCA   60101              12094   \n3135    CAJAMARCA  CAJAMARCA  CAJAMARCA   60101              10497   \n...           ...        ...        ...     ...                ...   \n802     CAJAMARCA  CAJAMARCA  CAJAMARCA   60101               9555   \n6024    CAJAMARCA  CAJAMARCA  CAJAMARCA   60101              11505   \n1747    CAJAMARCA  CAJAMARCA  CAJAMARCA   60101               9967   \n9067    CAJAMARCA  CAJAMARCA  CAJAMARCA   60101              12446   \n6894    CAJAMARCA  CAJAMARCA  CAJAMARCA   60101              11789   \n\n                                             INFRACCION  FECHA_INFRACCION  \\\n3507  PRESTAR EL SERVICIO DE TRANSPORTE PÚBLICO ESPE...          20220519   \n4401  PRESTAR EL SERVICIO DE TRANSPORTE PÚBLICO ESPE...          20220624   \n7859  PRESTAR EL SERVICIO DE TRANSPORTE PÚBLICO ESPE...          20220928   \n7909                          PAGO POR REMOLQUE DE GRUA          20220929   \n3135  CIRCULAR O PRESTAR EL SERVICIO DE TRANSPORTE P...          20220501   \n...                                                 ...               ...   \n802   REALIZAR LA CONDUCCIÓN DE UN VEHÍCULO DEL SERV...          20220124   \n6024                          PAGO POR REMOLQUE DE GRUA          20220816   \n1747  PRESTAR EL SERVICIO DE TRANSPORTE PÚBLICO, NO ...          20220217   \n9067  POR ESTACIONAR VEHICULOS EN LA VIA PUBLICA AFE...          20221115   \n6894  CIRCULAR O PRESTAR EL SERVICIO DE TRANSPORTE P...          20220905   \n\n      HORA_INFRACCION  MONTO_INFRACCION                   LUGAR_INFRACCION  \\\n3507             1611             230.0                   JR. AYACUCHO 811   \n4401              855             230.0             JR. SAN SALVADOR C - 2   \n7859             1312             230.0            JR. MANUEL SEOANE C - 5   \n7909             1044             160.0               JR. GUILLERMO URRELO   \n3135              930             230.0       JR. PLAZUELA BOLOGNESI C - 5   \n...               ...               ...                                ...   \n802              1108             460.0  AV. MARTIRES DE UCHURACCAY C - 22   \n6024              829             160.0                JR. AMALIA PUGA 589   \n1747             1704             138.0                  JR. BOLIVAR C - 3   \n9067              817             368.0              JR. AMALIA PUGA C - 5   \n6894              756             230.0        AV. ATAHUALPA - FRONTIS UNC   \n\n      ...                    TIPO_SERVICIO   TUC_ESTADO  \\\n3507  ...  Transporte Especial en Mototaxi            -   \n4401  ...  Transporte Especial en Mototaxi  TUC VENCIDO   \n7859  ...  Transporte Especial en Mototaxi            -   \n7909  ...                                -            -   \n3135  ...  Transporte Especial en Mototaxi            -   \n...   ...                              ...          ...   \n802   ...   Transporte Regular de Personas  TUC VIGENTE   \n6024  ...                                -            -   \n1747  ...  Transporte Especial en Mototaxi  TUC VIGENTE   \n9067  ...                                -            -   \n6894  ...  Transporte Especial en Mototaxi            -   \n\n                                                EMPRESA  \\\n3507                                        SIN EMPRESA   \n4401    Empresa de Transportes Múltiples ISA & COM SRL.   \n7859                                        SIN EMPRESA   \n7909                                        SIN EMPRESA   \n3135                                        SIN EMPRESA   \n...                                                 ...   \n802   Empresa de Transportes Sierra Verde Porcón Rut...   \n6024                                        SIN EMPRESA   \n1747    Empresa de Transportes Múltiples ISA & COM SRL.   \n9067                                        SIN EMPRESA   \n6894                                        SIN EMPRESA   \n\n     INTERNAMIENTO_VEHICULO FECHA_INTERNAMIENTO MULTA_INTERNAMIENTO  \\\n3507                     SI            20220519               36.50   \n4401                     SI            20220624               29.20   \n7859                     SI            20220928               14.60   \n7909                     SI            20220929               10.32   \n3135                     SI            20220501               43.80   \n...                     ...                 ...                 ...   \n802                      NO                   -                   -   \n6024                     SI            20220816               10.32   \n1747                     NO                   -                   -   \n9067                     SI            20221115               13.80   \n6894                     SI            20220905               14.60   \n\n     SE_PAGO_MULTAS FECHA_PAGO_MULTAS FECHA_DESINTERNAMIENTO FECHA_CORTE  \n3507             SI          20220523               20220523    20230615  \n4401             SI          20220627               20220627    20230615  \n7859             SI          20220929               20220929    20230615  \n7909             SI          20220929               20220929    20230615  \n3135             SI          20220506               20220506    20230615  \n...             ...               ...                    ...         ...  \n802              NO                 -                      -    20230615  \n6024             SI          20220816               20220816    20230615  \n1747             NO                 -                      -    20230615  \n9067             SI          20221115               20221115    20230615  \n6894             SI          20220906               20220906    20230615  \n\n[1016 rows x 25 columns]",
      "text/html": "<div>\n<style scoped>\n    .dataframe tbody tr th:only-of-type {\n        vertical-align: middle;\n    }\n\n    .dataframe tbody tr th {\n        vertical-align: top;\n    }\n\n    .dataframe thead th {\n        text-align: right;\n    }\n</style>\n<table border=\"1\" class=\"dataframe\">\n  <thead>\n    <tr style=\"text-align: right;\">\n      <th></th>\n      <th>DEPARTAMENTO</th>\n      <th>PROVINCIA</th>\n      <th>DISTRITO</th>\n      <th>UBIGEO</th>\n      <th>CODIGO_INFRACCION</th>\n      <th>INFRACCION</th>\n      <th>FECHA_INFRACCION</th>\n      <th>HORA_INFRACCION</th>\n      <th>MONTO_INFRACCION</th>\n      <th>LUGAR_INFRACCION</th>\n      <th>...</th>\n      <th>TIPO_SERVICIO</th>\n      <th>TUC_ESTADO</th>\n      <th>EMPRESA</th>\n      <th>INTERNAMIENTO_VEHICULO</th>\n      <th>FECHA_INTERNAMIENTO</th>\n      <th>MULTA_INTERNAMIENTO</th>\n      <th>SE_PAGO_MULTAS</th>\n      <th>FECHA_PAGO_MULTAS</th>\n      <th>FECHA_DESINTERNAMIENTO</th>\n      <th>FECHA_CORTE</th>\n    </tr>\n  </thead>\n  <tbody>\n    <tr>\n      <th>3507</th>\n      <td>CAJAMARCA</td>\n      <td>CAJAMARCA</td>\n      <td>CAJAMARCA</td>\n      <td>60101</td>\n      <td>10634</td>\n      <td>PRESTAR EL SERVICIO DE TRANSPORTE PÚBLICO ESPE...</td>\n      <td>20220519</td>\n      <td>1611</td>\n      <td>230.0</td>\n      <td>JR. AYACUCHO 811</td>\n      <td>...</td>\n      <td>Transporte Especial en Mototaxi</td>\n      <td>-</td>\n      <td>SIN EMPRESA</td>\n      <td>SI</td>\n      <td>20220519</td>\n      <td>36.50</td>\n      <td>SI</td>\n      <td>20220523</td>\n      <td>20220523</td>\n      <td>20230615</td>\n    </tr>\n    <tr>\n      <th>4401</th>\n      <td>CAJAMARCA</td>\n      <td>CAJAMARCA</td>\n      <td>CAJAMARCA</td>\n      <td>60101</td>\n      <td>10970</td>\n      <td>PRESTAR EL SERVICIO DE TRANSPORTE PÚBLICO ESPE...</td>\n      <td>20220624</td>\n      <td>855</td>\n      <td>230.0</td>\n      <td>JR. SAN SALVADOR C - 2</td>\n      <td>...</td>\n      <td>Transporte Especial en Mototaxi</td>\n      <td>TUC VENCIDO</td>\n      <td>Empresa de Transportes Múltiples ISA &amp; COM SRL.</td>\n      <td>SI</td>\n      <td>20220624</td>\n      <td>29.20</td>\n      <td>SI</td>\n      <td>20220627</td>\n      <td>20220627</td>\n      <td>20230615</td>\n    </tr>\n    <tr>\n      <th>7859</th>\n      <td>CAJAMARCA</td>\n      <td>CAJAMARCA</td>\n      <td>CAJAMARCA</td>\n      <td>60101</td>\n      <td>12088</td>\n      <td>PRESTAR EL SERVICIO DE TRANSPORTE PÚBLICO ESPE...</td>\n      <td>20220928</td>\n      <td>1312</td>\n      <td>230.0</td>\n      <td>JR. MANUEL SEOANE C - 5</td>\n      <td>...</td>\n      <td>Transporte Especial en Mototaxi</td>\n      <td>-</td>\n      <td>SIN EMPRESA</td>\n      <td>SI</td>\n      <td>20220928</td>\n      <td>14.60</td>\n      <td>SI</td>\n      <td>20220929</td>\n      <td>20220929</td>\n      <td>20230615</td>\n    </tr>\n    <tr>\n      <th>7909</th>\n      <td>CAJAMARCA</td>\n      <td>CAJAMARCA</td>\n      <td>CAJAMARCA</td>\n      <td>60101</td>\n      <td>12094</td>\n      <td>PAGO POR REMOLQUE DE GRUA</td>\n      <td>20220929</td>\n      <td>1044</td>\n      <td>160.0</td>\n      <td>JR. GUILLERMO URRELO</td>\n      <td>...</td>\n      <td>-</td>\n      <td>-</td>\n      <td>SIN EMPRESA</td>\n      <td>SI</td>\n      <td>20220929</td>\n      <td>10.32</td>\n      <td>SI</td>\n      <td>20220929</td>\n      <td>20220929</td>\n      <td>20230615</td>\n    </tr>\n    <tr>\n      <th>3135</th>\n      <td>CAJAMARCA</td>\n      <td>CAJAMARCA</td>\n      <td>CAJAMARCA</td>\n      <td>60101</td>\n      <td>10497</td>\n      <td>CIRCULAR O PRESTAR EL SERVICIO DE TRANSPORTE P...</td>\n      <td>20220501</td>\n      <td>930</td>\n      <td>230.0</td>\n      <td>JR. PLAZUELA BOLOGNESI C - 5</td>\n      <td>...</td>\n      <td>Transporte Especial en Mototaxi</td>\n      <td>-</td>\n      <td>SIN EMPRESA</td>\n      <td>SI</td>\n      <td>20220501</td>\n      <td>43.80</td>\n      <td>SI</td>\n      <td>20220506</td>\n      <td>20220506</td>\n      <td>20230615</td>\n    </tr>\n    <tr>\n      <th>...</th>\n      <td>...</td>\n      <td>...</td>\n      <td>...</td>\n      <td>...</td>\n      <td>...</td>\n      <td>...</td>\n      <td>...</td>\n      <td>...</td>\n      <td>...</td>\n      <td>...</td>\n      <td>...</td>\n      <td>...</td>\n      <td>...</td>\n      <td>...</td>\n      <td>...</td>\n      <td>...</td>\n      <td>...</td>\n      <td>...</td>\n      <td>...</td>\n      <td>...</td>\n      <td>...</td>\n    </tr>\n    <tr>\n      <th>802</th>\n      <td>CAJAMARCA</td>\n      <td>CAJAMARCA</td>\n      <td>CAJAMARCA</td>\n      <td>60101</td>\n      <td>9555</td>\n      <td>REALIZAR LA CONDUCCIÓN DE UN VEHÍCULO DEL SERV...</td>\n      <td>20220124</td>\n      <td>1108</td>\n      <td>460.0</td>\n      <td>AV. MARTIRES DE UCHURACCAY C - 22</td>\n      <td>...</td>\n      <td>Transporte Regular de Personas</td>\n      <td>TUC VIGENTE</td>\n      <td>Empresa de Transportes Sierra Verde Porcón Rut...</td>\n      <td>NO</td>\n      <td>-</td>\n      <td>-</td>\n      <td>NO</td>\n      <td>-</td>\n      <td>-</td>\n      <td>20230615</td>\n    </tr>\n    <tr>\n      <th>6024</th>\n      <td>CAJAMARCA</td>\n      <td>CAJAMARCA</td>\n      <td>CAJAMARCA</td>\n      <td>60101</td>\n      <td>11505</td>\n      <td>PAGO POR REMOLQUE DE GRUA</td>\n      <td>20220816</td>\n      <td>829</td>\n      <td>160.0</td>\n      <td>JR. AMALIA PUGA 589</td>\n      <td>...</td>\n      <td>-</td>\n      <td>-</td>\n      <td>SIN EMPRESA</td>\n      <td>SI</td>\n      <td>20220816</td>\n      <td>10.32</td>\n      <td>SI</td>\n      <td>20220816</td>\n      <td>20220816</td>\n      <td>20230615</td>\n    </tr>\n    <tr>\n      <th>1747</th>\n      <td>CAJAMARCA</td>\n      <td>CAJAMARCA</td>\n      <td>CAJAMARCA</td>\n      <td>60101</td>\n      <td>9967</td>\n      <td>PRESTAR EL SERVICIO DE TRANSPORTE PÚBLICO, NO ...</td>\n      <td>20220217</td>\n      <td>1704</td>\n      <td>138.0</td>\n      <td>JR. BOLIVAR C - 3</td>\n      <td>...</td>\n      <td>Transporte Especial en Mototaxi</td>\n      <td>TUC VIGENTE</td>\n      <td>Empresa de Transportes Múltiples ISA &amp; COM SRL.</td>\n      <td>NO</td>\n      <td>-</td>\n      <td>-</td>\n      <td>NO</td>\n      <td>-</td>\n      <td>-</td>\n      <td>20230615</td>\n    </tr>\n    <tr>\n      <th>9067</th>\n      <td>CAJAMARCA</td>\n      <td>CAJAMARCA</td>\n      <td>CAJAMARCA</td>\n      <td>60101</td>\n      <td>12446</td>\n      <td>POR ESTACIONAR VEHICULOS EN LA VIA PUBLICA AFE...</td>\n      <td>20221115</td>\n      <td>817</td>\n      <td>368.0</td>\n      <td>JR. AMALIA PUGA C - 5</td>\n      <td>...</td>\n      <td>-</td>\n      <td>-</td>\n      <td>SIN EMPRESA</td>\n      <td>SI</td>\n      <td>20221115</td>\n      <td>13.80</td>\n      <td>SI</td>\n      <td>20221115</td>\n      <td>20221115</td>\n      <td>20230615</td>\n    </tr>\n    <tr>\n      <th>6894</th>\n      <td>CAJAMARCA</td>\n      <td>CAJAMARCA</td>\n      <td>CAJAMARCA</td>\n      <td>60101</td>\n      <td>11789</td>\n      <td>CIRCULAR O PRESTAR EL SERVICIO DE TRANSPORTE P...</td>\n      <td>20220905</td>\n      <td>756</td>\n      <td>230.0</td>\n      <td>AV. ATAHUALPA - FRONTIS UNC</td>\n      <td>...</td>\n      <td>Transporte Especial en Mototaxi</td>\n      <td>-</td>\n      <td>SIN EMPRESA</td>\n      <td>SI</td>\n      <td>20220905</td>\n      <td>14.60</td>\n      <td>SI</td>\n      <td>20220906</td>\n      <td>20220906</td>\n      <td>20230615</td>\n    </tr>\n  </tbody>\n</table>\n<p>1016 rows × 25 columns</p>\n</div>"
     },
     "execution_count": 12,
     "metadata": {},
     "output_type": "execute_result"
    }
   ],
   "source": [
    "# Obtener una muestra aleatoria del 10% de las filas\n",
    "df.sample(frac=0.1)"
   ],
   "metadata": {
    "collapsed": false,
    "ExecuteTime": {
     "end_time": "2023-07-28T15:11:03.309245800Z",
     "start_time": "2023-07-28T15:11:03.306244100Z"
    }
   }
  },
  {
   "cell_type": "code",
   "execution_count": 13,
   "outputs": [
    {
     "data": {
      "text/plain": "     DEPARTAMENTO  PROVINCIA   DISTRITO  UBIGEO  CODIGO_INFRACCION  \\\n1565    CAJAMARCA  CAJAMARCA  CAJAMARCA   60101               9898   \n7627    CAJAMARCA  CAJAMARCA  CAJAMARCA   60101              12007   \n7409    CAJAMARCA  CAJAMARCA  CAJAMARCA   60101              11943   \n6574    CAJAMARCA  CAJAMARCA  CAJAMARCA   60101              11683   \n6423    CAJAMARCA  CAJAMARCA  CAJAMARCA   60101              11630   \n\n                                             INFRACCION  FECHA_INFRACCION  \\\n1565                     PAGO PARA LA DEVOLUCIÓN DE TUC          20220212   \n7627                          PAGO POR REMOLQUE DE GRUA          20220922   \n7409  POR ESTACIONAR VEHICULOS EN LA VIA PUBLICA AFE...          20220917   \n6574  POR ESTACIONAR VEHICULOS EN LA VIA PUBLICA AFE...          20220826   \n6423  CIRCULAR O PRESTAR EL SERVICIO DE TRANSPORTE P...          20220823   \n\n      HORA_INFRACCION  MONTO_INFRACCION           LUGAR_INFRACCION  ...  \\\n1565             1557              41.4     JR. SAN SALVADOR C - 2  ...   \n7627             1150             160.0             AV. EL MAESTRO  ...   \n7409              924             368.0            JR. AMALIA PUGA  ...   \n6574              927             368.0       JR. GUILLERMO URRELO  ...   \n6423             1448             230.0  JR. CINCO ESQUINAS C - 11  ...   \n\n                        TIPO_SERVICIO   TUC_ESTADO  \\\n1565  Transporte Especial en Mototaxi  TUC VIGENTE   \n7627                                -            -   \n7409                                -            -   \n6574                                -            -   \n6423  Transporte Especial en Mototaxi            -   \n\n                                                EMPRESA  \\\n1565  Empresa de Transportes y Servicios Generales B...   \n7627                                        SIN EMPRESA   \n7409                                        SIN EMPRESA   \n6574                                        SIN EMPRESA   \n6423                                        SIN EMPRESA   \n\n     INTERNAMIENTO_VEHICULO FECHA_INTERNAMIENTO MULTA_INTERNAMIENTO  \\\n1565                     NO                   -                   -   \n7627                     SI            20220922                6.50   \n7409                     SI            20220917               30.96   \n6574                     SI            20220826               10.32   \n6423                     SI            20220823               73.00   \n\n     SE_PAGO_MULTAS FECHA_PAGO_MULTAS FECHA_DESINTERNAMIENTO FECHA_CORTE  \n1565             SI          20220214                      -    20230615  \n7627             SI          20220922               20220922    20230615  \n7409             SI          20220919               20220919    20230615  \n6574             SI          20220826               20220826    20230615  \n6423             SI          20220825               20220901    20230615  \n\n[5 rows x 25 columns]",
      "text/html": "<div>\n<style scoped>\n    .dataframe tbody tr th:only-of-type {\n        vertical-align: middle;\n    }\n\n    .dataframe tbody tr th {\n        vertical-align: top;\n    }\n\n    .dataframe thead th {\n        text-align: right;\n    }\n</style>\n<table border=\"1\" class=\"dataframe\">\n  <thead>\n    <tr style=\"text-align: right;\">\n      <th></th>\n      <th>DEPARTAMENTO</th>\n      <th>PROVINCIA</th>\n      <th>DISTRITO</th>\n      <th>UBIGEO</th>\n      <th>CODIGO_INFRACCION</th>\n      <th>INFRACCION</th>\n      <th>FECHA_INFRACCION</th>\n      <th>HORA_INFRACCION</th>\n      <th>MONTO_INFRACCION</th>\n      <th>LUGAR_INFRACCION</th>\n      <th>...</th>\n      <th>TIPO_SERVICIO</th>\n      <th>TUC_ESTADO</th>\n      <th>EMPRESA</th>\n      <th>INTERNAMIENTO_VEHICULO</th>\n      <th>FECHA_INTERNAMIENTO</th>\n      <th>MULTA_INTERNAMIENTO</th>\n      <th>SE_PAGO_MULTAS</th>\n      <th>FECHA_PAGO_MULTAS</th>\n      <th>FECHA_DESINTERNAMIENTO</th>\n      <th>FECHA_CORTE</th>\n    </tr>\n  </thead>\n  <tbody>\n    <tr>\n      <th>1565</th>\n      <td>CAJAMARCA</td>\n      <td>CAJAMARCA</td>\n      <td>CAJAMARCA</td>\n      <td>60101</td>\n      <td>9898</td>\n      <td>PAGO PARA LA DEVOLUCIÓN DE TUC</td>\n      <td>20220212</td>\n      <td>1557</td>\n      <td>41.4</td>\n      <td>JR. SAN SALVADOR C - 2</td>\n      <td>...</td>\n      <td>Transporte Especial en Mototaxi</td>\n      <td>TUC VIGENTE</td>\n      <td>Empresa de Transportes y Servicios Generales B...</td>\n      <td>NO</td>\n      <td>-</td>\n      <td>-</td>\n      <td>SI</td>\n      <td>20220214</td>\n      <td>-</td>\n      <td>20230615</td>\n    </tr>\n    <tr>\n      <th>7627</th>\n      <td>CAJAMARCA</td>\n      <td>CAJAMARCA</td>\n      <td>CAJAMARCA</td>\n      <td>60101</td>\n      <td>12007</td>\n      <td>PAGO POR REMOLQUE DE GRUA</td>\n      <td>20220922</td>\n      <td>1150</td>\n      <td>160.0</td>\n      <td>AV. EL MAESTRO</td>\n      <td>...</td>\n      <td>-</td>\n      <td>-</td>\n      <td>SIN EMPRESA</td>\n      <td>SI</td>\n      <td>20220922</td>\n      <td>6.50</td>\n      <td>SI</td>\n      <td>20220922</td>\n      <td>20220922</td>\n      <td>20230615</td>\n    </tr>\n    <tr>\n      <th>7409</th>\n      <td>CAJAMARCA</td>\n      <td>CAJAMARCA</td>\n      <td>CAJAMARCA</td>\n      <td>60101</td>\n      <td>11943</td>\n      <td>POR ESTACIONAR VEHICULOS EN LA VIA PUBLICA AFE...</td>\n      <td>20220917</td>\n      <td>924</td>\n      <td>368.0</td>\n      <td>JR. AMALIA PUGA</td>\n      <td>...</td>\n      <td>-</td>\n      <td>-</td>\n      <td>SIN EMPRESA</td>\n      <td>SI</td>\n      <td>20220917</td>\n      <td>30.96</td>\n      <td>SI</td>\n      <td>20220919</td>\n      <td>20220919</td>\n      <td>20230615</td>\n    </tr>\n    <tr>\n      <th>6574</th>\n      <td>CAJAMARCA</td>\n      <td>CAJAMARCA</td>\n      <td>CAJAMARCA</td>\n      <td>60101</td>\n      <td>11683</td>\n      <td>POR ESTACIONAR VEHICULOS EN LA VIA PUBLICA AFE...</td>\n      <td>20220826</td>\n      <td>927</td>\n      <td>368.0</td>\n      <td>JR. GUILLERMO URRELO</td>\n      <td>...</td>\n      <td>-</td>\n      <td>-</td>\n      <td>SIN EMPRESA</td>\n      <td>SI</td>\n      <td>20220826</td>\n      <td>10.32</td>\n      <td>SI</td>\n      <td>20220826</td>\n      <td>20220826</td>\n      <td>20230615</td>\n    </tr>\n    <tr>\n      <th>6423</th>\n      <td>CAJAMARCA</td>\n      <td>CAJAMARCA</td>\n      <td>CAJAMARCA</td>\n      <td>60101</td>\n      <td>11630</td>\n      <td>CIRCULAR O PRESTAR EL SERVICIO DE TRANSPORTE P...</td>\n      <td>20220823</td>\n      <td>1448</td>\n      <td>230.0</td>\n      <td>JR. CINCO ESQUINAS C - 11</td>\n      <td>...</td>\n      <td>Transporte Especial en Mototaxi</td>\n      <td>-</td>\n      <td>SIN EMPRESA</td>\n      <td>SI</td>\n      <td>20220823</td>\n      <td>73.00</td>\n      <td>SI</td>\n      <td>20220825</td>\n      <td>20220901</td>\n      <td>20230615</td>\n    </tr>\n  </tbody>\n</table>\n<p>5 rows × 25 columns</p>\n</div>"
     },
     "execution_count": 13,
     "metadata": {},
     "output_type": "execute_result"
    }
   ],
   "source": [
    "# Obtener una muestra aleatoria de 5 filas sin reemplazo\n",
    "# sin reemplazo quiere decir que el valor elegido ya no tiene la probabilidad de volver a ser elegido\n",
    "df.sample(n=5, replace=False)"
   ],
   "metadata": {
    "collapsed": false,
    "ExecuteTime": {
     "end_time": "2023-07-28T15:13:51.202459800Z",
     "start_time": "2023-07-28T15:13:51.198949100Z"
    }
   }
  },
  {
   "cell_type": "code",
   "execution_count": 14,
   "outputs": [
    {
     "data": {
      "text/plain": "     DEPARTAMENTO  PROVINCIA   DISTRITO  UBIGEO  CODIGO_INFRACCION  \\\n4298    CAJAMARCA  CAJAMARCA  CAJAMARCA   60101              10947   \n7942    CAJAMARCA  CAJAMARCA  CAJAMARCA   60101              12114   \n9113    CAJAMARCA  CAJAMARCA  CAJAMARCA   60101              12457   \n2170    CAJAMARCA  CAJAMARCA  CAJAMARCA   60101              10129   \n6835    CAJAMARCA  CAJAMARCA  CAJAMARCA   60101              11757   \n\n                                             INFRACCION  FECHA_INFRACCION  \\\n4298                     PAGO PARA LA DEVOLUCIÓN DE TUC          20220621   \n7942  POR ESTACIONAR VEHICULOS EN LA VIA PUBLICA AFE...          20221003   \n9113  POR ESTACIONAR VEHICULOS EN LA VIA PUBLICA AFE...          20221116   \n2170  PRESTAR EL SERVICIO DE TRANSPORTE PÚBLICO ESPE...          20220303   \n6835  CIRCULAR O PRESTAR EL SERVICIO DE TRANSPORTE P...          20220903   \n\n      HORA_INFRACCION  MONTO_INFRACCION                LUGAR_INFRACCION  ...  \\\n4298              827              41.4              PLAZUELA BOLOGNESI  ...   \n7942             1008             368.0                  PLAZA DE ARMAS  ...   \n9113              949             368.0           JR. DOS DE MAYO C - 5  ...   \n2170             1054             230.0    JR. GARCILAZO DE LA VEGA 377  ...   \n6835              820             230.0  JR. CHANCHAMAYO Y JR. CUCARDAS  ...   \n\n                        TIPO_SERVICIO   TUC_ESTADO  \\\n4298  Transporte Especial en Mototaxi            -   \n7942                                -            -   \n9113                                -            -   \n2170  Transporte Especial en Mototaxi            -   \n6835  Transporte Especial en Mototaxi  TUC VIGENTE   \n\n                         EMPRESA INTERNAMIENTO_VEHICULO FECHA_INTERNAMIENTO  \\\n4298                 SIN EMPRESA                     NO                   -   \n7942                 SIN EMPRESA                     SI            20221003   \n9113                 SIN EMPRESA                     SI            20221116   \n2170                 SIN EMPRESA                     SI            20220303   \n6835  Multiservicios Andino SRL.                     SI            20220903   \n\n     MULTA_INTERNAMIENTO SE_PAGO_MULTAS FECHA_PAGO_MULTAS  \\\n4298                   -             SI          20220628   \n7942               10.32             SI          20221003   \n9113               10.32             SI          20221116   \n2170               36.50             SI          20220304   \n6835               21.90             SI          20220905   \n\n     FECHA_DESINTERNAMIENTO FECHA_CORTE  \n4298                      -    20230615  \n7942               20221003    20230615  \n9113               20221116    20230615  \n2170               20220307    20230615  \n6835               20220905    20230615  \n\n[5 rows x 25 columns]",
      "text/html": "<div>\n<style scoped>\n    .dataframe tbody tr th:only-of-type {\n        vertical-align: middle;\n    }\n\n    .dataframe tbody tr th {\n        vertical-align: top;\n    }\n\n    .dataframe thead th {\n        text-align: right;\n    }\n</style>\n<table border=\"1\" class=\"dataframe\">\n  <thead>\n    <tr style=\"text-align: right;\">\n      <th></th>\n      <th>DEPARTAMENTO</th>\n      <th>PROVINCIA</th>\n      <th>DISTRITO</th>\n      <th>UBIGEO</th>\n      <th>CODIGO_INFRACCION</th>\n      <th>INFRACCION</th>\n      <th>FECHA_INFRACCION</th>\n      <th>HORA_INFRACCION</th>\n      <th>MONTO_INFRACCION</th>\n      <th>LUGAR_INFRACCION</th>\n      <th>...</th>\n      <th>TIPO_SERVICIO</th>\n      <th>TUC_ESTADO</th>\n      <th>EMPRESA</th>\n      <th>INTERNAMIENTO_VEHICULO</th>\n      <th>FECHA_INTERNAMIENTO</th>\n      <th>MULTA_INTERNAMIENTO</th>\n      <th>SE_PAGO_MULTAS</th>\n      <th>FECHA_PAGO_MULTAS</th>\n      <th>FECHA_DESINTERNAMIENTO</th>\n      <th>FECHA_CORTE</th>\n    </tr>\n  </thead>\n  <tbody>\n    <tr>\n      <th>4298</th>\n      <td>CAJAMARCA</td>\n      <td>CAJAMARCA</td>\n      <td>CAJAMARCA</td>\n      <td>60101</td>\n      <td>10947</td>\n      <td>PAGO PARA LA DEVOLUCIÓN DE TUC</td>\n      <td>20220621</td>\n      <td>827</td>\n      <td>41.4</td>\n      <td>PLAZUELA BOLOGNESI</td>\n      <td>...</td>\n      <td>Transporte Especial en Mototaxi</td>\n      <td>-</td>\n      <td>SIN EMPRESA</td>\n      <td>NO</td>\n      <td>-</td>\n      <td>-</td>\n      <td>SI</td>\n      <td>20220628</td>\n      <td>-</td>\n      <td>20230615</td>\n    </tr>\n    <tr>\n      <th>7942</th>\n      <td>CAJAMARCA</td>\n      <td>CAJAMARCA</td>\n      <td>CAJAMARCA</td>\n      <td>60101</td>\n      <td>12114</td>\n      <td>POR ESTACIONAR VEHICULOS EN LA VIA PUBLICA AFE...</td>\n      <td>20221003</td>\n      <td>1008</td>\n      <td>368.0</td>\n      <td>PLAZA DE ARMAS</td>\n      <td>...</td>\n      <td>-</td>\n      <td>-</td>\n      <td>SIN EMPRESA</td>\n      <td>SI</td>\n      <td>20221003</td>\n      <td>10.32</td>\n      <td>SI</td>\n      <td>20221003</td>\n      <td>20221003</td>\n      <td>20230615</td>\n    </tr>\n    <tr>\n      <th>9113</th>\n      <td>CAJAMARCA</td>\n      <td>CAJAMARCA</td>\n      <td>CAJAMARCA</td>\n      <td>60101</td>\n      <td>12457</td>\n      <td>POR ESTACIONAR VEHICULOS EN LA VIA PUBLICA AFE...</td>\n      <td>20221116</td>\n      <td>949</td>\n      <td>368.0</td>\n      <td>JR. DOS DE MAYO C - 5</td>\n      <td>...</td>\n      <td>-</td>\n      <td>-</td>\n      <td>SIN EMPRESA</td>\n      <td>SI</td>\n      <td>20221116</td>\n      <td>10.32</td>\n      <td>SI</td>\n      <td>20221116</td>\n      <td>20221116</td>\n      <td>20230615</td>\n    </tr>\n    <tr>\n      <th>2170</th>\n      <td>CAJAMARCA</td>\n      <td>CAJAMARCA</td>\n      <td>CAJAMARCA</td>\n      <td>60101</td>\n      <td>10129</td>\n      <td>PRESTAR EL SERVICIO DE TRANSPORTE PÚBLICO ESPE...</td>\n      <td>20220303</td>\n      <td>1054</td>\n      <td>230.0</td>\n      <td>JR. GARCILAZO DE LA VEGA 377</td>\n      <td>...</td>\n      <td>Transporte Especial en Mototaxi</td>\n      <td>-</td>\n      <td>SIN EMPRESA</td>\n      <td>SI</td>\n      <td>20220303</td>\n      <td>36.50</td>\n      <td>SI</td>\n      <td>20220304</td>\n      <td>20220307</td>\n      <td>20230615</td>\n    </tr>\n    <tr>\n      <th>6835</th>\n      <td>CAJAMARCA</td>\n      <td>CAJAMARCA</td>\n      <td>CAJAMARCA</td>\n      <td>60101</td>\n      <td>11757</td>\n      <td>CIRCULAR O PRESTAR EL SERVICIO DE TRANSPORTE P...</td>\n      <td>20220903</td>\n      <td>820</td>\n      <td>230.0</td>\n      <td>JR. CHANCHAMAYO Y JR. CUCARDAS</td>\n      <td>...</td>\n      <td>Transporte Especial en Mototaxi</td>\n      <td>TUC VIGENTE</td>\n      <td>Multiservicios Andino SRL.</td>\n      <td>SI</td>\n      <td>20220903</td>\n      <td>21.90</td>\n      <td>SI</td>\n      <td>20220905</td>\n      <td>20220905</td>\n      <td>20230615</td>\n    </tr>\n  </tbody>\n</table>\n<p>5 rows × 25 columns</p>\n</div>"
     },
     "execution_count": 14,
     "metadata": {},
     "output_type": "execute_result"
    }
   ],
   "source": [
    "# Obtener una muestra aleatoria de 5 filas con reemplazo\n",
    "# con reemplazo quiere decir que el valor elegido puede volver a ser elegido\n",
    "df.sample(n=5, replace=True)"
   ],
   "metadata": {
    "collapsed": false,
    "ExecuteTime": {
     "end_time": "2023-07-28T15:13:58.886021500Z",
     "start_time": "2023-07-28T15:13:58.861268900Z"
    }
   }
  },
  {
   "cell_type": "code",
   "execution_count": 16,
   "outputs": [
    {
     "data": {
      "text/plain": "     DEPARTAMENTO  PROVINCIA   DISTRITO  UBIGEO  CODIGO_INFRACCION  \\\n7270    CAJAMARCA  CAJAMARCA  CAJAMARCA   60101              11907   \n860     CAJAMARCA  CAJAMARCA  CAJAMARCA   60101               9588   \n5390    CAJAMARCA  CAJAMARCA  CAJAMARCA   60101              11343   \n5191    CAJAMARCA  CAJAMARCA  CAJAMARCA   60101              11274   \n5734    CAJAMARCA  CAJAMARCA  CAJAMARCA   60101              11426   \n\n                                             INFRACCION  FECHA_INFRACCION  \\\n7270  PRESTAR EL SERVICIO DE TRANSPORTE PÚBLICO ESPE...          20220913   \n860                            POR NO CONTAR CON EL TUC          20220126   \n5390  CIRCULAR O PRESTAR EL SERVICIO DE TRANSPORTE P...          20220802   \n5191  CIRCULAR O PRESTAR EL SERVICIO DE TRANSPORTE P...          20220726   \n5734  POR ESTACIONAR VEHICULOS EN LA VIA PUBLICA AFE...          20220810   \n\n      HORA_INFRACCION  MONTO_INFRACCION       LUGAR_INFRACCION  ...  \\\n7270             1536             230.0     JR. AYACUCHO C - 7  ...   \n860              1110            4600.0      JR. BÉLGICA C - 1  ...   \n5390              819             230.0  AV. MIGUEL GRAU C - 6  ...   \n5191              943             230.0     JR. 5 ESQUINAS 954  ...   \n5734             1031             368.0         PLAZA DE ARMAS  ...   \n\n                        TIPO_SERVICIO   TUC_ESTADO                  EMPRESA  \\\n7270  Transporte Especial en Mototaxi            -              SIN EMPRESA   \n860                                 -            -              SIN EMPRESA   \n5390  Transporte Especial en Mototaxi  TUC VENCIDO  Alejandro Salinas EIRL.   \n5191  Transporte Especial en Mototaxi            -              SIN EMPRESA   \n5734                                -            -              SIN EMPRESA   \n\n     INTERNAMIENTO_VEHICULO FECHA_INTERNAMIENTO MULTA_INTERNAMIENTO  \\\n7270                     SI            20220913               14.60   \n860                      SI            20220126              381.84   \n5390                     SI            20220802               21.90   \n5191                     SI            20220726               58.40   \n5734                     SI            20220810               10.32   \n\n     SE_PAGO_MULTAS FECHA_PAGO_MULTAS FECHA_DESINTERNAMIENTO FECHA_CORTE  \n7270             SI          20220914               20220914    20230615  \n860              SI          20220303               20220303    20230615  \n5390             SI          20220804               20220804    20230615  \n5191             SI          20220801               20220802    20230615  \n5734             SI          20220810               20220810    20230615  \n\n[5 rows x 25 columns]",
      "text/html": "<div>\n<style scoped>\n    .dataframe tbody tr th:only-of-type {\n        vertical-align: middle;\n    }\n\n    .dataframe tbody tr th {\n        vertical-align: top;\n    }\n\n    .dataframe thead th {\n        text-align: right;\n    }\n</style>\n<table border=\"1\" class=\"dataframe\">\n  <thead>\n    <tr style=\"text-align: right;\">\n      <th></th>\n      <th>DEPARTAMENTO</th>\n      <th>PROVINCIA</th>\n      <th>DISTRITO</th>\n      <th>UBIGEO</th>\n      <th>CODIGO_INFRACCION</th>\n      <th>INFRACCION</th>\n      <th>FECHA_INFRACCION</th>\n      <th>HORA_INFRACCION</th>\n      <th>MONTO_INFRACCION</th>\n      <th>LUGAR_INFRACCION</th>\n      <th>...</th>\n      <th>TIPO_SERVICIO</th>\n      <th>TUC_ESTADO</th>\n      <th>EMPRESA</th>\n      <th>INTERNAMIENTO_VEHICULO</th>\n      <th>FECHA_INTERNAMIENTO</th>\n      <th>MULTA_INTERNAMIENTO</th>\n      <th>SE_PAGO_MULTAS</th>\n      <th>FECHA_PAGO_MULTAS</th>\n      <th>FECHA_DESINTERNAMIENTO</th>\n      <th>FECHA_CORTE</th>\n    </tr>\n  </thead>\n  <tbody>\n    <tr>\n      <th>7270</th>\n      <td>CAJAMARCA</td>\n      <td>CAJAMARCA</td>\n      <td>CAJAMARCA</td>\n      <td>60101</td>\n      <td>11907</td>\n      <td>PRESTAR EL SERVICIO DE TRANSPORTE PÚBLICO ESPE...</td>\n      <td>20220913</td>\n      <td>1536</td>\n      <td>230.0</td>\n      <td>JR. AYACUCHO C - 7</td>\n      <td>...</td>\n      <td>Transporte Especial en Mototaxi</td>\n      <td>-</td>\n      <td>SIN EMPRESA</td>\n      <td>SI</td>\n      <td>20220913</td>\n      <td>14.60</td>\n      <td>SI</td>\n      <td>20220914</td>\n      <td>20220914</td>\n      <td>20230615</td>\n    </tr>\n    <tr>\n      <th>860</th>\n      <td>CAJAMARCA</td>\n      <td>CAJAMARCA</td>\n      <td>CAJAMARCA</td>\n      <td>60101</td>\n      <td>9588</td>\n      <td>POR NO CONTAR CON EL TUC</td>\n      <td>20220126</td>\n      <td>1110</td>\n      <td>4600.0</td>\n      <td>JR. BÉLGICA C - 1</td>\n      <td>...</td>\n      <td>-</td>\n      <td>-</td>\n      <td>SIN EMPRESA</td>\n      <td>SI</td>\n      <td>20220126</td>\n      <td>381.84</td>\n      <td>SI</td>\n      <td>20220303</td>\n      <td>20220303</td>\n      <td>20230615</td>\n    </tr>\n    <tr>\n      <th>5390</th>\n      <td>CAJAMARCA</td>\n      <td>CAJAMARCA</td>\n      <td>CAJAMARCA</td>\n      <td>60101</td>\n      <td>11343</td>\n      <td>CIRCULAR O PRESTAR EL SERVICIO DE TRANSPORTE P...</td>\n      <td>20220802</td>\n      <td>819</td>\n      <td>230.0</td>\n      <td>AV. MIGUEL GRAU C - 6</td>\n      <td>...</td>\n      <td>Transporte Especial en Mototaxi</td>\n      <td>TUC VENCIDO</td>\n      <td>Alejandro Salinas EIRL.</td>\n      <td>SI</td>\n      <td>20220802</td>\n      <td>21.90</td>\n      <td>SI</td>\n      <td>20220804</td>\n      <td>20220804</td>\n      <td>20230615</td>\n    </tr>\n    <tr>\n      <th>5191</th>\n      <td>CAJAMARCA</td>\n      <td>CAJAMARCA</td>\n      <td>CAJAMARCA</td>\n      <td>60101</td>\n      <td>11274</td>\n      <td>CIRCULAR O PRESTAR EL SERVICIO DE TRANSPORTE P...</td>\n      <td>20220726</td>\n      <td>943</td>\n      <td>230.0</td>\n      <td>JR. 5 ESQUINAS 954</td>\n      <td>...</td>\n      <td>Transporte Especial en Mototaxi</td>\n      <td>-</td>\n      <td>SIN EMPRESA</td>\n      <td>SI</td>\n      <td>20220726</td>\n      <td>58.40</td>\n      <td>SI</td>\n      <td>20220801</td>\n      <td>20220802</td>\n      <td>20230615</td>\n    </tr>\n    <tr>\n      <th>5734</th>\n      <td>CAJAMARCA</td>\n      <td>CAJAMARCA</td>\n      <td>CAJAMARCA</td>\n      <td>60101</td>\n      <td>11426</td>\n      <td>POR ESTACIONAR VEHICULOS EN LA VIA PUBLICA AFE...</td>\n      <td>20220810</td>\n      <td>1031</td>\n      <td>368.0</td>\n      <td>PLAZA DE ARMAS</td>\n      <td>...</td>\n      <td>-</td>\n      <td>-</td>\n      <td>SIN EMPRESA</td>\n      <td>SI</td>\n      <td>20220810</td>\n      <td>10.32</td>\n      <td>SI</td>\n      <td>20220810</td>\n      <td>20220810</td>\n      <td>20230615</td>\n    </tr>\n  </tbody>\n</table>\n<p>5 rows × 25 columns</p>\n</div>"
     },
     "execution_count": 16,
     "metadata": {},
     "output_type": "execute_result"
    }
   ],
   "source": [
    "# Obtener una muestra aleatoria de 5 filas con reemplazo y con semilla\n",
    "# el valor de la semilla se utiliza para controlar la aleatoriedad y garantizar que la muestra aleatoria sea reproducible.\n",
    "df.sample(n=5, replace=True, random_state=42)"
   ],
   "metadata": {
    "collapsed": false,
    "ExecuteTime": {
     "end_time": "2023-07-28T16:28:24.408491400Z",
     "start_time": "2023-07-28T16:28:24.383905600Z"
    }
   }
  },
  {
   "cell_type": "code",
   "execution_count": 18,
   "outputs": [
    {
     "data": {
      "text/plain": "Index(['DEPARTAMENTO', 'PROVINCIA', 'DISTRITO', 'UBIGEO', 'CODIGO_INFRACCION',\n       'INFRACCION', 'FECHA_INFRACCION', 'HORA_INFRACCION', 'MONTO_INFRACCION',\n       'LUGAR_INFRACCION', 'CONDUCTOR_PRESENTE', 'CONDUCTOR_TENIA_LICENCIA',\n       'CONDUCTOR_CATEGORIA_LICENCIA', 'PLACA_VEHICULO', 'TIPO_TRANSPORTE',\n       'TIPO_SERVICIO', 'TUC_ESTADO', 'EMPRESA', 'INTERNAMIENTO_VEHICULO',\n       'FECHA_INTERNAMIENTO', 'MULTA_INTERNAMIENTO', 'SE_PAGO_MULTAS',\n       'FECHA_PAGO_MULTAS', 'FECHA_DESINTERNAMIENTO', 'FECHA_CORTE'],\n      dtype='object')"
     },
     "execution_count": 18,
     "metadata": {},
     "output_type": "execute_result"
    }
   ],
   "source": [
    "# Mostrar las columnas del dataframe\n",
    "df.columns"
   ],
   "metadata": {
    "collapsed": false,
    "ExecuteTime": {
     "end_time": "2023-07-28T16:29:16.759093100Z",
     "start_time": "2023-07-28T16:29:16.735128800Z"
    }
   }
  },
  {
   "cell_type": "code",
   "execution_count": 19,
   "outputs": [
    {
     "data": {
      "text/plain": "0        CAJAMARCA\n1        CAJAMARCA\n2        CAJAMARCA\n3        CAJAMARCA\n4        CAJAMARCA\n           ...    \n10151    CAJAMARCA\n10152    CAJAMARCA\n10153    CAJAMARCA\n10154    CAJAMARCA\n10155    CAJAMARCA\nName: DEPARTAMENTO, Length: 10156, dtype: object"
     },
     "execution_count": 19,
     "metadata": {},
     "output_type": "execute_result"
    }
   ],
   "source": [
    "df.DEPARTAMENTO"
   ],
   "metadata": {
    "collapsed": false,
    "ExecuteTime": {
     "end_time": "2023-07-28T16:30:04.189490500Z",
     "start_time": "2023-07-28T16:30:04.184490100Z"
    }
   }
  },
  {
   "cell_type": "code",
   "execution_count": 20,
   "outputs": [
    {
     "data": {
      "text/plain": "DEPARTAMENTO                     object\nPROVINCIA                        object\nDISTRITO                         object\nUBIGEO                            int64\nCODIGO_INFRACCION                 int64\nINFRACCION                       object\nFECHA_INFRACCION                  int64\nHORA_INFRACCION                   int64\nMONTO_INFRACCION                float64\nLUGAR_INFRACCION                 object\nCONDUCTOR_PRESENTE               object\nCONDUCTOR_TENIA_LICENCIA         object\nCONDUCTOR_CATEGORIA_LICENCIA     object\nPLACA_VEHICULO                   object\nTIPO_TRANSPORTE                  object\nTIPO_SERVICIO                    object\nTUC_ESTADO                       object\nEMPRESA                          object\nINTERNAMIENTO_VEHICULO           object\nFECHA_INTERNAMIENTO              object\nMULTA_INTERNAMIENTO              object\nSE_PAGO_MULTAS                   object\nFECHA_PAGO_MULTAS                object\nFECHA_DESINTERNAMIENTO           object\nFECHA_CORTE                       int64\ndtype: object"
     },
     "execution_count": 20,
     "metadata": {},
     "output_type": "execute_result"
    }
   ],
   "source": [
    "# Mostrar los tipos de datos de las columnas\n",
    "df.dtypes"
   ],
   "metadata": {
    "collapsed": false,
    "ExecuteTime": {
     "end_time": "2023-07-28T16:30:19.512590500Z",
     "start_time": "2023-07-28T16:30:19.509068200Z"
    }
   }
  },
  {
   "cell_type": "code",
   "execution_count": 21,
   "outputs": [
    {
     "data": {
      "text/plain": "array([['CAJAMARCA', 'CAJAMARCA', 'CAJAMARCA', ..., '20220105',\n        '20220107', 20230615],\n       ['CAJAMARCA', 'CAJAMARCA', 'CAJAMARCA', ..., '20220105',\n        '20220107', 20230615],\n       ['CAJAMARCA', 'CAJAMARCA', 'CAJAMARCA', ..., '20220105',\n        '20220107', 20230615],\n       ...,\n       ['CAJAMARCA', 'CAJAMARCA', 'CAJAMARCA', ..., '20221229',\n        '20221229', 20230615],\n       ['CAJAMARCA', 'CAJAMARCA', 'CAJAMARCA', ..., '-', '-', 20230615],\n       ['CAJAMARCA', 'CAJAMARCA', 'CAJAMARCA', ..., '-', '-', 20230615]],\n      dtype=object)"
     },
     "execution_count": 21,
     "metadata": {},
     "output_type": "execute_result"
    }
   ],
   "source": [
    "# Ver solos los valores del dataframe\n",
    "df.values"
   ],
   "metadata": {
    "collapsed": false,
    "ExecuteTime": {
     "end_time": "2023-07-28T16:31:12.097989800Z",
     "start_time": "2023-07-28T16:31:12.093954Z"
    }
   }
  },
  {
   "cell_type": "code",
   "execution_count": 24,
   "outputs": [],
   "source": [
    "# Crear un dataframe con 10 filas aleatorias\n",
    "df2 = df.sample(n=10, replace=True, random_state=42)"
   ],
   "metadata": {
    "collapsed": false,
    "ExecuteTime": {
     "end_time": "2023-07-28T16:32:19.498470100Z",
     "start_time": "2023-07-28T16:32:19.467650300Z"
    }
   }
  },
  {
   "cell_type": "code",
   "execution_count": 25,
   "outputs": [
    {
     "data": {
      "text/plain": "     DEPARTAMENTO  PROVINCIA   DISTRITO  UBIGEO  CODIGO_INFRACCION  \\\n7270    CAJAMARCA  CAJAMARCA  CAJAMARCA   60101              11907   \n860     CAJAMARCA  CAJAMARCA  CAJAMARCA   60101               9588   \n5390    CAJAMARCA  CAJAMARCA  CAJAMARCA   60101              11343   \n5191    CAJAMARCA  CAJAMARCA  CAJAMARCA   60101              11274   \n5734    CAJAMARCA  CAJAMARCA  CAJAMARCA   60101              11426   \n6265    CAJAMARCA  CAJAMARCA  CAJAMARCA   60101              11584   \n466     CAJAMARCA  CAJAMARCA  CAJAMARCA   60101               9405   \n4426    CAJAMARCA  CAJAMARCA  CAJAMARCA   60101              10979   \n5578    CAJAMARCA  CAJAMARCA  CAJAMARCA   60101              11389   \n8322    CAJAMARCA  CAJAMARCA  CAJAMARCA   60101              12225   \n\n                                             INFRACCION  FECHA_INFRACCION  \\\n7270  PRESTAR EL SERVICIO DE TRANSPORTE PÚBLICO ESPE...          20220913   \n860                            POR NO CONTAR CON EL TUC          20220126   \n5390  CIRCULAR O PRESTAR EL SERVICIO DE TRANSPORTE P...          20220802   \n5191  CIRCULAR O PRESTAR EL SERVICIO DE TRANSPORTE P...          20220726   \n5734  POR ESTACIONAR VEHICULOS EN LA VIA PUBLICA AFE...          20220810   \n6265  CIRCULAR O PRESTAR EL SERVICIO DE TRANSPORTE P...          20220820   \n466   REALIZAR LA CONDUCCIÓN DE UN VEHÍCULO DEL SERV...          20220114   \n4426  POR PRESTAR EL SERVICIO DE TRANSPORTE PÚBLICO ...          20220625   \n5578  PRESTAR EL SERVICIO DE TRANSPORTE PÚBLICO ESPE...          20220805   \n8322  POR ESTACIONAR VEHICULOS EN LA VIA PUBLICA AFE...          20221017   \n\n      HORA_INFRACCION  MONTO_INFRACCION         LUGAR_INFRACCION  ...  \\\n7270             1536             230.0       JR. AYACUCHO C - 7  ...   \n860              1110            4600.0        JR. BÉLGICA C - 1  ...   \n5390              819             230.0    AV. MIGUEL GRAU C - 6  ...   \n5191              943             230.0       JR. 5 ESQUINAS 954  ...   \n5734             1031             368.0           PLAZA DE ARMAS  ...   \n6265              625             230.0       PLAZUELA BOLOGNESI  ...   \n466              1405             460.0       JR. AYACUCHO C - 8  ...   \n4426              556             230.0    JR. DOS DE MAYO C - 8  ...   \n5578             1058             230.0  AV. MARIO URTEAGA C - 5  ...   \n8322              832             368.0    JR. AMALIA PUGA C - 5  ...   \n\n                        TIPO_SERVICIO   TUC_ESTADO  \\\n7270  Transporte Especial en Mototaxi            -   \n860                                 -            -   \n5390  Transporte Especial en Mototaxi  TUC VENCIDO   \n5191  Transporte Especial en Mototaxi            -   \n5734                                -            -   \n6265  Transporte Especial en Mototaxi  TUC VIGENTE   \n466       Transporte Especial de Taxi  TUC VIGENTE   \n4426  Transporte Especial en Mototaxi  TUC VIGENTE   \n5578  Transporte Especial en Mototaxi            -   \n8322                                -            -   \n\n                                              EMPRESA INTERNAMIENTO_VEHICULO  \\\n7270                                      SIN EMPRESA                     SI   \n860                                       SIN EMPRESA                     SI   \n5390                          Alejandro Salinas EIRL.                     SI   \n5191                                      SIN EMPRESA                     SI   \n5734                                      SIN EMPRESA                     SI   \n6265                 Empresa de Transportes Plus SRL.                     NO   \n466         Empresa de Servicios Generales Aries SRL.                     NO   \n4426  Empresa de Transportes Múltiples ISA & COM SRL.                     SI   \n5578                                      SIN EMPRESA                     SI   \n8322                                      SIN EMPRESA                     SI   \n\n     FECHA_INTERNAMIENTO MULTA_INTERNAMIENTO SE_PAGO_MULTAS FECHA_PAGO_MULTAS  \\\n7270            20220913               14.60             SI          20220914   \n860             20220126              381.84             SI          20220303   \n5390            20220802               21.90             SI          20220804   \n5191            20220726               58.40             SI          20220801   \n5734            20220810               10.32             SI          20220810   \n6265                   -                   -             NO                 -   \n466                    -                   -             SI          20220117   \n4426            20220625               21.90             SI          20220627   \n5578            20220805               29.20             SI          20220808   \n8322            20221017               10.32             SI          20221017   \n\n     FECHA_DESINTERNAMIENTO FECHA_CORTE  \n7270               20220914    20230615  \n860                20220303    20230615  \n5390               20220804    20230615  \n5191               20220802    20230615  \n5734               20220810    20230615  \n6265                      -    20230615  \n466                       -    20230615  \n4426               20220627    20230615  \n5578               20220808    20230615  \n8322               20221017    20230615  \n\n[10 rows x 25 columns]",
      "text/html": "<div>\n<style scoped>\n    .dataframe tbody tr th:only-of-type {\n        vertical-align: middle;\n    }\n\n    .dataframe tbody tr th {\n        vertical-align: top;\n    }\n\n    .dataframe thead th {\n        text-align: right;\n    }\n</style>\n<table border=\"1\" class=\"dataframe\">\n  <thead>\n    <tr style=\"text-align: right;\">\n      <th></th>\n      <th>DEPARTAMENTO</th>\n      <th>PROVINCIA</th>\n      <th>DISTRITO</th>\n      <th>UBIGEO</th>\n      <th>CODIGO_INFRACCION</th>\n      <th>INFRACCION</th>\n      <th>FECHA_INFRACCION</th>\n      <th>HORA_INFRACCION</th>\n      <th>MONTO_INFRACCION</th>\n      <th>LUGAR_INFRACCION</th>\n      <th>...</th>\n      <th>TIPO_SERVICIO</th>\n      <th>TUC_ESTADO</th>\n      <th>EMPRESA</th>\n      <th>INTERNAMIENTO_VEHICULO</th>\n      <th>FECHA_INTERNAMIENTO</th>\n      <th>MULTA_INTERNAMIENTO</th>\n      <th>SE_PAGO_MULTAS</th>\n      <th>FECHA_PAGO_MULTAS</th>\n      <th>FECHA_DESINTERNAMIENTO</th>\n      <th>FECHA_CORTE</th>\n    </tr>\n  </thead>\n  <tbody>\n    <tr>\n      <th>7270</th>\n      <td>CAJAMARCA</td>\n      <td>CAJAMARCA</td>\n      <td>CAJAMARCA</td>\n      <td>60101</td>\n      <td>11907</td>\n      <td>PRESTAR EL SERVICIO DE TRANSPORTE PÚBLICO ESPE...</td>\n      <td>20220913</td>\n      <td>1536</td>\n      <td>230.0</td>\n      <td>JR. AYACUCHO C - 7</td>\n      <td>...</td>\n      <td>Transporte Especial en Mototaxi</td>\n      <td>-</td>\n      <td>SIN EMPRESA</td>\n      <td>SI</td>\n      <td>20220913</td>\n      <td>14.60</td>\n      <td>SI</td>\n      <td>20220914</td>\n      <td>20220914</td>\n      <td>20230615</td>\n    </tr>\n    <tr>\n      <th>860</th>\n      <td>CAJAMARCA</td>\n      <td>CAJAMARCA</td>\n      <td>CAJAMARCA</td>\n      <td>60101</td>\n      <td>9588</td>\n      <td>POR NO CONTAR CON EL TUC</td>\n      <td>20220126</td>\n      <td>1110</td>\n      <td>4600.0</td>\n      <td>JR. BÉLGICA C - 1</td>\n      <td>...</td>\n      <td>-</td>\n      <td>-</td>\n      <td>SIN EMPRESA</td>\n      <td>SI</td>\n      <td>20220126</td>\n      <td>381.84</td>\n      <td>SI</td>\n      <td>20220303</td>\n      <td>20220303</td>\n      <td>20230615</td>\n    </tr>\n    <tr>\n      <th>5390</th>\n      <td>CAJAMARCA</td>\n      <td>CAJAMARCA</td>\n      <td>CAJAMARCA</td>\n      <td>60101</td>\n      <td>11343</td>\n      <td>CIRCULAR O PRESTAR EL SERVICIO DE TRANSPORTE P...</td>\n      <td>20220802</td>\n      <td>819</td>\n      <td>230.0</td>\n      <td>AV. MIGUEL GRAU C - 6</td>\n      <td>...</td>\n      <td>Transporte Especial en Mototaxi</td>\n      <td>TUC VENCIDO</td>\n      <td>Alejandro Salinas EIRL.</td>\n      <td>SI</td>\n      <td>20220802</td>\n      <td>21.90</td>\n      <td>SI</td>\n      <td>20220804</td>\n      <td>20220804</td>\n      <td>20230615</td>\n    </tr>\n    <tr>\n      <th>5191</th>\n      <td>CAJAMARCA</td>\n      <td>CAJAMARCA</td>\n      <td>CAJAMARCA</td>\n      <td>60101</td>\n      <td>11274</td>\n      <td>CIRCULAR O PRESTAR EL SERVICIO DE TRANSPORTE P...</td>\n      <td>20220726</td>\n      <td>943</td>\n      <td>230.0</td>\n      <td>JR. 5 ESQUINAS 954</td>\n      <td>...</td>\n      <td>Transporte Especial en Mototaxi</td>\n      <td>-</td>\n      <td>SIN EMPRESA</td>\n      <td>SI</td>\n      <td>20220726</td>\n      <td>58.40</td>\n      <td>SI</td>\n      <td>20220801</td>\n      <td>20220802</td>\n      <td>20230615</td>\n    </tr>\n    <tr>\n      <th>5734</th>\n      <td>CAJAMARCA</td>\n      <td>CAJAMARCA</td>\n      <td>CAJAMARCA</td>\n      <td>60101</td>\n      <td>11426</td>\n      <td>POR ESTACIONAR VEHICULOS EN LA VIA PUBLICA AFE...</td>\n      <td>20220810</td>\n      <td>1031</td>\n      <td>368.0</td>\n      <td>PLAZA DE ARMAS</td>\n      <td>...</td>\n      <td>-</td>\n      <td>-</td>\n      <td>SIN EMPRESA</td>\n      <td>SI</td>\n      <td>20220810</td>\n      <td>10.32</td>\n      <td>SI</td>\n      <td>20220810</td>\n      <td>20220810</td>\n      <td>20230615</td>\n    </tr>\n    <tr>\n      <th>6265</th>\n      <td>CAJAMARCA</td>\n      <td>CAJAMARCA</td>\n      <td>CAJAMARCA</td>\n      <td>60101</td>\n      <td>11584</td>\n      <td>CIRCULAR O PRESTAR EL SERVICIO DE TRANSPORTE P...</td>\n      <td>20220820</td>\n      <td>625</td>\n      <td>230.0</td>\n      <td>PLAZUELA BOLOGNESI</td>\n      <td>...</td>\n      <td>Transporte Especial en Mototaxi</td>\n      <td>TUC VIGENTE</td>\n      <td>Empresa de Transportes Plus SRL.</td>\n      <td>NO</td>\n      <td>-</td>\n      <td>-</td>\n      <td>NO</td>\n      <td>-</td>\n      <td>-</td>\n      <td>20230615</td>\n    </tr>\n    <tr>\n      <th>466</th>\n      <td>CAJAMARCA</td>\n      <td>CAJAMARCA</td>\n      <td>CAJAMARCA</td>\n      <td>60101</td>\n      <td>9405</td>\n      <td>REALIZAR LA CONDUCCIÓN DE UN VEHÍCULO DEL SERV...</td>\n      <td>20220114</td>\n      <td>1405</td>\n      <td>460.0</td>\n      <td>JR. AYACUCHO C - 8</td>\n      <td>...</td>\n      <td>Transporte Especial de Taxi</td>\n      <td>TUC VIGENTE</td>\n      <td>Empresa de Servicios Generales Aries SRL.</td>\n      <td>NO</td>\n      <td>-</td>\n      <td>-</td>\n      <td>SI</td>\n      <td>20220117</td>\n      <td>-</td>\n      <td>20230615</td>\n    </tr>\n    <tr>\n      <th>4426</th>\n      <td>CAJAMARCA</td>\n      <td>CAJAMARCA</td>\n      <td>CAJAMARCA</td>\n      <td>60101</td>\n      <td>10979</td>\n      <td>POR PRESTAR EL SERVICIO DE TRANSPORTE PÚBLICO ...</td>\n      <td>20220625</td>\n      <td>556</td>\n      <td>230.0</td>\n      <td>JR. DOS DE MAYO C - 8</td>\n      <td>...</td>\n      <td>Transporte Especial en Mototaxi</td>\n      <td>TUC VIGENTE</td>\n      <td>Empresa de Transportes Múltiples ISA &amp; COM SRL.</td>\n      <td>SI</td>\n      <td>20220625</td>\n      <td>21.90</td>\n      <td>SI</td>\n      <td>20220627</td>\n      <td>20220627</td>\n      <td>20230615</td>\n    </tr>\n    <tr>\n      <th>5578</th>\n      <td>CAJAMARCA</td>\n      <td>CAJAMARCA</td>\n      <td>CAJAMARCA</td>\n      <td>60101</td>\n      <td>11389</td>\n      <td>PRESTAR EL SERVICIO DE TRANSPORTE PÚBLICO ESPE...</td>\n      <td>20220805</td>\n      <td>1058</td>\n      <td>230.0</td>\n      <td>AV. MARIO URTEAGA C - 5</td>\n      <td>...</td>\n      <td>Transporte Especial en Mototaxi</td>\n      <td>-</td>\n      <td>SIN EMPRESA</td>\n      <td>SI</td>\n      <td>20220805</td>\n      <td>29.20</td>\n      <td>SI</td>\n      <td>20220808</td>\n      <td>20220808</td>\n      <td>20230615</td>\n    </tr>\n    <tr>\n      <th>8322</th>\n      <td>CAJAMARCA</td>\n      <td>CAJAMARCA</td>\n      <td>CAJAMARCA</td>\n      <td>60101</td>\n      <td>12225</td>\n      <td>POR ESTACIONAR VEHICULOS EN LA VIA PUBLICA AFE...</td>\n      <td>20221017</td>\n      <td>832</td>\n      <td>368.0</td>\n      <td>JR. AMALIA PUGA C - 5</td>\n      <td>...</td>\n      <td>-</td>\n      <td>-</td>\n      <td>SIN EMPRESA</td>\n      <td>SI</td>\n      <td>20221017</td>\n      <td>10.32</td>\n      <td>SI</td>\n      <td>20221017</td>\n      <td>20221017</td>\n      <td>20230615</td>\n    </tr>\n  </tbody>\n</table>\n<p>10 rows × 25 columns</p>\n</div>"
     },
     "execution_count": 25,
     "metadata": {},
     "output_type": "execute_result"
    }
   ],
   "source": [
    "df2"
   ],
   "metadata": {
    "collapsed": false,
    "ExecuteTime": {
     "end_time": "2023-07-28T16:32:20.529761800Z",
     "start_time": "2023-07-28T16:32:20.507243100Z"
    }
   }
  },
  {
   "cell_type": "code",
   "execution_count": null,
   "outputs": [],
   "source": [],
   "metadata": {
    "collapsed": false
   }
  }
 ],
 "metadata": {
  "kernelspec": {
   "display_name": "Python 3",
   "language": "python",
   "name": "python3"
  },
  "language_info": {
   "codemirror_mode": {
    "name": "ipython",
    "version": 2
   },
   "file_extension": ".py",
   "mimetype": "text/x-python",
   "name": "python",
   "nbconvert_exporter": "python",
   "pygments_lexer": "ipython2",
   "version": "2.7.6"
  }
 },
 "nbformat": 4,
 "nbformat_minor": 0
}
