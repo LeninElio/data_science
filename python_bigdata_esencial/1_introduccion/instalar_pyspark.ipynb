{
 "cells": [
  {
   "cell_type": "markdown",
   "source": [
    "### He instalado PySpark en la venv, asi que no es necesario comprobar si esta instalado pyspark en el sistema"
   ],
   "metadata": {
    "collapsed": false
   }
  },
  {
   "cell_type": "code",
   "execution_count": 1,
   "metadata": {
    "collapsed": true,
    "ExecuteTime": {
     "end_time": "2023-07-01T04:07:50.623196700Z",
     "start_time": "2023-07-01T04:07:50.448202400Z"
    }
   },
   "outputs": [],
   "source": [
    "import pyspark"
   ]
  },
  {
   "cell_type": "code",
   "execution_count": 15,
   "outputs": [],
   "source": [
    "from pyspark.sql import SparkSession"
   ],
   "metadata": {
    "collapsed": false,
    "ExecuteTime": {
     "end_time": "2023-07-01T04:22:54.987072500Z",
     "start_time": "2023-07-01T04:22:54.973054700Z"
    }
   }
  },
  {
   "cell_type": "code",
   "execution_count": 16,
   "outputs": [],
   "source": [
    "spark = SparkSession.builder.appName('Basics').getOrCreate()"
   ],
   "metadata": {
    "collapsed": false,
    "ExecuteTime": {
     "end_time": "2023-07-01T04:22:55.875336200Z",
     "start_time": "2023-07-01T04:22:55.848081300Z"
    }
   }
  },
  {
   "cell_type": "code",
   "execution_count": 17,
   "outputs": [],
   "source": [
    "df = spark.read.json('../data/cursos.json')"
   ],
   "metadata": {
    "collapsed": false,
    "ExecuteTime": {
     "end_time": "2023-07-01T04:22:57.189025400Z",
     "start_time": "2023-07-01T04:22:56.761135800Z"
    }
   }
  },
  {
   "cell_type": "code",
   "execution_count": 18,
   "outputs": [
    {
     "name": "stdout",
     "output_type": "stream",
     "text": [
      "+--------------------+--------+\n",
      "|          usergrades|warnings|\n",
      "+--------------------+--------+\n",
      "|[{8611, 2022-2-12...|      []|\n",
      "+--------------------+--------+\n",
      "\n"
     ]
    }
   ],
   "source": [
    "df.show()"
   ],
   "metadata": {
    "collapsed": false,
    "ExecuteTime": {
     "end_time": "2023-07-01T04:22:59.840762600Z",
     "start_time": "2023-07-01T04:22:59.160315900Z"
    }
   }
  },
  {
   "cell_type": "code",
   "execution_count": 19,
   "outputs": [
    {
     "name": "stdout",
     "output_type": "stream",
     "text": [
      "root\n",
      " |-- usergrades: array (nullable = true)\n",
      " |    |-- element: struct (containsNull = true)\n",
      " |    |    |-- courseid: long (nullable = true)\n",
      " |    |    |-- courseidnumber: string (nullable = true)\n",
      " |    |    |-- gradeitems: array (nullable = true)\n",
      " |    |    |    |-- element: struct (containsNull = true)\n",
      " |    |    |    |    |-- categoryid: long (nullable = true)\n",
      " |    |    |    |    |-- cmid: long (nullable = true)\n",
      " |    |    |    |    |-- feedback: string (nullable = true)\n",
      " |    |    |    |    |-- feedbackformat: long (nullable = true)\n",
      " |    |    |    |    |-- gradedategraded: long (nullable = true)\n",
      " |    |    |    |    |-- gradedatesubmitted: long (nullable = true)\n",
      " |    |    |    |    |-- gradeformatted: string (nullable = true)\n",
      " |    |    |    |    |-- gradehiddenbydate: boolean (nullable = true)\n",
      " |    |    |    |    |-- gradeishidden: boolean (nullable = true)\n",
      " |    |    |    |    |-- gradeislocked: boolean (nullable = true)\n",
      " |    |    |    |    |-- gradeisoverridden: boolean (nullable = true)\n",
      " |    |    |    |    |-- grademax: long (nullable = true)\n",
      " |    |    |    |    |-- grademin: long (nullable = true)\n",
      " |    |    |    |    |-- gradeneedsupdate: boolean (nullable = true)\n",
      " |    |    |    |    |-- graderaw: double (nullable = true)\n",
      " |    |    |    |    |-- id: long (nullable = true)\n",
      " |    |    |    |    |-- idnumber: string (nullable = true)\n",
      " |    |    |    |    |-- iteminstance: long (nullable = true)\n",
      " |    |    |    |    |-- itemmodule: string (nullable = true)\n",
      " |    |    |    |    |-- itemname: string (nullable = true)\n",
      " |    |    |    |    |-- itemnumber: long (nullable = true)\n",
      " |    |    |    |    |-- itemtype: string (nullable = true)\n",
      " |    |    |    |    |-- locked: boolean (nullable = true)\n",
      " |    |    |    |    |-- outcomeid: string (nullable = true)\n",
      " |    |    |    |    |-- percentageformatted: string (nullable = true)\n",
      " |    |    |    |    |-- rangeformatted: string (nullable = true)\n",
      " |    |    |    |    |-- scaleid: string (nullable = true)\n",
      " |    |    |    |    |-- status: string (nullable = true)\n",
      " |    |    |    |    |-- weightformatted: string (nullable = true)\n",
      " |    |    |    |    |-- weightraw: double (nullable = true)\n",
      " |    |    |-- maxdepth: long (nullable = true)\n",
      " |    |    |-- userfullname: string (nullable = true)\n",
      " |    |    |-- userid: long (nullable = true)\n",
      " |    |    |-- useridnumber: string (nullable = true)\n",
      " |-- warnings: array (nullable = true)\n",
      " |    |-- element: string (containsNull = true)\n",
      "\n"
     ]
    }
   ],
   "source": [
    "df.printSchema()"
   ],
   "metadata": {
    "collapsed": false,
    "ExecuteTime": {
     "end_time": "2023-07-01T04:23:05.624717900Z",
     "start_time": "2023-07-01T04:23:05.594092400Z"
    }
   }
  },
  {
   "cell_type": "code",
   "execution_count": 20,
   "outputs": [
    {
     "data": {
      "text/plain": "['usergrades', 'warnings']"
     },
     "execution_count": 20,
     "metadata": {},
     "output_type": "execute_result"
    }
   ],
   "source": [
    "df.columns"
   ],
   "metadata": {
    "collapsed": false,
    "ExecuteTime": {
     "end_time": "2023-07-01T04:23:11.317813600Z",
     "start_time": "2023-07-01T04:23:11.294396300Z"
    }
   }
  },
  {
   "cell_type": "code",
   "execution_count": null,
   "outputs": [],
   "source": [],
   "metadata": {
    "collapsed": false
   }
  }
 ],
 "metadata": {
  "kernelspec": {
   "display_name": "Python 3",
   "language": "python",
   "name": "python3"
  },
  "language_info": {
   "codemirror_mode": {
    "name": "ipython",
    "version": 2
   },
   "file_extension": ".py",
   "mimetype": "text/x-python",
   "name": "python",
   "nbconvert_exporter": "python",
   "pygments_lexer": "ipython2",
   "version": "2.7.6"
  }
 },
 "nbformat": 4,
 "nbformat_minor": 0
}
