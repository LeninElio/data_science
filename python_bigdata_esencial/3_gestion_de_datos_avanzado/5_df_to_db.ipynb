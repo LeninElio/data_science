{
 "cells": [
  {
   "cell_type": "markdown",
   "source": [
    "## Transformando un dataframe en una base de datos relacional."
   ],
   "metadata": {
    "collapsed": false
   },
   "id": "d50190b0f5ba8617"
  },
  {
   "cell_type": "code",
   "execution_count": 1,
   "id": "initial_id",
   "metadata": {
    "collapsed": true,
    "ExecuteTime": {
     "end_time": "2023-09-16T13:41:09.595172600Z",
     "start_time": "2023-09-16T13:41:09.205336900Z"
    }
   },
   "outputs": [],
   "source": [
    "import pandas as pd"
   ]
  },
  {
   "cell_type": "code",
   "execution_count": 2,
   "outputs": [],
   "source": [
    "data = [\n",
    "    (1, 'Joan', 'Gasull', 25, 1, 'Libreta', 1.2, .4, 0.8, 3, '03-02-2018'),\n",
    "    (1, 'Joan', 'Gasull', 25, 2, 'Boligrafo', 0.6, .2, 0.4, 1, '03-02-2018'),\n",
    "    (1, 'Joan', 'Gasull', 25, 3, 'Goma', 0.5, .1, 0.4, 1, '03-02-2018'),\n",
    "    (1, 'Joan', 'Gasull', 25, 4, 'Sacapuntas', 1.2, .4, 0.8, 3, '03-02-2018'),\n",
    "    (1, 'Joan', 'Gasull', 25, 5, 'Cuaderno', 2.5, .5, 2, 5, '03-02-2018'),\n",
    "    (1, 'Joan', 'Gasull', 25, 6, 'Lapiz', 0.5, .1, 0.4, 1, '03-02-2018'),\n",
    "    (2, 'Maria', 'Garcia', 25, 1, 'Libreta', 1.2, .4, 0.8, 3, '03-02-2018'),\n",
    "    (2, 'Maria', 'Garcia', 25, 2, 'Boligrafo', 0.6, .2, 0.4, 1, '03-02-2018'),\n",
    "    (2, 'Maria', 'Garcia', 25, 3, 'Goma', 0.5, .1, 0.4, 1, '03-02-2018'),\n",
    "]\n",
    "\n",
    "labels = [\n",
    "    'id_cliente',\n",
    "    'nombre',\n",
    "    'apellido',\n",
    "    'edad',\n",
    "    'id_producto',\n",
    "    'producto',\n",
    "    'precio',\n",
    "    'costo',\n",
    "    'margen',\n",
    "    'cantidad',\n",
    "    'fecha'\n",
    "]"
   ],
   "metadata": {
    "collapsed": false,
    "ExecuteTime": {
     "end_time": "2023-09-16T13:45:38.263379Z",
     "start_time": "2023-09-16T13:45:38.242902300Z"
    }
   },
   "id": "1942ed237b7fcfa1"
  },
  {
   "cell_type": "code",
   "execution_count": 3,
   "outputs": [
    {
     "data": {
      "text/plain": "   id_cliente nombre apellido  edad  id_producto    producto  precio  costo  \\\n0           1   Joan   Gasull    25            1     Libreta     1.2    0.4   \n1           1   Joan   Gasull    25            2   Boligrafo     0.6    0.2   \n2           1   Joan   Gasull    25            3        Goma     0.5    0.1   \n3           1   Joan   Gasull    25            4  Sacapuntas     1.2    0.4   \n4           1   Joan   Gasull    25            5    Cuaderno     2.5    0.5   \n5           1   Joan   Gasull    25            6       Lapiz     0.5    0.1   \n6           2  Maria   Garcia    25            1     Libreta     1.2    0.4   \n7           2  Maria   Garcia    25            2   Boligrafo     0.6    0.2   \n8           2  Maria   Garcia    25            3        Goma     0.5    0.1   \n\n   margen  cantidad       fecha  \n0     0.8         3  03-02-2018  \n1     0.4         1  03-02-2018  \n2     0.4         1  03-02-2018  \n3     0.8         3  03-02-2018  \n4     2.0         5  03-02-2018  \n5     0.4         1  03-02-2018  \n6     0.8         3  03-02-2018  \n7     0.4         1  03-02-2018  \n8     0.4         1  03-02-2018  ",
      "text/html": "<div>\n<style scoped>\n    .dataframe tbody tr th:only-of-type {\n        vertical-align: middle;\n    }\n\n    .dataframe tbody tr th {\n        vertical-align: top;\n    }\n\n    .dataframe thead th {\n        text-align: right;\n    }\n</style>\n<table border=\"1\" class=\"dataframe\">\n  <thead>\n    <tr style=\"text-align: right;\">\n      <th></th>\n      <th>id_cliente</th>\n      <th>nombre</th>\n      <th>apellido</th>\n      <th>edad</th>\n      <th>id_producto</th>\n      <th>producto</th>\n      <th>precio</th>\n      <th>costo</th>\n      <th>margen</th>\n      <th>cantidad</th>\n      <th>fecha</th>\n    </tr>\n  </thead>\n  <tbody>\n    <tr>\n      <th>0</th>\n      <td>1</td>\n      <td>Joan</td>\n      <td>Gasull</td>\n      <td>25</td>\n      <td>1</td>\n      <td>Libreta</td>\n      <td>1.2</td>\n      <td>0.4</td>\n      <td>0.8</td>\n      <td>3</td>\n      <td>03-02-2018</td>\n    </tr>\n    <tr>\n      <th>1</th>\n      <td>1</td>\n      <td>Joan</td>\n      <td>Gasull</td>\n      <td>25</td>\n      <td>2</td>\n      <td>Boligrafo</td>\n      <td>0.6</td>\n      <td>0.2</td>\n      <td>0.4</td>\n      <td>1</td>\n      <td>03-02-2018</td>\n    </tr>\n    <tr>\n      <th>2</th>\n      <td>1</td>\n      <td>Joan</td>\n      <td>Gasull</td>\n      <td>25</td>\n      <td>3</td>\n      <td>Goma</td>\n      <td>0.5</td>\n      <td>0.1</td>\n      <td>0.4</td>\n      <td>1</td>\n      <td>03-02-2018</td>\n    </tr>\n    <tr>\n      <th>3</th>\n      <td>1</td>\n      <td>Joan</td>\n      <td>Gasull</td>\n      <td>25</td>\n      <td>4</td>\n      <td>Sacapuntas</td>\n      <td>1.2</td>\n      <td>0.4</td>\n      <td>0.8</td>\n      <td>3</td>\n      <td>03-02-2018</td>\n    </tr>\n    <tr>\n      <th>4</th>\n      <td>1</td>\n      <td>Joan</td>\n      <td>Gasull</td>\n      <td>25</td>\n      <td>5</td>\n      <td>Cuaderno</td>\n      <td>2.5</td>\n      <td>0.5</td>\n      <td>2.0</td>\n      <td>5</td>\n      <td>03-02-2018</td>\n    </tr>\n    <tr>\n      <th>5</th>\n      <td>1</td>\n      <td>Joan</td>\n      <td>Gasull</td>\n      <td>25</td>\n      <td>6</td>\n      <td>Lapiz</td>\n      <td>0.5</td>\n      <td>0.1</td>\n      <td>0.4</td>\n      <td>1</td>\n      <td>03-02-2018</td>\n    </tr>\n    <tr>\n      <th>6</th>\n      <td>2</td>\n      <td>Maria</td>\n      <td>Garcia</td>\n      <td>25</td>\n      <td>1</td>\n      <td>Libreta</td>\n      <td>1.2</td>\n      <td>0.4</td>\n      <td>0.8</td>\n      <td>3</td>\n      <td>03-02-2018</td>\n    </tr>\n    <tr>\n      <th>7</th>\n      <td>2</td>\n      <td>Maria</td>\n      <td>Garcia</td>\n      <td>25</td>\n      <td>2</td>\n      <td>Boligrafo</td>\n      <td>0.6</td>\n      <td>0.2</td>\n      <td>0.4</td>\n      <td>1</td>\n      <td>03-02-2018</td>\n    </tr>\n    <tr>\n      <th>8</th>\n      <td>2</td>\n      <td>Maria</td>\n      <td>Garcia</td>\n      <td>25</td>\n      <td>3</td>\n      <td>Goma</td>\n      <td>0.5</td>\n      <td>0.1</td>\n      <td>0.4</td>\n      <td>1</td>\n      <td>03-02-2018</td>\n    </tr>\n  </tbody>\n</table>\n</div>"
     },
     "execution_count": 3,
     "metadata": {},
     "output_type": "execute_result"
    }
   ],
   "source": [
    "df = pd.DataFrame.from_records(data, columns=labels)\n",
    "df"
   ],
   "metadata": {
    "collapsed": false,
    "ExecuteTime": {
     "end_time": "2023-09-16T13:46:12.404456900Z",
     "start_time": "2023-09-16T13:46:12.378281700Z"
    }
   },
   "id": "7887fe05404963f"
  },
  {
   "cell_type": "code",
   "execution_count": 4,
   "outputs": [],
   "source": [
    "compradores = df[['id_cliente', 'nombre', 'apellido', 'edad']].drop_duplicates()"
   ],
   "metadata": {
    "collapsed": false,
    "ExecuteTime": {
     "end_time": "2023-09-16T13:49:12.250730200Z",
     "start_time": "2023-09-16T13:49:11.778704600Z"
    }
   },
   "id": "1f98c1ad30ffc794"
  },
  {
   "cell_type": "code",
   "execution_count": 5,
   "outputs": [
    {
     "data": {
      "text/plain": "   id_cliente nombre apellido  edad\n0           1   Joan   Gasull    25\n6           2  Maria   Garcia    25",
      "text/html": "<div>\n<style scoped>\n    .dataframe tbody tr th:only-of-type {\n        vertical-align: middle;\n    }\n\n    .dataframe tbody tr th {\n        vertical-align: top;\n    }\n\n    .dataframe thead th {\n        text-align: right;\n    }\n</style>\n<table border=\"1\" class=\"dataframe\">\n  <thead>\n    <tr style=\"text-align: right;\">\n      <th></th>\n      <th>id_cliente</th>\n      <th>nombre</th>\n      <th>apellido</th>\n      <th>edad</th>\n    </tr>\n  </thead>\n  <tbody>\n    <tr>\n      <th>0</th>\n      <td>1</td>\n      <td>Joan</td>\n      <td>Gasull</td>\n      <td>25</td>\n    </tr>\n    <tr>\n      <th>6</th>\n      <td>2</td>\n      <td>Maria</td>\n      <td>Garcia</td>\n      <td>25</td>\n    </tr>\n  </tbody>\n</table>\n</div>"
     },
     "execution_count": 5,
     "metadata": {},
     "output_type": "execute_result"
    }
   ],
   "source": [
    "compradores"
   ],
   "metadata": {
    "collapsed": false,
    "ExecuteTime": {
     "end_time": "2023-09-16T13:49:14.427640Z",
     "start_time": "2023-09-16T13:49:14.413760700Z"
    }
   },
   "id": "1d3883024c5a7ae1"
  },
  {
   "cell_type": "code",
   "execution_count": 6,
   "outputs": [],
   "source": [
    "productos = df[['id_producto', 'producto', 'precio', 'costo', 'margen']].drop_duplicates()"
   ],
   "metadata": {
    "collapsed": false,
    "ExecuteTime": {
     "end_time": "2023-09-16T13:49:23.277363400Z",
     "start_time": "2023-09-16T13:49:23.230544300Z"
    }
   },
   "id": "ceb7acc08375bf77"
  },
  {
   "cell_type": "code",
   "execution_count": 7,
   "outputs": [
    {
     "data": {
      "text/plain": "   id_producto    producto  precio  costo  margen\n0            1     Libreta     1.2    0.4     0.8\n1            2   Boligrafo     0.6    0.2     0.4\n2            3        Goma     0.5    0.1     0.4\n3            4  Sacapuntas     1.2    0.4     0.8\n4            5    Cuaderno     2.5    0.5     2.0\n5            6       Lapiz     0.5    0.1     0.4",
      "text/html": "<div>\n<style scoped>\n    .dataframe tbody tr th:only-of-type {\n        vertical-align: middle;\n    }\n\n    .dataframe tbody tr th {\n        vertical-align: top;\n    }\n\n    .dataframe thead th {\n        text-align: right;\n    }\n</style>\n<table border=\"1\" class=\"dataframe\">\n  <thead>\n    <tr style=\"text-align: right;\">\n      <th></th>\n      <th>id_producto</th>\n      <th>producto</th>\n      <th>precio</th>\n      <th>costo</th>\n      <th>margen</th>\n    </tr>\n  </thead>\n  <tbody>\n    <tr>\n      <th>0</th>\n      <td>1</td>\n      <td>Libreta</td>\n      <td>1.2</td>\n      <td>0.4</td>\n      <td>0.8</td>\n    </tr>\n    <tr>\n      <th>1</th>\n      <td>2</td>\n      <td>Boligrafo</td>\n      <td>0.6</td>\n      <td>0.2</td>\n      <td>0.4</td>\n    </tr>\n    <tr>\n      <th>2</th>\n      <td>3</td>\n      <td>Goma</td>\n      <td>0.5</td>\n      <td>0.1</td>\n      <td>0.4</td>\n    </tr>\n    <tr>\n      <th>3</th>\n      <td>4</td>\n      <td>Sacapuntas</td>\n      <td>1.2</td>\n      <td>0.4</td>\n      <td>0.8</td>\n    </tr>\n    <tr>\n      <th>4</th>\n      <td>5</td>\n      <td>Cuaderno</td>\n      <td>2.5</td>\n      <td>0.5</td>\n      <td>2.0</td>\n    </tr>\n    <tr>\n      <th>5</th>\n      <td>6</td>\n      <td>Lapiz</td>\n      <td>0.5</td>\n      <td>0.1</td>\n      <td>0.4</td>\n    </tr>\n  </tbody>\n</table>\n</div>"
     },
     "execution_count": 7,
     "metadata": {},
     "output_type": "execute_result"
    }
   ],
   "source": [
    "productos"
   ],
   "metadata": {
    "collapsed": false,
    "ExecuteTime": {
     "end_time": "2023-09-16T13:49:27.081695300Z",
     "start_time": "2023-09-16T13:49:27.066862700Z"
    }
   },
   "id": "bb881235a8e4707e"
  },
  {
   "cell_type": "code",
   "execution_count": 8,
   "outputs": [],
   "source": [
    "compras = df[['id_cliente', 'id_producto', 'cantidad', 'fecha']]"
   ],
   "metadata": {
    "collapsed": false,
    "ExecuteTime": {
     "end_time": "2023-09-16T13:49:38.796523900Z",
     "start_time": "2023-09-16T13:49:38.772288600Z"
    }
   },
   "id": "66ddcf7e6fa63caf"
  },
  {
   "cell_type": "code",
   "execution_count": 9,
   "outputs": [
    {
     "data": {
      "text/plain": "   id_cliente  id_producto  cantidad       fecha\n0           1            1         3  03-02-2018\n1           1            2         1  03-02-2018\n2           1            3         1  03-02-2018\n3           1            4         3  03-02-2018\n4           1            5         5  03-02-2018\n5           1            6         1  03-02-2018\n6           2            1         3  03-02-2018\n7           2            2         1  03-02-2018\n8           2            3         1  03-02-2018",
      "text/html": "<div>\n<style scoped>\n    .dataframe tbody tr th:only-of-type {\n        vertical-align: middle;\n    }\n\n    .dataframe tbody tr th {\n        vertical-align: top;\n    }\n\n    .dataframe thead th {\n        text-align: right;\n    }\n</style>\n<table border=\"1\" class=\"dataframe\">\n  <thead>\n    <tr style=\"text-align: right;\">\n      <th></th>\n      <th>id_cliente</th>\n      <th>id_producto</th>\n      <th>cantidad</th>\n      <th>fecha</th>\n    </tr>\n  </thead>\n  <tbody>\n    <tr>\n      <th>0</th>\n      <td>1</td>\n      <td>1</td>\n      <td>3</td>\n      <td>03-02-2018</td>\n    </tr>\n    <tr>\n      <th>1</th>\n      <td>1</td>\n      <td>2</td>\n      <td>1</td>\n      <td>03-02-2018</td>\n    </tr>\n    <tr>\n      <th>2</th>\n      <td>1</td>\n      <td>3</td>\n      <td>1</td>\n      <td>03-02-2018</td>\n    </tr>\n    <tr>\n      <th>3</th>\n      <td>1</td>\n      <td>4</td>\n      <td>3</td>\n      <td>03-02-2018</td>\n    </tr>\n    <tr>\n      <th>4</th>\n      <td>1</td>\n      <td>5</td>\n      <td>5</td>\n      <td>03-02-2018</td>\n    </tr>\n    <tr>\n      <th>5</th>\n      <td>1</td>\n      <td>6</td>\n      <td>1</td>\n      <td>03-02-2018</td>\n    </tr>\n    <tr>\n      <th>6</th>\n      <td>2</td>\n      <td>1</td>\n      <td>3</td>\n      <td>03-02-2018</td>\n    </tr>\n    <tr>\n      <th>7</th>\n      <td>2</td>\n      <td>2</td>\n      <td>1</td>\n      <td>03-02-2018</td>\n    </tr>\n    <tr>\n      <th>8</th>\n      <td>2</td>\n      <td>3</td>\n      <td>1</td>\n      <td>03-02-2018</td>\n    </tr>\n  </tbody>\n</table>\n</div>"
     },
     "execution_count": 9,
     "metadata": {},
     "output_type": "execute_result"
    }
   ],
   "source": [
    "compras"
   ],
   "metadata": {
    "collapsed": false,
    "ExecuteTime": {
     "end_time": "2023-09-16T13:49:40.820055600Z",
     "start_time": "2023-09-16T13:49:40.801394300Z"
    }
   },
   "id": "aa7e62f74f83c306"
  },
  {
   "cell_type": "code",
   "execution_count": null,
   "outputs": [],
   "source": [],
   "metadata": {
    "collapsed": false
   },
   "id": "13e9ae25842d6e52"
  }
 ],
 "metadata": {
  "kernelspec": {
   "display_name": "Python 3",
   "language": "python",
   "name": "python3"
  },
  "language_info": {
   "codemirror_mode": {
    "name": "ipython",
    "version": 2
   },
   "file_extension": ".py",
   "mimetype": "text/x-python",
   "name": "python",
   "nbconvert_exporter": "python",
   "pygments_lexer": "ipython2",
   "version": "2.7.6"
  }
 },
 "nbformat": 4,
 "nbformat_minor": 5
}
