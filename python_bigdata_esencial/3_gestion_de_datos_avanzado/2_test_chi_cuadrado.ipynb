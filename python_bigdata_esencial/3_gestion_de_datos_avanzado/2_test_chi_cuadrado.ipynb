{
 "cells": [
  {
   "cell_type": "code",
   "execution_count": 1,
   "id": "initial_id",
   "metadata": {
    "collapsed": true,
    "ExecuteTime": {
     "end_time": "2023-09-16T13:14:23.760643200Z",
     "start_time": "2023-09-16T13:14:20.452873Z"
    }
   },
   "outputs": [],
   "source": [
    "import pandas as pd\n",
    "import numpy as np"
   ]
  },
  {
   "cell_type": "code",
   "execution_count": 3,
   "outputs": [
    {
     "data": {
      "text/plain": "      Year  Month  DayofMonth  DayOfWeek  DepTime  CRSDepTime  ArrTime  \\\n0     2008      1           3          4   2003.0        1955   2211.0   \n1     2008      1           3          4    754.0         735   1002.0   \n2     2008      1           3          4    628.0         620    804.0   \n3     2008      1           3          4    926.0         930   1054.0   \n4     2008      1           3          4   1829.0        1755   1959.0   \n...    ...    ...         ...        ...      ...         ...      ...   \n9995  2008      1           6          7   2000.0        1955   2121.0   \n9996  2008      1           6          7   1624.0        1620   1742.0   \n9997  2008      1           6          7   1946.0        1805   2059.0   \n9998  2008      1           6          7   1549.0        1430   1706.0   \n9999  2008      1           6          7   1050.0        1050   1211.0   \n\n      CRSArrTime UniqueCarrier  FlightNum  ... TaxiIn  TaxiOut  Cancelled  \\\n0           2225            WN        335  ...    4.0      8.0          0   \n1           1000            WN       3231  ...    5.0     10.0          0   \n2            750            WN        448  ...    3.0     17.0          0   \n3           1100            WN       1746  ...    3.0      7.0          0   \n4           1925            WN       3920  ...    3.0     10.0          0   \n...          ...           ...        ...  ...    ...      ...        ...   \n9995        2115            WN        593  ...    5.0     13.0          0   \n9996        1740            WN        618  ...    4.0      8.0          0   \n9997        1930            WN        646  ...    4.0      8.0          0   \n9998        1550            WN        656  ...    3.0      6.0          0   \n9999        1210            WN        680  ...    6.0     10.0          0   \n\n      CancellationCode  Diverted  CarrierDelay WeatherDelay NASDelay  \\\n0                  NaN         0           NaN          NaN      NaN   \n1                  NaN         0           NaN          NaN      NaN   \n2                  NaN         0           NaN          NaN      NaN   \n3                  NaN         0           NaN          NaN      NaN   \n4                  NaN         0           2.0          0.0      0.0   \n...                ...       ...           ...          ...      ...   \n9995               NaN         0           NaN          NaN      NaN   \n9996               NaN         0           NaN          NaN      NaN   \n9997               NaN         0           0.0          0.0      6.0   \n9998               NaN         0           0.0         48.0      0.0   \n9999               NaN         0           NaN          NaN      NaN   \n\n      SecurityDelay  LateAircraftDelay  \n0               NaN                NaN  \n1               NaN                NaN  \n2               NaN                NaN  \n3               NaN                NaN  \n4               0.0               32.0  \n...             ...                ...  \n9995            NaN                NaN  \n9996            NaN                NaN  \n9997            0.0               83.0  \n9998            0.0               28.0  \n9999            NaN                NaN  \n\n[10000 rows x 29 columns]",
      "text/html": "<div>\n<style scoped>\n    .dataframe tbody tr th:only-of-type {\n        vertical-align: middle;\n    }\n\n    .dataframe tbody tr th {\n        vertical-align: top;\n    }\n\n    .dataframe thead th {\n        text-align: right;\n    }\n</style>\n<table border=\"1\" class=\"dataframe\">\n  <thead>\n    <tr style=\"text-align: right;\">\n      <th></th>\n      <th>Year</th>\n      <th>Month</th>\n      <th>DayofMonth</th>\n      <th>DayOfWeek</th>\n      <th>DepTime</th>\n      <th>CRSDepTime</th>\n      <th>ArrTime</th>\n      <th>CRSArrTime</th>\n      <th>UniqueCarrier</th>\n      <th>FlightNum</th>\n      <th>...</th>\n      <th>TaxiIn</th>\n      <th>TaxiOut</th>\n      <th>Cancelled</th>\n      <th>CancellationCode</th>\n      <th>Diverted</th>\n      <th>CarrierDelay</th>\n      <th>WeatherDelay</th>\n      <th>NASDelay</th>\n      <th>SecurityDelay</th>\n      <th>LateAircraftDelay</th>\n    </tr>\n  </thead>\n  <tbody>\n    <tr>\n      <th>0</th>\n      <td>2008</td>\n      <td>1</td>\n      <td>3</td>\n      <td>4</td>\n      <td>2003.0</td>\n      <td>1955</td>\n      <td>2211.0</td>\n      <td>2225</td>\n      <td>WN</td>\n      <td>335</td>\n      <td>...</td>\n      <td>4.0</td>\n      <td>8.0</td>\n      <td>0</td>\n      <td>NaN</td>\n      <td>0</td>\n      <td>NaN</td>\n      <td>NaN</td>\n      <td>NaN</td>\n      <td>NaN</td>\n      <td>NaN</td>\n    </tr>\n    <tr>\n      <th>1</th>\n      <td>2008</td>\n      <td>1</td>\n      <td>3</td>\n      <td>4</td>\n      <td>754.0</td>\n      <td>735</td>\n      <td>1002.0</td>\n      <td>1000</td>\n      <td>WN</td>\n      <td>3231</td>\n      <td>...</td>\n      <td>5.0</td>\n      <td>10.0</td>\n      <td>0</td>\n      <td>NaN</td>\n      <td>0</td>\n      <td>NaN</td>\n      <td>NaN</td>\n      <td>NaN</td>\n      <td>NaN</td>\n      <td>NaN</td>\n    </tr>\n    <tr>\n      <th>2</th>\n      <td>2008</td>\n      <td>1</td>\n      <td>3</td>\n      <td>4</td>\n      <td>628.0</td>\n      <td>620</td>\n      <td>804.0</td>\n      <td>750</td>\n      <td>WN</td>\n      <td>448</td>\n      <td>...</td>\n      <td>3.0</td>\n      <td>17.0</td>\n      <td>0</td>\n      <td>NaN</td>\n      <td>0</td>\n      <td>NaN</td>\n      <td>NaN</td>\n      <td>NaN</td>\n      <td>NaN</td>\n      <td>NaN</td>\n    </tr>\n    <tr>\n      <th>3</th>\n      <td>2008</td>\n      <td>1</td>\n      <td>3</td>\n      <td>4</td>\n      <td>926.0</td>\n      <td>930</td>\n      <td>1054.0</td>\n      <td>1100</td>\n      <td>WN</td>\n      <td>1746</td>\n      <td>...</td>\n      <td>3.0</td>\n      <td>7.0</td>\n      <td>0</td>\n      <td>NaN</td>\n      <td>0</td>\n      <td>NaN</td>\n      <td>NaN</td>\n      <td>NaN</td>\n      <td>NaN</td>\n      <td>NaN</td>\n    </tr>\n    <tr>\n      <th>4</th>\n      <td>2008</td>\n      <td>1</td>\n      <td>3</td>\n      <td>4</td>\n      <td>1829.0</td>\n      <td>1755</td>\n      <td>1959.0</td>\n      <td>1925</td>\n      <td>WN</td>\n      <td>3920</td>\n      <td>...</td>\n      <td>3.0</td>\n      <td>10.0</td>\n      <td>0</td>\n      <td>NaN</td>\n      <td>0</td>\n      <td>2.0</td>\n      <td>0.0</td>\n      <td>0.0</td>\n      <td>0.0</td>\n      <td>32.0</td>\n    </tr>\n    <tr>\n      <th>...</th>\n      <td>...</td>\n      <td>...</td>\n      <td>...</td>\n      <td>...</td>\n      <td>...</td>\n      <td>...</td>\n      <td>...</td>\n      <td>...</td>\n      <td>...</td>\n      <td>...</td>\n      <td>...</td>\n      <td>...</td>\n      <td>...</td>\n      <td>...</td>\n      <td>...</td>\n      <td>...</td>\n      <td>...</td>\n      <td>...</td>\n      <td>...</td>\n      <td>...</td>\n      <td>...</td>\n    </tr>\n    <tr>\n      <th>9995</th>\n      <td>2008</td>\n      <td>1</td>\n      <td>6</td>\n      <td>7</td>\n      <td>2000.0</td>\n      <td>1955</td>\n      <td>2121.0</td>\n      <td>2115</td>\n      <td>WN</td>\n      <td>593</td>\n      <td>...</td>\n      <td>5.0</td>\n      <td>13.0</td>\n      <td>0</td>\n      <td>NaN</td>\n      <td>0</td>\n      <td>NaN</td>\n      <td>NaN</td>\n      <td>NaN</td>\n      <td>NaN</td>\n      <td>NaN</td>\n    </tr>\n    <tr>\n      <th>9996</th>\n      <td>2008</td>\n      <td>1</td>\n      <td>6</td>\n      <td>7</td>\n      <td>1624.0</td>\n      <td>1620</td>\n      <td>1742.0</td>\n      <td>1740</td>\n      <td>WN</td>\n      <td>618</td>\n      <td>...</td>\n      <td>4.0</td>\n      <td>8.0</td>\n      <td>0</td>\n      <td>NaN</td>\n      <td>0</td>\n      <td>NaN</td>\n      <td>NaN</td>\n      <td>NaN</td>\n      <td>NaN</td>\n      <td>NaN</td>\n    </tr>\n    <tr>\n      <th>9997</th>\n      <td>2008</td>\n      <td>1</td>\n      <td>6</td>\n      <td>7</td>\n      <td>1946.0</td>\n      <td>1805</td>\n      <td>2059.0</td>\n      <td>1930</td>\n      <td>WN</td>\n      <td>646</td>\n      <td>...</td>\n      <td>4.0</td>\n      <td>8.0</td>\n      <td>0</td>\n      <td>NaN</td>\n      <td>0</td>\n      <td>0.0</td>\n      <td>0.0</td>\n      <td>6.0</td>\n      <td>0.0</td>\n      <td>83.0</td>\n    </tr>\n    <tr>\n      <th>9998</th>\n      <td>2008</td>\n      <td>1</td>\n      <td>6</td>\n      <td>7</td>\n      <td>1549.0</td>\n      <td>1430</td>\n      <td>1706.0</td>\n      <td>1550</td>\n      <td>WN</td>\n      <td>656</td>\n      <td>...</td>\n      <td>3.0</td>\n      <td>6.0</td>\n      <td>0</td>\n      <td>NaN</td>\n      <td>0</td>\n      <td>0.0</td>\n      <td>48.0</td>\n      <td>0.0</td>\n      <td>0.0</td>\n      <td>28.0</td>\n    </tr>\n    <tr>\n      <th>9999</th>\n      <td>2008</td>\n      <td>1</td>\n      <td>6</td>\n      <td>7</td>\n      <td>1050.0</td>\n      <td>1050</td>\n      <td>1211.0</td>\n      <td>1210</td>\n      <td>WN</td>\n      <td>680</td>\n      <td>...</td>\n      <td>6.0</td>\n      <td>10.0</td>\n      <td>0</td>\n      <td>NaN</td>\n      <td>0</td>\n      <td>NaN</td>\n      <td>NaN</td>\n      <td>NaN</td>\n      <td>NaN</td>\n      <td>NaN</td>\n    </tr>\n  </tbody>\n</table>\n<p>10000 rows × 29 columns</p>\n</div>"
     },
     "execution_count": 3,
     "metadata": {},
     "output_type": "execute_result"
    }
   ],
   "source": [
    "df = pd.read_csv('../data/2008.csv', nrows=10000)\n",
    "df"
   ],
   "metadata": {
    "collapsed": false,
    "ExecuteTime": {
     "end_time": "2023-09-16T13:15:09.983161200Z",
     "start_time": "2023-09-16T13:15:09.911564700Z"
    }
   },
   "id": "53daad4d2b06f1af"
  },
  {
   "cell_type": "code",
   "execution_count": 4,
   "outputs": [],
   "source": [
    "np.random.seed(0)\n",
    "df = df[df.Origin.isin(['HOU', 'ATL', 'IND'])]\n",
    "df = df.sample(frac=1)\n",
    "df = df[0:10000]"
   ],
   "metadata": {
    "collapsed": false,
    "ExecuteTime": {
     "end_time": "2023-09-16T13:16:28.133322500Z",
     "start_time": "2023-09-16T13:16:27.699607300Z"
    }
   },
   "id": "474c8b3791f794f4"
  },
  {
   "cell_type": "code",
   "execution_count": 5,
   "outputs": [
    {
     "data": {
      "text/plain": "Origin    HOU  IND  All\nBigDelay               \nFalse     369   57  426\nTrue       24    5   29\nAll       393   62  455",
      "text/html": "<div>\n<style scoped>\n    .dataframe tbody tr th:only-of-type {\n        vertical-align: middle;\n    }\n\n    .dataframe tbody tr th {\n        vertical-align: top;\n    }\n\n    .dataframe thead th {\n        text-align: right;\n    }\n</style>\n<table border=\"1\" class=\"dataframe\">\n  <thead>\n    <tr style=\"text-align: right;\">\n      <th>Origin</th>\n      <th>HOU</th>\n      <th>IND</th>\n      <th>All</th>\n    </tr>\n    <tr>\n      <th>BigDelay</th>\n      <th></th>\n      <th></th>\n      <th></th>\n    </tr>\n  </thead>\n  <tbody>\n    <tr>\n      <th>False</th>\n      <td>369</td>\n      <td>57</td>\n      <td>426</td>\n    </tr>\n    <tr>\n      <th>True</th>\n      <td>24</td>\n      <td>5</td>\n      <td>29</td>\n    </tr>\n    <tr>\n      <th>All</th>\n      <td>393</td>\n      <td>62</td>\n      <td>455</td>\n    </tr>\n  </tbody>\n</table>\n</div>"
     },
     "execution_count": 5,
     "metadata": {},
     "output_type": "execute_result"
    }
   ],
   "source": [
    "df['BigDelay'] = df.ArrDelay > 30\n",
    "observados = pd.crosstab(df['BigDelay'], df['Origin'], margins=True)\n",
    "observados"
   ],
   "metadata": {
    "collapsed": false,
    "ExecuteTime": {
     "end_time": "2023-09-16T13:17:33.479224100Z",
     "start_time": "2023-09-16T13:17:32.979359700Z"
    }
   },
   "id": "93fba391182fd593"
  },
  {
   "cell_type": "code",
   "execution_count": 6,
   "outputs": [],
   "source": [
    "from scipy.stats import chi2_contingency"
   ],
   "metadata": {
    "collapsed": false,
    "ExecuteTime": {
     "end_time": "2023-09-16T13:21:23.076607300Z",
     "start_time": "2023-09-16T13:21:17.156984900Z"
    }
   },
   "id": "d3ac6d6e393d5d9"
  },
  {
   "cell_type": "code",
   "execution_count": 7,
   "outputs": [
    {
     "data": {
      "text/plain": "Chi2ContingencyResult(statistic=0.34391911762331556, pvalue=0.9868054470931583, dof=4, expected_freq=array([[367.95164835,  58.04835165, 426.        ],\n       [ 25.04835165,   3.95164835,  29.        ],\n       [393.        ,  62.        , 455.        ]]))"
     },
     "execution_count": 7,
     "metadata": {},
     "output_type": "execute_result"
    }
   ],
   "source": [
    "test = chi2_contingency(observados)\n",
    "test"
   ],
   "metadata": {
    "collapsed": false,
    "ExecuteTime": {
     "end_time": "2023-09-16T13:21:31.217803500Z",
     "start_time": "2023-09-16T13:21:31.143591100Z"
    }
   },
   "id": "fc87172817f5ec2d"
  },
  {
   "cell_type": "code",
   "execution_count": 8,
   "outputs": [
    {
     "data": {
      "text/plain": "            0          1      2\n0  367.951648  58.048352  426.0\n1   25.048352   3.951648   29.0\n2  393.000000  62.000000  455.0",
      "text/html": "<div>\n<style scoped>\n    .dataframe tbody tr th:only-of-type {\n        vertical-align: middle;\n    }\n\n    .dataframe tbody tr th {\n        vertical-align: top;\n    }\n\n    .dataframe thead th {\n        text-align: right;\n    }\n</style>\n<table border=\"1\" class=\"dataframe\">\n  <thead>\n    <tr style=\"text-align: right;\">\n      <th></th>\n      <th>0</th>\n      <th>1</th>\n      <th>2</th>\n    </tr>\n  </thead>\n  <tbody>\n    <tr>\n      <th>0</th>\n      <td>367.951648</td>\n      <td>58.048352</td>\n      <td>426.0</td>\n    </tr>\n    <tr>\n      <th>1</th>\n      <td>25.048352</td>\n      <td>3.951648</td>\n      <td>29.0</td>\n    </tr>\n    <tr>\n      <th>2</th>\n      <td>393.000000</td>\n      <td>62.000000</td>\n      <td>455.0</td>\n    </tr>\n  </tbody>\n</table>\n</div>"
     },
     "execution_count": 8,
     "metadata": {},
     "output_type": "execute_result"
    }
   ],
   "source": [
    "esperados = pd.DataFrame(test[3])\n",
    "esperados"
   ],
   "metadata": {
    "collapsed": false,
    "ExecuteTime": {
     "end_time": "2023-09-16T13:22:08.068615500Z",
     "start_time": "2023-09-16T13:22:08.024997700Z"
    }
   },
   "id": "7dcc24d2f4315127"
  },
  {
   "cell_type": "code",
   "execution_count": 9,
   "outputs": [],
   "source": [
    "esperados_rel = round(esperados.apply(lambda r: r/len(df) * 100, axis=1), 2)"
   ],
   "metadata": {
    "collapsed": false,
    "ExecuteTime": {
     "end_time": "2023-09-16T13:22:28.327858500Z",
     "start_time": "2023-09-16T13:22:28.311597400Z"
    }
   },
   "id": "fdd226e2c30d63d6"
  },
  {
   "cell_type": "code",
   "execution_count": 10,
   "outputs": [],
   "source": [
    "observados_rel = round(observados.apply(lambda r: r/len(df) * 100, axis=1), 2)"
   ],
   "metadata": {
    "collapsed": false,
    "ExecuteTime": {
     "end_time": "2023-09-16T13:22:31.967678200Z",
     "start_time": "2023-09-16T13:22:31.949795Z"
    }
   },
   "id": "b7d71ab2803ac4c1"
  },
  {
   "cell_type": "code",
   "execution_count": 11,
   "outputs": [
    {
     "data": {
      "text/plain": "Origin      HOU    IND     All\nBigDelay                      \nFalse     81.10  12.53   93.63\nTrue       5.27   1.10    6.37\nAll       86.37  13.63  100.00",
      "text/html": "<div>\n<style scoped>\n    .dataframe tbody tr th:only-of-type {\n        vertical-align: middle;\n    }\n\n    .dataframe tbody tr th {\n        vertical-align: top;\n    }\n\n    .dataframe thead th {\n        text-align: right;\n    }\n</style>\n<table border=\"1\" class=\"dataframe\">\n  <thead>\n    <tr style=\"text-align: right;\">\n      <th>Origin</th>\n      <th>HOU</th>\n      <th>IND</th>\n      <th>All</th>\n    </tr>\n    <tr>\n      <th>BigDelay</th>\n      <th></th>\n      <th></th>\n      <th></th>\n    </tr>\n  </thead>\n  <tbody>\n    <tr>\n      <th>False</th>\n      <td>81.10</td>\n      <td>12.53</td>\n      <td>93.63</td>\n    </tr>\n    <tr>\n      <th>True</th>\n      <td>5.27</td>\n      <td>1.10</td>\n      <td>6.37</td>\n    </tr>\n    <tr>\n      <th>All</th>\n      <td>86.37</td>\n      <td>13.63</td>\n      <td>100.00</td>\n    </tr>\n  </tbody>\n</table>\n</div>"
     },
     "execution_count": 11,
     "metadata": {},
     "output_type": "execute_result"
    }
   ],
   "source": [
    "observados_rel"
   ],
   "metadata": {
    "collapsed": false,
    "ExecuteTime": {
     "end_time": "2023-09-16T13:22:34.867284300Z",
     "start_time": "2023-09-16T13:22:34.851237200Z"
    }
   },
   "id": "3af5cbdb0781de74"
  },
  {
   "cell_type": "code",
   "execution_count": 12,
   "outputs": [
    {
     "data": {
      "text/plain": "       0      1       2\n0  80.87  12.76   93.63\n1   5.51   0.87    6.37\n2  86.37  13.63  100.00",
      "text/html": "<div>\n<style scoped>\n    .dataframe tbody tr th:only-of-type {\n        vertical-align: middle;\n    }\n\n    .dataframe tbody tr th {\n        vertical-align: top;\n    }\n\n    .dataframe thead th {\n        text-align: right;\n    }\n</style>\n<table border=\"1\" class=\"dataframe\">\n  <thead>\n    <tr style=\"text-align: right;\">\n      <th></th>\n      <th>0</th>\n      <th>1</th>\n      <th>2</th>\n    </tr>\n  </thead>\n  <tbody>\n    <tr>\n      <th>0</th>\n      <td>80.87</td>\n      <td>12.76</td>\n      <td>93.63</td>\n    </tr>\n    <tr>\n      <th>1</th>\n      <td>5.51</td>\n      <td>0.87</td>\n      <td>6.37</td>\n    </tr>\n    <tr>\n      <th>2</th>\n      <td>86.37</td>\n      <td>13.63</td>\n      <td>100.00</td>\n    </tr>\n  </tbody>\n</table>\n</div>"
     },
     "execution_count": 12,
     "metadata": {},
     "output_type": "execute_result"
    }
   ],
   "source": [
    "esperados_rel"
   ],
   "metadata": {
    "collapsed": false,
    "ExecuteTime": {
     "end_time": "2023-09-16T13:22:37.586678200Z",
     "start_time": "2023-09-16T13:22:37.561224800Z"
    }
   },
   "id": "c15442c15b091e1b"
  },
  {
   "cell_type": "code",
   "execution_count": 13,
   "outputs": [
    {
     "data": {
      "text/plain": "0.9868054470931583"
     },
     "execution_count": 13,
     "metadata": {},
     "output_type": "execute_result"
    }
   ],
   "source": [
    "test[1]"
   ],
   "metadata": {
    "collapsed": false,
    "ExecuteTime": {
     "end_time": "2023-09-16T13:22:44.295457100Z",
     "start_time": "2023-09-16T13:22:44.270214600Z"
    }
   },
   "id": "69f75a760ba8ac26"
  }
 ],
 "metadata": {
  "kernelspec": {
   "display_name": "Python 3",
   "language": "python",
   "name": "python3"
  },
  "language_info": {
   "codemirror_mode": {
    "name": "ipython",
    "version": 2
   },
   "file_extension": ".py",
   "mimetype": "text/x-python",
   "name": "python",
   "nbconvert_exporter": "python",
   "pygments_lexer": "ipython2",
   "version": "2.7.6"
  }
 },
 "nbformat": 4,
 "nbformat_minor": 5
}
