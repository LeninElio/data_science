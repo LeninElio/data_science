{
 "cells": [
  {
   "cell_type": "markdown",
   "source": [
    "## Como detectar datos extremadamente grandes o pequeños."
   ],
   "metadata": {
    "collapsed": false
   },
   "id": "c35ab1bfaa64d6b9"
  },
  {
   "cell_type": "code",
   "execution_count": 4,
   "id": "initial_id",
   "metadata": {
    "collapsed": true,
    "ExecuteTime": {
     "end_time": "2023-09-16T13:26:41.065702500Z",
     "start_time": "2023-09-16T13:26:41.061246900Z"
    }
   },
   "outputs": [],
   "source": [
    "import pandas as pd\n",
    "import numpy as np"
   ]
  },
  {
   "cell_type": "code",
   "execution_count": 5,
   "outputs": [
    {
     "data": {
      "text/plain": "       Year  Month  DayofMonth  DayOfWeek  DepTime  CRSDepTime  ArrTime  \\\n0      2008      1           3          4   2003.0        1955   2211.0   \n1      2008      1           3          4    754.0         735   1002.0   \n2      2008      1           3          4    628.0         620    804.0   \n3      2008      1           3          4    926.0         930   1054.0   \n4      2008      1           3          4   1829.0        1755   1959.0   \n...     ...    ...         ...        ...      ...         ...      ...   \n99995  2008      1          25          5   2204.0        1935    106.0   \n99996  2008      1          26          6   1933.0        1935   2234.0   \n99997  2008      1          27          7   2047.0        1935   2400.0   \n99998  2008      1          28          1   1956.0        1935   2308.0   \n99999  2008      1          29          2   1938.0        1935   2308.0   \n\n       CRSArrTime UniqueCarrier  FlightNum  ... TaxiIn  TaxiOut  Cancelled  \\\n0            2225            WN        335  ...    4.0      8.0          0   \n1            1000            WN       3231  ...    5.0     10.0          0   \n2             750            WN        448  ...    3.0     17.0          0   \n3            1100            WN       1746  ...    3.0      7.0          0   \n4            1925            WN       3920  ...    3.0     10.0          0   \n...           ...           ...        ...  ...    ...      ...        ...   \n99995        2257            XE       7676  ...    4.0     17.0          0   \n99996        2257            XE       7676  ...    4.0     16.0          0   \n99997        2257            XE       7676  ...    6.0     18.0          0   \n99998        2257            XE       7676  ...    5.0     25.0          0   \n99999        2257            XE       7676  ...    5.0     41.0          0   \n\n       CancellationCode  Diverted  CarrierDelay WeatherDelay NASDelay  \\\n0                   NaN         0           NaN          NaN      NaN   \n1                   NaN         0           NaN          NaN      NaN   \n2                   NaN         0           NaN          NaN      NaN   \n3                   NaN         0           NaN          NaN      NaN   \n4                   NaN         0           2.0          0.0      0.0   \n...                 ...       ...           ...          ...      ...   \n99995               NaN         0           0.0          0.0      0.0   \n99996               NaN         0           NaN          NaN      NaN   \n99997               NaN         0          23.0          0.0      0.0   \n99998               NaN         0           NaN          NaN      NaN   \n99999               NaN         0           NaN          NaN      NaN   \n\n       SecurityDelay  LateAircraftDelay  \n0                NaN                NaN  \n1                NaN                NaN  \n2                NaN                NaN  \n3                NaN                NaN  \n4                0.0               32.0  \n...              ...                ...  \n99995            0.0              129.0  \n99996            NaN                NaN  \n99997            0.0               40.0  \n99998            NaN                NaN  \n99999            NaN                NaN  \n\n[100000 rows x 29 columns]",
      "text/html": "<div>\n<style scoped>\n    .dataframe tbody tr th:only-of-type {\n        vertical-align: middle;\n    }\n\n    .dataframe tbody tr th {\n        vertical-align: top;\n    }\n\n    .dataframe thead th {\n        text-align: right;\n    }\n</style>\n<table border=\"1\" class=\"dataframe\">\n  <thead>\n    <tr style=\"text-align: right;\">\n      <th></th>\n      <th>Year</th>\n      <th>Month</th>\n      <th>DayofMonth</th>\n      <th>DayOfWeek</th>\n      <th>DepTime</th>\n      <th>CRSDepTime</th>\n      <th>ArrTime</th>\n      <th>CRSArrTime</th>\n      <th>UniqueCarrier</th>\n      <th>FlightNum</th>\n      <th>...</th>\n      <th>TaxiIn</th>\n      <th>TaxiOut</th>\n      <th>Cancelled</th>\n      <th>CancellationCode</th>\n      <th>Diverted</th>\n      <th>CarrierDelay</th>\n      <th>WeatherDelay</th>\n      <th>NASDelay</th>\n      <th>SecurityDelay</th>\n      <th>LateAircraftDelay</th>\n    </tr>\n  </thead>\n  <tbody>\n    <tr>\n      <th>0</th>\n      <td>2008</td>\n      <td>1</td>\n      <td>3</td>\n      <td>4</td>\n      <td>2003.0</td>\n      <td>1955</td>\n      <td>2211.0</td>\n      <td>2225</td>\n      <td>WN</td>\n      <td>335</td>\n      <td>...</td>\n      <td>4.0</td>\n      <td>8.0</td>\n      <td>0</td>\n      <td>NaN</td>\n      <td>0</td>\n      <td>NaN</td>\n      <td>NaN</td>\n      <td>NaN</td>\n      <td>NaN</td>\n      <td>NaN</td>\n    </tr>\n    <tr>\n      <th>1</th>\n      <td>2008</td>\n      <td>1</td>\n      <td>3</td>\n      <td>4</td>\n      <td>754.0</td>\n      <td>735</td>\n      <td>1002.0</td>\n      <td>1000</td>\n      <td>WN</td>\n      <td>3231</td>\n      <td>...</td>\n      <td>5.0</td>\n      <td>10.0</td>\n      <td>0</td>\n      <td>NaN</td>\n      <td>0</td>\n      <td>NaN</td>\n      <td>NaN</td>\n      <td>NaN</td>\n      <td>NaN</td>\n      <td>NaN</td>\n    </tr>\n    <tr>\n      <th>2</th>\n      <td>2008</td>\n      <td>1</td>\n      <td>3</td>\n      <td>4</td>\n      <td>628.0</td>\n      <td>620</td>\n      <td>804.0</td>\n      <td>750</td>\n      <td>WN</td>\n      <td>448</td>\n      <td>...</td>\n      <td>3.0</td>\n      <td>17.0</td>\n      <td>0</td>\n      <td>NaN</td>\n      <td>0</td>\n      <td>NaN</td>\n      <td>NaN</td>\n      <td>NaN</td>\n      <td>NaN</td>\n      <td>NaN</td>\n    </tr>\n    <tr>\n      <th>3</th>\n      <td>2008</td>\n      <td>1</td>\n      <td>3</td>\n      <td>4</td>\n      <td>926.0</td>\n      <td>930</td>\n      <td>1054.0</td>\n      <td>1100</td>\n      <td>WN</td>\n      <td>1746</td>\n      <td>...</td>\n      <td>3.0</td>\n      <td>7.0</td>\n      <td>0</td>\n      <td>NaN</td>\n      <td>0</td>\n      <td>NaN</td>\n      <td>NaN</td>\n      <td>NaN</td>\n      <td>NaN</td>\n      <td>NaN</td>\n    </tr>\n    <tr>\n      <th>4</th>\n      <td>2008</td>\n      <td>1</td>\n      <td>3</td>\n      <td>4</td>\n      <td>1829.0</td>\n      <td>1755</td>\n      <td>1959.0</td>\n      <td>1925</td>\n      <td>WN</td>\n      <td>3920</td>\n      <td>...</td>\n      <td>3.0</td>\n      <td>10.0</td>\n      <td>0</td>\n      <td>NaN</td>\n      <td>0</td>\n      <td>2.0</td>\n      <td>0.0</td>\n      <td>0.0</td>\n      <td>0.0</td>\n      <td>32.0</td>\n    </tr>\n    <tr>\n      <th>...</th>\n      <td>...</td>\n      <td>...</td>\n      <td>...</td>\n      <td>...</td>\n      <td>...</td>\n      <td>...</td>\n      <td>...</td>\n      <td>...</td>\n      <td>...</td>\n      <td>...</td>\n      <td>...</td>\n      <td>...</td>\n      <td>...</td>\n      <td>...</td>\n      <td>...</td>\n      <td>...</td>\n      <td>...</td>\n      <td>...</td>\n      <td>...</td>\n      <td>...</td>\n      <td>...</td>\n    </tr>\n    <tr>\n      <th>99995</th>\n      <td>2008</td>\n      <td>1</td>\n      <td>25</td>\n      <td>5</td>\n      <td>2204.0</td>\n      <td>1935</td>\n      <td>106.0</td>\n      <td>2257</td>\n      <td>XE</td>\n      <td>7676</td>\n      <td>...</td>\n      <td>4.0</td>\n      <td>17.0</td>\n      <td>0</td>\n      <td>NaN</td>\n      <td>0</td>\n      <td>0.0</td>\n      <td>0.0</td>\n      <td>0.0</td>\n      <td>0.0</td>\n      <td>129.0</td>\n    </tr>\n    <tr>\n      <th>99996</th>\n      <td>2008</td>\n      <td>1</td>\n      <td>26</td>\n      <td>6</td>\n      <td>1933.0</td>\n      <td>1935</td>\n      <td>2234.0</td>\n      <td>2257</td>\n      <td>XE</td>\n      <td>7676</td>\n      <td>...</td>\n      <td>4.0</td>\n      <td>16.0</td>\n      <td>0</td>\n      <td>NaN</td>\n      <td>0</td>\n      <td>NaN</td>\n      <td>NaN</td>\n      <td>NaN</td>\n      <td>NaN</td>\n      <td>NaN</td>\n    </tr>\n    <tr>\n      <th>99997</th>\n      <td>2008</td>\n      <td>1</td>\n      <td>27</td>\n      <td>7</td>\n      <td>2047.0</td>\n      <td>1935</td>\n      <td>2400.0</td>\n      <td>2257</td>\n      <td>XE</td>\n      <td>7676</td>\n      <td>...</td>\n      <td>6.0</td>\n      <td>18.0</td>\n      <td>0</td>\n      <td>NaN</td>\n      <td>0</td>\n      <td>23.0</td>\n      <td>0.0</td>\n      <td>0.0</td>\n      <td>0.0</td>\n      <td>40.0</td>\n    </tr>\n    <tr>\n      <th>99998</th>\n      <td>2008</td>\n      <td>1</td>\n      <td>28</td>\n      <td>1</td>\n      <td>1956.0</td>\n      <td>1935</td>\n      <td>2308.0</td>\n      <td>2257</td>\n      <td>XE</td>\n      <td>7676</td>\n      <td>...</td>\n      <td>5.0</td>\n      <td>25.0</td>\n      <td>0</td>\n      <td>NaN</td>\n      <td>0</td>\n      <td>NaN</td>\n      <td>NaN</td>\n      <td>NaN</td>\n      <td>NaN</td>\n      <td>NaN</td>\n    </tr>\n    <tr>\n      <th>99999</th>\n      <td>2008</td>\n      <td>1</td>\n      <td>29</td>\n      <td>2</td>\n      <td>1938.0</td>\n      <td>1935</td>\n      <td>2308.0</td>\n      <td>2257</td>\n      <td>XE</td>\n      <td>7676</td>\n      <td>...</td>\n      <td>5.0</td>\n      <td>41.0</td>\n      <td>0</td>\n      <td>NaN</td>\n      <td>0</td>\n      <td>NaN</td>\n      <td>NaN</td>\n      <td>NaN</td>\n      <td>NaN</td>\n      <td>NaN</td>\n    </tr>\n  </tbody>\n</table>\n<p>100000 rows × 29 columns</p>\n</div>"
     },
     "execution_count": 5,
     "metadata": {},
     "output_type": "execute_result"
    }
   ],
   "source": [
    "df = pd.read_csv('../data/2008.csv', nrows=100000)\n",
    "df"
   ],
   "metadata": {
    "collapsed": false,
    "ExecuteTime": {
     "end_time": "2023-09-16T13:27:18.147866300Z",
     "start_time": "2023-09-16T13:27:17.838114200Z"
    }
   },
   "id": "533e314402d848d7"
  },
  {
   "cell_type": "code",
   "execution_count": 6,
   "outputs": [],
   "source": [
    "x = df['ArrDelay'].dropna()"
   ],
   "metadata": {
    "collapsed": false,
    "ExecuteTime": {
     "end_time": "2023-09-16T13:29:50.270364900Z",
     "start_time": "2023-09-16T13:29:50.253509500Z"
    }
   },
   "id": "bf3625722ed22452"
  },
  {
   "cell_type": "code",
   "execution_count": 7,
   "outputs": [],
   "source": [
    "Q1 = np.percentile(x, 25)\n",
    "Q3 = np.percentile(x, 75)\n",
    "rangointer = Q3 - Q1"
   ],
   "metadata": {
    "collapsed": false,
    "ExecuteTime": {
     "end_time": "2023-09-16T13:30:12.002854600Z",
     "start_time": "2023-09-16T13:30:11.953116400Z"
    }
   },
   "id": "21dbb30039769519"
  },
  {
   "cell_type": "code",
   "execution_count": 8,
   "outputs": [
    {
     "data": {
      "text/plain": "(38.5, -37.5)"
     },
     "execution_count": 8,
     "metadata": {},
     "output_type": "execute_result"
    }
   ],
   "source": [
    "umbralsuperior = Q3 + 1.5 * rangointer\n",
    "umbralinferior = Q1 - 1.5 * rangointer\n",
    "umbralsuperior, umbralinferior"
   ],
   "metadata": {
    "collapsed": false,
    "ExecuteTime": {
     "end_time": "2023-09-16T13:30:22.947903Z",
     "start_time": "2023-09-16T13:30:22.918394700Z"
    }
   },
   "id": "b0c393851ea23338"
  },
  {
   "cell_type": "code",
   "execution_count": 9,
   "outputs": [
    {
     "data": {
      "text/plain": "0.08387201361729721"
     },
     "execution_count": 9,
     "metadata": {},
     "output_type": "execute_result"
    }
   ],
   "source": [
    "np.mean(x > umbralsuperior)"
   ],
   "metadata": {
    "collapsed": false,
    "ExecuteTime": {
     "end_time": "2023-09-16T13:30:50.707985300Z",
     "start_time": "2023-09-16T13:30:50.692945900Z"
    }
   },
   "id": "ec2e064790a6e83a"
  },
  {
   "cell_type": "code",
   "execution_count": 10,
   "outputs": [
    {
     "data": {
      "text/plain": "0.0019048005025431114"
     },
     "execution_count": 10,
     "metadata": {},
     "output_type": "execute_result"
    }
   ],
   "source": [
    "np.mean(x < umbralinferior)"
   ],
   "metadata": {
    "collapsed": false,
    "ExecuteTime": {
     "end_time": "2023-09-16T13:30:53.217805200Z",
     "start_time": "2023-09-16T13:30:53.205002200Z"
    }
   },
   "id": "b2ca8059f438f239"
  },
  {
   "cell_type": "code",
   "execution_count": 11,
   "outputs": [
    {
     "data": {
      "text/plain": "0.08577681411984033"
     },
     "execution_count": 11,
     "metadata": {},
     "output_type": "execute_result"
    }
   ],
   "source": [
    "np.mean((x > umbralsuperior) | (x < umbralinferior))"
   ],
   "metadata": {
    "collapsed": false,
    "ExecuteTime": {
     "end_time": "2023-09-16T13:31:01.356279700Z",
     "start_time": "2023-09-16T13:31:01.333758900Z"
    }
   },
   "id": "3452a604768131b7"
  },
  {
   "cell_type": "code",
   "execution_count": 13,
   "outputs": [],
   "source": [
    "from sklearn.covariance import EllipticEnvelope"
   ],
   "metadata": {
    "collapsed": false,
    "ExecuteTime": {
     "end_time": "2023-09-16T13:33:21.184210100Z",
     "start_time": "2023-09-16T13:33:20.543721500Z"
    }
   },
   "id": "ee784ba5d12fd1ae"
  },
  {
   "cell_type": "code",
   "execution_count": 14,
   "outputs": [],
   "source": [
    "outliers = EllipticEnvelope(contamination=.01)"
   ],
   "metadata": {
    "collapsed": false,
    "ExecuteTime": {
     "end_time": "2023-09-16T13:33:28.758560300Z",
     "start_time": "2023-09-16T13:33:28.730774200Z"
    }
   },
   "id": "9cf37ad9fa872511"
  },
  {
   "cell_type": "code",
   "execution_count": 15,
   "outputs": [],
   "source": [
    "var_list = ['DepDelay', 'TaxiIn', 'TaxiOut', 'CarrierDelay', 'WeatherDelay', 'NASDelay', 'SecurityDelay', 'LateAircraftDelay']"
   ],
   "metadata": {
    "collapsed": false,
    "ExecuteTime": {
     "end_time": "2023-09-16T13:34:03.523815100Z",
     "start_time": "2023-09-16T13:34:03.496326100Z"
    }
   },
   "id": "9da78e2bd73e73dc"
  },
  {
   "cell_type": "code",
   "execution_count": 16,
   "outputs": [],
   "source": [
    "x = np.array(df.loc[:, var_list].dropna())"
   ],
   "metadata": {
    "collapsed": false,
    "ExecuteTime": {
     "end_time": "2023-09-16T13:34:14.558962800Z",
     "start_time": "2023-09-16T13:34:14.539764700Z"
    }
   },
   "id": "7ea955faa6302b52"
  },
  {
   "cell_type": "code",
   "execution_count": 17,
   "outputs": [
    {
     "data": {
      "text/plain": "EllipticEnvelope(contamination=0.01)",
      "text/html": "<style>#sk-container-id-1 {color: black;}#sk-container-id-1 pre{padding: 0;}#sk-container-id-1 div.sk-toggleable {background-color: white;}#sk-container-id-1 label.sk-toggleable__label {cursor: pointer;display: block;width: 100%;margin-bottom: 0;padding: 0.3em;box-sizing: border-box;text-align: center;}#sk-container-id-1 label.sk-toggleable__label-arrow:before {content: \"▸\";float: left;margin-right: 0.25em;color: #696969;}#sk-container-id-1 label.sk-toggleable__label-arrow:hover:before {color: black;}#sk-container-id-1 div.sk-estimator:hover label.sk-toggleable__label-arrow:before {color: black;}#sk-container-id-1 div.sk-toggleable__content {max-height: 0;max-width: 0;overflow: hidden;text-align: left;background-color: #f0f8ff;}#sk-container-id-1 div.sk-toggleable__content pre {margin: 0.2em;color: black;border-radius: 0.25em;background-color: #f0f8ff;}#sk-container-id-1 input.sk-toggleable__control:checked~div.sk-toggleable__content {max-height: 200px;max-width: 100%;overflow: auto;}#sk-container-id-1 input.sk-toggleable__control:checked~label.sk-toggleable__label-arrow:before {content: \"▾\";}#sk-container-id-1 div.sk-estimator input.sk-toggleable__control:checked~label.sk-toggleable__label {background-color: #d4ebff;}#sk-container-id-1 div.sk-label input.sk-toggleable__control:checked~label.sk-toggleable__label {background-color: #d4ebff;}#sk-container-id-1 input.sk-hidden--visually {border: 0;clip: rect(1px 1px 1px 1px);clip: rect(1px, 1px, 1px, 1px);height: 1px;margin: -1px;overflow: hidden;padding: 0;position: absolute;width: 1px;}#sk-container-id-1 div.sk-estimator {font-family: monospace;background-color: #f0f8ff;border: 1px dotted black;border-radius: 0.25em;box-sizing: border-box;margin-bottom: 0.5em;}#sk-container-id-1 div.sk-estimator:hover {background-color: #d4ebff;}#sk-container-id-1 div.sk-parallel-item::after {content: \"\";width: 100%;border-bottom: 1px solid gray;flex-grow: 1;}#sk-container-id-1 div.sk-label:hover label.sk-toggleable__label {background-color: #d4ebff;}#sk-container-id-1 div.sk-serial::before {content: \"\";position: absolute;border-left: 1px solid gray;box-sizing: border-box;top: 0;bottom: 0;left: 50%;z-index: 0;}#sk-container-id-1 div.sk-serial {display: flex;flex-direction: column;align-items: center;background-color: white;padding-right: 0.2em;padding-left: 0.2em;position: relative;}#sk-container-id-1 div.sk-item {position: relative;z-index: 1;}#sk-container-id-1 div.sk-parallel {display: flex;align-items: stretch;justify-content: center;background-color: white;position: relative;}#sk-container-id-1 div.sk-item::before, #sk-container-id-1 div.sk-parallel-item::before {content: \"\";position: absolute;border-left: 1px solid gray;box-sizing: border-box;top: 0;bottom: 0;left: 50%;z-index: -1;}#sk-container-id-1 div.sk-parallel-item {display: flex;flex-direction: column;z-index: 1;position: relative;background-color: white;}#sk-container-id-1 div.sk-parallel-item:first-child::after {align-self: flex-end;width: 50%;}#sk-container-id-1 div.sk-parallel-item:last-child::after {align-self: flex-start;width: 50%;}#sk-container-id-1 div.sk-parallel-item:only-child::after {width: 0;}#sk-container-id-1 div.sk-dashed-wrapped {border: 1px dashed gray;margin: 0 0.4em 0.5em 0.4em;box-sizing: border-box;padding-bottom: 0.4em;background-color: white;}#sk-container-id-1 div.sk-label label {font-family: monospace;font-weight: bold;display: inline-block;line-height: 1.2em;}#sk-container-id-1 div.sk-label-container {text-align: center;}#sk-container-id-1 div.sk-container {/* jupyter's `normalize.less` sets `[hidden] { display: none; }` but bootstrap.min.css set `[hidden] { display: none !important; }` so we also need the `!important` here to be able to override the default hidden behavior on the sphinx rendered scikit-learn.org. See: https://github.com/scikit-learn/scikit-learn/issues/21755 */display: inline-block !important;position: relative;}#sk-container-id-1 div.sk-text-repr-fallback {display: none;}</style><div id=\"sk-container-id-1\" class=\"sk-top-container\"><div class=\"sk-text-repr-fallback\"><pre>EllipticEnvelope(contamination=0.01)</pre><b>In a Jupyter environment, please rerun this cell to show the HTML representation or trust the notebook. <br />On GitHub, the HTML representation is unable to render, please try loading this page with nbviewer.org.</b></div><div class=\"sk-container\" hidden><div class=\"sk-item\"><div class=\"sk-estimator sk-toggleable\"><input class=\"sk-toggleable__control sk-hidden--visually\" id=\"sk-estimator-id-1\" type=\"checkbox\" checked><label for=\"sk-estimator-id-1\" class=\"sk-toggleable__label sk-toggleable__label-arrow\">EllipticEnvelope</label><div class=\"sk-toggleable__content\"><pre>EllipticEnvelope(contamination=0.01)</pre></div></div></div></div></div>"
     },
     "execution_count": 17,
     "metadata": {},
     "output_type": "execute_result"
    }
   ],
   "source": [
    "outliers.fit(x)"
   ],
   "metadata": {
    "collapsed": false,
    "ExecuteTime": {
     "end_time": "2023-09-16T13:34:20.818477400Z",
     "start_time": "2023-09-16T13:34:19.222959700Z"
    }
   },
   "id": "4bf341db0adf977e"
  },
  {
   "cell_type": "code",
   "execution_count": 18,
   "outputs": [],
   "source": [
    "pred = outliers.predict(x)"
   ],
   "metadata": {
    "collapsed": false,
    "ExecuteTime": {
     "end_time": "2023-09-16T13:34:37.967920200Z",
     "start_time": "2023-09-16T13:34:37.936232500Z"
    }
   },
   "id": "c1ea468a1aa430dd"
  },
  {
   "cell_type": "code",
   "execution_count": 19,
   "outputs": [
    {
     "data": {
      "text/plain": "array([1, 1, 1, ..., 1, 1, 1])"
     },
     "execution_count": 19,
     "metadata": {},
     "output_type": "execute_result"
    }
   ],
   "source": [
    "pred"
   ],
   "metadata": {
    "collapsed": false,
    "ExecuteTime": {
     "end_time": "2023-09-16T13:34:46.039592500Z",
     "start_time": "2023-09-16T13:34:46.014851500Z"
    }
   },
   "id": "16abed0fcf5c9bd1"
  },
  {
   "cell_type": "code",
   "execution_count": 21,
   "outputs": [],
   "source": [
    "elips_outliers = np.where(pred == -1)[0]"
   ],
   "metadata": {
    "collapsed": false,
    "ExecuteTime": {
     "end_time": "2023-09-16T13:35:30.157813600Z",
     "start_time": "2023-09-16T13:35:30.109728500Z"
    }
   },
   "id": "dae803ddac55c67d"
  },
  {
   "cell_type": "code",
   "execution_count": 22,
   "outputs": [
    {
     "data": {
      "text/plain": "array([  132,   133,   202,   205,   818,   823,  1347,  1428,  1503,\n        1636,  1681,  1843,  1958,  1968,  2255,  3008,  3010,  4259,\n        4265,  4430,  4439,  4466,  4512,  4662,  4818,  4924,  4925,\n        5138,  5140,  5160,  5162,  5229,  5230,  5331,  5555,  5577,\n        5938,  6112,  6543,  7299,  7677,  7679,  7711,  8153,  8238,\n        8279,  8483,  8567,  8618,  8792,  8806,  8819,  9508,  9565,\n       10250, 10604, 10609, 10677, 10678, 10680, 10693, 10817, 10818,\n       11022, 11099, 11100, 11102, 11105, 11242, 11529, 11635, 11897,\n       11910, 11922, 12248, 12261, 13274, 13278, 13333, 13334, 13335,\n       13336, 13337, 13338, 13722, 13723, 13726, 13727, 14257, 14261,\n       14327, 14330, 14357, 14359, 14360, 14364, 14408, 14427, 14491,\n       14492, 14493, 14515, 14558, 14583, 14585, 14647, 14651, 14743,\n       14787, 14790, 14828, 14830, 14866, 14878, 14879, 14881, 14941,\n       14942, 15033, 15037, 15090, 15096, 15104, 15106, 15107, 15134,\n       15136, 15138, 15190, 15194, 15195, 15201, 15272, 15287, 15296,\n       15315, 15317, 15319, 15320, 15321, 15323, 15381, 15394, 15471,\n       15475, 15497, 15499, 15596, 15606, 16366, 16508, 16532, 16630,\n       16983, 17097, 17155, 17261, 17269, 17366, 17386, 17534, 17539,\n       17540, 17671, 17706, 17730, 17771, 17776, 17777, 17804, 17860,\n       17880, 17935, 17983, 17994, 18070, 18083, 18129, 18216, 18229,\n       18237, 18291, 18293, 18334, 18335, 18493, 18496, 18718, 18803,\n       18804, 18829, 19079, 19100, 19115, 19150, 19161, 19363],\n      dtype=int64)"
     },
     "execution_count": 22,
     "metadata": {},
     "output_type": "execute_result"
    }
   ],
   "source": [
    "elips_outliers"
   ],
   "metadata": {
    "collapsed": false,
    "ExecuteTime": {
     "end_time": "2023-09-16T13:35:32.065656300Z",
     "start_time": "2023-09-16T13:35:32.047528700Z"
    }
   },
   "id": "bf18ab91dbd4fdd1"
  },
  {
   "cell_type": "code",
   "execution_count": null,
   "outputs": [],
   "source": [],
   "metadata": {
    "collapsed": false
   },
   "id": "5ca7f0006dd07e79"
  }
 ],
 "metadata": {
  "kernelspec": {
   "display_name": "Python 3",
   "language": "python",
   "name": "python3"
  },
  "language_info": {
   "codemirror_mode": {
    "name": "ipython",
    "version": 2
   },
   "file_extension": ".py",
   "mimetype": "text/x-python",
   "name": "python",
   "nbconvert_exporter": "python",
   "pygments_lexer": "ipython2",
   "version": "2.7.6"
  }
 },
 "nbformat": 4,
 "nbformat_minor": 5
}
