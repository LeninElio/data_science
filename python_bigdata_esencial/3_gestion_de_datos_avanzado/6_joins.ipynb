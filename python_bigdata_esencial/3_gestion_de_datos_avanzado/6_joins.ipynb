{
 "cells": [
  {
   "cell_type": "code",
   "execution_count": 1,
   "id": "initial_id",
   "metadata": {
    "collapsed": true,
    "ExecuteTime": {
     "end_time": "2023-09-16T13:52:09.053536600Z",
     "start_time": "2023-09-16T13:52:08.683578500Z"
    }
   },
   "outputs": [],
   "source": [
    "import pandas as pd"
   ]
  },
  {
   "cell_type": "code",
   "execution_count": 2,
   "outputs": [
    {
     "data": {
      "text/plain": "   Consumidor  Producto\n0           A     Móvil\n1           B     Móvil\n2           C     Móvil\n3           D     Móvil\n4           E     Móvil\n5           A    Tablet\n6           B    Tablet\n7           C    Tablet\n8           D    Tablet\n9           E    Tablet\n10          A  Portátil\n11          B  Portátil\n12          C  Portátil\n13          D  Portátil\n14          E  Portátil\n15          A        TV\n16          B        TV\n17          C        TV\n18          D        TV\n19          E        TV\n20          A   Consola\n21          B   Consola\n22          C   Consola\n23          D   Consola\n24          E   Consola",
      "text/html": "<div>\n<style scoped>\n    .dataframe tbody tr th:only-of-type {\n        vertical-align: middle;\n    }\n\n    .dataframe tbody tr th {\n        vertical-align: top;\n    }\n\n    .dataframe thead th {\n        text-align: right;\n    }\n</style>\n<table border=\"1\" class=\"dataframe\">\n  <thead>\n    <tr style=\"text-align: right;\">\n      <th></th>\n      <th>Consumidor</th>\n      <th>Producto</th>\n    </tr>\n  </thead>\n  <tbody>\n    <tr>\n      <th>0</th>\n      <td>A</td>\n      <td>Móvil</td>\n    </tr>\n    <tr>\n      <th>1</th>\n      <td>B</td>\n      <td>Móvil</td>\n    </tr>\n    <tr>\n      <th>2</th>\n      <td>C</td>\n      <td>Móvil</td>\n    </tr>\n    <tr>\n      <th>3</th>\n      <td>D</td>\n      <td>Móvil</td>\n    </tr>\n    <tr>\n      <th>4</th>\n      <td>E</td>\n      <td>Móvil</td>\n    </tr>\n    <tr>\n      <th>5</th>\n      <td>A</td>\n      <td>Tablet</td>\n    </tr>\n    <tr>\n      <th>6</th>\n      <td>B</td>\n      <td>Tablet</td>\n    </tr>\n    <tr>\n      <th>7</th>\n      <td>C</td>\n      <td>Tablet</td>\n    </tr>\n    <tr>\n      <th>8</th>\n      <td>D</td>\n      <td>Tablet</td>\n    </tr>\n    <tr>\n      <th>9</th>\n      <td>E</td>\n      <td>Tablet</td>\n    </tr>\n    <tr>\n      <th>10</th>\n      <td>A</td>\n      <td>Portátil</td>\n    </tr>\n    <tr>\n      <th>11</th>\n      <td>B</td>\n      <td>Portátil</td>\n    </tr>\n    <tr>\n      <th>12</th>\n      <td>C</td>\n      <td>Portátil</td>\n    </tr>\n    <tr>\n      <th>13</th>\n      <td>D</td>\n      <td>Portátil</td>\n    </tr>\n    <tr>\n      <th>14</th>\n      <td>E</td>\n      <td>Portátil</td>\n    </tr>\n    <tr>\n      <th>15</th>\n      <td>A</td>\n      <td>TV</td>\n    </tr>\n    <tr>\n      <th>16</th>\n      <td>B</td>\n      <td>TV</td>\n    </tr>\n    <tr>\n      <th>17</th>\n      <td>C</td>\n      <td>TV</td>\n    </tr>\n    <tr>\n      <th>18</th>\n      <td>D</td>\n      <td>TV</td>\n    </tr>\n    <tr>\n      <th>19</th>\n      <td>E</td>\n      <td>TV</td>\n    </tr>\n    <tr>\n      <th>20</th>\n      <td>A</td>\n      <td>Consola</td>\n    </tr>\n    <tr>\n      <th>21</th>\n      <td>B</td>\n      <td>Consola</td>\n    </tr>\n    <tr>\n      <th>22</th>\n      <td>C</td>\n      <td>Consola</td>\n    </tr>\n    <tr>\n      <th>23</th>\n      <td>D</td>\n      <td>Consola</td>\n    </tr>\n    <tr>\n      <th>24</th>\n      <td>E</td>\n      <td>Consola</td>\n    </tr>\n  </tbody>\n</table>\n</div>"
     },
     "execution_count": 2,
     "metadata": {},
     "output_type": "execute_result"
    }
   ],
   "source": [
    "consumidores = [\n",
    "    ('A', 'Móvil'), ('B', 'Móvil'), ('C', 'Móvil'), ('D', 'Móvil'), ('E', 'Móvil'),\n",
    "    ('A', 'Tablet'), ('B', 'Tablet'), ('C', 'Tablet'), ('D', 'Tablet'), ('E', 'Tablet'),\n",
    "    ('A', 'Portátil'), ('B', 'Portátil'), ('C', 'Portátil'), ('D', 'Portátil'), ('E', 'Portátil'),\n",
    "    ('A', 'TV'), ('B', 'TV'), ('C', 'TV'), ('D', 'TV'), ('E', 'TV'),\n",
    "    ('A', 'Consola'), ('B', 'Consola'), ('C', 'Consola'), ('D', 'Consola'), ('E', 'Consola')\n",
    "]\n",
    "\n",
    "con_labels = ['Consumidor', 'Producto']\n",
    "\n",
    "consumidores_df = pd.DataFrame.from_records(consumidores, columns=con_labels)\n",
    "consumidores_df"
   ],
   "metadata": {
    "collapsed": false,
    "ExecuteTime": {
     "end_time": "2023-09-16T13:54:47.046112500Z",
     "start_time": "2023-09-16T13:54:47.022543600Z"
    }
   },
   "id": "516b371a1260935c"
  },
  {
   "cell_type": "code",
   "execution_count": 4,
   "outputs": [
    {
     "data": {
      "text/plain": "  Productor  Producto\n0         1     Móvil\n1         1    Tablet\n2         2  Portátil\n3         3        TV\n4         3   Consola",
      "text/html": "<div>\n<style scoped>\n    .dataframe tbody tr th:only-of-type {\n        vertical-align: middle;\n    }\n\n    .dataframe tbody tr th {\n        vertical-align: top;\n    }\n\n    .dataframe thead th {\n        text-align: right;\n    }\n</style>\n<table border=\"1\" class=\"dataframe\">\n  <thead>\n    <tr style=\"text-align: right;\">\n      <th></th>\n      <th>Productor</th>\n      <th>Producto</th>\n    </tr>\n  </thead>\n  <tbody>\n    <tr>\n      <th>0</th>\n      <td>1</td>\n      <td>Móvil</td>\n    </tr>\n    <tr>\n      <th>1</th>\n      <td>1</td>\n      <td>Tablet</td>\n    </tr>\n    <tr>\n      <th>2</th>\n      <td>2</td>\n      <td>Portátil</td>\n    </tr>\n    <tr>\n      <th>3</th>\n      <td>3</td>\n      <td>TV</td>\n    </tr>\n    <tr>\n      <th>4</th>\n      <td>3</td>\n      <td>Consola</td>\n    </tr>\n  </tbody>\n</table>\n</div>"
     },
     "execution_count": 4,
     "metadata": {},
     "output_type": "execute_result"
    }
   ],
   "source": [
    "productores = [\n",
    "    ('1', 'Móvil'), ('1', 'Tablet'), ('2', 'Portátil'), ('3', 'TV'), ('3', 'Consola')\n",
    "]\n",
    "\n",
    "prod_labels = ['Productor', 'Producto']\n",
    "productores_df = pd.DataFrame.from_records(productores, columns=prod_labels)\n",
    "productores_df"
   ],
   "metadata": {
    "collapsed": false,
    "ExecuteTime": {
     "end_time": "2023-09-16T13:58:07.585149800Z",
     "start_time": "2023-09-16T13:58:07.574388Z"
    }
   },
   "id": "fd0a1f06ece4722d"
  },
  {
   "cell_type": "code",
   "execution_count": 5,
   "outputs": [
    {
     "data": {
      "text/plain": "   Consumidor  Producto Productor\n0           A     Móvil         1\n1           B     Móvil         1\n2           C     Móvil         1\n3           D     Móvil         1\n4           E     Móvil         1\n5           A    Tablet         1\n6           B    Tablet         1\n7           C    Tablet         1\n8           D    Tablet         1\n9           E    Tablet         1\n10          A  Portátil         2\n11          B  Portátil         2\n12          C  Portátil         2\n13          D  Portátil         2\n14          E  Portátil         2\n15          A        TV         3\n16          B        TV         3\n17          C        TV         3\n18          D        TV         3\n19          E        TV         3\n20          A   Consola         3\n21          B   Consola         3\n22          C   Consola         3\n23          D   Consola         3\n24          E   Consola         3",
      "text/html": "<div>\n<style scoped>\n    .dataframe tbody tr th:only-of-type {\n        vertical-align: middle;\n    }\n\n    .dataframe tbody tr th {\n        vertical-align: top;\n    }\n\n    .dataframe thead th {\n        text-align: right;\n    }\n</style>\n<table border=\"1\" class=\"dataframe\">\n  <thead>\n    <tr style=\"text-align: right;\">\n      <th></th>\n      <th>Consumidor</th>\n      <th>Producto</th>\n      <th>Productor</th>\n    </tr>\n  </thead>\n  <tbody>\n    <tr>\n      <th>0</th>\n      <td>A</td>\n      <td>Móvil</td>\n      <td>1</td>\n    </tr>\n    <tr>\n      <th>1</th>\n      <td>B</td>\n      <td>Móvil</td>\n      <td>1</td>\n    </tr>\n    <tr>\n      <th>2</th>\n      <td>C</td>\n      <td>Móvil</td>\n      <td>1</td>\n    </tr>\n    <tr>\n      <th>3</th>\n      <td>D</td>\n      <td>Móvil</td>\n      <td>1</td>\n    </tr>\n    <tr>\n      <th>4</th>\n      <td>E</td>\n      <td>Móvil</td>\n      <td>1</td>\n    </tr>\n    <tr>\n      <th>5</th>\n      <td>A</td>\n      <td>Tablet</td>\n      <td>1</td>\n    </tr>\n    <tr>\n      <th>6</th>\n      <td>B</td>\n      <td>Tablet</td>\n      <td>1</td>\n    </tr>\n    <tr>\n      <th>7</th>\n      <td>C</td>\n      <td>Tablet</td>\n      <td>1</td>\n    </tr>\n    <tr>\n      <th>8</th>\n      <td>D</td>\n      <td>Tablet</td>\n      <td>1</td>\n    </tr>\n    <tr>\n      <th>9</th>\n      <td>E</td>\n      <td>Tablet</td>\n      <td>1</td>\n    </tr>\n    <tr>\n      <th>10</th>\n      <td>A</td>\n      <td>Portátil</td>\n      <td>2</td>\n    </tr>\n    <tr>\n      <th>11</th>\n      <td>B</td>\n      <td>Portátil</td>\n      <td>2</td>\n    </tr>\n    <tr>\n      <th>12</th>\n      <td>C</td>\n      <td>Portátil</td>\n      <td>2</td>\n    </tr>\n    <tr>\n      <th>13</th>\n      <td>D</td>\n      <td>Portátil</td>\n      <td>2</td>\n    </tr>\n    <tr>\n      <th>14</th>\n      <td>E</td>\n      <td>Portátil</td>\n      <td>2</td>\n    </tr>\n    <tr>\n      <th>15</th>\n      <td>A</td>\n      <td>TV</td>\n      <td>3</td>\n    </tr>\n    <tr>\n      <th>16</th>\n      <td>B</td>\n      <td>TV</td>\n      <td>3</td>\n    </tr>\n    <tr>\n      <th>17</th>\n      <td>C</td>\n      <td>TV</td>\n      <td>3</td>\n    </tr>\n    <tr>\n      <th>18</th>\n      <td>D</td>\n      <td>TV</td>\n      <td>3</td>\n    </tr>\n    <tr>\n      <th>19</th>\n      <td>E</td>\n      <td>TV</td>\n      <td>3</td>\n    </tr>\n    <tr>\n      <th>20</th>\n      <td>A</td>\n      <td>Consola</td>\n      <td>3</td>\n    </tr>\n    <tr>\n      <th>21</th>\n      <td>B</td>\n      <td>Consola</td>\n      <td>3</td>\n    </tr>\n    <tr>\n      <th>22</th>\n      <td>C</td>\n      <td>Consola</td>\n      <td>3</td>\n    </tr>\n    <tr>\n      <th>23</th>\n      <td>D</td>\n      <td>Consola</td>\n      <td>3</td>\n    </tr>\n    <tr>\n      <th>24</th>\n      <td>E</td>\n      <td>Consola</td>\n      <td>3</td>\n    </tr>\n  </tbody>\n</table>\n</div>"
     },
     "execution_count": 5,
     "metadata": {},
     "output_type": "execute_result"
    }
   ],
   "source": [
    "pd.merge(consumidores_df, productores_df, on='Producto', how='outer')"
   ],
   "metadata": {
    "collapsed": false,
    "ExecuteTime": {
     "end_time": "2023-09-16T15:50:46.982762800Z",
     "start_time": "2023-09-16T15:50:46.543132800Z"
    }
   },
   "id": "2d296777f8251446"
  },
  {
   "cell_type": "code",
   "execution_count": null,
   "outputs": [],
   "source": [],
   "metadata": {
    "collapsed": false
   },
   "id": "fcb1ca5471a143b4"
  }
 ],
 "metadata": {
  "kernelspec": {
   "display_name": "Python 3",
   "language": "python",
   "name": "python3"
  },
  "language_info": {
   "codemirror_mode": {
    "name": "ipython",
    "version": 2
   },
   "file_extension": ".py",
   "mimetype": "text/x-python",
   "name": "python",
   "nbconvert_exporter": "python",
   "pygments_lexer": "ipython2",
   "version": "2.7.6"
  }
 },
 "nbformat": 4,
 "nbformat_minor": 5
}
