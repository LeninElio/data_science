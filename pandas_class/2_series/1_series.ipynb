{
 "cells": [
  {
   "cell_type": "markdown",
   "source": [
    "## La principal diferencia entre una Serie y un DataFrame en Pandas es que una Serie es una estructura de datos unidimensional que contiene una lista de datos, mientras que un DataFrame es una estructura de datos bidimensional que contiene múltiples listas de datos"
   ],
   "metadata": {
    "collapsed": false
   },
   "id": "781995135024dc0b"
  },
  {
   "cell_type": "code",
   "execution_count": 1,
   "id": "initial_id",
   "metadata": {
    "collapsed": true,
    "ExecuteTime": {
     "end_time": "2023-07-31T20:50:21.653129Z",
     "start_time": "2023-07-31T20:50:21.129512800Z"
    }
   },
   "outputs": [],
   "source": [
    "import pandas as pd"
   ]
  },
  {
   "cell_type": "markdown",
   "source": [
    "### Series"
   ],
   "metadata": {
    "collapsed": false
   },
   "id": "c2a1a6b76be6ba98"
  },
  {
   "cell_type": "code",
   "execution_count": 19,
   "outputs": [],
   "source": [
    "# Creando una serie\n",
    "serie = pd.Series([1,2,3,4,5], index=['a','b','c','d','e'])"
   ],
   "metadata": {
    "collapsed": false,
    "ExecuteTime": {
     "end_time": "2023-07-31T20:54:18.104847200Z",
     "start_time": "2023-07-31T20:54:18.094300900Z"
    }
   },
   "id": "d88219640dbcfb2a"
  },
  {
   "cell_type": "code",
   "execution_count": 20,
   "outputs": [
    {
     "data": {
      "text/plain": "a    1\nb    2\nc    3\nd    4\ne    5\ndtype: int64"
     },
     "execution_count": 20,
     "metadata": {},
     "output_type": "execute_result"
    }
   ],
   "source": [
    "# Mostrar serie\n",
    "serie"
   ],
   "metadata": {
    "collapsed": false,
    "ExecuteTime": {
     "end_time": "2023-07-31T20:54:18.516149300Z",
     "start_time": "2023-07-31T20:54:18.496707800Z"
    }
   },
   "id": "9706b5c5545e18f7"
  },
  {
   "cell_type": "code",
   "execution_count": 21,
   "outputs": [
    {
     "data": {
      "text/plain": "b    2\nc    3\nd    4\ne    5\ndtype: int64"
     },
     "execution_count": 21,
     "metadata": {},
     "output_type": "execute_result"
    }
   ],
   "source": [
    "# Borrar serie\n",
    "# El drop no tendrá efecto en la serie si no se asigna a una variable\n",
    "serie.drop('a')"
   ],
   "metadata": {
    "collapsed": false,
    "ExecuteTime": {
     "end_time": "2023-07-31T20:54:19.346220900Z",
     "start_time": "2023-07-31T20:54:19.319575100Z"
    }
   },
   "id": "cc1d50aa1880a583"
  },
  {
   "cell_type": "code",
   "execution_count": 22,
   "outputs": [],
   "source": [
    "serie = serie.drop('a')"
   ],
   "metadata": {
    "collapsed": false,
    "ExecuteTime": {
     "end_time": "2023-07-31T20:54:20.340408200Z",
     "start_time": "2023-07-31T20:54:20.311578900Z"
    }
   },
   "id": "ca60b13855e8749c"
  },
  {
   "cell_type": "code",
   "execution_count": 23,
   "outputs": [
    {
     "data": {
      "text/plain": "b    2\nc    3\nd    4\ne    5\ndtype: int64"
     },
     "execution_count": 23,
     "metadata": {},
     "output_type": "execute_result"
    }
   ],
   "source": [
    "serie"
   ],
   "metadata": {
    "collapsed": false,
    "ExecuteTime": {
     "end_time": "2023-07-31T20:54:21.507116800Z",
     "start_time": "2023-07-31T20:54:21.483265400Z"
    }
   },
   "id": "9da84b56f5849929"
  },
  {
   "cell_type": "code",
   "execution_count": 24,
   "outputs": [
    {
     "data": {
      "text/plain": "2"
     },
     "execution_count": 24,
     "metadata": {},
     "output_type": "execute_result"
    }
   ],
   "source": [
    "# Seleccionar elemento de la serie\n",
    "serie['b']"
   ],
   "metadata": {
    "collapsed": false,
    "ExecuteTime": {
     "end_time": "2023-07-31T20:54:43.517266100Z",
     "start_time": "2023-07-31T20:54:43.498052500Z"
    }
   },
   "id": "8c568f012fd9fd64"
  },
  {
   "cell_type": "code",
   "execution_count": 26,
   "outputs": [
    {
     "data": {
      "text/plain": "b    2\nc    3\nd    4\ndtype: int64"
     },
     "execution_count": 26,
     "metadata": {},
     "output_type": "execute_result"
    }
   ],
   "source": [
    "# Seleccionar varios elementos de la serie\n",
    "serie[['b','c','d']]"
   ],
   "metadata": {
    "collapsed": false,
    "ExecuteTime": {
     "end_time": "2023-07-31T20:54:53.210971Z",
     "start_time": "2023-07-31T20:54:53.151423500Z"
    }
   },
   "id": "19030dc4492c749b"
  },
  {
   "cell_type": "code",
   "execution_count": 30,
   "outputs": [],
   "source": [
    "# Asignación de valores a elementos de la serie\n",
    "serie['b'] = 10"
   ],
   "metadata": {
    "collapsed": false,
    "ExecuteTime": {
     "end_time": "2023-07-31T20:57:40.309279200Z",
     "start_time": "2023-07-31T20:57:40.286998Z"
    }
   },
   "id": "2b04bd6288f648c"
  },
  {
   "cell_type": "code",
   "execution_count": 31,
   "outputs": [
    {
     "data": {
      "text/plain": "b    10\nc     3\nd     4\ne     5\ndtype: int64"
     },
     "execution_count": 31,
     "metadata": {},
     "output_type": "execute_result"
    }
   ],
   "source": [
    "serie"
   ],
   "metadata": {
    "collapsed": false,
    "ExecuteTime": {
     "end_time": "2023-07-31T20:57:42.753953800Z",
     "start_time": "2023-07-31T20:57:42.735132200Z"
    }
   },
   "id": "d39925b70b62b2fa"
  },
  {
   "cell_type": "code",
   "execution_count": 32,
   "outputs": [
    {
     "data": {
      "text/plain": "b    20\nc     6\nd     8\ne    10\ndtype: int64"
     },
     "execution_count": 32,
     "metadata": {},
     "output_type": "execute_result"
    }
   ],
   "source": [
    "# Operaciones con series\n",
    "serie * 2"
   ],
   "metadata": {
    "collapsed": false,
    "ExecuteTime": {
     "end_time": "2023-07-31T20:57:51.102840200Z",
     "start_time": "2023-07-31T20:57:51.085315100Z"
    }
   },
   "id": "b15667d5670b237f"
  },
  {
   "cell_type": "code",
   "execution_count": 39,
   "outputs": [
    {
     "data": {
      "text/plain": "b    100\nc      9\nd     16\ne     25\ndtype: int64"
     },
     "execution_count": 39,
     "metadata": {},
     "output_type": "execute_result"
    }
   ],
   "source": [
    "# Operaciones con series\n",
    "serie ** 2"
   ],
   "metadata": {
    "collapsed": false,
    "ExecuteTime": {
     "end_time": "2023-07-31T20:59:54.531883800Z",
     "start_time": "2023-07-31T20:59:54.511806Z"
    }
   },
   "id": "ff433f24663da624"
  },
  {
   "cell_type": "code",
   "execution_count": 40,
   "outputs": [
    {
     "data": {
      "text/plain": "b    5.0\nc    1.5\nd    2.0\ne    2.5\ndtype: float64"
     },
     "execution_count": 40,
     "metadata": {},
     "output_type": "execute_result"
    }
   ],
   "source": [
    "# Operaciones con series\n",
    "serie / 2"
   ],
   "metadata": {
    "collapsed": false,
    "ExecuteTime": {
     "end_time": "2023-07-31T20:59:56.925704400Z",
     "start_time": "2023-07-31T20:59:56.891408700Z"
    }
   },
   "id": "cbf108aa2dccfa19"
  },
  {
   "cell_type": "code",
   "execution_count": 35,
   "outputs": [
    {
     "data": {
      "text/plain": "b    12\nc     5\nd     6\ne     7\ndtype: int64"
     },
     "execution_count": 35,
     "metadata": {},
     "output_type": "execute_result"
    }
   ],
   "source": [
    "# Operaciones con series\n",
    "serie + 2"
   ],
   "metadata": {
    "collapsed": false,
    "ExecuteTime": {
     "end_time": "2023-07-31T20:58:13.321263100Z",
     "start_time": "2023-07-31T20:58:13.225695800Z"
    }
   },
   "id": "ea4f36f394545a1e"
  },
  {
   "cell_type": "code",
   "execution_count": 36,
   "outputs": [
    {
     "data": {
      "text/plain": "b    10\nc     3\nd     4\ne     5\ndtype: int64"
     },
     "execution_count": 36,
     "metadata": {},
     "output_type": "execute_result"
    }
   ],
   "source": [
    "# Filtros\n",
    "serie[serie > 2]"
   ],
   "metadata": {
    "collapsed": false,
    "ExecuteTime": {
     "end_time": "2023-07-31T20:58:22.858662300Z",
     "start_time": "2023-07-31T20:58:22.834165500Z"
    }
   },
   "id": "61249b466892f965"
  },
  {
   "cell_type": "code",
   "execution_count": 37,
   "outputs": [
    {
     "data": {
      "text/plain": "Series([], dtype: int64)"
     },
     "execution_count": 37,
     "metadata": {},
     "output_type": "execute_result"
    }
   ],
   "source": [
    "# Filtros\n",
    "serie[serie < 2]"
   ],
   "metadata": {
    "collapsed": false,
    "ExecuteTime": {
     "end_time": "2023-07-31T20:58:28.852714700Z",
     "start_time": "2023-07-31T20:58:28.834605200Z"
    }
   },
   "id": "bbcff230c9b4a57e"
  },
  {
   "cell_type": "code",
   "execution_count": 38,
   "outputs": [
    {
     "data": {
      "text/plain": "Series([], dtype: int64)"
     },
     "execution_count": 38,
     "metadata": {},
     "output_type": "execute_result"
    }
   ],
   "source": [
    "# Filtros\n",
    "serie[serie == 2]"
   ],
   "metadata": {
    "collapsed": false,
    "ExecuteTime": {
     "end_time": "2023-07-31T20:58:34.495807800Z",
     "start_time": "2023-07-31T20:58:34.464365600Z"
    }
   },
   "id": "877794abd8d0c65c"
  },
  {
   "cell_type": "code",
   "execution_count": 41,
   "outputs": [
    {
     "data": {
      "text/plain": "c    3\nd    4\ndtype: int64"
     },
     "execution_count": 41,
     "metadata": {},
     "output_type": "execute_result"
    }
   ],
   "source": [
    "# Valor entre un intervalo\n",
    "serie[(serie > 2) & (serie < 5)]"
   ],
   "metadata": {
    "collapsed": false,
    "ExecuteTime": {
     "end_time": "2023-07-31T21:00:51.846593700Z",
     "start_time": "2023-07-31T21:00:51.825533200Z"
    }
   },
   "id": "f2701ba87c1de489"
  },
  {
   "cell_type": "code",
   "execution_count": 42,
   "outputs": [
    {
     "data": {
      "text/plain": "Series([], dtype: int64)"
     },
     "execution_count": 42,
     "metadata": {},
     "output_type": "execute_result"
    }
   ],
   "source": [
    "# Valores nulos\n",
    "serie[serie.isnull()]"
   ],
   "metadata": {
    "collapsed": false,
    "ExecuteTime": {
     "end_time": "2023-07-31T21:01:35.187236900Z",
     "start_time": "2023-07-31T21:01:35.166018400Z"
    }
   },
   "id": "3e14390823ac6d63"
  },
  {
   "cell_type": "code",
   "execution_count": 43,
   "outputs": [
    {
     "data": {
      "text/plain": "b    10\nc     3\nd     4\ne     5\ndtype: int64"
     },
     "execution_count": 43,
     "metadata": {},
     "output_type": "execute_result"
    }
   ],
   "source": [
    "# Valores no nulos\n",
    "serie[serie.notnull()]"
   ],
   "metadata": {
    "collapsed": false,
    "ExecuteTime": {
     "end_time": "2023-07-31T21:01:40.425508800Z",
     "start_time": "2023-07-31T21:01:40.354387600Z"
    }
   },
   "id": "c14e403646781971"
  },
  {
   "cell_type": "code",
   "execution_count": 44,
   "outputs": [
    {
     "data": {
      "text/plain": "array([10,  3,  4,  5], dtype=int64)"
     },
     "execution_count": 44,
     "metadata": {},
     "output_type": "execute_result"
    }
   ],
   "source": [
    "# Valores únicos\n",
    "serie.unique()"
   ],
   "metadata": {
    "collapsed": false,
    "ExecuteTime": {
     "end_time": "2023-07-31T21:01:45.495443300Z",
     "start_time": "2023-07-31T21:01:45.417130300Z"
    }
   },
   "id": "ed2ed4d6ce22e987"
  },
  {
   "cell_type": "code",
   "execution_count": 45,
   "outputs": [
    {
     "data": {
      "text/plain": "4"
     },
     "execution_count": 45,
     "metadata": {},
     "output_type": "execute_result"
    }
   ],
   "source": [
    "# Valores únicos\n",
    "serie.nunique()"
   ],
   "metadata": {
    "collapsed": false,
    "ExecuteTime": {
     "end_time": "2023-07-31T21:01:53.693452Z",
     "start_time": "2023-07-31T21:01:53.640921200Z"
    }
   },
   "id": "cead546ac827c32c"
  },
  {
   "cell_type": "code",
   "execution_count": 46,
   "outputs": [
    {
     "data": {
      "text/plain": "10    1\n3     1\n4     1\n5     1\nName: count, dtype: int64"
     },
     "execution_count": 46,
     "metadata": {},
     "output_type": "execute_result"
    }
   ],
   "source": [
    "# Conteo de valores\n",
    "serie.value_counts()"
   ],
   "metadata": {
    "collapsed": false,
    "ExecuteTime": {
     "end_time": "2023-07-31T21:02:03.446428200Z",
     "start_time": "2023-07-31T21:02:03.366302200Z"
    }
   },
   "id": "ce88001b0c62bb59"
  },
  {
   "cell_type": "code",
   "execution_count": 47,
   "outputs": [
    {
     "data": {
      "text/plain": "10    0.25\n3     0.25\n4     0.25\n5     0.25\nName: proportion, dtype: float64"
     },
     "execution_count": 47,
     "metadata": {},
     "output_type": "execute_result"
    }
   ],
   "source": [
    "# Conteo de valores\n",
    "serie.value_counts(normalize=True)"
   ],
   "metadata": {
    "collapsed": false,
    "ExecuteTime": {
     "end_time": "2023-07-31T21:02:18.569653900Z",
     "start_time": "2023-07-31T21:02:18.546649800Z"
    }
   },
   "id": "efa9a6c2614c1587"
  },
  {
   "cell_type": "code",
   "execution_count": 48,
   "outputs": [
    {
     "data": {
      "text/plain": "10    0.25\n3     0.25\n4     0.25\n5     0.25\nName: proportion, dtype: float64"
     },
     "execution_count": 48,
     "metadata": {},
     "output_type": "execute_result"
    }
   ],
   "source": [
    "# Conteo de valores\n",
    "serie.value_counts(normalize=True, sort=True)"
   ],
   "metadata": {
    "collapsed": false,
    "ExecuteTime": {
     "end_time": "2023-07-31T21:02:30.100786800Z",
     "start_time": "2023-07-31T21:02:30.045991300Z"
    }
   },
   "id": "b7fe543aeff24d7e"
  },
  {
   "cell_type": "code",
   "execution_count": 49,
   "outputs": [
    {
     "data": {
      "text/plain": "b    10\nc     3\nd     4\ne     5\ndtype: int64"
     },
     "execution_count": 49,
     "metadata": {},
     "output_type": "execute_result"
    }
   ],
   "source": [
    "# Operaciones con metodos de relleno\n",
    "serie.fillna(0)"
   ],
   "metadata": {
    "collapsed": false,
    "ExecuteTime": {
     "end_time": "2023-07-31T21:03:45.292012900Z",
     "start_time": "2023-07-31T21:03:45.263414400Z"
    }
   },
   "id": "3c08c509b660177a"
  },
  {
   "cell_type": "code",
   "execution_count": null,
   "outputs": [],
   "source": [],
   "metadata": {
    "collapsed": false
   },
   "id": "63c988473b813228"
  }
 ],
 "metadata": {
  "kernelspec": {
   "display_name": "Python 3",
   "language": "python",
   "name": "python3"
  },
  "language_info": {
   "codemirror_mode": {
    "name": "ipython",
    "version": 2
   },
   "file_extension": ".py",
   "mimetype": "text/x-python",
   "name": "python",
   "nbconvert_exporter": "python",
   "pygments_lexer": "ipython2",
   "version": "2.7.6"
  }
 },
 "nbformat": 4,
 "nbformat_minor": 5
}
