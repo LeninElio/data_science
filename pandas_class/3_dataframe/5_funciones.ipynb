{
 "cells": [
  {
   "cell_type": "code",
   "execution_count": 5,
   "id": "initial_id",
   "metadata": {
    "collapsed": true,
    "ExecuteTime": {
     "end_time": "2023-08-08T15:29:35.565633300Z",
     "start_time": "2023-08-08T15:29:35.550967800Z"
    }
   },
   "outputs": [],
   "source": [
    "import pandas as pd\n",
    "import numpy as np"
   ]
  },
  {
   "cell_type": "code",
   "execution_count": 3,
   "outputs": [
    {
     "data": {
      "text/plain": "   id first_name last_name                    email gender  languaje\n0   1      Pavel   Roberts      proberts0@hexun.com   Male       NaN\n1   2    Heywood  Delgardo  hdelgardo1@examiner.com   Male   Burmese\n2   3    Gaspard     Keher          gkeher2@icq.com   Male   Amharic\n3   4     Edgard    Kesten     ekesten3@pcworld.com   Male       NaN\n4   5    Padraig       Wey        pwey4@arizona.edu   Male  Croatian",
      "text/html": "<div>\n<style scoped>\n    .dataframe tbody tr th:only-of-type {\n        vertical-align: middle;\n    }\n\n    .dataframe tbody tr th {\n        vertical-align: top;\n    }\n\n    .dataframe thead th {\n        text-align: right;\n    }\n</style>\n<table border=\"1\" class=\"dataframe\">\n  <thead>\n    <tr style=\"text-align: right;\">\n      <th></th>\n      <th>id</th>\n      <th>first_name</th>\n      <th>last_name</th>\n      <th>email</th>\n      <th>gender</th>\n      <th>languaje</th>\n    </tr>\n  </thead>\n  <tbody>\n    <tr>\n      <th>0</th>\n      <td>1</td>\n      <td>Pavel</td>\n      <td>Roberts</td>\n      <td>proberts0@hexun.com</td>\n      <td>Male</td>\n      <td>NaN</td>\n    </tr>\n    <tr>\n      <th>1</th>\n      <td>2</td>\n      <td>Heywood</td>\n      <td>Delgardo</td>\n      <td>hdelgardo1@examiner.com</td>\n      <td>Male</td>\n      <td>Burmese</td>\n    </tr>\n    <tr>\n      <th>2</th>\n      <td>3</td>\n      <td>Gaspard</td>\n      <td>Keher</td>\n      <td>gkeher2@icq.com</td>\n      <td>Male</td>\n      <td>Amharic</td>\n    </tr>\n    <tr>\n      <th>3</th>\n      <td>4</td>\n      <td>Edgard</td>\n      <td>Kesten</td>\n      <td>ekesten3@pcworld.com</td>\n      <td>Male</td>\n      <td>NaN</td>\n    </tr>\n    <tr>\n      <th>4</th>\n      <td>5</td>\n      <td>Padraig</td>\n      <td>Wey</td>\n      <td>pwey4@arizona.edu</td>\n      <td>Male</td>\n      <td>Croatian</td>\n    </tr>\n  </tbody>\n</table>\n</div>"
     },
     "execution_count": 3,
     "metadata": {},
     "output_type": "execute_result"
    }
   ],
   "source": [
    "df = pd.read_csv('../data/personal_data.csv')\n",
    "df.head()"
   ],
   "metadata": {
    "collapsed": false,
    "ExecuteTime": {
     "end_time": "2023-08-08T15:20:26.140570300Z",
     "start_time": "2023-08-08T15:20:26.124583700Z"
    }
   },
   "id": "1c257fd7ee6ceb6a"
  },
  {
   "cell_type": "markdown",
   "source": [
    "### Aplicando funciones"
   ],
   "metadata": {
    "collapsed": false
   },
   "id": "e489645f5db4dd92"
  },
  {
   "cell_type": "code",
   "execution_count": 4,
   "outputs": [],
   "source": [
    "multiplica_por_2 = lambda x: x*2"
   ],
   "metadata": {
    "collapsed": false,
    "ExecuteTime": {
     "end_time": "2023-08-08T15:29:03.855001700Z",
     "start_time": "2023-08-08T15:29:03.828290100Z"
    }
   },
   "id": "bf2a469bd8fa348a"
  },
  {
   "cell_type": "code",
   "execution_count": 6,
   "outputs": [],
   "source": [
    "df['edad'] = np.random.randint(18, 65, size=len(df))"
   ],
   "metadata": {
    "collapsed": false,
    "ExecuteTime": {
     "end_time": "2023-08-08T15:30:13.753921900Z",
     "start_time": "2023-08-08T15:30:13.737386Z"
    }
   },
   "id": "1ec613b09b2058c1"
  },
  {
   "cell_type": "code",
   "execution_count": 7,
   "outputs": [
    {
     "data": {
      "text/plain": "       id first_name   last_name                      email  gender  languaje  \\\n0       1      Pavel     Roberts        proberts0@hexun.com    Male       NaN   \n1       2    Heywood    Delgardo    hdelgardo1@examiner.com    Male   Burmese   \n2       3    Gaspard       Keher            gkeher2@icq.com    Male   Amharic   \n3       4     Edgard      Kesten       ekesten3@pcworld.com    Male       NaN   \n4       5    Padraig         Wey          pwey4@arizona.edu    Male  Croatian   \n..    ...        ...         ...                        ...     ...       ...   \n995   996      Lanie  McIlherran    lmcilherranrn@alexa.com    Male    Korean   \n996   997       Wash    Frossell  wfrossellro@cafepress.com    Male   Dhivehi   \n997   998     Marijn     O'Gavin     mogavinrp@linkedin.com    Male     Azeri   \n998   999   Quintina   Sherbrook       qsherbrookrq@last.fm  Female   Finnish   \n999  1000  Francklyn    Jacobsen        fjacobsenrr@php.net    Male     Swati   \n\n     edad  \n0      44  \n1      64  \n2      59  \n3      62  \n4      52  \n..    ...  \n995    25  \n996    33  \n997    26  \n998    36  \n999    26  \n\n[1000 rows x 7 columns]",
      "text/html": "<div>\n<style scoped>\n    .dataframe tbody tr th:only-of-type {\n        vertical-align: middle;\n    }\n\n    .dataframe tbody tr th {\n        vertical-align: top;\n    }\n\n    .dataframe thead th {\n        text-align: right;\n    }\n</style>\n<table border=\"1\" class=\"dataframe\">\n  <thead>\n    <tr style=\"text-align: right;\">\n      <th></th>\n      <th>id</th>\n      <th>first_name</th>\n      <th>last_name</th>\n      <th>email</th>\n      <th>gender</th>\n      <th>languaje</th>\n      <th>edad</th>\n    </tr>\n  </thead>\n  <tbody>\n    <tr>\n      <th>0</th>\n      <td>1</td>\n      <td>Pavel</td>\n      <td>Roberts</td>\n      <td>proberts0@hexun.com</td>\n      <td>Male</td>\n      <td>NaN</td>\n      <td>44</td>\n    </tr>\n    <tr>\n      <th>1</th>\n      <td>2</td>\n      <td>Heywood</td>\n      <td>Delgardo</td>\n      <td>hdelgardo1@examiner.com</td>\n      <td>Male</td>\n      <td>Burmese</td>\n      <td>64</td>\n    </tr>\n    <tr>\n      <th>2</th>\n      <td>3</td>\n      <td>Gaspard</td>\n      <td>Keher</td>\n      <td>gkeher2@icq.com</td>\n      <td>Male</td>\n      <td>Amharic</td>\n      <td>59</td>\n    </tr>\n    <tr>\n      <th>3</th>\n      <td>4</td>\n      <td>Edgard</td>\n      <td>Kesten</td>\n      <td>ekesten3@pcworld.com</td>\n      <td>Male</td>\n      <td>NaN</td>\n      <td>62</td>\n    </tr>\n    <tr>\n      <th>4</th>\n      <td>5</td>\n      <td>Padraig</td>\n      <td>Wey</td>\n      <td>pwey4@arizona.edu</td>\n      <td>Male</td>\n      <td>Croatian</td>\n      <td>52</td>\n    </tr>\n    <tr>\n      <th>...</th>\n      <td>...</td>\n      <td>...</td>\n      <td>...</td>\n      <td>...</td>\n      <td>...</td>\n      <td>...</td>\n      <td>...</td>\n    </tr>\n    <tr>\n      <th>995</th>\n      <td>996</td>\n      <td>Lanie</td>\n      <td>McIlherran</td>\n      <td>lmcilherranrn@alexa.com</td>\n      <td>Male</td>\n      <td>Korean</td>\n      <td>25</td>\n    </tr>\n    <tr>\n      <th>996</th>\n      <td>997</td>\n      <td>Wash</td>\n      <td>Frossell</td>\n      <td>wfrossellro@cafepress.com</td>\n      <td>Male</td>\n      <td>Dhivehi</td>\n      <td>33</td>\n    </tr>\n    <tr>\n      <th>997</th>\n      <td>998</td>\n      <td>Marijn</td>\n      <td>O'Gavin</td>\n      <td>mogavinrp@linkedin.com</td>\n      <td>Male</td>\n      <td>Azeri</td>\n      <td>26</td>\n    </tr>\n    <tr>\n      <th>998</th>\n      <td>999</td>\n      <td>Quintina</td>\n      <td>Sherbrook</td>\n      <td>qsherbrookrq@last.fm</td>\n      <td>Female</td>\n      <td>Finnish</td>\n      <td>36</td>\n    </tr>\n    <tr>\n      <th>999</th>\n      <td>1000</td>\n      <td>Francklyn</td>\n      <td>Jacobsen</td>\n      <td>fjacobsenrr@php.net</td>\n      <td>Male</td>\n      <td>Swati</td>\n      <td>26</td>\n    </tr>\n  </tbody>\n</table>\n<p>1000 rows × 7 columns</p>\n</div>"
     },
     "execution_count": 7,
     "metadata": {},
     "output_type": "execute_result"
    }
   ],
   "source": [
    "df"
   ],
   "metadata": {
    "collapsed": false,
    "ExecuteTime": {
     "end_time": "2023-08-08T15:30:23.588881600Z",
     "start_time": "2023-08-08T15:30:23.571880600Z"
    }
   },
   "id": "e87a8b2e1e0d9942"
  },
  {
   "cell_type": "code",
   "execution_count": 8,
   "outputs": [
    {
     "data": {
      "text/plain": "       id first_name   last_name                      email  gender  languaje  \\\n0       1      Pavel     Roberts        proberts0@hexun.com    Male       NaN   \n1       2    Heywood    Delgardo    hdelgardo1@examiner.com    Male   Burmese   \n2       3    Gaspard       Keher            gkeher2@icq.com    Male   Amharic   \n3       4     Edgard      Kesten       ekesten3@pcworld.com    Male       NaN   \n4       5    Padraig         Wey          pwey4@arizona.edu    Male  Croatian   \n..    ...        ...         ...                        ...     ...       ...   \n995   996      Lanie  McIlherran    lmcilherranrn@alexa.com    Male    Korean   \n996   997       Wash    Frossell  wfrossellro@cafepress.com    Male   Dhivehi   \n997   998     Marijn     O'Gavin     mogavinrp@linkedin.com    Male     Azeri   \n998   999   Quintina   Sherbrook       qsherbrookrq@last.fm  Female   Finnish   \n999  1000  Francklyn    Jacobsen        fjacobsenrr@php.net    Male     Swati   \n\n     edad  edad_doble  \n0      44          88  \n1      64         128  \n2      59         118  \n3      62         124  \n4      52         104  \n..    ...         ...  \n995    25          50  \n996    33          66  \n997    26          52  \n998    36          72  \n999    26          52  \n\n[1000 rows x 8 columns]",
      "text/html": "<div>\n<style scoped>\n    .dataframe tbody tr th:only-of-type {\n        vertical-align: middle;\n    }\n\n    .dataframe tbody tr th {\n        vertical-align: top;\n    }\n\n    .dataframe thead th {\n        text-align: right;\n    }\n</style>\n<table border=\"1\" class=\"dataframe\">\n  <thead>\n    <tr style=\"text-align: right;\">\n      <th></th>\n      <th>id</th>\n      <th>first_name</th>\n      <th>last_name</th>\n      <th>email</th>\n      <th>gender</th>\n      <th>languaje</th>\n      <th>edad</th>\n      <th>edad_doble</th>\n    </tr>\n  </thead>\n  <tbody>\n    <tr>\n      <th>0</th>\n      <td>1</td>\n      <td>Pavel</td>\n      <td>Roberts</td>\n      <td>proberts0@hexun.com</td>\n      <td>Male</td>\n      <td>NaN</td>\n      <td>44</td>\n      <td>88</td>\n    </tr>\n    <tr>\n      <th>1</th>\n      <td>2</td>\n      <td>Heywood</td>\n      <td>Delgardo</td>\n      <td>hdelgardo1@examiner.com</td>\n      <td>Male</td>\n      <td>Burmese</td>\n      <td>64</td>\n      <td>128</td>\n    </tr>\n    <tr>\n      <th>2</th>\n      <td>3</td>\n      <td>Gaspard</td>\n      <td>Keher</td>\n      <td>gkeher2@icq.com</td>\n      <td>Male</td>\n      <td>Amharic</td>\n      <td>59</td>\n      <td>118</td>\n    </tr>\n    <tr>\n      <th>3</th>\n      <td>4</td>\n      <td>Edgard</td>\n      <td>Kesten</td>\n      <td>ekesten3@pcworld.com</td>\n      <td>Male</td>\n      <td>NaN</td>\n      <td>62</td>\n      <td>124</td>\n    </tr>\n    <tr>\n      <th>4</th>\n      <td>5</td>\n      <td>Padraig</td>\n      <td>Wey</td>\n      <td>pwey4@arizona.edu</td>\n      <td>Male</td>\n      <td>Croatian</td>\n      <td>52</td>\n      <td>104</td>\n    </tr>\n    <tr>\n      <th>...</th>\n      <td>...</td>\n      <td>...</td>\n      <td>...</td>\n      <td>...</td>\n      <td>...</td>\n      <td>...</td>\n      <td>...</td>\n      <td>...</td>\n    </tr>\n    <tr>\n      <th>995</th>\n      <td>996</td>\n      <td>Lanie</td>\n      <td>McIlherran</td>\n      <td>lmcilherranrn@alexa.com</td>\n      <td>Male</td>\n      <td>Korean</td>\n      <td>25</td>\n      <td>50</td>\n    </tr>\n    <tr>\n      <th>996</th>\n      <td>997</td>\n      <td>Wash</td>\n      <td>Frossell</td>\n      <td>wfrossellro@cafepress.com</td>\n      <td>Male</td>\n      <td>Dhivehi</td>\n      <td>33</td>\n      <td>66</td>\n    </tr>\n    <tr>\n      <th>997</th>\n      <td>998</td>\n      <td>Marijn</td>\n      <td>O'Gavin</td>\n      <td>mogavinrp@linkedin.com</td>\n      <td>Male</td>\n      <td>Azeri</td>\n      <td>26</td>\n      <td>52</td>\n    </tr>\n    <tr>\n      <th>998</th>\n      <td>999</td>\n      <td>Quintina</td>\n      <td>Sherbrook</td>\n      <td>qsherbrookrq@last.fm</td>\n      <td>Female</td>\n      <td>Finnish</td>\n      <td>36</td>\n      <td>72</td>\n    </tr>\n    <tr>\n      <th>999</th>\n      <td>1000</td>\n      <td>Francklyn</td>\n      <td>Jacobsen</td>\n      <td>fjacobsenrr@php.net</td>\n      <td>Male</td>\n      <td>Swati</td>\n      <td>26</td>\n      <td>52</td>\n    </tr>\n  </tbody>\n</table>\n<p>1000 rows × 8 columns</p>\n</div>"
     },
     "execution_count": 8,
     "metadata": {},
     "output_type": "execute_result"
    }
   ],
   "source": [
    "df['edad_doble'] = df['edad'].apply(multiplica_por_2)\n",
    "df"
   ],
   "metadata": {
    "collapsed": false,
    "ExecuteTime": {
     "end_time": "2023-08-08T15:31:09.614309300Z",
     "start_time": "2023-08-08T15:31:09.599103700Z"
    }
   },
   "id": "c4eb9eab747b1244"
  },
  {
   "cell_type": "code",
   "execution_count": 9,
   "outputs": [],
   "source": [
    "# Sumar columna con un escalar\n",
    "df['edad_doble_uno'] = df['edad_doble'] + 1"
   ],
   "metadata": {
    "collapsed": false,
    "ExecuteTime": {
     "end_time": "2023-08-08T16:11:28.855580700Z",
     "start_time": "2023-08-08T16:11:28.799478900Z"
    }
   },
   "id": "4a6cb8c17e77b657"
  },
  {
   "cell_type": "code",
   "execution_count": 10,
   "outputs": [
    {
     "data": {
      "text/plain": "       id first_name   last_name                      email  gender  languaje  \\\n0       1      Pavel     Roberts        proberts0@hexun.com    Male       NaN   \n1       2    Heywood    Delgardo    hdelgardo1@examiner.com    Male   Burmese   \n2       3    Gaspard       Keher            gkeher2@icq.com    Male   Amharic   \n3       4     Edgard      Kesten       ekesten3@pcworld.com    Male       NaN   \n4       5    Padraig         Wey          pwey4@arizona.edu    Male  Croatian   \n..    ...        ...         ...                        ...     ...       ...   \n995   996      Lanie  McIlherran    lmcilherranrn@alexa.com    Male    Korean   \n996   997       Wash    Frossell  wfrossellro@cafepress.com    Male   Dhivehi   \n997   998     Marijn     O'Gavin     mogavinrp@linkedin.com    Male     Azeri   \n998   999   Quintina   Sherbrook       qsherbrookrq@last.fm  Female   Finnish   \n999  1000  Francklyn    Jacobsen        fjacobsenrr@php.net    Male     Swati   \n\n     edad  edad_doble  edad_doble_uno  \n0      44          88              89  \n1      64         128             129  \n2      59         118             119  \n3      62         124             125  \n4      52         104             105  \n..    ...         ...             ...  \n995    25          50              51  \n996    33          66              67  \n997    26          52              53  \n998    36          72              73  \n999    26          52              53  \n\n[1000 rows x 9 columns]",
      "text/html": "<div>\n<style scoped>\n    .dataframe tbody tr th:only-of-type {\n        vertical-align: middle;\n    }\n\n    .dataframe tbody tr th {\n        vertical-align: top;\n    }\n\n    .dataframe thead th {\n        text-align: right;\n    }\n</style>\n<table border=\"1\" class=\"dataframe\">\n  <thead>\n    <tr style=\"text-align: right;\">\n      <th></th>\n      <th>id</th>\n      <th>first_name</th>\n      <th>last_name</th>\n      <th>email</th>\n      <th>gender</th>\n      <th>languaje</th>\n      <th>edad</th>\n      <th>edad_doble</th>\n      <th>edad_doble_uno</th>\n    </tr>\n  </thead>\n  <tbody>\n    <tr>\n      <th>0</th>\n      <td>1</td>\n      <td>Pavel</td>\n      <td>Roberts</td>\n      <td>proberts0@hexun.com</td>\n      <td>Male</td>\n      <td>NaN</td>\n      <td>44</td>\n      <td>88</td>\n      <td>89</td>\n    </tr>\n    <tr>\n      <th>1</th>\n      <td>2</td>\n      <td>Heywood</td>\n      <td>Delgardo</td>\n      <td>hdelgardo1@examiner.com</td>\n      <td>Male</td>\n      <td>Burmese</td>\n      <td>64</td>\n      <td>128</td>\n      <td>129</td>\n    </tr>\n    <tr>\n      <th>2</th>\n      <td>3</td>\n      <td>Gaspard</td>\n      <td>Keher</td>\n      <td>gkeher2@icq.com</td>\n      <td>Male</td>\n      <td>Amharic</td>\n      <td>59</td>\n      <td>118</td>\n      <td>119</td>\n    </tr>\n    <tr>\n      <th>3</th>\n      <td>4</td>\n      <td>Edgard</td>\n      <td>Kesten</td>\n      <td>ekesten3@pcworld.com</td>\n      <td>Male</td>\n      <td>NaN</td>\n      <td>62</td>\n      <td>124</td>\n      <td>125</td>\n    </tr>\n    <tr>\n      <th>4</th>\n      <td>5</td>\n      <td>Padraig</td>\n      <td>Wey</td>\n      <td>pwey4@arizona.edu</td>\n      <td>Male</td>\n      <td>Croatian</td>\n      <td>52</td>\n      <td>104</td>\n      <td>105</td>\n    </tr>\n    <tr>\n      <th>...</th>\n      <td>...</td>\n      <td>...</td>\n      <td>...</td>\n      <td>...</td>\n      <td>...</td>\n      <td>...</td>\n      <td>...</td>\n      <td>...</td>\n      <td>...</td>\n    </tr>\n    <tr>\n      <th>995</th>\n      <td>996</td>\n      <td>Lanie</td>\n      <td>McIlherran</td>\n      <td>lmcilherranrn@alexa.com</td>\n      <td>Male</td>\n      <td>Korean</td>\n      <td>25</td>\n      <td>50</td>\n      <td>51</td>\n    </tr>\n    <tr>\n      <th>996</th>\n      <td>997</td>\n      <td>Wash</td>\n      <td>Frossell</td>\n      <td>wfrossellro@cafepress.com</td>\n      <td>Male</td>\n      <td>Dhivehi</td>\n      <td>33</td>\n      <td>66</td>\n      <td>67</td>\n    </tr>\n    <tr>\n      <th>997</th>\n      <td>998</td>\n      <td>Marijn</td>\n      <td>O'Gavin</td>\n      <td>mogavinrp@linkedin.com</td>\n      <td>Male</td>\n      <td>Azeri</td>\n      <td>26</td>\n      <td>52</td>\n      <td>53</td>\n    </tr>\n    <tr>\n      <th>998</th>\n      <td>999</td>\n      <td>Quintina</td>\n      <td>Sherbrook</td>\n      <td>qsherbrookrq@last.fm</td>\n      <td>Female</td>\n      <td>Finnish</td>\n      <td>36</td>\n      <td>72</td>\n      <td>73</td>\n    </tr>\n    <tr>\n      <th>999</th>\n      <td>1000</td>\n      <td>Francklyn</td>\n      <td>Jacobsen</td>\n      <td>fjacobsenrr@php.net</td>\n      <td>Male</td>\n      <td>Swati</td>\n      <td>26</td>\n      <td>52</td>\n      <td>53</td>\n    </tr>\n  </tbody>\n</table>\n<p>1000 rows × 9 columns</p>\n</div>"
     },
     "execution_count": 10,
     "metadata": {},
     "output_type": "execute_result"
    }
   ],
   "source": [
    "df"
   ],
   "metadata": {
    "collapsed": false,
    "ExecuteTime": {
     "end_time": "2023-08-08T16:11:31.248075300Z",
     "start_time": "2023-08-08T16:11:31.224529300Z"
    }
   },
   "id": "61433fd82521f7af"
  },
  {
   "cell_type": "code",
   "execution_count": 11,
   "outputs": [],
   "source": [
    "# Sumar columna con otra columna\n",
    "df['edad_doble_doble'] = df['edad_doble'] + df['edad_doble']"
   ],
   "metadata": {
    "collapsed": false,
    "ExecuteTime": {
     "end_time": "2023-08-08T16:11:46.383771200Z",
     "start_time": "2023-08-08T16:11:46.370092900Z"
    }
   },
   "id": "dbb6f4c1bfd46a0"
  },
  {
   "cell_type": "code",
   "execution_count": 12,
   "outputs": [
    {
     "data": {
      "text/plain": "       id first_name   last_name                      email  gender  languaje  \\\n0       1      Pavel     Roberts        proberts0@hexun.com    Male       NaN   \n1       2    Heywood    Delgardo    hdelgardo1@examiner.com    Male   Burmese   \n2       3    Gaspard       Keher            gkeher2@icq.com    Male   Amharic   \n3       4     Edgard      Kesten       ekesten3@pcworld.com    Male       NaN   \n4       5    Padraig         Wey          pwey4@arizona.edu    Male  Croatian   \n..    ...        ...         ...                        ...     ...       ...   \n995   996      Lanie  McIlherran    lmcilherranrn@alexa.com    Male    Korean   \n996   997       Wash    Frossell  wfrossellro@cafepress.com    Male   Dhivehi   \n997   998     Marijn     O'Gavin     mogavinrp@linkedin.com    Male     Azeri   \n998   999   Quintina   Sherbrook       qsherbrookrq@last.fm  Female   Finnish   \n999  1000  Francklyn    Jacobsen        fjacobsenrr@php.net    Male     Swati   \n\n     edad  edad_doble  edad_doble_uno  edad_doble_doble  \n0      44          88              89               176  \n1      64         128             129               256  \n2      59         118             119               236  \n3      62         124             125               248  \n4      52         104             105               208  \n..    ...         ...             ...               ...  \n995    25          50              51               100  \n996    33          66              67               132  \n997    26          52              53               104  \n998    36          72              73               144  \n999    26          52              53               104  \n\n[1000 rows x 10 columns]",
      "text/html": "<div>\n<style scoped>\n    .dataframe tbody tr th:only-of-type {\n        vertical-align: middle;\n    }\n\n    .dataframe tbody tr th {\n        vertical-align: top;\n    }\n\n    .dataframe thead th {\n        text-align: right;\n    }\n</style>\n<table border=\"1\" class=\"dataframe\">\n  <thead>\n    <tr style=\"text-align: right;\">\n      <th></th>\n      <th>id</th>\n      <th>first_name</th>\n      <th>last_name</th>\n      <th>email</th>\n      <th>gender</th>\n      <th>languaje</th>\n      <th>edad</th>\n      <th>edad_doble</th>\n      <th>edad_doble_uno</th>\n      <th>edad_doble_doble</th>\n    </tr>\n  </thead>\n  <tbody>\n    <tr>\n      <th>0</th>\n      <td>1</td>\n      <td>Pavel</td>\n      <td>Roberts</td>\n      <td>proberts0@hexun.com</td>\n      <td>Male</td>\n      <td>NaN</td>\n      <td>44</td>\n      <td>88</td>\n      <td>89</td>\n      <td>176</td>\n    </tr>\n    <tr>\n      <th>1</th>\n      <td>2</td>\n      <td>Heywood</td>\n      <td>Delgardo</td>\n      <td>hdelgardo1@examiner.com</td>\n      <td>Male</td>\n      <td>Burmese</td>\n      <td>64</td>\n      <td>128</td>\n      <td>129</td>\n      <td>256</td>\n    </tr>\n    <tr>\n      <th>2</th>\n      <td>3</td>\n      <td>Gaspard</td>\n      <td>Keher</td>\n      <td>gkeher2@icq.com</td>\n      <td>Male</td>\n      <td>Amharic</td>\n      <td>59</td>\n      <td>118</td>\n      <td>119</td>\n      <td>236</td>\n    </tr>\n    <tr>\n      <th>3</th>\n      <td>4</td>\n      <td>Edgard</td>\n      <td>Kesten</td>\n      <td>ekesten3@pcworld.com</td>\n      <td>Male</td>\n      <td>NaN</td>\n      <td>62</td>\n      <td>124</td>\n      <td>125</td>\n      <td>248</td>\n    </tr>\n    <tr>\n      <th>4</th>\n      <td>5</td>\n      <td>Padraig</td>\n      <td>Wey</td>\n      <td>pwey4@arizona.edu</td>\n      <td>Male</td>\n      <td>Croatian</td>\n      <td>52</td>\n      <td>104</td>\n      <td>105</td>\n      <td>208</td>\n    </tr>\n    <tr>\n      <th>...</th>\n      <td>...</td>\n      <td>...</td>\n      <td>...</td>\n      <td>...</td>\n      <td>...</td>\n      <td>...</td>\n      <td>...</td>\n      <td>...</td>\n      <td>...</td>\n      <td>...</td>\n    </tr>\n    <tr>\n      <th>995</th>\n      <td>996</td>\n      <td>Lanie</td>\n      <td>McIlherran</td>\n      <td>lmcilherranrn@alexa.com</td>\n      <td>Male</td>\n      <td>Korean</td>\n      <td>25</td>\n      <td>50</td>\n      <td>51</td>\n      <td>100</td>\n    </tr>\n    <tr>\n      <th>996</th>\n      <td>997</td>\n      <td>Wash</td>\n      <td>Frossell</td>\n      <td>wfrossellro@cafepress.com</td>\n      <td>Male</td>\n      <td>Dhivehi</td>\n      <td>33</td>\n      <td>66</td>\n      <td>67</td>\n      <td>132</td>\n    </tr>\n    <tr>\n      <th>997</th>\n      <td>998</td>\n      <td>Marijn</td>\n      <td>O'Gavin</td>\n      <td>mogavinrp@linkedin.com</td>\n      <td>Male</td>\n      <td>Azeri</td>\n      <td>26</td>\n      <td>52</td>\n      <td>53</td>\n      <td>104</td>\n    </tr>\n    <tr>\n      <th>998</th>\n      <td>999</td>\n      <td>Quintina</td>\n      <td>Sherbrook</td>\n      <td>qsherbrookrq@last.fm</td>\n      <td>Female</td>\n      <td>Finnish</td>\n      <td>36</td>\n      <td>72</td>\n      <td>73</td>\n      <td>144</td>\n    </tr>\n    <tr>\n      <th>999</th>\n      <td>1000</td>\n      <td>Francklyn</td>\n      <td>Jacobsen</td>\n      <td>fjacobsenrr@php.net</td>\n      <td>Male</td>\n      <td>Swati</td>\n      <td>26</td>\n      <td>52</td>\n      <td>53</td>\n      <td>104</td>\n    </tr>\n  </tbody>\n</table>\n<p>1000 rows × 10 columns</p>\n</div>"
     },
     "execution_count": 12,
     "metadata": {},
     "output_type": "execute_result"
    }
   ],
   "source": [
    "df"
   ],
   "metadata": {
    "collapsed": false,
    "ExecuteTime": {
     "end_time": "2023-08-08T16:11:48.669057800Z",
     "start_time": "2023-08-08T16:11:48.649627700Z"
    }
   },
   "id": "4183e1e6236251de"
  },
  {
   "cell_type": "code",
   "execution_count": null,
   "outputs": [],
   "source": [],
   "metadata": {
    "collapsed": false
   },
   "id": "8dda183e5c87252b"
  }
 ],
 "metadata": {
  "kernelspec": {
   "display_name": "Python 3",
   "language": "python",
   "name": "python3"
  },
  "language_info": {
   "codemirror_mode": {
    "name": "ipython",
    "version": 2
   },
   "file_extension": ".py",
   "mimetype": "text/x-python",
   "name": "python",
   "nbconvert_exporter": "python",
   "pygments_lexer": "ipython2",
   "version": "2.7.6"
  }
 },
 "nbformat": 4,
 "nbformat_minor": 5
}
