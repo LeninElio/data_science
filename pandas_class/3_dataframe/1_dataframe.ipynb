{
 "cells": [
  {
   "cell_type": "markdown",
   "source": [
    "### Crear un dataframe a partir de un diccionario"
   ],
   "metadata": {
    "collapsed": false
   },
   "id": "93df70dcb270273f"
  },
  {
   "cell_type": "code",
   "execution_count": 1,
   "outputs": [],
   "source": [
    "import pandas as pd"
   ],
   "metadata": {
    "collapsed": false,
    "ExecuteTime": {
     "end_time": "2023-08-08T13:38:02.220642900Z",
     "start_time": "2023-08-08T13:38:01.537060200Z"
    }
   },
   "id": "610e2575857019eb"
  },
  {
   "cell_type": "code",
   "execution_count": 6,
   "id": "initial_id",
   "metadata": {
    "collapsed": true,
    "ExecuteTime": {
     "end_time": "2023-08-08T13:38:18.343385300Z",
     "start_time": "2023-08-08T13:38:18.327086600Z"
    }
   },
   "outputs": [],
   "source": [
    "diccionario = {\n",
    "    'nombre': ['Juan', 'Ana', 'Jose', 'Arturo', 'Maria', 'Julio'],\n",
    "    'edad': [25, 18, 23, 27, 18, 24],\n",
    "    'ciudad': ['Madrid', 'Barcelona', 'Sevilla', 'Valencia', 'Zaragoza', 'Bilbao']\n",
    "}"
   ]
  },
  {
   "cell_type": "code",
   "execution_count": 7,
   "outputs": [
    {
     "data": {
      "text/plain": "   nombre  edad     ciudad\n0    Juan    25     Madrid\n1     Ana    18  Barcelona\n2    Jose    23    Sevilla\n3  Arturo    27   Valencia\n4   Maria    18   Zaragoza\n5   Julio    24     Bilbao",
      "text/html": "<div>\n<style scoped>\n    .dataframe tbody tr th:only-of-type {\n        vertical-align: middle;\n    }\n\n    .dataframe tbody tr th {\n        vertical-align: top;\n    }\n\n    .dataframe thead th {\n        text-align: right;\n    }\n</style>\n<table border=\"1\" class=\"dataframe\">\n  <thead>\n    <tr style=\"text-align: right;\">\n      <th></th>\n      <th>nombre</th>\n      <th>edad</th>\n      <th>ciudad</th>\n    </tr>\n  </thead>\n  <tbody>\n    <tr>\n      <th>0</th>\n      <td>Juan</td>\n      <td>25</td>\n      <td>Madrid</td>\n    </tr>\n    <tr>\n      <th>1</th>\n      <td>Ana</td>\n      <td>18</td>\n      <td>Barcelona</td>\n    </tr>\n    <tr>\n      <th>2</th>\n      <td>Jose</td>\n      <td>23</td>\n      <td>Sevilla</td>\n    </tr>\n    <tr>\n      <th>3</th>\n      <td>Arturo</td>\n      <td>27</td>\n      <td>Valencia</td>\n    </tr>\n    <tr>\n      <th>4</th>\n      <td>Maria</td>\n      <td>18</td>\n      <td>Zaragoza</td>\n    </tr>\n    <tr>\n      <th>5</th>\n      <td>Julio</td>\n      <td>24</td>\n      <td>Bilbao</td>\n    </tr>\n  </tbody>\n</table>\n</div>"
     },
     "execution_count": 7,
     "metadata": {},
     "output_type": "execute_result"
    }
   ],
   "source": [
    "df = pd.DataFrame(diccionario)\n",
    "df"
   ],
   "metadata": {
    "collapsed": false,
    "ExecuteTime": {
     "end_time": "2023-08-08T13:38:18.761298200Z",
     "start_time": "2023-08-08T13:38:18.706189700Z"
    }
   },
   "id": "e42a64aba72025e1"
  },
  {
   "cell_type": "markdown",
   "source": [
    "### Borrar una columna"
   ],
   "metadata": {
    "collapsed": false
   },
   "id": "18eea09fb1578506"
  },
  {
   "cell_type": "code",
   "execution_count": 4,
   "outputs": [
    {
     "data": {
      "text/plain": "   nombre  edad\n0    Juan    25\n1     Ana    18\n2    Jose    23\n3  Arturo    27\n4   Maria    18\n5   Julio    24",
      "text/html": "<div>\n<style scoped>\n    .dataframe tbody tr th:only-of-type {\n        vertical-align: middle;\n    }\n\n    .dataframe tbody tr th {\n        vertical-align: top;\n    }\n\n    .dataframe thead th {\n        text-align: right;\n    }\n</style>\n<table border=\"1\" class=\"dataframe\">\n  <thead>\n    <tr style=\"text-align: right;\">\n      <th></th>\n      <th>nombre</th>\n      <th>edad</th>\n    </tr>\n  </thead>\n  <tbody>\n    <tr>\n      <th>0</th>\n      <td>Juan</td>\n      <td>25</td>\n    </tr>\n    <tr>\n      <th>1</th>\n      <td>Ana</td>\n      <td>18</td>\n    </tr>\n    <tr>\n      <th>2</th>\n      <td>Jose</td>\n      <td>23</td>\n    </tr>\n    <tr>\n      <th>3</th>\n      <td>Arturo</td>\n      <td>27</td>\n    </tr>\n    <tr>\n      <th>4</th>\n      <td>Maria</td>\n      <td>18</td>\n    </tr>\n    <tr>\n      <th>5</th>\n      <td>Julio</td>\n      <td>24</td>\n    </tr>\n  </tbody>\n</table>\n</div>"
     },
     "execution_count": 4,
     "metadata": {},
     "output_type": "execute_result"
    }
   ],
   "source": [
    "df = df.drop('ciudad', axis=1)\n",
    "df"
   ],
   "metadata": {
    "collapsed": false,
    "ExecuteTime": {
     "end_time": "2023-08-08T13:38:02.254768900Z",
     "start_time": "2023-08-08T13:38:02.230766600Z"
    }
   },
   "id": "cd1123976fba2d13"
  },
  {
   "cell_type": "markdown",
   "source": [
    "### Eliminar varias columnas si guardar en el dataframe"
   ],
   "metadata": {
    "collapsed": false
   },
   "id": "9f0f1ba467f222f8"
  },
  {
   "cell_type": "code",
   "execution_count": 8,
   "outputs": [
    {
     "data": {
      "text/plain": "   nombre  edad     ciudad\n0    Juan    25     Madrid\n1     Ana    18  Barcelona\n2    Jose    23    Sevilla\n3  Arturo    27   Valencia\n4   Maria    18   Zaragoza\n5   Julio    24     Bilbao",
      "text/html": "<div>\n<style scoped>\n    .dataframe tbody tr th:only-of-type {\n        vertical-align: middle;\n    }\n\n    .dataframe tbody tr th {\n        vertical-align: top;\n    }\n\n    .dataframe thead th {\n        text-align: right;\n    }\n</style>\n<table border=\"1\" class=\"dataframe\">\n  <thead>\n    <tr style=\"text-align: right;\">\n      <th></th>\n      <th>nombre</th>\n      <th>edad</th>\n      <th>ciudad</th>\n    </tr>\n  </thead>\n  <tbody>\n    <tr>\n      <th>0</th>\n      <td>Juan</td>\n      <td>25</td>\n      <td>Madrid</td>\n    </tr>\n    <tr>\n      <th>1</th>\n      <td>Ana</td>\n      <td>18</td>\n      <td>Barcelona</td>\n    </tr>\n    <tr>\n      <th>2</th>\n      <td>Jose</td>\n      <td>23</td>\n      <td>Sevilla</td>\n    </tr>\n    <tr>\n      <th>3</th>\n      <td>Arturo</td>\n      <td>27</td>\n      <td>Valencia</td>\n    </tr>\n    <tr>\n      <th>4</th>\n      <td>Maria</td>\n      <td>18</td>\n      <td>Zaragoza</td>\n    </tr>\n    <tr>\n      <th>5</th>\n      <td>Julio</td>\n      <td>24</td>\n      <td>Bilbao</td>\n    </tr>\n  </tbody>\n</table>\n</div>"
     },
     "execution_count": 8,
     "metadata": {},
     "output_type": "execute_result"
    }
   ],
   "source": [
    "df.drop(['edad', 'ciudad'], axis=1)\n",
    "df"
   ],
   "metadata": {
    "collapsed": false,
    "ExecuteTime": {
     "end_time": "2023-08-08T13:38:23.774532500Z",
     "start_time": "2023-08-08T13:38:23.742413200Z"
    }
   },
   "id": "52c700f719b407bd"
  },
  {
   "cell_type": "markdown",
   "source": [
    "### Mostrar un ejemplo al azar"
   ],
   "metadata": {
    "collapsed": false
   },
   "id": "967a264633c7f16"
  },
  {
   "cell_type": "code",
   "execution_count": 9,
   "outputs": [
    {
     "data": {
      "text/plain": "  nombre  edad    ciudad\n0   Juan    25    Madrid\n5  Julio    24    Bilbao\n4  Maria    18  Zaragoza",
      "text/html": "<div>\n<style scoped>\n    .dataframe tbody tr th:only-of-type {\n        vertical-align: middle;\n    }\n\n    .dataframe tbody tr th {\n        vertical-align: top;\n    }\n\n    .dataframe thead th {\n        text-align: right;\n    }\n</style>\n<table border=\"1\" class=\"dataframe\">\n  <thead>\n    <tr style=\"text-align: right;\">\n      <th></th>\n      <th>nombre</th>\n      <th>edad</th>\n      <th>ciudad</th>\n    </tr>\n  </thead>\n  <tbody>\n    <tr>\n      <th>0</th>\n      <td>Juan</td>\n      <td>25</td>\n      <td>Madrid</td>\n    </tr>\n    <tr>\n      <th>5</th>\n      <td>Julio</td>\n      <td>24</td>\n      <td>Bilbao</td>\n    </tr>\n    <tr>\n      <th>4</th>\n      <td>Maria</td>\n      <td>18</td>\n      <td>Zaragoza</td>\n    </tr>\n  </tbody>\n</table>\n</div>"
     },
     "execution_count": 9,
     "metadata": {},
     "output_type": "execute_result"
    }
   ],
   "source": [
    "df_aleatorio = df.sample(3)\n",
    "df_aleatorio"
   ],
   "metadata": {
    "collapsed": false,
    "ExecuteTime": {
     "end_time": "2023-08-08T13:38:27.014348Z",
     "start_time": "2023-08-08T13:38:26.987688200Z"
    }
   },
   "id": "79579c49bb9140de"
  },
  {
   "cell_type": "code",
   "execution_count": 10,
   "outputs": [
    {
     "data": {
      "text/plain": "  nombre  edad    ciudad\n0   Juan    25    Madrid\n4  Maria    18  Zaragoza\n5  Julio    24    Bilbao",
      "text/html": "<div>\n<style scoped>\n    .dataframe tbody tr th:only-of-type {\n        vertical-align: middle;\n    }\n\n    .dataframe tbody tr th {\n        vertical-align: top;\n    }\n\n    .dataframe thead th {\n        text-align: right;\n    }\n</style>\n<table border=\"1\" class=\"dataframe\">\n  <thead>\n    <tr style=\"text-align: right;\">\n      <th></th>\n      <th>nombre</th>\n      <th>edad</th>\n      <th>ciudad</th>\n    </tr>\n  </thead>\n  <tbody>\n    <tr>\n      <th>0</th>\n      <td>Juan</td>\n      <td>25</td>\n      <td>Madrid</td>\n    </tr>\n    <tr>\n      <th>4</th>\n      <td>Maria</td>\n      <td>18</td>\n      <td>Zaragoza</td>\n    </tr>\n    <tr>\n      <th>5</th>\n      <td>Julio</td>\n      <td>24</td>\n      <td>Bilbao</td>\n    </tr>\n  </tbody>\n</table>\n</div>"
     },
     "execution_count": 10,
     "metadata": {},
     "output_type": "execute_result"
    }
   ],
   "source": [
    "df_aleatorio.sort_index()"
   ],
   "metadata": {
    "collapsed": false,
    "ExecuteTime": {
     "end_time": "2023-08-08T13:38:27.612241300Z",
     "start_time": "2023-08-08T13:38:27.584692700Z"
    }
   },
   "id": "60e58dc437cbbaa4"
  },
  {
   "cell_type": "code",
   "execution_count": 11,
   "outputs": [
    {
     "data": {
      "text/plain": "  nombre  edad    ciudad\n5  Julio    24    Bilbao\n4  Maria    18  Zaragoza\n0   Juan    25    Madrid",
      "text/html": "<div>\n<style scoped>\n    .dataframe tbody tr th:only-of-type {\n        vertical-align: middle;\n    }\n\n    .dataframe tbody tr th {\n        vertical-align: top;\n    }\n\n    .dataframe thead th {\n        text-align: right;\n    }\n</style>\n<table border=\"1\" class=\"dataframe\">\n  <thead>\n    <tr style=\"text-align: right;\">\n      <th></th>\n      <th>nombre</th>\n      <th>edad</th>\n      <th>ciudad</th>\n    </tr>\n  </thead>\n  <tbody>\n    <tr>\n      <th>5</th>\n      <td>Julio</td>\n      <td>24</td>\n      <td>Bilbao</td>\n    </tr>\n    <tr>\n      <th>4</th>\n      <td>Maria</td>\n      <td>18</td>\n      <td>Zaragoza</td>\n    </tr>\n    <tr>\n      <th>0</th>\n      <td>Juan</td>\n      <td>25</td>\n      <td>Madrid</td>\n    </tr>\n  </tbody>\n</table>\n</div>"
     },
     "execution_count": 11,
     "metadata": {},
     "output_type": "execute_result"
    }
   ],
   "source": [
    "df_aleatorio.sort_index(ascending=False)"
   ],
   "metadata": {
    "collapsed": false,
    "ExecuteTime": {
     "end_time": "2023-08-08T13:38:28.016571400Z",
     "start_time": "2023-08-08T13:38:27.987890500Z"
    }
   },
   "id": "d92cc08a260416da"
  },
  {
   "cell_type": "code",
   "execution_count": 12,
   "outputs": [
    {
     "data": {
      "text/plain": "  nombre  edad    ciudad\n0   Juan    25    Madrid\n5  Julio    24    Bilbao\n4  Maria    18  Zaragoza",
      "text/html": "<div>\n<style scoped>\n    .dataframe tbody tr th:only-of-type {\n        vertical-align: middle;\n    }\n\n    .dataframe tbody tr th {\n        vertical-align: top;\n    }\n\n    .dataframe thead th {\n        text-align: right;\n    }\n</style>\n<table border=\"1\" class=\"dataframe\">\n  <thead>\n    <tr style=\"text-align: right;\">\n      <th></th>\n      <th>nombre</th>\n      <th>edad</th>\n      <th>ciudad</th>\n    </tr>\n  </thead>\n  <tbody>\n    <tr>\n      <th>0</th>\n      <td>Juan</td>\n      <td>25</td>\n      <td>Madrid</td>\n    </tr>\n    <tr>\n      <th>5</th>\n      <td>Julio</td>\n      <td>24</td>\n      <td>Bilbao</td>\n    </tr>\n    <tr>\n      <th>4</th>\n      <td>Maria</td>\n      <td>18</td>\n      <td>Zaragoza</td>\n    </tr>\n  </tbody>\n</table>\n</div>"
     },
     "execution_count": 12,
     "metadata": {},
     "output_type": "execute_result"
    }
   ],
   "source": [
    "df_aleatorio.sort_values('nombre')"
   ],
   "metadata": {
    "collapsed": false,
    "ExecuteTime": {
     "end_time": "2023-08-08T13:38:28.554949Z",
     "start_time": "2023-08-08T13:38:28.507057700Z"
    }
   },
   "id": "9fcbb459f38fed73"
  },
  {
   "cell_type": "code",
   "execution_count": 13,
   "outputs": [
    {
     "data": {
      "text/plain": "  nombre  edad    ciudad\n4  Maria    18  Zaragoza\n5  Julio    24    Bilbao\n0   Juan    25    Madrid",
      "text/html": "<div>\n<style scoped>\n    .dataframe tbody tr th:only-of-type {\n        vertical-align: middle;\n    }\n\n    .dataframe tbody tr th {\n        vertical-align: top;\n    }\n\n    .dataframe thead th {\n        text-align: right;\n    }\n</style>\n<table border=\"1\" class=\"dataframe\">\n  <thead>\n    <tr style=\"text-align: right;\">\n      <th></th>\n      <th>nombre</th>\n      <th>edad</th>\n      <th>ciudad</th>\n    </tr>\n  </thead>\n  <tbody>\n    <tr>\n      <th>4</th>\n      <td>Maria</td>\n      <td>18</td>\n      <td>Zaragoza</td>\n    </tr>\n    <tr>\n      <th>5</th>\n      <td>Julio</td>\n      <td>24</td>\n      <td>Bilbao</td>\n    </tr>\n    <tr>\n      <th>0</th>\n      <td>Juan</td>\n      <td>25</td>\n      <td>Madrid</td>\n    </tr>\n  </tbody>\n</table>\n</div>"
     },
     "execution_count": 13,
     "metadata": {},
     "output_type": "execute_result"
    }
   ],
   "source": [
    "df_aleatorio.sort_values('nombre', ascending=False)"
   ],
   "metadata": {
    "collapsed": false,
    "ExecuteTime": {
     "end_time": "2023-08-08T13:38:29.649155400Z",
     "start_time": "2023-08-08T13:38:29.640510200Z"
    }
   },
   "id": "3dbe2ae21091aa06"
  },
  {
   "cell_type": "markdown",
   "source": [
    "### Asignar rango a las entradas"
   ],
   "metadata": {
    "collapsed": false
   },
   "id": "59179dbf40e9e4df"
  },
  {
   "cell_type": "code",
   "execution_count": 14,
   "outputs": [
    {
     "data": {
      "text/plain": "   nombre  edad     ciudad\n0    Juan    25     Madrid\n1     Ana    18  Barcelona\n2    Jose    23    Sevilla\n3  Arturo    27   Valencia\n4   Maria    18   Zaragoza\n5   Julio    24     Bilbao",
      "text/html": "<div>\n<style scoped>\n    .dataframe tbody tr th:only-of-type {\n        vertical-align: middle;\n    }\n\n    .dataframe tbody tr th {\n        vertical-align: top;\n    }\n\n    .dataframe thead th {\n        text-align: right;\n    }\n</style>\n<table border=\"1\" class=\"dataframe\">\n  <thead>\n    <tr style=\"text-align: right;\">\n      <th></th>\n      <th>nombre</th>\n      <th>edad</th>\n      <th>ciudad</th>\n    </tr>\n  </thead>\n  <tbody>\n    <tr>\n      <th>0</th>\n      <td>Juan</td>\n      <td>25</td>\n      <td>Madrid</td>\n    </tr>\n    <tr>\n      <th>1</th>\n      <td>Ana</td>\n      <td>18</td>\n      <td>Barcelona</td>\n    </tr>\n    <tr>\n      <th>2</th>\n      <td>Jose</td>\n      <td>23</td>\n      <td>Sevilla</td>\n    </tr>\n    <tr>\n      <th>3</th>\n      <td>Arturo</td>\n      <td>27</td>\n      <td>Valencia</td>\n    </tr>\n    <tr>\n      <th>4</th>\n      <td>Maria</td>\n      <td>18</td>\n      <td>Zaragoza</td>\n    </tr>\n    <tr>\n      <th>5</th>\n      <td>Julio</td>\n      <td>24</td>\n      <td>Bilbao</td>\n    </tr>\n  </tbody>\n</table>\n</div>"
     },
     "execution_count": 14,
     "metadata": {},
     "output_type": "execute_result"
    }
   ],
   "source": [
    "df"
   ],
   "metadata": {
    "collapsed": false,
    "ExecuteTime": {
     "end_time": "2023-08-08T13:38:46.812842700Z",
     "start_time": "2023-08-08T13:38:46.758445900Z"
    }
   },
   "id": "363f8f202606b888"
  },
  {
   "cell_type": "code",
   "execution_count": 15,
   "outputs": [
    {
     "data": {
      "text/plain": "   nombre  edad  ciudad\n0     4.0   5.0     3.0\n1     1.0   1.5     1.0\n2     3.0   3.0     4.0\n3     2.0   6.0     5.0\n4     6.0   1.5     6.0\n5     5.0   4.0     2.0",
      "text/html": "<div>\n<style scoped>\n    .dataframe tbody tr th:only-of-type {\n        vertical-align: middle;\n    }\n\n    .dataframe tbody tr th {\n        vertical-align: top;\n    }\n\n    .dataframe thead th {\n        text-align: right;\n    }\n</style>\n<table border=\"1\" class=\"dataframe\">\n  <thead>\n    <tr style=\"text-align: right;\">\n      <th></th>\n      <th>nombre</th>\n      <th>edad</th>\n      <th>ciudad</th>\n    </tr>\n  </thead>\n  <tbody>\n    <tr>\n      <th>0</th>\n      <td>4.0</td>\n      <td>5.0</td>\n      <td>3.0</td>\n    </tr>\n    <tr>\n      <th>1</th>\n      <td>1.0</td>\n      <td>1.5</td>\n      <td>1.0</td>\n    </tr>\n    <tr>\n      <th>2</th>\n      <td>3.0</td>\n      <td>3.0</td>\n      <td>4.0</td>\n    </tr>\n    <tr>\n      <th>3</th>\n      <td>2.0</td>\n      <td>6.0</td>\n      <td>5.0</td>\n    </tr>\n    <tr>\n      <th>4</th>\n      <td>6.0</td>\n      <td>1.5</td>\n      <td>6.0</td>\n    </tr>\n    <tr>\n      <th>5</th>\n      <td>5.0</td>\n      <td>4.0</td>\n      <td>2.0</td>\n    </tr>\n  </tbody>\n</table>\n</div>"
     },
     "execution_count": 15,
     "metadata": {},
     "output_type": "execute_result"
    }
   ],
   "source": [
    "df.rank()"
   ],
   "metadata": {
    "collapsed": false,
    "ExecuteTime": {
     "end_time": "2023-08-08T13:38:54.236663200Z",
     "start_time": "2023-08-08T13:38:54.164243Z"
    }
   },
   "id": "da08d6113560eda5"
  },
  {
   "cell_type": "code",
   "execution_count": 16,
   "outputs": [
    {
     "data": {
      "text/plain": "   nombre  edad  ciudad\n0     3.0   2.0     4.0\n1     6.0   5.5     6.0\n2     4.0   4.0     3.0\n3     5.0   1.0     2.0\n4     1.0   5.5     1.0\n5     2.0   3.0     5.0",
      "text/html": "<div>\n<style scoped>\n    .dataframe tbody tr th:only-of-type {\n        vertical-align: middle;\n    }\n\n    .dataframe tbody tr th {\n        vertical-align: top;\n    }\n\n    .dataframe thead th {\n        text-align: right;\n    }\n</style>\n<table border=\"1\" class=\"dataframe\">\n  <thead>\n    <tr style=\"text-align: right;\">\n      <th></th>\n      <th>nombre</th>\n      <th>edad</th>\n      <th>ciudad</th>\n    </tr>\n  </thead>\n  <tbody>\n    <tr>\n      <th>0</th>\n      <td>3.0</td>\n      <td>2.0</td>\n      <td>4.0</td>\n    </tr>\n    <tr>\n      <th>1</th>\n      <td>6.0</td>\n      <td>5.5</td>\n      <td>6.0</td>\n    </tr>\n    <tr>\n      <th>2</th>\n      <td>4.0</td>\n      <td>4.0</td>\n      <td>3.0</td>\n    </tr>\n    <tr>\n      <th>3</th>\n      <td>5.0</td>\n      <td>1.0</td>\n      <td>2.0</td>\n    </tr>\n    <tr>\n      <th>4</th>\n      <td>1.0</td>\n      <td>5.5</td>\n      <td>1.0</td>\n    </tr>\n    <tr>\n      <th>5</th>\n      <td>2.0</td>\n      <td>3.0</td>\n      <td>5.0</td>\n    </tr>\n  </tbody>\n</table>\n</div>"
     },
     "execution_count": 16,
     "metadata": {},
     "output_type": "execute_result"
    }
   ],
   "source": [
    "df.rank(ascending=False)"
   ],
   "metadata": {
    "collapsed": false,
    "ExecuteTime": {
     "end_time": "2023-08-08T13:39:18.816894200Z",
     "start_time": "2023-08-08T13:39:18.742018600Z"
    }
   },
   "id": "1fb236d3126f5637"
  },
  {
   "cell_type": "code",
   "execution_count": 17,
   "outputs": [
    {
     "data": {
      "text/plain": "   nombre  edad  ciudad\n0     4.0   5.0     3.0\n1     1.0   2.0     1.0\n2     3.0   3.0     4.0\n3     2.0   6.0     5.0\n4     6.0   2.0     6.0\n5     5.0   4.0     2.0",
      "text/html": "<div>\n<style scoped>\n    .dataframe tbody tr th:only-of-type {\n        vertical-align: middle;\n    }\n\n    .dataframe tbody tr th {\n        vertical-align: top;\n    }\n\n    .dataframe thead th {\n        text-align: right;\n    }\n</style>\n<table border=\"1\" class=\"dataframe\">\n  <thead>\n    <tr style=\"text-align: right;\">\n      <th></th>\n      <th>nombre</th>\n      <th>edad</th>\n      <th>ciudad</th>\n    </tr>\n  </thead>\n  <tbody>\n    <tr>\n      <th>0</th>\n      <td>4.0</td>\n      <td>5.0</td>\n      <td>3.0</td>\n    </tr>\n    <tr>\n      <th>1</th>\n      <td>1.0</td>\n      <td>2.0</td>\n      <td>1.0</td>\n    </tr>\n    <tr>\n      <th>2</th>\n      <td>3.0</td>\n      <td>3.0</td>\n      <td>4.0</td>\n    </tr>\n    <tr>\n      <th>3</th>\n      <td>2.0</td>\n      <td>6.0</td>\n      <td>5.0</td>\n    </tr>\n    <tr>\n      <th>4</th>\n      <td>6.0</td>\n      <td>2.0</td>\n      <td>6.0</td>\n    </tr>\n    <tr>\n      <th>5</th>\n      <td>5.0</td>\n      <td>4.0</td>\n      <td>2.0</td>\n    </tr>\n  </tbody>\n</table>\n</div>"
     },
     "execution_count": 17,
     "metadata": {},
     "output_type": "execute_result"
    }
   ],
   "source": [
    "df.rank(method='max')"
   ],
   "metadata": {
    "collapsed": false,
    "ExecuteTime": {
     "end_time": "2023-08-08T13:41:24.830770500Z",
     "start_time": "2023-08-08T13:41:24.718385500Z"
    }
   },
   "id": "8e425f44184e5dff"
  }
 ],
 "metadata": {
  "kernelspec": {
   "display_name": "Python 3",
   "language": "python",
   "name": "python3"
  },
  "language_info": {
   "codemirror_mode": {
    "name": "ipython",
    "version": 2
   },
   "file_extension": ".py",
   "mimetype": "text/x-python",
   "name": "python",
   "nbconvert_exporter": "python",
   "pygments_lexer": "ipython2",
   "version": "2.7.6"
  }
 },
 "nbformat": 4,
 "nbformat_minor": 5
}
