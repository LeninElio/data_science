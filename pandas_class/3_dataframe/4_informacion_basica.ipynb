{
 "cells": [
  {
   "cell_type": "code",
   "execution_count": 1,
   "id": "initial_id",
   "metadata": {
    "collapsed": true,
    "ExecuteTime": {
     "end_time": "2023-08-08T14:49:47.823113800Z",
     "start_time": "2023-08-08T14:49:47.416077100Z"
    }
   },
   "outputs": [],
   "source": [
    "import pandas as pd"
   ]
  },
  {
   "cell_type": "code",
   "execution_count": 3,
   "outputs": [
    {
     "data": {
      "text/plain": "       id first_name   last_name                      email  gender  languaje\n0       1      Pavel     Roberts        proberts0@hexun.com    Male       NaN\n1       2    Heywood    Delgardo    hdelgardo1@examiner.com    Male   Burmese\n2       3    Gaspard       Keher            gkeher2@icq.com    Male   Amharic\n3       4     Edgard      Kesten       ekesten3@pcworld.com    Male       NaN\n4       5    Padraig         Wey          pwey4@arizona.edu    Male  Croatian\n..    ...        ...         ...                        ...     ...       ...\n995   996      Lanie  McIlherran    lmcilherranrn@alexa.com    Male    Korean\n996   997       Wash    Frossell  wfrossellro@cafepress.com    Male   Dhivehi\n997   998     Marijn     O'Gavin     mogavinrp@linkedin.com    Male     Azeri\n998   999   Quintina   Sherbrook       qsherbrookrq@last.fm  Female   Finnish\n999  1000  Francklyn    Jacobsen        fjacobsenrr@php.net    Male     Swati\n\n[1000 rows x 6 columns]",
      "text/html": "<div>\n<style scoped>\n    .dataframe tbody tr th:only-of-type {\n        vertical-align: middle;\n    }\n\n    .dataframe tbody tr th {\n        vertical-align: top;\n    }\n\n    .dataframe thead th {\n        text-align: right;\n    }\n</style>\n<table border=\"1\" class=\"dataframe\">\n  <thead>\n    <tr style=\"text-align: right;\">\n      <th></th>\n      <th>id</th>\n      <th>first_name</th>\n      <th>last_name</th>\n      <th>email</th>\n      <th>gender</th>\n      <th>languaje</th>\n    </tr>\n  </thead>\n  <tbody>\n    <tr>\n      <th>0</th>\n      <td>1</td>\n      <td>Pavel</td>\n      <td>Roberts</td>\n      <td>proberts0@hexun.com</td>\n      <td>Male</td>\n      <td>NaN</td>\n    </tr>\n    <tr>\n      <th>1</th>\n      <td>2</td>\n      <td>Heywood</td>\n      <td>Delgardo</td>\n      <td>hdelgardo1@examiner.com</td>\n      <td>Male</td>\n      <td>Burmese</td>\n    </tr>\n    <tr>\n      <th>2</th>\n      <td>3</td>\n      <td>Gaspard</td>\n      <td>Keher</td>\n      <td>gkeher2@icq.com</td>\n      <td>Male</td>\n      <td>Amharic</td>\n    </tr>\n    <tr>\n      <th>3</th>\n      <td>4</td>\n      <td>Edgard</td>\n      <td>Kesten</td>\n      <td>ekesten3@pcworld.com</td>\n      <td>Male</td>\n      <td>NaN</td>\n    </tr>\n    <tr>\n      <th>4</th>\n      <td>5</td>\n      <td>Padraig</td>\n      <td>Wey</td>\n      <td>pwey4@arizona.edu</td>\n      <td>Male</td>\n      <td>Croatian</td>\n    </tr>\n    <tr>\n      <th>...</th>\n      <td>...</td>\n      <td>...</td>\n      <td>...</td>\n      <td>...</td>\n      <td>...</td>\n      <td>...</td>\n    </tr>\n    <tr>\n      <th>995</th>\n      <td>996</td>\n      <td>Lanie</td>\n      <td>McIlherran</td>\n      <td>lmcilherranrn@alexa.com</td>\n      <td>Male</td>\n      <td>Korean</td>\n    </tr>\n    <tr>\n      <th>996</th>\n      <td>997</td>\n      <td>Wash</td>\n      <td>Frossell</td>\n      <td>wfrossellro@cafepress.com</td>\n      <td>Male</td>\n      <td>Dhivehi</td>\n    </tr>\n    <tr>\n      <th>997</th>\n      <td>998</td>\n      <td>Marijn</td>\n      <td>O'Gavin</td>\n      <td>mogavinrp@linkedin.com</td>\n      <td>Male</td>\n      <td>Azeri</td>\n    </tr>\n    <tr>\n      <th>998</th>\n      <td>999</td>\n      <td>Quintina</td>\n      <td>Sherbrook</td>\n      <td>qsherbrookrq@last.fm</td>\n      <td>Female</td>\n      <td>Finnish</td>\n    </tr>\n    <tr>\n      <th>999</th>\n      <td>1000</td>\n      <td>Francklyn</td>\n      <td>Jacobsen</td>\n      <td>fjacobsenrr@php.net</td>\n      <td>Male</td>\n      <td>Swati</td>\n    </tr>\n  </tbody>\n</table>\n<p>1000 rows × 6 columns</p>\n</div>"
     },
     "execution_count": 3,
     "metadata": {},
     "output_type": "execute_result"
    }
   ],
   "source": [
    "df = pd.read_csv('../data/personal_data.csv')\n",
    "df"
   ],
   "metadata": {
    "collapsed": false,
    "ExecuteTime": {
     "end_time": "2023-08-08T14:50:04.239557900Z",
     "start_time": "2023-08-08T14:50:04.207886100Z"
    }
   },
   "id": "6f1299a9168e8e53"
  },
  {
   "cell_type": "markdown",
   "source": [
    "# Obtener información básica de un DataFrame"
   ],
   "metadata": {
    "collapsed": false
   },
   "id": "6126910c03ff4f57"
  },
  {
   "cell_type": "code",
   "execution_count": 5,
   "outputs": [
    {
     "data": {
      "text/plain": "(1000, 6)"
     },
     "execution_count": 5,
     "metadata": {},
     "output_type": "execute_result"
    }
   ],
   "source": [
    "# Numero de filas y columnas\n",
    "df.shape"
   ],
   "metadata": {
    "collapsed": false,
    "ExecuteTime": {
     "end_time": "2023-08-08T14:52:11.654961200Z",
     "start_time": "2023-08-08T14:52:11.642199600Z"
    }
   },
   "id": "6e26ce173ea016be"
  },
  {
   "cell_type": "code",
   "execution_count": 6,
   "outputs": [
    {
     "data": {
      "text/plain": "RangeIndex(start=0, stop=1000, step=1)"
     },
     "execution_count": 6,
     "metadata": {},
     "output_type": "execute_result"
    }
   ],
   "source": [
    "# Nos informa del indice\n",
    "df.index"
   ],
   "metadata": {
    "collapsed": false,
    "ExecuteTime": {
     "end_time": "2023-08-08T14:53:01.794047200Z",
     "start_time": "2023-08-08T14:53:01.775542700Z"
    }
   },
   "id": "31ed048d7097ffad"
  },
  {
   "cell_type": "code",
   "execution_count": 7,
   "outputs": [
    {
     "data": {
      "text/plain": "Index(['id', 'first_name', 'last_name', 'email', 'gender', 'languaje'], dtype='object')"
     },
     "execution_count": 7,
     "metadata": {},
     "output_type": "execute_result"
    }
   ],
   "source": [
    "# Nos informa de las columnas\n",
    "df.columns"
   ],
   "metadata": {
    "collapsed": false,
    "ExecuteTime": {
     "end_time": "2023-08-08T14:53:14.277032400Z",
     "start_time": "2023-08-08T14:53:14.260082600Z"
    }
   },
   "id": "1b0e5f5ed7b71322"
  },
  {
   "cell_type": "code",
   "execution_count": 8,
   "outputs": [
    {
     "data": {
      "text/plain": "id             int64\nfirst_name    object\nlast_name     object\nemail         object\ngender        object\nlanguaje      object\ndtype: object"
     },
     "execution_count": 8,
     "metadata": {},
     "output_type": "execute_result"
    }
   ],
   "source": [
    "# Nos informa de los tipos de datos de cada columna\n",
    "df.dtypes"
   ],
   "metadata": {
    "collapsed": false,
    "ExecuteTime": {
     "end_time": "2023-08-08T14:53:23.109463Z",
     "start_time": "2023-08-08T14:53:23.097915900Z"
    }
   },
   "id": "ef591c7a7796ec96"
  },
  {
   "cell_type": "code",
   "execution_count": 9,
   "outputs": [
    {
     "data": {
      "text/plain": "array(['Pavel', 'Heywood', 'Gaspard', 'Edgard', 'Padraig', 'Matthias',\n       'Marice', 'Shandeigh', 'Derward', 'Shayna', 'Launce', 'Woodman',\n       'Krystyna', 'Pauletta', 'Sheffield', 'Traver', 'Nedi', 'Fancie',\n       'Aurelie', 'Danila', 'Kristos', 'Lila', 'Tarra', 'Susie', 'Hilde',\n       'Dayna', 'Reynard', 'Westbrook', 'Natal', 'Linzy', 'Giustina',\n       'Jimmy', 'Dare', 'Barry', 'Giovanna', 'Ulrikaumeko', 'Dominique',\n       'Kenyon', 'Preston', 'Kip', 'Gradeigh', 'Gothart', 'Josephina',\n       'Roda', 'Rustie', 'Reeta', 'Rhianon', 'Bernadene', 'Evaleen',\n       'Chase', 'Samuele', 'Ruthie', 'Benny', 'Wylma', 'Bertrando',\n       'Aprilette', 'Cordula', 'Arman', 'Ardene', 'Patrice', 'Izabel',\n       'Kalindi', 'Carroll', 'Silas', 'Waylon', 'Phedra', 'Germana',\n       'Rubina', 'Aliza', 'Matilde', 'Liv', 'Norman', 'Clayborne',\n       'Cyril', 'Pamelina', 'Chadwick', 'Miles', 'Louis', 'Bald', 'Lindy',\n       'Bibi', 'Darby', 'Reynolds', 'Casper', 'Erin', 'Richmond',\n       'Reidar', 'Nedda', 'Chiquita', 'Berne', 'Tadio', 'Dacey', 'Ilise',\n       'Den', 'Etti', 'Mag', 'Dag', 'Row', 'Emelda', 'Keir', 'Alic',\n       'Camille', 'Bethena', 'Sissy', 'Kalie', 'Dion', 'Garnet', 'Rae',\n       'Currey', 'Alexei', 'Steffane', 'Torin', 'Ardyce', 'Vanna',\n       'Merline', 'Tibold', 'Jarid', 'Guglielma', 'Nikolia', 'Jennilee',\n       'Catlee', 'Melisent', 'Maxim', 'Joye', 'Rosabel', 'Jeremy',\n       'Helaine', 'Katherina', 'Milo', 'Berti', 'Barnard', 'Ardelle',\n       'Zedekiah', 'Vallie', 'Emma', 'Prinz', 'Blane', 'Shane', 'Suzann',\n       'Aila', 'Vladamir', 'Norbie', 'Vannie', 'Daisi', 'Krishnah',\n       'Stephana', 'Minette', 'Rory', 'Roobbie', 'Dudley', 'Roth',\n       'Krissy', 'Karim', 'Candi', 'Valeda', 'Cornie', 'Burk', 'Axe',\n       'Dell', 'Wat', 'Bella', 'Lauren', 'Maximo', 'Foster', 'Ealasaid',\n       'Gertrude', 'Jaine', 'Cammi', 'Alisander', 'Shadow', 'Jacinta',\n       'Thia', 'Marga', 'Adham', 'Emmalee', 'Olenka', 'Geralda', 'Fredia',\n       'Spenser', 'Neila', 'Syman', 'Phillipp', 'Jehanna', 'Eula',\n       'Karlyn', 'Terry', 'Davis', 'Anabella', 'Bertrand', 'Cleavland',\n       'Cazzie', 'Pincas', 'Maxwell', 'Maressa', 'Karney', 'Amil',\n       'Clarice', 'Earle', 'Guenevere', 'Andie', 'Coop', 'Grenville',\n       'Cloris', 'Willie', 'Andrea', 'Mayer', 'Latia', 'Arvie', 'Wini',\n       'Sarene', 'Rolf', 'Gabriele', 'Duky', 'Kial', 'Gaelan', 'Felipe',\n       'Lowe', 'Auria', 'Borg', 'Annabel', 'Annetta', 'Brittani',\n       'Frederik', 'Georgina', 'Lauraine', 'Hershel', 'Perceval',\n       'Laurice', 'Oliver', 'Magdalene', 'Alejandro', 'Chandler',\n       'Coleman', 'Kissiah', 'Paxton', 'Glen', 'Sallie', 'Robinet',\n       'Stephani', 'Wallie', 'Penny', 'Morena', 'Spense', 'Maddy',\n       'Arlee', 'Katleen', 'Eben', 'Iggie', 'Mahmoud', 'Wilfrid', 'Kris',\n       'Lizette', 'Kizzee', 'Rodina', 'Christopher', 'Kleon', 'Sibella',\n       'Read', 'Arnoldo', 'Carlina', 'Cori', 'Merna', 'Breanne', 'Ynez',\n       'Jenn', 'Esra', 'Salomi', 'Mirabel', 'Hoyt', 'Jacklin', 'Bendick',\n       'Kevan', 'Mitchel', 'Sandye', 'Miguela', 'Lazare', 'Marcille',\n       'Christyna', 'Lorelei', 'Lev', 'Myrah', 'Birdie', 'Kevon', 'Avram',\n       'Katlin', 'Taddeo', 'Paquito', 'Maryanna', 'Timothea', 'Milicent',\n       'Alexandro', 'Loraine', 'Cate', 'Joey', 'Brinna', 'Hewe', 'Tobin',\n       'Peadar', 'Brittne', 'Georges', 'Paxon', 'Augustus', 'Morty',\n       'Belle', 'Susann', 'Vernice', 'Katha', 'Francine', 'Augy',\n       'Ernesto', 'Konrad', 'Colin', 'Kerwinn', 'Lion', 'Fredra',\n       'Gianina', 'Benjie', 'Deana', 'Jakie', 'Geri', 'Eduardo', 'Uriel',\n       'Hyacinthie', 'Ilaire', 'Marcella', 'Janet', 'Helen', 'Arielle',\n       'Rita', 'Julieta', 'Deloris', 'Bernita', 'Darb', 'Ginevra', 'Chad',\n       'Xaviera', 'Brander', 'Elston', 'Freddie', 'Alika', 'Yuma',\n       'Brena', 'Fayina', 'Noam', 'Myrna', 'Gibbie', 'Wyndham', 'Arnold',\n       'Karisa', 'Florie', 'Nelia', 'Jeanie', 'Sawyere', 'Chen',\n       'Ambrosi', 'Eldridge', 'Tomas', 'Paloma', 'Geoffry', 'Paton',\n       'Araldo', 'Daryl', 'Kent', 'Clemmy', 'Leighton', 'Josefina',\n       'Othelia', 'Curran', 'Booth', 'Laina', 'Bancroft', 'Frank',\n       'Cathrin', 'Sam', 'Darice', 'Moll', 'Grant', 'Kristo', 'Clim',\n       'Sarena', 'Paddy', 'Kaile', 'Arlin', 'Missy', 'Lari', 'Farand',\n       'Robbert', 'Jamey', 'Noelani', 'Felizio', 'Alyse', 'Aili',\n       'Jamima', 'Wandis', 'Cilka', 'Zach', 'Jefferson', 'Murray',\n       'Eirena', 'Karil', 'Suzanne', 'Marijn', 'Mead', 'Lamont', 'Elke',\n       'Fannie', 'Marlin', 'Clio', 'Bria', 'Merell', 'Payton', 'Coletta',\n       'Terrijo', 'Loni', 'Faye', 'Guthrie', 'Archibold', 'Lyssa',\n       'Mathilda', 'Terrell', 'Eda', 'Lonnie', 'Mignon', 'Nataniel',\n       'Demott', 'Skelly', 'Mia', 'Michel', 'Zaneta', 'Celesta',\n       'Antonio', 'Darius', 'Addia', 'Maurits', 'Stephannie', 'Shoshanna',\n       'Sal', 'Nicoli', 'Darcee', 'Melodee', 'Kylie', 'Ulises',\n       'Christen', 'Leodora', 'Zonnya', 'Ewell', 'Lyon', 'Dacie',\n       'Leelah', 'Xavier', 'Hodge', 'Pat', 'Terri-jo', 'Jewell', 'Weidar',\n       'Shirleen', 'Dorrie', 'Quinn', 'Kore', 'Arleta', 'Marjy', 'Correy',\n       'Lydie', 'Red', 'Nevile', 'Pernell', 'Brooks', 'Cathyleen', 'Thor',\n       'Marilee', 'Tiffi', 'Alden', 'Jobey', 'Shaun', 'Patrizius',\n       'Jamill', 'Arline', 'Nomi', 'Blinny', 'Stinky', 'Sheffie', 'Toni',\n       'Eldredge', 'Park', 'Agace', 'Kassia', 'Vinni', 'Sonny', 'Baxter',\n       'Anton', 'Charlean', 'Skyler', 'Abbe', 'Alexandros', 'Duff',\n       'Travus', 'Efren', 'Valaree', 'Chrisy', 'Percival', 'Carter',\n       'Boyd', 'Teriann', 'Olga', 'Giselle', 'Tim', 'Clary', 'Doro',\n       'Dallon', 'Lorain', 'Leonerd', 'Grace', 'Osborne', 'Ingaberg',\n       'Jedidiah', 'Marietta', 'Sherwynd', 'Valeria', 'Patience',\n       'Delila', 'Janette', 'Anjela', 'Teddi', 'Carlin', 'Hew', 'Caril',\n       'Karlan', 'Miran', 'Clarance', 'Babbette', 'Miguelita', 'Rickie',\n       'Lida', 'Roddie', 'Kippie', 'Graehme', 'Basile', 'Celina', 'Neal',\n       'Gustave', 'Livia', 'Reinwald', 'Ezequiel', 'Deina', 'Byrle',\n       'Joshua', 'Lexie', 'Karlik', 'Nolly', 'Sheff', 'Pippo', 'Andrew',\n       'Allys', 'Steffi', 'Odessa', 'Selie', 'Mar', 'Arther', 'Angelica',\n       'Allayne', 'Waverly', 'Harry', 'Dulcie', 'Stacee', 'Millisent',\n       'Christie', 'Torre', 'Dorisa', 'Noelyn', 'Bradly', 'Hirsch',\n       'Maryanne', 'Bertram', 'Ester', 'Rodger', 'Tallou', 'Manuel',\n       'Ambrosio', 'Bevan', 'Kristoforo', 'Artemus', 'Isadora', 'Dela',\n       'Rudy', 'Nathan', 'Mort', 'Benyamin', 'Dian', 'Beverly', 'Sheela',\n       'Gabriella', 'Emmet', 'Damon', 'Sanders', 'Camey', 'Alisa', 'Egon',\n       'Gunilla', 'Antonius', 'Romola', 'Riccardo', 'Halsey', 'Alphonse',\n       'Cale', 'Balduin', 'Marketa', 'Bree', 'Susi', 'Rhett', 'Pattie',\n       'Hertha', 'Carrissa', 'Ami', 'Nahum', 'Eachelle', 'Sabina',\n       'Kaleb', 'Jennee', 'Joby', 'Danya', 'Brigit', 'Gretchen', 'Channa',\n       'Geoffrey', 'Norby', 'Fawn', 'Liesa', 'Venus', 'Ingmar',\n       'Roseanna', 'Novelia', 'Sheridan', 'Lezley', 'Roanne', 'Cybill',\n       'Jordan', 'Damien', 'Gunner', 'Giffer', 'Bendix', 'Franni',\n       'Miller', 'Aurilia', 'Klaus', 'Dew', 'Erwin', 'Lyndy', 'Clarke',\n       'Neils', 'Marybelle', 'Northrop', 'Fleming', 'Bjorn', 'Bernette',\n       'Malorie', 'Krystle', 'Wileen', 'Ede', 'Ardine', 'Maury',\n       'Sigfrid', 'Roseann', 'Loreen', 'Heinrik', 'Russell', 'Frederich',\n       'Trip', 'Franz', 'Mycah', 'Eddie', 'Karel', 'Evita', 'Nyssa',\n       'Woodrow', 'Poul', 'Hobey', 'Tammie', 'Ddene', 'Gabriela', 'Bern',\n       'Carie', 'Berke', 'Kristofor', 'Georgianna', 'Consolata', 'Deeann',\n       'Moreen', 'Hasheem', 'Gibb', 'Fons', 'Junie', 'Hastings',\n       'Penelope', 'Elinor', 'Denna', 'Ferris', 'Jolene', 'Matty',\n       'Datha', 'Freida', 'Eal', 'Gwenette', 'Lars', 'Cordie', 'Paco',\n       'Nappy', 'Bobette', 'Stephine', 'Maryellen', 'Jessie', 'Sigismond',\n       'Delphine', 'Adriaens', 'Willabella', 'Joline', 'Melvin',\n       'Madelene', 'Ignatius', 'Gabbie', 'Marlo', 'Angelico', 'Ally',\n       'Blakelee', 'Modestine', 'Inga', 'Zolly', 'Flem', 'Harwilll',\n       'Larina', 'Titus', 'Roxine', 'Bari', 'Faber', 'Essa', 'Milly',\n       'Windham', 'Tierney', 'Myer', 'Celka', 'Ronalda', 'Karon',\n       'Hadleigh', 'Tatiana', 'Vic', 'Joaquin', 'Papageno', 'Mei',\n       'Celestyna', 'Jozef', 'Jaquelyn', 'Ellette', 'Paige', 'Gabi',\n       'Rhodie', 'Bill', 'Manda', 'Grier', 'Sybyl', 'Rolfe', 'Edin',\n       'Jayme', 'Aigneis', 'Constance', 'Saundra', 'Teressa', 'Shamus',\n       'Reid', 'Sheree', 'Jermayne', 'Amargo', 'Ethel', 'Hagan', 'Layney',\n       'Berty', 'Andy', 'Meta', 'Tripp', 'Arlen', 'Langston', 'Anthea',\n       'Gerti', 'Anya', 'Minnie', 'Anthia', 'Tessa', 'Marve', 'Denys',\n       'Morris', 'Giavani', 'Annecorinne', 'Ricky', 'Ericka', 'Karry',\n       'Tanner', 'Ade', 'Edwin', 'Frances', 'Andre', 'Dulcea', 'Nichol',\n       'Nancie', 'Hilario', 'Archaimbaud', 'Lloyd', 'Ginny', 'Joelly',\n       'Yolande', 'Stevie', 'Karlotte', 'Bekki', 'Nikos', 'Gena', 'Deb',\n       'Guillemette', 'Kendricks', 'Bev', 'Sigvard', 'Casie', 'Bryan',\n       'Calli', 'Jeffrey', 'Lorry', 'Sherry', 'Simonne', 'Lonnard', 'Gus',\n       'Roselin', 'Des', 'Brendon', 'Margeaux', 'Natassia', 'Petronia',\n       'Juliana', 'Rebe', 'Shela', 'Massimo', 'Graham', 'Marty', 'Ree',\n       'Devlen', 'Fabe', 'Carlyle', 'Rudolfo', 'Bird', 'Cristionna',\n       'Adore', 'Alaster', 'Filmore', 'Jerri', 'Evanne', 'Leslie',\n       'Cullin', 'Debra', 'Stanislaus', 'Darrick', 'Jeannette', 'Rozele',\n       'Evelina', 'Belicia', 'Normy', 'Sarah', 'Rosanna', 'Andrej',\n       'Tove', 'Anica', 'Jammal', 'Fanchon', 'Daniela', 'Wilbur', 'Barb',\n       'Leif', 'Trix', 'Codie', 'Marinna', 'Corinna', 'Laird', 'Errick',\n       'Sax', 'Lambert', 'Lind', 'Cirillo', 'Jasmine', 'Tedra',\n       'Bartolemo', 'Alysa', 'Lesya', 'Dyanna', 'Carlie', 'Adela',\n       'Courtnay', 'Mathilde', 'Ritchie', 'Cherice', 'Grannie', 'Curr',\n       'Budd', 'Anna-diana', 'Matthiew', 'Roxanna', 'Lorrie', 'Thomasin',\n       'Delcine', 'Stacy', 'Birch', 'Baily', 'Ali', 'Ashia', 'Francis',\n       'Kory', 'Turner', 'Radcliffe', 'Prentice', 'Giorgia', 'Phyllys',\n       'Chelsy', 'Mason', 'Nowell', 'Shea', 'Carlo', 'Bran', 'Iona',\n       'Kendra', 'Krystalle', 'Gaile', 'Tannie', 'Tobias', 'Stillmann',\n       'Gaby', 'Leopold', 'Gilbertina', 'Cinnamon', 'Hillary', 'Jenilee',\n       'Lindie', 'Javier', 'Lulu', 'Chickie', 'Blake', 'Husein',\n       'L;urette', 'Dorie', 'Sallyanne', 'Grethel', 'Nadean', 'Angy',\n       'Odelinda', 'Pandora', 'Kalinda', 'Holden', 'Lanie', 'Wash',\n       'Quintina', 'Francklyn'], dtype=object)"
     },
     "execution_count": 9,
     "metadata": {},
     "output_type": "execute_result"
    }
   ],
   "source": [
    "# Nos informa de los valores únicos de una columna\n",
    "df['first_name'].unique()"
   ],
   "metadata": {
    "collapsed": false,
    "ExecuteTime": {
     "end_time": "2023-08-08T14:53:41.573849Z",
     "start_time": "2023-08-08T14:53:41.526459700Z"
    }
   },
   "id": "e7c3534c28054542"
  },
  {
   "cell_type": "code",
   "execution_count": 11,
   "outputs": [
    {
     "name": "stdout",
     "output_type": "stream",
     "text": [
      "<class 'pandas.core.frame.DataFrame'>\n",
      "RangeIndex: 1000 entries, 0 to 999\n",
      "Data columns (total 6 columns):\n",
      " #   Column      Non-Null Count  Dtype \n",
      "---  ------      --------------  ----- \n",
      " 0   id          1000 non-null   int64 \n",
      " 1   first_name  1000 non-null   object\n",
      " 2   last_name   1000 non-null   object\n",
      " 3   email       1000 non-null   object\n",
      " 4   gender      894 non-null    object\n",
      " 5   languaje    893 non-null    object\n",
      "dtypes: int64(1), object(5)\n",
      "memory usage: 47.0+ KB\n"
     ]
    }
   ],
   "source": [
    "# Nos da información\n",
    "df.info()"
   ],
   "metadata": {
    "collapsed": false,
    "ExecuteTime": {
     "end_time": "2023-08-08T14:54:40.674580400Z",
     "start_time": "2023-08-08T14:54:40.612483700Z"
    }
   },
   "id": "21b8432be7f84941"
  },
  {
   "cell_type": "code",
   "execution_count": 12,
   "outputs": [
    {
     "data": {
      "text/plain": "                id\ncount  1000.000000\nmean    500.500000\nstd     288.819436\nmin       1.000000\n25%     250.750000\n50%     500.500000\n75%     750.250000\nmax    1000.000000",
      "text/html": "<div>\n<style scoped>\n    .dataframe tbody tr th:only-of-type {\n        vertical-align: middle;\n    }\n\n    .dataframe tbody tr th {\n        vertical-align: top;\n    }\n\n    .dataframe thead th {\n        text-align: right;\n    }\n</style>\n<table border=\"1\" class=\"dataframe\">\n  <thead>\n    <tr style=\"text-align: right;\">\n      <th></th>\n      <th>id</th>\n    </tr>\n  </thead>\n  <tbody>\n    <tr>\n      <th>count</th>\n      <td>1000.000000</td>\n    </tr>\n    <tr>\n      <th>mean</th>\n      <td>500.500000</td>\n    </tr>\n    <tr>\n      <th>std</th>\n      <td>288.819436</td>\n    </tr>\n    <tr>\n      <th>min</th>\n      <td>1.000000</td>\n    </tr>\n    <tr>\n      <th>25%</th>\n      <td>250.750000</td>\n    </tr>\n    <tr>\n      <th>50%</th>\n      <td>500.500000</td>\n    </tr>\n    <tr>\n      <th>75%</th>\n      <td>750.250000</td>\n    </tr>\n    <tr>\n      <th>max</th>\n      <td>1000.000000</td>\n    </tr>\n  </tbody>\n</table>\n</div>"
     },
     "execution_count": 12,
     "metadata": {},
     "output_type": "execute_result"
    }
   ],
   "source": [
    "# Nos da información estadística de las columnas numéricas\n",
    "df.describe()"
   ],
   "metadata": {
    "collapsed": false,
    "ExecuteTime": {
     "end_time": "2023-08-08T14:54:57.857604800Z",
     "start_time": "2023-08-08T14:54:57.842707600Z"
    }
   },
   "id": "d151c7ad6241fa9"
  },
  {
   "cell_type": "code",
   "execution_count": 13,
   "outputs": [
    {
     "data": {
      "text/plain": "id            1000\nfirst_name    1000\nlast_name     1000\nemail         1000\ngender         894\nlanguaje       893\ndtype: int64"
     },
     "execution_count": 13,
     "metadata": {},
     "output_type": "execute_result"
    }
   ],
   "source": [
    "df.count()"
   ],
   "metadata": {
    "collapsed": false,
    "ExecuteTime": {
     "end_time": "2023-08-08T14:55:32.876738800Z",
     "start_time": "2023-08-08T14:55:32.852873200Z"
    }
   },
   "id": "d257f74845092b8b"
  },
  {
   "cell_type": "code",
   "execution_count": 17,
   "outputs": [
    {
     "data": {
      "text/plain": "500.5"
     },
     "execution_count": 17,
     "metadata": {},
     "output_type": "execute_result"
    }
   ],
   "source": [
    "df['id'].mean()"
   ],
   "metadata": {
    "collapsed": false,
    "ExecuteTime": {
     "end_time": "2023-08-08T15:19:21.078863Z",
     "start_time": "2023-08-08T15:19:21.058040800Z"
    }
   },
   "id": "8bcf5805e620719e"
  },
  {
   "cell_type": "code",
   "execution_count": null,
   "outputs": [],
   "source": [],
   "metadata": {
    "collapsed": false
   },
   "id": "991f15decdaa66a2"
  }
 ],
 "metadata": {
  "kernelspec": {
   "display_name": "Python 3",
   "language": "python",
   "name": "python3"
  },
  "language_info": {
   "codemirror_mode": {
    "name": "ipython",
    "version": 2
   },
   "file_extension": ".py",
   "mimetype": "text/x-python",
   "name": "python",
   "nbconvert_exporter": "python",
   "pygments_lexer": "ipython2",
   "version": "2.7.6"
  }
 },
 "nbformat": 4,
 "nbformat_minor": 5
}
