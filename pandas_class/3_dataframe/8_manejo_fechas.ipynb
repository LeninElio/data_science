{
 "cells": [
  {
   "cell_type": "code",
   "execution_count": 11,
   "id": "initial_id",
   "metadata": {
    "collapsed": true,
    "ExecuteTime": {
     "end_time": "2023-08-08T21:10:21.260632200Z",
     "start_time": "2023-08-08T21:10:21.246614300Z"
    }
   },
   "outputs": [],
   "source": [
    "import pandas as pd\n",
    "from datetime import date"
   ]
  },
  {
   "cell_type": "code",
   "execution_count": 12,
   "outputs": [
    {
     "data": {
      "text/plain": "       id first_name    last_name                     email  gender  \\\n0       1    Alfonso    Trunchion       atrunchion0@soup.io    Male   \n1       2    Maurise   Raubenheim       mraubenheim1@vk.com     NaN   \n2       3     Arnold       Walley      awalley2@tinypic.com    Male   \n3       4    Garland      Neiland         gneiland3@aol.com  Female   \n4       5   Humphrey      Carbett   hcarbett4@posterous.com    Male   \n..    ...        ...          ...                       ...     ...   \n995   996     Salomo  Groundwator     sgroundwatorrn@pen.io    Male   \n996   997     Rayner      Harling      rharlingro@sogou.com    Male   \n997   998       Mira      Maharry    mmaharryrp@comcast.net  Female   \n998   999   Cariotta    O'Shavlan  coshavlanrq@symantec.com  Female   \n999  1000       John       Aggett        jaggettrr@etsy.com    Male   \n\n           languaje    birthday  \n0         Hungarian  1993/07/09  \n1           Dhivehi  2004/11/05  \n2               NaN  1991/03/14  \n3      West Frisian  2001/11/28  \n4           Chinese  1994/11/13  \n..              ...         ...  \n995     Montenegrin  2002/12/01  \n996  Northern Sotho  1997/01/15  \n997          Nepali  1995/04/29  \n998        Japanese  1998/04/01  \n999       Hiri Motu  1997/01/05  \n\n[1000 rows x 7 columns]",
      "text/html": "<div>\n<style scoped>\n    .dataframe tbody tr th:only-of-type {\n        vertical-align: middle;\n    }\n\n    .dataframe tbody tr th {\n        vertical-align: top;\n    }\n\n    .dataframe thead th {\n        text-align: right;\n    }\n</style>\n<table border=\"1\" class=\"dataframe\">\n  <thead>\n    <tr style=\"text-align: right;\">\n      <th></th>\n      <th>id</th>\n      <th>first_name</th>\n      <th>last_name</th>\n      <th>email</th>\n      <th>gender</th>\n      <th>languaje</th>\n      <th>birthday</th>\n    </tr>\n  </thead>\n  <tbody>\n    <tr>\n      <th>0</th>\n      <td>1</td>\n      <td>Alfonso</td>\n      <td>Trunchion</td>\n      <td>atrunchion0@soup.io</td>\n      <td>Male</td>\n      <td>Hungarian</td>\n      <td>1993/07/09</td>\n    </tr>\n    <tr>\n      <th>1</th>\n      <td>2</td>\n      <td>Maurise</td>\n      <td>Raubenheim</td>\n      <td>mraubenheim1@vk.com</td>\n      <td>NaN</td>\n      <td>Dhivehi</td>\n      <td>2004/11/05</td>\n    </tr>\n    <tr>\n      <th>2</th>\n      <td>3</td>\n      <td>Arnold</td>\n      <td>Walley</td>\n      <td>awalley2@tinypic.com</td>\n      <td>Male</td>\n      <td>NaN</td>\n      <td>1991/03/14</td>\n    </tr>\n    <tr>\n      <th>3</th>\n      <td>4</td>\n      <td>Garland</td>\n      <td>Neiland</td>\n      <td>gneiland3@aol.com</td>\n      <td>Female</td>\n      <td>West Frisian</td>\n      <td>2001/11/28</td>\n    </tr>\n    <tr>\n      <th>4</th>\n      <td>5</td>\n      <td>Humphrey</td>\n      <td>Carbett</td>\n      <td>hcarbett4@posterous.com</td>\n      <td>Male</td>\n      <td>Chinese</td>\n      <td>1994/11/13</td>\n    </tr>\n    <tr>\n      <th>...</th>\n      <td>...</td>\n      <td>...</td>\n      <td>...</td>\n      <td>...</td>\n      <td>...</td>\n      <td>...</td>\n      <td>...</td>\n    </tr>\n    <tr>\n      <th>995</th>\n      <td>996</td>\n      <td>Salomo</td>\n      <td>Groundwator</td>\n      <td>sgroundwatorrn@pen.io</td>\n      <td>Male</td>\n      <td>Montenegrin</td>\n      <td>2002/12/01</td>\n    </tr>\n    <tr>\n      <th>996</th>\n      <td>997</td>\n      <td>Rayner</td>\n      <td>Harling</td>\n      <td>rharlingro@sogou.com</td>\n      <td>Male</td>\n      <td>Northern Sotho</td>\n      <td>1997/01/15</td>\n    </tr>\n    <tr>\n      <th>997</th>\n      <td>998</td>\n      <td>Mira</td>\n      <td>Maharry</td>\n      <td>mmaharryrp@comcast.net</td>\n      <td>Female</td>\n      <td>Nepali</td>\n      <td>1995/04/29</td>\n    </tr>\n    <tr>\n      <th>998</th>\n      <td>999</td>\n      <td>Cariotta</td>\n      <td>O'Shavlan</td>\n      <td>coshavlanrq@symantec.com</td>\n      <td>Female</td>\n      <td>Japanese</td>\n      <td>1998/04/01</td>\n    </tr>\n    <tr>\n      <th>999</th>\n      <td>1000</td>\n      <td>John</td>\n      <td>Aggett</td>\n      <td>jaggettrr@etsy.com</td>\n      <td>Male</td>\n      <td>Hiri Motu</td>\n      <td>1997/01/05</td>\n    </tr>\n  </tbody>\n</table>\n<p>1000 rows × 7 columns</p>\n</div>"
     },
     "execution_count": 12,
     "metadata": {},
     "output_type": "execute_result"
    }
   ],
   "source": [
    "df = pd.read_csv('../data/personal_data.csv')\n",
    "df"
   ],
   "metadata": {
    "collapsed": false,
    "ExecuteTime": {
     "end_time": "2023-08-08T21:10:21.894528800Z",
     "start_time": "2023-08-08T21:10:21.846437900Z"
    }
   },
   "id": "83a55fc6a838c232"
  },
  {
   "cell_type": "code",
   "execution_count": 13,
   "outputs": [
    {
     "data": {
      "text/plain": "datetime.date(2021, 1, 10)"
     },
     "execution_count": 13,
     "metadata": {},
     "output_type": "execute_result"
    }
   ],
   "source": [
    "mi_fecha = date(2021, 1, 10)\n",
    "mi_fecha"
   ],
   "metadata": {
    "collapsed": false,
    "ExecuteTime": {
     "end_time": "2023-08-08T21:10:24.013001700Z",
     "start_time": "2023-08-08T21:10:23.987587400Z"
    }
   },
   "id": "e00d18495b7d0234"
  },
  {
   "cell_type": "code",
   "execution_count": 14,
   "outputs": [
    {
     "data": {
      "text/plain": "1"
     },
     "execution_count": 14,
     "metadata": {},
     "output_type": "execute_result"
    }
   ],
   "source": [
    "mi_fecha.month"
   ],
   "metadata": {
    "collapsed": false,
    "ExecuteTime": {
     "end_time": "2023-08-08T21:10:24.909057800Z",
     "start_time": "2023-08-08T21:10:24.898577700Z"
    }
   },
   "id": "3ba0de96f1481165"
  },
  {
   "cell_type": "code",
   "execution_count": 15,
   "outputs": [
    {
     "data": {
      "text/plain": "datetime.date(2023, 8, 8)"
     },
     "execution_count": 15,
     "metadata": {},
     "output_type": "execute_result"
    }
   ],
   "source": [
    "date.today()"
   ],
   "metadata": {
    "collapsed": false,
    "ExecuteTime": {
     "end_time": "2023-08-08T21:10:25.609475700Z",
     "start_time": "2023-08-08T21:10:25.601056200Z"
    }
   },
   "id": "ee4454f021d2b7d3"
  },
  {
   "cell_type": "code",
   "execution_count": null,
   "outputs": [],
   "source": [],
   "metadata": {
    "collapsed": false
   },
   "id": "4ac698e2e7d4300a"
  }
 ],
 "metadata": {
  "kernelspec": {
   "display_name": "Python 3",
   "language": "python",
   "name": "python3"
  },
  "language_info": {
   "codemirror_mode": {
    "name": "ipython",
    "version": 2
   },
   "file_extension": ".py",
   "mimetype": "text/x-python",
   "name": "python",
   "nbconvert_exporter": "python",
   "pygments_lexer": "ipython2",
   "version": "2.7.6"
  }
 },
 "nbformat": 4,
 "nbformat_minor": 5
}
