{
 "cells": [
  {
   "cell_type": "markdown",
   "source": [
    "## Ejercicios del modulo II"
   ],
   "metadata": {
    "collapsed": false
   }
  },
  {
   "cell_type": "code",
   "execution_count": null,
   "metadata": {
    "collapsed": true
   },
   "outputs": [],
   "source": [
    "A = ('a','b','c')"
   ]
  },
  {
   "cell_type": "code",
   "execution_count": 1,
   "outputs": [],
   "source": [
    "Dict={\"A\": 1, \"B\": \"2\", \"C\": [3,3,3], \"D\": (4,4,4), 'E': 5, 'F': 6}"
   ],
   "metadata": {
    "collapsed": false,
    "ExecuteTime": {
     "end_time": "2023-06-20T22:18:06.843158900Z",
     "start_time": "2023-06-20T22:18:06.838189800Z"
    }
   }
  },
  {
   "cell_type": "code",
   "execution_count": 2,
   "outputs": [
    {
     "data": {
      "text/plain": "(4, 4, 4)"
     },
     "execution_count": 2,
     "metadata": {},
     "output_type": "execute_result"
    }
   ],
   "source": [
    "Dict['D']"
   ],
   "metadata": {
    "collapsed": false,
    "ExecuteTime": {
     "end_time": "2023-06-20T22:18:43.541803600Z",
     "start_time": "2023-06-20T22:18:43.538792300Z"
    }
   }
  },
  {
   "cell_type": "markdown",
   "source": [
    "## Ejercicios del modulo III"
   ],
   "metadata": {
    "collapsed": false
   }
  },
  {
   "cell_type": "code",
   "execution_count": 1,
   "outputs": [
    {
     "name": "stdout",
     "output_type": "stream",
     "text": [
      "Hi\n",
      "Mike\n"
     ]
    }
   ],
   "source": [
    "x = 1\n",
    "\n",
    "if x != 1:\n",
    "    print('Hello')\n",
    "else:\n",
    "    print('Hi')\n",
    "print('Mike')"
   ],
   "metadata": {
    "collapsed": false,
    "ExecuteTime": {
     "end_time": "2023-06-21T21:21:47.286628100Z",
     "start_time": "2023-06-21T21:21:47.261743700Z"
    }
   }
  }
 ],
 "metadata": {
  "kernelspec": {
   "display_name": "Python 3",
   "language": "python",
   "name": "python3"
  },
  "language_info": {
   "codemirror_mode": {
    "name": "ipython",
    "version": 2
   },
   "file_extension": ".py",
   "mimetype": "text/x-python",
   "name": "python",
   "nbconvert_exporter": "python",
   "pygments_lexer": "ipython2",
   "version": "2.7.6"
  }
 },
 "nbformat": 4,
 "nbformat_minor": 0
}
