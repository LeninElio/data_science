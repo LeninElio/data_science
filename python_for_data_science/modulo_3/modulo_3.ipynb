{
 "cells": [
  {
   "cell_type": "markdown",
   "source": [
    "# Condicionales"
   ],
   "metadata": {
    "collapsed": false
   }
  },
  {
   "cell_type": "code",
   "execution_count": 25,
   "outputs": [],
   "source": [
    "import matplotlib.pyplot as plt\n",
    "%matplotlib inline"
   ],
   "metadata": {
    "collapsed": false,
    "ExecuteTime": {
     "end_time": "2023-06-21T15:09:37.314351500Z",
     "start_time": "2023-06-21T15:09:36.655111900Z"
    }
   }
  },
  {
   "cell_type": "code",
   "execution_count": 1,
   "metadata": {
    "collapsed": true,
    "ExecuteTime": {
     "end_time": "2023-06-21T01:51:56.836611800Z",
     "start_time": "2023-06-21T01:51:56.824566700Z"
    }
   },
   "outputs": [
    {
     "name": "stdout",
     "output_type": "stream",
     "text": [
      "i es mayor que 5\n"
     ]
    }
   ],
   "source": [
    "i = 6\n",
    "if i > 5:\n",
    "    print(\"i es mayor que 5\")\n",
    "elif i == 5:\n",
    "    print(\"i es igual a 5\")\n",
    "else:\n",
    "    print(\"i es menor que 5\")"
   ]
  },
  {
   "cell_type": "code",
   "execution_count": 2,
   "outputs": [
    {
     "data": {
      "text/plain": "True"
     },
     "execution_count": 2,
     "metadata": {},
     "output_type": "execute_result"
    }
   ],
   "source": [
    "# Operadores lógicos\n",
    "i >= 5"
   ],
   "metadata": {
    "collapsed": false,
    "ExecuteTime": {
     "end_time": "2023-06-21T01:52:28.334590800Z",
     "start_time": "2023-06-21T01:52:28.330174700Z"
    }
   }
  },
  {
   "cell_type": "code",
   "execution_count": 3,
   "outputs": [
    {
     "data": {
      "text/plain": "False"
     },
     "execution_count": 3,
     "metadata": {},
     "output_type": "execute_result"
    }
   ],
   "source": [
    "i <= 5"
   ],
   "metadata": {
    "collapsed": false,
    "ExecuteTime": {
     "end_time": "2023-06-21T01:52:36.261926600Z",
     "start_time": "2023-06-21T01:52:36.258961100Z"
    }
   }
  },
  {
   "cell_type": "code",
   "execution_count": 4,
   "outputs": [
    {
     "data": {
      "text/plain": "True"
     },
     "execution_count": 4,
     "metadata": {},
     "output_type": "execute_result"
    }
   ],
   "source": [
    "i != 5"
   ],
   "metadata": {
    "collapsed": false,
    "ExecuteTime": {
     "end_time": "2023-06-21T01:52:40.871015800Z",
     "start_time": "2023-06-21T01:52:40.867980600Z"
    }
   }
  },
  {
   "cell_type": "code",
   "execution_count": 5,
   "outputs": [
    {
     "data": {
      "text/plain": "False"
     },
     "execution_count": 5,
     "metadata": {},
     "output_type": "execute_result"
    }
   ],
   "source": [
    "i == 5"
   ],
   "metadata": {
    "collapsed": false,
    "ExecuteTime": {
     "end_time": "2023-06-21T01:52:44.744049500Z",
     "start_time": "2023-06-21T01:52:44.741049900Z"
    }
   }
  },
  {
   "cell_type": "code",
   "execution_count": 7,
   "outputs": [
    {
     "data": {
      "text/plain": "True"
     },
     "execution_count": 7,
     "metadata": {},
     "output_type": "execute_result"
    }
   ],
   "source": [
    "5 < i < 10"
   ],
   "metadata": {
    "collapsed": false,
    "ExecuteTime": {
     "end_time": "2023-06-21T01:54:28.263176800Z",
     "start_time": "2023-06-21T01:54:28.259177Z"
    }
   }
  },
  {
   "cell_type": "markdown",
   "source": [
    "# Ramificaciones en condicionales"
   ],
   "metadata": {
    "collapsed": false
   }
  },
  {
   "cell_type": "code",
   "execution_count": 10,
   "outputs": [
    {
     "name": "stdout",
     "output_type": "stream",
     "text": [
      "Es menor de edad\n"
     ]
    }
   ],
   "source": [
    "edad = 15\n",
    "if edad >= 18:\n",
    "    print(\"Es mayor de edad\")\n",
    "else:\n",
    "    print(\"Es menor de edad\")"
   ],
   "metadata": {
    "collapsed": false,
    "ExecuteTime": {
     "end_time": "2023-06-21T01:55:31.950323Z",
     "start_time": "2023-06-21T01:55:31.945203300Z"
    }
   }
  },
  {
   "cell_type": "code",
   "execution_count": 11,
   "outputs": [],
   "source": [
    "# Operadores lógicos OR valores\n",
    "# V or V == V\n",
    "# V or F == V\n",
    "# F or V == V\n",
    "# F or F == F"
   ],
   "metadata": {
    "collapsed": false,
    "ExecuteTime": {
     "end_time": "2023-06-21T01:58:31.414613100Z",
     "start_time": "2023-06-21T01:58:31.410633Z"
    }
   }
  },
  {
   "cell_type": "code",
   "execution_count": 12,
   "outputs": [],
   "source": [
    "# Operadores lógicos AND valores\n",
    "# V and V == V\n",
    "# V and F == F\n",
    "# F and V == F\n",
    "# F and F == F"
   ],
   "metadata": {
    "collapsed": false,
    "ExecuteTime": {
     "end_time": "2023-06-21T01:59:43.173975300Z",
     "start_time": "2023-06-21T01:59:43.149820300Z"
    }
   }
  },
  {
   "cell_type": "code",
   "execution_count": 14,
   "outputs": [],
   "source": [
    "# Operadores lógicos NOT valores\n",
    "# not V == F\n",
    "# not F == V"
   ],
   "metadata": {
    "collapsed": false,
    "ExecuteTime": {
     "end_time": "2023-06-21T02:33:31.839147500Z",
     "start_time": "2023-06-21T02:33:31.835148700Z"
    }
   }
  },
  {
   "cell_type": "markdown",
   "source": [
    "# Bucles"
   ],
   "metadata": {
    "collapsed": false
   }
  },
  {
   "cell_type": "code",
   "execution_count": 18,
   "outputs": [
    {
     "data": {
      "text/plain": "range(10, 15)"
     },
     "execution_count": 18,
     "metadata": {},
     "output_type": "execute_result"
    }
   ],
   "source": [
    "data = range(10, 15)\n",
    "data"
   ],
   "metadata": {
    "collapsed": false,
    "ExecuteTime": {
     "end_time": "2023-06-21T02:35:31.995799300Z",
     "start_time": "2023-06-21T02:35:31.989348600Z"
    }
   }
  },
  {
   "cell_type": "code",
   "execution_count": 17,
   "outputs": [
    {
     "name": "stdout",
     "output_type": "stream",
     "text": [
      "10\n",
      "11\n",
      "12\n",
      "13\n",
      "14\n"
     ]
    }
   ],
   "source": [
    "for i in range(10, 15):\n",
    "    print(i)"
   ],
   "metadata": {
    "collapsed": false,
    "ExecuteTime": {
     "end_time": "2023-06-21T02:35:08.740931900Z",
     "start_time": "2023-06-21T02:35:08.734403800Z"
    }
   }
  },
  {
   "cell_type": "code",
   "execution_count": 22,
   "outputs": [
    {
     "name": "stdout",
     "output_type": "stream",
     "text": [
      "rojo\n",
      "verde\n",
      "azul\n",
      "amarillo\n"
     ]
    },
    {
     "data": {
      "text/plain": "['white', 'white', 'white', 'white']"
     },
     "execution_count": 22,
     "metadata": {},
     "output_type": "execute_result"
    }
   ],
   "source": [
    "colores = [\"rojo\", \"verde\", \"azul\", \"amarillo\"]\n",
    "for i in range(len(colores)):\n",
    "    print(colores[i])\n",
    "    colores[i] = 'white'\n",
    "colores"
   ],
   "metadata": {
    "collapsed": false,
    "ExecuteTime": {
     "end_time": "2023-06-21T02:39:21.325712200Z",
     "start_time": "2023-06-21T02:39:21.317324600Z"
    }
   }
  },
  {
   "cell_type": "code",
   "execution_count": 23,
   "outputs": [
    {
     "name": "stdout",
     "output_type": "stream",
     "text": [
      "0 white\n",
      "1 white\n",
      "2 white\n",
      "3 white\n"
     ]
    }
   ],
   "source": [
    "for i, color in enumerate(colores):\n",
    "    print(i, color)"
   ],
   "metadata": {
    "collapsed": false,
    "ExecuteTime": {
     "end_time": "2023-06-21T02:40:33.662044100Z",
     "start_time": "2023-06-21T02:40:33.656534200Z"
    }
   }
  },
  {
   "cell_type": "code",
   "execution_count": 26,
   "outputs": [
    {
     "data": {
      "text/plain": "['pino', 'roble', 'naranjo']"
     },
     "execution_count": 26,
     "metadata": {},
     "output_type": "execute_result"
    }
   ],
   "source": [
    "arboles = [\"pino\", \"roble\", \"naranjo\", \"manzano\"]\n",
    "guardado = []\n",
    "i = 0\n",
    "while arboles[i] != \"manzano\":\n",
    "    guardado.append(arboles[i])\n",
    "    i += 1\n",
    "\n",
    "guardado"
   ],
   "metadata": {
    "collapsed": false,
    "ExecuteTime": {
     "end_time": "2023-06-21T02:43:38.637245Z",
     "start_time": "2023-06-21T02:43:38.623444300Z"
    }
   }
  },
  {
   "cell_type": "code",
   "execution_count": 1,
   "outputs": [
    {
     "name": "stdout",
     "output_type": "stream",
     "text": [
      "10\n"
     ]
    }
   ],
   "source": [
    "def f(*x):\n",
    "    return sum(x)\n",
    "\n",
    "print(f(1, 2, 3, 4))\n"
   ],
   "metadata": {
    "collapsed": false,
    "ExecuteTime": {
     "end_time": "2023-06-21T13:04:17.660738600Z",
     "start_time": "2023-06-21T13:04:17.604726800Z"
    }
   }
  },
  {
   "cell_type": "markdown",
   "source": [
    "# Funciones"
   ],
   "metadata": {
    "collapsed": false
   }
  },
  {
   "cell_type": "code",
   "execution_count": 2,
   "outputs": [],
   "source": [
    "# Las funciones son bloques de código que se pueden ejecutar varias veces\n",
    "# fueron creados con el propocito de evitar la repetición de código\n",
    "# El nombre de una funcion debe ser descriptiva\n",
    "def suma(a, b):\n",
    "    \"\"\"\n",
    "    Esta función recibe dos números y devuelve la suma de ambos\n",
    "    \"\"\"\n",
    "    return a + b"
   ],
   "metadata": {
    "collapsed": false,
    "ExecuteTime": {
     "end_time": "2023-06-21T13:13:03.659290300Z",
     "start_time": "2023-06-21T13:13:03.639291500Z"
    }
   }
  },
  {
   "cell_type": "code",
   "execution_count": 3,
   "outputs": [
    {
     "data": {
      "text/plain": "5"
     },
     "execution_count": 3,
     "metadata": {},
     "output_type": "execute_result"
    }
   ],
   "source": [
    "suma(2, 3)"
   ],
   "metadata": {
    "collapsed": false,
    "ExecuteTime": {
     "end_time": "2023-06-21T13:13:08.336420400Z",
     "start_time": "2023-06-21T13:13:08.312265700Z"
    }
   }
  },
  {
   "cell_type": "code",
   "execution_count": 6,
   "outputs": [],
   "source": [
    "# args y kwargs en funciones\n",
    "# args y kwargs son argumentos que se pueden pasar a una función\n",
    "# args es una tupla de argumentos posicionales\n",
    "# kwargs es un diccionario de argumentos con nombre\n",
    "def f(*args, **kwargs):\n",
    "    print(args, type(args))\n",
    "    print(kwargs, type(kwargs))"
   ],
   "metadata": {
    "collapsed": false,
    "ExecuteTime": {
     "end_time": "2023-06-21T13:15:23.011553200Z",
     "start_time": "2023-06-21T13:15:23.002521800Z"
    }
   }
  },
  {
   "cell_type": "code",
   "execution_count": 7,
   "outputs": [
    {
     "name": "stdout",
     "output_type": "stream",
     "text": [
      "(1, 2, 3, 4, 5, 6, 7, 8, 9, 10) <class 'tuple'>\n",
      "{'a': 1, 'b': 2, 'c': 3} <class 'dict'>\n"
     ]
    }
   ],
   "source": [
    "f(1, 2, 3, 4, 5, 6, 7, 8, 9, 10, a=1, b=2, c=3)"
   ],
   "metadata": {
    "collapsed": false,
    "ExecuteTime": {
     "end_time": "2023-06-21T13:15:23.816013600Z",
     "start_time": "2023-06-21T13:15:23.805105200Z"
    }
   }
  },
  {
   "cell_type": "markdown",
   "source": [
    "# Clases y objetos"
   ],
   "metadata": {
    "collapsed": false
   }
  },
  {
   "cell_type": "code",
   "execution_count": 27,
   "outputs": [],
   "source": [
    "# Las clases son plantillas para crear objetos\n",
    "# Los objetos son instancias de una clase\n",
    "# Ejemplo de una clase llamada Círculo con diferentes atributos y métodos\n",
    "class Circulo:\n",
    "    \"\"\"\n",
    "    Esta clase representa un círculo\n",
    "    \"\"\"\n",
    "    def __init__(self, radio = 3, color = 'blue'):\n",
    "        self.radio = radio\n",
    "        self.pi = 3.1416\n",
    "        self.color = color\n",
    "\n",
    "    def area(self):\n",
    "        return self.pi * self.radio ** 2\n",
    "\n",
    "    def perimetro(self):\n",
    "        return 2 * self.pi * self.radio\n",
    "\n",
    "    def draw_circle(self):\n",
    "        plt.gca().add_patch(plt.Circle((0, 0), radius=self.radio, fc=self.color))\n",
    "        plt.axis('scaled')\n",
    "        plt.show()"
   ],
   "metadata": {
    "collapsed": false,
    "ExecuteTime": {
     "end_time": "2023-06-21T15:12:12.103689700Z",
     "start_time": "2023-06-21T15:12:12.088194700Z"
    }
   }
  },
  {
   "cell_type": "code",
   "execution_count": 28,
   "outputs": [
    {
     "data": {
      "text/plain": "5"
     },
     "execution_count": 28,
     "metadata": {},
     "output_type": "execute_result"
    }
   ],
   "source": [
    "circulo = Circulo(5, 'red')\n",
    "circulo.radio"
   ],
   "metadata": {
    "collapsed": false,
    "ExecuteTime": {
     "end_time": "2023-06-21T15:12:23.011410Z",
     "start_time": "2023-06-21T15:12:22.995116900Z"
    }
   }
  },
  {
   "cell_type": "code",
   "execution_count": 29,
   "outputs": [
    {
     "data": {
      "text/plain": "78.53999999999999"
     },
     "execution_count": 29,
     "metadata": {},
     "output_type": "execute_result"
    }
   ],
   "source": [
    "circulo.area()"
   ],
   "metadata": {
    "collapsed": false,
    "ExecuteTime": {
     "end_time": "2023-06-21T15:12:26.799653600Z",
     "start_time": "2023-06-21T15:12:26.773030300Z"
    }
   }
  },
  {
   "cell_type": "code",
   "execution_count": 30,
   "outputs": [
    {
     "data": {
      "text/plain": "31.416"
     },
     "execution_count": 30,
     "metadata": {},
     "output_type": "execute_result"
    }
   ],
   "source": [
    "circulo.perimetro()"
   ],
   "metadata": {
    "collapsed": false,
    "ExecuteTime": {
     "end_time": "2023-06-21T15:12:27.855449400Z",
     "start_time": "2023-06-21T15:12:27.841116600Z"
    }
   }
  },
  {
   "cell_type": "code",
   "execution_count": 31,
   "outputs": [
    {
     "data": {
      "text/plain": "<Figure size 640x480 with 1 Axes>",
      "image/png": "[encoded data removed]"
     },
     "metadata": {},
     "output_type": "display_data"
    }
   ],
   "source": [
    "circulo.draw_circle()"
   ],
   "metadata": {
    "collapsed": false,
    "ExecuteTime": {
     "end_time": "2023-06-21T15:12:31.512094700Z",
     "start_time": "2023-06-21T15:12:31.405151700Z"
    }
   }
  },
  {
   "cell_type": "code",
   "execution_count": 12,
   "outputs": [],
   "source": [
    "# En python 3 se puede crear una clase de la forma class Rectangulo(object): o class Rectangulo():\n",
    "# ambos son equivalentes, ya que todas las clases heredan de la clase object implícitamente\n",
    "class Rectangulo():\n",
    "    # Constructor\n",
    "    def __init__(self, base, altura):\n",
    "        self.base = base\n",
    "        self.altura = altura\n",
    "    # Métodos\n",
    "    def area(self):\n",
    "        return self.base * self.altura\n",
    "    # Métodos\n",
    "    def perimetro(self):\n",
    "        return 2 * self.base + 2 * self.altura\n",
    "    # Métodos especiales\n",
    "    def __str__(self):\n",
    "        return \"Rectángulo de base {} y altura {}\".format(self.base, self.altura)"
   ],
   "metadata": {
    "collapsed": false,
    "ExecuteTime": {
     "end_time": "2023-06-21T14:41:44.560188700Z",
     "start_time": "2023-06-21T14:41:44.542791100Z"
    }
   }
  },
  {
   "cell_type": "code",
   "execution_count": 13,
   "outputs": [],
   "source": [
    "rectangulo = Rectangulo(5, 10)"
   ],
   "metadata": {
    "collapsed": false,
    "ExecuteTime": {
     "end_time": "2023-06-21T14:42:30.398367300Z",
     "start_time": "2023-06-21T14:42:30.364811800Z"
    }
   }
  },
  {
   "cell_type": "code",
   "execution_count": 14,
   "outputs": [
    {
     "data": {
      "text/plain": "50"
     },
     "execution_count": 14,
     "metadata": {},
     "output_type": "execute_result"
    }
   ],
   "source": [
    "rectangulo.area()"
   ],
   "metadata": {
    "collapsed": false,
    "ExecuteTime": {
     "end_time": "2023-06-21T14:42:33.826038600Z",
     "start_time": "2023-06-21T14:42:33.796629500Z"
    }
   }
  },
  {
   "cell_type": "code",
   "execution_count": 15,
   "outputs": [
    {
     "data": {
      "text/plain": "30"
     },
     "execution_count": 15,
     "metadata": {},
     "output_type": "execute_result"
    }
   ],
   "source": [
    "rectangulo.perimetro()"
   ],
   "metadata": {
    "collapsed": false,
    "ExecuteTime": {
     "end_time": "2023-06-21T14:42:39.116100100Z",
     "start_time": "2023-06-21T14:42:39.082356800Z"
    }
   }
  },
  {
   "cell_type": "code",
   "execution_count": 16,
   "outputs": [
    {
     "name": "stdout",
     "output_type": "stream",
     "text": [
      "Rectángulo de base 5 y altura 10\n"
     ]
    }
   ],
   "source": [
    "print(rectangulo)"
   ],
   "metadata": {
    "collapsed": false,
    "ExecuteTime": {
     "end_time": "2023-06-21T14:42:43.515075700Z",
     "start_time": "2023-06-21T14:42:43.508908200Z"
    }
   }
  },
  {
   "cell_type": "code",
   "execution_count": 17,
   "outputs": [],
   "source": [
    "# Herencia\n",
    "# La herencia es una forma de crear una nueva clase a partir de una clase existente\n",
    "# La clase nueva hereda atributos y métodos de la clase existente\n",
    "# La clase existente se conoce como clase padre o superclase\n",
    "# La clase nueva se conoce como clase hija o subclase\n",
    "class Cuadrado(Rectangulo):\n",
    "    def __init__(self, lado):\n",
    "        super().__init__(lado, lado)\n",
    "\n",
    "    def __str__(self):\n",
    "        return \"Cuadrado de lado {}\".format(self.base)"
   ],
   "metadata": {
    "collapsed": false,
    "ExecuteTime": {
     "end_time": "2023-06-21T14:43:56.332910500Z",
     "start_time": "2023-06-21T14:43:56.305778600Z"
    }
   }
  },
  {
   "cell_type": "code",
   "execution_count": 18,
   "outputs": [],
   "source": [
    "cuadrado = Cuadrado(5)"
   ],
   "metadata": {
    "collapsed": false,
    "ExecuteTime": {
     "end_time": "2023-06-21T14:43:59.430754300Z",
     "start_time": "2023-06-21T14:43:59.379592900Z"
    }
   }
  },
  {
   "cell_type": "code",
   "execution_count": 19,
   "outputs": [
    {
     "data": {
      "text/plain": "25"
     },
     "execution_count": 19,
     "metadata": {},
     "output_type": "execute_result"
    }
   ],
   "source": [
    "cuadrado.area()"
   ],
   "metadata": {
    "collapsed": false,
    "ExecuteTime": {
     "end_time": "2023-06-21T14:44:02.681396500Z",
     "start_time": "2023-06-21T14:44:02.653142600Z"
    }
   }
  },
  {
   "cell_type": "code",
   "execution_count": 20,
   "outputs": [
    {
     "data": {
      "text/plain": "20"
     },
     "execution_count": 20,
     "metadata": {},
     "output_type": "execute_result"
    }
   ],
   "source": [
    "cuadrado.perimetro()"
   ],
   "metadata": {
    "collapsed": false,
    "ExecuteTime": {
     "end_time": "2023-06-21T14:44:05.197679500Z",
     "start_time": "2023-06-21T14:44:05.156491Z"
    }
   }
  },
  {
   "cell_type": "code",
   "execution_count": 21,
   "outputs": [
    {
     "name": "stdout",
     "output_type": "stream",
     "text": [
      "Cuadrado de lado 5\n"
     ]
    }
   ],
   "source": [
    "print(cuadrado)"
   ],
   "metadata": {
    "collapsed": false,
    "ExecuteTime": {
     "end_time": "2023-06-21T14:44:07.774575Z",
     "start_time": "2023-06-21T14:44:07.732107200Z"
    }
   }
  },
  {
   "cell_type": "code",
   "execution_count": 22,
   "outputs": [],
   "source": [
    "# Polimorfismo\n",
    "# El polimorfismo es la habilidad de tomar varias formas\n",
    "# En programación, el polimorfismo se refiere a la habilidad de tomar varias formas de un objeto\n",
    "# En Python, el polimorfismo se refiere a la habilidad de tomar varias formas de una función\n",
    "# Ejemplo de polimorfismo usando la clase rectangulo\n",
    "def area_figura(figura):\n",
    "    print(figura.area())"
   ],
   "metadata": {
    "collapsed": false,
    "ExecuteTime": {
     "end_time": "2023-06-21T14:45:02.293421Z",
     "start_time": "2023-06-21T14:45:02.273536Z"
    }
   }
  },
  {
   "cell_type": "code",
   "execution_count": 23,
   "outputs": [
    {
     "name": "stdout",
     "output_type": "stream",
     "text": [
      "50\n"
     ]
    }
   ],
   "source": [
    "area_figura(rectangulo)"
   ],
   "metadata": {
    "collapsed": false,
    "ExecuteTime": {
     "end_time": "2023-06-21T14:45:04.451552900Z",
     "start_time": "2023-06-21T14:45:04.421152600Z"
    }
   }
  },
  {
   "cell_type": "code",
   "execution_count": 24,
   "outputs": [
    {
     "name": "stdout",
     "output_type": "stream",
     "text": [
      "25\n"
     ]
    }
   ],
   "source": [
    "area_figura(cuadrado)"
   ],
   "metadata": {
    "collapsed": false,
    "ExecuteTime": {
     "end_time": "2023-06-21T14:45:09.369629500Z",
     "start_time": "2023-06-21T14:45:09.313967500Z"
    }
   }
  }
 ],
 "metadata": {
  "kernelspec": {
   "display_name": "Python 3",
   "language": "python",
   "name": "python3"
  },
  "language_info": {
   "codemirror_mode": {
    "name": "ipython",
    "version": 2
   },
   "file_extension": ".py",
   "mimetype": "text/x-python",
   "name": "python",
   "nbconvert_exporter": "python",
   "pygments_lexer": "ipython2",
   "version": "2.7.6"
  }
 },
 "nbformat": 4,
 "nbformat_minor": 0
}
