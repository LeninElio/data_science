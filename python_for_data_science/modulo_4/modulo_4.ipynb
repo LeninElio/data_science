{
 "cells": [
  {
   "cell_type": "markdown",
   "source": [
    "### Reading files with open\n",
    "### Writing files with open\n",
    "### Loading data with Pandas\n",
    "### Working with and Saving data with Pandas"
   ],
   "metadata": {
    "collapsed": false
   }
  },
  {
   "cell_type": "markdown",
   "source": [
    "# Leyendo archivos con open"
   ],
   "metadata": {
    "collapsed": false
   }
  },
  {
   "cell_type": "code",
   "execution_count": 3,
   "metadata": {
    "collapsed": true,
    "ExecuteTime": {
     "end_time": "2023-06-21T21:37:20.122274Z",
     "start_time": "2023-06-21T21:37:20.116720700Z"
    }
   },
   "outputs": [
    {
     "name": "stdout",
     "output_type": "stream",
     "text": [
      "Hola\n",
      ",Mundo\n",
      ",esta\n",
      ",es\n",
      ",otra\n",
      ",linea,"
     ]
    }
   ],
   "source": [
    "with open('../data/data.txt', 'r') as file:\n",
    "    lineas = file.readlines()\n",
    "    for linea in lineas:\n",
    "        print(linea)"
   ]
  },
  {
   "cell_type": "code",
   "execution_count": 5,
   "outputs": [
    {
     "data": {
      "text/plain": "('../data/Example1.txt', <http.client.HTTPMessage at 0x2a753c4dfd0>)"
     },
     "execution_count": 5,
     "metadata": {},
     "output_type": "execute_result"
    }
   ],
   "source": [
    "import urllib.request\n",
    "url = 'https://cf-courses-data.s3.us.cloud-object-storage.appdomain.cloud/IBMDeveloperSkillsNetwork-PY0101EN-SkillsNetwork/labs/Module%204/data/example1.txt'\n",
    "filename = '../data/Example1.txt'\n",
    "urllib.request.urlretrieve(url, filename)"
   ],
   "metadata": {
    "collapsed": false,
    "ExecuteTime": {
     "end_time": "2023-06-21T21:52:33.274281900Z",
     "start_time": "2023-06-21T21:52:32.059051900Z"
    }
   }
  },
  {
   "cell_type": "code",
   "execution_count": 11,
   "outputs": [],
   "source": [
    "with open('../data/data.txt', 'a') as file:\n",
    "    file.write('Linea 1')\n",
    "    file.write('Linea 2')"
   ],
   "metadata": {
    "collapsed": false,
    "ExecuteTime": {
     "end_time": "2023-06-21T22:14:32.788341900Z",
     "start_time": "2023-06-21T22:14:32.778714200Z"
    }
   }
  },
  {
   "cell_type": "code",
   "execution_count": 73,
   "outputs": [],
   "source": [
    "#Run this prior to starting the exercise\n",
    "from random import randint as rnd\n",
    "\n",
    "memReg = '../data/members.txt'\n",
    "exReg = '../data/inactive.txt'\n",
    "fee =('yes','no')\n",
    "\n",
    "def genFiles(current, old):\n",
    "    with open(current,'w+') as writefile:\n",
    "        writefile.write('Membership No  Date Joined  Active  \\n')\n",
    "        data = \"{:^13}  {:<11}  {:<6}\\n\"\n",
    "\n",
    "        for rowno in range(20):\n",
    "            date = str(rnd(2015,2020))+ '-' + str(rnd(1,12))+'-'+str(rnd(1,25))\n",
    "            writefile.write(data.format(rnd(10000,99999),date,fee[rnd(0,1)]))\n",
    "\n",
    "\n",
    "    with open(old,'w+') as writefile:\n",
    "        writefile.write('Membership No  Date Joined  Active  \\n')\n",
    "        data = \"{:^13}  {:<11}  {:<6}\\n\"\n",
    "        for rowno in range(3):\n",
    "            date = str(rnd(2015,2020))+ '-' + str(rnd(1,12))+'-'+str(rnd(1,25))\n",
    "            writefile.write(data.format(rnd(10000,99999),date,fee[1]))\n",
    "\n",
    "\n",
    "genFiles(memReg, exReg)"
   ],
   "metadata": {
    "collapsed": false,
    "ExecuteTime": {
     "end_time": "2023-06-22T02:39:39.145490400Z",
     "start_time": "2023-06-22T02:39:39.124646Z"
    }
   }
  },
  {
   "cell_type": "code",
   "execution_count": 74,
   "outputs": [],
   "source": [
    "'''\n",
    "The two arguments for this function are the files:\n",
    "- currentMem: File containing list of current members\n",
    "- exMem: File containing list of old members\n",
    "\n",
    "This function should remove all rows from currentMem containing 'no'\n",
    "in the 'Active' column and appends them to exMem.\n",
    "'''\n",
    "def cleanFiles(currentMem, exMem):\n",
    "    with open(currentMem, 'r') as current_mem:\n",
    "        titulo = current_mem.readline()\n",
    "        todos = current_mem.readlines()\n",
    "        miembros = [miembro for miembro in todos if miembro.split()[2] == 'yes']\n",
    "        no_miembros = [miembro for miembro in todos if miembro.split()[2] == 'no']\n",
    "\n",
    "    with open(currentMem, 'w') as current_mem:\n",
    "        current_mem.write(titulo)\n",
    "        for miembro in miembros:\n",
    "            current_mem.write(miembro)\n",
    "\n",
    "    with open(exMem, 'a') as ex_mem:\n",
    "        for miembro in no_miembros:\n",
    "            ex_mem.write(miembro)\n",
    "\n",
    "cleanFiles('../data/members.txt', '../data/inactive.txt')"
   ],
   "metadata": {
    "collapsed": false,
    "ExecuteTime": {
     "end_time": "2023-06-22T02:39:46.190045900Z",
     "start_time": "2023-06-22T02:39:46.183958700Z"
    }
   }
  },
  {
   "cell_type": "code",
   "execution_count": 76,
   "outputs": [
    {
     "name": "stdout",
     "output_type": "stream",
     "text": [
      "Active Members: \n",
      "\n",
      "\n",
      "Membership No  Date Joined  Active  \n",
      "    13056      2020-11-1    yes   \n",
      "    49352      2015-6-22    yes   \n",
      "    47736      2015-8-8     yes   \n",
      "    24299      2016-4-17    yes   \n",
      "    70968      2016-8-24    yes   \n",
      "    92331      2017-4-15    yes   \n",
      "    30068      2015-2-25    yes   \n",
      "    17211      2019-11-19   yes   \n",
      "    82925      2020-5-7     yes   \n",
      "    14370      2020-12-22   yes   \n",
      "    90697      2017-3-5     yes   \n",
      "    76347      2019-5-16    yes   \n",
      "\n",
      "Inactive Members: \n",
      "\n",
      "\n",
      "Membership No  Date Joined  Active  \n",
      "    67456      2015-9-18    no    \n",
      "    86220      2019-7-4     no    \n",
      "    30781      2019-11-18   no    \n",
      "    95539      2020-10-18   no    \n",
      "    95628      2018-1-8     no    \n",
      "    67098      2015-8-25    no    \n",
      "    18819      2020-2-18    no    \n",
      "    53276      2019-8-21    no    \n",
      "    58895      2017-6-18    no    \n",
      "    96235      2019-6-11    no    \n",
      "    38546      2015-9-11    no    \n",
      "\n"
     ]
    }
   ],
   "source": [
    "# The code below is to help you view the files.\n",
    "# Do not modify this code for this exercise.\n",
    "memReg = '../data/members.txt'\n",
    "exReg = '../data/inactive.txt'\n",
    "cleanFiles(memReg,exReg)\n",
    "\n",
    "headers = \"Membership No  Date Joined  Active  \\n\"\n",
    "with open(memReg,'r') as readFile:\n",
    "    print(\"Active Members: \\n\\n\")\n",
    "    print(readFile.read())\n",
    "\n",
    "with open(exReg,'r') as readFile:\n",
    "    print(\"Inactive Members: \\n\\n\")\n",
    "    print(readFile.read())\n"
   ],
   "metadata": {
    "collapsed": false,
    "ExecuteTime": {
     "end_time": "2023-06-22T02:40:12.892185Z",
     "start_time": "2023-06-22T02:40:12.853922600Z"
    }
   }
  },
  {
   "cell_type": "markdown",
   "source": [
    "# Pandas"
   ],
   "metadata": {
    "collapsed": false
   }
  },
  {
   "cell_type": "code",
   "execution_count": 3,
   "outputs": [],
   "source": [
    "import pandas as pd"
   ],
   "metadata": {
    "collapsed": false,
    "ExecuteTime": {
     "end_time": "2023-06-23T16:51:15.266288300Z",
     "start_time": "2023-06-23T16:51:11.239616200Z"
    }
   }
  },
  {
   "cell_type": "code",
   "execution_count": 4,
   "outputs": [
    {
     "data": {
      "text/plain": "     frutas  cantidad  precio     color     pais\n0   Plátano        10     2.3  amarillo   España\n1     Fresa         5     1.5      rojo  Francia\n2   Manzana         4     1.2     verde   Italia\n3   Naranja        12     4.5   naranja   España\n4  Arándano         6     3.4      azul  Francia",
      "text/html": "<div>\n<style scoped>\n    .dataframe tbody tr th:only-of-type {\n        vertical-align: middle;\n    }\n\n    .dataframe tbody tr th {\n        vertical-align: top;\n    }\n\n    .dataframe thead th {\n        text-align: right;\n    }\n</style>\n<table border=\"1\" class=\"dataframe\">\n  <thead>\n    <tr style=\"text-align: right;\">\n      <th></th>\n      <th>frutas</th>\n      <th>cantidad</th>\n      <th>precio</th>\n      <th>color</th>\n      <th>pais</th>\n    </tr>\n  </thead>\n  <tbody>\n    <tr>\n      <th>0</th>\n      <td>Plátano</td>\n      <td>10</td>\n      <td>2.3</td>\n      <td>amarillo</td>\n      <td>España</td>\n    </tr>\n    <tr>\n      <th>1</th>\n      <td>Fresa</td>\n      <td>5</td>\n      <td>1.5</td>\n      <td>rojo</td>\n      <td>Francia</td>\n    </tr>\n    <tr>\n      <th>2</th>\n      <td>Manzana</td>\n      <td>4</td>\n      <td>1.2</td>\n      <td>verde</td>\n      <td>Italia</td>\n    </tr>\n    <tr>\n      <th>3</th>\n      <td>Naranja</td>\n      <td>12</td>\n      <td>4.5</td>\n      <td>naranja</td>\n      <td>España</td>\n    </tr>\n    <tr>\n      <th>4</th>\n      <td>Arándano</td>\n      <td>6</td>\n      <td>3.4</td>\n      <td>azul</td>\n      <td>Francia</td>\n    </tr>\n  </tbody>\n</table>\n</div>"
     },
     "execution_count": 4,
     "metadata": {},
     "output_type": "execute_result"
    }
   ],
   "source": [
    "# Crear un dataframe a partir de un diccionario, simple\n",
    "diccionario = {\n",
    "    'frutas': ['Plátano', 'Fresa', 'Manzana', 'Naranja', 'Arándano'],\n",
    "    'cantidad': [10, 5, 4, 12, 6],\n",
    "    'precio': [2.3, 1.5, 1.2, 4.5, 3.4],\n",
    "    'color': ['amarillo', 'rojo', 'verde', 'naranja', 'azul'],\n",
    "    'pais': ['España', 'Francia', 'Italia', 'España', 'Francia']\n",
    "}\n",
    "df = pd.DataFrame(diccionario)\n",
    "df"
   ],
   "metadata": {
    "collapsed": false,
    "ExecuteTime": {
     "end_time": "2023-06-23T16:51:16.974851500Z",
     "start_time": "2023-06-23T16:51:16.944819900Z"
    }
   }
  },
  {
   "cell_type": "code",
   "execution_count": 5,
   "outputs": [
    {
     "data": {
      "text/plain": "0     Plátano\n1       Fresa\n2     Manzana\n3     Naranja\n4    Arándano\nName: frutas, dtype: object"
     },
     "execution_count": 5,
     "metadata": {},
     "output_type": "execute_result"
    }
   ],
   "source": [
    "# Visualizar un indice\n",
    "df['frutas']"
   ],
   "metadata": {
    "collapsed": false,
    "ExecuteTime": {
     "end_time": "2023-06-23T16:51:20.758416900Z",
     "start_time": "2023-06-23T16:51:20.743095800Z"
    }
   }
  },
  {
   "cell_type": "code",
   "execution_count": 6,
   "outputs": [
    {
     "data": {
      "text/plain": "     frutas  precio     pais\n0   Plátano     2.3   España\n1     Fresa     1.5  Francia\n2   Manzana     1.2   Italia\n3   Naranja     4.5   España\n4  Arándano     3.4  Francia",
      "text/html": "<div>\n<style scoped>\n    .dataframe tbody tr th:only-of-type {\n        vertical-align: middle;\n    }\n\n    .dataframe tbody tr th {\n        vertical-align: top;\n    }\n\n    .dataframe thead th {\n        text-align: right;\n    }\n</style>\n<table border=\"1\" class=\"dataframe\">\n  <thead>\n    <tr style=\"text-align: right;\">\n      <th></th>\n      <th>frutas</th>\n      <th>precio</th>\n      <th>pais</th>\n    </tr>\n  </thead>\n  <tbody>\n    <tr>\n      <th>0</th>\n      <td>Plátano</td>\n      <td>2.3</td>\n      <td>España</td>\n    </tr>\n    <tr>\n      <th>1</th>\n      <td>Fresa</td>\n      <td>1.5</td>\n      <td>Francia</td>\n    </tr>\n    <tr>\n      <th>2</th>\n      <td>Manzana</td>\n      <td>1.2</td>\n      <td>Italia</td>\n    </tr>\n    <tr>\n      <th>3</th>\n      <td>Naranja</td>\n      <td>4.5</td>\n      <td>España</td>\n    </tr>\n    <tr>\n      <th>4</th>\n      <td>Arándano</td>\n      <td>3.4</td>\n      <td>Francia</td>\n    </tr>\n  </tbody>\n</table>\n</div>"
     },
     "execution_count": 6,
     "metadata": {},
     "output_type": "execute_result"
    }
   ],
   "source": [
    "# Visualizar varios índices\n",
    "df[['frutas', 'precio', 'pais']]"
   ],
   "metadata": {
    "collapsed": false,
    "ExecuteTime": {
     "end_time": "2023-06-23T16:51:22.938332800Z",
     "start_time": "2023-06-23T16:51:22.924372800Z"
    }
   }
  },
  {
   "cell_type": "code",
   "execution_count": 90,
   "outputs": [],
   "source": [
    "df.to_csv('../data/frutas.csv')"
   ],
   "metadata": {
    "collapsed": false,
    "ExecuteTime": {
     "end_time": "2023-06-22T03:07:41.433910500Z",
     "start_time": "2023-06-22T03:07:41.413462600Z"
    }
   }
  },
  {
   "cell_type": "code",
   "execution_count": 7,
   "outputs": [
    {
     "data": {
      "text/plain": "'Fresa'"
     },
     "execution_count": 7,
     "metadata": {},
     "output_type": "execute_result"
    }
   ],
   "source": [
    "df.iloc[1, 0]"
   ],
   "metadata": {
    "collapsed": false,
    "ExecuteTime": {
     "end_time": "2023-06-23T16:51:29.182824800Z",
     "start_time": "2023-06-23T16:51:29.167522500Z"
    }
   }
  },
  {
   "cell_type": "code",
   "execution_count": 8,
   "outputs": [
    {
     "data": {
      "text/plain": "'Plátano'"
     },
     "execution_count": 8,
     "metadata": {},
     "output_type": "execute_result"
    }
   ],
   "source": [
    "df.loc[0, 'frutas']"
   ],
   "metadata": {
    "collapsed": false,
    "ExecuteTime": {
     "end_time": "2023-06-23T16:51:31.660205400Z",
     "start_time": "2023-06-23T16:51:31.648776Z"
    }
   }
  },
  {
   "cell_type": "code",
   "execution_count": 10,
   "outputs": [
    {
     "data": {
      "text/plain": "array(['España', 'Francia', 'Italia'], dtype=object)"
     },
     "execution_count": 10,
     "metadata": {},
     "output_type": "execute_result"
    }
   ],
   "source": [
    "df['pais'].unique()"
   ],
   "metadata": {
    "collapsed": false,
    "ExecuteTime": {
     "end_time": "2023-06-23T16:51:54.373978600Z",
     "start_time": "2023-06-23T16:51:54.361821600Z"
    }
   }
  },
  {
   "cell_type": "code",
   "execution_count": 11,
   "outputs": [
    {
     "data": {
      "text/plain": "0    False\n1     True\n2    False\n3    False\n4     True\nName: pais, dtype: bool"
     },
     "execution_count": 11,
     "metadata": {},
     "output_type": "execute_result"
    }
   ],
   "source": [
    "df['pais'] == 'Francia'"
   ],
   "metadata": {
    "collapsed": false,
    "ExecuteTime": {
     "end_time": "2023-06-23T16:53:43.680315700Z",
     "start_time": "2023-06-23T16:53:43.658316900Z"
    }
   }
  },
  {
   "cell_type": "code",
   "execution_count": 12,
   "outputs": [
    {
     "data": {
      "text/plain": "     frutas  cantidad  precio color     pais\n1     Fresa         5     1.5  rojo  Francia\n4  Arándano         6     3.4  azul  Francia",
      "text/html": "<div>\n<style scoped>\n    .dataframe tbody tr th:only-of-type {\n        vertical-align: middle;\n    }\n\n    .dataframe tbody tr th {\n        vertical-align: top;\n    }\n\n    .dataframe thead th {\n        text-align: right;\n    }\n</style>\n<table border=\"1\" class=\"dataframe\">\n  <thead>\n    <tr style=\"text-align: right;\">\n      <th></th>\n      <th>frutas</th>\n      <th>cantidad</th>\n      <th>precio</th>\n      <th>color</th>\n      <th>pais</th>\n    </tr>\n  </thead>\n  <tbody>\n    <tr>\n      <th>1</th>\n      <td>Fresa</td>\n      <td>5</td>\n      <td>1.5</td>\n      <td>rojo</td>\n      <td>Francia</td>\n    </tr>\n    <tr>\n      <th>4</th>\n      <td>Arándano</td>\n      <td>6</td>\n      <td>3.4</td>\n      <td>azul</td>\n      <td>Francia</td>\n    </tr>\n  </tbody>\n</table>\n</div>"
     },
     "execution_count": 12,
     "metadata": {},
     "output_type": "execute_result"
    }
   ],
   "source": [
    "francia = df[df['pais'] == 'Francia']\n",
    "francia"
   ],
   "metadata": {
    "collapsed": false,
    "ExecuteTime": {
     "end_time": "2023-06-23T16:54:27.644923400Z",
     "start_time": "2023-06-23T16:54:27.625657700Z"
    }
   }
  },
  {
   "cell_type": "code",
   "execution_count": 13,
   "outputs": [],
   "source": [
    "francia.to_csv('../data/francia.csv')"
   ],
   "metadata": {
    "collapsed": false,
    "ExecuteTime": {
     "end_time": "2023-06-23T16:55:00.455774600Z",
     "start_time": "2023-06-23T16:55:00.040985500Z"
    }
   }
  },
  {
   "cell_type": "code",
   "execution_count": null,
   "outputs": [],
   "source": [],
   "metadata": {
    "collapsed": false
   }
  }
 ],
 "metadata": {
  "kernelspec": {
   "display_name": "Python 3",
   "language": "python",
   "name": "python3"
  },
  "language_info": {
   "codemirror_mode": {
    "name": "ipython",
    "version": 2
   },
   "file_extension": ".py",
   "mimetype": "text/x-python",
   "name": "python",
   "nbconvert_exporter": "python",
   "pygments_lexer": "ipython2",
   "version": "2.7.6"
  }
 },
 "nbformat": 4,
 "nbformat_minor": 0
}
